{
 "cells": [
  {
   "cell_type": "code",
   "execution_count": 1,
   "id": "55a0b6fe",
   "metadata": {},
   "outputs": [],
   "source": [
    "from buildingmotif import BuildingMOTIF\n",
    "bm = BuildingMOTIF(\"sqlite://\") # in-memory instance\n",
    "from rdflib import Namespace, RDF\n",
    "from buildingmotif.dataclasses import Model, Library\n",
    "\n",
    "# create the namespace\n",
    "BLDG = Namespace('urn:bldg/')"
   ]
  },
  {
   "cell_type": "code",
   "execution_count": 2,
   "id": "07ce5a68",
   "metadata": {},
   "outputs": [
    {
     "name": "stderr",
     "output_type": "stream",
     "text": [
      "/Users/lazlopaul/Desktop/HPflex/Semantic_MPC_Interface/.venv/lib/python3.10/site-packages/pyshacl/extras/__init__.py:46: Warning: Extra \"js\" is not satisfied because requirement pyduktape2 is not installed.\n",
      "  warn(Warning(f\"Extra \\\"{extra_name}\\\" is not satisfied because requirement {req} is not installed.\"))\n"
     ]
    }
   ],
   "source": [
    "tmp = Library.load(directory = 'templates/brick-templates')"
   ]
  },
  {
   "cell_type": "code",
   "execution_count": 3,
   "id": "75a3c814",
   "metadata": {},
   "outputs": [
    {
     "data": {
      "text/plain": [
       "[[Template(_id=1, _name='hvac-zone', body=<Graph identifier=7de023bd-0f05-430b-ac70-ea7f577921ae (<class 'rdflib.graph.Graph'>)>, optional_args=['has-space'], _bm=<buildingmotif.building_motif.building_motif.BuildingMOTIF object at 0x113376950>),\n",
       "  Template(_id=2, _name='space', body=<Graph identifier=009a98f7-8a53-4db2-b610-1c9ce19003e7 (<class 'rdflib.graph.Graph'>)>, optional_args=[], _bm=<buildingmotif.building_motif.building_motif.BuildingMOTIF object at 0x113376950>),\n",
       "  Template(_id=3, _name='window', body=<Graph identifier=d5b57e40-d89f-4a00-869e-8b63605462dd (<class 'rdflib.graph.Graph'>)>, optional_args=[], _bm=<buildingmotif.building_motif.building_motif.BuildingMOTIF object at 0x113376950>),\n",
       "  Template(_id=4, _name='area', body=<Graph identifier=0bf901c4-4235-47fd-8340-693b3d8c5327 (<class 'rdflib.graph.Graph'>)>, optional_args=[], _bm=<buildingmotif.building_motif.building_motif.BuildingMOTIF object at 0x113376950>),\n",
       "  Template(_id=5, _name='tilt', body=<Graph identifier=e3f6b1c6-3780-46ea-994a-7315fdff842d (<class 'rdflib.graph.Graph'>)>, optional_args=[], _bm=<buildingmotif.building_motif.building_motif.BuildingMOTIF object at 0x113376950>),\n",
       "  Template(_id=6, _name='azimuth', body=<Graph identifier=cf9cca16-88eb-47ea-a6c6-73ead37cc4f0 (<class 'rdflib.graph.Graph'>)>, optional_args=[], _bm=<buildingmotif.building_motif.building_motif.BuildingMOTIF object at 0x113376950>),\n",
       "  Template(_id=7, _name='has-space', body=<Graph identifier=4e7cedce-0479-48b0-8fe7-1c07d5fe9717 (<class 'rdflib.graph.Graph'>)>, optional_args=[], _bm=<buildingmotif.building_motif.building_motif.BuildingMOTIF object at 0x113376950>),\n",
       "  Template(_id=8, _name='has-window', body=<Graph identifier=f37ccdf2-8ac8-4882-ad8e-6e56e7c16428 (<class 'rdflib.graph.Graph'>)>, optional_args=[], _bm=<buildingmotif.building_motif.building_motif.BuildingMOTIF object at 0x113376950>)]]"
      ]
     },
     "execution_count": 3,
     "metadata": {},
     "output_type": "execute_result"
    }
   ],
   "source": [
    "[tmp.get_templates()]"
   ]
  },
  {
   "cell_type": "code",
   "execution_count": 4,
   "id": "e33ce566",
   "metadata": {},
   "outputs": [],
   "source": [
    "zone = tmp.get_template_by_name('hvac-zone')"
   ]
  },
  {
   "cell_type": "code",
   "execution_count": 5,
   "id": "17024bac",
   "metadata": {},
   "outputs": [
    {
     "data": {
      "text/plain": [
       "{'name': rdflib.term.URIRef('urn:bldg/name'),\n",
       " 'target': rdflib.term.URIRef('urn:bldg/target')}"
      ]
     },
     "execution_count": 5,
     "metadata": {},
     "output_type": "execute_result"
    }
   ],
   "source": [
    "{p:BLDG[p] for p in zone.all_parameters}"
   ]
  },
  {
   "cell_type": "code",
   "execution_count": 19,
   "id": "5c1e1535",
   "metadata": {},
   "outputs": [],
   "source": [
    "_, graph = zone.inline_dependencies().fill(BLDG, include_optional=True)"
   ]
  },
  {
   "cell_type": "code",
   "execution_count": 20,
   "id": "c2a17034",
   "metadata": {},
   "outputs": [
    {
     "name": "stdout",
     "output_type": "stream",
     "text": [
      "@prefix brick: <https://brickschema.org/schema/Brick#> .\n",
      "\n",
      "<urn:bldg/name_67718ef8> a brick:HVAC_Zone ;\n",
      "    brick:hasPart <urn:bldg/target_b20bd502> .\n",
      "\n",
      "\n"
     ]
    }
   ],
   "source": [
    "print(graph.serialize(format = 'ttl'))"
   ]
  },
  {
   "cell_type": "code",
   "execution_count": null,
   "id": "497041c3",
   "metadata": {},
   "outputs": [],
   "source": []
  }
 ],
 "metadata": {
  "kernelspec": {
   "display_name": "creating-brick-model",
   "language": "python",
   "name": "python3"
  },
  "language_info": {
   "codemirror_mode": {
    "name": "ipython",
    "version": 3
   },
   "file_extension": ".py",
   "mimetype": "text/x-python",
   "name": "python",
   "nbconvert_exporter": "python",
   "pygments_lexer": "ipython3",
   "version": "3.10.0"
  }
 },
 "nbformat": 4,
 "nbformat_minor": 5
}
