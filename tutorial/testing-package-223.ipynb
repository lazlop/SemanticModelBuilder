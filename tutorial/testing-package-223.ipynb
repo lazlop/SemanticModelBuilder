{
 "cells": [
  {
   "cell_type": "code",
   "execution_count": 1,
   "metadata": {},
   "outputs": [],
   "source": [
    "import sys\n",
    "sys.path.insert(0, '..')\n",
    "from semantic_mpc_interface import (\n",
    "    ModelBuilder,\n",
    "    BuildingMetadataLoader,\n",
    "    add_points,\n",
    "    SurveyGenerator,\n",
    "    SurveyReader,\n",
    "    convert_units,\n",
    "    BrickToGrafana,\n",
    "    SHACLHandler\n",
    ")\n",
    "from buildingmotif.namespaces import BRICK, RDF\n",
    "from buildingmotif import BuildingMOTIF\n",
    "from buildingmotif.dataclasses import Library\n",
    "import csv\n",
    "from pyshacl.rdfutil import clone"
   ]
  },
  {
   "cell_type": "markdown",
   "metadata": {},
   "source": [
    "# Testing the Model Builder"
   ]
  },
  {
   "cell_type": "code",
   "execution_count": 2,
   "metadata": {},
   "outputs": [
    {
     "name": "stderr",
     "output_type": "stream",
     "text": [
      "/Users/lazlopaul/Desktop/HPflex/Semantic_MPC_Interface/.venv/lib/python3.10/site-packages/pyshacl/extras/__init__.py:46: Warning: Extra \"js\" is not satisfied because requirement pyduktape2 is not installed.\n",
      "  warn(Warning(f\"Extra \\\"{extra_name}\\\" is not satisfied because requirement {req} is not installed.\"))\n"
     ]
    }
   ],
   "source": [
    "builder = ModelBuilder(\n",
    "    site_id=\"test-site\",\n",
    "    ontology = 's223'\n",
    ")\n",
    "builder.add_site(\n",
    "    timezone=\"America/New_York\",\n",
    "    latitude=40.7128,\n",
    "    longitude=-74.0060,\n",
    "    noaa_station=\"KJFK\",\n",
    ")"
   ]
  },
  {
   "cell_type": "code",
   "execution_count": 3,
   "metadata": {},
   "outputs": [
    {
     "name": "stdout",
     "output_type": "stream",
     "text": [
      "@prefix bldg: <urn:hpflex/test-site#> .\n",
      "@prefix hpflex: <urn:hpflex#> .\n",
      "@prefix owl: <http://www.w3.org/2002/07/owl#> .\n",
      "@prefix quantitykind: <http://qudt.org/vocab/quantitykind/> .\n",
      "@prefix qudt: <http://qudt.org/schema/qudt/> .\n",
      "@prefix s223: <http://data.ashrae.org/standard223#> .\n",
      "@prefix unit: <http://qudt.org/vocab/unit/> .\n",
      "@prefix xsd: <http://www.w3.org/2001/XMLSchema#> .\n",
      "\n",
      "bldg: a owl:Ontology,\n",
      "        hpflex:Project .\n",
      "\n",
      "bldg:test-site a s223:PhysicalSpace,\n",
      "        hpflex:Site ;\n",
      "    s223:hasProperty bldg:test-site.latitude,\n",
      "        bldg:test-site.longitude,\n",
      "        bldg:test-site.noaastation,\n",
      "        bldg:test-site.timezone .\n",
      "\n",
      "bldg:test-site.latitude a s223:QuantifiableProperty,\n",
      "        hpflex:Latitude ;\n",
      "    s223:hasValue 4.07128e+01 ;\n",
      "    qudt:hasQuantityKind quantitykind:GeneralizedCoordinate ;\n",
      "    qudt:hasUnit unit:Degree .\n",
      "\n",
      "bldg:test-site.longitude a s223:QuantifiableProperty,\n",
      "        hpflex:Longitude ;\n",
      "    s223:hasValue -7.4006e+01 ;\n",
      "    qudt:hasQuantityKind quantitykind:GeneralizedCoordinate ;\n",
      "    qudt:hasUnit unit:Degree .\n",
      "\n",
      "bldg:test-site.noaastation a s223:EnumeratedProperty,\n",
      "        hpflex:NOAAStation ;\n",
      "    s223:hasValue \"KJFK\" .\n",
      "\n",
      "bldg:test-site.timezone a s223:EnumeratedProperty,\n",
      "        hpflex:Timezone ;\n",
      "    s223:hasValue \"America/New_York\" .\n",
      "\n",
      "\n"
     ]
    }
   ],
   "source": [
    "builder.graph.print()"
   ]
  },
  {
   "cell_type": "code",
   "execution_count": 4,
   "metadata": {},
   "outputs": [
    {
     "name": "stdout",
     "output_type": "stream",
     "text": [
      "Filling template parameters:  {'name-connection', 'name-target_cp', 'name-name_cp'}\n",
      "zone1\n",
      "Filling template parameters:  {'outlet_cp', 'inlet_cp', 'connection'}\n",
      "Filling template parameters:  {'name-connection', 'name-target_cp', 'name-name_cp'}\n",
      "zone2\n",
      "Filling template parameters:  {'outlet_cp', 'inlet_cp', 'connection'}\n"
     ]
    },
    {
     "name": "stderr",
     "output_type": "stream",
     "text": [
      "/Users/lazlopaul/Desktop/HPflex/Semantic_MPC_Interface/.venv/lib/python3.10/site-packages/buildingmotif/dataclasses/template.py:420: UserWarning: Parameters \"name-connection, name-target_cp, name-name_cp\" were not provided during evaluation\n",
      "  warnings.warn(\n",
      "/Users/lazlopaul/Desktop/HPflex/Semantic_MPC_Interface/.venv/lib/python3.10/site-packages/buildingmotif/dataclasses/template.py:420: UserWarning: Parameters \"outlet_cp, inlet_cp, connection\" were not provided during evaluation\n",
      "  warnings.warn(\n"
     ]
    }
   ],
   "source": [
    "builder.add_zone(\"zone1\")\n",
    "builder.add_window(\"window1\", \"zone1\", area_value=10.5, azimuth_value=180, tilt_value=30, unit = 'FT2')\n",
    "builder.add_thermostat(\"tstat1\", \"zone1\", stage_count=2, setpoint_deadband=1, tolerance=2, active=True, resolution = 1)\n",
    "builder.add_hvac(\"hvac1\", \"zone1\", cooling_capacity=5.0, heating_capacity=4.0, cooling_cop=3.5, heating_cop=3.0)\n",
    "builder.add_space(\"space1\", \"zone1\", area_value=50.0)\n",
    "\n",
    "builder.add_zone(\"zone2\")\n",
    "builder.add_window(\"window2\", \"zone2\", area_value=10.5, azimuth_value=180, tilt_value=30, unit = 'FT2')\n",
    "builder.add_thermostat(\"tstat2\", \"zone2\", stage_count=2, setpoint_deadband=1, tolerance=2, active=True, resolution =  1)\n",
    "builder.add_hvac(\"hvac2\", \"zone2\", cooling_capacity=5.0, heating_capacity=4.0, cooling_cop=3.5, heating_cop=3.0)\n",
    "builder.add_space(\"space2\", \"zone2\", area_value=50.0)"
   ]
  },
  {
   "cell_type": "code",
   "execution_count": 5,
   "metadata": {},
   "outputs": [],
   "source": [
    "with open('metadata-survey/s223-filled-out-easy-config/point_list.csv') as f:\n",
    "    point_list = csv.DictReader(f)\n",
    "    for row in point_list:\n",
    "        builder.add_point(row['point_name'], row['point_of'], row['point_template'], row['point_type'], row['ref_name'], row['ref_type'], row['unit'])"
   ]
  },
  {
   "cell_type": "code",
   "execution_count": 6,
   "metadata": {},
   "outputs": [],
   "source": [
    "builder.save_model(\"test-s223-model.ttl\")"
   ]
  },
  {
   "cell_type": "markdown",
   "metadata": {},
   "source": [
    "# Testing SHACL generation and validation "
   ]
  },
  {
   "cell_type": "code",
   "execution_count": 7,
   "metadata": {},
   "outputs": [],
   "source": [
    "og = clone.clone_graph(builder.model.graph)"
   ]
  },
  {
   "cell_type": "code",
   "execution_count": 8,
   "metadata": {},
   "outputs": [],
   "source": [
    "# Create handler\n",
    "handler = SHACLHandler()\n",
    "\n",
    "# Generate shapes\n",
    "shapes = handler.generate_shapes()\n",
    "\n",
    "# Save shapes\n",
    "handler.save_shapes('shapes.ttl')\n",
    "\n",
    "# Validate a model\n",
    "conforms, results_graph, results_text = handler.validate_model(builder.model.graph)\n",
    "\n",
    "builder.model.graph.serialize('test-s223-model-reasoned.ttl', format = 'ttl')\n",
    "if not conforms:\n",
    "    print(\"Validation failed:\")\n",
    "    print(results_text)"
   ]
  },
  {
   "cell_type": "code",
   "execution_count": 9,
   "metadata": {},
   "outputs": [
    {
     "name": "stdout",
     "output_type": "stream",
     "text": [
      "@prefix ns1: <urn:hpflex/shapes#> .\n",
      "\n",
      "<urn:hpflex/test-site#connection_2f3c91e6> a ns1:connection .\n",
      "\n",
      "<urn:hpflex/test-site#connection_fbb9b09e> a ns1:connection .\n",
      "\n",
      "<urn:hpflex/test-site#hvac1> a ns1:hp-rtu ;\n",
      "    ns1:air-connects-to <urn:hpflex/test-site#zone1> ;\n",
      "    ns1:has-point <urn:hpflex/test-site#hvac1_cooling_COP>,\n",
      "        <urn:hpflex/test-site#hvac1_cooling_capacity>,\n",
      "        <urn:hpflex/test-site#hvac1_heating_COP>,\n",
      "        <urn:hpflex/test-site#hvac1_heating_capacity> .\n",
      "\n",
      "<urn:hpflex/test-site#hvac2> a ns1:hp-rtu ;\n",
      "    ns1:air-connects-to <urn:hpflex/test-site#zone2> ;\n",
      "    ns1:has-point <urn:hpflex/test-site#hvac2_cooling_COP>,\n",
      "        <urn:hpflex/test-site#hvac2_cooling_capacity>,\n",
      "        <urn:hpflex/test-site#hvac2_heating_COP>,\n",
      "        <urn:hpflex/test-site#hvac2_heating_capacity> .\n",
      "\n",
      "<urn:hpflex/test-site#inlet_cp_e3e555e2> a ns1:air-inlet-connectionpoint .\n",
      "\n",
      "<urn:hpflex/test-site#inlet_cp_e3f060da> a ns1:air-inlet-connectionpoint .\n",
      "\n",
      "<urn:hpflex/test-site#name-connection_b0343154> a ns1:connection .\n",
      "\n",
      "<urn:hpflex/test-site#name-connection_c8ce2d00> a ns1:connection .\n",
      "\n",
      "<urn:hpflex/test-site#name-name_cp_0f06b7be> a ns1:air-bidirectional-connectionpoint .\n",
      "\n",
      "<urn:hpflex/test-site#name-name_cp_3162d0ae> a ns1:air-bidirectional-connectionpoint .\n",
      "\n",
      "<urn:hpflex/test-site#name-target_cp_076199f0> a ns1:air-bidirectional-connectionpoint .\n",
      "\n",
      "<urn:hpflex/test-site#name-target_cp_6d7b3da0> a ns1:air-bidirectional-connectionpoint .\n",
      "\n",
      "<urn:hpflex/test-site#outlet_cp_4ecf3a05> a ns1:air-outlet-connectionpoint .\n",
      "\n",
      "<urn:hpflex/test-site#outlet_cp_55b59950> a ns1:air-outlet-connectionpoint .\n",
      "\n",
      "<urn:hpflex/test-site#test-site> a ns1:site ;\n",
      "    ns1:has-point <urn:hpflex/test-site#test-site.latitude>,\n",
      "        <urn:hpflex/test-site#test-site.longitude>,\n",
      "        <urn:hpflex/test-site#test-site.noaastation>,\n",
      "        <urn:hpflex/test-site#test-site.timezone> .\n",
      "\n",
      "<urn:hpflex/test-site#tstat1> a ns1:tstat-static-properties ;\n",
      "    ns1:has-location <urn:hpflex/test-site#zone1> ;\n",
      "    ns1:has-point <urn:hpflex/test-site#tstat1_active>,\n",
      "        <urn:hpflex/test-site#tstat1_resolution>,\n",
      "        <urn:hpflex/test-site#tstat1_setpoint_deadband>,\n",
      "        <urn:hpflex/test-site#tstat1_stage_count>,\n",
      "        <urn:hpflex/test-site#tstat1_tolerance> .\n",
      "\n",
      "<urn:hpflex/test-site#tstat2> a ns1:tstat-static-properties ;\n",
      "    ns1:has-location <urn:hpflex/test-site#zone2> ;\n",
      "    ns1:has-point <urn:hpflex/test-site#tstat2_active>,\n",
      "        <urn:hpflex/test-site#tstat2_resolution>,\n",
      "        <urn:hpflex/test-site#tstat2_setpoint_deadband>,\n",
      "        <urn:hpflex/test-site#tstat2_stage_count>,\n",
      "        <urn:hpflex/test-site#tstat2_tolerance> .\n",
      "\n",
      "<urn:hpflex/test-site#hvac1_cooling_COP> a ns1:cooling-COP .\n",
      "\n",
      "<urn:hpflex/test-site#hvac1_cooling_capacity> a ns1:cooling-capacity .\n",
      "\n",
      "<urn:hpflex/test-site#hvac1_heating_COP> a ns1:heating-COP .\n",
      "\n",
      "<urn:hpflex/test-site#hvac1_heating_capacity> a ns1:heating-capacity .\n",
      "\n",
      "<urn:hpflex/test-site#hvac2_cooling_COP> a ns1:cooling-COP .\n",
      "\n",
      "<urn:hpflex/test-site#hvac2_cooling_capacity> a ns1:cooling-capacity .\n",
      "\n",
      "<urn:hpflex/test-site#hvac2_heating_COP> a ns1:heating-COP .\n",
      "\n",
      "<urn:hpflex/test-site#hvac2_heating_capacity> a ns1:heating-capacity .\n",
      "\n",
      "<urn:hpflex/test-site#space1> a ns1:space ;\n",
      "    ns1:has-point <urn:hpflex/test-site#space1_area> .\n",
      "\n",
      "<urn:hpflex/test-site#space1_area> a ns1:area .\n",
      "\n",
      "<urn:hpflex/test-site#space2> a ns1:space ;\n",
      "    ns1:has-point <urn:hpflex/test-site#space2_area> .\n",
      "\n",
      "<urn:hpflex/test-site#space2_area> a ns1:area .\n",
      "\n",
      "<urn:hpflex/test-site#test-site.latitude> a ns1:latitude .\n",
      "\n",
      "<urn:hpflex/test-site#test-site.longitude> a ns1:longitude .\n",
      "\n",
      "<urn:hpflex/test-site#test-site.noaastation> a ns1:noaastation .\n",
      "\n",
      "<urn:hpflex/test-site#test-site.timezone> a ns1:timezone .\n",
      "\n",
      "<urn:hpflex/test-site#tstat1_active> a ns1:tstat-active .\n",
      "\n",
      "<urn:hpflex/test-site#tstat1_resolution> a ns1:tstat-resolution .\n",
      "\n",
      "<urn:hpflex/test-site#tstat1_setpoint_deadband> a ns1:tstat-deadband .\n",
      "\n",
      "<urn:hpflex/test-site#tstat1_stage_count> a ns1:tstat-stage_count .\n",
      "\n",
      "<urn:hpflex/test-site#tstat1_tolerance> a ns1:tstat-tolerance .\n",
      "\n",
      "<urn:hpflex/test-site#tstat2_active> a ns1:tstat-active .\n",
      "\n",
      "<urn:hpflex/test-site#tstat2_resolution> a ns1:tstat-resolution .\n",
      "\n",
      "<urn:hpflex/test-site#tstat2_setpoint_deadband> a ns1:tstat-deadband .\n",
      "\n",
      "<urn:hpflex/test-site#tstat2_stage_count> a ns1:tstat-stage_count .\n",
      "\n",
      "<urn:hpflex/test-site#tstat2_tolerance> a ns1:tstat-tolerance .\n",
      "\n",
      "<urn:hpflex/test-site#window1_area> a ns1:area .\n",
      "\n",
      "<urn:hpflex/test-site#window1_azimuth> a ns1:azimuth .\n",
      "\n",
      "<urn:hpflex/test-site#window1_tilt> a ns1:tilt .\n",
      "\n",
      "<urn:hpflex/test-site#window2_area> a ns1:area .\n",
      "\n",
      "<urn:hpflex/test-site#window2_azimuth> a ns1:azimuth .\n",
      "\n",
      "<urn:hpflex/test-site#window2_tilt> a ns1:tilt .\n",
      "\n",
      "<urn:hpflex/test-site#Active_Cooling_Stages> a ns1:active-cooling-stages ;\n",
      "    ns1:has-reference <urn:hpflex/test-site#Active_Cooling_Stages_ref> .\n",
      "\n",
      "<urn:hpflex/test-site#Active_Heating_Stages> a ns1:active-heating-stages ;\n",
      "    ns1:has-reference <urn:hpflex/test-site#Active_Heating_Stages_ref> .\n",
      "\n",
      "<urn:hpflex/test-site#Effective_Cooling_Temperature_Setpoint> a ns1:effective-cooling-setpoint ;\n",
      "    ns1:has-reference <urn:hpflex/test-site#Effective_Cooling_Temperature_Setpoint_ref> .\n",
      "\n",
      "<urn:hpflex/test-site#Effective_Heating_Temperature_Setpoint> a ns1:effective-heating-setpoint ;\n",
      "    ns1:has-reference <urn:hpflex/test-site#Effective_Heating_Temperature_Setpoint_ref> .\n",
      "\n",
      "<urn:hpflex/test-site#Effective_Zone_Air_Temperature_Setpoint> a ns1:effective-temperature-setpoint ;\n",
      "    ns1:has-reference <urn:hpflex/test-site#Effective_Zone_Air_Temperature_Setpoint_ref> .\n",
      "\n",
      "<urn:hpflex/test-site#Occupied_Cooling_Temperature_Setpoint> a ns1:occ-cooling-setpoint ;\n",
      "    ns1:has-reference <urn:hpflex/test-site#Occupied_Cooling_Temperature_Setpoint_ref> .\n",
      "\n",
      "<urn:hpflex/test-site#Occupied_Heating_Temperature_Setpoint> a ns1:occ-heating-setpoint ;\n",
      "    ns1:has-reference <urn:hpflex/test-site#Occupied_Heating_Temperature_Setpoint_ref> .\n",
      "\n",
      "<urn:hpflex/test-site#Unoccupied_Cooling_Temperature_Setpoint> a ns1:unocc-cooling-setpoint ;\n",
      "    ns1:has-reference <urn:hpflex/test-site#Unoccupied_Cooling_Temperature_Setpoint_ref> .\n",
      "\n",
      "<urn:hpflex/test-site#Unoccupied_Heating_Temperature_Setpoint> a ns1:unocc-heating-setpoint ;\n",
      "    ns1:has-reference <urn:hpflex/test-site#Unoccupied_Heating_Temperature_Setpoint_ref> .\n",
      "\n",
      "<urn:hpflex/test-site#Zone_Air_Temperature_Sensor> a ns1:temperature ;\n",
      "    ns1:has-reference <urn:hpflex/test-site#Zone_Air_Temperature_Sensor_ref> .\n",
      "\n",
      "<urn:hpflex/test-site#window1> a ns1:window ;\n",
      "    ns1:has-point <urn:hpflex/test-site#window1_area>,\n",
      "        <urn:hpflex/test-site#window1_azimuth>,\n",
      "        <urn:hpflex/test-site#window1_tilt> .\n",
      "\n",
      "<urn:hpflex/test-site#window2> a ns1:window ;\n",
      "    ns1:has-point <urn:hpflex/test-site#window2_area>,\n",
      "        <urn:hpflex/test-site#window2_azimuth>,\n",
      "        <urn:hpflex/test-site#window2_tilt> .\n",
      "\n",
      "<urn:hpflex/test-site#zone1> a ns1:hvac-zone ;\n",
      "    ns1:air-bidirectional-connects-to <urn:hpflex/test-site#window1> ;\n",
      "    ns1:has-point <urn:hpflex/test-site#Active_Cooling_Stages>,\n",
      "        <urn:hpflex/test-site#Active_Heating_Stages>,\n",
      "        <urn:hpflex/test-site#Effective_Cooling_Temperature_Setpoint>,\n",
      "        <urn:hpflex/test-site#Effective_Heating_Temperature_Setpoint>,\n",
      "        <urn:hpflex/test-site#Effective_Zone_Air_Temperature_Setpoint>,\n",
      "        <urn:hpflex/test-site#Occupied_Cooling_Temperature_Setpoint>,\n",
      "        <urn:hpflex/test-site#Occupied_Heating_Temperature_Setpoint>,\n",
      "        <urn:hpflex/test-site#Unoccupied_Cooling_Temperature_Setpoint>,\n",
      "        <urn:hpflex/test-site#Unoccupied_Heating_Temperature_Setpoint>,\n",
      "        <urn:hpflex/test-site#Zone_Air_Temperature_Sensor> ;\n",
      "    ns1:has-space <urn:hpflex/test-site#space1> ;\n",
      "    ns1:has-window <urn:hpflex/test-site#window1> .\n",
      "\n",
      "<urn:hpflex/test-site#zone2> a ns1:hvac-zone ;\n",
      "    ns1:air-bidirectional-connects-to <urn:hpflex/test-site#window2> ;\n",
      "    ns1:has-point <urn:hpflex/test-site#Active_Cooling_Stages>,\n",
      "        <urn:hpflex/test-site#Active_Heating_Stages>,\n",
      "        <urn:hpflex/test-site#Effective_Cooling_Temperature_Setpoint>,\n",
      "        <urn:hpflex/test-site#Effective_Heating_Temperature_Setpoint>,\n",
      "        <urn:hpflex/test-site#Effective_Zone_Air_Temperature_Setpoint>,\n",
      "        <urn:hpflex/test-site#Occupied_Cooling_Temperature_Setpoint>,\n",
      "        <urn:hpflex/test-site#Occupied_Heating_Temperature_Setpoint>,\n",
      "        <urn:hpflex/test-site#Unoccupied_Cooling_Temperature_Setpoint>,\n",
      "        <urn:hpflex/test-site#Unoccupied_Heating_Temperature_Setpoint>,\n",
      "        <urn:hpflex/test-site#Zone_Air_Temperature_Sensor> ;\n",
      "    ns1:has-space <urn:hpflex/test-site#space2> ;\n",
      "    ns1:has-window <urn:hpflex/test-site#window2> .\n",
      "\n",
      "\n"
     ]
    }
   ],
   "source": [
    "# lots of new inferred information\n",
    "(builder.graph-og).print()"
   ]
  },
  {
   "cell_type": "markdown",
   "metadata": {},
   "source": [
    "# Testing get Metadata"
   ]
  },
  {
   "cell_type": "code",
   "execution_count": 10,
   "metadata": {},
   "outputs": [],
   "source": [
    "site_metadata = BuildingMetadataLoader(\"test-s223-model-reasoned.ttl\", ontology='s223')\n",
    "site_info = site_metadata.get_site_info()\n",
    "thermostat_data = site_metadata.get_thermostat_data()"
   ]
  },
  {
   "cell_type": "code",
   "execution_count": 11,
   "metadata": {},
   "outputs": [
    {
     "data": {
      "text/plain": [
       "{'site_id': 'urn:hpflex/test-site#test-site',\n",
       " 'latitude': 40.7128,\n",
       " 'longitude': -74.006,\n",
       " 'NOAAstation': 'KJFK',\n",
       " 'tz': 'America/New_York',\n",
       " 'project_id': 'urn:hpflex/test-site#test-site'}"
      ]
     },
     "execution_count": 11,
     "metadata": {},
     "output_type": "execute_result"
    }
   ],
   "source": [
    "site_info"
   ]
  },
  {
   "cell_type": "code",
   "execution_count": 12,
   "metadata": {},
   "outputs": [
    {
     "data": {
      "text/plain": [
       "{'heat_availability': [True, True],\n",
       " 'cool_availability': [True, True],\n",
       " 'heat_tolerance': [-2.0, -2.0],\n",
       " 'cool_tolerance': [2.0, 2.0],\n",
       " 'setpoint_deadband': [1, 1],\n",
       " 'active': [True, True],\n",
       " 'control_group': ['DEPRECATED', 'DEPRECATED'],\n",
       " 'control_type_list': ['stage', 'stage'],\n",
       " 'floor_area_list': [50.0, 50.0],\n",
       " 'window_area_list': [10.5, 10.5],\n",
       " 'azimuth_list': [180, 180],\n",
       " 'tilt_list': [30, 30],\n",
       " 'zone_ids': ['zone1', 'zone2'],\n",
       " 'hvacs': ['hvac1', 'hvac2'],\n",
       " 'setpoint_type': ['double', 'double'],\n",
       " 'fuel_heat_list': ['electricity', 'electricity'],\n",
       " 'fuel_cool_list': ['electricity', 'electricity'],\n",
       " 'cooling_capacity': [5.0, 5.0],\n",
       " 'heating_capacity': [4.0, 4.0],\n",
       " 'cooling_cop': [3.5, 3.5],\n",
       " 'heating_cop': [3.0, 3.0],\n",
       " 'cooling_electricity': [],\n",
       " 'heating_electricity': [],\n",
       " 'resolution': [1, 1],\n",
       " 'temperature_unit': [rdflib.term.URIRef('http://qudt.org/vocab/unit/DEG_C'),\n",
       "  rdflib.term.URIRef('http://qudt.org/vocab/unit/DEG_C')]}"
      ]
     },
     "execution_count": 12,
     "metadata": {},
     "output_type": "execute_result"
    }
   ],
   "source": [
    "thermostat_data"
   ]
  },
  {
   "cell_type": "code",
   "execution_count": 13,
   "metadata": {},
   "outputs": [
    {
     "data": {
      "text/plain": [
       "{'heat_availability': [True],\n",
       " 'cool_availability': [True],\n",
       " 'heat_tolerance': [-2.0],\n",
       " 'cool_tolerance': [2.0],\n",
       " 'setpoint_deadband': [1],\n",
       " 'active': [True],\n",
       " 'control_group': ['DEPRECATED'],\n",
       " 'control_type_list': ['stage'],\n",
       " 'floor_area_list': [50.0],\n",
       " 'window_area_list': [10.5],\n",
       " 'azimuth_list': [180],\n",
       " 'tilt_list': [30],\n",
       " 'zone_ids': ['zone1'],\n",
       " 'hvacs': ['hvac1'],\n",
       " 'setpoint_type': ['double'],\n",
       " 'fuel_heat_list': ['electricity'],\n",
       " 'fuel_cool_list': ['electricity'],\n",
       " 'cooling_capacity': [5.0],\n",
       " 'heating_capacity': [4.0],\n",
       " 'cooling_cop': [3.5],\n",
       " 'heating_cop': [3.0],\n",
       " 'cooling_electricity': [],\n",
       " 'heating_electricity': [],\n",
       " 'resolution': [1],\n",
       " 'temperature_unit': [rdflib.term.URIRef('http://qudt.org/vocab/unit/DEG_C')]}"
      ]
     },
     "execution_count": 13,
     "metadata": {},
     "output_type": "execute_result"
    }
   ],
   "source": [
    "site_metadata.get_thermostat_data(for_zone='zone1')"
   ]
  },
  {
   "cell_type": "code",
   "execution_count": 14,
   "metadata": {},
   "outputs": [
    {
     "data": {
      "text/plain": [
       "{'site_id': 'urn:hpflex/test-site#test-site',\n",
       " 'latitude': 40.7128,\n",
       " 'longitude': -74.006,\n",
       " 'NOAAstation': 'KJFK',\n",
       " 'tz': 'America/New_York',\n",
       " 'project_id': 'urn:hpflex/test-site#test-site',\n",
       " 'heat_availability': [True, True],\n",
       " 'cool_availability': [True, True],\n",
       " 'heat_tolerance': [-2.0, -2.0],\n",
       " 'cool_tolerance': [2.0, 2.0],\n",
       " 'setpoint_deadband': [1, 1],\n",
       " 'active': [True, True],\n",
       " 'control_group': ['DEPRECATED', 'DEPRECATED'],\n",
       " 'control_type_list': ['stage', 'stage'],\n",
       " 'floor_area_list': [50.0, 50.0],\n",
       " 'window_area_list': [10.5, 10.5],\n",
       " 'azimuth_list': [180, 180],\n",
       " 'tilt_list': [30, 30],\n",
       " 'zone_ids': ['zone1', 'zone2'],\n",
       " 'hvacs': ['hvac1', 'hvac2'],\n",
       " 'setpoint_type': ['double', 'double'],\n",
       " 'fuel_heat_list': ['electricity', 'electricity'],\n",
       " 'fuel_cool_list': ['electricity', 'electricity'],\n",
       " 'cooling_capacity': [5.0, 5.0],\n",
       " 'heating_capacity': [4.0, 4.0],\n",
       " 'cooling_cop': [3.5, 3.5],\n",
       " 'heating_cop': [3.0, 3.0],\n",
       " 'cooling_electricity': [],\n",
       " 'heating_electricity': [],\n",
       " 'resolution': [1, 1],\n",
       " 'temperature_unit': [rdflib.term.URIRef('http://qudt.org/vocab/unit/DEG_C'),\n",
       "  rdflib.term.URIRef('http://qudt.org/vocab/unit/DEG_C')]}"
      ]
     },
     "execution_count": 14,
     "metadata": {},
     "output_type": "execute_result"
    }
   ],
   "source": [
    "site_metadata.get_complete_output()"
   ]
  },
  {
   "cell_type": "markdown",
   "metadata": {},
   "source": [
    "# Generating Metadata Survey"
   ]
  },
  {
   "cell_type": "code",
   "execution_count": 15,
   "metadata": {},
   "outputs": [
    {
     "ename": "TypeError",
     "evalue": "SurveyGenerator.__init__() got an unexpected keyword argument 'site_name'",
     "output_type": "error",
     "traceback": [
      "\u001b[0;31m---------------------------------------------------------------------------\u001b[0m",
      "\u001b[0;31mTypeError\u001b[0m                                 Traceback (most recent call last)",
      "Cell \u001b[0;32mIn[15], line 1\u001b[0m\n\u001b[0;32m----> 1\u001b[0m survey_gen \u001b[38;5;241m=\u001b[39m \u001b[43mSurveyGenerator\u001b[49m\u001b[43m(\u001b[49m\u001b[43msite_name\u001b[49m\u001b[43m \u001b[49m\u001b[38;5;241;43m=\u001b[39;49m\u001b[43m \u001b[49m\u001b[38;5;124;43m'\u001b[39;49m\u001b[38;5;124;43measy-config-test\u001b[39;49m\u001b[38;5;124;43m'\u001b[39;49m\u001b[43m,\u001b[49m\n\u001b[1;32m      2\u001b[0m \u001b[43m                             \u001b[49m\u001b[43mhvac_type\u001b[49m\u001b[43m \u001b[49m\u001b[38;5;241;43m=\u001b[39;49m\u001b[43m \u001b[49m\u001b[38;5;124;43m'\u001b[39;49m\u001b[38;5;124;43mhp-rtu\u001b[39;49m\u001b[38;5;124;43m'\u001b[39;49m\u001b[43m)\u001b[49m\n\u001b[1;32m      3\u001b[0m \u001b[38;5;66;03m# zone_space_window list for configuration: 3 zones, with 2 spaces and 2 windows, 1 space and 2 windows, 1 space 3 windows, one hvac unit per zone\u001b[39;00m\n\u001b[1;32m      5\u001b[0m survey_gen \u001b[38;5;241m=\u001b[39m SurveyGenerator(site_name \u001b[38;5;241m=\u001b[39m \u001b[38;5;124m'\u001b[39m\u001b[38;5;124measy-config-test\u001b[39m\u001b[38;5;124m'\u001b[39m,\n\u001b[1;32m      6\u001b[0m                              hvac_type \u001b[38;5;241m=\u001b[39m \u001b[38;5;124m'\u001b[39m\u001b[38;5;124mhp-rtu\u001b[39m\u001b[38;5;124m'\u001b[39m)\n",
      "\u001b[0;31mTypeError\u001b[0m: SurveyGenerator.__init__() got an unexpected keyword argument 'site_name'"
     ]
    }
   ],
   "source": [
    "survey_gen = SurveyGenerator(site_name = 'easy-config-test',\n",
    "                             hvac_type = 'hp-rtu')\n",
    "# zone_space_window list for configuration: 3 zones, with 2 spaces and 2 windows, 1 space and 2 windows, 1 space 3 windows, one hvac unit per zone\n",
    "\n",
    "survey_gen = SurveyGenerator(site_name = 'easy-config-test',\n",
    "                             hvac_type = 'hp-rtu')\n",
    "\n",
    "survey_gen.easy_config(\n",
    "    zone_space_window_list=[(2,2),(1,2),(1,3)], \n",
    "    output_path='./metadata-survey')\n",
    "\n",
    "# survey_gen.easy_config(zone_space_window_list=[(1,1)], output_path='./metadata-survey')\n"
   ]
  },
  {
   "cell_type": "code",
   "execution_count": null,
   "metadata": {},
   "outputs": [],
   "source": [
    "# Custom config \n",
    "# TODO: add underscores to begining of all methods but generate template and easy config\n",
    "survey_gen = SurveyGenerator(site_name= 'custom-config-test',\n",
    "                             hvac_type = 'vrf')\n",
    "survey_gen.generate_template(\n",
    "    hvacs_feed_hvacs = {'HP1': ['FCU1','FCU2','FCU3'],\n",
    "                        'HP2': ['FCU1', 'FCU2', 'FCU3']},\n",
    "    hvacs_feed_zones= {'FCU1': ['Zone1'],\n",
    "                       'FCU2': ['Zone2'],\n",
    "                       'FCU3': ['Zone3']},\n",
    "    zones_contain_spaces= {'Zone1': ['Z1S1', 'Z1S2'],\n",
    "                           'Zone2': ['Z1S2','Z2S3'],\n",
    "                           'Zone3': ['Z3S1']},\n",
    "    zones_contain_windows= {'Zone1': ['W1'],\n",
    "                           'Zone2': ['W2'],\n",
    "                           'Zone3': ['W3','W4','W5','W6']},\n",
    "                           output_path='./metadata-survey'\n",
    ")"
   ]
  },
  {
   "cell_type": "code",
   "execution_count": null,
   "metadata": {},
   "outputs": [],
   "source": []
  },
  {
   "cell_type": "markdown",
   "metadata": {},
   "source": [
    "# Reading Metadata Survey"
   ]
  },
  {
   "cell_type": "code",
   "execution_count": null,
   "metadata": {},
   "outputs": [
    {
     "ename": "TypeError",
     "evalue": "ModelBuilder.__init__() got an unexpected keyword argument 'timezone'",
     "output_type": "error",
     "traceback": [
      "\u001b[0;31m---------------------------------------------------------------------------\u001b[0m",
      "\u001b[0;31mTypeError\u001b[0m                                 Traceback (most recent call last)",
      "Cell \u001b[0;32mIn[17], line 2\u001b[0m\n\u001b[1;32m      1\u001b[0m generator \u001b[38;5;241m=\u001b[39m SurveyReader(\u001b[38;5;124m\"\u001b[39m\u001b[38;5;124m./metadata-survey/filled-out-easy-config-test\u001b[39m\u001b[38;5;124m\"\u001b[39m)\n\u001b[0;32m----> 2\u001b[0m \u001b[43mgenerator\u001b[49m\u001b[38;5;241;43m.\u001b[39;49m\u001b[43mcreate_model\u001b[49m\u001b[43m(\u001b[49m\u001b[38;5;124;43m\"\u001b[39;49m\u001b[38;5;124;43msurvey-brick-model.ttl\u001b[39;49m\u001b[38;5;124;43m\"\u001b[39;49m\u001b[43m)\u001b[49m\n",
      "File \u001b[0;32m~/Desktop/HPflex/Semantic_MPC_Interface/tutorial/../ModelInterface/read_metadata_survey.py:63\u001b[0m, in \u001b[0;36mSurveyReader.create_model\u001b[0;34m(self, output_file)\u001b[0m\n\u001b[1;32m     61\u001b[0m \u001b[38;5;250m\u001b[39m\u001b[38;5;124;03m\"\"\"Generate the Brick model from the survey data\"\"\"\u001b[39;00m\n\u001b[1;32m     62\u001b[0m \u001b[38;5;66;03m# Initialize the model builder with site information\u001b[39;00m\n\u001b[0;32m---> 63\u001b[0m builder \u001b[38;5;241m=\u001b[39m \u001b[43mModelBuilder\u001b[49m\u001b[43m(\u001b[49m\n\u001b[1;32m     64\u001b[0m \u001b[43m    \u001b[49m\u001b[43msite_id\u001b[49m\u001b[38;5;241;43m=\u001b[39;49m\u001b[38;5;28;43mself\u001b[39;49m\u001b[38;5;241;43m.\u001b[39;49m\u001b[43msite_info\u001b[49m\u001b[43m[\u001b[49m\u001b[38;5;124;43m'\u001b[39;49m\u001b[38;5;124;43msite_id\u001b[39;49m\u001b[38;5;124;43m'\u001b[39;49m\u001b[43m]\u001b[49m\u001b[43m,\u001b[49m\n\u001b[1;32m     65\u001b[0m \u001b[43m    \u001b[49m\u001b[43mtimezone\u001b[49m\u001b[38;5;241;43m=\u001b[39;49m\u001b[38;5;28;43mself\u001b[39;49m\u001b[38;5;241;43m.\u001b[39;49m\u001b[43msite_info\u001b[49m\u001b[43m[\u001b[49m\u001b[38;5;124;43m'\u001b[39;49m\u001b[38;5;124;43mtimezone\u001b[39;49m\u001b[38;5;124;43m'\u001b[39;49m\u001b[43m]\u001b[49m\u001b[43m,\u001b[49m\n\u001b[1;32m     66\u001b[0m \u001b[43m    \u001b[49m\u001b[43mlatitude\u001b[49m\u001b[38;5;241;43m=\u001b[39;49m\u001b[38;5;28;43mfloat\u001b[39;49m\u001b[43m(\u001b[49m\u001b[38;5;28;43mself\u001b[39;49m\u001b[38;5;241;43m.\u001b[39;49m\u001b[43msite_info\u001b[49m\u001b[43m[\u001b[49m\u001b[38;5;124;43m'\u001b[39;49m\u001b[38;5;124;43mlatitude\u001b[39;49m\u001b[38;5;124;43m'\u001b[39;49m\u001b[43m]\u001b[49m\u001b[43m)\u001b[49m\u001b[43m,\u001b[49m\n\u001b[1;32m     67\u001b[0m \u001b[43m    \u001b[49m\u001b[43mlongitude\u001b[49m\u001b[38;5;241;43m=\u001b[39;49m\u001b[38;5;28;43mfloat\u001b[39;49m\u001b[43m(\u001b[49m\u001b[38;5;28;43mself\u001b[39;49m\u001b[38;5;241;43m.\u001b[39;49m\u001b[43msite_info\u001b[49m\u001b[43m[\u001b[49m\u001b[38;5;124;43m'\u001b[39;49m\u001b[38;5;124;43mlongitude\u001b[39;49m\u001b[38;5;124;43m'\u001b[39;49m\u001b[43m]\u001b[49m\u001b[43m)\u001b[49m\u001b[43m,\u001b[49m\n\u001b[1;32m     68\u001b[0m \u001b[43m    \u001b[49m\u001b[43mnoaa_station\u001b[49m\u001b[38;5;241;43m=\u001b[39;49m\u001b[38;5;28;43mself\u001b[39;49m\u001b[38;5;241;43m.\u001b[39;49m\u001b[43msite_info\u001b[49m\u001b[43m[\u001b[49m\u001b[38;5;124;43m'\u001b[39;49m\u001b[38;5;124;43mnoaa_station\u001b[39;49m\u001b[38;5;124;43m'\u001b[39;49m\u001b[43m]\u001b[49m\n\u001b[1;32m     69\u001b[0m \u001b[43m\u001b[49m\u001b[43m)\u001b[49m\n\u001b[1;32m     71\u001b[0m \u001b[38;5;66;03m# Process zones and their associated equipment\u001b[39;00m\n\u001b[1;32m     72\u001b[0m zones \u001b[38;5;241m=\u001b[39m \u001b[38;5;28mself\u001b[39m\u001b[38;5;241m.\u001b[39m_load_zones()\n",
      "\u001b[0;31mTypeError\u001b[0m: ModelBuilder.__init__() got an unexpected keyword argument 'timezone'"
     ]
    }
   ],
   "source": [
    "generator = SurveyReader(\"./metadata-survey/filled-out-easy-config-test\", ontology = 's223')\n",
    "generator.create_model(\"survey-brick-model.ttl\")"
   ]
  },
  {
   "cell_type": "code",
   "execution_count": null,
   "metadata": {},
   "outputs": [
    {
     "data": {
      "text/plain": [
       "{'hvac_1': ['zone_1']}"
      ]
     },
     "execution_count": 13,
     "metadata": {},
     "output_type": "execute_result"
    },
    {
     "ename": "",
     "evalue": "",
     "output_type": "error",
     "traceback": [
      "\u001b[1;31mnotebook controller is DISPOSED. \n",
      "\u001b[1;31mView Jupyter <a href='command:jupyter.viewOutput'>log</a> for further details."
     ]
    },
    {
     "ename": "",
     "evalue": "",
     "output_type": "error",
     "traceback": [
      "\u001b[1;31mnotebook controller is DISPOSED. \n",
      "\u001b[1;31mView Jupyter <a href='command:jupyter.viewOutput'>log</a> for further details."
     ]
    },
    {
     "ename": "",
     "evalue": "",
     "output_type": "error",
     "traceback": [
      "\u001b[1;31mnotebook controller is DISPOSED. \n",
      "\u001b[1;31mView Jupyter <a href='command:jupyter.viewOutput'>log</a> for further details."
     ]
    },
    {
     "ename": "",
     "evalue": "",
     "output_type": "error",
     "traceback": [
      "\u001b[1;31mnotebook controller is DISPOSED. \n",
      "\u001b[1;31mView Jupyter <a href='command:jupyter.viewOutput'>log</a> for further details."
     ]
    },
    {
     "ename": "",
     "evalue": "",
     "output_type": "error",
     "traceback": [
      "\u001b[1;31mnotebook controller is DISPOSED. \n",
      "\u001b[1;31mView Jupyter <a href='command:jupyter.viewOutput'>log</a> for further details."
     ]
    },
    {
     "ename": "",
     "evalue": "",
     "output_type": "error",
     "traceback": [
      "\u001b[1;31mnotebook controller is DISPOSED. \n",
      "\u001b[1;31mView Jupyter <a href='command:jupyter.viewOutput'>log</a> for further details."
     ]
    },
    {
     "ename": "",
     "evalue": "",
     "output_type": "error",
     "traceback": [
      "\u001b[1;31mnotebook controller is DISPOSED. \n",
      "\u001b[1;31mView Jupyter <a href='command:jupyter.viewOutput'>log</a> for further details."
     ]
    },
    {
     "ename": "",
     "evalue": "",
     "output_type": "error",
     "traceback": [
      "\u001b[1;31mnotebook controller is DISPOSED. \n",
      "\u001b[1;31mView Jupyter <a href='command:jupyter.viewOutput'>log</a> for further details."
     ]
    },
    {
     "ename": "",
     "evalue": "",
     "output_type": "error",
     "traceback": [
      "\u001b[1;31mnotebook controller is DISPOSED. \n",
      "\u001b[1;31mView Jupyter <a href='command:jupyter.viewOutput'>log</a> for further details."
     ]
    }
   ],
   "source": [
    "generator.config['hvacs_feed_zones']"
   ]
  },
  {
   "cell_type": "markdown",
   "metadata": {},
   "source": [
    "# Testing Unit Conversion"
   ]
  },
  {
   "cell_type": "code",
   "execution_count": null,
   "metadata": {},
   "outputs": [
    {
     "data": {
      "text/plain": [
       "3.048"
      ]
     },
     "execution_count": 14,
     "metadata": {},
     "output_type": "execute_result"
    },
    {
     "ename": "",
     "evalue": "",
     "output_type": "error",
     "traceback": [
      "\u001b[1;31mnotebook controller is DISPOSED. \n",
      "\u001b[1;31mView Jupyter <a href='command:jupyter.viewOutput'>log</a> for further details."
     ]
    },
    {
     "ename": "",
     "evalue": "",
     "output_type": "error",
     "traceback": [
      "\u001b[1;31mnotebook controller is DISPOSED. \n",
      "\u001b[1;31mView Jupyter <a href='command:jupyter.viewOutput'>log</a> for further details."
     ]
    },
    {
     "ename": "",
     "evalue": "",
     "output_type": "error",
     "traceback": [
      "\u001b[1;31mnotebook controller is DISPOSED. \n",
      "\u001b[1;31mView Jupyter <a href='command:jupyter.viewOutput'>log</a> for further details."
     ]
    },
    {
     "ename": "",
     "evalue": "",
     "output_type": "error",
     "traceback": [
      "\u001b[1;31mnotebook controller is DISPOSED. \n",
      "\u001b[1;31mView Jupyter <a href='command:jupyter.viewOutput'>log</a> for further details."
     ]
    },
    {
     "ename": "",
     "evalue": "",
     "output_type": "error",
     "traceback": [
      "\u001b[1;31mnotebook controller is DISPOSED. \n",
      "\u001b[1;31mView Jupyter <a href='command:jupyter.viewOutput'>log</a> for further details."
     ]
    },
    {
     "ename": "",
     "evalue": "",
     "output_type": "error",
     "traceback": [
      "\u001b[1;31mnotebook controller is DISPOSED. \n",
      "\u001b[1;31mView Jupyter <a href='command:jupyter.viewOutput'>log</a> for further details."
     ]
    },
    {
     "ename": "",
     "evalue": "",
     "output_type": "error",
     "traceback": [
      "\u001b[1;31mnotebook controller is DISPOSED. \n",
      "\u001b[1;31mView Jupyter <a href='command:jupyter.viewOutput'>log</a> for further details."
     ]
    },
    {
     "ename": "",
     "evalue": "",
     "output_type": "error",
     "traceback": [
      "\u001b[1;31mnotebook controller is DISPOSED. \n",
      "\u001b[1;31mView Jupyter <a href='command:jupyter.viewOutput'>log</a> for further details."
     ]
    },
    {
     "ename": "",
     "evalue": "",
     "output_type": "error",
     "traceback": [
      "\u001b[1;31mnotebook controller is DISPOSED. \n",
      "\u001b[1;31mView Jupyter <a href='command:jupyter.viewOutput'>log</a> for further details."
     ]
    }
   ],
   "source": [
    "convert_units(10, 'FT', 'M')"
   ]
  },
  {
   "cell_type": "code",
   "execution_count": null,
   "metadata": {},
   "outputs": [
    {
     "data": {
      "text/plain": [
       "31.999999999999886"
      ]
     },
     "execution_count": 15,
     "metadata": {},
     "output_type": "execute_result"
    },
    {
     "ename": "",
     "evalue": "",
     "output_type": "error",
     "traceback": [
      "\u001b[1;31mnotebook controller is DISPOSED. \n",
      "\u001b[1;31mView Jupyter <a href='command:jupyter.viewOutput'>log</a> for further details."
     ]
    },
    {
     "ename": "",
     "evalue": "",
     "output_type": "error",
     "traceback": [
      "\u001b[1;31mnotebook controller is DISPOSED. \n",
      "\u001b[1;31mView Jupyter <a href='command:jupyter.viewOutput'>log</a> for further details."
     ]
    },
    {
     "ename": "",
     "evalue": "",
     "output_type": "error",
     "traceback": [
      "\u001b[1;31mnotebook controller is DISPOSED. \n",
      "\u001b[1;31mView Jupyter <a href='command:jupyter.viewOutput'>log</a> for further details."
     ]
    },
    {
     "ename": "",
     "evalue": "",
     "output_type": "error",
     "traceback": [
      "\u001b[1;31mnotebook controller is DISPOSED. \n",
      "\u001b[1;31mView Jupyter <a href='command:jupyter.viewOutput'>log</a> for further details."
     ]
    },
    {
     "ename": "",
     "evalue": "",
     "output_type": "error",
     "traceback": [
      "\u001b[1;31mnotebook controller is DISPOSED. \n",
      "\u001b[1;31mView Jupyter <a href='command:jupyter.viewOutput'>log</a> for further details."
     ]
    },
    {
     "ename": "",
     "evalue": "",
     "output_type": "error",
     "traceback": [
      "\u001b[1;31mnotebook controller is DISPOSED. \n",
      "\u001b[1;31mView Jupyter <a href='command:jupyter.viewOutput'>log</a> for further details."
     ]
    },
    {
     "ename": "",
     "evalue": "",
     "output_type": "error",
     "traceback": [
      "\u001b[1;31mnotebook controller is DISPOSED. \n",
      "\u001b[1;31mView Jupyter <a href='command:jupyter.viewOutput'>log</a> for further details."
     ]
    },
    {
     "ename": "",
     "evalue": "",
     "output_type": "error",
     "traceback": [
      "\u001b[1;31mnotebook controller is DISPOSED. \n",
      "\u001b[1;31mView Jupyter <a href='command:jupyter.viewOutput'>log</a> for further details."
     ]
    },
    {
     "ename": "",
     "evalue": "",
     "output_type": "error",
     "traceback": [
      "\u001b[1;31mnotebook controller is DISPOSED. \n",
      "\u001b[1;31mView Jupyter <a href='command:jupyter.viewOutput'>log</a> for further details."
     ]
    }
   ],
   "source": [
    "convert_units(0, 'DEG_C', 'DEG_F')"
   ]
  },
  {
   "cell_type": "code",
   "execution_count": null,
   "metadata": {},
   "outputs": [
    {
     "data": {
      "text/plain": [
       "273.15"
      ]
     },
     "execution_count": 16,
     "metadata": {},
     "output_type": "execute_result"
    },
    {
     "ename": "",
     "evalue": "",
     "output_type": "error",
     "traceback": [
      "\u001b[1;31mnotebook controller is DISPOSED. \n",
      "\u001b[1;31mView Jupyter <a href='command:jupyter.viewOutput'>log</a> for further details."
     ]
    },
    {
     "ename": "",
     "evalue": "",
     "output_type": "error",
     "traceback": [
      "\u001b[1;31mnotebook controller is DISPOSED. \n",
      "\u001b[1;31mView Jupyter <a href='command:jupyter.viewOutput'>log</a> for further details."
     ]
    },
    {
     "ename": "",
     "evalue": "",
     "output_type": "error",
     "traceback": [
      "\u001b[1;31mnotebook controller is DISPOSED. \n",
      "\u001b[1;31mView Jupyter <a href='command:jupyter.viewOutput'>log</a> for further details."
     ]
    },
    {
     "ename": "",
     "evalue": "",
     "output_type": "error",
     "traceback": [
      "\u001b[1;31mnotebook controller is DISPOSED. \n",
      "\u001b[1;31mView Jupyter <a href='command:jupyter.viewOutput'>log</a> for further details."
     ]
    },
    {
     "ename": "",
     "evalue": "",
     "output_type": "error",
     "traceback": [
      "\u001b[1;31mnotebook controller is DISPOSED. \n",
      "\u001b[1;31mView Jupyter <a href='command:jupyter.viewOutput'>log</a> for further details."
     ]
    },
    {
     "ename": "",
     "evalue": "",
     "output_type": "error",
     "traceback": [
      "\u001b[1;31mnotebook controller is DISPOSED. \n",
      "\u001b[1;31mView Jupyter <a href='command:jupyter.viewOutput'>log</a> for further details."
     ]
    },
    {
     "ename": "",
     "evalue": "",
     "output_type": "error",
     "traceback": [
      "\u001b[1;31mnotebook controller is DISPOSED. \n",
      "\u001b[1;31mView Jupyter <a href='command:jupyter.viewOutput'>log</a> for further details."
     ]
    },
    {
     "ename": "",
     "evalue": "",
     "output_type": "error",
     "traceback": [
      "\u001b[1;31mnotebook controller is DISPOSED. \n",
      "\u001b[1;31mView Jupyter <a href='command:jupyter.viewOutput'>log</a> for further details."
     ]
    },
    {
     "ename": "",
     "evalue": "",
     "output_type": "error",
     "traceback": [
      "\u001b[1;31mnotebook controller is DISPOSED. \n",
      "\u001b[1;31mView Jupyter <a href='command:jupyter.viewOutput'>log</a> for further details."
     ]
    }
   ],
   "source": [
    "convert_units(0, 'DEG_C', 'K')"
   ]
  },
  {
   "cell_type": "code",
   "execution_count": null,
   "metadata": {},
   "outputs": [
    {
     "name": "stdout",
     "output_type": "stream",
     "text": [
      "changing value of  urn:hpflex/test-site#tstat1_resolution from http://qudt.org/vocab/unit/DEG_F to http://qudt.org/vocab/unit/DEG_C\n",
      "changing value of  urn:hpflex/test-site#tstat1_setpoint_deadband from http://qudt.org/vocab/unit/DEG_F to http://qudt.org/vocab/unit/DEG_C\n",
      "changing value of  urn:hpflex/test-site#tstat1_tolerance from http://qudt.org/vocab/unit/DEG_F to http://qudt.org/vocab/unit/DEG_C\n",
      "changing value of  urn:hpflex/test-site#tstat2_resolution from http://qudt.org/vocab/unit/DEG_F to http://qudt.org/vocab/unit/DEG_C\n",
      "changing value of  urn:hpflex/test-site#tstat2_setpoint_deadband from http://qudt.org/vocab/unit/DEG_F to http://qudt.org/vocab/unit/DEG_C\n",
      "changing value of  urn:hpflex/test-site#tstat2_tolerance from http://qudt.org/vocab/unit/DEG_F to http://qudt.org/vocab/unit/DEG_C\n",
      "changing value of  urn:hpflex/test-site#window1_area from http://qudt.org/vocab/unit/FT2 to http://qudt.org/vocab/unit/M2\n",
      "changing value of  urn:hpflex/test-site#window2_area from http://qudt.org/vocab/unit/FT2 to http://qudt.org/vocab/unit/M2\n"
     ]
    },
    {
     "data": {
      "text/plain": [
       "{'heat_availability': [False],\n",
       " 'cool_availability': [True],\n",
       " 'heat_tolerance': [-1.1111111111111112],\n",
       " 'cool_tolerance': [1.1111111111111112],\n",
       " 'setpoint_deadband': [0.5555555555555556],\n",
       " 'active': [True],\n",
       " 'control_group': ['urn:hpflex/test-site#tstat1_control_group'],\n",
       " 'control_type_list': ['stage'],\n",
       " 'floor_area_list': [50.0],\n",
       " 'window_area_list': [0.9754819200000001],\n",
       " 'azimuth_list': [180],\n",
       " 'tilt_list': [30],\n",
       " 'zone_ids': ['zone1'],\n",
       " 'hvacs': ['hvac1'],\n",
       " 'setpoint_type': ['double'],\n",
       " 'fuel_heat_list': ['gas'],\n",
       " 'fuel_cool_list': ['electricity'],\n",
       " 'cooling_capacity': [5.0],\n",
       " 'heating_capacity': [4.0],\n",
       " 'cooling_cop': [3.5],\n",
       " 'heating_cop': [3.0],\n",
       " 'cooling_electricity': [],\n",
       " 'heating_electricity': [],\n",
       " 'resolution': [0.5555555555555556],\n",
       " 'temperature_unit': [rdflib.term.URIRef('http://qudt.org/vocab/unit/DEG_F')]}"
      ]
     },
     "execution_count": 17,
     "metadata": {},
     "output_type": "execute_result"
    },
    {
     "ename": "",
     "evalue": "",
     "output_type": "error",
     "traceback": [
      "\u001b[1;31mnotebook controller is DISPOSED. \n",
      "\u001b[1;31mView Jupyter <a href='command:jupyter.viewOutput'>log</a> for further details."
     ]
    },
    {
     "ename": "",
     "evalue": "",
     "output_type": "error",
     "traceback": [
      "\u001b[1;31mnotebook controller is DISPOSED. \n",
      "\u001b[1;31mView Jupyter <a href='command:jupyter.viewOutput'>log</a> for further details."
     ]
    },
    {
     "ename": "",
     "evalue": "",
     "output_type": "error",
     "traceback": [
      "\u001b[1;31mnotebook controller is DISPOSED. \n",
      "\u001b[1;31mView Jupyter <a href='command:jupyter.viewOutput'>log</a> for further details."
     ]
    },
    {
     "ename": "",
     "evalue": "",
     "output_type": "error",
     "traceback": [
      "\u001b[1;31mnotebook controller is DISPOSED. \n",
      "\u001b[1;31mView Jupyter <a href='command:jupyter.viewOutput'>log</a> for further details."
     ]
    },
    {
     "ename": "",
     "evalue": "",
     "output_type": "error",
     "traceback": [
      "\u001b[1;31mnotebook controller is DISPOSED. \n",
      "\u001b[1;31mView Jupyter <a href='command:jupyter.viewOutput'>log</a> for further details."
     ]
    },
    {
     "ename": "",
     "evalue": "",
     "output_type": "error",
     "traceback": [
      "\u001b[1;31mnotebook controller is DISPOSED. \n",
      "\u001b[1;31mView Jupyter <a href='command:jupyter.viewOutput'>log</a> for further details."
     ]
    },
    {
     "ename": "",
     "evalue": "",
     "output_type": "error",
     "traceback": [
      "\u001b[1;31mnotebook controller is DISPOSED. \n",
      "\u001b[1;31mView Jupyter <a href='command:jupyter.viewOutput'>log</a> for further details."
     ]
    },
    {
     "ename": "",
     "evalue": "",
     "output_type": "error",
     "traceback": [
      "\u001b[1;31mnotebook controller is DISPOSED. \n",
      "\u001b[1;31mView Jupyter <a href='command:jupyter.viewOutput'>log</a> for further details."
     ]
    },
    {
     "ename": "",
     "evalue": "",
     "output_type": "error",
     "traceback": [
      "\u001b[1;31mnotebook controller is DISPOSED. \n",
      "\u001b[1;31mView Jupyter <a href='command:jupyter.viewOutput'>log</a> for further details."
     ]
    }
   ],
   "source": [
    "site_metadata.convert_model_to_si()\n",
    "site_metadata.get_thermostat_data(for_zone='zone1')"
   ]
  },
  {
   "cell_type": "code",
   "execution_count": null,
   "metadata": {},
   "outputs": [
    {
     "data": {
      "text/plain": [
       "\"\\nThe temperature unit still shows up as DEG_F, because it is at the units for the zone temperature, \\nwhich does not have a value to convert in the model, it's values are in the DB.\\nit is a reminder to also convert that to C also. We can use the unit_conversion script for any conversions in the db.\\n\""
      ]
     },
     "execution_count": 18,
     "metadata": {},
     "output_type": "execute_result"
    },
    {
     "ename": "",
     "evalue": "",
     "output_type": "error",
     "traceback": [
      "\u001b[1;31mnotebook controller is DISPOSED. \n",
      "\u001b[1;31mView Jupyter <a href='command:jupyter.viewOutput'>log</a> for further details."
     ]
    },
    {
     "ename": "",
     "evalue": "",
     "output_type": "error",
     "traceback": [
      "\u001b[1;31mnotebook controller is DISPOSED. \n",
      "\u001b[1;31mView Jupyter <a href='command:jupyter.viewOutput'>log</a> for further details."
     ]
    },
    {
     "ename": "",
     "evalue": "",
     "output_type": "error",
     "traceback": [
      "\u001b[1;31mnotebook controller is DISPOSED. \n",
      "\u001b[1;31mView Jupyter <a href='command:jupyter.viewOutput'>log</a> for further details."
     ]
    },
    {
     "ename": "",
     "evalue": "",
     "output_type": "error",
     "traceback": [
      "\u001b[1;31mnotebook controller is DISPOSED. \n",
      "\u001b[1;31mView Jupyter <a href='command:jupyter.viewOutput'>log</a> for further details."
     ]
    },
    {
     "ename": "",
     "evalue": "",
     "output_type": "error",
     "traceback": [
      "\u001b[1;31mnotebook controller is DISPOSED. \n",
      "\u001b[1;31mView Jupyter <a href='command:jupyter.viewOutput'>log</a> for further details."
     ]
    },
    {
     "ename": "",
     "evalue": "",
     "output_type": "error",
     "traceback": [
      "\u001b[1;31mnotebook controller is DISPOSED. \n",
      "\u001b[1;31mView Jupyter <a href='command:jupyter.viewOutput'>log</a> for further details."
     ]
    },
    {
     "ename": "",
     "evalue": "",
     "output_type": "error",
     "traceback": [
      "\u001b[1;31mnotebook controller is DISPOSED. \n",
      "\u001b[1;31mView Jupyter <a href='command:jupyter.viewOutput'>log</a> for further details."
     ]
    },
    {
     "ename": "",
     "evalue": "",
     "output_type": "error",
     "traceback": [
      "\u001b[1;31mnotebook controller is DISPOSED. \n",
      "\u001b[1;31mView Jupyter <a href='command:jupyter.viewOutput'>log</a> for further details."
     ]
    },
    {
     "ename": "",
     "evalue": "",
     "output_type": "error",
     "traceback": [
      "\u001b[1;31mnotebook controller is DISPOSED. \n",
      "\u001b[1;31mView Jupyter <a href='command:jupyter.viewOutput'>log</a> for further details."
     ]
    }
   ],
   "source": [
    "\"\"\"\n",
    "The temperature unit still shows up as DEG_F, because it is at the units for the zone temperature, \n",
    "which does not have a value to convert in the model, it's values are in the DB.\n",
    "it is a reminder to also convert that to C also. We can use the unit_conversion script for any conversions in the db.\n",
    "\"\"\""
   ]
  },
  {
   "cell_type": "code",
   "execution_count": null,
   "metadata": {},
   "outputs": [
    {
     "ename": "",
     "evalue": "",
     "output_type": "error",
     "traceback": [
      "\u001b[1;31mnotebook controller is DISPOSED. \n",
      "\u001b[1;31mView Jupyter <a href='command:jupyter.viewOutput'>log</a> for further details."
     ]
    },
    {
     "ename": "",
     "evalue": "",
     "output_type": "error",
     "traceback": [
      "\u001b[1;31mnotebook controller is DISPOSED. \n",
      "\u001b[1;31mView Jupyter <a href='command:jupyter.viewOutput'>log</a> for further details."
     ]
    },
    {
     "ename": "",
     "evalue": "",
     "output_type": "error",
     "traceback": [
      "\u001b[1;31mnotebook controller is DISPOSED. \n",
      "\u001b[1;31mView Jupyter <a href='command:jupyter.viewOutput'>log</a> for further details."
     ]
    },
    {
     "ename": "",
     "evalue": "",
     "output_type": "error",
     "traceback": [
      "\u001b[1;31mnotebook controller is DISPOSED. \n",
      "\u001b[1;31mView Jupyter <a href='command:jupyter.viewOutput'>log</a> for further details."
     ]
    },
    {
     "ename": "",
     "evalue": "",
     "output_type": "error",
     "traceback": [
      "\u001b[1;31mnotebook controller is DISPOSED. \n",
      "\u001b[1;31mView Jupyter <a href='command:jupyter.viewOutput'>log</a> for further details."
     ]
    },
    {
     "ename": "",
     "evalue": "",
     "output_type": "error",
     "traceback": [
      "\u001b[1;31mnotebook controller is DISPOSED. \n",
      "\u001b[1;31mView Jupyter <a href='command:jupyter.viewOutput'>log</a> for further details."
     ]
    },
    {
     "ename": "",
     "evalue": "",
     "output_type": "error",
     "traceback": [
      "\u001b[1;31mnotebook controller is DISPOSED. \n",
      "\u001b[1;31mView Jupyter <a href='command:jupyter.viewOutput'>log</a> for further details."
     ]
    },
    {
     "ename": "",
     "evalue": "",
     "output_type": "error",
     "traceback": [
      "\u001b[1;31mnotebook controller is DISPOSED. \n",
      "\u001b[1;31mView Jupyter <a href='command:jupyter.viewOutput'>log</a> for further details."
     ]
    },
    {
     "ename": "",
     "evalue": "",
     "output_type": "error",
     "traceback": [
      "\u001b[1;31mnotebook controller is DISPOSED. \n",
      "\u001b[1;31mView Jupyter <a href='command:jupyter.viewOutput'>log</a> for further details."
     ]
    }
   ],
   "source": []
  },
  {
   "cell_type": "markdown",
   "metadata": {},
   "source": [
    "# Testing Grafana Dashboarding "
   ]
  },
  {
   "cell_type": "code",
   "execution_count": null,
   "metadata": {},
   "outputs": [
    {
     "ename": "",
     "evalue": "",
     "output_type": "error",
     "traceback": [
      "\u001b[1;31mnotebook controller is DISPOSED. \n",
      "\u001b[1;31mView Jupyter <a href='command:jupyter.viewOutput'>log</a> for further details."
     ]
    },
    {
     "ename": "",
     "evalue": "",
     "output_type": "error",
     "traceback": [
      "\u001b[1;31mnotebook controller is DISPOSED. \n",
      "\u001b[1;31mView Jupyter <a href='command:jupyter.viewOutput'>log</a> for further details."
     ]
    },
    {
     "ename": "",
     "evalue": "",
     "output_type": "error",
     "traceback": [
      "\u001b[1;31mnotebook controller is DISPOSED. \n",
      "\u001b[1;31mView Jupyter <a href='command:jupyter.viewOutput'>log</a> for further details."
     ]
    },
    {
     "ename": "",
     "evalue": "",
     "output_type": "error",
     "traceback": [
      "\u001b[1;31mnotebook controller is DISPOSED. \n",
      "\u001b[1;31mView Jupyter <a href='command:jupyter.viewOutput'>log</a> for further details."
     ]
    },
    {
     "ename": "",
     "evalue": "",
     "output_type": "error",
     "traceback": [
      "\u001b[1;31mnotebook controller is DISPOSED. \n",
      "\u001b[1;31mView Jupyter <a href='command:jupyter.viewOutput'>log</a> for further details."
     ]
    },
    {
     "ename": "",
     "evalue": "",
     "output_type": "error",
     "traceback": [
      "\u001b[1;31mnotebook controller is DISPOSED. \n",
      "\u001b[1;31mView Jupyter <a href='command:jupyter.viewOutput'>log</a> for further details."
     ]
    },
    {
     "ename": "",
     "evalue": "",
     "output_type": "error",
     "traceback": [
      "\u001b[1;31mnotebook controller is DISPOSED. \n",
      "\u001b[1;31mView Jupyter <a href='command:jupyter.viewOutput'>log</a> for further details."
     ]
    },
    {
     "ename": "",
     "evalue": "",
     "output_type": "error",
     "traceback": [
      "\u001b[1;31mnotebook controller is DISPOSED. \n",
      "\u001b[1;31mView Jupyter <a href='command:jupyter.viewOutput'>log</a> for further details."
     ]
    },
    {
     "ename": "",
     "evalue": "",
     "output_type": "error",
     "traceback": [
      "\u001b[1;31mnotebook controller is DISPOSED. \n",
      "\u001b[1;31mView Jupyter <a href='command:jupyter.viewOutput'>log</a> for further details."
     ]
    }
   ],
   "source": [
    "import yaml \n",
    "with open('../development_files/creds.yml') as f:\n",
    "    config = yaml.safe_load(f)\n",
    "\n",
    "bg = BrickToGrafana(grafana_server=config['grafana_server'], grafana_api_key = config['grafana_api_key'], datasource=config['datasource'], ttl_path = 'test-brick-model.ttl')"
   ]
  },
  {
   "cell_type": "code",
   "execution_count": null,
   "metadata": {},
   "outputs": [
    {
     "data": {
      "text/plain": [
       "Dashboard(title='AQL from brick', annotations=Annotations(list=[]), description='Zone-based dashboard generated from Brick model', editable=True, gnetId=None, graphTooltip=0, hideControls=False, id=None, inputs=[], links=[], panels=[TimeSeries(dataSource='AQLCentral', targets=[SqlTarget(expr='', format='time_series', hide=False, legendFormat='', interval='', intervalFactor=2, metric='', refId='Speed_Status', step=10, target='', instant=False, datasource='AQLCentral', rawSql='SELECT \\n                ts AS \"time\", \\n                CAST(value_string AS FLOAT) AS \"Speed_Status\"\\n            FROM \\n                data \\n            WHERE \\n                topic_id in (select topic_id from topics where topic_name = \\'aql/1610101/vfd_output\\')\\n            AND \\n                $__timeFilter(ts) \\n            ORDER BY 1', rawQuery=True, srcFilePath='', sqlParams={}), SqlTarget(expr='', format='time_series', hide=False, legendFormat='', interval='', intervalFactor=2, metric='', refId='Unoccupied_Heating_Temperature_Setpoint', step=10, target='', instant=False, datasource='AQLCentral', rawSql='SELECT \\n                ts AS \"time\", \\n                CAST(value_string AS FLOAT) AS \"Unoccupied_Heating_Temperature_Setpoint\"\\n            FROM \\n                data \\n            WHERE \\n                topic_id in (select topic_id from topics where topic_name = \\'aql/1610101/uhsp\\')\\n            AND \\n                $__timeFilter(ts) \\n            ORDER BY 1', rawQuery=True, srcFilePath='', sqlParams={}), SqlTarget(expr='', format='time_series', hide=False, legendFormat='', interval='', intervalFactor=2, metric='', refId='Mode_Status', step=10, target='', instant=False, datasource='AQLCentral', rawSql='SELECT \\n                ts AS \"time\", \\n                CAST(value_string AS FLOAT) AS \"Mode_Status\"\\n            FROM \\n                data \\n            WHERE \\n                topic_id in (select topic_id from topics where topic_name = \\'aql/1610101/sys_demand\\')\\n            AND \\n                $__timeFilter(ts) \\n            ORDER BY 1', rawQuery=True, srcFilePath='', sqlParams={}), SqlTarget(expr='', format='time_series', hide=False, legendFormat='', interval='', intervalFactor=2, metric='', refId='Supply_Air_Temperature_Setpoint', step=10, target='', instant=False, datasource='AQLCentral', rawSql='SELECT \\n                ts AS \"time\", \\n                CAST(value_string AS FLOAT) AS \"Supply_Air_Temperature_Setpoint\"\\n            FROM \\n                data \\n            WHERE \\n                topic_id in (select topic_id from topics where topic_name = \\'aql/1610101/sup_air_temp_setpt\\')\\n            AND \\n                $__timeFilter(ts) \\n            ORDER BY 1', rawQuery=True, srcFilePath='', sqlParams={}), SqlTarget(expr='', format='time_series', hide=False, legendFormat='', interval='', intervalFactor=2, metric='', refId='Supply_Air_Temperature_Sensor', step=10, target='', instant=False, datasource='AQLCentral', rawSql='SELECT \\n                ts AS \"time\", \\n                CAST(value_string AS FLOAT) AS \"Supply_Air_Temperature_Sensor\"\\n            FROM \\n                data \\n            WHERE \\n                topic_id in (select topic_id from topics where topic_name = \\'aql/1610101/sa_temp\\')\\n            AND \\n                $__timeFilter(ts) \\n            ORDER BY 1', rawQuery=True, srcFilePath='', sqlParams={}), SqlTarget(expr='', format='time_series', hide=False, legendFormat='', interval='', intervalFactor=2, metric='', refId='Relative_Humidity_Sensor', step=10, target='', instant=False, datasource='AQLCentral', rawSql='SELECT \\n                ts AS \"time\", \\n                CAST(value_string AS FLOAT) AS \"Relative_Humidity_Sensor\"\\n            FROM \\n                data \\n            WHERE \\n                topic_id in (select topic_id from topics where topic_name = \\'aql/1610101/rarh\\')\\n            AND \\n                $__timeFilter(ts) \\n            ORDER BY 1', rawQuery=True, srcFilePath='', sqlParams={}), SqlTarget(expr='', format='time_series', hide=False, legendFormat='', interval='', intervalFactor=2, metric='', refId='Return_Air_Temperature_Sensor', step=10, target='', instant=False, datasource='AQLCentral', rawSql='SELECT \\n                ts AS \"time\", \\n                CAST(value_string AS FLOAT) AS \"Return_Air_Temperature_Sensor\"\\n            FROM \\n                data \\n            WHERE \\n                topic_id in (select topic_id from topics where topic_name = \\'aql/1610101/ra_temp\\')\\n            AND \\n                $__timeFilter(ts) \\n            ORDER BY 1', rawQuery=True, srcFilePath='', sqlParams={}), SqlTarget(expr='', format='time_series', hide=False, legendFormat='', interval='', intervalFactor=2, metric='', refId='Return_Air_Enthalpy_Sensor', step=10, target='', instant=False, datasource='AQLCentral', rawSql='SELECT \\n                ts AS \"time\", \\n                CAST(value_string AS FLOAT) AS \"Return_Air_Enthalpy_Sensor\"\\n            FROM \\n                data \\n            WHERE \\n                topic_id in (select topic_id from topics where topic_name = \\'aql/1610101/ra_enth\\')\\n            AND \\n                $__timeFilter(ts) \\n            ORDER BY 1', rawQuery=True, srcFilePath='', sqlParams={}), SqlTarget(expr='', format='time_series', hide=False, legendFormat='', interval='', intervalFactor=2, metric='', refId='Outside_Air_Humidity_Sensor', step=10, target='', instant=False, datasource='AQLCentral', rawSql='SELECT \\n                ts AS \"time\", \\n                CAST(value_string AS FLOAT) AS \"Outside_Air_Humidity_Sensor\"\\n            FROM \\n                data \\n            WHERE \\n                topic_id in (select topic_id from topics where topic_name = \\'aql/1610101/oarh\\')\\n            AND \\n                $__timeFilter(ts) \\n            ORDER BY 1', rawQuery=True, srcFilePath='', sqlParams={}), SqlTarget(expr='', format='time_series', hide=False, legendFormat='', interval='', intervalFactor=2, metric='', refId='Outside_Air_Temperature_Sensor', step=10, target='', instant=False, datasource='AQLCentral', rawSql='SELECT \\n                ts AS \"time\", \\n                CAST(value_string AS FLOAT) AS \"Outside_Air_Temperature_Sensor\"\\n            FROM \\n                data \\n            WHERE \\n                topic_id in (select topic_id from topics where topic_name = \\'aql/1610101/oa_temp\\')\\n            AND \\n                $__timeFilter(ts) \\n            ORDER BY 1', rawQuery=True, srcFilePath='', sqlParams={}), SqlTarget(expr='', format='time_series', hide=False, legendFormat='', interval='', intervalFactor=2, metric='', refId='Outside_Air_Enthalpy_Sensor', step=10, target='', instant=False, datasource='AQLCentral', rawSql='SELECT \\n                ts AS \"time\", \\n                CAST(value_string AS FLOAT) AS \"Outside_Air_Enthalpy_Sensor\"\\n            FROM \\n                data \\n            WHERE \\n                topic_id in (select topic_id from topics where topic_name = \\'aql/1610101/oa_enth\\')\\n            AND \\n                $__timeFilter(ts) \\n            ORDER BY 1', rawQuery=True, srcFilePath='', sqlParams={}), SqlTarget(expr='', format='time_series', hide=False, legendFormat='', interval='', intervalFactor=2, metric='', refId='Damper_Position_Sensor', step=10, target='', instant=False, datasource='AQLCentral', rawSql='SELECT \\n                ts AS \"time\", \\n                CAST(value_string AS FLOAT) AS \"Damper_Position_Sensor\"\\n            FROM \\n                data \\n            WHERE \\n                topic_id in (select topic_id from topics where topic_name = \\'aql/1610101/oa_dmpr_pos\\')\\n            AND \\n                $__timeFilter(ts) \\n            ORDER BY 1', rawQuery=True, srcFilePath='', sqlParams={}), SqlTarget(expr='', format='time_series', hide=False, legendFormat='', interval='', intervalFactor=2, metric='', refId='Heating_Temperature_Setpoint', step=10, target='', instant=False, datasource='AQLCentral', rawSql='SELECT \\n                ts AS \"time\", \\n                CAST(value_string AS FLOAT) AS \"Heating_Temperature_Setpoint\"\\n            FROM \\n                data \\n            WHERE \\n                topic_id in (select topic_id from topics where topic_name = \\'aql/1610101/hsp_eff\\')\\n            AND \\n                $__timeFilter(ts) \\n            ORDER BY 1', rawQuery=True, srcFilePath='', sqlParams={}), SqlTarget(expr='', format='time_series', hide=False, legendFormat='', interval='', intervalFactor=2, metric='', refId='Effective_Zone_Air_Temperature_Setpoint', step=10, target='', instant=False, datasource='AQLCentral', rawSql='SELECT \\n                ts AS \"time\", \\n                CAST(value_string AS FLOAT) AS \"Effective_Zone_Air_Temperature_Setpoint\"\\n            FROM \\n                data \\n            WHERE \\n                topic_id in (select topic_id from topics where topic_name = \\'aql/1610101/effsp\\')\\n            AND \\n                $__timeFilter(ts) \\n            ORDER BY 1', rawQuery=True, srcFilePath='', sqlParams={}), SqlTarget(expr='', format='time_series', hide=False, legendFormat='', interval='', intervalFactor=2, metric='', refId='Temperature_Deadband_Setpoint', step=10, target='', instant=False, datasource='AQLCentral', rawSql='SELECT \\n                ts AS \"time\", \\n                CAST(value_string AS FLOAT) AS \"Temperature_Deadband_Setpoint\"\\n            FROM \\n                data \\n            WHERE \\n                topic_id in (select topic_id from topics where topic_name = \\'aql/1610101/effdb\\')\\n            AND \\n                $__timeFilter(ts) \\n            ORDER BY 1', rawQuery=True, srcFilePath='', sqlParams={}), SqlTarget(expr='', format='time_series', hide=False, legendFormat='', interval='', intervalFactor=2, metric='', refId='Cooling_Temperature_Setpoint', step=10, target='', instant=False, datasource='AQLCentral', rawSql='SELECT \\n                ts AS \"time\", \\n                CAST(value_string AS FLOAT) AS \"Cooling_Temperature_Setpoint\"\\n            FROM \\n                data \\n            WHERE \\n                topic_id in (select topic_id from topics where topic_name = \\'aql/1610101/csp_eff\\')\\n            AND \\n                $__timeFilter(ts) \\n            ORDER BY 1', rawQuery=True, srcFilePath='', sqlParams={}), SqlTarget(expr='', format='time_series', hide=False, legendFormat='', interval='', intervalFactor=2, metric='', refId='Occupancy_Command', step=10, target='', instant=False, datasource='AQLCentral', rawSql='SELECT \\n                ts AS \"time\", \\n                CAST(value_string AS FLOAT) AS \"Occupancy_Command\"\\n            FROM \\n                data \\n            WHERE \\n                topic_id in (select topic_id from topics where topic_name = \\'aql/1610101/bms_occ\\')\\n            AND \\n                $__timeFilter(ts) \\n            ORDER BY 1', rawQuery=True, srcFilePath='', sqlParams={}), SqlTarget(expr='', format='time_series', hide=False, legendFormat='', interval='', intervalFactor=2, metric='', refId='Heating_Mode_Status', step=10, target='', instant=False, datasource='AQLCentral', rawSql='SELECT \\n                ts AS \"time\", \\n                CAST(value_string AS FLOAT) AS \"Heating_Mode_Status\"\\n            FROM \\n                data \\n            WHERE \\n                topic_id in (select topic_id from topics where topic_name = \\'aql/1610101/acthstgs\\')\\n            AND \\n                $__timeFilter(ts) \\n            ORDER BY 1', rawQuery=True, srcFilePath='', sqlParams={}), SqlTarget(expr='', format='time_series', hide=False, legendFormat='', interval='', intervalFactor=2, metric='', refId='Cooling_Demand_Sensor', step=10, target='', instant=False, datasource='AQLCentral', rawSql='SELECT \\n                ts AS \"time\", \\n                CAST(value_string AS FLOAT) AS \"Cooling_Demand_Sensor\"\\n            FROM \\n                data \\n            WHERE \\n                topic_id in (select topic_id from topics where topic_name = \\'aql/1610101/actcstgs\\')\\n            AND \\n                $__timeFilter(ts) \\n            ORDER BY 1', rawQuery=True, srcFilePath='', sqlParams={}), SqlTarget(expr='', format='time_series', hide=False, legendFormat='', interval='', intervalFactor=2, metric='', refId='Zone_Air_Temperature_Sensor', step=10, target='', instant=False, datasource='AQLCentral', rawSql='SELECT \\n                ts AS \"time\", \\n                CAST(value_string AS FLOAT) AS \"Zone_Air_Temperature_Sensor\"\\n            FROM \\n                data \\n            WHERE \\n                topic_id in (select topic_id from topics where topic_name = \\'aql/1610101/ZSZoneTemp\\')\\n            AND \\n                $__timeFilter(ts) \\n            ORDER BY 1', rawQuery=True, srcFilePath='', sqlParams={})], title='hvac1', cacheTimeout=None, description=None, editable=True, error=False, height=None, gridPos=GridPos(h=8, w=16, x=0, y=0), hideTimeOverride=False, id=1, interval=None, links=[], maxDataPoints=100, minSpan=None, repeat=Repeat(direction=None, variable=None, maxPerRow=None), span=None, thresholds=[], thresholdType='absolute', timeFrom=None, timeShift=None, transparent=False, transformations=[], extraJson=None, axisPlacement='auto', axisLabel='', barAlignment=0, colorMode='palette-classic', drawStyle='line', fillOpacity=0, gradientMode='none', legendDisplayMode='list', legendPlacement='bottom', legendCalcs=[], lineInterpolation='linear', lineWidth=1, mappings=[], overrides=[{'matcher': {'id': 'byValue', 'options': {'op': 'lte', 'reducer': 'max', 'value': 10}}, 'properties': [{'id': 'custom.axisPlacement', 'value': 'right'}]}, {'matcher': {'id': 'byValue', 'options': {'op': 'gte', 'reducer': 'allIsZero', 'value': 0}}, 'properties': [{'id': 'custom.hideFrom', 'value': {'legend': True, 'tooltip': False, 'viz': True}}]}], pointSize=5, scaleDistributionType='linear', scaleDistributionLog=2, spanNulls=False, showPoints='auto', stacking={}, tooltipMode='single', tooltipSort='none', unit='', thresholdsStyleMode='off', valueMin=None, valueMax=None, valueDecimals=None, axisSoftMin=None, axisSoftMax=None), TimeSeries(dataSource='AQLCentral', targets=[SqlTarget(expr='', format='time_series', hide=False, legendFormat='', interval='', intervalFactor=2, metric='', refId='Supply_Air_Temperature_Setpoint', step=10, target='', instant=False, datasource='AQLCentral', rawSql='SELECT \\n                ts AS \"time\", \\n                CAST(value_string AS FLOAT) AS \"Supply_Air_Temperature_Setpoint\"\\n            FROM \\n                data \\n            WHERE \\n                topic_id in (select topic_id from topics where topic_name = \\'aql/1610102/sup_air_temp_setpt\\')\\n            AND \\n                $__timeFilter(ts) \\n            ORDER BY 1', rawQuery=True, srcFilePath='', sqlParams={}), SqlTarget(expr='', format='time_series', hide=False, legendFormat='', interval='', intervalFactor=2, metric='', refId='Supply_Air_Temperature_Sensor', step=10, target='', instant=False, datasource='AQLCentral', rawSql='SELECT \\n                ts AS \"time\", \\n                CAST(value_string AS FLOAT) AS \"Supply_Air_Temperature_Sensor\"\\n            FROM \\n                data \\n            WHERE \\n                topic_id in (select topic_id from topics where topic_name = \\'aql/1610102/sa_temp\\')\\n            AND \\n                $__timeFilter(ts) \\n            ORDER BY 1', rawQuery=True, srcFilePath='', sqlParams={}), SqlTarget(expr='', format='time_series', hide=False, legendFormat='', interval='', intervalFactor=2, metric='', refId='Return_Air_Temperature_Sensor', step=10, target='', instant=False, datasource='AQLCentral', rawSql='SELECT \\n                ts AS \"time\", \\n                CAST(value_string AS FLOAT) AS \"Return_Air_Temperature_Sensor\"\\n            FROM \\n                data \\n            WHERE \\n                topic_id in (select topic_id from topics where topic_name = \\'aql/1610102/ra_temp\\')\\n            AND \\n                $__timeFilter(ts) \\n            ORDER BY 1', rawQuery=True, srcFilePath='', sqlParams={}), SqlTarget(expr='', format='time_series', hide=False, legendFormat='', interval='', intervalFactor=2, metric='', refId='Outside_Air_Temperature_Sensor', step=10, target='', instant=False, datasource='AQLCentral', rawSql='SELECT \\n                ts AS \"time\", \\n                CAST(value_string AS FLOAT) AS \"Outside_Air_Temperature_Sensor\"\\n            FROM \\n                data \\n            WHERE \\n                topic_id in (select topic_id from topics where topic_name = \\'aql/1610102/max_free_cl_temp\\')\\n            AND \\n                $__timeFilter(ts) \\n            ORDER BY 1', rawQuery=True, srcFilePath='', sqlParams={}), SqlTarget(expr='', format='time_series', hide=False, legendFormat='', interval='', intervalFactor=2, metric='', refId='Damper_Position_Sensor', step=10, target='', instant=False, datasource='AQLCentral', rawSql='SELECT \\n                ts AS \"time\", \\n                CAST(value_string AS FLOAT) AS \"Damper_Position_Sensor\"\\n            FROM \\n                data \\n            WHERE \\n                topic_id in (select topic_id from topics where topic_name = \\'aql/1610102/oa_dmpr_pos\\')\\n            AND \\n                $__timeFilter(ts) \\n            ORDER BY 1', rawQuery=True, srcFilePath='', sqlParams={}), SqlTarget(expr='', format='time_series', hide=False, legendFormat='', interval='', intervalFactor=2, metric='', refId='Heating_Temperature_Setpoint', step=10, target='', instant=False, datasource='AQLCentral', rawSql='SELECT \\n                ts AS \"time\", \\n                CAST(value_string AS FLOAT) AS \"Heating_Temperature_Setpoint\"\\n            FROM \\n                data \\n            WHERE \\n                topic_id in (select topic_id from topics where topic_name = \\'aql/1610102/hsp_eff\\')\\n            AND \\n                $__timeFilter(ts) \\n            ORDER BY 1', rawQuery=True, srcFilePath='', sqlParams={}), SqlTarget(expr='', format='time_series', hide=False, legendFormat='', interval='', intervalFactor=2, metric='', refId='Cooling_Temperature_Setpoint', step=10, target='', instant=False, datasource='AQLCentral', rawSql='SELECT \\n                ts AS \"time\", \\n                CAST(value_string AS FLOAT) AS \"Cooling_Temperature_Setpoint\"\\n            FROM \\n                data \\n            WHERE \\n                topic_id in (select topic_id from topics where topic_name = \\'aql/1610102/csp_eff\\')\\n            AND \\n                $__timeFilter(ts) \\n            ORDER BY 1', rawQuery=True, srcFilePath='', sqlParams={}), SqlTarget(expr='', format='time_series', hide=False, legendFormat='', interval='', intervalFactor=2, metric='', refId='Occupancy_Command', step=10, target='', instant=False, datasource='AQLCentral', rawSql='SELECT \\n                ts AS \"time\", \\n                CAST(value_string AS FLOAT) AS \"Occupancy_Command\"\\n            FROM \\n                data \\n            WHERE \\n                topic_id in (select topic_id from topics where topic_name = \\'aql/1610102/bms_occ\\')\\n            AND \\n                $__timeFilter(ts) \\n            ORDER BY 1', rawQuery=True, srcFilePath='', sqlParams={}), SqlTarget(expr='', format='time_series', hide=False, legendFormat='', interval='', intervalFactor=2, metric='', refId='Stages_Status', step=10, target='', instant=False, datasource='AQLCentral', rawSql='SELECT \\n                ts AS \"time\", \\n                CAST(value_string AS FLOAT) AS \"Stages_Status\"\\n            FROM \\n                data \\n            WHERE \\n                topic_id in (select topic_id from topics where topic_name = \\'aql/1610102/acthstgs\\')\\n            AND \\n                $__timeFilter(ts) \\n            ORDER BY 1', rawQuery=True, srcFilePath='', sqlParams={}), SqlTarget(expr='', format='time_series', hide=False, legendFormat='', interval='', intervalFactor=2, metric='', refId='Cooling_Demand_Sensor', step=10, target='', instant=False, datasource='AQLCentral', rawSql='SELECT \\n                ts AS \"time\", \\n                CAST(value_string AS FLOAT) AS \"Cooling_Demand_Sensor\"\\n            FROM \\n                data \\n            WHERE \\n                topic_id in (select topic_id from topics where topic_name = \\'aql/1610102/actcstgs\\')\\n            AND \\n                $__timeFilter(ts) \\n            ORDER BY 1', rawQuery=True, srcFilePath='', sqlParams={}), SqlTarget(expr='', format='time_series', hide=False, legendFormat='', interval='', intervalFactor=2, metric='', refId='Zone_Air_Temperature_Sensor', step=10, target='', instant=False, datasource='AQLCentral', rawSql='SELECT \\n                ts AS \"time\", \\n                CAST(value_string AS FLOAT) AS \"Zone_Air_Temperature_Sensor\"\\n            FROM \\n                data \\n            WHERE \\n                topic_id in (select topic_id from topics where topic_name = \\'aql/1610102/ZSZoneTemp\\')\\n            AND \\n                $__timeFilter(ts) \\n            ORDER BY 1', rawQuery=True, srcFilePath='', sqlParams={})], title='hvac2', cacheTimeout=None, description=None, editable=True, error=False, height=None, gridPos=GridPos(h=8, w=16, x=0, y=10), hideTimeOverride=False, id=2, interval=None, links=[], maxDataPoints=100, minSpan=None, repeat=Repeat(direction=None, variable=None, maxPerRow=None), span=None, thresholds=[], thresholdType='absolute', timeFrom=None, timeShift=None, transparent=False, transformations=[], extraJson=None, axisPlacement='auto', axisLabel='', barAlignment=0, colorMode='palette-classic', drawStyle='line', fillOpacity=0, gradientMode='none', legendDisplayMode='list', legendPlacement='bottom', legendCalcs=[], lineInterpolation='linear', lineWidth=1, mappings=[], overrides=[{'matcher': {'id': 'byValue', 'options': {'op': 'lte', 'reducer': 'max', 'value': 10}}, 'properties': [{'id': 'custom.axisPlacement', 'value': 'right'}]}, {'matcher': {'id': 'byValue', 'options': {'op': 'gte', 'reducer': 'allIsZero', 'value': 0}}, 'properties': [{'id': 'custom.hideFrom', 'value': {'legend': True, 'tooltip': False, 'viz': True}}]}], pointSize=5, scaleDistributionType='linear', scaleDistributionLog=2, spanNulls=False, showPoints='auto', stacking={}, tooltipMode='single', tooltipSort='none', unit='', thresholdsStyleMode='off', valueMin=None, valueMax=None, valueDecimals=None, axisSoftMin=None, axisSoftMax=None), TimeSeries(dataSource='AQLCentral', targets=[SqlTarget(expr='', format='time_series', hide=False, legendFormat='', interval='', intervalFactor=2, metric='', refId='Zone_Air_Humidity_Sensor', step=10, target='', instant=False, datasource='AQLCentral', rawSql='SELECT \\n                ts AS \"time\", \\n                CAST(value_string AS FLOAT) AS \"Zone_Air_Humidity_Sensor\"\\n            FROM \\n                data \\n            WHERE \\n                topic_id in (select topic_id from topics where topic_name = \\'aql/1610101/space_rh\\')\\n            AND \\n                $__timeFilter(ts) \\n            ORDER BY 1', rawQuery=True, srcFilePath='', sqlParams={})], title='zone1', cacheTimeout=None, description=None, editable=True, error=False, height=None, gridPos=GridPos(h=8, w=16, x=0, y=20), hideTimeOverride=False, id=3, interval=None, links=[], maxDataPoints=100, minSpan=None, repeat=Repeat(direction=None, variable=None, maxPerRow=None), span=None, thresholds=[], thresholdType='absolute', timeFrom=None, timeShift=None, transparent=False, transformations=[], extraJson=None, axisPlacement='auto', axisLabel='', barAlignment=0, colorMode='palette-classic', drawStyle='line', fillOpacity=0, gradientMode='none', legendDisplayMode='list', legendPlacement='bottom', legendCalcs=[], lineInterpolation='linear', lineWidth=1, mappings=[], overrides=[{'matcher': {'id': 'byValue', 'options': {'op': 'lte', 'reducer': 'max', 'value': 10}}, 'properties': [{'id': 'custom.axisPlacement', 'value': 'right'}]}, {'matcher': {'id': 'byValue', 'options': {'op': 'gte', 'reducer': 'allIsZero', 'value': 0}}, 'properties': [{'id': 'custom.hideFrom', 'value': {'legend': True, 'tooltip': False, 'viz': True}}]}], pointSize=5, scaleDistributionType='linear', scaleDistributionLog=2, spanNulls=False, showPoints='auto', stacking={}, tooltipMode='single', tooltipSort='none', unit='', thresholdsStyleMode='off', valueMin=None, valueMax=None, valueDecimals=None, axisSoftMin=None, axisSoftMax=None)], refresh='10s', rows=[], schemaVersion=12, sharedCrosshair=False, style='dark', tags=['brick'], templating=Templating(list=[]), time=Time(start='now-1h', end='now'), timePicker=TimePicker(refreshIntervals=['5s', '10s', '30s', '1m', '5m', '15m', '30m', '1h', '2h', '1d'], timeOptions=['5m', '15m', '1h', '6h', '12h', '24h', '2d', '7d', '30d'], nowDelay=None, hidden=False), timezone='browser', version=0, uid=None)"
      ]
     },
     "execution_count": 20,
     "metadata": {},
     "output_type": "execute_result"
    },
    {
     "ename": "",
     "evalue": "",
     "output_type": "error",
     "traceback": [
      "\u001b[1;31mnotebook controller is DISPOSED. \n",
      "\u001b[1;31mView Jupyter <a href='command:jupyter.viewOutput'>log</a> for further details."
     ]
    },
    {
     "ename": "",
     "evalue": "",
     "output_type": "error",
     "traceback": [
      "\u001b[1;31mnotebook controller is DISPOSED. \n",
      "\u001b[1;31mView Jupyter <a href='command:jupyter.viewOutput'>log</a> for further details."
     ]
    },
    {
     "ename": "",
     "evalue": "",
     "output_type": "error",
     "traceback": [
      "\u001b[1;31mnotebook controller is DISPOSED. \n",
      "\u001b[1;31mView Jupyter <a href='command:jupyter.viewOutput'>log</a> for further details."
     ]
    },
    {
     "ename": "",
     "evalue": "",
     "output_type": "error",
     "traceback": [
      "\u001b[1;31mnotebook controller is DISPOSED. \n",
      "\u001b[1;31mView Jupyter <a href='command:jupyter.viewOutput'>log</a> for further details."
     ]
    },
    {
     "ename": "",
     "evalue": "",
     "output_type": "error",
     "traceback": [
      "\u001b[1;31mnotebook controller is DISPOSED. \n",
      "\u001b[1;31mView Jupyter <a href='command:jupyter.viewOutput'>log</a> for further details."
     ]
    },
    {
     "ename": "",
     "evalue": "",
     "output_type": "error",
     "traceback": [
      "\u001b[1;31mnotebook controller is DISPOSED. \n",
      "\u001b[1;31mView Jupyter <a href='command:jupyter.viewOutput'>log</a> for further details."
     ]
    },
    {
     "ename": "",
     "evalue": "",
     "output_type": "error",
     "traceback": [
      "\u001b[1;31mnotebook controller is DISPOSED. \n",
      "\u001b[1;31mView Jupyter <a href='command:jupyter.viewOutput'>log</a> for further details."
     ]
    },
    {
     "ename": "",
     "evalue": "",
     "output_type": "error",
     "traceback": [
      "\u001b[1;31mnotebook controller is DISPOSED. \n",
      "\u001b[1;31mView Jupyter <a href='command:jupyter.viewOutput'>log</a> for further details."
     ]
    },
    {
     "ename": "",
     "evalue": "",
     "output_type": "error",
     "traceback": [
      "\u001b[1;31mnotebook controller is DISPOSED. \n",
      "\u001b[1;31mView Jupyter <a href='command:jupyter.viewOutput'>log</a> for further details."
     ]
    }
   ],
   "source": [
    "bg.create_dashboard('AQL from brick')"
   ]
  },
  {
   "cell_type": "code",
   "execution_count": null,
   "metadata": {},
   "outputs": [
    {
     "name": "stdout",
     "output_type": "stream",
     "text": [
      "Upload status: 200 - b'{\"id\":10,\"slug\":\"aql-from-brick\",\"status\":\"success\",\"uid\":\"d61fc704-4ac4-415e-9ee1-a6a270f5866c\",\"url\":\"/d/d61fc704-4ac4-415e-9ee1-a6a270f5866c/aql-from-brick\",\"version\":4}'\n"
     ]
    },
    {
     "ename": "",
     "evalue": "",
     "output_type": "error",
     "traceback": [
      "\u001b[1;31mnotebook controller is DISPOSED. \n",
      "\u001b[1;31mView Jupyter <a href='command:jupyter.viewOutput'>log</a> for further details."
     ]
    },
    {
     "ename": "",
     "evalue": "",
     "output_type": "error",
     "traceback": [
      "\u001b[1;31mnotebook controller is DISPOSED. \n",
      "\u001b[1;31mView Jupyter <a href='command:jupyter.viewOutput'>log</a> for further details."
     ]
    },
    {
     "ename": "",
     "evalue": "",
     "output_type": "error",
     "traceback": [
      "\u001b[1;31mnotebook controller is DISPOSED. \n",
      "\u001b[1;31mView Jupyter <a href='command:jupyter.viewOutput'>log</a> for further details."
     ]
    },
    {
     "ename": "",
     "evalue": "",
     "output_type": "error",
     "traceback": [
      "\u001b[1;31mnotebook controller is DISPOSED. \n",
      "\u001b[1;31mView Jupyter <a href='command:jupyter.viewOutput'>log</a> for further details."
     ]
    },
    {
     "ename": "",
     "evalue": "",
     "output_type": "error",
     "traceback": [
      "\u001b[1;31mnotebook controller is DISPOSED. \n",
      "\u001b[1;31mView Jupyter <a href='command:jupyter.viewOutput'>log</a> for further details."
     ]
    },
    {
     "ename": "",
     "evalue": "",
     "output_type": "error",
     "traceback": [
      "\u001b[1;31mnotebook controller is DISPOSED. \n",
      "\u001b[1;31mView Jupyter <a href='command:jupyter.viewOutput'>log</a> for further details."
     ]
    },
    {
     "ename": "",
     "evalue": "",
     "output_type": "error",
     "traceback": [
      "\u001b[1;31mnotebook controller is DISPOSED. \n",
      "\u001b[1;31mView Jupyter <a href='command:jupyter.viewOutput'>log</a> for further details."
     ]
    },
    {
     "ename": "",
     "evalue": "",
     "output_type": "error",
     "traceback": [
      "\u001b[1;31mnotebook controller is DISPOSED. \n",
      "\u001b[1;31mView Jupyter <a href='command:jupyter.viewOutput'>log</a> for further details."
     ]
    },
    {
     "ename": "",
     "evalue": "",
     "output_type": "error",
     "traceback": [
      "\u001b[1;31mnotebook controller is DISPOSED. \n",
      "\u001b[1;31mView Jupyter <a href='command:jupyter.viewOutput'>log</a> for further details."
     ]
    }
   ],
   "source": [
    "bg.upload_dashboard(message = 'testing upload')"
   ]
  }
 ],
 "metadata": {
  "kernelspec": {
   "display_name": "creating-brick-model",
   "language": "python",
   "name": "python3"
  },
  "language_info": {
   "codemirror_mode": {
    "name": "ipython",
    "version": 3
   },
   "file_extension": ".py",
   "mimetype": "text/x-python",
   "name": "python",
   "nbconvert_exporter": "python",
   "pygments_lexer": "ipython3",
   "version": "3.10.0"
  }
 },
 "nbformat": 4,
 "nbformat_minor": 2
}
