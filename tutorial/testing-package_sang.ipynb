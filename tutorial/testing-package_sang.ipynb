{
 "cells": [
  {
   "cell_type": "code",
   "execution_count": 1,
   "metadata": {},
   "outputs": [],
   "source": [
    "import sys\n",
    "sys.path.insert(0, '..')\n",
    "from ModelInterface import ModelBuilder, BuildingMetadataLoader, add_points, Survey, SurveyReader\n",
    "from buildingmotif.namespaces import BRICK, RDF"
   ]
  },
  {
   "cell_type": "markdown",
   "metadata": {},
   "source": [
    "# Testing the Model Builder"
   ]
  },
  {
   "cell_type": "code",
   "execution_count": 2,
   "metadata": {},
   "outputs": [
    {
     "name": "stderr",
     "output_type": "stream",
     "text": [
      "/opt/anaconda3/envs/hpflex_mpc/lib/python3.11/site-packages/pyshacl/extras/__init__.py:46: Warning: Extra \"js\" is not satisfied because requirement pyduktape2 is not installed.\n",
      "  warn(Warning(f\"Extra \\\"{extra_name}\\\" is not satisfied because requirement {req} is not installed.\"))\n"
     ]
    }
   ],
   "source": [
    "builder = ModelBuilder(\n",
    "    site_id=\"test-site\",\n",
    "    timezone=\"America/New_York\",\n",
    "    latitude=40.7128,\n",
    "    longitude=-74.0060,\n",
    "    noaa_station=\"KJFK\"\n",
    ")"
   ]
  },
  {
   "cell_type": "code",
   "execution_count": 3,
   "metadata": {},
   "outputs": [
    {
     "name": "stdout",
     "output_type": "stream",
     "text": [
      "zone1\n",
      "zone2\n"
     ]
    }
   ],
   "source": [
    "builder.add_zone(\"zone1\")\n",
    "builder.add_window(\"window1\", \"zone1\", area_value=10.5, azimuth_value=180, tilt_value=30)\n",
    "builder.add_thermostat(\"tstat1\", \"zone1\", stage_count=2, setpoint_deadband=1, tolerance=2, active=True, resolution = \"float\",unit=\"IP\")\n",
    "builder.add_hvac(\"hvac1\", \"zone1\", cooling_capacity=5.0, heating_capacity=4.0, cooling_cop=3.5, heating_cop=3.0)\n",
    "builder.add_space(\"space1\", \"zone1\", area_value=50.0)\n",
    "\n",
    "builder.add_zone(\"zone2\")\n",
    "builder.add_window(\"window2\", \"zone2\", area_value=10.5, azimuth_value=180, tilt_value=30)\n",
    "builder.add_thermostat(\"tstat2\", \"zone2\", stage_count=2, setpoint_deadband=1, tolerance=2, active=True, resolution =  \"float\",unit=\"IP\")\n",
    "builder.add_hvac(\"hvac2\", \"zone2\", cooling_capacity=5.0, heating_capacity=4.0, cooling_cop=3.5, heating_cop=3.0)\n",
    "builder.add_space(\"space2\", \"zone2\", area_value=50.0)"
   ]
  },
  {
   "cell_type": "code",
   "execution_count": 4,
   "metadata": {},
   "outputs": [],
   "source": [
    "# Using AQL for proof of concept, this part is incomplete\n",
    "add_points(builder, \"../development_files/metadata-survey-variable-map.csv\")"
   ]
  },
  {
   "cell_type": "code",
   "execution_count": 5,
   "metadata": {},
   "outputs": [],
   "source": [
    "builder.save_model(\"test-brick-model.ttl\")"
   ]
  },
  {
   "cell_type": "markdown",
   "metadata": {},
   "source": [
    "# Testing get Metadata"
   ]
  },
  {
   "cell_type": "code",
   "execution_count": 6,
   "metadata": {},
   "outputs": [],
   "source": [
    "site_metadata = BuildingMetadataLoader(\"test-brick-model.ttl\")\n",
    "site_info = site_metadata.get_site_info()\n",
    "thermostat_data = site_metadata.get_thermostat_data()"
   ]
  },
  {
   "cell_type": "code",
   "execution_count": 7,
   "metadata": {},
   "outputs": [
    {
     "data": {
      "text/plain": [
       "{'heat_availability': [False, False],\n",
       " 'cool_availability': [True, True],\n",
       " 'heat_tolerance': [-1.111111, -1.111111],\n",
       " 'cool_tolerance': [1.111111, 1.111111],\n",
       " 'setpoint_deadband': [0.5555556, 0.5555556],\n",
       " 'active': [True, True],\n",
       " 'control_group': ['urn:hpflex/test-site#tstat1_control_group',\n",
       "  'urn:hpflex/test-site#tstat2_control_group'],\n",
       " 'control_type_list': ['stage', 'stage'],\n",
       " 'floor_area_list': [50.0, 50.0],\n",
       " 'window_area_list': [10.5, 10.5],\n",
       " 'azimuth_list': [180, 180],\n",
       " 'tilt_list': [30, 30],\n",
       " 'zone_ids': ['zone1', 'zone2'],\n",
       " 'hvacs': ['hvac1', 'hvac2'],\n",
       " 'setpoint_type': ['double', 'double'],\n",
       " 'fuel_heat_list': ['gas', 'gas'],\n",
       " 'fuel_cool_list': ['electricity', 'electricity'],\n",
       " 'cooling_capacity': [5.0, 5.0],\n",
       " 'heating_capacity': [4.0, 4.0],\n",
       " 'cooling_cop': [3.5, 3.5],\n",
       " 'heating_cop': [3.0, 3.0],\n",
       " 'cooling_electricity': [],\n",
       " 'heating_electricity': [],\n",
       " 'resolution': ['float', 'float'],\n",
       " 'temperature_unit': [rdflib.term.URIRef('http://qudt.org/vocab/unit/DEG_F'),\n",
       "  rdflib.term.URIRef('http://qudt.org/vocab/unit/DEG_F')]}"
      ]
     },
     "execution_count": 7,
     "metadata": {},
     "output_type": "execute_result"
    }
   ],
   "source": [
    "thermostat_data"
   ]
  },
  {
   "cell_type": "code",
   "execution_count": 8,
   "metadata": {},
   "outputs": [
    {
     "data": {
      "text/plain": [
       "{'heat_availability': [False],\n",
       " 'cool_availability': [True],\n",
       " 'heat_tolerance': [-1.111111],\n",
       " 'cool_tolerance': [1.111111],\n",
       " 'setpoint_deadband': [0.5555556],\n",
       " 'active': [True],\n",
       " 'control_group': ['urn:hpflex/test-site#tstat1_control_group'],\n",
       " 'control_type_list': ['stage'],\n",
       " 'floor_area_list': [50.0],\n",
       " 'window_area_list': [10.5],\n",
       " 'azimuth_list': [180],\n",
       " 'tilt_list': [30],\n",
       " 'zone_ids': ['zone1'],\n",
       " 'hvacs': ['hvac1'],\n",
       " 'setpoint_type': ['double'],\n",
       " 'fuel_heat_list': ['gas'],\n",
       " 'fuel_cool_list': ['electricity'],\n",
       " 'cooling_capacity': [5.0],\n",
       " 'heating_capacity': [4.0],\n",
       " 'cooling_cop': [3.5],\n",
       " 'heating_cop': [3.0],\n",
       " 'cooling_electricity': [],\n",
       " 'heating_electricity': [],\n",
       " 'resolution': ['float'],\n",
       " 'temperature_unit': [rdflib.term.URIRef('http://qudt.org/vocab/unit/DEG_F')]}"
      ]
     },
     "execution_count": 8,
     "metadata": {},
     "output_type": "execute_result"
    }
   ],
   "source": [
    "site_metadata.get_thermostat_data(for_zone='zone1')"
   ]
  },
  {
   "cell_type": "code",
   "execution_count": 9,
   "metadata": {},
   "outputs": [
    {
     "data": {
      "text/plain": [
       "{'tz': 'America/New_York',\n",
       " 'latitude': 40.7128,\n",
       " 'longitude': -74.006,\n",
       " 'NOAAstation': None,\n",
       " 'project_id': rdflib.term.URIRef('urn:hpflex/test-site#test-site'),\n",
       " 'site_id': rdflib.term.URIRef('urn:hpflex/test-site#test-site'),\n",
       " 'heat_availability': [False, False],\n",
       " 'cool_availability': [True, True],\n",
       " 'heat_tolerance': [-1.111111, -1.111111],\n",
       " 'cool_tolerance': [1.111111, 1.111111],\n",
       " 'setpoint_deadband': [0.5555556, 0.5555556],\n",
       " 'active': [True, True],\n",
       " 'control_group': ['urn:hpflex/test-site#tstat1_control_group',\n",
       "  'urn:hpflex/test-site#tstat2_control_group'],\n",
       " 'control_type_list': ['stage', 'stage'],\n",
       " 'floor_area_list': [50.0, 50.0],\n",
       " 'window_area_list': [10.5, 10.5],\n",
       " 'azimuth_list': [180, 180],\n",
       " 'tilt_list': [30, 30],\n",
       " 'zone_ids': ['zone1', 'zone2'],\n",
       " 'hvacs': ['hvac1', 'hvac2'],\n",
       " 'setpoint_type': ['double', 'double'],\n",
       " 'fuel_heat_list': ['gas', 'gas'],\n",
       " 'fuel_cool_list': ['electricity', 'electricity'],\n",
       " 'cooling_capacity': [5.0, 5.0],\n",
       " 'heating_capacity': [4.0, 4.0],\n",
       " 'cooling_cop': [3.5, 3.5],\n",
       " 'heating_cop': [3.0, 3.0],\n",
       " 'cooling_electricity': [],\n",
       " 'heating_electricity': [],\n",
       " 'resolution': ['float', 'float'],\n",
       " 'temperature_unit': [rdflib.term.URIRef('http://qudt.org/vocab/unit/DEG_F'),\n",
       "  rdflib.term.URIRef('http://qudt.org/vocab/unit/DEG_F')]}"
      ]
     },
     "execution_count": 9,
     "metadata": {},
     "output_type": "execute_result"
    }
   ],
   "source": [
    "site_metadata.get_complete_output()"
   ]
  },
  {
   "cell_type": "markdown",
   "metadata": {},
   "source": [
    "# Generating Metadata Survey"
   ]
  },
  {
   "cell_type": "code",
   "execution_count": 10,
   "metadata": {},
   "outputs": [],
   "source": [
    "#Old version\n",
    "# interface = Survey(\n",
    "#     site_name=\"empty-test-site\",\n",
    "#     num_zones=3,\n",
    "#     spaces_per_zone=2,\n",
    "#     num_hvac_units=2,\n",
    "#     one_hvac_per_zone=True,\n",
    "#     hvac_type=\"hp-rtu\"\n",
    "# )\n",
    "#interface.generate_template(\"./metadata-survey\")"
   ]
  },
  {
   "cell_type": "code",
   "execution_count": 11,
   "metadata": {},
   "outputs": [],
   "source": [
    "survey_gen = Survey(site_name = 'easy-config-test',\n",
    "                             hvac_type = 'hp-rtu')\n",
    "# zone_space_window list for configuration: 3 zones, with 2 spaces and 2 windows, 1 space and 2 windows, 1 space 3 windows, one hvac unit per zone\n",
    "survey_gen.easy_config(zone_space_window_list=[(2,2),(1,2),(1,3)], output_path='./metadata-survey')\n",
    "# survey_gen.easy_config(zone_space_window_list=[(1,1)], output_path='./metadata-survey')\n"
   ]
  },
  {
   "cell_type": "code",
   "execution_count": 12,
   "metadata": {},
   "outputs": [],
   "source": [
    "# Custom config \n",
    "# TODO: add underscores to begining of all methods but generate template and easy config\n",
    "survey_gen = Survey(site_name= 'custom-config-test',\n",
    "                             hvac_type = 'vrf')\n",
    "survey_gen.generate_template(\n",
    "    hvacs_feed_hvacs = {'HP1': ['FCU1','FCU2','FCU3'],\n",
    "                        'HP2': ['FCU1', 'FCU2', 'FCU3']},\n",
    "    hvacs_feed_zones= {'FCU1': ['Zone1'],\n",
    "                       'FCU2': ['Zone2'],\n",
    "                       'FCU3': ['Zone3']},\n",
    "    zones_contain_spaces= {'Zone1': ['Z1S1', 'Z1S2'],\n",
    "                           'Zone2': ['Z1S2','Z2S3'],\n",
    "                           'Zone3': ['Z3S1']},\n",
    "    zones_contain_windows= {'Zone1': ['W1'],\n",
    "                           'Zone2': ['W2'],\n",
    "                           'Zone3': ['W3','W4','W5','W6']},\n",
    "                           output_path='./metadata-survey'\n",
    ")"
   ]
  },
  {
   "cell_type": "code",
   "execution_count": null,
   "metadata": {},
   "outputs": [],
   "source": []
  },
  {
   "cell_type": "markdown",
   "metadata": {},
   "source": [
    "# Reading Metadata Survey"
   ]
  },
  {
   "cell_type": "code",
   "execution_count": 13,
   "metadata": {},
   "outputs": [
    {
     "name": "stderr",
     "output_type": "stream",
     "text": [
      "/opt/anaconda3/envs/bmotif/lib/python3.11/site-packages/buildingmotif/database/table_connection.py:423: SAWarning: Identity map already had an identity for (<class 'buildingmotif.database.tables.DepsAssociation'>, (1,), None), replacing it with newly flushed object.   Are there load operations occurring inside of an event handler within the flush?\n",
      "  self.bm.session.flush()\n",
      "/opt/anaconda3/envs/bmotif/lib/python3.11/site-packages/buildingmotif/database/table_connection.py:423: SAWarning: Identity map already had an identity for (<class 'buildingmotif.database.tables.DepsAssociation'>, (2,), None), replacing it with newly flushed object.   Are there load operations occurring inside of an event handler within the flush?\n",
      "  self.bm.session.flush()\n",
      "/opt/anaconda3/envs/bmotif/lib/python3.11/site-packages/buildingmotif/database/table_connection.py:423: SAWarning: Identity map already had an identity for (<class 'buildingmotif.database.tables.DepsAssociation'>, (3,), None), replacing it with newly flushed object.   Are there load operations occurring inside of an event handler within the flush?\n",
      "  self.bm.session.flush()\n",
      "/opt/anaconda3/envs/bmotif/lib/python3.11/site-packages/buildingmotif/database/table_connection.py:423: SAWarning: Identity map already had an identity for (<class 'buildingmotif.database.tables.DepsAssociation'>, (4,), None), replacing it with newly flushed object.   Are there load operations occurring inside of an event handler within the flush?\n",
      "  self.bm.session.flush()\n",
      "/opt/anaconda3/envs/bmotif/lib/python3.11/site-packages/buildingmotif/database/table_connection.py:423: SAWarning: Identity map already had an identity for (<class 'buildingmotif.database.tables.DepsAssociation'>, (5,), None), replacing it with newly flushed object.   Are there load operations occurring inside of an event handler within the flush?\n",
      "  self.bm.session.flush()\n",
      "/opt/anaconda3/envs/bmotif/lib/python3.11/site-packages/buildingmotif/database/table_connection.py:423: SAWarning: Identity map already had an identity for (<class 'buildingmotif.database.tables.DepsAssociation'>, (6,), None), replacing it with newly flushed object.   Are there load operations occurring inside of an event handler within the flush?\n",
      "  self.bm.session.flush()\n",
      "/opt/anaconda3/envs/bmotif/lib/python3.11/site-packages/buildingmotif/database/table_connection.py:423: SAWarning: Identity map already had an identity for (<class 'buildingmotif.database.tables.DepsAssociation'>, (7,), None), replacing it with newly flushed object.   Are there load operations occurring inside of an event handler within the flush?\n",
      "  self.bm.session.flush()\n",
      "/opt/anaconda3/envs/bmotif/lib/python3.11/site-packages/buildingmotif/database/table_connection.py:423: SAWarning: Identity map already had an identity for (<class 'buildingmotif.database.tables.DepsAssociation'>, (8,), None), replacing it with newly flushed object.   Are there load operations occurring inside of an event handler within the flush?\n",
      "  self.bm.session.flush()\n",
      "/opt/anaconda3/envs/bmotif/lib/python3.11/site-packages/buildingmotif/database/table_connection.py:423: SAWarning: Identity map already had an identity for (<class 'buildingmotif.database.tables.DepsAssociation'>, (9,), None), replacing it with newly flushed object.   Are there load operations occurring inside of an event handler within the flush?\n",
      "  self.bm.session.flush()\n",
      "/opt/anaconda3/envs/bmotif/lib/python3.11/site-packages/buildingmotif/database/table_connection.py:423: SAWarning: Identity map already had an identity for (<class 'buildingmotif.database.tables.DepsAssociation'>, (10,), None), replacing it with newly flushed object.   Are there load operations occurring inside of an event handler within the flush?\n",
      "  self.bm.session.flush()\n",
      "/opt/anaconda3/envs/bmotif/lib/python3.11/site-packages/buildingmotif/database/table_connection.py:423: SAWarning: Identity map already had an identity for (<class 'buildingmotif.database.tables.DepsAssociation'>, (11,), None), replacing it with newly flushed object.   Are there load operations occurring inside of an event handler within the flush?\n",
      "  self.bm.session.flush()\n",
      "/opt/anaconda3/envs/bmotif/lib/python3.11/site-packages/buildingmotif/database/table_connection.py:423: SAWarning: Identity map already had an identity for (<class 'buildingmotif.database.tables.DepsAssociation'>, (12,), None), replacing it with newly flushed object.   Are there load operations occurring inside of an event handler within the flush?\n",
      "  self.bm.session.flush()\n",
      "/opt/anaconda3/envs/bmotif/lib/python3.11/site-packages/buildingmotif/database/table_connection.py:423: SAWarning: Identity map already had an identity for (<class 'buildingmotif.database.tables.DepsAssociation'>, (13,), None), replacing it with newly flushed object.   Are there load operations occurring inside of an event handler within the flush?\n",
      "  self.bm.session.flush()\n",
      "/opt/anaconda3/envs/bmotif/lib/python3.11/site-packages/buildingmotif/database/table_connection.py:423: SAWarning: Identity map already had an identity for (<class 'buildingmotif.database.tables.DepsAssociation'>, (14,), None), replacing it with newly flushed object.   Are there load operations occurring inside of an event handler within the flush?\n",
      "  self.bm.session.flush()\n"
     ]
    }
   ],
   "source": [
    "generator = SurveyReader(\"./metadata-survey/filled-out-easy-config-test\")\n",
    "generator.create_model(\"survey-brick-model.ttl\")"
   ]
  },
  {
   "cell_type": "code",
   "execution_count": 14,
   "metadata": {},
   "outputs": [
    {
     "data": {
      "text/plain": [
       "{'hvac_1': ['zone_1']}"
      ]
     },
     "execution_count": 14,
     "metadata": {},
     "output_type": "execute_result"
    }
   ],
   "source": [
    "generator.config['hvacs_feed_zones']"
   ]
  },
  {
   "cell_type": "code",
   "execution_count": null,
   "metadata": {},
   "outputs": [],
   "source": []
  }
 ],
 "metadata": {
  "kernelspec": {
   "display_name": "hpflex_mpc",
   "language": "python",
   "name": "python3"
  },
  "language_info": {
   "codemirror_mode": {
    "name": "ipython",
    "version": 3
   },
   "file_extension": ".py",
   "mimetype": "text/x-python",
   "name": "python",
   "nbconvert_exporter": "python",
   "pygments_lexer": "ipython3",
   "version": "3.11.9"
  }
 },
 "nbformat": 4,
 "nbformat_minor": 2
}
