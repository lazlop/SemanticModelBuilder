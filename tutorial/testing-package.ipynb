{
 "cells": [
  {
   "cell_type": "code",
   "execution_count": 1,
   "metadata": {},
   "outputs": [
    {
     "name": "stderr",
     "output_type": "stream",
     "text": [
      "CRITICAL:root:Install the 'bacnet-ingress' module, e.g. 'pip install buildingmotif[bacnet-ingress]'\n"
     ]
    }
   ],
   "source": [
    "# import sys\n",
    "# sys.path.insert(0, '..')\n",
    "from semantic_mpc_interface import (\n",
    "    LoadModel,\n",
    "    get_thermostat_data,\n",
    "    HPFlexSurvey,\n",
    "    convert_units,\n",
    "    SHACLHandler,\n",
    "    inline_shapes\n",
    "    # add_connection\n",
    ")\n",
    "from buildingmotif.namespaces import BRICK, RDF, S223\n",
    "from rdflib import URIRef\n",
    "from buildingmotif import BuildingMOTIF\n",
    "from buildingmotif.dataclasses import Library\n",
    "import csv\n",
    "from pyshacl.rdfutil import clone\n",
    "\n",
    "# SELECT ONTOLOGY \n",
    "ontology = 's223'\n",
    "\n",
    "# base path\n",
    "base_path = f'{ontology}-test_site/test_build'"
   ]
  },
  {
   "cell_type": "markdown",
   "metadata": {},
   "source": [
    "# Testing the Model Builder\n",
    "\n",
    "ModelBuilder has been deprecated in favor of just survey based workflow. May be readded in the future"
   ]
  },
  {
   "cell_type": "markdown",
   "metadata": {},
   "source": [
    "# Testing the Survey Workflow"
   ]
  },
  {
   "cell_type": "code",
   "execution_count": 2,
   "metadata": {},
   "outputs": [],
   "source": [
    "# Please disregard excessive outputs (logging and warnings)\n",
    "# TODO: Figure out how to configure these in building motif \n",
    "import logging\n",
    "logging.disable(logging.CRITICAL)\n",
    "import warnings\n",
    "warnings.filterwarnings(\"ignore\")"
   ]
  },
  {
   "cell_type": "code",
   "execution_count": 3,
   "metadata": {},
   "outputs": [
    {
     "name": "stdout",
     "output_type": "stream",
     "text": [
      "removing dependency:  space\n",
      "removing dependency:  window\n",
      "removing dependency:  hp-rtu\n",
      "removing dependency:  tstat\n",
      "values: dict_values([])\n",
      "values: dict_values(['area-value'])\n",
      "values: dict_values(['heating_COP-value', 'cooling_capacity-value', 'cooling_COP-value', 'heating_capacity-value'])\n",
      "values: dict_values(['setpoint_deadband-value', 'tolerance-value', 'stage_count-value', 'resolution-value', 'active-value'])\n",
      "values: dict_values(['azimuth-value', 'tilt-value', 'area-value'])\n",
      "values: dict_values(['noaastation-value', 'timezone-value', 'longitude-value', 'latitude-value'])\n",
      "{'site_id': 's223-test_site', 'hvac_type': 'hp-rtu', 'variable_params': {'hvac-zone': {}, 'space': {'area': '<name>-area'}, 'hp-rtu': {'cooling_COP': '<name>-cooling_COP', 'heating_capacity': '<name>-heating_capacity', 'cooling_capacity': '<name>-cooling_capacity', 'heating_COP': '<name>-heating_COP'}, 'tstat': {'resolution': '<name>-resolution', 'setpoint_deadband': '<name>-setpoint_deadband', 'tolerance': '<name>-tolerance', 'stage_count': '<name>-stage_count', 'active': '<name>-active'}, 'window': {'area': '<name>-area', 'azimuth': '<name>-azimuth', 'tilt': '<name>-tilt'}, 'site': {'longitude': '<name>-longitude', 'noaastation': '<name>-noaastation', 'timezone': '<name>-timezone', 'latitude': '<name>-latitude'}}, 'param_mapping': {'hvac-zone': {}, 'space': {'area': 'area-value', 'area-name': 'area'}, 'hp-rtu': {'heating_COP': 'heating_COP-value', 'cooling_capacity': 'cooling_capacity-value', 'cooling_COP': 'cooling_COP-value', 'heating_capacity': 'heating_capacity-value', 'cooling_COP-name': 'cooling_COP', 'heating_capacity-name': 'heating_capacity', 'cooling_capacity-name': 'cooling_capacity', 'heating_COP-name': 'heating_COP'}, 'tstat': {'setpoint_deadband': 'setpoint_deadband-value', 'tolerance': 'tolerance-value', 'stage_count': 'stage_count-value', 'resolution': 'resolution-value', 'active': 'active-value', 'resolution-name': 'resolution', 'setpoint_deadband-name': 'setpoint_deadband', 'tolerance-name': 'tolerance', 'stage_count-name': 'stage_count', 'active-name': 'active'}, 'window': {'azimuth': 'azimuth-value', 'tilt': 'tilt-value', 'area': 'area-value', 'area-name': 'area', 'azimuth-name': 'azimuth', 'tilt-name': 'tilt'}, 'site': {'noaastation': 'noaastation-value', 'timezone': 'timezone-value', 'longitude': 'longitude-value', 'latitude': 'latitude-value', 'longitude-name': 'longitude', 'noaastation-name': 'noaastation', 'timezone-name': 'timezone', 'latitude-name': 'latitude'}}, 'hvacs_feed_hvacs': {}, 'hvacs_feed_zones': {'hvac_1': ['zone_1'], 'hvac_2': ['zone_2'], 'hvac_3': ['zone_3']}, 'zones_contain_spaces': {'zone_1': ['space_1_1', 'space_1_2'], 'zone_2': ['space_2_1'], 'zone_3': ['space_3_1']}, 'zones_contain_windows': {'zone_1': ['window_1_1', 'window_1_2'], 'zone_2': ['window_2_1', 'window_2_2'], 'zone_3': ['window_3_1', 'window_3_2', 'window_3_3']}}\n"
     ]
    }
   ],
   "source": [
    "# Creating survey, allow overwrite if there is something already there\n",
    "s = HPFlexSurvey(base_path.split('/')[0],base_path.split('/')[1],'.', overwrite=True, ontology=ontology,\n",
    "                 template_dict = {'zone': 'hvac-zone',\n",
    "                                  \"space\": \"space\",\n",
    "                                  \"hvac\": \"hp-rtu\",\n",
    "                                  \"tstat\": \"tstat\",\n",
    "                                  \"window\": \"window\",\n",
    "                                  \"site\": \"site\" })\n",
    "\n",
    "# Generating a simple building structure that prefills csv files. \n",
    "s.easy_config(zone_space_window_list=[(2,2),(1,2),(1,3)])\n",
    "# Now check test_site/test_build to look at survey files\n"
   ]
  },
  {
   "cell_type": "code",
   "execution_count": 4,
   "metadata": {},
   "outputs": [],
   "source": [
    "# Will just fill the columns programmatically for testing, csv should be filled out otherwise\n",
    "import sys\n",
    "sys.path.insert(0,'../examples')\n",
    "from example_prefill_usage import prefill_csv_survey"
   ]
  },
  {
   "cell_type": "code",
   "execution_count": 5,
   "metadata": {},
   "outputs": [
    {
     "name": "stdout",
     "output_type": "stream",
     "text": [
      "Loading config from: s223-test_site/test_build/config.json\n",
      "Found CSV files: ['zone', 'site', 'window', 'hvac', 'point_list', 'tstat', 'space']\n",
      "Filled 10 empty cells in zone.csv\n",
      "Filled 4 empty cells across 4 columns in site.csv\n",
      "Filled 21 empty cells across 3 columns in window.csv\n",
      "Filled 12 empty cells across 4 columns in hvac.csv\n",
      "No empty cells found in point_list.csv\n",
      "Filled 15 empty cells across 5 columns in tstat.csv\n",
      "Filled 4 empty cells across 1 columns in space.csv\n"
     ]
    }
   ],
   "source": [
    "prefill_csv_survey(base_path)"
   ]
  },
  {
   "cell_type": "code",
   "execution_count": 6,
   "metadata": {},
   "outputs": [
    {
     "name": "stdout",
     "output_type": "stream",
     "text": [
      "Expanded CSV shape: (6, 5)\n",
      "New columns added: []\n",
      "Expanded CSV shape: (4, 4)\n",
      "New columns added: ['area']\n",
      "Expanded CSV shape: (3, 13)\n",
      "New columns added: ['cooling_COP', 'heating_capacity', 'cooling_capacity', 'heating_COP']\n",
      "Expanded CSV shape: (3, 14)\n",
      "New columns added: ['resolution', 'setpoint_deadband', 'tolerance', 'stage_count', 'active']\n",
      "Expanded CSV shape: (7, 10)\n",
      "New columns added: ['area', 'azimuth', 'tilt']\n",
      "Expanded CSV shape: (1, 9)\n",
      "New columns added: ['longitude', 'noaastation', 'timezone', 'latitude']\n"
     ]
    }
   ],
   "source": [
    "# Reading csv\n",
    "s.read_csv()"
   ]
  },
  {
   "cell_type": "markdown",
   "metadata": {},
   "source": [
    "# Testing SHACL Generation and Validation"
   ]
  },
  {
   "cell_type": "code",
   "execution_count": 7,
   "metadata": {},
   "outputs": [
    {
     "data": {
      "text/plain": [
       "<Graph identifier=a5cb9957-be13-46fb-9b81-614afaa440cc (<class 'rdflib.graph.Graph'>)>"
      ]
     },
     "execution_count": 7,
     "metadata": {},
     "output_type": "execute_result"
    }
   ],
   "source": [
    "og = clone.clone_graph(s.graph)\n",
    "# Create handler\n",
    "handler = SHACLHandler(ontology=ontology)\n",
    "\n",
    "# Generate shapes\n",
    "handler.generate_shapes()\n",
    "\n",
    "# Save shapes\n",
    "handler.save_shapes(f'{base_path}/shapes.ttl')\n",
    "# also save more human readable shapes\n",
    "inline_shapes(handler.shapes_graph).serialize(f\"{base_path}/inlined_shapes.ttl\")\n",
    "\n",
    "# Run inference on model\n",
    "inferred_graph = handler.infer(s.graph)\n",
    "\n",
    "inferred_graph.serialize(f'{base_path}/reasoned.ttl', format = 'ttl')\n",
    "# if not validation_result.valid:\n",
    "#     print(\"Validation failed:\")\n",
    "#     print(validation_result.report_string)"
   ]
  },
  {
   "cell_type": "code",
   "execution_count": 8,
   "metadata": {},
   "outputs": [
    {
     "name": "stdout",
     "output_type": "stream",
     "text": [
      "@prefix ns1: <urn:hpflex/shapes#> .\n",
      "\n",
      "<urn:hpflex/s223-test_site#hvac_1> a ns1:hp-rtu ;\n",
      "    ns1:air-connected-to <urn:hpflex/s223-test_site#zone_1> ;\n",
      "    ns1:has-point <urn:hpflex/s223-test_site#hvac_1-cooling_COP>,\n",
      "        <urn:hpflex/s223-test_site#hvac_1-cooling_capacity>,\n",
      "        <urn:hpflex/s223-test_site#hvac_1-heating_COP>,\n",
      "        <urn:hpflex/s223-test_site#hvac_1-heating_capacity> .\n",
      "\n",
      "<urn:hpflex/s223-test_site#hvac_2> a ns1:hp-rtu ;\n",
      "    ns1:air-connected-to <urn:hpflex/s223-test_site#zone_2> ;\n",
      "    ns1:has-point <urn:hpflex/s223-test_site#hvac_2-cooling_COP>,\n",
      "        <urn:hpflex/s223-test_site#hvac_2-cooling_capacity>,\n",
      "        <urn:hpflex/s223-test_site#hvac_2-heating_COP>,\n",
      "        <urn:hpflex/s223-test_site#hvac_2-heating_capacity> .\n",
      "\n",
      "<urn:hpflex/s223-test_site#hvac_3> a ns1:hp-rtu ;\n",
      "    ns1:air-connected-to <urn:hpflex/s223-test_site#zone_3> ;\n",
      "    ns1:has-point <urn:hpflex/s223-test_site#hvac_3-cooling_COP>,\n",
      "        <urn:hpflex/s223-test_site#hvac_3-cooling_capacity>,\n",
      "        <urn:hpflex/s223-test_site#hvac_3-heating_COP>,\n",
      "        <urn:hpflex/s223-test_site#hvac_3-heating_capacity> .\n",
      "\n",
      "<urn:hpflex/s223-test_site#s223-test_site> a ns1:site ;\n",
      "    ns1:has-point <urn:hpflex/s223-test_site#s223-test_site-latitude>,\n",
      "        <urn:hpflex/s223-test_site#s223-test_site-longitude>,\n",
      "        <urn:hpflex/s223-test_site#s223-test_site-noaastation>,\n",
      "        <urn:hpflex/s223-test_site#s223-test_site-timezone> .\n",
      "\n",
      "<urn:hpflex/s223-test_site#tstat_zone_1> a ns1:tstat ;\n",
      "    ns1:has-location <urn:hpflex/s223-test_site#zone_1> ;\n",
      "    ns1:has-point <urn:hpflex/s223-test_site#tstat_zone_1-active>,\n",
      "        <urn:hpflex/s223-test_site#tstat_zone_1-resolution>,\n",
      "        <urn:hpflex/s223-test_site#tstat_zone_1-setpoint_deadband>,\n",
      "        <urn:hpflex/s223-test_site#tstat_zone_1-stage_count>,\n",
      "        <urn:hpflex/s223-test_site#tstat_zone_1-tolerance> .\n",
      "\n",
      "<urn:hpflex/s223-test_site#tstat_zone_2> a ns1:tstat ;\n",
      "    ns1:has-location <urn:hpflex/s223-test_site#zone_2> ;\n",
      "    ns1:has-point <urn:hpflex/s223-test_site#tstat_zone_2-active>,\n",
      "        <urn:hpflex/s223-test_site#tstat_zone_2-resolution>,\n",
      "        <urn:hpflex/s223-test_site#tstat_zone_2-setpoint_deadband>,\n",
      "        <urn:hpflex/s223-test_site#tstat_zone_2-stage_count>,\n",
      "        <urn:hpflex/s223-test_site#tstat_zone_2-tolerance> .\n",
      "\n",
      "<urn:hpflex/s223-test_site#tstat_zone_3> a ns1:tstat ;\n",
      "    ns1:has-location <urn:hpflex/s223-test_site#zone_3> ;\n",
      "    ns1:has-point <urn:hpflex/s223-test_site#tstat_zone_3-active>,\n",
      "        <urn:hpflex/s223-test_site#tstat_zone_3-resolution>,\n",
      "        <urn:hpflex/s223-test_site#tstat_zone_3-setpoint_deadband>,\n",
      "        <urn:hpflex/s223-test_site#tstat_zone_3-stage_count>,\n",
      "        <urn:hpflex/s223-test_site#tstat_zone_3-tolerance> .\n",
      "\n",
      "<urn:hpflex/s223-test_site#window_2_1> a ns1:window ;\n",
      "    ns1:has-point <urn:hpflex/s223-test_site#window_2_1-area>,\n",
      "        <urn:hpflex/s223-test_site#window_2_1-azimuth>,\n",
      "        <urn:hpflex/s223-test_site#window_2_1-tilt> .\n",
      "\n",
      "<urn:hpflex/s223-test_site#window_3_1> a ns1:window ;\n",
      "    ns1:has-point <urn:hpflex/s223-test_site#window_3_1-area>,\n",
      "        <urn:hpflex/s223-test_site#window_3_1-azimuth>,\n",
      "        <urn:hpflex/s223-test_site#window_3_1-tilt> .\n",
      "\n",
      "<urn:hpflex/s223-test_site#window_3_2> a ns1:window ;\n",
      "    ns1:has-point <urn:hpflex/s223-test_site#window_3_2-area>,\n",
      "        <urn:hpflex/s223-test_site#window_3_2-azimuth>,\n",
      "        <urn:hpflex/s223-test_site#window_3_2-tilt> .\n",
      "\n",
      "<urn:hpflex/s223-test_site#hvac_1-cooling_COP> a ns1:cooling-COP ;\n",
      "    ns1:has-value \"1.0\" .\n",
      "\n",
      "<urn:hpflex/s223-test_site#hvac_1-cooling_capacity> a ns1:cooling-capacity ;\n",
      "    ns1:has-value \"1.0\" .\n",
      "\n",
      "<urn:hpflex/s223-test_site#hvac_1-heating_COP> a ns1:heating-COP ;\n",
      "    ns1:has-value \"1.0\" .\n",
      "\n",
      "<urn:hpflex/s223-test_site#hvac_1-heating_capacity> a ns1:heating-capacity ;\n",
      "    ns1:has-value \"1.0\" .\n",
      "\n",
      "<urn:hpflex/s223-test_site#hvac_2-cooling_COP> a ns1:cooling-COP ;\n",
      "    ns1:has-value \"2.0\" .\n",
      "\n",
      "<urn:hpflex/s223-test_site#hvac_2-cooling_capacity> a ns1:cooling-capacity ;\n",
      "    ns1:has-value \"2.0\" .\n",
      "\n",
      "<urn:hpflex/s223-test_site#hvac_2-heating_COP> a ns1:heating-COP ;\n",
      "    ns1:has-value \"2.0\" .\n",
      "\n",
      "<urn:hpflex/s223-test_site#hvac_2-heating_capacity> a ns1:heating-capacity ;\n",
      "    ns1:has-value \"2.0\" .\n",
      "\n",
      "<urn:hpflex/s223-test_site#hvac_3-cooling_COP> a ns1:cooling-COP ;\n",
      "    ns1:has-value \"3.0\" .\n",
      "\n",
      "<urn:hpflex/s223-test_site#hvac_3-cooling_capacity> a ns1:cooling-capacity ;\n",
      "    ns1:has-value \"3.0\" .\n",
      "\n",
      "<urn:hpflex/s223-test_site#hvac_3-heating_COP> a ns1:heating-COP ;\n",
      "    ns1:has-value \"3.0\" .\n",
      "\n",
      "<urn:hpflex/s223-test_site#hvac_3-heating_capacity> a ns1:heating-capacity ;\n",
      "    ns1:has-value \"3.0\" .\n",
      "\n",
      "<urn:hpflex/s223-test_site#s223-test_site-latitude> a ns1:latitude ;\n",
      "    ns1:has-value \"1.0\" .\n",
      "\n",
      "<urn:hpflex/s223-test_site#s223-test_site-longitude> a ns1:longitude ;\n",
      "    ns1:has-value \"1.0\" .\n",
      "\n",
      "<urn:hpflex/s223-test_site#s223-test_site-noaastation> a ns1:noaastation ;\n",
      "    ns1:has-value \"1.0\" .\n",
      "\n",
      "<urn:hpflex/s223-test_site#s223-test_site-timezone> a ns1:timezone ;\n",
      "    ns1:has-value \"1.0\" .\n",
      "\n",
      "<urn:hpflex/s223-test_site#space_1_1> a ns1:space ;\n",
      "    ns1:has-point <urn:hpflex/s223-test_site#space_1_1-area> .\n",
      "\n",
      "<urn:hpflex/s223-test_site#space_1_1-area> a ns1:area ;\n",
      "    ns1:has-value \"1.0\" .\n",
      "\n",
      "<urn:hpflex/s223-test_site#space_1_2> a ns1:space ;\n",
      "    ns1:has-point <urn:hpflex/s223-test_site#space_1_2-area> .\n",
      "\n",
      "<urn:hpflex/s223-test_site#space_1_2-area> a ns1:area ;\n",
      "    ns1:has-value \"2.0\" .\n",
      "\n",
      "<urn:hpflex/s223-test_site#space_2_1> a ns1:space ;\n",
      "    ns1:has-point <urn:hpflex/s223-test_site#space_2_1-area> .\n",
      "\n",
      "<urn:hpflex/s223-test_site#space_2_1-area> a ns1:area ;\n",
      "    ns1:has-value \"3.0\" .\n",
      "\n",
      "<urn:hpflex/s223-test_site#space_3_1> a ns1:space ;\n",
      "    ns1:has-point <urn:hpflex/s223-test_site#space_3_1-area> .\n",
      "\n",
      "<urn:hpflex/s223-test_site#space_3_1-area> a ns1:area ;\n",
      "    ns1:has-value \"4.0\" .\n",
      "\n",
      "<urn:hpflex/s223-test_site#tstat_zone_1-active> a ns1:tstat-active ;\n",
      "    ns1:has-value \"1.0\" .\n",
      "\n",
      "<urn:hpflex/s223-test_site#tstat_zone_1-resolution> a ns1:tstat-resolution ;\n",
      "    ns1:has-value \"1.0\" .\n",
      "\n",
      "<urn:hpflex/s223-test_site#tstat_zone_1-setpoint_deadband> a ns1:tstat-deadband ;\n",
      "    ns1:has-value \"1.0\" .\n",
      "\n",
      "<urn:hpflex/s223-test_site#tstat_zone_1-stage_count> a ns1:tstat-stage_count ;\n",
      "    ns1:has-value \"1.0\" .\n",
      "\n",
      "<urn:hpflex/s223-test_site#tstat_zone_1-tolerance> a ns1:tstat-tolerance ;\n",
      "    ns1:has-value \"1.0\" .\n",
      "\n",
      "<urn:hpflex/s223-test_site#tstat_zone_2-active> a ns1:tstat-active ;\n",
      "    ns1:has-value \"2.0\" .\n",
      "\n",
      "<urn:hpflex/s223-test_site#tstat_zone_2-resolution> a ns1:tstat-resolution ;\n",
      "    ns1:has-value \"2.0\" .\n",
      "\n",
      "<urn:hpflex/s223-test_site#tstat_zone_2-setpoint_deadband> a ns1:tstat-deadband ;\n",
      "    ns1:has-value \"2.0\" .\n",
      "\n",
      "<urn:hpflex/s223-test_site#tstat_zone_2-stage_count> a ns1:tstat-stage_count ;\n",
      "    ns1:has-value \"2.0\" .\n",
      "\n",
      "<urn:hpflex/s223-test_site#tstat_zone_2-tolerance> a ns1:tstat-tolerance ;\n",
      "    ns1:has-value \"2.0\" .\n",
      "\n",
      "<urn:hpflex/s223-test_site#tstat_zone_3-active> a ns1:tstat-active ;\n",
      "    ns1:has-value \"3.0\" .\n",
      "\n",
      "<urn:hpflex/s223-test_site#tstat_zone_3-resolution> a ns1:tstat-resolution ;\n",
      "    ns1:has-value \"3.0\" .\n",
      "\n",
      "<urn:hpflex/s223-test_site#tstat_zone_3-setpoint_deadband> a ns1:tstat-deadband ;\n",
      "    ns1:has-value \"3.0\" .\n",
      "\n",
      "<urn:hpflex/s223-test_site#tstat_zone_3-stage_count> a ns1:tstat-stage_count ;\n",
      "    ns1:has-value \"3.0\" .\n",
      "\n",
      "<urn:hpflex/s223-test_site#tstat_zone_3-tolerance> a ns1:tstat-tolerance ;\n",
      "    ns1:has-value \"3.0\" .\n",
      "\n",
      "<urn:hpflex/s223-test_site#window_1_1-area> a ns1:area ;\n",
      "    ns1:has-value \"1.0\" .\n",
      "\n",
      "<urn:hpflex/s223-test_site#window_1_1-azimuth> a ns1:azimuth ;\n",
      "    ns1:has-value \"1.0\" .\n",
      "\n",
      "<urn:hpflex/s223-test_site#window_1_1-tilt> a ns1:tilt ;\n",
      "    ns1:has-value \"1.0\" .\n",
      "\n",
      "<urn:hpflex/s223-test_site#window_1_2-area> a ns1:area ;\n",
      "    ns1:has-value \"2.0\" .\n",
      "\n",
      "<urn:hpflex/s223-test_site#window_1_2-azimuth> a ns1:azimuth ;\n",
      "    ns1:has-value \"2.0\" .\n",
      "\n",
      "<urn:hpflex/s223-test_site#window_1_2-tilt> a ns1:tilt ;\n",
      "    ns1:has-value \"2.0\" .\n",
      "\n",
      "<urn:hpflex/s223-test_site#window_2_1-area> a ns1:area ;\n",
      "    ns1:has-value \"3.0\" .\n",
      "\n",
      "<urn:hpflex/s223-test_site#window_2_1-azimuth> a ns1:azimuth ;\n",
      "    ns1:has-value \"3.0\" .\n",
      "\n",
      "<urn:hpflex/s223-test_site#window_2_1-tilt> a ns1:tilt ;\n",
      "    ns1:has-value \"3.0\" .\n",
      "\n",
      "<urn:hpflex/s223-test_site#window_2_2-area> a ns1:area ;\n",
      "    ns1:has-value \"4.0\" .\n",
      "\n",
      "<urn:hpflex/s223-test_site#window_2_2-azimuth> a ns1:azimuth ;\n",
      "    ns1:has-value \"4.0\" .\n",
      "\n",
      "<urn:hpflex/s223-test_site#window_2_2-tilt> a ns1:tilt ;\n",
      "    ns1:has-value \"4.0\" .\n",
      "\n",
      "<urn:hpflex/s223-test_site#window_3_1-area> a ns1:area ;\n",
      "    ns1:has-value \"5.0\" .\n",
      "\n",
      "<urn:hpflex/s223-test_site#window_3_1-azimuth> a ns1:azimuth ;\n",
      "    ns1:has-value \"5.0\" .\n",
      "\n",
      "<urn:hpflex/s223-test_site#window_3_1-tilt> a ns1:tilt ;\n",
      "    ns1:has-value \"5.0\" .\n",
      "\n",
      "<urn:hpflex/s223-test_site#window_3_2-area> a ns1:area ;\n",
      "    ns1:has-value \"6.0\" .\n",
      "\n",
      "<urn:hpflex/s223-test_site#window_3_2-azimuth> a ns1:azimuth ;\n",
      "    ns1:has-value \"6.0\" .\n",
      "\n",
      "<urn:hpflex/s223-test_site#window_3_2-tilt> a ns1:tilt ;\n",
      "    ns1:has-value \"6.0\" .\n",
      "\n",
      "<urn:hpflex/s223-test_site#window_3_3-area> a ns1:area ;\n",
      "    ns1:has-value \"7.0\" .\n",
      "\n",
      "<urn:hpflex/s223-test_site#window_3_3-azimuth> a ns1:azimuth ;\n",
      "    ns1:has-value \"7.0\" .\n",
      "\n",
      "<urn:hpflex/s223-test_site#window_3_3-tilt> a ns1:tilt ;\n",
      "    ns1:has-value \"7.0\" .\n",
      "\n",
      "<urn:hpflex/s223-test_site#window_1_1> a ns1:window ;\n",
      "    ns1:has-point <urn:hpflex/s223-test_site#window_1_1-area>,\n",
      "        <urn:hpflex/s223-test_site#window_1_1-azimuth>,\n",
      "        <urn:hpflex/s223-test_site#window_1_1-tilt> .\n",
      "\n",
      "<urn:hpflex/s223-test_site#window_1_2> a ns1:window ;\n",
      "    ns1:has-point <urn:hpflex/s223-test_site#window_1_2-area>,\n",
      "        <urn:hpflex/s223-test_site#window_1_2-azimuth>,\n",
      "        <urn:hpflex/s223-test_site#window_1_2-tilt> .\n",
      "\n",
      "<urn:hpflex/s223-test_site#window_2_2> a ns1:window ;\n",
      "    ns1:has-point <urn:hpflex/s223-test_site#window_2_2-area>,\n",
      "        <urn:hpflex/s223-test_site#window_2_2-azimuth>,\n",
      "        <urn:hpflex/s223-test_site#window_2_2-tilt> .\n",
      "\n",
      "<urn:hpflex/s223-test_site#window_3_3> a ns1:window ;\n",
      "    ns1:has-point <urn:hpflex/s223-test_site#window_3_3-area>,\n",
      "        <urn:hpflex/s223-test_site#window_3_3-azimuth>,\n",
      "        <urn:hpflex/s223-test_site#window_3_3-tilt> .\n",
      "\n",
      "<urn:hpflex/s223-test_site#zone_1> a ns1:hvac-zone ;\n",
      "    ns1:air-connected-to <urn:hpflex/s223-test_site#window_1_1>,\n",
      "        <urn:hpflex/s223-test_site#window_1_2> ;\n",
      "    ns1:has-space <urn:hpflex/s223-test_site#space_1_1>,\n",
      "        <urn:hpflex/s223-test_site#space_1_2> ;\n",
      "    ns1:has-window <urn:hpflex/s223-test_site#window_1_1>,\n",
      "        <urn:hpflex/s223-test_site#window_1_2> .\n",
      "\n",
      "<urn:hpflex/s223-test_site#zone_2> a ns1:hvac-zone ;\n",
      "    ns1:air-connected-to <urn:hpflex/s223-test_site#window_2_2> ;\n",
      "    ns1:has-space <urn:hpflex/s223-test_site#space_2_1> ;\n",
      "    ns1:has-window <urn:hpflex/s223-test_site#window_2_2> .\n",
      "\n",
      "<urn:hpflex/s223-test_site#zone_3> a ns1:hvac-zone ;\n",
      "    ns1:air-connected-to <urn:hpflex/s223-test_site#window_3_3> ;\n",
      "    ns1:has-space <urn:hpflex/s223-test_site#space_3_1> ;\n",
      "    ns1:has-window <urn:hpflex/s223-test_site#window_3_3> .\n",
      "\n",
      "\n"
     ]
    }
   ],
   "source": [
    "# lots of new inferred information\n",
    "(inferred_graph-og).print()"
   ]
  },
  {
   "cell_type": "markdown",
   "metadata": {},
   "source": [
    "# Testing get Metadata"
   ]
  },
  {
   "cell_type": "code",
   "execution_count": 9,
   "metadata": {},
   "outputs": [],
   "source": [
    "# still working on loader, will clean up class, but functionality about right\n",
    "loader = LoadModel(f\"{base_path}/reasoned.ttl\", \n",
    "                   template_dict={'sites':'site', 'zones': 'hvac-zone'}, \n",
    "                   ontology = ontology)\n",
    "site_info = loader.get_all_building_objects()"
   ]
  },
  {
   "cell_type": "code",
   "execution_count": 10,
   "metadata": {},
   "outputs": [
    {
     "name": "stdout",
     "output_type": "stream",
     "text": [
      "{'sites': [site(name='urn:hpflex/s223-test_site#s223-test_site', timezone=Value(value=1.0, unit='None'), noaastation=Value(value=1.0, unit='None'), longitude=Value(value=1.0, unit='http://qudt.org/vocab/unit/Degree'), latitude=Value(value=1.0, unit='http://qudt.org/vocab/unit/Degree'), )], 'zones': [hvac_zone(name='urn:hpflex/s223-test_site#zone_3', , windows=1, spaces=1, hp_rtus=1, tstats=1), hvac_zone(name='urn:hpflex/s223-test_site#zone_2', , windows=1, spaces=1, hp_rtus=1, tstats=1), hvac_zone(name='urn:hpflex/s223-test_site#zone_1', , windows=2, spaces=2, hp_rtus=1, tstats=1)]}\n"
     ]
    }
   ],
   "source": [
    "print(site_info)"
   ]
  },
  {
   "cell_type": "code",
   "execution_count": 11,
   "metadata": {},
   "outputs": [
    {
     "name": "stdout",
     "output_type": "stream",
     "text": [
      "hvac_zone(name='urn:hpflex/s223-test_site#zone_3', , windows=1, spaces=1, hp_rtus=1, tstats=1)\n"
     ]
    }
   ],
   "source": [
    "zone = site_info['zones'][0]\n",
    "print(zone)"
   ]
  },
  {
   "cell_type": "code",
   "execution_count": 12,
   "metadata": {},
   "outputs": [
    {
     "data": {
      "text/plain": [
       "[space(name='urn:hpflex/s223-test_site#space_1_2', area=Value(value=2.0, unit='http://qudt.org/vocab/unit/FT2'), ),\n",
       " space(name='urn:hpflex/s223-test_site#space_1_1', area=Value(value=1.0, unit='http://qudt.org/vocab/unit/FT2'), )]"
      ]
     },
     "execution_count": 12,
     "metadata": {},
     "output_type": "execute_result"
    }
   ],
   "source": [
    "site_info['zones'][-1].spaces"
   ]
  },
  {
   "cell_type": "code",
   "execution_count": 13,
   "metadata": {},
   "outputs": [
    {
     "data": {
      "text/plain": [
       "[window(name='urn:hpflex/s223-test_site#window_3_3', tilt=Value(value=7.0, unit='http://qudt.org/vocab/unit/Degree'), azimuth=Value(value=7.0, unit='http://qudt.org/vocab/unit/Degree'), area=None, )]"
      ]
     },
     "execution_count": 13,
     "metadata": {},
     "output_type": "execute_result"
    }
   ],
   "source": [
    "zone.windows"
   ]
  },
  {
   "cell_type": "code",
   "execution_count": 14,
   "metadata": {},
   "outputs": [
    {
     "data": {
      "text/plain": [
       "tstat(name='urn:hpflex/s223-test_site#tstat_zone_3', tstat_tolerance=Value(value=3.0, unit='http://qudt.org/vocab/unit/DEG_F'), tstat_stage_count=Value(value=3.0, unit='http://qudt.org/vocab/unit/NUM'), tstat_deadband=Value(value=3.0, unit='http://qudt.org/vocab/unit/DEG_F'), tstat_resolution=None, tstat_active=Value(value=3.0, unit='http://qudt.org/vocab/unit/NUM'), )"
      ]
     },
     "execution_count": 14,
     "metadata": {},
     "output_type": "execute_result"
    }
   ],
   "source": [
    "zone.tstats[0]"
   ]
  },
  {
   "cell_type": "code",
   "execution_count": 15,
   "metadata": {},
   "outputs": [
    {
     "name": "stdout",
     "output_type": "stream",
     "text": [
      "Warning: Could not retrieve objects for template 'site': argument of type 'NoneType' is not iterable\n",
      "None\n"
     ]
    }
   ],
   "source": [
    "# optionally just load everything as si \n",
    "si_loader = LoadModel(f\"{base_path}/reasoned.ttl\", \n",
    "                   template_dict={'sites':'site', 'zones': 'hvac-zone'}, \n",
    "                   ontology = ontology,\n",
    "                   as_si_units=True)\n",
    "site_info = si_loader.get_all_building_objects()\n",
    "print(zone.tstats[0].tstat_resolution)"
   ]
  },
  {
   "cell_type": "code",
   "execution_count": 16,
   "metadata": {},
   "outputs": [
    {
     "name": "stdout",
     "output_type": "stream",
     "text": [
      "Warning: Could not retrieve objects for template 'site': argument of type 'NoneType' is not iterable\n"
     ]
    },
    {
     "data": {
      "text/plain": [
       "{'heat_availability': [True, True, True],\n",
       " 'cool_availability': [True, True, True],\n",
       " 'heat_tolerance': [],\n",
       " 'cool_tolerance': [],\n",
       " 'setpoint_deadband': [],\n",
       " 'active': [],\n",
       " 'control_group': ['DEPRECATED', 'DEPRECATED', 'DEPRECATED'],\n",
       " 'control_type_list': [],\n",
       " 'floor_area_list': [0.65032128, 0.37161216, 0.27870912000000003],\n",
       " 'floor_area_unit': ['http://qudt.org/vocab/unit/M2',\n",
       "  'http://qudt.org/vocab/unit/M2',\n",
       "  'http://qudt.org/vocab/unit/M2'],\n",
       " 'window_area_list': [0.0, 0.0, 0.0],\n",
       " 'window_area_unit': ['Unknown', 'Unknown', 'Unknown'],\n",
       " 'azimuth_list': [None, None, None],\n",
       " 'azimuth_unit': ['Unknown', 'Unknown', 'Unknown'],\n",
       " 'tilt_list': [None, None, None],\n",
       " 'tilt_unit': ['Unknown', 'Unknown', 'Unknown'],\n",
       " 'zone_ids': ['zone_3', 'zone_2', 'zone_1'],\n",
       " 'hvacs': ['unknown', 'unknown', 'unknown'],\n",
       " 'setpoint_type': ['double', 'double', 'double'],\n",
       " 'fuel_heat_list': ['electricity', 'electricity', 'electricity'],\n",
       " 'fuel_cool_list': ['electricity', 'electricity', 'electricity'],\n",
       " 'cooling_capacity': [],\n",
       " 'cooling_capacity_unit': [],\n",
       " 'heating_capacity': [],\n",
       " 'heating_capacity_unit': [],\n",
       " 'cooling_cop': [],\n",
       " 'heating_cop': [],\n",
       " 'cooling_electricity': [True, True, True],\n",
       " 'heating_electricity': [True, True, True],\n",
       " 'resolution': [],\n",
       " 'temperature_unit': []}"
      ]
     },
     "execution_count": 16,
     "metadata": {},
     "output_type": "execute_result"
    }
   ],
   "source": [
    "# Getting the thermostat metadata\n",
    "get_thermostat_data(si_loader)"
   ]
  },
  {
   "cell_type": "code",
   "execution_count": 17,
   "metadata": {},
   "outputs": [
    {
     "name": "stdout",
     "output_type": "stream",
     "text": [
      "Warning: Could not retrieve objects for template 'site': argument of type 'NoneType' is not iterable"
     ]
    },
    {
     "name": "stdout",
     "output_type": "stream",
     "text": [
      "\n"
     ]
    },
    {
     "data": {
      "text/plain": [
       "{'heat_availability': [True, True],\n",
       " 'cool_availability': [True, True],\n",
       " 'heat_tolerance': [],\n",
       " 'cool_tolerance': [],\n",
       " 'setpoint_deadband': [],\n",
       " 'active': [],\n",
       " 'control_group': ['DEPRECATED', 'DEPRECATED'],\n",
       " 'control_type_list': [],\n",
       " 'floor_area_list': [0.37161216, 0.27870912000000003],\n",
       " 'floor_area_unit': ['http://qudt.org/vocab/unit/M2',\n",
       "  'http://qudt.org/vocab/unit/M2'],\n",
       " 'window_area_list': [0.0, 0.0],\n",
       " 'window_area_unit': ['Unknown', 'Unknown'],\n",
       " 'azimuth_list': [None, None],\n",
       " 'azimuth_unit': ['Unknown', 'Unknown'],\n",
       " 'tilt_list': [None, None],\n",
       " 'tilt_unit': ['Unknown', 'Unknown'],\n",
       " 'zone_ids': ['zone_2', 'zone_1'],\n",
       " 'hvacs': ['unknown', 'unknown'],\n",
       " 'setpoint_type': ['double', 'double'],\n",
       " 'fuel_heat_list': ['electricity', 'electricity'],\n",
       " 'fuel_cool_list': ['electricity', 'electricity'],\n",
       " 'cooling_capacity': [],\n",
       " 'cooling_capacity_unit': [],\n",
       " 'heating_capacity': [],\n",
       " 'heating_capacity_unit': [],\n",
       " 'cooling_cop': [],\n",
       " 'heating_cop': [],\n",
       " 'cooling_electricity': [True, True],\n",
       " 'heating_electricity': [True, True],\n",
       " 'resolution': [],\n",
       " 'temperature_unit': []}"
      ]
     },
     "execution_count": 17,
     "metadata": {},
     "output_type": "execute_result"
    }
   ],
   "source": [
    "# Getting the thermostat metadata for 1 zone \n",
    "get_thermostat_data(si_loader, ['zone_1','zone_2'])"
   ]
  },
  {
   "cell_type": "markdown",
   "metadata": {},
   "source": [
    "# Testing Unit Conversion"
   ]
  },
  {
   "cell_type": "code",
   "execution_count": 18,
   "metadata": {},
   "outputs": [
    {
     "data": {
      "text/plain": [
       "3.048"
      ]
     },
     "execution_count": 18,
     "metadata": {},
     "output_type": "execute_result"
    }
   ],
   "source": [
    "convert_units(10, 'FT', 'M')"
   ]
  },
  {
   "cell_type": "code",
   "execution_count": 19,
   "metadata": {},
   "outputs": [
    {
     "data": {
      "text/plain": [
       "31.999999999999886"
      ]
     },
     "execution_count": 19,
     "metadata": {},
     "output_type": "execute_result"
    }
   ],
   "source": [
    "convert_units(0, 'DEG_C', 'DEG_F')"
   ]
  },
  {
   "cell_type": "code",
   "execution_count": 20,
   "metadata": {},
   "outputs": [
    {
     "data": {
      "text/plain": [
       "273.15"
      ]
     },
     "execution_count": 20,
     "metadata": {},
     "output_type": "execute_result"
    }
   ],
   "source": [
    "convert_units(0, 'DEG_C', 'K')"
   ]
  },
  {
   "cell_type": "code",
   "execution_count": 21,
   "metadata": {},
   "outputs": [],
   "source": [
    "# Planning to implement converting everything to si in loader\n",
    "# loader.get_all_building_objects"
   ]
  },
  {
   "cell_type": "markdown",
   "metadata": {},
   "source": [
    "# Testing Grafana Dashboarding \n",
    "Needs updates"
   ]
  },
  {
   "cell_type": "code",
   "execution_count": 22,
   "metadata": {},
   "outputs": [],
   "source": [
    "# import yaml \n",
    "# with open('../development_files/creds.yml') as f:\n",
    "#     config = yaml.safe_load(f)\n",
    "\n",
    "# bg = BrickToGrafana(grafana_server=config['grafana_server'], grafana_api_key = config['grafana_api_key'], datasource=config['datasource'], ttl_path = 'test-brick-model.ttl')"
   ]
  },
  {
   "cell_type": "code",
   "execution_count": 23,
   "metadata": {},
   "outputs": [],
   "source": [
    "# bg.create_dashboard('AQL from brick')"
   ]
  },
  {
   "cell_type": "code",
   "execution_count": 24,
   "metadata": {},
   "outputs": [],
   "source": [
    "# Grafana not set up, upload won't work\n",
    "# bg.upload_dashboard(message = 'testing upload')"
   ]
  },
  {
   "cell_type": "code",
   "execution_count": null,
   "metadata": {},
   "outputs": [],
   "source": []
  }
 ],
 "metadata": {
  "kernelspec": {
   "display_name": "semantic-mpc-interface (3.10.0)",
   "language": "python",
   "name": "python3"
  },
  "language_info": {
   "codemirror_mode": {
    "name": "ipython",
    "version": 3
   },
   "file_extension": ".py",
   "mimetype": "text/x-python",
   "name": "python",
   "nbconvert_exporter": "python",
   "pygments_lexer": "ipython3",
   "version": "3.10.0"
  }
 },
 "nbformat": 4,
 "nbformat_minor": 2
}
