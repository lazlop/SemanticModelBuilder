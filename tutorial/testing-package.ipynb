{
 "cells": [
  {
   "cell_type": "code",
   "execution_count": 1,
   "metadata": {},
   "outputs": [
    {
     "name": "stderr",
     "output_type": "stream",
     "text": [
      "CRITICAL:root:Install the 'bacnet-ingress' module, e.g. 'pip install buildingmotif[bacnet-ingress]'\n"
     ]
    }
   ],
   "source": [
    "# import sys\n",
    "# sys.path.insert(0, '..')\n",
    "from semantic_mpc_interface import (\n",
    "    LoadModel,\n",
    "    get_thermostat_data,\n",
    "    HPFlexSurvey,\n",
    "    convert_units,\n",
    "    SHACLHandler,\n",
    "    inline_shapes\n",
    "    # add_connection\n",
    ")\n",
    "from buildingmotif.namespaces import BRICK, RDF, S223\n",
    "from rdflib import URIRef\n",
    "from buildingmotif import BuildingMOTIF\n",
    "from buildingmotif.dataclasses import Library\n",
    "import csv\n",
    "from pyshacl.rdfutil import clone\n",
    "\n",
    "# SELECT ONTOLOGY \n",
    "ontology = 's223'\n",
    "\n",
    "# base path\n",
    "base_path = f'{ontology}-example/bldg1'"
   ]
  },
  {
   "cell_type": "markdown",
   "metadata": {},
   "source": [
    "# Testing the Model Builder\n",
    "\n",
    "ModelBuilder has been deprecated in favor of just survey based workflow. May be readded in the future"
   ]
  },
  {
   "cell_type": "markdown",
   "metadata": {},
   "source": [
    "# Testing the Survey Workflow"
   ]
  },
  {
   "cell_type": "code",
   "execution_count": 2,
   "metadata": {},
   "outputs": [],
   "source": [
    "# Please disregard excessive outputs (logging and warnings)\n",
    "# TODO: Figure out how to configure these in building motif \n",
    "import logging\n",
    "logging.disable(logging.CRITICAL)\n",
    "import warnings\n",
    "warnings.filterwarnings(\"ignore\")"
   ]
  },
  {
   "cell_type": "code",
   "execution_count": 3,
   "metadata": {},
   "outputs": [
    {
     "name": "stdout",
     "output_type": "stream",
     "text": [
      "removing dependency:  space\n",
      "removing dependency:  window\n",
      "removing dependency:  hp-rtu\n",
      "removing dependency:  tstat\n",
      "values: dict_values([])\n",
      "values: dict_values(['area-value'])\n",
      "values: dict_values(['heating_capacity-value', 'cooling_capacity-value', 'cooling_COP-value', 'heating_COP-value'])\n",
      "values: dict_values(['setpoint_deadband-value', 'active-value', 'resolution-value', 'tolerance-value', 'stage_count-value'])\n",
      "values: dict_values(['area-value', 'azimuth-value', 'tilt-value'])\n",
      "values: dict_values(['latitude-value', 'noaastation-value', 'timezone-value', 'longitude-value'])\n",
      "{'site_id': 's223-example', 'hvac_type': 'hp-rtu', 'variable_params': {'hvac-zone': {}, 'space': {'area': '<name>-area'}, 'hp-rtu': {'heating_COP': '<name>-heating_COP', 'cooling_capacity': '<name>-cooling_capacity', 'cooling_COP': '<name>-cooling_COP', 'heating_capacity': '<name>-heating_capacity'}, 'tstat': {'tolerance': '<name>-tolerance', 'stage_count': '<name>-stage_count', 'resolution': '<name>-resolution', 'setpoint_deadband': '<name>-setpoint_deadband', 'active': '<name>-active'}, 'window': {'azimuth': '<name>-azimuth', 'area': '<name>-area', 'tilt': '<name>-tilt'}, 'site': {'noaastation': '<name>-noaastation', 'timezone': '<name>-timezone', 'longitude': '<name>-longitude', 'latitude': '<name>-latitude'}}, 'param_mapping': {'hvac-zone': {}, 'space': {'area': 'area-value', 'area-name': 'area'}, 'hp-rtu': {'heating_capacity': 'heating_capacity-value', 'cooling_capacity': 'cooling_capacity-value', 'cooling_COP': 'cooling_COP-value', 'heating_COP': 'heating_COP-value', 'heating_COP-name': 'heating_COP', 'cooling_capacity-name': 'cooling_capacity', 'cooling_COP-name': 'cooling_COP', 'heating_capacity-name': 'heating_capacity'}, 'tstat': {'setpoint_deadband': 'setpoint_deadband-value', 'active': 'active-value', 'resolution': 'resolution-value', 'tolerance': 'tolerance-value', 'stage_count': 'stage_count-value', 'tolerance-name': 'tolerance', 'stage_count-name': 'stage_count', 'resolution-name': 'resolution', 'setpoint_deadband-name': 'setpoint_deadband', 'active-name': 'active'}, 'window': {'area': 'area-value', 'azimuth': 'azimuth-value', 'tilt': 'tilt-value', 'azimuth-name': 'azimuth', 'area-name': 'area', 'tilt-name': 'tilt'}, 'site': {'latitude': 'latitude-value', 'noaastation': 'noaastation-value', 'timezone': 'timezone-value', 'longitude': 'longitude-value', 'noaastation-name': 'noaastation', 'timezone-name': 'timezone', 'longitude-name': 'longitude', 'latitude-name': 'latitude'}}, 'hvacs_feed_hvacs': {}, 'hvacs_feed_zones': {'hvac_1': ['zone_1'], 'hvac_2': ['zone_2'], 'hvac_3': ['zone_3']}, 'zones_contain_spaces': {'zone_1': ['space_1_1', 'space_1_2'], 'zone_2': ['space_2_1'], 'zone_3': ['space_3_1']}, 'zones_contain_windows': {'zone_1': ['window_1_1', 'window_1_2'], 'zone_2': ['window_2_1', 'window_2_2'], 'zone_3': ['window_3_1', 'window_3_2', 'window_3_3']}}\n"
     ]
    }
   ],
   "source": [
    "# Creating survey, allow overwrite if there is something already there\n",
    "s = HPFlexSurvey(base_path.split('/')[0],base_path.split('/')[1],'.', overwrite=True, ontology=ontology,\n",
    "                 template_dict = {'zone': 'hvac-zone',\n",
    "                                  \"space\": \"space\",\n",
    "                                  \"hvac\": \"hp-rtu\",\n",
    "                                  \"tstat\": \"tstat\",\n",
    "                                  \"window\": \"window\",\n",
    "                                  \"site\": \"site\" })\n",
    "\n",
    "# Generating a simple building structure that prefills csv files. \n",
    "s.easy_config(zone_space_window_list=[(2,2),(1,2),(1,3)])\n",
    "# Now check test_site/test_build to look at survey files\n"
   ]
  },
  {
   "cell_type": "code",
   "execution_count": 4,
   "metadata": {},
   "outputs": [],
   "source": [
    "# Will just fill the columns programmatically for testing, csv should be filled out otherwise\n",
    "import sys\n",
    "sys.path.insert(0,'../examples')\n",
    "from example_prefill_usage import prefill_csv_survey"
   ]
  },
  {
   "cell_type": "code",
   "execution_count": 5,
   "metadata": {},
   "outputs": [],
   "source": [
    "# prefill_csv_survey(base_path)"
   ]
  },
  {
   "cell_type": "code",
   "execution_count": 6,
   "metadata": {},
   "outputs": [
    {
     "name": "stdout",
     "output_type": "stream",
     "text": [
      "Expanded CSV shape: (6, 5)\n",
      "New columns added: []\n",
      "Expanded CSV shape: (4, 4)\n",
      "New columns added: ['area']\n",
      "Expanded CSV shape: (3, 13)\n",
      "New columns added: ['heating_COP', 'cooling_capacity', 'cooling_COP', 'heating_capacity']\n",
      "Expanded CSV shape: (3, 14)\n",
      "New columns added: ['tolerance', 'stage_count', 'resolution', 'setpoint_deadband', 'active']\n",
      "Expanded CSV shape: (7, 10)\n",
      "New columns added: ['azimuth', 'area', 'tilt']\n",
      "Expanded CSV shape: (1, 9)\n",
      "New columns added: ['noaastation', 'timezone', 'longitude', 'latitude']\n"
     ]
    }
   ],
   "source": [
    "# Reading csv\n",
    "s.read_csv()"
   ]
  },
  {
   "cell_type": "markdown",
   "metadata": {},
   "source": [
    "# Testing SHACL Generation and Validation"
   ]
  },
  {
   "cell_type": "code",
   "execution_count": 7,
   "metadata": {},
   "outputs": [
    {
     "data": {
      "text/plain": [
       "<Graph identifier=52184bea-5b17-49a1-9c4d-58a2743b30dc (<class 'rdflib.graph.Graph'>)>"
      ]
     },
     "execution_count": 7,
     "metadata": {},
     "output_type": "execute_result"
    }
   ],
   "source": [
    "og = clone.clone_graph(s.graph)\n",
    "# Create handler\n",
    "handler = SHACLHandler(ontology=ontology)\n",
    "\n",
    "# Generate shapes\n",
    "handler.generate_shapes()\n",
    "\n",
    "# Save shapes\n",
    "handler.save_shapes(f'{base_path}/shapes.ttl')\n",
    "# also save more human readable shapes\n",
    "inline_shapes(handler.shapes_graph).serialize(f\"{base_path}/inlined_shapes.ttl\")\n",
    "\n",
    "# Run inference on model\n",
    "inferred_graph = handler.infer(s.graph)\n",
    "\n",
    "inferred_graph.serialize(f'{base_path}/reasoned.ttl', format = 'ttl')\n",
    "# if not validation_result.valid:\n",
    "#     print(\"Validation failed:\")\n",
    "#     print(validation_result.report_string)"
   ]
  },
  {
   "cell_type": "code",
   "execution_count": 8,
   "metadata": {},
   "outputs": [
    {
     "name": "stdout",
     "output_type": "stream",
     "text": [
      "@prefix ns1: <urn:hpflex/shapes#> .\n",
      "\n",
      "<urn:hpflex/s223-example#hvac_1> a ns1:hp-rtu ;\n",
      "    ns1:air-connected-to <urn:hpflex/s223-example#zone_1> ;\n",
      "    ns1:has-point <urn:hpflex/s223-example#hvac_1-cooling_COP>,\n",
      "        <urn:hpflex/s223-example#hvac_1-cooling_capacity>,\n",
      "        <urn:hpflex/s223-example#hvac_1-heating_COP>,\n",
      "        <urn:hpflex/s223-example#hvac_1-heating_capacity> .\n",
      "\n",
      "<urn:hpflex/s223-example#hvac_2> a ns1:hp-rtu ;\n",
      "    ns1:air-connected-to <urn:hpflex/s223-example#zone_2> ;\n",
      "    ns1:has-point <urn:hpflex/s223-example#hvac_2-cooling_COP>,\n",
      "        <urn:hpflex/s223-example#hvac_2-cooling_capacity>,\n",
      "        <urn:hpflex/s223-example#hvac_2-heating_COP>,\n",
      "        <urn:hpflex/s223-example#hvac_2-heating_capacity> .\n",
      "\n",
      "<urn:hpflex/s223-example#hvac_3> a ns1:hp-rtu ;\n",
      "    ns1:air-connected-to <urn:hpflex/s223-example#zone_3> ;\n",
      "    ns1:has-point <urn:hpflex/s223-example#hvac_3-cooling_COP>,\n",
      "        <urn:hpflex/s223-example#hvac_3-cooling_capacity>,\n",
      "        <urn:hpflex/s223-example#hvac_3-heating_COP>,\n",
      "        <urn:hpflex/s223-example#hvac_3-heating_capacity> .\n",
      "\n",
      "<urn:hpflex/s223-example#s223-example> a ns1:site ;\n",
      "    ns1:has-point <urn:hpflex/s223-example#s223-example-latitude>,\n",
      "        <urn:hpflex/s223-example#s223-example-longitude>,\n",
      "        <urn:hpflex/s223-example#s223-example-noaastation>,\n",
      "        <urn:hpflex/s223-example#s223-example-timezone> .\n",
      "\n",
      "<urn:hpflex/s223-example#tstat_zone_1> a ns1:tstat ;\n",
      "    ns1:has-location <urn:hpflex/s223-example#zone_1> ;\n",
      "    ns1:has-point <urn:hpflex/s223-example#tstat_zone_1-active>,\n",
      "        <urn:hpflex/s223-example#tstat_zone_1-resolution>,\n",
      "        <urn:hpflex/s223-example#tstat_zone_1-setpoint_deadband>,\n",
      "        <urn:hpflex/s223-example#tstat_zone_1-stage_count>,\n",
      "        <urn:hpflex/s223-example#tstat_zone_1-tolerance> .\n",
      "\n",
      "<urn:hpflex/s223-example#tstat_zone_2> a ns1:tstat ;\n",
      "    ns1:has-location <urn:hpflex/s223-example#zone_2> ;\n",
      "    ns1:has-point <urn:hpflex/s223-example#tstat_zone_2-active>,\n",
      "        <urn:hpflex/s223-example#tstat_zone_2-resolution>,\n",
      "        <urn:hpflex/s223-example#tstat_zone_2-setpoint_deadband>,\n",
      "        <urn:hpflex/s223-example#tstat_zone_2-stage_count>,\n",
      "        <urn:hpflex/s223-example#tstat_zone_2-tolerance> .\n",
      "\n",
      "<urn:hpflex/s223-example#tstat_zone_3> a ns1:tstat ;\n",
      "    ns1:has-location <urn:hpflex/s223-example#zone_3> ;\n",
      "    ns1:has-point <urn:hpflex/s223-example#tstat_zone_3-active>,\n",
      "        <urn:hpflex/s223-example#tstat_zone_3-resolution>,\n",
      "        <urn:hpflex/s223-example#tstat_zone_3-setpoint_deadband>,\n",
      "        <urn:hpflex/s223-example#tstat_zone_3-stage_count>,\n",
      "        <urn:hpflex/s223-example#tstat_zone_3-tolerance> .\n",
      "\n",
      "<urn:hpflex/s223-example#window_2_1> a ns1:window ;\n",
      "    ns1:has-point <urn:hpflex/s223-example#window_2_1-area>,\n",
      "        <urn:hpflex/s223-example#window_2_1-azimuth>,\n",
      "        <urn:hpflex/s223-example#window_2_1-tilt> .\n",
      "\n",
      "<urn:hpflex/s223-example#window_3_1> a ns1:window ;\n",
      "    ns1:has-point <urn:hpflex/s223-example#window_3_1-area>,\n",
      "        <urn:hpflex/s223-example#window_3_1-azimuth>,\n",
      "        <urn:hpflex/s223-example#window_3_1-tilt> .\n",
      "\n",
      "<urn:hpflex/s223-example#window_3_2> a ns1:window ;\n",
      "    ns1:has-point <urn:hpflex/s223-example#window_3_2-area>,\n",
      "        <urn:hpflex/s223-example#window_3_2-azimuth>,\n",
      "        <urn:hpflex/s223-example#window_3_2-tilt> .\n",
      "\n",
      "<urn:hpflex/s223-example#hvac_1-cooling_COP> a ns1:cooling-COP ;\n",
      "    ns1:has-value \"\" .\n",
      "\n",
      "<urn:hpflex/s223-example#hvac_1-cooling_capacity> a ns1:cooling-capacity ;\n",
      "    ns1:has-value \"\" .\n",
      "\n",
      "<urn:hpflex/s223-example#hvac_1-heating_COP> a ns1:heating-COP ;\n",
      "    ns1:has-value \"\" .\n",
      "\n",
      "<urn:hpflex/s223-example#hvac_1-heating_capacity> a ns1:heating-capacity ;\n",
      "    ns1:has-value \"\" .\n",
      "\n",
      "<urn:hpflex/s223-example#hvac_2-cooling_COP> a ns1:cooling-COP ;\n",
      "    ns1:has-value \"\" .\n",
      "\n",
      "<urn:hpflex/s223-example#hvac_2-cooling_capacity> a ns1:cooling-capacity ;\n",
      "    ns1:has-value \"\" .\n",
      "\n",
      "<urn:hpflex/s223-example#hvac_2-heating_COP> a ns1:heating-COP ;\n",
      "    ns1:has-value \"\" .\n",
      "\n",
      "<urn:hpflex/s223-example#hvac_2-heating_capacity> a ns1:heating-capacity ;\n",
      "    ns1:has-value \"\" .\n",
      "\n",
      "<urn:hpflex/s223-example#hvac_3-cooling_COP> a ns1:cooling-COP ;\n",
      "    ns1:has-value \"\" .\n",
      "\n",
      "<urn:hpflex/s223-example#hvac_3-cooling_capacity> a ns1:cooling-capacity ;\n",
      "    ns1:has-value \"\" .\n",
      "\n",
      "<urn:hpflex/s223-example#hvac_3-heating_COP> a ns1:heating-COP ;\n",
      "    ns1:has-value \"\" .\n",
      "\n",
      "<urn:hpflex/s223-example#hvac_3-heating_capacity> a ns1:heating-capacity ;\n",
      "    ns1:has-value \"\" .\n",
      "\n",
      "<urn:hpflex/s223-example#s223-example-latitude> a ns1:latitude ;\n",
      "    ns1:has-value \"\" .\n",
      "\n",
      "<urn:hpflex/s223-example#s223-example-longitude> a ns1:longitude ;\n",
      "    ns1:has-value \"\" .\n",
      "\n",
      "<urn:hpflex/s223-example#s223-example-noaastation> a ns1:noaastation ;\n",
      "    ns1:has-value \"\" .\n",
      "\n",
      "<urn:hpflex/s223-example#s223-example-timezone> a ns1:timezone ;\n",
      "    ns1:has-value \"\" .\n",
      "\n",
      "<urn:hpflex/s223-example#space_1_1> a ns1:space ;\n",
      "    ns1:has-point <urn:hpflex/s223-example#space_1_1-area> .\n",
      "\n",
      "<urn:hpflex/s223-example#space_1_1-area> a ns1:area ;\n",
      "    ns1:has-value \"\" .\n",
      "\n",
      "<urn:hpflex/s223-example#space_1_2> a ns1:space ;\n",
      "    ns1:has-point <urn:hpflex/s223-example#space_1_2-area> .\n",
      "\n",
      "<urn:hpflex/s223-example#space_1_2-area> a ns1:area ;\n",
      "    ns1:has-value \"\" .\n",
      "\n",
      "<urn:hpflex/s223-example#space_2_1> a ns1:space ;\n",
      "    ns1:has-point <urn:hpflex/s223-example#space_2_1-area> .\n",
      "\n",
      "<urn:hpflex/s223-example#space_2_1-area> a ns1:area ;\n",
      "    ns1:has-value \"\" .\n",
      "\n",
      "<urn:hpflex/s223-example#space_3_1> a ns1:space ;\n",
      "    ns1:has-point <urn:hpflex/s223-example#space_3_1-area> .\n",
      "\n",
      "<urn:hpflex/s223-example#space_3_1-area> a ns1:area ;\n",
      "    ns1:has-value \"\" .\n",
      "\n",
      "<urn:hpflex/s223-example#tstat_zone_1-active> a ns1:tstat-active ;\n",
      "    ns1:has-value \"\" .\n",
      "\n",
      "<urn:hpflex/s223-example#tstat_zone_1-resolution> a ns1:tstat-resolution ;\n",
      "    ns1:has-value \"\" .\n",
      "\n",
      "<urn:hpflex/s223-example#tstat_zone_1-setpoint_deadband> a ns1:tstat-deadband ;\n",
      "    ns1:has-value \"\" .\n",
      "\n",
      "<urn:hpflex/s223-example#tstat_zone_1-stage_count> a ns1:tstat-stage_count ;\n",
      "    ns1:has-value \"\" .\n",
      "\n",
      "<urn:hpflex/s223-example#tstat_zone_1-tolerance> a ns1:tstat-tolerance ;\n",
      "    ns1:has-value \"\" .\n",
      "\n",
      "<urn:hpflex/s223-example#tstat_zone_2-active> a ns1:tstat-active ;\n",
      "    ns1:has-value \"\" .\n",
      "\n",
      "<urn:hpflex/s223-example#tstat_zone_2-resolution> a ns1:tstat-resolution ;\n",
      "    ns1:has-value \"\" .\n",
      "\n",
      "<urn:hpflex/s223-example#tstat_zone_2-setpoint_deadband> a ns1:tstat-deadband ;\n",
      "    ns1:has-value \"\" .\n",
      "\n",
      "<urn:hpflex/s223-example#tstat_zone_2-stage_count> a ns1:tstat-stage_count ;\n",
      "    ns1:has-value \"\" .\n",
      "\n",
      "<urn:hpflex/s223-example#tstat_zone_2-tolerance> a ns1:tstat-tolerance ;\n",
      "    ns1:has-value \"\" .\n",
      "\n",
      "<urn:hpflex/s223-example#tstat_zone_3-active> a ns1:tstat-active ;\n",
      "    ns1:has-value \"\" .\n",
      "\n",
      "<urn:hpflex/s223-example#tstat_zone_3-resolution> a ns1:tstat-resolution ;\n",
      "    ns1:has-value \"\" .\n",
      "\n",
      "<urn:hpflex/s223-example#tstat_zone_3-setpoint_deadband> a ns1:tstat-deadband ;\n",
      "    ns1:has-value \"\" .\n",
      "\n",
      "<urn:hpflex/s223-example#tstat_zone_3-stage_count> a ns1:tstat-stage_count ;\n",
      "    ns1:has-value \"\" .\n",
      "\n",
      "<urn:hpflex/s223-example#tstat_zone_3-tolerance> a ns1:tstat-tolerance ;\n",
      "    ns1:has-value \"\" .\n",
      "\n",
      "<urn:hpflex/s223-example#window_1_1-area> a ns1:area ;\n",
      "    ns1:has-value \"\" .\n",
      "\n",
      "<urn:hpflex/s223-example#window_1_1-azimuth> a ns1:azimuth ;\n",
      "    ns1:has-value \"\" .\n",
      "\n",
      "<urn:hpflex/s223-example#window_1_1-tilt> a ns1:tilt ;\n",
      "    ns1:has-value \"\" .\n",
      "\n",
      "<urn:hpflex/s223-example#window_1_2-area> a ns1:area ;\n",
      "    ns1:has-value \"\" .\n",
      "\n",
      "<urn:hpflex/s223-example#window_1_2-azimuth> a ns1:azimuth ;\n",
      "    ns1:has-value \"\" .\n",
      "\n",
      "<urn:hpflex/s223-example#window_1_2-tilt> a ns1:tilt ;\n",
      "    ns1:has-value \"\" .\n",
      "\n",
      "<urn:hpflex/s223-example#window_2_1-area> a ns1:area ;\n",
      "    ns1:has-value \"\" .\n",
      "\n",
      "<urn:hpflex/s223-example#window_2_1-azimuth> a ns1:azimuth ;\n",
      "    ns1:has-value \"\" .\n",
      "\n",
      "<urn:hpflex/s223-example#window_2_1-tilt> a ns1:tilt ;\n",
      "    ns1:has-value \"\" .\n",
      "\n",
      "<urn:hpflex/s223-example#window_2_2-area> a ns1:area ;\n",
      "    ns1:has-value \"\" .\n",
      "\n",
      "<urn:hpflex/s223-example#window_2_2-azimuth> a ns1:azimuth ;\n",
      "    ns1:has-value \"\" .\n",
      "\n",
      "<urn:hpflex/s223-example#window_2_2-tilt> a ns1:tilt ;\n",
      "    ns1:has-value \"\" .\n",
      "\n",
      "<urn:hpflex/s223-example#window_3_1-area> a ns1:area ;\n",
      "    ns1:has-value \"\" .\n",
      "\n",
      "<urn:hpflex/s223-example#window_3_1-azimuth> a ns1:azimuth ;\n",
      "    ns1:has-value \"\" .\n",
      "\n",
      "<urn:hpflex/s223-example#window_3_1-tilt> a ns1:tilt ;\n",
      "    ns1:has-value \"\" .\n",
      "\n",
      "<urn:hpflex/s223-example#window_3_2-area> a ns1:area ;\n",
      "    ns1:has-value \"\" .\n",
      "\n",
      "<urn:hpflex/s223-example#window_3_2-azimuth> a ns1:azimuth ;\n",
      "    ns1:has-value \"\" .\n",
      "\n",
      "<urn:hpflex/s223-example#window_3_2-tilt> a ns1:tilt ;\n",
      "    ns1:has-value \"\" .\n",
      "\n",
      "<urn:hpflex/s223-example#window_3_3-area> a ns1:area ;\n",
      "    ns1:has-value \"\" .\n",
      "\n",
      "<urn:hpflex/s223-example#window_3_3-azimuth> a ns1:azimuth ;\n",
      "    ns1:has-value \"\" .\n",
      "\n",
      "<urn:hpflex/s223-example#window_3_3-tilt> a ns1:tilt ;\n",
      "    ns1:has-value \"\" .\n",
      "\n",
      "<urn:hpflex/s223-example#window_1_1> a ns1:window ;\n",
      "    ns1:has-point <urn:hpflex/s223-example#window_1_1-area>,\n",
      "        <urn:hpflex/s223-example#window_1_1-azimuth>,\n",
      "        <urn:hpflex/s223-example#window_1_1-tilt> .\n",
      "\n",
      "<urn:hpflex/s223-example#window_1_2> a ns1:window ;\n",
      "    ns1:has-point <urn:hpflex/s223-example#window_1_2-area>,\n",
      "        <urn:hpflex/s223-example#window_1_2-azimuth>,\n",
      "        <urn:hpflex/s223-example#window_1_2-tilt> .\n",
      "\n",
      "<urn:hpflex/s223-example#window_2_2> a ns1:window ;\n",
      "    ns1:has-point <urn:hpflex/s223-example#window_2_2-area>,\n",
      "        <urn:hpflex/s223-example#window_2_2-azimuth>,\n",
      "        <urn:hpflex/s223-example#window_2_2-tilt> .\n",
      "\n",
      "<urn:hpflex/s223-example#window_3_3> a ns1:window ;\n",
      "    ns1:has-point <urn:hpflex/s223-example#window_3_3-area>,\n",
      "        <urn:hpflex/s223-example#window_3_3-azimuth>,\n",
      "        <urn:hpflex/s223-example#window_3_3-tilt> .\n",
      "\n",
      "<urn:hpflex/s223-example#zone_2> a ns1:hvac-zone ;\n",
      "    ns1:air-connected-to <urn:hpflex/s223-example#window_2_2> ;\n",
      "    ns1:has-space <urn:hpflex/s223-example#space_2_1> ;\n",
      "    ns1:has-window <urn:hpflex/s223-example#window_2_2> .\n",
      "\n",
      "<urn:hpflex/s223-example#zone_3> a ns1:hvac-zone ;\n",
      "    ns1:air-connected-to <urn:hpflex/s223-example#window_3_3> ;\n",
      "    ns1:has-space <urn:hpflex/s223-example#space_3_1> ;\n",
      "    ns1:has-window <urn:hpflex/s223-example#window_3_3> .\n",
      "\n",
      "<urn:hpflex/s223-example#> ns1:air-connected-to <urn:hpflex/s223-example#zone_1> ;\n",
      "    ns1:has-location <urn:hpflex/s223-example#zone_1> .\n",
      "\n",
      "<urn:hpflex/s223-example#zone_1> a ns1:hvac-zone ;\n",
      "    ns1:air-connected-to <urn:hpflex/s223-example#>,\n",
      "        <urn:hpflex/s223-example#window_1_1>,\n",
      "        <urn:hpflex/s223-example#window_1_2> ;\n",
      "    ns1:has-space <urn:hpflex/s223-example#>,\n",
      "        <urn:hpflex/s223-example#space_1_1>,\n",
      "        <urn:hpflex/s223-example#space_1_2> ;\n",
      "    ns1:has-window <urn:hpflex/s223-example#>,\n",
      "        <urn:hpflex/s223-example#window_1_1>,\n",
      "        <urn:hpflex/s223-example#window_1_2> .\n",
      "\n",
      "\n"
     ]
    }
   ],
   "source": [
    "# lots of new inferred information\n",
    "(inferred_graph-og).print()"
   ]
  },
  {
   "cell_type": "markdown",
   "metadata": {},
   "source": [
    "# Testing get Metadata"
   ]
  },
  {
   "cell_type": "code",
   "execution_count": 9,
   "metadata": {},
   "outputs": [],
   "source": [
    "# still working on loader, will clean up class, but functionality about right\n",
    "loader = LoadModel(f\"{base_path}/reasoned.ttl\", \n",
    "                   template_dict={'sites':'site', 'zones': 'hvac-zone'}, \n",
    "                   ontology = ontology)\n",
    "site_info = loader.get_all_building_objects()"
   ]
  },
  {
   "cell_type": "code",
   "execution_count": 12,
   "metadata": {},
   "outputs": [],
   "source": [
    "df = loader._get_dataframe()"
   ]
  },
  {
   "cell_type": "code",
   "execution_count": 95,
   "metadata": {},
   "outputs": [
    {
     "name": "stdout",
     "output_type": "stream",
     "text": [
      "incorrect amount of columns returned for urn:hpflex/s223-example#tstat_zone_3-tolerance\n",
      "incorrect amount of columns returned for urn:hpflex/s223-example#tstat_zone_3-resolution\n"
     ]
    }
   ],
   "source": [
    "from semantic_mpc_interface.namespaces import * \n",
    "from semantic_mpc_interface.utils import * \n",
    "\n",
    "main_entity_col = 'name'\n",
    "\n",
    "# Mapping columns to templates (which are also HPFS types)\n",
    "entity_types = {}\n",
    "attr_types = {}\n",
    "\n",
    "# Type of entity and types of related attributes\n",
    "entity_attr_types = {}\n",
    "entity_entity_types = {}\n",
    "\n",
    "# # May delete, not sure if I need this\n",
    "# entity_class_relation = {}\n",
    "value_templates,entity_templates = get_template_types(ontology='s223')\n",
    "\n",
    "# mapping entity cols to related point cols in df\n",
    "entity_attr_cols = {}\n",
    "\n",
    "# mapping entity cols to related entity cols in df\n",
    "entity_entity_cols = {}\n",
    "row = df.iloc[0]\n",
    "# get all the entity types\n",
    "for col, entity in row.items():\n",
    "    for p, o in loader.g.predicate_objects(entity):\n",
    "        # o is entity class\n",
    "        if p == A and (loader.g.compute_qname(o)[1]) == URIRef(HPFS):\n",
    "            entity_type = get_uri_name(loader.g,o)\n",
    "            if entity_type in entity_templates:\n",
    "                # getting entity types\n",
    "                entity_types[col] = entity_type\n",
    "            if entity_type in value_templates:\n",
    "                # getting value types\n",
    "                attr_types[col] = entity_type\n",
    "            continue\n",
    "        # o is an attribute of entity\n",
    "        if p == HPFS['has-point']:\n",
    "            # getting entity attr cols\n",
    "                if col not in entity_attr_cols.keys():\n",
    "                    entity_attr_cols[col] = set()\n",
    "                # Should always be a single value, may have to validate this\n",
    "                col_names = row.index[row == o]\n",
    "                if len(col_names) != 1:\n",
    "                    print(f'incorrect amount of columns returned for {o}')\n",
    "                else:\n",
    "                    entity_attr_cols[col].add(col_names.values[0])\n",
    "        for p2, o2 in loader.g.predicate_objects(o):\n",
    "            # getting entity relations if o is another defined entity\n",
    "            if p2 == A and (loader.g.compute_qname(o2)[1]) == URIRef(HPFS):\n",
    "                if o2 in [ HPFS[val] for val in entity_templates ]:\n",
    "                    if col not in entity_entity_cols:\n",
    "                        entity_entity_cols[col] = set()\n",
    "                    # no self relations allowed\n",
    "                    col_names = row.index[row == o]\n",
    "                    if len(col_names) != 1:\n",
    "                        print(f'incorrect amount of columns returned for {o}')\n",
    "                    else:\n",
    "                        col_value = col_names.values[0]\n",
    "                        if col_value != col:\n",
    "                            entity_entity_cols[col].add(col_value)\n",
    "\n",
    "#change sets to iterables\n",
    "entity_attr_cols = {entity:list(attrs) for entity, attrs in entity_attr_cols.items()}\n",
    "entity_entity_cols = {entity:list(other_entities) for entity, other_entities in entity_entity_cols.items()}\n",
    "\n",
    "# reshape direction relationships to make direction from main template of focus\n",
    "reverse_related_to = []\n",
    "reverse_related_to_types = []\n",
    "for entity, entities in entity_entity_cols.items():\n",
    "    if main_entity_col in entities:\n",
    "        reverse_related_to.append(entity)\n",
    "        entities.remove(main_entity_col)\n",
    "        reverse_related_to_types.append(entity_templates)\n",
    "entity_entity_cols[main_entity_col] += reverse_related_to\n",
    "\n",
    "# creating type dictionaries to dynamically instantiate classes\n",
    "entity_attr_types = { \n",
    "    entity_types[entity_col]: [\n",
    "        attr_types[val_col] for val_col in val_cols\n",
    "    ] \n",
    "    for entity_col, val_cols in entity_attr_cols.items()\n",
    "}\n",
    "entity_entity_types = { \n",
    "    entity_types[entity_col]: [\n",
    "        entity_types[other_entity_col] for other_entity_col in other_entity_cols\n",
    "    ] \n",
    "    for entity_col, other_entity_cols in entity_entity_cols.items()\n",
    "}\n"
   ]
  },
  {
   "cell_type": "code",
   "execution_count": 96,
   "metadata": {},
   "outputs": [
    {
     "data": {
      "text/plain": [
       "{'hvac': [], 'name': ['window', 'space', 'hvac', 'tstat'], 'tstat': []}"
      ]
     },
     "metadata": {},
     "output_type": "display_data"
    },
    {
     "data": {
      "text/plain": [
       "{'hvac': ['hvac_cooling_COP',\n",
       "  'hvac_heating_capacity',\n",
       "  'hvac_cooling_capacity',\n",
       "  'hvac_heating_COP'],\n",
       " 'space': ['space_area'],\n",
       " 'tstat': ['tstat_stage_count', 'tstat_active', 'tstat_setpoint_deadband'],\n",
       " 'window': ['window_azimuth', 'window_tilt', 'window_area']}"
      ]
     },
     "metadata": {},
     "output_type": "display_data"
    },
    {
     "data": {
      "text/plain": [
       "{'hp-rtu': [],\n",
       " 'hvac-zone': ['window', 'space', 'hp-rtu', 'tstat'],\n",
       " 'tstat': []}"
      ]
     },
     "metadata": {},
     "output_type": "display_data"
    },
    {
     "data": {
      "text/plain": [
       "{'hp-rtu': ['cooling-COP',\n",
       "  'heating-capacity',\n",
       "  'cooling-capacity',\n",
       "  'heating-COP'],\n",
       " 'space': ['area'],\n",
       " 'tstat': ['tstat-stage_count', 'tstat-active', 'tstat-deadband'],\n",
       " 'window': ['azimuth', 'tilt', 'area']}"
      ]
     },
     "metadata": {},
     "output_type": "display_data"
    }
   ],
   "source": [
    "display(entity_entity_cols)\n",
    "display(entity_attr_cols)\n",
    "display(entity_entity_types)\n",
    "display(entity_attr_types)\n"
   ]
  },
  {
   "cell_type": "code",
   "execution_count": null,
   "metadata": {},
   "outputs": [
    {
     "name": "stdout",
     "output_type": "stream",
     "text": [
      "{'sites': [site(name='urn:hpflex/s223-example#s223-example', timezone=Value(value=, unit='None'), noaastation=Value(value=, unit='None'), longitude=Value(value=, unit='http://qudt.org/vocab/unit/Degree'), latitude=Value(value=, unit='http://qudt.org/vocab/unit/Degree'), )], 'zones': [hvac_zone(name='urn:hpflex/s223-example#zone_3', , windows=1, spaces=1, hp_rtus=1, tstats=1), hvac_zone(name='urn:hpflex/s223-example#zone_2', , windows=1, spaces=1, hp_rtus=1, tstats=1), hvac_zone(name='urn:hpflex/s223-example#zone_1', , windows=2, spaces=2, hp_rtus=1, tstats=1)]}\n"
     ]
    }
   ],
   "source": [
    "print(site_info)"
   ]
  },
  {
   "cell_type": "code",
   "execution_count": null,
   "metadata": {},
   "outputs": [
    {
     "name": "stdout",
     "output_type": "stream",
     "text": [
      "hvac_zone(name='urn:hpflex/s223-example#zone_3', , windows=1, spaces=1, hp_rtus=1, tstats=1)\n"
     ]
    }
   ],
   "source": [
    "zone = site_info['zones'][0]\n",
    "print(zone)"
   ]
  },
  {
   "cell_type": "code",
   "execution_count": null,
   "metadata": {},
   "outputs": [
    {
     "data": {
      "text/plain": [
       "[space(name='urn:hpflex/s223-example#space_3_1', area=Value(value=, unit='http://qudt.org/vocab/unit/FT2'), )]"
      ]
     },
     "execution_count": 16,
     "metadata": {},
     "output_type": "execute_result"
    }
   ],
   "source": [
    "zone.spaces"
   ]
  },
  {
   "cell_type": "code",
   "execution_count": null,
   "metadata": {},
   "outputs": [
    {
     "data": {
      "text/plain": [
       "[[window(name='urn:hpflex/s223-example#window_3_3', tilt=Value(value=, unit='http://qudt.org/vocab/unit/Degree'), azimuth=Value(value=, unit='http://qudt.org/vocab/unit/Degree'), area=None, )],\n",
       " [window(name='urn:hpflex/s223-example#window_2_2', tilt=Value(value=, unit='http://qudt.org/vocab/unit/Degree'), azimuth=Value(value=, unit='http://qudt.org/vocab/unit/Degree'), area=None, )],\n",
       " [window(name='urn:hpflex/s223-example#window_1_2', tilt=Value(value=, unit='http://qudt.org/vocab/unit/Degree'), azimuth=Value(value=, unit='http://qudt.org/vocab/unit/Degree'), area=None, ),\n",
       "  window(name='urn:hpflex/s223-example#window_1_1', tilt=Value(value=, unit='http://qudt.org/vocab/unit/Degree'), azimuth=Value(value=, unit='http://qudt.org/vocab/unit/Degree'), area=None, )]]"
      ]
     },
     "execution_count": 20,
     "metadata": {},
     "output_type": "execute_result"
    }
   ],
   "source": [
    "[ zone.windows for zone in site_info['zones'] ]# [0]# .area.name"
   ]
  },
  {
   "cell_type": "code",
   "execution_count": null,
   "metadata": {},
   "outputs": [
    {
     "data": {
      "text/plain": [
       "tstat(name='urn:hpflex/s223-example#tstat_zone_3', tstat_tolerance=Value(value=, unit='http://qudt.org/vocab/unit/DEG_F'), tstat_stage_count=Value(value=, unit='http://qudt.org/vocab/unit/NUM'), tstat_deadband=Value(value=, unit='http://qudt.org/vocab/unit/DEG_F'), tstat_resolution=None, tstat_active=Value(value=, unit='http://qudt.org/vocab/unit/NUM'), )"
      ]
     },
     "execution_count": 18,
     "metadata": {},
     "output_type": "execute_result"
    }
   ],
   "source": [
    "zone.tstats[0]"
   ]
  },
  {
   "cell_type": "code",
   "execution_count": null,
   "metadata": {},
   "outputs": [
    {
     "ename": "SyntaxError",
     "evalue": "error at 80:9: expected OPTIONAL (<string>)",
     "output_type": "error",
     "traceback": [
      "Traceback \u001b[0;36m(most recent call last)\u001b[0m:\n",
      "\u001b[0m  File \u001b[1;32m~/Desktop/HPflex/Semantic_MPC_Interface/.venv/lib/python3.10/site-packages/IPython/core/interactiveshell.py:3579\u001b[0m in \u001b[1;35mrun_code\u001b[0m\n    exec(code_obj, self.user_global_ns, self.user_ns)\u001b[0m\n",
      "\u001b[0m  Cell \u001b[1;32mIn[23], line 3\u001b[0m\n    query_to_df(query, loader.g)\u001b[0m\n",
      "\u001b[0m  File \u001b[1;32m~/Desktop/HPflex/Semantic_MPC_Interface/src/semantic_mpc_interface/utils.py:30\u001b[0m in \u001b[1;35mquery_to_df\u001b[0m\n    results = g.query(query)\u001b[0m\n",
      "\u001b[0m  File \u001b[1;32m~/Desktop/HPflex/Semantic_MPC_Interface/.venv/lib/python3.10/site-packages/rdflib/graph.py:1616\u001b[0m in \u001b[1;35mquery\u001b[0m\n    return self.store.query(\u001b[0m\n",
      "\u001b[0;36m  File \u001b[0;32m~/Desktop/HPflex/Semantic_MPC_Interface/.venv/lib/python3.10/site-packages/oxrdflib/store.py:150\u001b[0;36m in \u001b[0;35mquery\u001b[0;36m\n\u001b[0;31m    result = self._inner.query(\u001b[0;36m\n",
      "\u001b[0;36m  File \u001b[0;32m<string>\u001b[0;36m\u001b[0m\n\u001b[0;31mSyntaxError\u001b[0m\u001b[0;31m:\u001b[0m error at 80:9: expected OPTIONAL\n"
     ]
    }
   ],
   "source": [
    "from semantic_mpc_interface import query_to_df\n",
    "query = 'PREFIX brick: <https://brickschema.org/schema/Brick#>\\nPREFIX csvw: <http://www.w3.org/ns/csvw#>\\nPREFIX dc: <http://purl.org/dc/elements/1.1/>\\nPREFIX dcat: <http://www.w3.org/ns/dcat#>\\nPREFIX dcmitype: <http://purl.org/dc/dcmitype/>\\nPREFIX dcterms: <http://purl.org/dc/terms/>\\nPREFIX dcam: <http://purl.org/dc/dcam/>\\nPREFIX doap: <http://usefulinc.com/ns/doap#>\\nPREFIX foaf: <http://xmlns.com/foaf/0.1/>\\nPREFIX geo: <http://www.opengis.net/ont/geosparql#>\\nPREFIX odrl: <http://www.w3.org/ns/odrl/2/>\\nPREFIX org: <http://www.w3.org/ns/org#>\\nPREFIX prof: <http://www.w3.org/ns/dx/prof/>\\nPREFIX prov: <http://www.w3.org/ns/prov#>\\nPREFIX qb: <http://purl.org/linked-data/cube#>\\nPREFIX schema: <https://schema.org/>\\nPREFIX sh: <http://www.w3.org/ns/shacl#>\\nPREFIX skos: <http://www.w3.org/2004/02/skos/core#>\\nPREFIX sosa: <http://www.w3.org/ns/sosa/>\\nPREFIX ssn: <http://www.w3.org/ns/ssn/>\\nPREFIX time: <http://www.w3.org/2006/time#>\\nPREFIX vann: <http://purl.org/vocab/vann/>\\nPREFIX void: <http://rdfs.org/ns/void#>\\nPREFIX wgs: <https://www.w3.org/2003/01/geo/wgs84_pos#>\\nPREFIX owl: <http://www.w3.org/2002/07/owl#>\\nPREFIX rdf: <http://www.w3.org/1999/02/22-rdf-syntax-ns#>\\nPREFIX rdfs: <http://www.w3.org/2000/01/rdf-schema#>\\nPREFIX xsd: <http://www.w3.org/2001/XMLSchema#>\\nPREFIX xml: <http://www.w3.org/XML/1998/namespace>\\nPREFIX ns1: <urn:___param___#>\\nPREFIX ns2: <http://data.ashrae.org/standard223#>\\nPREFIX ns3: <http://qudt.org/vocab/quantitykind/>\\nPREFIX ns4: <http://qudt.org/schema/qudt/>\\nPREFIX ns5: <http://qudt.org/vocab/unit/>\\nSELECT DISTINCT * WHERE { ?tstat_setpoint_deadband rdf:type ns2:QuantifiableObservableProperty .\\n?space_area ns4:hasQuantityKind ns3:Area .\\n?tstat_active ns2:hasAspect ?tstat_active_aspects_in\\n?tstat_active ns2:hasAspect ns2:Effectiveness-Active .\\n?tstat_resolution ns4:hasUnit ?tstat_resolution_unit .\\n?tstat_stage_count rdf:type ns2:EnumeratedObservableProperty .\\n?hvac_cooling_COP ns4:hasUnit ?hvac_cooling_COP_unit .\\n?window_area ns2:hasValue ?window_area_value .\\n?window_tilt ns4:hasUnit ?window_tilt_unit .\\n?hvac_cooling_COP ns4:hasQuantityKind ns3:CoefficientOfPerformance .\\n?hvac ns2:hasProperty ?hvac_heating_capacity .\\n?window_tilt rdf:type ns2:QuantifiableObservableProperty .\\n?hvac_cooling_capacity rdf:type ns2:QuantifiableObservableProperty .\\n?tstat_tolerance ns2:hasValue ?tstat_tolerance_value .\\n?tstat_stage_count ns4:hasQuantityKind ns3:Count .\\n?space_area ns4:hasUnit ?space_area_unit .\\n?space ns2:hasProperty ?space_area .\\n?window_azimuth ns2:hasValue ?window_azimuth_value .\\n?tstat_setpoint_deadband ns4:isDeltaQuantity true .\\n?space_area ns2:hasValue ?space_area_value .\\n?hvac ns2:connectedTo ?name .\\n?hvac_cooling_capacity ns4:hasQuantityKind ns3:Power .\\n?window_azimuth ns4:hasUnit ?window_azimuth_unit .\\n?hvac_heating_COP ns2:hasValue ?hvac_heating_COP_value .\\n?tstat_active ns2:hasAspect ns2:Binary-Logical .\\n?tstat_tolerance ns4:isDeltaQuantity true .\\n?tstat_stage_count ns2:hasValue ?tstat_stage_count_value .\\n?hvac_cooling_capacity ns2:hasAspect ?hvac_cooling_capacity_aspects_in\\n?hvac_cooling_capacity ns2:hasAspect ns2:Role-Cooling .\\n?space_area rdf:type ns2:QuantifiableObservableProperty .\\n?hvac_heating_capacity ns4:hasQuantityKind ns3:Power .\\n?hvac_cooling_COP ns2:hasAspect ?hvac_cooling_COP_aspects_in\\n?hvac_cooling_COP ns2:hasAspect ns2:Role-Cooling .\\n?window_tilt ns4:hasQuantityKind ns3:Tilt .\\n?tstat_stage_count ns2:hasAspect ?tstat_stage_count_aspects_in\\n?tstat_stage_count ns2:hasAspect ns2:Role-Cooling .\\n?name ns2:encloses ?name .\\n?tstat_active ns2:hasValue ?tstat_active_value .\\n?tstat_tolerance ns2:hasAspect ?tstat_tolerance_aspects_in\\n?tstat_tolerance ns2:hasAspect ns2:Aspect-Heating .\\n?hvac ns2:hasProperty ?hvac_heating_COP .\\n?tstat_resolution ns2:hasValue ?tstat_resolution_value .\\n?tstat ns2:hasProperty ?tstat_resolution .\\n?tstat_tolerance ns4:hasQuantityKind ns3:Temperature .\\n?tstat_stage_count ns2:hasAspect ns2:Aspect-OperatingMode .\\n?hvac_heating_COP ns4:hasQuantityKind ns3:CoefficientOfPerformance .\\n?tstat_resolution rdf:type ns2:QuantifiableObservableProperty .\\n?window_area ns4:hasUnit ?window_area_unit .\\n?tstat rdf:type ns2:Thermostat .\\n?name ns2:hasDomain ns2:Domain-HVAC .\\n?tstat_active rdf:type ns2:EnumeratedObservableProperty .\\n?hvac_heating_capacity ns4:hasUnit ?hvac_heating_capacity_unit .\\n?hvac_heating_capacity ns2:hasValue ?hvac_heating_capacity_value .\\n?window rdf:type ns2:Window .\\n?hvac rdf:type ns2:AirToAirHeatPump .\\n?tstat_tolerance ns4:hasUnit ?tstat_tolerance_unit .\\n?tstat ns2:hasProperty ?tstat_tolerance .\\n?tstat_tolerance ns2:hasAspect ns2:Aspect-Cooling .\\n?tstat_tolerance ns2:hasAspect ns2:Aspect-Threshold .\\n?tstat_active ns2:hasAspect ns2:Aspect-Heating .\\n?hvac_cooling_COP rdf:type ns2:QuantifiableObservableProperty .\\n?tstat_setpoint_deadband ns2:hasValue ?tstat_setpoint_deadband_value .\\n?window ns2:hasProperty ?window_area .\\n?tstat ns2:hasProperty ?tstat_stage_count .\\n?tstat ns2:hasProperty ?tstat_active .\\n?hvac_cooling_COP ns2:hasValue ?hvac_cooling_COP_value .\\n?window ns2:hasProperty ?window_tilt .\\n?tstat_resolution ns4:isDeltaQuantity true .\\n?tstat_active ns4:hasUnit ns5:NUM .\\n?window_tilt ns2:hasValue ?window_tilt_value .\\n?hvac_heating_capacity ns2:hasAspect ?hvac_heating_capacity_aspects_in\\n?hvac_heating_capacity ns2:hasAspect ns2:Role-Heating .\\n?hvac ns2:hasProperty ?hvac_cooling_capacity .\\n?tstat_setpoint_deadband ns2:hasAspect ?tstat_setpoint_deadband_aspects_in\\n?tstat_setpoint_deadband ns2:hasAspect ns2:Aspect-Deadband .\\n?window ns2:hasProperty ?window_azimuth .\\n?window_area ns4:hasQuantityKind ns3:Area .\\n?window_azimuth rdf:type ns2:QuantifiableObservableProperty .\\n?tstat_stage_count ns4:hasUnit ns5:NUM .\\n?tstat_active ns2:hasAspect ns2:Aspect-Cooling .\\n?hvac_heating_capacity rdf:type ns2:QuantifiableObservableProperty .\\n?hvac_heating_COP ns2:hasAspect ?hvac_heating_COP_aspects_in\\n?hvac_heating_COP ns2:hasAspect ns2:Role-Heating .\\n?space rdf:type ns2:PhysicalSpace .\\n?name rdf:type ns2:DomainSpace .\\n?window_azimuth ns4:hasQuantityKind ns3:Azimuth .\\n?tstat_setpoint_deadband ns4:hasUnit ?tstat_setpoint_deadband_unit .\\n?hvac_cooling_capacity ns2:hasValue ?hvac_cooling_capacity_value .\\n?name ns2:connectedTo ?window .\\n?window_area rdf:type ns2:QuantifiableObservableProperty .\\n?hvac ns2:hasProperty ?hvac_cooling_COP .\\n?hvac_heating_COP ns4:hasUnit ?hvac_heating_COP_unit .\\n?tstat_setpoint_deadband ns4:hasQuantityKind ns3:Temperature .\\n?tstat ns2:hasProperty ?tstat_setpoint_deadband .\\n?hvac_cooling_capacity ns4:hasUnit ?hvac_cooling_capacity_unit .\\n?name ns2:contains ?space .\\n?hvac_heating_COP rdf:type ns2:QuantifiableObservableProperty .\\n?tstat_tolerance rdf:type ns2:QuantifiableObservableProperty .\\n?name rdf:type ns2:PhysicalSpace .\\n?tstat ns2:hasMeasurementLocation ?name .\\nFILTER(?tstat_active_aspects_in IN (ns2:Effectiveness-Active,ns2:Aspect-Heating,ns2:Binary-Logical,ns2:Aspect-Cooling) ) .\\nFILTER(?hvac_cooling_capacity_aspects_in IN (ns2:Role-Cooling) ) .\\nFILTER(?hvac_cooling_COP_aspects_in IN (ns2:Role-Cooling) ) .\\nFILTER(?tstat_stage_count_aspects_in IN (ns2:Role-Cooling,ns2:Aspect-OperatingMode) ) .\\nFILTER(?tstat_tolerance_aspects_in IN (ns2:Aspect-Cooling,ns2:Aspect-Threshold,ns2:Aspect-Heating) ) .\\nFILTER(?hvac_heating_capacity_aspects_in IN (ns2:Role-Heating) ) .\\nFILTER(?tstat_setpoint_deadband_aspects_in IN (ns2:Aspect-Deadband) ) .\\nFILTER(?hvac_heating_COP_aspects_in IN (ns2:Role-Heating) ) . }'\n",
    "query_to_df(query, loader.g)"
   ]
  },
  {
   "cell_type": "code",
   "execution_count": null,
   "metadata": {},
   "outputs": [
    {
     "name": "stdout",
     "output_type": "stream",
     "text": [
      "None\n"
     ]
    },
    {
     "ename": "AttributeError",
     "evalue": "'NoneType' object has no attribute 'convert_to_si'",
     "output_type": "error",
     "traceback": [
      "\u001b[0;31m---------------------------------------------------------------------------\u001b[0m",
      "\u001b[0;31mAttributeError\u001b[0m                            Traceback (most recent call last)",
      "Cell \u001b[0;32mIn[21], line 2\u001b[0m\n\u001b[1;32m      1\u001b[0m \u001b[38;5;28mprint\u001b[39m(zone\u001b[38;5;241m.\u001b[39mtstats[\u001b[38;5;241m0\u001b[39m]\u001b[38;5;241m.\u001b[39mtstat_resolution)\n\u001b[0;32m----> 2\u001b[0m \u001b[43mzone\u001b[49m\u001b[38;5;241;43m.\u001b[39;49m\u001b[43mtstats\u001b[49m\u001b[43m[\u001b[49m\u001b[38;5;241;43m0\u001b[39;49m\u001b[43m]\u001b[49m\u001b[38;5;241;43m.\u001b[39;49m\u001b[43mtstat_resolution\u001b[49m\u001b[38;5;241;43m.\u001b[39;49m\u001b[43mconvert_to_si\u001b[49m()\n\u001b[1;32m      3\u001b[0m \u001b[38;5;28mprint\u001b[39m(zone\u001b[38;5;241m.\u001b[39mtstats[\u001b[38;5;241m0\u001b[39m]\u001b[38;5;241m.\u001b[39mtstat_resolution)\n\u001b[1;32m      4\u001b[0m \u001b[38;5;28mprint\u001b[39m(zone\u001b[38;5;241m.\u001b[39mtstats[\u001b[38;5;241m0\u001b[39m]\u001b[38;5;241m.\u001b[39mtstat_resolution\u001b[38;5;241m.\u001b[39mis_delta)\n",
      "\u001b[0;31mAttributeError\u001b[0m: 'NoneType' object has no attribute 'convert_to_si'"
     ]
    }
   ],
   "source": [
    "print(zone.tstats[0].tstat_resolution)\n",
    "zone.tstats[0].tstat_resolution.convert_to_si()\n",
    "print(zone.tstats[0].tstat_resolution)\n",
    "print(zone.tstats[0].tstat_resolution.is_delta)"
   ]
  },
  {
   "cell_type": "code",
   "execution_count": null,
   "metadata": {},
   "outputs": [
    {
     "name": "stdout",
     "output_type": "stream",
     "text": [
      "Warning: Could not retrieve objects for template 'site': Multiple rows were found when exactly one was required\n",
      "Warning: Could not retrieve objects for template 'hvac-zone': Multiple rows were found when exactly one was required\n",
      "Value(value=1.6666666666666667, unit='http://qudt.org/vocab/unit/DEG_C')\n"
     ]
    }
   ],
   "source": [
    "# optionally just load everything as si \n",
    "si_loader = LoadModel(f\"{ontology}-test_site/test_build/test_build.ttl\", ontology = 'brick', as_si_units=True)\n",
    "site_info = si_loader.get_all_building_objects()\n",
    "print(zone.tstats[0].resolution)"
   ]
  },
  {
   "cell_type": "code",
   "execution_count": null,
   "metadata": {},
   "outputs": [
    {
     "name": "stdout",
     "output_type": "stream",
     "text": [
      "Warning: Could not retrieve objects for template 'site': Multiple rows were found when exactly one was required\n",
      "Warning: Could not retrieve objects for template 'hvac-zone': Multiple rows were found when exactly one was required\n"
     ]
    },
    {
     "data": {
      "text/plain": [
       "{'heat_availability': [],\n",
       " 'cool_availability': [],\n",
       " 'heat_tolerance': [],\n",
       " 'cool_tolerance': [],\n",
       " 'setpoint_deadband': [],\n",
       " 'active': [],\n",
       " 'control_group': [],\n",
       " 'control_type_list': [],\n",
       " 'floor_area_list': [],\n",
       " 'floor_area_unit': [],\n",
       " 'window_area_list': [],\n",
       " 'window_area_unit': [],\n",
       " 'azimuth_list': [],\n",
       " 'azimuth_unit': [],\n",
       " 'tilt_list': [],\n",
       " 'tilt_unit': [],\n",
       " 'zone_ids': [],\n",
       " 'hvacs': [],\n",
       " 'setpoint_type': [],\n",
       " 'fuel_heat_list': [],\n",
       " 'fuel_cool_list': [],\n",
       " 'cooling_capacity': [],\n",
       " 'cooling_capacity_unit': [],\n",
       " 'heating_capacity': [],\n",
       " 'heating_capacity_unit': [],\n",
       " 'cooling_cop': [],\n",
       " 'heating_cop': [],\n",
       " 'cooling_electricity': [],\n",
       " 'heating_electricity': [],\n",
       " 'resolution': [],\n",
       " 'temperature_unit': []}"
      ]
     },
     "execution_count": 17,
     "metadata": {},
     "output_type": "execute_result"
    }
   ],
   "source": [
    "# Getting the thermostat metadata\n",
    "get_thermostat_data(si_loader)"
   ]
  },
  {
   "cell_type": "code",
   "execution_count": null,
   "metadata": {},
   "outputs": [
    {
     "name": "stdout",
     "output_type": "stream",
     "text": [
      "Warning: Could not retrieve objects for template 'site': Multiple rows were found when exactly one was required\n",
      "Warning: Could not retrieve objects for template 'hvac-zone': Multiple rows were found when exactly one was required\n"
     ]
    },
    {
     "data": {
      "text/plain": [
       "{'heat_availability': [],\n",
       " 'cool_availability': [],\n",
       " 'heat_tolerance': [],\n",
       " 'cool_tolerance': [],\n",
       " 'setpoint_deadband': [],\n",
       " 'active': [],\n",
       " 'control_group': [],\n",
       " 'control_type_list': [],\n",
       " 'floor_area_list': [],\n",
       " 'floor_area_unit': [],\n",
       " 'window_area_list': [],\n",
       " 'window_area_unit': [],\n",
       " 'azimuth_list': [],\n",
       " 'azimuth_unit': [],\n",
       " 'tilt_list': [],\n",
       " 'tilt_unit': [],\n",
       " 'zone_ids': [],\n",
       " 'hvacs': [],\n",
       " 'setpoint_type': [],\n",
       " 'fuel_heat_list': [],\n",
       " 'fuel_cool_list': [],\n",
       " 'cooling_capacity': [],\n",
       " 'cooling_capacity_unit': [],\n",
       " 'heating_capacity': [],\n",
       " 'heating_capacity_unit': [],\n",
       " 'cooling_cop': [],\n",
       " 'heating_cop': [],\n",
       " 'cooling_electricity': [],\n",
       " 'heating_electricity': [],\n",
       " 'resolution': [],\n",
       " 'temperature_unit': []}"
      ]
     },
     "execution_count": 18,
     "metadata": {},
     "output_type": "execute_result"
    }
   ],
   "source": [
    "# Getting the thermostat metadata for 1 zone \n",
    "get_thermostat_data(si_loader, ['zone_1','zone_2'])"
   ]
  },
  {
   "cell_type": "markdown",
   "metadata": {},
   "source": [
    "# Testing Unit Conversion"
   ]
  },
  {
   "cell_type": "code",
   "execution_count": null,
   "metadata": {},
   "outputs": [
    {
     "data": {
      "text/plain": [
       "3.048"
      ]
     },
     "execution_count": 19,
     "metadata": {},
     "output_type": "execute_result"
    }
   ],
   "source": [
    "convert_units(10, 'FT', 'M')"
   ]
  },
  {
   "cell_type": "code",
   "execution_count": null,
   "metadata": {},
   "outputs": [
    {
     "data": {
      "text/plain": [
       "31.999999999999886"
      ]
     },
     "execution_count": 20,
     "metadata": {},
     "output_type": "execute_result"
    }
   ],
   "source": [
    "convert_units(0, 'DEG_C', 'DEG_F')"
   ]
  },
  {
   "cell_type": "code",
   "execution_count": null,
   "metadata": {},
   "outputs": [
    {
     "data": {
      "text/plain": [
       "273.15"
      ]
     },
     "execution_count": 21,
     "metadata": {},
     "output_type": "execute_result"
    }
   ],
   "source": [
    "convert_units(0, 'DEG_C', 'K')"
   ]
  },
  {
   "cell_type": "code",
   "execution_count": null,
   "metadata": {},
   "outputs": [],
   "source": [
    "# Planning to implement converting everything to si in loader\n",
    "# loader.get_all_building_objects"
   ]
  },
  {
   "cell_type": "markdown",
   "metadata": {},
   "source": [
    "# Testing Grafana Dashboarding \n",
    "Needs updates"
   ]
  },
  {
   "cell_type": "code",
   "execution_count": null,
   "metadata": {},
   "outputs": [],
   "source": [
    "# import yaml \n",
    "# with open('../development_files/creds.yml') as f:\n",
    "#     config = yaml.safe_load(f)\n",
    "\n",
    "# bg = BrickToGrafana(grafana_server=config['grafana_server'], grafana_api_key = config['grafana_api_key'], datasource=config['datasource'], ttl_path = 'test-brick-model.ttl')"
   ]
  },
  {
   "cell_type": "code",
   "execution_count": null,
   "metadata": {},
   "outputs": [],
   "source": [
    "# bg.create_dashboard('AQL from brick')"
   ]
  },
  {
   "cell_type": "code",
   "execution_count": null,
   "metadata": {},
   "outputs": [],
   "source": [
    "# Grafana not set up, upload won't work\n",
    "# bg.upload_dashboard(message = 'testing upload')"
   ]
  },
  {
   "cell_type": "code",
   "execution_count": null,
   "metadata": {},
   "outputs": [],
   "source": []
  }
 ],
 "metadata": {
  "kernelspec": {
   "display_name": "semantic-mpc-interface (3.10.0)",
   "language": "python",
   "name": "python3"
  },
  "language_info": {
   "codemirror_mode": {
    "name": "ipython",
    "version": 3
   },
   "file_extension": ".py",
   "mimetype": "text/x-python",
   "name": "python",
   "nbconvert_exporter": "python",
   "pygments_lexer": "ipython3",
   "version": "3.10.0"
  }
 },
 "nbformat": 4,
 "nbformat_minor": 2
}
