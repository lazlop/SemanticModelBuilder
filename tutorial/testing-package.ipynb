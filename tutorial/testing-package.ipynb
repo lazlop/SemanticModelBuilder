{
 "cells": [
  {
   "cell_type": "code",
   "execution_count": 1,
   "metadata": {},
   "outputs": [],
   "source": [
    "import sys\n",
    "sys.path.insert(0, '..')\n",
    "from semantic_mpc_interface import (\n",
    "    ModelBuilder,\n",
    "    BuildingMetadataLoader,\n",
    "    add_points,\n",
    "    Survey,\n",
    "    SurveyReader,\n",
    "    convert_units,\n",
    "    BrickToGrafana,\n",
    "    SHACLHandler\n",
    ")\n",
    "from buildingmotif.namespaces import BRICK, RDF\n",
    "from buildingmotif import BuildingMOTIF\n",
    "from buildingmotif.dataclasses import Library\n",
    "import csv\n",
    "from pyshacl.rdfutil import clone"
   ]
  },
  {
   "cell_type": "markdown",
   "metadata": {},
   "source": [
    "# Testing the Model Builder"
   ]
  },
  {
   "cell_type": "code",
   "execution_count": 2,
   "metadata": {},
   "outputs": [
    {
     "name": "stderr",
     "output_type": "stream",
     "text": [
      "/Users/lazlopaul/Desktop/HPflex/Semantic_MPC_Interface/.venv/lib/python3.10/site-packages/pyshacl/extras/__init__.py:46: Warning: Extra \"js\" is not satisfied because requirement pyduktape2 is not installed.\n",
      "  warn(Warning(f\"Extra \\\"{extra_name}\\\" is not satisfied because requirement {req} is not installed.\"))\n"
     ]
    }
   ],
   "source": [
    "builder = ModelBuilder(\n",
    "    site_id=\"test-site\",\n",
    "    ontology = \"brick\"\n",
    ")\n",
    "builder.add_site(\n",
    "    timezone=\"America/New_York\",\n",
    "    latitude=40.7128,\n",
    "    longitude=-74.0060,\n",
    "    noaa_station=\"KJFK\",\n",
    ")"
   ]
  },
  {
   "cell_type": "code",
   "execution_count": 3,
   "metadata": {},
   "outputs": [
    {
     "name": "stdout",
     "output_type": "stream",
     "text": [
      "zone1\n",
      "zone2\n"
     ]
    }
   ],
   "source": [
    "builder.add_zone(\"zone1\")\n",
    "builder.add_window(\"window1\", \"zone1\", area_value=10.5, azimuth_value=180, tilt_value=30, unit = 'FT2')\n",
    "builder.add_thermostat(\"tstat1\", \"zone1\", stage_count=2, setpoint_deadband=1, tolerance=2, active=True, resolution = 1)\n",
    "builder.add_hvac(\"hvac1\", \"zone1\", cooling_capacity=5.0, heating_capacity=4.0, cooling_cop=3.5, heating_cop=3.0)\n",
    "builder.add_space(\"space1\", \"zone1\", area_value=50.0)\n",
    "\n",
    "builder.add_zone(\"zone2\")\n",
    "builder.add_window(\"window2\", \"zone2\", area_value=10.5, azimuth_value=180, tilt_value=30, unit = 'FT2')\n",
    "builder.add_thermostat(\"tstat2\", \"zone2\", stage_count=2, setpoint_deadband=1, tolerance=2, active=True, resolution =  1)\n",
    "builder.add_hvac(\"hvac2\", \"zone2\", cooling_capacity=5.0, heating_capacity=4.0, cooling_cop=3.5, heating_cop=3.0)\n",
    "builder.add_space(\"space2\", \"zone2\", area_value=50.0)"
   ]
  },
  {
   "cell_type": "code",
   "execution_count": 4,
   "metadata": {},
   "outputs": [],
   "source": [
    "with open('metadata-survey/s223-filled-out-easy-config/point_list.csv') as f:\n",
    "    point_list = csv.DictReader(f)\n",
    "    for row in point_list:\n",
    "        builder.add_point(row['point_name'], row['point_of'], row['point_template'], row['point_type'], row['ref_name'], row['ref_type'], row['unit'])"
   ]
  },
  {
   "cell_type": "code",
   "execution_count": 5,
   "metadata": {},
   "outputs": [],
   "source": [
    "builder.save_model(\"test-brick-model.ttl\")"
   ]
  },
  {
   "cell_type": "markdown",
   "metadata": {},
   "source": [
    "# Testing SHACL Generation and Validation"
   ]
  },
  {
   "cell_type": "code",
   "execution_count": 6,
   "metadata": {},
   "outputs": [],
   "source": [
    "og = clone.clone_graph(builder.model.graph)"
   ]
  },
  {
   "cell_type": "code",
   "execution_count": 7,
   "metadata": {},
   "outputs": [],
   "source": [
    "# Create handler\n",
    "handler = SHACLHandler()\n",
    "\n",
    "# Generate shapes\n",
    "handler.generate_shapes()\n",
    "\n",
    "# Save shapes\n",
    "handler.save_shapes('shapes.ttl')\n",
    "\n",
    "# Validate a model\n",
    "conforms, results_graph, results_text = handler.validate_model(builder.model.graph)\n",
    "\n",
    "builder.model.graph.serialize('test-brick-model-reasoned.ttl', format = 'ttl')\n",
    "if not conforms:\n",
    "    print(\"Validation failed:\")\n",
    "    print(results_text)"
   ]
  },
  {
   "cell_type": "code",
   "execution_count": 8,
   "metadata": {},
   "outputs": [
    {
     "name": "stdout",
     "output_type": "stream",
     "text": [
      "@prefix ns1: <urn:hpflex/shapes#> .\n",
      "\n",
      "<urn:hpflex/test-site#hvac1> ns1:air-connects-to <urn:hpflex/test-site#zone1> .\n",
      "\n",
      "<urn:hpflex/test-site#hvac2> ns1:air-connects-to <urn:hpflex/test-site#zone2> .\n",
      "\n",
      "<urn:hpflex/test-site#tstat1> ns1:has-location <urn:hpflex/test-site#zone1> ;\n",
      "    ns1:has-point <urn:hpflex/test-site#tstat1_active>,\n",
      "        <urn:hpflex/test-site#tstat1_setpoint_deadband>,\n",
      "        <urn:hpflex/test-site#tstat1_tolerance> .\n",
      "\n",
      "<urn:hpflex/test-site#tstat2> ns1:has-location <urn:hpflex/test-site#zone2> ;\n",
      "    ns1:has-point <urn:hpflex/test-site#tstat2_active>,\n",
      "        <urn:hpflex/test-site#tstat2_setpoint_deadband>,\n",
      "        <urn:hpflex/test-site#tstat2_tolerance> .\n",
      "\n",
      "<urn:hpflex/test-site#Active_Cooling_Stages> ns1:has-reference <urn:hpflex/test-site#Active_Cooling_Stages_ref> .\n",
      "\n",
      "<urn:hpflex/test-site#Active_Heating_Stages> ns1:has-reference <urn:hpflex/test-site#Active_Heating_Stages_ref> .\n",
      "\n",
      "<urn:hpflex/test-site#Effective_Cooling_Temperature_Setpoint> ns1:has-reference <urn:hpflex/test-site#Effective_Cooling_Temperature_Setpoint_ref> .\n",
      "\n",
      "<urn:hpflex/test-site#Effective_Heating_Temperature_Setpoint> ns1:has-reference <urn:hpflex/test-site#Effective_Heating_Temperature_Setpoint_ref> .\n",
      "\n",
      "<urn:hpflex/test-site#Effective_Zone_Air_Temperature_Setpoint> ns1:has-reference <urn:hpflex/test-site#Effective_Zone_Air_Temperature_Setpoint_ref> .\n",
      "\n",
      "<urn:hpflex/test-site#Occupied_Cooling_Temperature_Setpoint> ns1:has-reference <urn:hpflex/test-site#Occupied_Cooling_Temperature_Setpoint_ref> .\n",
      "\n",
      "<urn:hpflex/test-site#Occupied_Heating_Temperature_Setpoint> ns1:has-reference <urn:hpflex/test-site#Occupied_Heating_Temperature_Setpoint_ref> .\n",
      "\n",
      "<urn:hpflex/test-site#Unoccupied_Cooling_Temperature_Setpoint> ns1:has-reference <urn:hpflex/test-site#Unoccupied_Cooling_Temperature_Setpoint_ref> .\n",
      "\n",
      "<urn:hpflex/test-site#Unoccupied_Heating_Temperature_Setpoint> ns1:has-reference <urn:hpflex/test-site#Unoccupied_Heating_Temperature_Setpoint_ref> .\n",
      "\n",
      "<urn:hpflex/test-site#Zone_Air_Temperature_Sensor> ns1:has-reference <urn:hpflex/test-site#Zone_Air_Temperature_Sensor_ref> .\n",
      "\n",
      "<urn:hpflex/test-site#zone1> ns1:has-point <urn:hpflex/test-site#Active_Cooling_Stages>,\n",
      "        <urn:hpflex/test-site#Active_Heating_Stages>,\n",
      "        <urn:hpflex/test-site#Effective_Cooling_Temperature_Setpoint>,\n",
      "        <urn:hpflex/test-site#Effective_Heating_Temperature_Setpoint>,\n",
      "        <urn:hpflex/test-site#Effective_Zone_Air_Temperature_Setpoint>,\n",
      "        <urn:hpflex/test-site#Occupied_Cooling_Temperature_Setpoint>,\n",
      "        <urn:hpflex/test-site#Occupied_Heating_Temperature_Setpoint>,\n",
      "        <urn:hpflex/test-site#Unoccupied_Cooling_Temperature_Setpoint>,\n",
      "        <urn:hpflex/test-site#Unoccupied_Heating_Temperature_Setpoint>,\n",
      "        <urn:hpflex/test-site#Zone_Air_Temperature_Sensor> ;\n",
      "    ns1:has-space <urn:hpflex/test-site#space1>,\n",
      "        <urn:hpflex/test-site#window1> ;\n",
      "    ns1:has-window <urn:hpflex/test-site#space1>,\n",
      "        <urn:hpflex/test-site#window1> .\n",
      "\n",
      "<urn:hpflex/test-site#zone2> ns1:has-point <urn:hpflex/test-site#Active_Cooling_Stages>,\n",
      "        <urn:hpflex/test-site#Active_Heating_Stages>,\n",
      "        <urn:hpflex/test-site#Effective_Cooling_Temperature_Setpoint>,\n",
      "        <urn:hpflex/test-site#Effective_Heating_Temperature_Setpoint>,\n",
      "        <urn:hpflex/test-site#Effective_Zone_Air_Temperature_Setpoint>,\n",
      "        <urn:hpflex/test-site#Occupied_Cooling_Temperature_Setpoint>,\n",
      "        <urn:hpflex/test-site#Occupied_Heating_Temperature_Setpoint>,\n",
      "        <urn:hpflex/test-site#Unoccupied_Cooling_Temperature_Setpoint>,\n",
      "        <urn:hpflex/test-site#Unoccupied_Heating_Temperature_Setpoint>,\n",
      "        <urn:hpflex/test-site#Zone_Air_Temperature_Sensor> ;\n",
      "    ns1:has-space <urn:hpflex/test-site#space2>,\n",
      "        <urn:hpflex/test-site#window2> ;\n",
      "    ns1:has-window <urn:hpflex/test-site#space2>,\n",
      "        <urn:hpflex/test-site#window2> .\n",
      "\n",
      "\n"
     ]
    }
   ],
   "source": [
    "# lots of new inferred information\n",
    "(builder.graph-og).print()"
   ]
  },
  {
   "cell_type": "markdown",
   "metadata": {},
   "source": [
    "# Testing get Metadata"
   ]
  },
  {
   "cell_type": "code",
   "execution_count": 9,
   "metadata": {},
   "outputs": [],
   "source": [
    "site_metadata = BuildingMetadataLoader(\"test-brick-model.ttl\", ontology = 'brick')\n",
    "site_info = site_metadata.get_site_info()\n",
    "thermostat_data = site_metadata.get_thermostat_data()"
   ]
  },
  {
   "cell_type": "code",
   "execution_count": 10,
   "metadata": {},
   "outputs": [
    {
     "data": {
      "text/plain": [
       "{'heat_availability': [False, False],\n",
       " 'cool_availability': [True, True],\n",
       " 'heat_tolerance': [-2.0, -2.0],\n",
       " 'cool_tolerance': [2.0, 2.0],\n",
       " 'setpoint_deadband': [1, 1],\n",
       " 'active': [True, True],\n",
       " 'control_group': ['DEPRECATED', 'DEPRECATED'],\n",
       " 'control_type_list': ['stage', 'stage'],\n",
       " 'floor_area_list': [50.0, 50.0],\n",
       " 'window_area_list': [10.5, 10.5],\n",
       " 'azimuth_list': [180, 180],\n",
       " 'tilt_list': [30, 30],\n",
       " 'zone_ids': ['zone1', 'zone2'],\n",
       " 'hvacs': ['hvac1', 'hvac2'],\n",
       " 'setpoint_type': ['double', 'double'],\n",
       " 'fuel_heat_list': ['gas', 'gas'],\n",
       " 'fuel_cool_list': ['electricity', 'electricity'],\n",
       " 'cooling_capacity': [5.0, 5.0],\n",
       " 'heating_capacity': [4.0, 4.0],\n",
       " 'cooling_cop': [3.5, 3.5],\n",
       " 'heating_cop': [3.0, 3.0],\n",
       " 'cooling_electricity': [],\n",
       " 'heating_electricity': [],\n",
       " 'resolution': [1, 1],\n",
       " 'temperature_unit': [rdflib.term.URIRef('http://qudt.org/vocab/unit/DEG_F'),\n",
       "  rdflib.term.URIRef('http://qudt.org/vocab/unit/DEG_F')]}"
      ]
     },
     "execution_count": 10,
     "metadata": {},
     "output_type": "execute_result"
    }
   ],
   "source": [
    "thermostat_data"
   ]
  },
  {
   "cell_type": "code",
   "execution_count": 11,
   "metadata": {},
   "outputs": [
    {
     "data": {
      "text/plain": [
       "{'heat_availability': [False],\n",
       " 'cool_availability': [True],\n",
       " 'heat_tolerance': [-2.0],\n",
       " 'cool_tolerance': [2.0],\n",
       " 'setpoint_deadband': [1],\n",
       " 'active': [True],\n",
       " 'control_group': ['DEPRECATED'],\n",
       " 'control_type_list': ['stage'],\n",
       " 'floor_area_list': [50.0],\n",
       " 'window_area_list': [10.5],\n",
       " 'azimuth_list': [180],\n",
       " 'tilt_list': [30],\n",
       " 'zone_ids': ['zone1'],\n",
       " 'hvacs': ['hvac1'],\n",
       " 'setpoint_type': ['double'],\n",
       " 'fuel_heat_list': ['gas'],\n",
       " 'fuel_cool_list': ['electricity'],\n",
       " 'cooling_capacity': [5.0],\n",
       " 'heating_capacity': [4.0],\n",
       " 'cooling_cop': [3.5],\n",
       " 'heating_cop': [3.0],\n",
       " 'cooling_electricity': [],\n",
       " 'heating_electricity': [],\n",
       " 'resolution': [1],\n",
       " 'temperature_unit': [rdflib.term.URIRef('http://qudt.org/vocab/unit/DEG_F')]}"
      ]
     },
     "execution_count": 11,
     "metadata": {},
     "output_type": "execute_result"
    }
   ],
   "source": [
    "site_metadata.get_thermostat_data(for_zone='zone1')"
   ]
  },
  {
   "cell_type": "code",
   "execution_count": 12,
   "metadata": {},
   "outputs": [
    {
     "data": {
      "text/plain": [
       "{'tz': 'urn:hpflex/test-site#test-site.timezone',\n",
       " 'latitude': 'urn:hpflex/test-site#test-site.latitude',\n",
       " 'longitude': 'urn:hpflex/test-site#test-site.longitude',\n",
       " 'NOAAstation': 'urn:hpflex/test-site#test-site.noaastation',\n",
       " 'project_id': rdflib.term.URIRef('urn:hpflex/test-site#test-site'),\n",
       " 'site_id': rdflib.term.URIRef('urn:hpflex/test-site#test-site'),\n",
       " 'heat_availability': [False, False],\n",
       " 'cool_availability': [True, True],\n",
       " 'heat_tolerance': [-2.0, -2.0],\n",
       " 'cool_tolerance': [2.0, 2.0],\n",
       " 'setpoint_deadband': [1, 1],\n",
       " 'active': [True, True],\n",
       " 'control_group': ['DEPRECATED', 'DEPRECATED'],\n",
       " 'control_type_list': ['stage', 'stage'],\n",
       " 'floor_area_list': [50.0, 50.0],\n",
       " 'window_area_list': [10.5, 10.5],\n",
       " 'azimuth_list': [180, 180],\n",
       " 'tilt_list': [30, 30],\n",
       " 'zone_ids': ['zone1', 'zone2'],\n",
       " 'hvacs': ['hvac1', 'hvac2'],\n",
       " 'setpoint_type': ['double', 'double'],\n",
       " 'fuel_heat_list': ['gas', 'gas'],\n",
       " 'fuel_cool_list': ['electricity', 'electricity'],\n",
       " 'cooling_capacity': [5.0, 5.0],\n",
       " 'heating_capacity': [4.0, 4.0],\n",
       " 'cooling_cop': [3.5, 3.5],\n",
       " 'heating_cop': [3.0, 3.0],\n",
       " 'cooling_electricity': [],\n",
       " 'heating_electricity': [],\n",
       " 'resolution': [1, 1],\n",
       " 'temperature_unit': [rdflib.term.URIRef('http://qudt.org/vocab/unit/DEG_F'),\n",
       "  rdflib.term.URIRef('http://qudt.org/vocab/unit/DEG_F')]}"
      ]
     },
     "execution_count": 12,
     "metadata": {},
     "output_type": "execute_result"
    }
   ],
   "source": [
    "site_metadata.get_complete_output()"
   ]
  },
  {
   "cell_type": "markdown",
   "metadata": {},
   "source": [
    "# Generating Metadata Survey"
   ]
  },
  {
   "cell_type": "code",
   "execution_count": 13,
   "metadata": {},
   "outputs": [
    {
     "ename": "FileExistsError",
     "evalue": "Directory 'metadata-survey/easy-config-test/easy-config-test' already exists and is not empty. Please use a different path or clear the directory.",
     "output_type": "error",
     "traceback": [
      "\u001b[0;31m---------------------------------------------------------------------------\u001b[0m",
      "\u001b[0;31mFileExistsError\u001b[0m                           Traceback (most recent call last)",
      "Cell \u001b[0;32mIn[13], line 4\u001b[0m\n\u001b[1;32m      1\u001b[0m survey_gen \u001b[38;5;241m=\u001b[39m Survey(site_id \u001b[38;5;241m=\u001b[39m \u001b[38;5;124m'\u001b[39m\u001b[38;5;124measy-config-test\u001b[39m\u001b[38;5;124m'\u001b[39m,building_id \u001b[38;5;241m=\u001b[39m \u001b[38;5;124m'\u001b[39m\u001b[38;5;124measy-config-test\u001b[39m\u001b[38;5;124m'\u001b[39m,\n\u001b[1;32m      2\u001b[0m                              hvac_type \u001b[38;5;241m=\u001b[39m \u001b[38;5;124m'\u001b[39m\u001b[38;5;124mhp-rtu\u001b[39m\u001b[38;5;124m'\u001b[39m)\n\u001b[1;32m      3\u001b[0m \u001b[38;5;66;03m# zone_space_window list for configuration: 3 zones, with 2 spaces and 2 windows, 1 space and 2 windows, 1 space 3 windows, one hvac unit per zone\u001b[39;00m\n\u001b[0;32m----> 4\u001b[0m \u001b[43msurvey_gen\u001b[49m\u001b[38;5;241;43m.\u001b[39;49m\u001b[43measy_config\u001b[49m\u001b[43m(\u001b[49m\u001b[43mzone_space_window_list\u001b[49m\u001b[38;5;241;43m=\u001b[39;49m\u001b[43m[\u001b[49m\u001b[43m(\u001b[49m\u001b[38;5;241;43m2\u001b[39;49m\u001b[43m,\u001b[49m\u001b[38;5;241;43m2\u001b[39;49m\u001b[43m)\u001b[49m\u001b[43m,\u001b[49m\u001b[43m(\u001b[49m\u001b[38;5;241;43m1\u001b[39;49m\u001b[43m,\u001b[49m\u001b[38;5;241;43m2\u001b[39;49m\u001b[43m)\u001b[49m\u001b[43m,\u001b[49m\u001b[43m(\u001b[49m\u001b[38;5;241;43m1\u001b[39;49m\u001b[43m,\u001b[49m\u001b[38;5;241;43m3\u001b[39;49m\u001b[43m)\u001b[49m\u001b[43m]\u001b[49m\u001b[43m,\u001b[49m\u001b[43m \u001b[49m\u001b[43moutput_path\u001b[49m\u001b[38;5;241;43m=\u001b[39;49m\u001b[38;5;124;43m'\u001b[39;49m\u001b[38;5;124;43m./metadata-survey\u001b[39;49m\u001b[38;5;124;43m'\u001b[39;49m\u001b[43m)\u001b[49m\n\u001b[1;32m      5\u001b[0m \u001b[38;5;66;03m# survey_gen.easy_config(zone_space_window_list=[(1,1)], output_path='./metadata-survey')\u001b[39;00m\n",
      "File \u001b[0;32m~/Desktop/HPflex/Semantic_MPC_Interface/.venv/lib/python3.10/site-packages/semantic_mpc_interface/create_metadata_survey.py:75\u001b[0m, in \u001b[0;36mSurvey.easy_config\u001b[0;34m(self, zone_space_window_list, output_path)\u001b[0m\n\u001b[1;32m     72\u001b[0m         \u001b[38;5;28mself\u001b[39m\u001b[38;5;241m.\u001b[39mzones_contain_windows[zone_name]\u001b[38;5;241m.\u001b[39mappend(window_name)\n\u001b[1;32m     74\u001b[0m \u001b[38;5;66;03m# TODO: fill in the topology of the building and output file\u001b[39;00m\n\u001b[0;32m---> 75\u001b[0m \u001b[38;5;28;43mself\u001b[39;49m\u001b[38;5;241;43m.\u001b[39;49m\u001b[43mgenerate_template\u001b[49m\u001b[43m(\u001b[49m\n\u001b[1;32m     76\u001b[0m \u001b[43m    \u001b[49m\u001b[38;5;28;43mself\u001b[39;49m\u001b[38;5;241;43m.\u001b[39;49m\u001b[43mhvacs_feed_hvacs\u001b[49m\u001b[43m,\u001b[49m\n\u001b[1;32m     77\u001b[0m \u001b[43m    \u001b[49m\u001b[38;5;28;43mself\u001b[39;49m\u001b[38;5;241;43m.\u001b[39;49m\u001b[43mhvacs_feed_zones\u001b[49m\u001b[43m,\u001b[49m\n\u001b[1;32m     78\u001b[0m \u001b[43m    \u001b[49m\u001b[38;5;28;43mself\u001b[39;49m\u001b[38;5;241;43m.\u001b[39;49m\u001b[43mzones_contain_spaces\u001b[49m\u001b[43m,\u001b[49m\n\u001b[1;32m     79\u001b[0m \u001b[43m    \u001b[49m\u001b[38;5;28;43mself\u001b[39;49m\u001b[38;5;241;43m.\u001b[39;49m\u001b[43mzones_contain_windows\u001b[49m\u001b[43m,\u001b[49m\n\u001b[1;32m     80\u001b[0m \u001b[43m    \u001b[49m\u001b[43moutput_path\u001b[49m\u001b[43m,\u001b[49m\n\u001b[1;32m     81\u001b[0m \u001b[43m\u001b[49m\u001b[43m)\u001b[49m\n",
      "File \u001b[0;32m~/Desktop/HPflex/Semantic_MPC_Interface/.venv/lib/python3.10/site-packages/semantic_mpc_interface/create_metadata_survey.py:255\u001b[0m, in \u001b[0;36mSurvey.generate_template\u001b[0;34m(self, hvacs_feed_hvacs, hvacs_feed_zones, zones_contain_spaces, zones_contain_windows, output_path)\u001b[0m\n\u001b[1;32m    252\u001b[0m validate_dict(zones_contain_spaces)\n\u001b[1;32m    253\u001b[0m validate_dict(zones_contain_windows)\n\u001b[0;32m--> 255\u001b[0m \u001b[38;5;28;43mself\u001b[39;49m\u001b[38;5;241;43m.\u001b[39;49m\u001b[43m_create_directory_structure\u001b[49m\u001b[43m(\u001b[49m\u001b[43moutput_path\u001b[49m\u001b[43m)\u001b[49m\n\u001b[1;32m    256\u001b[0m \u001b[38;5;28mself\u001b[39m\u001b[38;5;241m.\u001b[39m_create_site_info_file()\n\u001b[1;32m    257\u001b[0m \u001b[38;5;28mself\u001b[39m\u001b[38;5;241m.\u001b[39m_create_space_files(zones_contain_spaces)\n",
      "File \u001b[0;32m~/Desktop/HPflex/Semantic_MPC_Interface/.venv/lib/python3.10/site-packages/semantic_mpc_interface/create_metadata_survey.py:89\u001b[0m, in \u001b[0;36mSurvey._create_directory_structure\u001b[0;34m(self, base_path)\u001b[0m\n\u001b[1;32m     87\u001b[0m \u001b[38;5;66;03m# Check if main directory exists and is not empty\u001b[39;00m\n\u001b[1;32m     88\u001b[0m \u001b[38;5;28;01mif\u001b[39;00m \u001b[38;5;28mself\u001b[39m\u001b[38;5;241m.\u001b[39mbase_dir\u001b[38;5;241m.\u001b[39mexists() \u001b[38;5;129;01mand\u001b[39;00m \u001b[38;5;28many\u001b[39m(\u001b[38;5;28mself\u001b[39m\u001b[38;5;241m.\u001b[39mbase_dir\u001b[38;5;241m.\u001b[39miterdir()):\n\u001b[0;32m---> 89\u001b[0m     \u001b[38;5;28;01mraise\u001b[39;00m \u001b[38;5;167;01mFileExistsError\u001b[39;00m(\n\u001b[1;32m     90\u001b[0m         \u001b[38;5;124mf\u001b[39m\u001b[38;5;124m\"\u001b[39m\u001b[38;5;124mDirectory \u001b[39m\u001b[38;5;124m'\u001b[39m\u001b[38;5;132;01m{\u001b[39;00m\u001b[38;5;28mself\u001b[39m\u001b[38;5;241m.\u001b[39mbase_dir\u001b[38;5;132;01m}\u001b[39;00m\u001b[38;5;124m'\u001b[39m\u001b[38;5;124m already exists and is not empty. Please use a different path or clear the directory.\u001b[39m\u001b[38;5;124m\"\u001b[39m\n\u001b[1;32m     91\u001b[0m     )\n\u001b[1;32m     93\u001b[0m \u001b[38;5;66;03m# Create main directory and parent directories if they don't exist\u001b[39;00m\n\u001b[1;32m     94\u001b[0m \u001b[38;5;28mself\u001b[39m\u001b[38;5;241m.\u001b[39mbase_dir\u001b[38;5;241m.\u001b[39mmkdir(parents\u001b[38;5;241m=\u001b[39m\u001b[38;5;28;01mTrue\u001b[39;00m, exist_ok\u001b[38;5;241m=\u001b[39m\u001b[38;5;28;01mTrue\u001b[39;00m)\n",
      "\u001b[0;31mFileExistsError\u001b[0m: Directory 'metadata-survey/easy-config-test/easy-config-test' already exists and is not empty. Please use a different path or clear the directory."
     ]
    }
   ],
   "source": [
    "survey_gen = Survey(site_id = 'easy-config-test',building_id = 'easy-config-test',\n",
    "                             hvac_type = 'hp-rtu')\n",
    "# zone_space_window list for configuration: 3 zones, with 2 spaces and 2 windows, 1 space and 2 windows, 1 space 3 windows, one hvac unit per zone\n",
    "survey_gen.easy_config(zone_space_window_list=[(2,2),(1,2),(1,3)], output_path='./metadata-survey')\n",
    "# survey_gen.easy_config(zone_space_window_list=[(1,1)], output_path='./metadata-survey')\n"
   ]
  },
  {
   "cell_type": "code",
   "execution_count": null,
   "metadata": {},
   "outputs": [
    {
     "ename": "FileExistsError",
     "evalue": "Directory 'metadata-survey/easy-config-test/easy-config-test' already exists and is not empty. Please use a different path or clear the directory.",
     "output_type": "error",
     "traceback": [
      "\u001b[0;31m---------------------------------------------------------------------------\u001b[0m",
      "\u001b[0;31mFileExistsError\u001b[0m                           Traceback (most recent call last)",
      "Cell \u001b[0;32mIn[17], line 5\u001b[0m\n\u001b[1;32m      1\u001b[0m \u001b[38;5;66;03m# Custom config \u001b[39;00m\n\u001b[1;32m      2\u001b[0m \u001b[38;5;66;03m# TODO: add underscores to begining of all methods but generate template and easy config\u001b[39;00m\n\u001b[1;32m      3\u001b[0m survey_gen \u001b[38;5;241m=\u001b[39m Survey(site_id \u001b[38;5;241m=\u001b[39m \u001b[38;5;124m'\u001b[39m\u001b[38;5;124measy-config-test\u001b[39m\u001b[38;5;124m'\u001b[39m, building_id \u001b[38;5;241m=\u001b[39m \u001b[38;5;124m'\u001b[39m\u001b[38;5;124measy-config-test\u001b[39m\u001b[38;5;124m'\u001b[39m,\n\u001b[1;32m      4\u001b[0m                              hvac_type \u001b[38;5;241m=\u001b[39m \u001b[38;5;124m'\u001b[39m\u001b[38;5;124mvrf\u001b[39m\u001b[38;5;124m'\u001b[39m)\n\u001b[0;32m----> 5\u001b[0m \u001b[43msurvey_gen\u001b[49m\u001b[38;5;241;43m.\u001b[39;49m\u001b[43mgenerate_template\u001b[49m\u001b[43m(\u001b[49m\n\u001b[1;32m      6\u001b[0m \u001b[43m    \u001b[49m\u001b[43mhvacs_feed_hvacs\u001b[49m\u001b[43m \u001b[49m\u001b[38;5;241;43m=\u001b[39;49m\u001b[43m \u001b[49m\u001b[43m{\u001b[49m\u001b[38;5;124;43m'\u001b[39;49m\u001b[38;5;124;43mHP1\u001b[39;49m\u001b[38;5;124;43m'\u001b[39;49m\u001b[43m:\u001b[49m\u001b[43m \u001b[49m\u001b[43m[\u001b[49m\u001b[38;5;124;43m'\u001b[39;49m\u001b[38;5;124;43mFCU1\u001b[39;49m\u001b[38;5;124;43m'\u001b[39;49m\u001b[43m,\u001b[49m\u001b[38;5;124;43m'\u001b[39;49m\u001b[38;5;124;43mFCU2\u001b[39;49m\u001b[38;5;124;43m'\u001b[39;49m\u001b[43m,\u001b[49m\u001b[38;5;124;43m'\u001b[39;49m\u001b[38;5;124;43mFCU3\u001b[39;49m\u001b[38;5;124;43m'\u001b[39;49m\u001b[43m]\u001b[49m\u001b[43m,\u001b[49m\n\u001b[1;32m      7\u001b[0m \u001b[43m                        \u001b[49m\u001b[38;5;124;43m'\u001b[39;49m\u001b[38;5;124;43mHP2\u001b[39;49m\u001b[38;5;124;43m'\u001b[39;49m\u001b[43m:\u001b[49m\u001b[43m \u001b[49m\u001b[43m[\u001b[49m\u001b[38;5;124;43m'\u001b[39;49m\u001b[38;5;124;43mFCU1\u001b[39;49m\u001b[38;5;124;43m'\u001b[39;49m\u001b[43m,\u001b[49m\u001b[43m \u001b[49m\u001b[38;5;124;43m'\u001b[39;49m\u001b[38;5;124;43mFCU2\u001b[39;49m\u001b[38;5;124;43m'\u001b[39;49m\u001b[43m,\u001b[49m\u001b[43m \u001b[49m\u001b[38;5;124;43m'\u001b[39;49m\u001b[38;5;124;43mFCU3\u001b[39;49m\u001b[38;5;124;43m'\u001b[39;49m\u001b[43m]\u001b[49m\u001b[43m}\u001b[49m\u001b[43m,\u001b[49m\n\u001b[1;32m      8\u001b[0m \u001b[43m    \u001b[49m\u001b[43mhvacs_feed_zones\u001b[49m\u001b[38;5;241;43m=\u001b[39;49m\u001b[43m \u001b[49m\u001b[43m{\u001b[49m\u001b[38;5;124;43m'\u001b[39;49m\u001b[38;5;124;43mFCU1\u001b[39;49m\u001b[38;5;124;43m'\u001b[39;49m\u001b[43m:\u001b[49m\u001b[43m \u001b[49m\u001b[43m[\u001b[49m\u001b[38;5;124;43m'\u001b[39;49m\u001b[38;5;124;43mZone1\u001b[39;49m\u001b[38;5;124;43m'\u001b[39;49m\u001b[43m]\u001b[49m\u001b[43m,\u001b[49m\n\u001b[1;32m      9\u001b[0m \u001b[43m                       \u001b[49m\u001b[38;5;124;43m'\u001b[39;49m\u001b[38;5;124;43mFCU2\u001b[39;49m\u001b[38;5;124;43m'\u001b[39;49m\u001b[43m:\u001b[49m\u001b[43m \u001b[49m\u001b[43m[\u001b[49m\u001b[38;5;124;43m'\u001b[39;49m\u001b[38;5;124;43mZone2\u001b[39;49m\u001b[38;5;124;43m'\u001b[39;49m\u001b[43m]\u001b[49m\u001b[43m,\u001b[49m\n\u001b[1;32m     10\u001b[0m \u001b[43m                       \u001b[49m\u001b[38;5;124;43m'\u001b[39;49m\u001b[38;5;124;43mFCU3\u001b[39;49m\u001b[38;5;124;43m'\u001b[39;49m\u001b[43m:\u001b[49m\u001b[43m \u001b[49m\u001b[43m[\u001b[49m\u001b[38;5;124;43m'\u001b[39;49m\u001b[38;5;124;43mZone3\u001b[39;49m\u001b[38;5;124;43m'\u001b[39;49m\u001b[43m]\u001b[49m\u001b[43m}\u001b[49m\u001b[43m,\u001b[49m\n\u001b[1;32m     11\u001b[0m \u001b[43m    \u001b[49m\u001b[43mzones_contain_spaces\u001b[49m\u001b[38;5;241;43m=\u001b[39;49m\u001b[43m \u001b[49m\u001b[43m{\u001b[49m\u001b[38;5;124;43m'\u001b[39;49m\u001b[38;5;124;43mZone1\u001b[39;49m\u001b[38;5;124;43m'\u001b[39;49m\u001b[43m:\u001b[49m\u001b[43m \u001b[49m\u001b[43m[\u001b[49m\u001b[38;5;124;43m'\u001b[39;49m\u001b[38;5;124;43mZ1S1\u001b[39;49m\u001b[38;5;124;43m'\u001b[39;49m\u001b[43m,\u001b[49m\u001b[43m \u001b[49m\u001b[38;5;124;43m'\u001b[39;49m\u001b[38;5;124;43mZ1S2\u001b[39;49m\u001b[38;5;124;43m'\u001b[39;49m\u001b[43m]\u001b[49m\u001b[43m,\u001b[49m\n\u001b[1;32m     12\u001b[0m \u001b[43m                           \u001b[49m\u001b[38;5;124;43m'\u001b[39;49m\u001b[38;5;124;43mZone2\u001b[39;49m\u001b[38;5;124;43m'\u001b[39;49m\u001b[43m:\u001b[49m\u001b[43m \u001b[49m\u001b[43m[\u001b[49m\u001b[38;5;124;43m'\u001b[39;49m\u001b[38;5;124;43mZ1S2\u001b[39;49m\u001b[38;5;124;43m'\u001b[39;49m\u001b[43m,\u001b[49m\u001b[38;5;124;43m'\u001b[39;49m\u001b[38;5;124;43mZ2S3\u001b[39;49m\u001b[38;5;124;43m'\u001b[39;49m\u001b[43m]\u001b[49m\u001b[43m,\u001b[49m\n\u001b[1;32m     13\u001b[0m \u001b[43m                           \u001b[49m\u001b[38;5;124;43m'\u001b[39;49m\u001b[38;5;124;43mZone3\u001b[39;49m\u001b[38;5;124;43m'\u001b[39;49m\u001b[43m:\u001b[49m\u001b[43m \u001b[49m\u001b[43m[\u001b[49m\u001b[38;5;124;43m'\u001b[39;49m\u001b[38;5;124;43mZ3S1\u001b[39;49m\u001b[38;5;124;43m'\u001b[39;49m\u001b[43m]\u001b[49m\u001b[43m}\u001b[49m\u001b[43m,\u001b[49m\n\u001b[1;32m     14\u001b[0m \u001b[43m    \u001b[49m\u001b[43mzones_contain_windows\u001b[49m\u001b[38;5;241;43m=\u001b[39;49m\u001b[43m \u001b[49m\u001b[43m{\u001b[49m\u001b[38;5;124;43m'\u001b[39;49m\u001b[38;5;124;43mZone1\u001b[39;49m\u001b[38;5;124;43m'\u001b[39;49m\u001b[43m:\u001b[49m\u001b[43m \u001b[49m\u001b[43m[\u001b[49m\u001b[38;5;124;43m'\u001b[39;49m\u001b[38;5;124;43mW1\u001b[39;49m\u001b[38;5;124;43m'\u001b[39;49m\u001b[43m]\u001b[49m\u001b[43m,\u001b[49m\n\u001b[1;32m     15\u001b[0m \u001b[43m                           \u001b[49m\u001b[38;5;124;43m'\u001b[39;49m\u001b[38;5;124;43mZone2\u001b[39;49m\u001b[38;5;124;43m'\u001b[39;49m\u001b[43m:\u001b[49m\u001b[43m \u001b[49m\u001b[43m[\u001b[49m\u001b[38;5;124;43m'\u001b[39;49m\u001b[38;5;124;43mW2\u001b[39;49m\u001b[38;5;124;43m'\u001b[39;49m\u001b[43m]\u001b[49m\u001b[43m,\u001b[49m\n\u001b[1;32m     16\u001b[0m \u001b[43m                           \u001b[49m\u001b[38;5;124;43m'\u001b[39;49m\u001b[38;5;124;43mZone3\u001b[39;49m\u001b[38;5;124;43m'\u001b[39;49m\u001b[43m:\u001b[49m\u001b[43m \u001b[49m\u001b[43m[\u001b[49m\u001b[38;5;124;43m'\u001b[39;49m\u001b[38;5;124;43mW3\u001b[39;49m\u001b[38;5;124;43m'\u001b[39;49m\u001b[43m,\u001b[49m\u001b[38;5;124;43m'\u001b[39;49m\u001b[38;5;124;43mW4\u001b[39;49m\u001b[38;5;124;43m'\u001b[39;49m\u001b[43m,\u001b[49m\u001b[38;5;124;43m'\u001b[39;49m\u001b[38;5;124;43mW5\u001b[39;49m\u001b[38;5;124;43m'\u001b[39;49m\u001b[43m,\u001b[49m\u001b[38;5;124;43m'\u001b[39;49m\u001b[38;5;124;43mW6\u001b[39;49m\u001b[38;5;124;43m'\u001b[39;49m\u001b[43m]\u001b[49m\u001b[43m}\u001b[49m\u001b[43m,\u001b[49m\n\u001b[1;32m     17\u001b[0m \u001b[43m                           \u001b[49m\u001b[43moutput_path\u001b[49m\u001b[38;5;241;43m=\u001b[39;49m\u001b[38;5;124;43m'\u001b[39;49m\u001b[38;5;124;43m./metadata-survey\u001b[39;49m\u001b[38;5;124;43m'\u001b[39;49m\n\u001b[1;32m     18\u001b[0m \u001b[43m)\u001b[49m\n",
      "File \u001b[0;32m~/Desktop/HPflex/Semantic_MPC_Interface/src/semantic_mpc_interface/create_metadata_survey.py:226\u001b[0m, in \u001b[0;36mSurvey.generate_template\u001b[0;34m(self, hvacs_feed_hvacs, hvacs_feed_zones, zones_contain_spaces, zones_contain_windows, output_path)\u001b[0m\n\u001b[1;32m    222\u001b[0m validate_dict(zones_contain_spaces)\n\u001b[1;32m    223\u001b[0m validate_dict(zones_contain_windows)\n\u001b[0;32m--> 226\u001b[0m \u001b[38;5;28;43mself\u001b[39;49m\u001b[38;5;241;43m.\u001b[39;49m\u001b[43m_create_directory_structure\u001b[49m\u001b[43m(\u001b[49m\u001b[43moutput_path\u001b[49m\u001b[43m)\u001b[49m\n\u001b[1;32m    227\u001b[0m \u001b[38;5;28mself\u001b[39m\u001b[38;5;241m.\u001b[39m_create_site_info_file()\n\u001b[1;32m    228\u001b[0m \u001b[38;5;28mself\u001b[39m\u001b[38;5;241m.\u001b[39m_create_space_files(zones_contain_spaces)\n",
      "File \u001b[0;32m~/Desktop/HPflex/Semantic_MPC_Interface/src/semantic_mpc_interface/create_metadata_survey.py:80\u001b[0m, in \u001b[0;36mSurvey._create_directory_structure\u001b[0;34m(self, base_path)\u001b[0m\n\u001b[1;32m     78\u001b[0m \u001b[38;5;66;03m# Check if main directory exists and is not empty\u001b[39;00m\n\u001b[1;32m     79\u001b[0m \u001b[38;5;28;01mif\u001b[39;00m \u001b[38;5;28mself\u001b[39m\u001b[38;5;241m.\u001b[39mbase_dir\u001b[38;5;241m.\u001b[39mexists() \u001b[38;5;129;01mand\u001b[39;00m \u001b[38;5;28many\u001b[39m(\u001b[38;5;28mself\u001b[39m\u001b[38;5;241m.\u001b[39mbase_dir\u001b[38;5;241m.\u001b[39miterdir()):\n\u001b[0;32m---> 80\u001b[0m     \u001b[38;5;28;01mraise\u001b[39;00m \u001b[38;5;167;01mFileExistsError\u001b[39;00m(\u001b[38;5;124mf\u001b[39m\u001b[38;5;124m\"\u001b[39m\u001b[38;5;124mDirectory \u001b[39m\u001b[38;5;124m'\u001b[39m\u001b[38;5;132;01m{\u001b[39;00m\u001b[38;5;28mself\u001b[39m\u001b[38;5;241m.\u001b[39mbase_dir\u001b[38;5;132;01m}\u001b[39;00m\u001b[38;5;124m'\u001b[39m\u001b[38;5;124m already exists and is not empty. Please use a different path or clear the directory.\u001b[39m\u001b[38;5;124m\"\u001b[39m)\n\u001b[1;32m     82\u001b[0m \u001b[38;5;66;03m# Create main directory and parent directories if they don't exist\u001b[39;00m\n\u001b[1;32m     83\u001b[0m \u001b[38;5;28mself\u001b[39m\u001b[38;5;241m.\u001b[39mbase_dir\u001b[38;5;241m.\u001b[39mmkdir(parents\u001b[38;5;241m=\u001b[39m\u001b[38;5;28;01mTrue\u001b[39;00m, exist_ok\u001b[38;5;241m=\u001b[39m\u001b[38;5;28;01mTrue\u001b[39;00m)\n",
      "\u001b[0;31mFileExistsError\u001b[0m: Directory 'metadata-survey/easy-config-test/easy-config-test' already exists and is not empty. Please use a different path or clear the directory."
     ]
    }
   ],
   "source": [
    "# Custom config \n",
    "# TODO: add underscores to begining of all methods but generate template and easy config\n",
    "survey_gen = Survey(site_id = 'easy-config-test', building_id = 'easy-config-test',\n",
    "                             hvac_type = 'vrf')\n",
    "survey_gen.generate_template(\n",
    "    hvacs_feed_hvacs = {'HP1': ['FCU1','FCU2','FCU3'],\n",
    "                        'HP2': ['FCU1', 'FCU2', 'FCU3']},\n",
    "    hvacs_feed_zones= {'FCU1': ['Zone1'],\n",
    "                       'FCU2': ['Zone2'],\n",
    "                       'FCU3': ['Zone3']},\n",
    "    zones_contain_spaces= {'Zone1': ['Z1S1', 'Z1S2'],\n",
    "                           'Zone2': ['Z1S2','Z2S3'],\n",
    "                           'Zone3': ['Z3S1']},\n",
    "    zones_contain_windows= {'Zone1': ['W1'],\n",
    "                           'Zone2': ['W2'],\n",
    "                           'Zone3': ['W3','W4','W5','W6']},\n",
    "                           output_path='./metadata-survey'\n",
    ")"
   ]
  },
  {
   "cell_type": "code",
   "execution_count": null,
   "metadata": {},
   "outputs": [],
   "source": []
  },
  {
   "cell_type": "markdown",
   "metadata": {},
   "source": [
    "# Reading Metadata Survey"
   ]
  },
  {
   "cell_type": "code",
   "execution_count": null,
   "metadata": {},
   "outputs": [
    {
     "name": "stderr",
     "output_type": "stream",
     "text": [
      "/Users/lazlopaul/Desktop/HPflex/Semantic_MPC_Interface/.venv/lib/python3.10/site-packages/buildingmotif/database/table_connection.py:423: SAWarning: Identity map already had an identity for (<class 'buildingmotif.database.tables.DepsAssociation'>, (1,), None), replacing it with newly flushed object.   Are there load operations occurring inside of an event handler within the flush?\n",
      "  self.bm.session.flush()\n",
      "/Users/lazlopaul/Desktop/HPflex/Semantic_MPC_Interface/.venv/lib/python3.10/site-packages/buildingmotif/database/table_connection.py:423: SAWarning: Identity map already had an identity for (<class 'buildingmotif.database.tables.DepsAssociation'>, (2,), None), replacing it with newly flushed object.   Are there load operations occurring inside of an event handler within the flush?\n",
      "  self.bm.session.flush()\n",
      "/Users/lazlopaul/Desktop/HPflex/Semantic_MPC_Interface/.venv/lib/python3.10/site-packages/buildingmotif/database/table_connection.py:423: SAWarning: Identity map already had an identity for (<class 'buildingmotif.database.tables.DepsAssociation'>, (3,), None), replacing it with newly flushed object.   Are there load operations occurring inside of an event handler within the flush?\n",
      "  self.bm.session.flush()\n",
      "/Users/lazlopaul/Desktop/HPflex/Semantic_MPC_Interface/.venv/lib/python3.10/site-packages/buildingmotif/database/table_connection.py:423: SAWarning: Identity map already had an identity for (<class 'buildingmotif.database.tables.DepsAssociation'>, (4,), None), replacing it with newly flushed object.   Are there load operations occurring inside of an event handler within the flush?\n",
      "  self.bm.session.flush()\n",
      "/Users/lazlopaul/Desktop/HPflex/Semantic_MPC_Interface/.venv/lib/python3.10/site-packages/buildingmotif/database/table_connection.py:423: SAWarning: Identity map already had an identity for (<class 'buildingmotif.database.tables.DepsAssociation'>, (5,), None), replacing it with newly flushed object.   Are there load operations occurring inside of an event handler within the flush?\n",
      "  self.bm.session.flush()\n",
      "/Users/lazlopaul/Desktop/HPflex/Semantic_MPC_Interface/.venv/lib/python3.10/site-packages/buildingmotif/database/table_connection.py:423: SAWarning: Identity map already had an identity for (<class 'buildingmotif.database.tables.DepsAssociation'>, (6,), None), replacing it with newly flushed object.   Are there load operations occurring inside of an event handler within the flush?\n",
      "  self.bm.session.flush()\n",
      "/Users/lazlopaul/Desktop/HPflex/Semantic_MPC_Interface/.venv/lib/python3.10/site-packages/buildingmotif/database/table_connection.py:423: SAWarning: Identity map already had an identity for (<class 'buildingmotif.database.tables.DepsAssociation'>, (7,), None), replacing it with newly flushed object.   Are there load operations occurring inside of an event handler within the flush?\n",
      "  self.bm.session.flush()\n",
      "/Users/lazlopaul/Desktop/HPflex/Semantic_MPC_Interface/.venv/lib/python3.10/site-packages/buildingmotif/database/table_connection.py:423: SAWarning: Identity map already had an identity for (<class 'buildingmotif.database.tables.DepsAssociation'>, (8,), None), replacing it with newly flushed object.   Are there load operations occurring inside of an event handler within the flush?\n",
      "  self.bm.session.flush()\n",
      "/Users/lazlopaul/Desktop/HPflex/Semantic_MPC_Interface/.venv/lib/python3.10/site-packages/buildingmotif/database/table_connection.py:423: SAWarning: Identity map already had an identity for (<class 'buildingmotif.database.tables.DepsAssociation'>, (9,), None), replacing it with newly flushed object.   Are there load operations occurring inside of an event handler within the flush?\n",
      "  self.bm.session.flush()\n",
      "/Users/lazlopaul/Desktop/HPflex/Semantic_MPC_Interface/.venv/lib/python3.10/site-packages/buildingmotif/database/table_connection.py:423: SAWarning: Identity map already had an identity for (<class 'buildingmotif.database.tables.DepsAssociation'>, (10,), None), replacing it with newly flushed object.   Are there load operations occurring inside of an event handler within the flush?\n",
      "  self.bm.session.flush()\n",
      "/Users/lazlopaul/Desktop/HPflex/Semantic_MPC_Interface/.venv/lib/python3.10/site-packages/buildingmotif/database/table_connection.py:423: SAWarning: Identity map already had an identity for (<class 'buildingmotif.database.tables.DepsAssociation'>, (11,), None), replacing it with newly flushed object.   Are there load operations occurring inside of an event handler within the flush?\n",
      "  self.bm.session.flush()\n",
      "/Users/lazlopaul/Desktop/HPflex/Semantic_MPC_Interface/.venv/lib/python3.10/site-packages/buildingmotif/database/table_connection.py:423: SAWarning: Identity map already had an identity for (<class 'buildingmotif.database.tables.DepsAssociation'>, (12,), None), replacing it with newly flushed object.   Are there load operations occurring inside of an event handler within the flush?\n",
      "  self.bm.session.flush()\n",
      "/Users/lazlopaul/Desktop/HPflex/Semantic_MPC_Interface/.venv/lib/python3.10/site-packages/buildingmotif/database/table_connection.py:423: SAWarning: Identity map already had an identity for (<class 'buildingmotif.database.tables.DepsAssociation'>, (13,), None), replacing it with newly flushed object.   Are there load operations occurring inside of an event handler within the flush?\n",
      "  self.bm.session.flush()\n",
      "/Users/lazlopaul/Desktop/HPflex/Semantic_MPC_Interface/.venv/lib/python3.10/site-packages/buildingmotif/database/table_connection.py:423: SAWarning: Identity map already had an identity for (<class 'buildingmotif.database.tables.DepsAssociation'>, (14,), None), replacing it with newly flushed object.   Are there load operations occurring inside of an event handler within the flush?\n",
      "  self.bm.session.flush()\n",
      "/Users/lazlopaul/Desktop/HPflex/Semantic_MPC_Interface/.venv/lib/python3.10/site-packages/buildingmotif/database/table_connection.py:423: SAWarning: Identity map already had an identity for (<class 'buildingmotif.database.tables.DepsAssociation'>, (15,), None), replacing it with newly flushed object.   Are there load operations occurring inside of an event handler within the flush?\n",
      "  self.bm.session.flush()\n",
      "/Users/lazlopaul/Desktop/HPflex/Semantic_MPC_Interface/.venv/lib/python3.10/site-packages/buildingmotif/database/table_connection.py:423: SAWarning: Identity map already had an identity for (<class 'buildingmotif.database.tables.DepsAssociation'>, (16,), None), replacing it with newly flushed object.   Are there load operations occurring inside of an event handler within the flush?\n",
      "  self.bm.session.flush()\n",
      "/Users/lazlopaul/Desktop/HPflex/Semantic_MPC_Interface/.venv/lib/python3.10/site-packages/buildingmotif/database/table_connection.py:423: SAWarning: Identity map already had an identity for (<class 'buildingmotif.database.tables.DepsAssociation'>, (17,), None), replacing it with newly flushed object.   Are there load operations occurring inside of an event handler within the flush?\n",
      "  self.bm.session.flush()\n",
      "/Users/lazlopaul/Desktop/HPflex/Semantic_MPC_Interface/.venv/lib/python3.10/site-packages/buildingmotif/database/table_connection.py:423: SAWarning: Identity map already had an identity for (<class 'buildingmotif.database.tables.DepsAssociation'>, (18,), None), replacing it with newly flushed object.   Are there load operations occurring inside of an event handler within the flush?\n",
      "  self.bm.session.flush()\n",
      "/Users/lazlopaul/Desktop/HPflex/Semantic_MPC_Interface/.venv/lib/python3.10/site-packages/buildingmotif/database/table_connection.py:423: SAWarning: Identity map already had an identity for (<class 'buildingmotif.database.tables.DepsAssociation'>, (19,), None), replacing it with newly flushed object.   Are there load operations occurring inside of an event handler within the flush?\n",
      "  self.bm.session.flush()\n",
      "/Users/lazlopaul/Desktop/HPflex/Semantic_MPC_Interface/.venv/lib/python3.10/site-packages/buildingmotif/database/table_connection.py:423: SAWarning: Identity map already had an identity for (<class 'buildingmotif.database.tables.DepsAssociation'>, (20,), None), replacing it with newly flushed object.   Are there load operations occurring inside of an event handler within the flush?\n",
      "  self.bm.session.flush()\n",
      "/Users/lazlopaul/Desktop/HPflex/Semantic_MPC_Interface/.venv/lib/python3.10/site-packages/buildingmotif/database/table_connection.py:423: SAWarning: Identity map already had an identity for (<class 'buildingmotif.database.tables.DepsAssociation'>, (21,), None), replacing it with newly flushed object.   Are there load operations occurring inside of an event handler within the flush?\n",
      "  self.bm.session.flush()\n",
      "/Users/lazlopaul/Desktop/HPflex/Semantic_MPC_Interface/.venv/lib/python3.10/site-packages/buildingmotif/database/table_connection.py:423: SAWarning: Identity map already had an identity for (<class 'buildingmotif.database.tables.DepsAssociation'>, (22,), None), replacing it with newly flushed object.   Are there load operations occurring inside of an event handler within the flush?\n",
      "  self.bm.session.flush()\n",
      "/Users/lazlopaul/Desktop/HPflex/Semantic_MPC_Interface/.venv/lib/python3.10/site-packages/buildingmotif/database/table_connection.py:423: SAWarning: Identity map already had an identity for (<class 'buildingmotif.database.tables.DepsAssociation'>, (23,), None), replacing it with newly flushed object.   Are there load operations occurring inside of an event handler within the flush?\n",
      "  self.bm.session.flush()\n",
      "/Users/lazlopaul/Desktop/HPflex/Semantic_MPC_Interface/.venv/lib/python3.10/site-packages/buildingmotif/database/table_connection.py:423: SAWarning: Identity map already had an identity for (<class 'buildingmotif.database.tables.DepsAssociation'>, (24,), None), replacing it with newly flushed object.   Are there load operations occurring inside of an event handler within the flush?\n",
      "  self.bm.session.flush()\n",
      "/Users/lazlopaul/Desktop/HPflex/Semantic_MPC_Interface/.venv/lib/python3.10/site-packages/buildingmotif/database/table_connection.py:423: SAWarning: Identity map already had an identity for (<class 'buildingmotif.database.tables.DepsAssociation'>, (25,), None), replacing it with newly flushed object.   Are there load operations occurring inside of an event handler within the flush?\n",
      "  self.bm.session.flush()\n"
     ]
    }
   ],
   "source": [
    "generator = SurveyReader(\"./metadata-survey/filled-out-easy-config-test\")\n",
    "generator.create_model(\"survey-brick-model.ttl\")"
   ]
  },
  {
   "cell_type": "code",
   "execution_count": null,
   "metadata": {},
   "outputs": [
    {
     "data": {
      "text/plain": [
       "{'hvac_1': ['zone_1']}"
      ]
     },
     "execution_count": 19,
     "metadata": {},
     "output_type": "execute_result"
    }
   ],
   "source": [
    "generator.config['hvacs_feed_zones']"
   ]
  },
  {
   "cell_type": "markdown",
   "metadata": {},
   "source": [
    "# Testing Unit Conversion"
   ]
  },
  {
   "cell_type": "code",
   "execution_count": null,
   "metadata": {},
   "outputs": [
    {
     "data": {
      "text/plain": [
       "3.048"
      ]
     },
     "execution_count": 20,
     "metadata": {},
     "output_type": "execute_result"
    }
   ],
   "source": [
    "convert_units(10, 'FT', 'M')"
   ]
  },
  {
   "cell_type": "code",
   "execution_count": null,
   "metadata": {},
   "outputs": [
    {
     "data": {
      "text/plain": [
       "31.999999999999886"
      ]
     },
     "execution_count": 21,
     "metadata": {},
     "output_type": "execute_result"
    }
   ],
   "source": [
    "convert_units(0, 'DEG_C', 'DEG_F')"
   ]
  },
  {
   "cell_type": "code",
   "execution_count": null,
   "metadata": {},
   "outputs": [
    {
     "data": {
      "text/plain": [
       "273.15"
      ]
     },
     "execution_count": 22,
     "metadata": {},
     "output_type": "execute_result"
    }
   ],
   "source": [
    "convert_units(0, 'DEG_C', 'K')"
   ]
  },
  {
   "cell_type": "code",
   "execution_count": null,
   "metadata": {},
   "outputs": [
    {
     "name": "stdout",
     "output_type": "stream",
     "text": [
      "changing value of  urn:hpflex/test-site#window1_area from http://qudt.org/vocab/unit/FT2 to http://qudt.org/vocab/unit/M2\n",
      "changing value of  urn:hpflex/test-site#window2_area from http://qudt.org/vocab/unit/FT2 to http://qudt.org/vocab/unit/M2\n"
     ]
    },
    {
     "data": {
      "text/plain": [
       "{'heat_availability': [False],\n",
       " 'cool_availability': [True],\n",
       " 'heat_tolerance': [-2.0],\n",
       " 'cool_tolerance': [2.0],\n",
       " 'setpoint_deadband': [1],\n",
       " 'active': [True],\n",
       " 'control_group': ['DEPRECATED'],\n",
       " 'control_type_list': ['stage'],\n",
       " 'floor_area_list': [50.0],\n",
       " 'window_area_list': [0.9754819200000001],\n",
       " 'azimuth_list': [180],\n",
       " 'tilt_list': [30],\n",
       " 'zone_ids': ['zone1'],\n",
       " 'hvacs': ['hvac1'],\n",
       " 'setpoint_type': ['double'],\n",
       " 'fuel_heat_list': ['gas'],\n",
       " 'fuel_cool_list': ['electricity'],\n",
       " 'cooling_capacity': [5.0],\n",
       " 'heating_capacity': [4.0],\n",
       " 'cooling_cop': [3.5],\n",
       " 'heating_cop': [3.0],\n",
       " 'cooling_electricity': [],\n",
       " 'heating_electricity': [],\n",
       " 'resolution': [1],\n",
       " 'temperature_unit': [rdflib.term.URIRef('http://qudt.org/vocab/unit/DEG_F')]}"
      ]
     },
     "execution_count": 23,
     "metadata": {},
     "output_type": "execute_result"
    }
   ],
   "source": [
    "site_metadata.convert_model_to_si()\n",
    "site_metadata.get_thermostat_data(for_zone='zone1')"
   ]
  },
  {
   "cell_type": "code",
   "execution_count": null,
   "metadata": {},
   "outputs": [
    {
     "data": {
      "text/plain": [
       "\"\\nThe temperature unit still shows up as DEG_F, because it is at the units for the zone temperature, \\nwhich does not have a value to convert in the model, it's values are in the DB.\\nit is a reminder to also convert that to C also. We can use the unit_conversion script for any conversions in the db.\\n\""
      ]
     },
     "execution_count": 24,
     "metadata": {},
     "output_type": "execute_result"
    }
   ],
   "source": [
    "\"\"\"\n",
    "The temperature unit still shows up as DEG_F, because it is at the units for the zone temperature, \n",
    "which does not have a value to convert in the model, it's values are in the DB.\n",
    "it is a reminder to also convert that to C also. We can use the unit_conversion script for any conversions in the db.\n",
    "\"\"\""
   ]
  },
  {
   "cell_type": "markdown",
   "metadata": {},
   "source": [
    "# Testing Grafana Dashboarding "
   ]
  },
  {
   "cell_type": "code",
   "execution_count": null,
   "metadata": {},
   "outputs": [],
   "source": [
    "import yaml \n",
    "with open('../development_files/creds.yml') as f:\n",
    "    config = yaml.safe_load(f)\n",
    "\n",
    "bg = BrickToGrafana(grafana_server=config['grafana_server'], grafana_api_key = config['grafana_api_key'], datasource=config['datasource'], ttl_path = 'test-brick-model.ttl')"
   ]
  },
  {
   "cell_type": "code",
   "execution_count": null,
   "metadata": {},
   "outputs": [
    {
     "data": {
      "text/plain": [
       "Dashboard(title='AQL from brick', annotations=Annotations(list=[]), description='Zone-based dashboard generated from Brick model', editable=True, gnetId=None, graphTooltip=0, hideControls=False, id=None, inputs=[], links=[], panels=[], refresh='10s', rows=[], schemaVersion=12, sharedCrosshair=False, style='dark', tags=['brick'], templating=Templating(list=[]), time=Time(start='now-1h', end='now'), timePicker=TimePicker(refreshIntervals=['5s', '10s', '30s', '1m', '5m', '15m', '30m', '1h', '2h', '1d'], timeOptions=['5m', '15m', '1h', '6h', '12h', '24h', '2d', '7d', '30d'], nowDelay=None, hidden=False), timezone='browser', version=0, uid=None)"
      ]
     },
     "execution_count": 23,
     "metadata": {},
     "output_type": "execute_result"
    }
   ],
   "source": [
    "bg.create_dashboard('AQL from brick')"
   ]
  },
  {
   "cell_type": "code",
   "execution_count": null,
   "metadata": {},
   "outputs": [],
   "source": [
    "# Grafana not set up, upload won't work\n",
    "# bg.upload_dashboard(message = 'testing upload')"
   ]
  },
  {
   "cell_type": "markdown",
   "metadata": {},
   "source": []
  },
  {
   "cell_type": "code",
   "execution_count": null,
   "metadata": {},
   "outputs": [],
   "source": []
  }
 ],
 "metadata": {
  "kernelspec": {
   "display_name": "creating-brick-model",
   "language": "python",
   "name": "python3"
  },
  "language_info": {
   "codemirror_mode": {
    "name": "ipython",
    "version": 3
   },
   "file_extension": ".py",
   "mimetype": "text/x-python",
   "name": "python",
   "nbconvert_exporter": "python",
   "pygments_lexer": "ipython3",
   "version": "3.10.0"
  }
 },
 "nbformat": 4,
 "nbformat_minor": 2
}
