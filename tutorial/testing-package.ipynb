{
 "cells": [
  {
   "cell_type": "code",
   "execution_count": 1,
   "metadata": {},
   "outputs": [
    {
     "name": "stderr",
     "output_type": "stream",
     "text": [
      "CRITICAL:root:Install the 'bacnet-ingress' module, e.g. 'pip install buildingmotif[bacnet-ingress]'\n"
     ]
    }
   ],
   "source": [
    "# import sys\n",
    "# sys.path.insert(0, '..')\n",
    "from semantic_mpc_interface import (\n",
    "    BuildingMetadataLoader,\n",
    "    HPFlexSurvey,\n",
    "    convert_units,\n",
    "    SHACLHandler\n",
    ")\n",
    "from buildingmotif.namespaces import BRICK, RDF\n",
    "from buildingmotif import BuildingMOTIF\n",
    "from buildingmotif.dataclasses import Library\n",
    "import csv\n",
    "from pyshacl.rdfutil import clone"
   ]
  },
  {
   "cell_type": "markdown",
   "metadata": {},
   "source": [
    "# Testing the Model Builder\n",
    "\n",
    "ModelBuilder has been deprecated (and will be replaced in the future)"
   ]
  },
  {
   "cell_type": "markdown",
   "metadata": {},
   "source": [
    "# Testing the Survey Workflow"
   ]
  },
  {
   "cell_type": "code",
   "execution_count": 2,
   "metadata": {},
   "outputs": [
    {
     "name": "stderr",
     "output_type": "stream",
     "text": [
      "DEBUG:buildingmotif.database.graph_connection:Creating tables for graph storage\n"
     ]
    },
    {
     "name": "stderr",
     "output_type": "stream",
     "text": [
      "DEBUG:buildingmotif.database.table_connection:Creating shape collection in model: 'urn:hpflex/test_site#'\n",
      "DEBUG:buildingmotif.database.table_connection:Creating model: 'urn:hpflex/test_site#', with graph: '6195e130-6e0c-462f-b4de-065a1a711bb1'\n",
      "DEBUG:buildingmotif.database.graph_connection:Creating graph: '6195e130-6e0c-462f-b4de-065a1a711bb1' in database with: 1 triples\n",
      "DEBUG:buildingmotif.database.table_connection:Creating shape collection in library: 'brick-templates'\n",
      "DEBUG:buildingmotif.database.table_connection:Creating database library: 'brick-templates'\n",
      "DEBUG:buildingmotif.database.table_connection:Creating database template: 'hvac-zone'\n",
      "DEBUG:buildingmotif.database.graph_connection:Creating graph: '99b12d33-2b74-4b90-b105-f4e28f19479a' in database with: 1 triples\n",
      "DEBUG:buildingmotif.database.table_connection:Creating database template: 'space'\n",
      "DEBUG:buildingmotif.database.graph_connection:Creating graph: '0bdf26f3-b1b1-4b80-b600-ec20615627b6' in database with: 2 triples\n",
      "DEBUG:buildingmotif.database.table_connection:Creating database template: 'window'\n",
      "DEBUG:buildingmotif.database.graph_connection:Creating graph: '170599c3-0b64-4800-b39c-eddd7d586960' in database with: 4 triples\n",
      "DEBUG:buildingmotif.database.table_connection:Creating database template: 'hp-rtu'\n",
      "DEBUG:buildingmotif.database.graph_connection:Creating graph: '0e55aa59-b6f7-4d57-8b69-27dc338a24c7' in database with: 6 triples\n",
      "DEBUG:buildingmotif.database.table_connection:Creating database template: 'tstat'\n",
      "DEBUG:buildingmotif.database.graph_connection:Creating graph: '31963fb7-8b86-460d-86be-83630e5fc416' in database with: 6 triples\n",
      "DEBUG:buildingmotif.database.table_connection:Creating database template: 'tstat-heating-cooling-occupancy'\n",
      "DEBUG:buildingmotif.database.graph_connection:Creating graph: '38d77e58-7e36-4a6d-8caf-86dbd68cfc87' in database with: 8 triples\n",
      "DEBUG:buildingmotif.database.table_connection:Creating database template: 'site'\n",
      "DEBUG:buildingmotif.database.graph_connection:Creating graph: 'c3ef6652-6576-45a1-9a9e-8a538bebfa44' in database with: 5 triples\n",
      "DEBUG:buildingmotif.database.table_connection:Creating database template: 'air-bidirectional-connectionpoint'\n",
      "DEBUG:buildingmotif.database.graph_connection:Creating graph: '5bc75a3b-944b-4b8d-b33a-7c80a8127a4b' in database with: 2 triples\n",
      "DEBUG:buildingmotif.database.table_connection:Creating database template: 'air-outlet-connectionpoint'\n",
      "DEBUG:buildingmotif.database.graph_connection:Creating graph: '01f75c85-75b3-4163-9c75-6284feaadec7' in database with: 3 triples\n",
      "DEBUG:buildingmotif.database.table_connection:Creating database template: 'air-inlet-connectionpoint'\n",
      "DEBUG:buildingmotif.database.graph_connection:Creating graph: '3b4c1480-6eb1-4371-806f-3c23791536e8' in database with: 3 triples\n",
      "DEBUG:buildingmotif.database.table_connection:Creating database template: 'connection'\n",
      "DEBUG:buildingmotif.database.graph_connection:Creating graph: '262854c7-8153-4248-8342-c10d1999b162' in database with: 1 triples\n",
      "DEBUG:buildingmotif.database.table_connection:Creating database template: 'has-point'\n",
      "DEBUG:buildingmotif.database.graph_connection:Creating graph: 'c152126e-9bf8-4b74-ac7c-e46b5e23500f' in database with: 1 triples\n",
      "DEBUG:buildingmotif.database.table_connection:Creating database template: 'has-reference'\n",
      "DEBUG:buildingmotif.database.graph_connection:Creating graph: '820afe14-e496-4e70-8c78-528d3f398832' in database with: 1 triples\n",
      "DEBUG:buildingmotif.database.table_connection:Creating database template: 'has-space'\n",
      "DEBUG:buildingmotif.database.graph_connection:Creating graph: '6ad3e563-8758-433e-b051-b3692e317acb' in database with: 1 triples\n",
      "DEBUG:buildingmotif.database.table_connection:Creating database template: 'has-location'\n",
      "DEBUG:buildingmotif.database.graph_connection:Creating graph: '0b2c9717-75ed-46c0-a664-2fea3918a22d' in database with: 1 triples\n",
      "DEBUG:buildingmotif.database.table_connection:Creating database template: 'has-window'\n",
      "DEBUG:buildingmotif.database.graph_connection:Creating graph: '1e4d7328-a5fc-4edf-ac41-5f525e0ac6c9' in database with: 1 triples\n",
      "DEBUG:buildingmotif.database.table_connection:Creating database template: 'air-connects-to'\n",
      "DEBUG:buildingmotif.database.graph_connection:Creating graph: 'fd0d9ea5-650b-48c5-881f-684e61e4dfd5' in database with: 1 triples\n",
      "DEBUG:buildingmotif.database.table_connection:Creating database template: 'air-bidirectional-connects-to'\n",
      "DEBUG:buildingmotif.database.graph_connection:Creating graph: '444ee504-b713-408e-93c1-85124a477afc' in database with: 2 triples\n",
      "DEBUG:buildingmotif.database.table_connection:Creating database template: 'area'\n",
      "DEBUG:buildingmotif.database.graph_connection:Creating graph: '0cc17b2c-13d1-439f-8246-422da189b656' in database with: 3 triples\n",
      "DEBUG:buildingmotif.database.table_connection:Creating database template: 'tilt'\n",
      "DEBUG:buildingmotif.database.graph_connection:Creating graph: '0c2d4c3e-fa5c-4e7a-95fc-57f5b0a1a3da' in database with: 3 triples\n",
      "DEBUG:buildingmotif.database.table_connection:Creating database template: 'azimuth'\n",
      "DEBUG:buildingmotif.database.graph_connection:Creating graph: '373d0c9a-3a68-4d98-a68f-a02255d00f1c' in database with: 3 triples\n",
      "DEBUG:buildingmotif.database.table_connection:Creating database template: 'cooling-COP'\n",
      "DEBUG:buildingmotif.database.graph_connection:Creating graph: '9b695139-07d7-4897-ba11-424e2bd6519e' in database with: 3 triples\n",
      "DEBUG:buildingmotif.database.table_connection:Creating database template: 'heating-COP'\n",
      "DEBUG:buildingmotif.database.graph_connection:Creating graph: '4d5581af-a36d-4a4b-8d46-160d6c65a7ba' in database with: 3 triples\n",
      "DEBUG:buildingmotif.database.table_connection:Creating database template: 'cooling-capacity'\n",
      "DEBUG:buildingmotif.database.graph_connection:Creating graph: '8541f666-886f-47a2-b9b7-eb3d799a4f7f' in database with: 3 triples\n",
      "DEBUG:buildingmotif.database.table_connection:Creating database template: 'heating-capacity'\n",
      "DEBUG:buildingmotif.database.graph_connection:Creating graph: '6dba8894-b11c-490a-a09d-2f53eab64035' in database with: 3 triples\n",
      "DEBUG:buildingmotif.database.table_connection:Creating database template: 'temperature'\n",
      "DEBUG:buildingmotif.database.graph_connection:Creating graph: '8b331b87-51c9-4442-a0b5-5011a400e190' in database with: 3 triples\n",
      "DEBUG:buildingmotif.database.table_connection:Creating database template: 'active-heating-stages'\n",
      "DEBUG:buildingmotif.database.graph_connection:Creating graph: '3ac52b57-cd49-4cf9-8b0a-cd54a90cf4e6' in database with: 3 triples\n",
      "DEBUG:buildingmotif.database.table_connection:Creating database template: 'active-cooling-stages'\n",
      "DEBUG:buildingmotif.database.graph_connection:Creating graph: '0957f145-0b26-41c0-afd4-3a5118c1455c' in database with: 3 triples\n",
      "DEBUG:buildingmotif.database.table_connection:Creating database template: 'occ-heating-setpoint'\n",
      "DEBUG:buildingmotif.database.graph_connection:Creating graph: '207bf16c-d7f1-43a8-b9d3-4d5a25d1abc2' in database with: 3 triples\n",
      "DEBUG:buildingmotif.database.table_connection:Creating database template: 'occ-cooling-setpoint'\n",
      "DEBUG:buildingmotif.database.graph_connection:Creating graph: 'd2ac519f-523f-42e5-a790-37e767f1802b' in database with: 3 triples\n",
      "DEBUG:buildingmotif.database.table_connection:Creating database template: 'unocc-heating-setpoint'\n",
      "DEBUG:buildingmotif.database.graph_connection:Creating graph: 'c1ebd70f-eb22-44f3-8e98-e677bd8cfdae' in database with: 3 triples\n",
      "DEBUG:buildingmotif.database.table_connection:Creating database template: 'unocc-cooling-setpoint'\n",
      "DEBUG:buildingmotif.database.graph_connection:Creating graph: '209f15b7-4f45-48f1-802b-12f403956db7' in database with: 3 triples\n",
      "DEBUG:buildingmotif.database.table_connection:Creating database template: 'effective-temperature-setpoint'\n",
      "DEBUG:buildingmotif.database.graph_connection:Creating graph: '838f72d4-f41e-42fc-b2c8-c5ee91665587' in database with: 3 triples\n",
      "DEBUG:buildingmotif.database.table_connection:Creating database template: 'effective-heating-setpoint'\n",
      "DEBUG:buildingmotif.database.graph_connection:Creating graph: 'f49ab3b0-623e-436e-a681-d8a4d48197de' in database with: 3 triples\n",
      "DEBUG:buildingmotif.database.table_connection:Creating database template: 'effective-cooling-setpoint'\n",
      "DEBUG:buildingmotif.database.graph_connection:Creating graph: '475c8313-61f0-4d11-8e0a-c10544158cc2' in database with: 3 triples\n",
      "DEBUG:buildingmotif.database.table_connection:Creating database template: 'tstat-stage_count'\n",
      "DEBUG:buildingmotif.database.graph_connection:Creating graph: 'f3c14061-9ed6-4854-9e37-a10ba5c3beff' in database with: 3 triples\n",
      "DEBUG:buildingmotif.database.table_connection:Creating database template: 'tstat-deadband'\n",
      "DEBUG:buildingmotif.database.graph_connection:Creating graph: '7eb0b819-1967-422f-9ce0-101bb01f4850' in database with: 5 triples\n",
      "DEBUG:buildingmotif.database.table_connection:Creating database template: 'tstat-tolerance'\n",
      "DEBUG:buildingmotif.database.graph_connection:Creating graph: 'ca152370-6706-49c7-be53-c91c107a83e9' in database with: 5 triples\n",
      "DEBUG:buildingmotif.database.table_connection:Creating database template: 'tstat-resolution'\n",
      "DEBUG:buildingmotif.database.graph_connection:Creating graph: 'a376c786-ee75-4a64-aadb-f6ec7277bb55' in database with: 3 triples\n",
      "DEBUG:buildingmotif.database.table_connection:Creating database template: 'tstat-active'\n",
      "DEBUG:buildingmotif.database.graph_connection:Creating graph: 'c263c983-6d49-4e1f-b6fe-914ecf2bb796' in database with: 2 triples\n",
      "DEBUG:buildingmotif.database.table_connection:Creating database template: 'timezone'\n",
      "DEBUG:buildingmotif.database.graph_connection:Creating graph: 'f19d7164-ad3f-40f9-aabf-551e0a8480e4' in database with: 2 triples\n",
      "DEBUG:buildingmotif.database.table_connection:Creating database template: 'latitude'\n",
      "DEBUG:buildingmotif.database.graph_connection:Creating graph: '8424a2bf-8fd1-4bb4-95b3-7538aa0046df' in database with: 3 triples\n",
      "DEBUG:buildingmotif.database.table_connection:Creating database template: 'longitude'\n",
      "DEBUG:buildingmotif.database.graph_connection:Creating graph: 'e0744ef3-f07c-43d9-8732-6701de50fda5' in database with: 3 triples\n",
      "DEBUG:buildingmotif.database.table_connection:Creating database template: 'noaastation'\n",
      "DEBUG:buildingmotif.database.graph_connection:Creating graph: 'e074a91f-b1b9-4d7f-8224-354c9d003505' in database with: 1 triples\n",
      "DEBUG:buildingmotif.database.table_connection:Creating database template: 'volttron-external-reference'\n",
      "DEBUG:buildingmotif.database.graph_connection:Creating graph: '8ffb504b-b9d8-4345-b6b0-3ca3048e0e9e' in database with: 2 triples\n",
      "DEBUG:buildingmotif.database.table_connection:Creating database template: 'point'\n",
      "DEBUG:buildingmotif.database.graph_connection:Creating graph: 'ed2e1811-bdb3-4ef2-bc8c-4ef806e18518' in database with: 2 triples\n",
      "DEBUG:buildingmotif.database.table_connection:Creating depencency from templates with ids: '1' and: '14'\n",
      "DEBUG:buildingmotif.database.table_connection:Creating depencency from templates with ids: '1' and: '2'\n",
      "DEBUG:buildingmotif.database.table_connection:Creating depencency from templates with ids: '1' and: '16'\n",
      "DEBUG:buildingmotif.database.table_connection:Creating depencency from templates with ids: '1' and: '3'\n",
      "DEBUG:buildingmotif.database.table_connection:Creating depencency from templates with ids: '1' and: '15'\n",
      "DEBUG:buildingmotif.database.table_connection:Creating depencency from templates with ids: '1' and: '5'\n",
      "DEBUG:buildingmotif.database.table_connection:Creating depencency from templates with ids: '1' and: '17'\n",
      "DEBUG:buildingmotif.database.table_connection:Creating depencency from templates with ids: '1' and: '4'\n",
      "DEBUG:buildingmotif.database.table_connection:Creating depencency from templates with ids: '2' and: '19'\n",
      "DEBUG:buildingmotif.database.table_connection:Creating depencency from templates with ids: '3' and: '19'\n",
      "DEBUG:buildingmotif.database.table_connection:Creating depencency from templates with ids: '3' and: '21'\n",
      "DEBUG:buildingmotif.database.table_connection:Creating depencency from templates with ids: '3' and: '20'\n",
      "DEBUG:buildingmotif.database.table_connection:Creating depencency from templates with ids: '4' and: '24'\n",
      "DEBUG:buildingmotif.database.table_connection:Creating depencency from templates with ids: '4' and: '25'\n",
      "DEBUG:buildingmotif.database.table_connection:Creating depencency from templates with ids: '4' and: '22'\n",
      "DEBUG:buildingmotif.database.table_connection:Creating depencency from templates with ids: '4' and: '23'\n",
      "DEBUG:buildingmotif.database.table_connection:Creating depencency from templates with ids: '5' and: '36'\n",
      "DEBUG:buildingmotif.database.table_connection:Creating depencency from templates with ids: '5' and: '37'\n",
      "DEBUG:buildingmotif.database.table_connection:Creating depencency from templates with ids: '5' and: '38'\n",
      "DEBUG:buildingmotif.database.table_connection:Creating depencency from templates with ids: '5' and: '40'\n",
      "DEBUG:buildingmotif.database.table_connection:Creating depencency from templates with ids: '5' and: '39'\n",
      "DEBUG:buildingmotif.database.table_connection:Creating depencency from templates with ids: '6' and: '29'\n",
      "DEBUG:buildingmotif.database.table_connection:Creating depencency from templates with ids: '6' and: '30'\n",
      "DEBUG:buildingmotif.database.table_connection:Creating depencency from templates with ids: '6' and: '31'\n",
      "DEBUG:buildingmotif.database.table_connection:Creating depencency from templates with ids: '6' and: '32'\n",
      "DEBUG:buildingmotif.database.table_connection:Creating depencency from templates with ids: '6' and: '5'\n",
      "DEBUG:buildingmotif.database.table_connection:Creating depencency from templates with ids: '6' and: '26'\n",
      "DEBUG:buildingmotif.database.table_connection:Creating depencency from templates with ids: '6' and: '27'\n",
      "DEBUG:buildingmotif.database.table_connection:Creating depencency from templates with ids: '6' and: '28'\n",
      "DEBUG:buildingmotif.database.table_connection:Creating depencency from templates with ids: '7' and: '41'\n",
      "DEBUG:buildingmotif.database.table_connection:Creating depencency from templates with ids: '7' and: '42'\n",
      "DEBUG:buildingmotif.database.table_connection:Creating depencency from templates with ids: '7' and: '43'\n",
      "DEBUG:buildingmotif.database.table_connection:Creating depencency from templates with ids: '7' and: '44'\n",
      "DEBUG:buildingmotif.database.table_connection:Creating depencency from templates with ids: '1' and: '2'\n",
      "DEBUG:buildingmotif.database.table_connection:Creating depencency from templates with ids: '1' and: '3'\n",
      "DEBUG:buildingmotif.database.table_connection:Creating depencency from templates with ids: '1' and: '4'\n",
      "DEBUG:buildingmotif.database.table_connection:Creating depencency from templates with ids: '1' and: '5'\n",
      "DEBUG:buildingmotif.database.table_connection:Creating depencency from templates with ids: '1' and: '14'\n",
      "DEBUG:buildingmotif.database.table_connection:Creating depencency from templates with ids: '1' and: '15'\n",
      "DEBUG:buildingmotif.database.table_connection:Creating depencency from templates with ids: '1' and: '16'\n",
      "DEBUG:buildingmotif.database.table_connection:Creating depencency from templates with ids: '1' and: '17'\n",
      "DEBUG:buildingmotif.database.table_connection:Creating depencency from templates with ids: '2' and: '19'\n",
      "DEBUG:buildingmotif.database.table_connection:Creating depencency from templates with ids: '3' and: '19'\n",
      "DEBUG:buildingmotif.database.table_connection:Creating depencency from templates with ids: '3' and: '20'\n",
      "DEBUG:buildingmotif.database.table_connection:Creating depencency from templates with ids: '3' and: '21'\n",
      "DEBUG:buildingmotif.database.table_connection:Creating depencency from templates with ids: '4' and: '22'\n",
      "DEBUG:buildingmotif.database.table_connection:Creating depencency from templates with ids: '4' and: '23'\n",
      "DEBUG:buildingmotif.database.table_connection:Creating depencency from templates with ids: '4' and: '24'\n",
      "DEBUG:buildingmotif.database.table_connection:Creating depencency from templates with ids: '4' and: '25'\n",
      "DEBUG:buildingmotif.database.table_connection:Creating depencency from templates with ids: '5' and: '36'\n",
      "DEBUG:buildingmotif.database.table_connection:Creating depencency from templates with ids: '5' and: '37'\n",
      "DEBUG:buildingmotif.database.table_connection:Creating depencency from templates with ids: '5' and: '38'\n",
      "DEBUG:buildingmotif.database.table_connection:Creating depencency from templates with ids: '5' and: '39'\n",
      "DEBUG:buildingmotif.database.table_connection:Creating depencency from templates with ids: '5' and: '40'\n",
      "DEBUG:buildingmotif.database.table_connection:Creating depencency from templates with ids: '6' and: '5'\n",
      "DEBUG:buildingmotif.database.table_connection:Creating depencency from templates with ids: '6' and: '26'\n",
      "DEBUG:buildingmotif.database.table_connection:Creating depencency from templates with ids: '6' and: '27'\n",
      "DEBUG:buildingmotif.database.table_connection:Creating depencency from templates with ids: '6' and: '28'\n",
      "DEBUG:buildingmotif.database.table_connection:Creating depencency from templates with ids: '6' and: '29'\n",
      "DEBUG:buildingmotif.database.table_connection:Creating depencency from templates with ids: '6' and: '30'\n",
      "DEBUG:buildingmotif.database.table_connection:Creating depencency from templates with ids: '6' and: '31'\n",
      "DEBUG:buildingmotif.database.table_connection:Creating depencency from templates with ids: '6' and: '32'\n",
      "DEBUG:buildingmotif.database.table_connection:Creating depencency from templates with ids: '7' and: '41'\n",
      "DEBUG:buildingmotif.database.table_connection:Creating depencency from templates with ids: '7' and: '42'\n",
      "DEBUG:buildingmotif.database.table_connection:Creating depencency from templates with ids: '7' and: '43'\n",
      "DEBUG:buildingmotif.database.table_connection:Creating depencency from templates with ids: '7' and: '44'\n",
      "/Users/lazlopaul/Desktop/HPflex/Semantic_MPC_Interface/.venv/lib/python3.10/site-packages/pyshacl/extras/__init__.py:46: Warning: Extra \"js\" is not satisfied because requirement pyduktape2 is not installed.\n",
      "  warn(Warning(f\"Extra \\\"{extra_name}\\\" is not satisfied because requirement {req} is not installed.\"))\n",
      "DEBUG:buildingmotif.database.table_connection:Deleting depencency from templates with ids: '1' and: '2'\n",
      "DEBUG:buildingmotif.database.table_connection:Deleting depencency from templates with ids: '1' and: '3'\n",
      "DEBUG:buildingmotif.database.table_connection:Deleting depencency from templates with ids: '1' and: '4'\n",
      "DEBUG:buildingmotif.database.table_connection:Deleting depencency from templates with ids: '1' and: '5'\n"
     ]
    },
    {
     "name": "stdout",
     "output_type": "stream",
     "text": [
      "removing dependency:  space\n",
      "removing dependency:  window\n",
      "removing dependency:  hp-rtu\n",
      "removing dependency:  tstat\n",
      "values: dict_values([])\n",
      "values names: {}\n",
      "values: dict_values(['area-name-value'])\n",
      "values names: {'area-name': '<name>-area-name'}\n",
      "values: dict_values(['heating_COP-name-value', 'cooling_COP-name-value', 'cooling_capacity-name-value', 'heating_capacity-name-value'])\n",
      "values names: {'cooling_COP-name': '<name>-cooling_COP-name', 'heating_COP-name': '<name>-heating_COP-name', 'cooling_capacity-name': '<name>-cooling_capacity-name', 'heating_capacity-name': '<name>-heating_capacity-name'}\n",
      "values: dict_values(['resolution-name-value', 'stage_count-name-value', 'active-name-value', 'setpoint_deadband-name-value', 'tolerance-name-value'])\n",
      "values names: {'tolerance-name': '<name>-tolerance-name', 'resolution-name': '<name>-resolution-name', 'active-name': '<name>-active-name', 'stage_count-name': '<name>-stage_count-name', 'setpoint_deadband-name': '<name>-setpoint_deadband-name'}\n",
      "values: dict_values(['azimuth-name-value', 'area-name-value', 'tilt-name-value'])\n",
      "values names: {'area-name': '<name>-area-name', 'azimuth-name': '<name>-azimuth-name', 'tilt-name': '<name>-tilt-name'}\n",
      "values: dict_values(['noaastation-name-value', 'timezone-name-value', 'latitude-name-value', 'longitude-name-value'])\n",
      "values names: {'latitude-name': '<name>-latitude-name', 'longitude-name': '<name>-longitude-name', 'noaastation-name': '<name>-noaastation-name', 'timezone-name': '<name>-timezone-name'}\n",
      "{'site_id': 'test_site', 'hvac_type': 'hp-rtu', 'variatic_params': {'hvac-zone': {}, 'space': {'area-name': '<name>-area-name'}, 'hp-rtu': {'cooling_COP-name': '<name>-cooling_COP-name', 'heating_COP-name': '<name>-heating_COP-name', 'cooling_capacity-name': '<name>-cooling_capacity-name', 'heating_capacity-name': '<name>-heating_capacity-name'}, 'tstat': {'tolerance-name': '<name>-tolerance-name', 'resolution-name': '<name>-resolution-name', 'active-name': '<name>-active-name', 'stage_count-name': '<name>-stage_count-name', 'setpoint_deadband-name': '<name>-setpoint_deadband-name'}, 'window': {'area-name': '<name>-area-name', 'azimuth-name': '<name>-azimuth-name', 'tilt-name': '<name>-tilt-name'}, 'site': {'latitude-name': '<name>-latitude-name', 'longitude-name': '<name>-longitude-name', 'noaastation-name': '<name>-noaastation-name', 'timezone-name': '<name>-timezone-name'}}, 'param_mapping': {'hvac-zone': {}, 'space': {'area': 'area-name-value'}, 'hp-rtu': {'heating_COP': 'heating_COP-name-value', 'cooling_COP': 'cooling_COP-name-value', 'cooling_capacity': 'cooling_capacity-name-value', 'heating_capacity': 'heating_capacity-name-value'}, 'tstat': {'resolution': 'resolution-name-value', 'stage_count': 'stage_count-name-value', 'active': 'active-name-value', 'setpoint_deadband': 'setpoint_deadband-name-value', 'tolerance': 'tolerance-name-value'}, 'window': {'azimuth': 'azimuth-name-value', 'area': 'area-name-value', 'tilt': 'tilt-name-value'}, 'site': {'noaastation': 'noaastation-name-value', 'timezone': 'timezone-name-value', 'latitude': 'latitude-name-value', 'longitude': 'longitude-name-value'}}, 'hvacs_feed_hvacs': {}, 'hvacs_feed_zones': {'hvac_1': ['zone_1'], 'hvac_2': ['zone_2'], 'hvac_3': ['zone_3']}, 'zones_contain_spaces': {'zone_1': ['space_1_1', 'space_1_2'], 'zone_2': ['space_2_1'], 'zone_3': ['space_3_1']}, 'zones_contain_windows': {'zone_1': ['window_1_1', 'window_1_2'], 'zone_2': ['window_2_1', 'window_2_2'], 'zone_3': ['window_3_1', 'window_3_2', 'window_3_3']}}\n"
     ]
    }
   ],
   "source": [
    "# Please disregad excessive logs for now \n",
    "\n",
    "# Creating survey, allow overwrite if there is something already there\n",
    "s = HPFlexSurvey('test_site','test_build','.', overwrite=True)\n",
    "\n",
    "# Generating a simple building structure that prefills csv files. \n",
    "s.easy_config(zone_space_window_list=[(2,2),(1,2),(1,3)])\n",
    "# Now check test_site/test_build to look at survey files\n"
   ]
  },
  {
   "cell_type": "code",
   "execution_count": 3,
   "metadata": {},
   "outputs": [],
   "source": [
    "# Will just fill the columns programmatically for testing, csv should be filled out otherwise\n",
    "import sys\n",
    "sys.path.insert(0,'../examples')\n",
    "from example_prefill_usage import prefill_csv_survey"
   ]
  },
  {
   "cell_type": "code",
   "execution_count": 4,
   "metadata": {},
   "outputs": [
    {
     "name": "stdout",
     "output_type": "stream",
     "text": [
      "Loading config from: test_site/test_build/config.json\n",
      "Found CSV files: ['zone', 'site', 'window', 'hvac', 'point_list', 'tstat', 'space']\n",
      "Filled 4 empty cells across 4 columns in site.csv\n",
      "Filled 21 empty cells across 3 columns in window.csv\n",
      "Filled 12 empty cells across 4 columns in hvac.csv\n",
      "No empty cells found in point_list.csv\n",
      "Filled 15 empty cells across 5 columns in tstat.csv\n",
      "Filled 8 empty cells across 2 columns in space.csv\n"
     ]
    }
   ],
   "source": [
    "prefill_csv_survey('test_site/test_build')"
   ]
  },
  {
   "cell_type": "code",
   "execution_count": 5,
   "metadata": {},
   "outputs": [
    {
     "name": "stdout",
     "output_type": "stream",
     "text": [
      "Expanded CSV shape: (6, 5)\n",
      "New columns added: []\n",
      "Expanded CSV shape: (4, 4)\n",
      "New columns added: ['area-name']\n",
      "Expanded CSV shape: (3, 9)\n",
      "New columns added: ['cooling_COP-name', 'heating_COP-name', 'cooling_capacity-name', 'heating_capacity-name']\n",
      "Expanded CSV shape: (3, 14)\n",
      "New columns added: ['tolerance-name', 'resolution-name', 'active-name', 'stage_count-name', 'setpoint_deadband-name']\n",
      "Expanded CSV shape: (7, 8)\n",
      "New columns added: ['area-name', 'azimuth-name', 'tilt-name']\n",
      "Expanded CSV shape: (1, 9)\n",
      "New columns added: ['latitude-name', 'longitude-name', 'noaastation-name', 'timezone-name']\n"
     ]
    }
   ],
   "source": [
    "# Reading csv\n",
    "s.read_csv()"
   ]
  },
  {
   "cell_type": "markdown",
   "metadata": {},
   "source": [
    "# Testing SHACL Generation and Validation"
   ]
  },
  {
   "cell_type": "code",
   "execution_count": 6,
   "metadata": {},
   "outputs": [],
   "source": [
    "og = clone.clone_graph(s.graph)"
   ]
  },
  {
   "cell_type": "code",
   "execution_count": 7,
   "metadata": {},
   "outputs": [],
   "source": [
    "# Create handler\n",
    "handler = SHACLHandler()\n",
    "\n",
    "# Generate shapes\n",
    "handler.generate_shapes()\n",
    "\n",
    "# Save shapes\n",
    "handler.save_shapes('shapes.ttl')\n",
    "\n",
    "# Validate a model\n",
    "conforms, results_graph, results_text = handler.validate_model(s.graph)\n",
    "\n",
    "s.graph.serialize('test-brick-model-reasoned.ttl', format = 'ttl')\n",
    "if not conforms:\n",
    "    print(\"Validation failed:\")\n",
    "    print(results_text)"
   ]
  },
  {
   "cell_type": "code",
   "execution_count": 8,
   "metadata": {},
   "outputs": [
    {
     "name": "stdout",
     "output_type": "stream",
     "text": [
      "@prefix ns1: <urn:hpflex/shapes#> .\n",
      "\n",
      "<urn:hpflex/test_site#hvac_1> ns1:air-connects-to <urn:hpflex/test_site#zone_1> .\n",
      "\n",
      "<urn:hpflex/test_site#hvac_2> ns1:air-connects-to <urn:hpflex/test_site#zone_2> .\n",
      "\n",
      "<urn:hpflex/test_site#hvac_3> ns1:air-connects-to <urn:hpflex/test_site#zone_3> .\n",
      "\n",
      "<urn:hpflex/test_site#tstat_zone_1> ns1:has-location <urn:hpflex/test_site#zone_1> ;\n",
      "    ns1:has-point <urn:hpflex/test_site#tstat_zone_1-active-name>,\n",
      "        <urn:hpflex/test_site#tstat_zone_1-setpoint_deadband-name>,\n",
      "        <urn:hpflex/test_site#tstat_zone_1-tolerance-name> .\n",
      "\n",
      "<urn:hpflex/test_site#tstat_zone_2> ns1:has-location <urn:hpflex/test_site#zone_2> ;\n",
      "    ns1:has-point <urn:hpflex/test_site#tstat_zone_2-active-name>,\n",
      "        <urn:hpflex/test_site#tstat_zone_2-setpoint_deadband-name>,\n",
      "        <urn:hpflex/test_site#tstat_zone_2-tolerance-name> .\n",
      "\n",
      "<urn:hpflex/test_site#tstat_zone_3> ns1:has-location <urn:hpflex/test_site#zone_3> ;\n",
      "    ns1:has-point <urn:hpflex/test_site#tstat_zone_3-active-name>,\n",
      "        <urn:hpflex/test_site#tstat_zone_3-setpoint_deadband-name>,\n",
      "        <urn:hpflex/test_site#tstat_zone_3-tolerance-name> .\n",
      "\n",
      "<urn:hpflex/test_site#> ns1:air-connects-to <urn:hpflex/test_site#zone_1> ;\n",
      "    ns1:has-location <urn:hpflex/test_site#zone_1> .\n",
      "\n",
      "<urn:hpflex/test_site#zone_2> ns1:has-space <urn:hpflex/test_site#space_2_1>,\n",
      "        <urn:hpflex/test_site#window_2_2> ;\n",
      "    ns1:has-window <urn:hpflex/test_site#space_2_1>,\n",
      "        <urn:hpflex/test_site#window_2_2> .\n",
      "\n",
      "<urn:hpflex/test_site#zone_3> ns1:has-space <urn:hpflex/test_site#space_3_1>,\n",
      "        <urn:hpflex/test_site#window_3_3> ;\n",
      "    ns1:has-window <urn:hpflex/test_site#space_3_1>,\n",
      "        <urn:hpflex/test_site#window_3_3> .\n",
      "\n",
      "<urn:hpflex/test_site#zone_1> ns1:has-space <urn:hpflex/test_site#>,\n",
      "        <urn:hpflex/test_site#space_1_1>,\n",
      "        <urn:hpflex/test_site#space_1_2>,\n",
      "        <urn:hpflex/test_site#window_1_1>,\n",
      "        <urn:hpflex/test_site#window_1_2> ;\n",
      "    ns1:has-window <urn:hpflex/test_site#>,\n",
      "        <urn:hpflex/test_site#space_1_1>,\n",
      "        <urn:hpflex/test_site#space_1_2>,\n",
      "        <urn:hpflex/test_site#window_1_1>,\n",
      "        <urn:hpflex/test_site#window_1_2> .\n",
      "\n",
      "\n"
     ]
    }
   ],
   "source": [
    "# lots of new inferred information\n",
    "(s.graph-og).print()"
   ]
  },
  {
   "cell_type": "markdown",
   "metadata": {},
   "source": [
    "# Testing get Metadata"
   ]
  },
  {
   "cell_type": "code",
   "execution_count": 9,
   "metadata": {},
   "outputs": [
    {
     "ename": "TypeError",
     "evalue": "can't multiply sequence by non-int of type 'float'",
     "output_type": "error",
     "traceback": [
      "\u001b[0;31m---------------------------------------------------------------------------\u001b[0m",
      "\u001b[0;31mTypeError\u001b[0m                                 Traceback (most recent call last)",
      "Cell \u001b[0;32mIn[9], line 3\u001b[0m\n\u001b[1;32m      1\u001b[0m site_metadata \u001b[38;5;241m=\u001b[39m BuildingMetadataLoader(\u001b[38;5;124m\"\u001b[39m\u001b[38;5;124mtest_site/test_build/test_build.ttl\u001b[39m\u001b[38;5;124m\"\u001b[39m, ontology \u001b[38;5;241m=\u001b[39m \u001b[38;5;124m'\u001b[39m\u001b[38;5;124mbrick\u001b[39m\u001b[38;5;124m'\u001b[39m)\n\u001b[1;32m      2\u001b[0m site_info \u001b[38;5;241m=\u001b[39m site_metadata\u001b[38;5;241m.\u001b[39mget_site_info()\n\u001b[0;32m----> 3\u001b[0m thermostat_data \u001b[38;5;241m=\u001b[39m \u001b[43msite_metadata\u001b[49m\u001b[38;5;241;43m.\u001b[39;49m\u001b[43mget_thermostat_data\u001b[49m\u001b[43m(\u001b[49m\u001b[43m)\u001b[49m\n",
      "File \u001b[0;32m~/Desktop/HPflex/Semantic_MPC_Interface/src/semantic_mpc_interface/get_metadata.py:351\u001b[0m, in \u001b[0;36mBuildingMetadataLoader.get_thermostat_data\u001b[0;34m(self, for_zone)\u001b[0m\n\u001b[1;32m    345\u001b[0m     \u001b[38;5;28;01mraise\u001b[39;00m \u001b[38;5;167;01mException\u001b[39;00m(\n\u001b[1;32m    346\u001b[0m         \u001b[38;5;124mf\u001b[39m\u001b[38;5;124m\"\u001b[39m\u001b[38;5;124mExpected 1 result for each variable, got \u001b[39m\u001b[38;5;132;01m{\u001b[39;00m\u001b[38;5;28mlen\u001b[39m(results)\u001b[38;5;132;01m}\u001b[39;00m\u001b[38;5;124m\"\u001b[39m\n\u001b[1;32m    347\u001b[0m     )\n\u001b[1;32m    349\u001b[0m result \u001b[38;5;241m=\u001b[39m results\u001b[38;5;241m.\u001b[39mbindings[\u001b[38;5;241m0\u001b[39m]\n\u001b[1;32m    350\u001b[0m thermostat_data[\u001b[38;5;124m\"\u001b[39m\u001b[38;5;124mheat_tolerance\u001b[39m\u001b[38;5;124m\"\u001b[39m]\u001b[38;5;241m.\u001b[39mappend(\n\u001b[0;32m--> 351\u001b[0m     \u001b[38;5;241;43m-\u001b[39;49m\u001b[38;5;241;43m1.0\u001b[39;49m\u001b[43m \u001b[49m\u001b[38;5;241;43m*\u001b[39;49m\u001b[43m \u001b[49m\u001b[43mresult\u001b[49m\u001b[43m[\u001b[49m\u001b[38;5;124;43m\"\u001b[39;49m\u001b[38;5;124;43mtolerance_value\u001b[39;49m\u001b[38;5;124;43m\"\u001b[39;49m\u001b[43m]\u001b[49m\u001b[38;5;241;43m.\u001b[39;49m\u001b[43mtoPython\u001b[49m\u001b[43m(\u001b[49m\u001b[43m)\u001b[49m\n\u001b[1;32m    352\u001b[0m )\n\u001b[1;32m    353\u001b[0m thermostat_data[\u001b[38;5;124m\"\u001b[39m\u001b[38;5;124mcool_tolerance\u001b[39m\u001b[38;5;124m\"\u001b[39m]\u001b[38;5;241m.\u001b[39mappend(\n\u001b[1;32m    354\u001b[0m     \u001b[38;5;241m1.0\u001b[39m \u001b[38;5;241m*\u001b[39m result[\u001b[38;5;124m\"\u001b[39m\u001b[38;5;124mtolerance_value\u001b[39m\u001b[38;5;124m\"\u001b[39m]\u001b[38;5;241m.\u001b[39mtoPython()\n\u001b[1;32m    355\u001b[0m )\n\u001b[1;32m    356\u001b[0m thermostat_data[\u001b[38;5;124m\"\u001b[39m\u001b[38;5;124msetpoint_deadband\u001b[39m\u001b[38;5;124m\"\u001b[39m]\u001b[38;5;241m.\u001b[39mappend(\n\u001b[1;32m    357\u001b[0m     result[\u001b[38;5;124m\"\u001b[39m\u001b[38;5;124mdeadband_value\u001b[39m\u001b[38;5;124m\"\u001b[39m]\u001b[38;5;241m.\u001b[39mtoPython()\n\u001b[1;32m    358\u001b[0m )\n",
      "\u001b[0;31mTypeError\u001b[0m: can't multiply sequence by non-int of type 'float'"
     ]
    }
   ],
   "source": [
    "site_metadata = BuildingMetadataLoader(\"test_site/test_build/test_build.ttl\", ontology = 'brick')\n",
    "site_info = site_metadata.get_site_info()\n",
    "thermostat_data = site_metadata.get_thermostat_data()"
   ]
  },
  {
   "cell_type": "code",
   "execution_count": null,
   "metadata": {},
   "outputs": [
    {
     "data": {
      "text/plain": [
       "{'heat_availability': [False, False],\n",
       " 'cool_availability': [True, True],\n",
       " 'heat_tolerance': [-2.0, -2.0],\n",
       " 'cool_tolerance': [2.0, 2.0],\n",
       " 'setpoint_deadband': [1, 1],\n",
       " 'active': [True, True],\n",
       " 'control_group': ['DEPRECATED', 'DEPRECATED'],\n",
       " 'control_type_list': ['stage', 'stage'],\n",
       " 'floor_area_list': [50.0, 50.0],\n",
       " 'window_area_list': [10.5, 10.5],\n",
       " 'azimuth_list': [180, 180],\n",
       " 'tilt_list': [30, 30],\n",
       " 'zone_ids': ['zone1', 'zone2'],\n",
       " 'hvacs': ['hvac1', 'hvac2'],\n",
       " 'setpoint_type': ['double', 'double'],\n",
       " 'fuel_heat_list': ['gas', 'gas'],\n",
       " 'fuel_cool_list': ['electricity', 'electricity'],\n",
       " 'cooling_capacity': [5.0, 5.0],\n",
       " 'heating_capacity': [4.0, 4.0],\n",
       " 'cooling_cop': [3.5, 3.5],\n",
       " 'heating_cop': [3.0, 3.0],\n",
       " 'cooling_electricity': [],\n",
       " 'heating_electricity': [],\n",
       " 'resolution': [1, 1],\n",
       " 'temperature_unit': [rdflib.term.URIRef('http://qudt.org/vocab/unit/DEG_F'),\n",
       "  rdflib.term.URIRef('http://qudt.org/vocab/unit/DEG_F')]}"
      ]
     },
     "execution_count": 10,
     "metadata": {},
     "output_type": "execute_result"
    }
   ],
   "source": [
    "thermostat_data"
   ]
  },
  {
   "cell_type": "code",
   "execution_count": null,
   "metadata": {},
   "outputs": [
    {
     "data": {
      "text/plain": [
       "{'heat_availability': [False],\n",
       " 'cool_availability': [True],\n",
       " 'heat_tolerance': [-2.0],\n",
       " 'cool_tolerance': [2.0],\n",
       " 'setpoint_deadband': [1],\n",
       " 'active': [True],\n",
       " 'control_group': ['DEPRECATED'],\n",
       " 'control_type_list': ['stage'],\n",
       " 'floor_area_list': [50.0],\n",
       " 'window_area_list': [10.5],\n",
       " 'azimuth_list': [180],\n",
       " 'tilt_list': [30],\n",
       " 'zone_ids': ['zone1'],\n",
       " 'hvacs': ['hvac1'],\n",
       " 'setpoint_type': ['double'],\n",
       " 'fuel_heat_list': ['gas'],\n",
       " 'fuel_cool_list': ['electricity'],\n",
       " 'cooling_capacity': [5.0],\n",
       " 'heating_capacity': [4.0],\n",
       " 'cooling_cop': [3.5],\n",
       " 'heating_cop': [3.0],\n",
       " 'cooling_electricity': [],\n",
       " 'heating_electricity': [],\n",
       " 'resolution': [1],\n",
       " 'temperature_unit': [rdflib.term.URIRef('http://qudt.org/vocab/unit/DEG_F')]}"
      ]
     },
     "execution_count": 11,
     "metadata": {},
     "output_type": "execute_result"
    }
   ],
   "source": [
    "site_metadata.get_thermostat_data(for_zone='zone1')"
   ]
  },
  {
   "cell_type": "code",
   "execution_count": null,
   "metadata": {},
   "outputs": [
    {
     "data": {
      "text/plain": [
       "{'tz': 'urn:hpflex/test-site#test-site.timezone',\n",
       " 'latitude': 'urn:hpflex/test-site#test-site.latitude',\n",
       " 'longitude': 'urn:hpflex/test-site#test-site.longitude',\n",
       " 'NOAAstation': 'urn:hpflex/test-site#test-site.noaastation',\n",
       " 'project_id': rdflib.term.URIRef('urn:hpflex/test-site#test-site'),\n",
       " 'site_id': rdflib.term.URIRef('urn:hpflex/test-site#test-site'),\n",
       " 'heat_availability': [False, False],\n",
       " 'cool_availability': [True, True],\n",
       " 'heat_tolerance': [-2.0, -2.0],\n",
       " 'cool_tolerance': [2.0, 2.0],\n",
       " 'setpoint_deadband': [1, 1],\n",
       " 'active': [True, True],\n",
       " 'control_group': ['DEPRECATED', 'DEPRECATED'],\n",
       " 'control_type_list': ['stage', 'stage'],\n",
       " 'floor_area_list': [50.0, 50.0],\n",
       " 'window_area_list': [10.5, 10.5],\n",
       " 'azimuth_list': [180, 180],\n",
       " 'tilt_list': [30, 30],\n",
       " 'zone_ids': ['zone1', 'zone2'],\n",
       " 'hvacs': ['hvac1', 'hvac2'],\n",
       " 'setpoint_type': ['double', 'double'],\n",
       " 'fuel_heat_list': ['gas', 'gas'],\n",
       " 'fuel_cool_list': ['electricity', 'electricity'],\n",
       " 'cooling_capacity': [5.0, 5.0],\n",
       " 'heating_capacity': [4.0, 4.0],\n",
       " 'cooling_cop': [3.5, 3.5],\n",
       " 'heating_cop': [3.0, 3.0],\n",
       " 'cooling_electricity': [],\n",
       " 'heating_electricity': [],\n",
       " 'resolution': [1, 1],\n",
       " 'temperature_unit': [rdflib.term.URIRef('http://qudt.org/vocab/unit/DEG_F'),\n",
       "  rdflib.term.URIRef('http://qudt.org/vocab/unit/DEG_F')]}"
      ]
     },
     "execution_count": 12,
     "metadata": {},
     "output_type": "execute_result"
    }
   ],
   "source": [
    "site_metadata.get_complete_output()"
   ]
  },
  {
   "cell_type": "markdown",
   "metadata": {},
   "source": [
    "# Testing Unit Conversion"
   ]
  },
  {
   "cell_type": "code",
   "execution_count": null,
   "metadata": {},
   "outputs": [
    {
     "data": {
      "text/plain": [
       "3.048"
      ]
     },
     "execution_count": 20,
     "metadata": {},
     "output_type": "execute_result"
    }
   ],
   "source": [
    "convert_units(10, 'FT', 'M')"
   ]
  },
  {
   "cell_type": "code",
   "execution_count": null,
   "metadata": {},
   "outputs": [
    {
     "data": {
      "text/plain": [
       "31.999999999999886"
      ]
     },
     "execution_count": 21,
     "metadata": {},
     "output_type": "execute_result"
    }
   ],
   "source": [
    "convert_units(0, 'DEG_C', 'DEG_F')"
   ]
  },
  {
   "cell_type": "code",
   "execution_count": null,
   "metadata": {},
   "outputs": [
    {
     "data": {
      "text/plain": [
       "273.15"
      ]
     },
     "execution_count": 22,
     "metadata": {},
     "output_type": "execute_result"
    }
   ],
   "source": [
    "convert_units(0, 'DEG_C', 'K')"
   ]
  },
  {
   "cell_type": "code",
   "execution_count": null,
   "metadata": {},
   "outputs": [
    {
     "name": "stdout",
     "output_type": "stream",
     "text": [
      "changing value of  urn:hpflex/test-site#window1_area from http://qudt.org/vocab/unit/FT2 to http://qudt.org/vocab/unit/M2\n",
      "changing value of  urn:hpflex/test-site#window2_area from http://qudt.org/vocab/unit/FT2 to http://qudt.org/vocab/unit/M2\n"
     ]
    },
    {
     "data": {
      "text/plain": [
       "{'heat_availability': [False],\n",
       " 'cool_availability': [True],\n",
       " 'heat_tolerance': [-2.0],\n",
       " 'cool_tolerance': [2.0],\n",
       " 'setpoint_deadband': [1],\n",
       " 'active': [True],\n",
       " 'control_group': ['DEPRECATED'],\n",
       " 'control_type_list': ['stage'],\n",
       " 'floor_area_list': [50.0],\n",
       " 'window_area_list': [0.9754819200000001],\n",
       " 'azimuth_list': [180],\n",
       " 'tilt_list': [30],\n",
       " 'zone_ids': ['zone1'],\n",
       " 'hvacs': ['hvac1'],\n",
       " 'setpoint_type': ['double'],\n",
       " 'fuel_heat_list': ['gas'],\n",
       " 'fuel_cool_list': ['electricity'],\n",
       " 'cooling_capacity': [5.0],\n",
       " 'heating_capacity': [4.0],\n",
       " 'cooling_cop': [3.5],\n",
       " 'heating_cop': [3.0],\n",
       " 'cooling_electricity': [],\n",
       " 'heating_electricity': [],\n",
       " 'resolution': [1],\n",
       " 'temperature_unit': [rdflib.term.URIRef('http://qudt.org/vocab/unit/DEG_F')]}"
      ]
     },
     "execution_count": 23,
     "metadata": {},
     "output_type": "execute_result"
    }
   ],
   "source": [
    "site_metadata.convert_model_to_si()\n",
    "site_metadata.get_thermostat_data(for_zone='zone1')"
   ]
  },
  {
   "cell_type": "code",
   "execution_count": null,
   "metadata": {},
   "outputs": [
    {
     "data": {
      "text/plain": [
       "\"\\nThe temperature unit still shows up as DEG_F, because it is at the units for the zone temperature, \\nwhich does not have a value to convert in the model, it's values are in the DB.\\nit is a reminder to also convert that to C also. We can use the unit_conversion script for any conversions in the db.\\n\""
      ]
     },
     "execution_count": 24,
     "metadata": {},
     "output_type": "execute_result"
    }
   ],
   "source": [
    "\"\"\"\n",
    "The temperature unit still shows up as DEG_F, because it is at the units for the zone temperature, \n",
    "which does not have a value to convert in the model, it's values are in the DB.\n",
    "it is a reminder to also convert that to C also. We can use the unit_conversion script for any conversions in the db.\n",
    "\"\"\""
   ]
  },
  {
   "cell_type": "markdown",
   "metadata": {},
   "source": [
    "# Testing Grafana Dashboarding "
   ]
  },
  {
   "cell_type": "code",
   "execution_count": null,
   "metadata": {},
   "outputs": [],
   "source": [
    "# import yaml \n",
    "# with open('../development_files/creds.yml') as f:\n",
    "#     config = yaml.safe_load(f)\n",
    "\n",
    "# bg = BrickToGrafana(grafana_server=config['grafana_server'], grafana_api_key = config['grafana_api_key'], datasource=config['datasource'], ttl_path = 'test-brick-model.ttl')"
   ]
  },
  {
   "cell_type": "code",
   "execution_count": null,
   "metadata": {},
   "outputs": [
    {
     "data": {
      "text/plain": [
       "Dashboard(title='AQL from brick', annotations=Annotations(list=[]), description='Zone-based dashboard generated from Brick model', editable=True, gnetId=None, graphTooltip=0, hideControls=False, id=None, inputs=[], links=[], panels=[], refresh='10s', rows=[], schemaVersion=12, sharedCrosshair=False, style='dark', tags=['brick'], templating=Templating(list=[]), time=Time(start='now-1h', end='now'), timePicker=TimePicker(refreshIntervals=['5s', '10s', '30s', '1m', '5m', '15m', '30m', '1h', '2h', '1d'], timeOptions=['5m', '15m', '1h', '6h', '12h', '24h', '2d', '7d', '30d'], nowDelay=None, hidden=False), timezone='browser', version=0, uid=None)"
      ]
     },
     "execution_count": 23,
     "metadata": {},
     "output_type": "execute_result"
    }
   ],
   "source": [
    "# bg.create_dashboard('AQL from brick')"
   ]
  },
  {
   "cell_type": "code",
   "execution_count": null,
   "metadata": {},
   "outputs": [],
   "source": [
    "# Grafana not set up, upload won't work\n",
    "# bg.upload_dashboard(message = 'testing upload')"
   ]
  }
 ],
 "metadata": {
  "kernelspec": {
   "display_name": "creating-brick-model",
   "language": "python",
   "name": "python3"
  },
  "language_info": {
   "codemirror_mode": {
    "name": "ipython",
    "version": 3
   },
   "file_extension": ".py",
   "mimetype": "text/x-python",
   "name": "python",
   "nbconvert_exporter": "python",
   "pygments_lexer": "ipython3",
   "version": "3.10.0"
  }
 },
 "nbformat": 4,
 "nbformat_minor": 2
}
