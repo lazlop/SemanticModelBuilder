{
 "cells": [
  {
   "cell_type": "code",
   "execution_count": 1,
   "metadata": {},
   "outputs": [
    {
     "name": "stderr",
     "output_type": "stream",
     "text": [
      "CRITICAL:root:Install the 'bacnet-ingress' module, e.g. 'pip install buildingmotif[bacnet-ingress]'\n"
     ]
    }
   ],
   "source": [
    "# import sys\n",
    "# sys.path.insert(0, '..')\n",
    "from semantic_mpc_interface import (\n",
    "    LoadModel,\n",
    "    get_thermostat_data,\n",
    "    HPFlexSurvey,\n",
    "    convert_units,\n",
    "    SHACLHandler,\n",
    "    inline_shapes\n",
    "    # add_connection\n",
    ")\n",
    "from buildingmotif.namespaces import BRICK, RDF, S223\n",
    "from rdflib import URIRef\n",
    "from buildingmotif import BuildingMOTIF\n",
    "from buildingmotif.dataclasses import Library\n",
    "import csv\n",
    "from pyshacl.rdfutil import clone\n",
    "\n",
    "# SELECT ONTOLOGY \n",
    "ontology = 's223'\n",
    "\n",
    "# base path\n",
    "base_path = f'{ontology}-test_site/test_build'"
   ]
  },
  {
   "cell_type": "markdown",
   "metadata": {},
   "source": [
    "# Testing the Model Builder\n",
    "\n",
    "ModelBuilder has been deprecated in favor of just survey based workflow. May be readded in the future"
   ]
  },
  {
   "cell_type": "markdown",
   "metadata": {},
   "source": [
    "# Testing the Survey Workflow"
   ]
  },
  {
   "cell_type": "code",
   "execution_count": 2,
   "metadata": {},
   "outputs": [],
   "source": [
    "# Please disregard excessive outputs (logging and warnings)\n",
    "# TODO: Figure out how to configure these in building motif \n",
    "import logging\n",
    "logging.disable(logging.CRITICAL)\n",
    "import warnings\n",
    "warnings.filterwarnings(\"ignore\")"
   ]
  },
  {
   "cell_type": "code",
   "execution_count": 3,
   "metadata": {},
   "outputs": [
    {
     "name": "stdout",
     "output_type": "stream",
     "text": [
      "removing dependency:  space\n",
      "removing dependency:  window\n",
      "removing dependency:  hp-rtu\n",
      "removing dependency:  tstat\n",
      "values: dict_values([])\n",
      "values: dict_values(['area-value'])\n",
      "values: dict_values(['heating_capacity-value', 'cooling_COP-value', 'heating_COP-value', 'cooling_capacity-value'])\n",
      "values: dict_values(['tolerance-value', 'resolution-value', 'setpoint_deadband-value', 'active-value', 'stage_count-value'])\n",
      "values: dict_values(['area-value', 'azimuth-value', 'tilt-value'])\n",
      "values: dict_values(['longitude-value', 'latitude-value', 'noaastation-value', 'timezone-value'])\n",
      "{'site_id': 's223-test_site', 'hvac_type': 'hp-rtu', 'variable_params': {'hvac-zone': {}, 'space': {'area': '<name>-area'}, 'hp-rtu': {'cooling_capacity': '<name>-cooling_capacity', 'heating_COP': '<name>-heating_COP', 'heating_capacity': '<name>-heating_capacity', 'cooling_COP': '<name>-cooling_COP'}, 'tstat': {'setpoint_deadband': '<name>-setpoint_deadband', 'active': '<name>-active', 'tolerance': '<name>-tolerance', 'resolution': '<name>-resolution', 'stage_count': '<name>-stage_count'}, 'window': {'azimuth': '<name>-azimuth', 'area': '<name>-area', 'tilt': '<name>-tilt'}, 'site': {'longitude': '<name>-longitude', 'latitude': '<name>-latitude', 'noaastation': '<name>-noaastation', 'timezone': '<name>-timezone'}}, 'param_mapping': {'hvac-zone': {}, 'space': {'area': 'area-value', 'area-name': 'area'}, 'hp-rtu': {'heating_capacity': 'heating_capacity-value', 'cooling_COP': 'cooling_COP-value', 'heating_COP': 'heating_COP-value', 'cooling_capacity': 'cooling_capacity-value', 'cooling_capacity-name': 'cooling_capacity', 'heating_COP-name': 'heating_COP', 'heating_capacity-name': 'heating_capacity', 'cooling_COP-name': 'cooling_COP'}, 'tstat': {'tolerance': 'tolerance-value', 'resolution': 'resolution-value', 'setpoint_deadband': 'setpoint_deadband-value', 'active': 'active-value', 'stage_count': 'stage_count-value', 'setpoint_deadband-name': 'setpoint_deadband', 'active-name': 'active', 'tolerance-name': 'tolerance', 'resolution-name': 'resolution', 'stage_count-name': 'stage_count'}, 'window': {'area': 'area-value', 'azimuth': 'azimuth-value', 'tilt': 'tilt-value', 'azimuth-name': 'azimuth', 'area-name': 'area', 'tilt-name': 'tilt'}, 'site': {'longitude': 'longitude-value', 'latitude': 'latitude-value', 'noaastation': 'noaastation-value', 'timezone': 'timezone-value', 'longitude-name': 'longitude', 'latitude-name': 'latitude', 'noaastation-name': 'noaastation', 'timezone-name': 'timezone'}}, 'hvacs_feed_hvacs': {}, 'hvacs_feed_zones': {'hvac_1': ['zone_1'], 'hvac_2': ['zone_2'], 'hvac_3': ['zone_3']}, 'zones_contain_spaces': {'zone_1': ['space_1_1', 'space_1_2'], 'zone_2': ['space_2_1'], 'zone_3': ['space_3_1']}, 'zones_contain_windows': {'zone_1': ['window_1_1', 'window_1_2'], 'zone_2': ['window_2_1', 'window_2_2'], 'zone_3': ['window_3_1', 'window_3_2', 'window_3_3']}}\n"
     ]
    }
   ],
   "source": [
    "# Creating survey, allow overwrite if there is something already there\n",
    "s = HPFlexSurvey(base_path.split('/')[0],base_path.split('/')[1],'.', overwrite=True, ontology=ontology,\n",
    "                 template_dict = {'zone': 'hvac-zone',\n",
    "                                  \"space\": \"space\",\n",
    "                                  \"hvac\": \"hp-rtu\",\n",
    "                                  \"tstat\": \"tstat\",\n",
    "                                  \"window\": \"window\",\n",
    "                                  \"site\": \"site\" })\n",
    "\n",
    "# Generating a simple building structure that prefills csv files. \n",
    "s.easy_config(zone_space_window_list=[(2,2),(1,2),(1,3)])\n",
    "# Now check test_site/test_build to look at survey files\n"
   ]
  },
  {
   "cell_type": "code",
   "execution_count": 4,
   "metadata": {},
   "outputs": [],
   "source": [
    "# Will just fill the columns programmatically for testing, csv should be filled out otherwise\n",
    "import sys\n",
    "sys.path.insert(0,'../examples')\n",
    "from example_prefill_usage import prefill_csv_survey"
   ]
  },
  {
   "cell_type": "code",
   "execution_count": 5,
   "metadata": {},
   "outputs": [
    {
     "name": "stdout",
     "output_type": "stream",
     "text": [
      "Loading config from: s223-test_site/test_build/config.json\n",
      "Found CSV files: ['zone', 'site', 'window', 'hvac', 'point_list', 'tstat', 'space']\n",
      "Filled 10 empty cells in zone.csv\n",
      "Filled 4 empty cells across 4 columns in site.csv\n",
      "Filled 21 empty cells across 3 columns in window.csv\n",
      "Filled 12 empty cells across 4 columns in hvac.csv\n",
      "No empty cells found in point_list.csv\n",
      "Filled 15 empty cells across 5 columns in tstat.csv\n",
      "Filled 4 empty cells across 1 columns in space.csv\n"
     ]
    }
   ],
   "source": [
    "prefill_csv_survey(base_path)"
   ]
  },
  {
   "cell_type": "code",
   "execution_count": 6,
   "metadata": {},
   "outputs": [
    {
     "name": "stdout",
     "output_type": "stream",
     "text": [
      "Expanded CSV shape: (6, 5)\n",
      "New columns added: []\n",
      "Expanded CSV shape: (4, 4)\n",
      "New columns added: ['area']\n",
      "Expanded CSV shape: (3, 13)\n",
      "New columns added: ['cooling_capacity', 'heating_COP', 'heating_capacity', 'cooling_COP']\n",
      "Expanded CSV shape: (3, 14)\n",
      "New columns added: ['setpoint_deadband', 'active', 'tolerance', 'resolution', 'stage_count']\n",
      "Expanded CSV shape: (7, 10)\n",
      "New columns added: ['azimuth', 'area', 'tilt']\n",
      "Expanded CSV shape: (1, 9)\n",
      "New columns added: ['longitude', 'latitude', 'noaastation', 'timezone']\n"
     ]
    }
   ],
   "source": [
    "# Reading csv\n",
    "s.read_csv()"
   ]
  },
  {
   "cell_type": "markdown",
   "metadata": {},
   "source": [
    "# Testing SHACL Generation and Validation"
   ]
  },
  {
   "cell_type": "code",
   "execution_count": 7,
   "metadata": {},
   "outputs": [
    {
     "data": {
      "text/plain": [
       "<Graph identifier=6a4d4c9d-9d47-4ad7-bb29-f4a815b30cdb (<class 'rdflib.graph.Graph'>)>"
      ]
     },
     "execution_count": 7,
     "metadata": {},
     "output_type": "execute_result"
    }
   ],
   "source": [
    "og = clone.clone_graph(s.graph)\n",
    "# Create handler\n",
    "handler = SHACLHandler(ontology=ontology)\n",
    "\n",
    "# Generate shapes\n",
    "handler.generate_shapes()\n",
    "\n",
    "# Save shapes\n",
    "handler.save_shapes(f'{base_path}/shapes.ttl')\n",
    "# also save more human readable shapes\n",
    "inline_shapes(handler.shapes_graph).serialize(f\"{base_path}/inlined_shapes.ttl\")\n",
    "\n",
    "# Run inference on model\n",
    "inferred_graph = handler.infer(s.graph)\n",
    "\n",
    "inferred_graph.serialize(f'{base_path}/reasoned.ttl', format = 'ttl')\n",
    "# if not validation_result.valid:\n",
    "#     print(\"Validation failed:\")\n",
    "#     print(validation_result.report_string)"
   ]
  },
  {
   "cell_type": "code",
   "execution_count": 8,
   "metadata": {},
   "outputs": [
    {
     "name": "stdout",
     "output_type": "stream",
     "text": [
      "@prefix ns1: <urn:hpflex/shapes#> .\n",
      "\n",
      "<urn:hpflex/s223-test_site#hvac_1> a ns1:hp-rtu ;\n",
      "    ns1:air-connected-to <urn:hpflex/s223-test_site#zone_1> ;\n",
      "    ns1:has-point <urn:hpflex/s223-test_site#hvac_1-cooling_COP>,\n",
      "        <urn:hpflex/s223-test_site#hvac_1-cooling_capacity>,\n",
      "        <urn:hpflex/s223-test_site#hvac_1-heating_COP>,\n",
      "        <urn:hpflex/s223-test_site#hvac_1-heating_capacity> .\n",
      "\n",
      "<urn:hpflex/s223-test_site#hvac_2> a ns1:hp-rtu ;\n",
      "    ns1:air-connected-to <urn:hpflex/s223-test_site#zone_2> ;\n",
      "    ns1:has-point <urn:hpflex/s223-test_site#hvac_2-cooling_COP>,\n",
      "        <urn:hpflex/s223-test_site#hvac_2-cooling_capacity>,\n",
      "        <urn:hpflex/s223-test_site#hvac_2-heating_COP>,\n",
      "        <urn:hpflex/s223-test_site#hvac_2-heating_capacity> .\n",
      "\n",
      "<urn:hpflex/s223-test_site#hvac_3> a ns1:hp-rtu ;\n",
      "    ns1:air-connected-to <urn:hpflex/s223-test_site#zone_3> ;\n",
      "    ns1:has-point <urn:hpflex/s223-test_site#hvac_3-cooling_COP>,\n",
      "        <urn:hpflex/s223-test_site#hvac_3-cooling_capacity>,\n",
      "        <urn:hpflex/s223-test_site#hvac_3-heating_COP>,\n",
      "        <urn:hpflex/s223-test_site#hvac_3-heating_capacity> .\n",
      "\n",
      "<urn:hpflex/s223-test_site#s223-test_site> a ns1:site ;\n",
      "    ns1:has-point <urn:hpflex/s223-test_site#s223-test_site-latitude>,\n",
      "        <urn:hpflex/s223-test_site#s223-test_site-longitude>,\n",
      "        <urn:hpflex/s223-test_site#s223-test_site-noaastation>,\n",
      "        <urn:hpflex/s223-test_site#s223-test_site-timezone> .\n",
      "\n",
      "<urn:hpflex/s223-test_site#tstat_zone_1> a ns1:tstat ;\n",
      "    ns1:has-location <urn:hpflex/s223-test_site#zone_1> ;\n",
      "    ns1:has-point <urn:hpflex/s223-test_site#tstat_zone_1-active>,\n",
      "        <urn:hpflex/s223-test_site#tstat_zone_1-resolution>,\n",
      "        <urn:hpflex/s223-test_site#tstat_zone_1-setpoint_deadband>,\n",
      "        <urn:hpflex/s223-test_site#tstat_zone_1-stage_count>,\n",
      "        <urn:hpflex/s223-test_site#tstat_zone_1-tolerance> .\n",
      "\n",
      "<urn:hpflex/s223-test_site#tstat_zone_2> a ns1:tstat ;\n",
      "    ns1:has-location <urn:hpflex/s223-test_site#zone_2> ;\n",
      "    ns1:has-point <urn:hpflex/s223-test_site#tstat_zone_2-active>,\n",
      "        <urn:hpflex/s223-test_site#tstat_zone_2-resolution>,\n",
      "        <urn:hpflex/s223-test_site#tstat_zone_2-setpoint_deadband>,\n",
      "        <urn:hpflex/s223-test_site#tstat_zone_2-stage_count>,\n",
      "        <urn:hpflex/s223-test_site#tstat_zone_2-tolerance> .\n",
      "\n",
      "<urn:hpflex/s223-test_site#tstat_zone_3> a ns1:tstat ;\n",
      "    ns1:has-location <urn:hpflex/s223-test_site#zone_3> ;\n",
      "    ns1:has-point <urn:hpflex/s223-test_site#tstat_zone_3-active>,\n",
      "        <urn:hpflex/s223-test_site#tstat_zone_3-resolution>,\n",
      "        <urn:hpflex/s223-test_site#tstat_zone_3-setpoint_deadband>,\n",
      "        <urn:hpflex/s223-test_site#tstat_zone_3-stage_count>,\n",
      "        <urn:hpflex/s223-test_site#tstat_zone_3-tolerance> .\n",
      "\n",
      "<urn:hpflex/s223-test_site#window_2_1> a ns1:window ;\n",
      "    ns1:has-point <urn:hpflex/s223-test_site#window_2_1-area>,\n",
      "        <urn:hpflex/s223-test_site#window_2_1-azimuth>,\n",
      "        <urn:hpflex/s223-test_site#window_2_1-tilt> .\n",
      "\n",
      "<urn:hpflex/s223-test_site#window_3_1> a ns1:window ;\n",
      "    ns1:has-point <urn:hpflex/s223-test_site#window_3_1-area>,\n",
      "        <urn:hpflex/s223-test_site#window_3_1-azimuth>,\n",
      "        <urn:hpflex/s223-test_site#window_3_1-tilt> .\n",
      "\n",
      "<urn:hpflex/s223-test_site#window_3_2> a ns1:window ;\n",
      "    ns1:has-point <urn:hpflex/s223-test_site#window_3_2-area>,\n",
      "        <urn:hpflex/s223-test_site#window_3_2-azimuth>,\n",
      "        <urn:hpflex/s223-test_site#window_3_2-tilt> .\n",
      "\n",
      "<urn:hpflex/s223-test_site#hvac_1-cooling_COP> a ns1:cooling-COP ;\n",
      "    ns1:has-value \"1.0\" .\n",
      "\n",
      "<urn:hpflex/s223-test_site#hvac_1-cooling_capacity> a ns1:cooling-capacity ;\n",
      "    ns1:has-value \"1.0\" .\n",
      "\n",
      "<urn:hpflex/s223-test_site#hvac_1-heating_COP> a ns1:heating-COP ;\n",
      "    ns1:has-value \"1.0\" .\n",
      "\n",
      "<urn:hpflex/s223-test_site#hvac_1-heating_capacity> a ns1:heating-capacity ;\n",
      "    ns1:has-value \"1.0\" .\n",
      "\n",
      "<urn:hpflex/s223-test_site#hvac_2-cooling_COP> a ns1:cooling-COP ;\n",
      "    ns1:has-value \"2.0\" .\n",
      "\n",
      "<urn:hpflex/s223-test_site#hvac_2-cooling_capacity> a ns1:cooling-capacity ;\n",
      "    ns1:has-value \"2.0\" .\n",
      "\n",
      "<urn:hpflex/s223-test_site#hvac_2-heating_COP> a ns1:heating-COP ;\n",
      "    ns1:has-value \"2.0\" .\n",
      "\n",
      "<urn:hpflex/s223-test_site#hvac_2-heating_capacity> a ns1:heating-capacity ;\n",
      "    ns1:has-value \"2.0\" .\n",
      "\n",
      "<urn:hpflex/s223-test_site#hvac_3-cooling_COP> a ns1:cooling-COP ;\n",
      "    ns1:has-value \"3.0\" .\n",
      "\n",
      "<urn:hpflex/s223-test_site#hvac_3-cooling_capacity> a ns1:cooling-capacity ;\n",
      "    ns1:has-value \"3.0\" .\n",
      "\n",
      "<urn:hpflex/s223-test_site#hvac_3-heating_COP> a ns1:heating-COP ;\n",
      "    ns1:has-value \"3.0\" .\n",
      "\n",
      "<urn:hpflex/s223-test_site#hvac_3-heating_capacity> a ns1:heating-capacity ;\n",
      "    ns1:has-value \"3.0\" .\n",
      "\n",
      "<urn:hpflex/s223-test_site#s223-test_site-latitude> a ns1:latitude ;\n",
      "    ns1:has-value \"1.0\" .\n",
      "\n",
      "<urn:hpflex/s223-test_site#s223-test_site-longitude> a ns1:longitude ;\n",
      "    ns1:has-value \"1.0\" .\n",
      "\n",
      "<urn:hpflex/s223-test_site#s223-test_site-noaastation> a ns1:noaastation ;\n",
      "    ns1:has-value \"1.0\" .\n",
      "\n",
      "<urn:hpflex/s223-test_site#s223-test_site-timezone> a ns1:timezone ;\n",
      "    ns1:has-value \"1.0\" .\n",
      "\n",
      "<urn:hpflex/s223-test_site#space_1_1> a ns1:space ;\n",
      "    ns1:has-point <urn:hpflex/s223-test_site#space_1_1-area> .\n",
      "\n",
      "<urn:hpflex/s223-test_site#space_1_1-area> a ns1:area ;\n",
      "    ns1:has-value \"1.0\" .\n",
      "\n",
      "<urn:hpflex/s223-test_site#space_1_2> a ns1:space ;\n",
      "    ns1:has-point <urn:hpflex/s223-test_site#space_1_2-area> .\n",
      "\n",
      "<urn:hpflex/s223-test_site#space_1_2-area> a ns1:area ;\n",
      "    ns1:has-value \"2.0\" .\n",
      "\n",
      "<urn:hpflex/s223-test_site#space_2_1> a ns1:space ;\n",
      "    ns1:has-point <urn:hpflex/s223-test_site#space_2_1-area> .\n",
      "\n",
      "<urn:hpflex/s223-test_site#space_2_1-area> a ns1:area ;\n",
      "    ns1:has-value \"3.0\" .\n",
      "\n",
      "<urn:hpflex/s223-test_site#space_3_1> a ns1:space ;\n",
      "    ns1:has-point <urn:hpflex/s223-test_site#space_3_1-area> .\n",
      "\n",
      "<urn:hpflex/s223-test_site#space_3_1-area> a ns1:area ;\n",
      "    ns1:has-value \"4.0\" .\n",
      "\n",
      "<urn:hpflex/s223-test_site#tstat_zone_1-active> a ns1:tstat-active ;\n",
      "    ns1:has-value \"1.0\" .\n",
      "\n",
      "<urn:hpflex/s223-test_site#tstat_zone_1-resolution> a ns1:tstat-resolution ;\n",
      "    ns1:has-value \"1.0\" .\n",
      "\n",
      "<urn:hpflex/s223-test_site#tstat_zone_1-setpoint_deadband> a ns1:tstat-deadband ;\n",
      "    ns1:has-value \"1.0\" .\n",
      "\n",
      "<urn:hpflex/s223-test_site#tstat_zone_1-stage_count> a ns1:tstat-stage_count ;\n",
      "    ns1:has-value \"1.0\" .\n",
      "\n",
      "<urn:hpflex/s223-test_site#tstat_zone_1-tolerance> a ns1:tstat-tolerance ;\n",
      "    ns1:has-value \"1.0\" .\n",
      "\n",
      "<urn:hpflex/s223-test_site#tstat_zone_2-active> a ns1:tstat-active ;\n",
      "    ns1:has-value \"2.0\" .\n",
      "\n",
      "<urn:hpflex/s223-test_site#tstat_zone_2-resolution> a ns1:tstat-resolution ;\n",
      "    ns1:has-value \"2.0\" .\n",
      "\n",
      "<urn:hpflex/s223-test_site#tstat_zone_2-setpoint_deadband> a ns1:tstat-deadband ;\n",
      "    ns1:has-value \"2.0\" .\n",
      "\n",
      "<urn:hpflex/s223-test_site#tstat_zone_2-stage_count> a ns1:tstat-stage_count ;\n",
      "    ns1:has-value \"2.0\" .\n",
      "\n",
      "<urn:hpflex/s223-test_site#tstat_zone_2-tolerance> a ns1:tstat-tolerance ;\n",
      "    ns1:has-value \"2.0\" .\n",
      "\n",
      "<urn:hpflex/s223-test_site#tstat_zone_3-active> a ns1:tstat-active ;\n",
      "    ns1:has-value \"3.0\" .\n",
      "\n",
      "<urn:hpflex/s223-test_site#tstat_zone_3-resolution> a ns1:tstat-resolution ;\n",
      "    ns1:has-value \"3.0\" .\n",
      "\n",
      "<urn:hpflex/s223-test_site#tstat_zone_3-setpoint_deadband> a ns1:tstat-deadband ;\n",
      "    ns1:has-value \"3.0\" .\n",
      "\n",
      "<urn:hpflex/s223-test_site#tstat_zone_3-stage_count> a ns1:tstat-stage_count ;\n",
      "    ns1:has-value \"3.0\" .\n",
      "\n",
      "<urn:hpflex/s223-test_site#tstat_zone_3-tolerance> a ns1:tstat-tolerance ;\n",
      "    ns1:has-value \"3.0\" .\n",
      "\n",
      "<urn:hpflex/s223-test_site#window_1_1-area> a ns1:area ;\n",
      "    ns1:has-value \"1.0\" .\n",
      "\n",
      "<urn:hpflex/s223-test_site#window_1_1-azimuth> a ns1:azimuth ;\n",
      "    ns1:has-value \"1.0\" .\n",
      "\n",
      "<urn:hpflex/s223-test_site#window_1_1-tilt> a ns1:tilt ;\n",
      "    ns1:has-value \"1.0\" .\n",
      "\n",
      "<urn:hpflex/s223-test_site#window_1_2-area> a ns1:area ;\n",
      "    ns1:has-value \"2.0\" .\n",
      "\n",
      "<urn:hpflex/s223-test_site#window_1_2-azimuth> a ns1:azimuth ;\n",
      "    ns1:has-value \"2.0\" .\n",
      "\n",
      "<urn:hpflex/s223-test_site#window_1_2-tilt> a ns1:tilt ;\n",
      "    ns1:has-value \"2.0\" .\n",
      "\n",
      "<urn:hpflex/s223-test_site#window_2_1-area> a ns1:area ;\n",
      "    ns1:has-value \"3.0\" .\n",
      "\n",
      "<urn:hpflex/s223-test_site#window_2_1-azimuth> a ns1:azimuth ;\n",
      "    ns1:has-value \"3.0\" .\n",
      "\n",
      "<urn:hpflex/s223-test_site#window_2_1-tilt> a ns1:tilt ;\n",
      "    ns1:has-value \"3.0\" .\n",
      "\n",
      "<urn:hpflex/s223-test_site#window_2_2-area> a ns1:area ;\n",
      "    ns1:has-value \"4.0\" .\n",
      "\n",
      "<urn:hpflex/s223-test_site#window_2_2-azimuth> a ns1:azimuth ;\n",
      "    ns1:has-value \"4.0\" .\n",
      "\n",
      "<urn:hpflex/s223-test_site#window_2_2-tilt> a ns1:tilt ;\n",
      "    ns1:has-value \"4.0\" .\n",
      "\n",
      "<urn:hpflex/s223-test_site#window_3_1-area> a ns1:area ;\n",
      "    ns1:has-value \"5.0\" .\n",
      "\n",
      "<urn:hpflex/s223-test_site#window_3_1-azimuth> a ns1:azimuth ;\n",
      "    ns1:has-value \"5.0\" .\n",
      "\n",
      "<urn:hpflex/s223-test_site#window_3_1-tilt> a ns1:tilt ;\n",
      "    ns1:has-value \"5.0\" .\n",
      "\n",
      "<urn:hpflex/s223-test_site#window_3_2-area> a ns1:area ;\n",
      "    ns1:has-value \"6.0\" .\n",
      "\n",
      "<urn:hpflex/s223-test_site#window_3_2-azimuth> a ns1:azimuth ;\n",
      "    ns1:has-value \"6.0\" .\n",
      "\n",
      "<urn:hpflex/s223-test_site#window_3_2-tilt> a ns1:tilt ;\n",
      "    ns1:has-value \"6.0\" .\n",
      "\n",
      "<urn:hpflex/s223-test_site#window_3_3-area> a ns1:area ;\n",
      "    ns1:has-value \"7.0\" .\n",
      "\n",
      "<urn:hpflex/s223-test_site#window_3_3-azimuth> a ns1:azimuth ;\n",
      "    ns1:has-value \"7.0\" .\n",
      "\n",
      "<urn:hpflex/s223-test_site#window_3_3-tilt> a ns1:tilt ;\n",
      "    ns1:has-value \"7.0\" .\n",
      "\n",
      "<urn:hpflex/s223-test_site#window_1_1> a ns1:window ;\n",
      "    ns1:has-point <urn:hpflex/s223-test_site#window_1_1-area>,\n",
      "        <urn:hpflex/s223-test_site#window_1_1-azimuth>,\n",
      "        <urn:hpflex/s223-test_site#window_1_1-tilt> .\n",
      "\n",
      "<urn:hpflex/s223-test_site#window_1_2> a ns1:window ;\n",
      "    ns1:has-point <urn:hpflex/s223-test_site#window_1_2-area>,\n",
      "        <urn:hpflex/s223-test_site#window_1_2-azimuth>,\n",
      "        <urn:hpflex/s223-test_site#window_1_2-tilt> .\n",
      "\n",
      "<urn:hpflex/s223-test_site#window_2_2> a ns1:window ;\n",
      "    ns1:has-point <urn:hpflex/s223-test_site#window_2_2-area>,\n",
      "        <urn:hpflex/s223-test_site#window_2_2-azimuth>,\n",
      "        <urn:hpflex/s223-test_site#window_2_2-tilt> .\n",
      "\n",
      "<urn:hpflex/s223-test_site#window_3_3> a ns1:window ;\n",
      "    ns1:has-point <urn:hpflex/s223-test_site#window_3_3-area>,\n",
      "        <urn:hpflex/s223-test_site#window_3_3-azimuth>,\n",
      "        <urn:hpflex/s223-test_site#window_3_3-tilt> .\n",
      "\n",
      "<urn:hpflex/s223-test_site#zone_1> a ns1:hvac-zone ;\n",
      "    ns1:air-connected-to <urn:hpflex/s223-test_site#window_1_1>,\n",
      "        <urn:hpflex/s223-test_site#window_1_2> ;\n",
      "    ns1:has-space <urn:hpflex/s223-test_site#space_1_1>,\n",
      "        <urn:hpflex/s223-test_site#space_1_2> ;\n",
      "    ns1:has-window <urn:hpflex/s223-test_site#window_1_1>,\n",
      "        <urn:hpflex/s223-test_site#window_1_2> .\n",
      "\n",
      "<urn:hpflex/s223-test_site#zone_2> a ns1:hvac-zone ;\n",
      "    ns1:air-connected-to <urn:hpflex/s223-test_site#window_2_2> ;\n",
      "    ns1:has-space <urn:hpflex/s223-test_site#space_2_1> ;\n",
      "    ns1:has-window <urn:hpflex/s223-test_site#window_2_2> .\n",
      "\n",
      "<urn:hpflex/s223-test_site#zone_3> a ns1:hvac-zone ;\n",
      "    ns1:air-connected-to <urn:hpflex/s223-test_site#window_3_3> ;\n",
      "    ns1:has-space <urn:hpflex/s223-test_site#space_3_1> ;\n",
      "    ns1:has-window <urn:hpflex/s223-test_site#window_3_3> .\n",
      "\n",
      "\n"
     ]
    }
   ],
   "source": [
    "# lots of new inferred information\n",
    "(inferred_graph-og).print()"
   ]
  },
  {
   "cell_type": "markdown",
   "metadata": {},
   "source": [
    "# Testing get Metadata"
   ]
  },
  {
   "cell_type": "code",
   "execution_count": 9,
   "metadata": {},
   "outputs": [],
   "source": [
    "# still working on loader, will clean up class, but functionality about right\n",
    "loader = LoadModel(f\"{base_path}/reasoned.ttl\", \n",
    "                   template_dict={'sites':'site', 'zones': 'hvac-zone'}, \n",
    "                   ontology = ontology)\n",
    "site_info = loader.get_all_building_objects()"
   ]
  },
  {
   "cell_type": "code",
   "execution_count": 10,
   "metadata": {},
   "outputs": [],
   "source": [
    "df = loader._get_dataframe()"
   ]
  },
  {
   "cell_type": "code",
   "execution_count": 11,
   "metadata": {},
   "outputs": [],
   "source": [
    "from semantic_mpc_interface.namespaces import * \n",
    "from semantic_mpc_interface.utils import * \n",
    "\n",
    "main_entity_col = 'name'\n",
    "\n",
    "# Mapping columns to templates (which are also HPFS types)\n",
    "entity_types = {}\n",
    "attr_types = {}\n",
    "\n",
    "# Type of entity and types of related attributes\n",
    "entity_attr_types = {}\n",
    "entity_entity_types = {}\n",
    "\n",
    "# # May delete, not sure if I need this\n",
    "# entity_class_relation = {}\n",
    "value_templates,entity_templates = get_template_types(ontology='s223')\n",
    "\n",
    "# mapping entity cols to related point cols in df\n",
    "entity_attr_cols = {}\n",
    "\n",
    "# mapping entity cols to related entity cols in df\n",
    "entity_entity_cols = {}\n",
    "row = df.iloc[0]\n",
    "# get all the entity types\n",
    "for col, entity in row.items():\n",
    "    for p, o in loader.g.predicate_objects(entity):\n",
    "        # o is entity class\n",
    "        if p == A and (loader.g.compute_qname(o)[1]) == URIRef(HPFS):\n",
    "            entity_type = get_uri_name(loader.g,o)\n",
    "            if entity_type in entity_templates:\n",
    "                # getting entity types\n",
    "                entity_types[col] = entity_type\n",
    "            if entity_type in value_templates:\n",
    "                # getting value types\n",
    "                attr_types[col] = entity_type\n",
    "            continue\n",
    "        # o is an attribute of entity\n",
    "        if p == HPFS['has-point']:\n",
    "            # getting entity attr cols\n",
    "            if col not in entity_attr_cols.keys():\n",
    "                entity_attr_cols[col] = set()\n",
    "            # Should always be a single value, may have to validate this\n",
    "            col_names = row.index[row == o]\n",
    "            if len(col_names) != 1:\n",
    "                print(f'incorrect amount of columns returned for points {o}')\n",
    "                print(col_names)\n",
    "                print(o)\n",
    "            else:\n",
    "                entity_attr_cols[col].add(col_names.values[0])\n",
    "        for p2, o2 in loader.g.predicate_objects(o):\n",
    "            # getting entity relations if o is another defined entity\n",
    "            if p2 == A and (loader.g.compute_qname(o2)[1]) == URIRef(HPFS):\n",
    "                if o2 in [ HPFS[val] for val in entity_templates ]:\n",
    "                    if col not in entity_entity_cols:\n",
    "                        entity_entity_cols[col] = set()\n",
    "                    # no self relations allowed\n",
    "                    col_names = row.index[row == o]\n",
    "                    if len(col_names) != 1:\n",
    "                        print(f'incorrect amount of columns returned for {o}')\n",
    "                    else:\n",
    "                        col_value = col_names.values[0]\n",
    "                        if col_value != col:\n",
    "                            entity_entity_cols[col].add(col_value)\n",
    "\n",
    "#change sets to iterables\n",
    "entity_attr_cols = {entity:list(attrs) for entity, attrs in entity_attr_cols.items()}\n",
    "entity_entity_cols = {entity:list(other_entities) for entity, other_entities in entity_entity_cols.items()}\n",
    "\n",
    "# reshape direction relationships to make direction from main template of focus\n",
    "reverse_related_to = []\n",
    "for entity, entities in entity_entity_cols.items():\n",
    "    if main_entity_col in entities:\n",
    "        reverse_related_to.append(entity)\n",
    "        entities.remove(main_entity_col)\n",
    "if len(reverse_related_to) > 0:\n",
    "    entity_entity_cols[main_entity_col] += reverse_related_to\n",
    "\n",
    "# creating type dictionaries to dynamically instantiate classes\n",
    "entity_attr_types = { \n",
    "    entity_types[entity_col]: [\n",
    "        attr_types[val_col] for val_col in val_cols\n",
    "    ] \n",
    "    for entity_col, val_cols in entity_attr_cols.items()\n",
    "}\n",
    "entity_entity_types = { \n",
    "    entity_types[entity_col]: [\n",
    "        entity_types[other_entity_col] for other_entity_col in other_entity_cols\n",
    "    ] \n",
    "    for entity_col, other_entity_cols in entity_entity_cols.items()\n",
    "}\n"
   ]
  },
  {
   "cell_type": "code",
   "execution_count": 12,
   "metadata": {},
   "outputs": [
    {
     "data": {
      "text/plain": [
       "Index(['hvac', 'hvac_cooling_COP', 'hvac_cooling_COP_aspects_in',\n",
       "       'hvac_cooling_COP_unit', 'hvac_cooling_COP_value',\n",
       "       'hvac_cooling_capacity', 'hvac_cooling_capacity_aspects_in',\n",
       "       'hvac_cooling_capacity_unit', 'hvac_cooling_capacity_value',\n",
       "       'hvac_heating_COP', 'hvac_heating_COP_aspects_in',\n",
       "       'hvac_heating_COP_unit', 'hvac_heating_COP_value',\n",
       "       'hvac_heating_capacity', 'hvac_heating_capacity_aspects_in',\n",
       "       'hvac_heating_capacity_unit', 'hvac_heating_capacity_value', 'name',\n",
       "       'space', 'space_area', 'space_area_unit', 'space_area_value', 'tstat',\n",
       "       'tstat_active', 'tstat_active_aspects_in', 'tstat_active_value',\n",
       "       'tstat_resolution', 'tstat_resolution_unit', 'tstat_resolution_value',\n",
       "       'tstat_setpoint_deadband', 'tstat_setpoint_deadband_aspects_in',\n",
       "       'tstat_setpoint_deadband_unit', 'tstat_setpoint_deadband_value',\n",
       "       'tstat_stage_count', 'tstat_stage_count_aspects_in',\n",
       "       'tstat_stage_count_value', 'tstat_tolerance',\n",
       "       'tstat_tolerance_aspects_in', 'tstat_tolerance_unit',\n",
       "       'tstat_tolerance_value', 'window', 'window_area', 'window_area_unit',\n",
       "       'window_area_value', 'window_azimuth', 'window_azimuth_unit',\n",
       "       'window_azimuth_value', 'window_tilt', 'window_tilt_unit',\n",
       "       'window_tilt_value'],\n",
       "      dtype='object')"
      ]
     },
     "execution_count": 12,
     "metadata": {},
     "output_type": "execute_result"
    }
   ],
   "source": [
    "row.index"
   ]
  },
  {
   "cell_type": "code",
   "execution_count": 13,
   "metadata": {},
   "outputs": [
    {
     "data": {
      "text/plain": [
       "{'hvac': [], 'name': ['window', 'space', 'hvac', 'tstat'], 'tstat': []}"
      ]
     },
     "metadata": {},
     "output_type": "display_data"
    },
    {
     "data": {
      "text/plain": [
       "{'hvac': ['hvac_cooling_COP',\n",
       "  'hvac_cooling_capacity',\n",
       "  'hvac_heating_capacity',\n",
       "  'hvac_heating_COP'],\n",
       " 'space': ['space_area'],\n",
       " 'tstat': ['tstat_setpoint_deadband',\n",
       "  'tstat_resolution',\n",
       "  'tstat_tolerance',\n",
       "  'tstat_active',\n",
       "  'tstat_stage_count'],\n",
       " 'window': ['window_azimuth', 'window_tilt', 'window_area']}"
      ]
     },
     "metadata": {},
     "output_type": "display_data"
    },
    {
     "data": {
      "text/plain": [
       "{'hp-rtu': [],\n",
       " 'hvac-zone': ['window', 'space', 'hp-rtu', 'tstat'],\n",
       " 'tstat': []}"
      ]
     },
     "metadata": {},
     "output_type": "display_data"
    },
    {
     "data": {
      "text/plain": [
       "{'hp-rtu': ['cooling-COP',\n",
       "  'cooling-capacity',\n",
       "  'heating-capacity',\n",
       "  'heating-COP'],\n",
       " 'space': ['area'],\n",
       " 'tstat': ['tstat-deadband',\n",
       "  'tstat-resolution',\n",
       "  'tstat-tolerance',\n",
       "  'tstat-active',\n",
       "  'tstat-stage_count'],\n",
       " 'window': ['azimuth', 'tilt', 'area']}"
      ]
     },
     "metadata": {},
     "output_type": "display_data"
    }
   ],
   "source": [
    "display(entity_entity_cols)\n",
    "display(entity_attr_cols)\n",
    "display(entity_entity_types)\n",
    "display(entity_attr_types)\n"
   ]
  },
  {
   "cell_type": "code",
   "execution_count": 14,
   "metadata": {},
   "outputs": [
    {
     "name": "stdout",
     "output_type": "stream",
     "text": [
      "{'sites': [site(name='urn:hpflex/s223-test_site#s223-test_site', latitude=Value(value=1.0, unit='http://qudt.org/vocab/unit/Degree'), noaastation=Value(value=1.0, unit='None'), timezone=Value(value=1.0, unit='None'), longitude=Value(value=1.0, unit='http://qudt.org/vocab/unit/Degree'), )], 'zones': [hvac_zone(name='urn:hpflex/s223-test_site#zone_3', , windows=1, spaces=1, hp_rtus=1, tstats=1), hvac_zone(name='urn:hpflex/s223-test_site#zone_2', , windows=1, spaces=1, hp_rtus=1, tstats=1), hvac_zone(name='urn:hpflex/s223-test_site#zone_1', , windows=2, spaces=2, hp_rtus=1, tstats=1)]}\n"
     ]
    }
   ],
   "source": [
    "print(site_info)"
   ]
  },
  {
   "cell_type": "code",
   "execution_count": 15,
   "metadata": {},
   "outputs": [
    {
     "name": "stdout",
     "output_type": "stream",
     "text": [
      "hvac_zone(name='urn:hpflex/s223-test_site#zone_3', , windows=1, spaces=1, hp_rtus=1, tstats=1)\n"
     ]
    }
   ],
   "source": [
    "zone = site_info['zones'][0]\n",
    "print(zone)"
   ]
  },
  {
   "cell_type": "code",
   "execution_count": 16,
   "metadata": {},
   "outputs": [
    {
     "data": {
      "text/plain": [
       "[space(name='urn:hpflex/s223-test_site#space_3_1', area=Value(value=4.0, unit='http://qudt.org/vocab/unit/FT2'), )]"
      ]
     },
     "execution_count": 16,
     "metadata": {},
     "output_type": "execute_result"
    }
   ],
   "source": [
    "zone.spaces"
   ]
  },
  {
   "cell_type": "code",
   "execution_count": 17,
   "metadata": {},
   "outputs": [
    {
     "data": {
      "text/plain": [
       "[[window(name='urn:hpflex/s223-test_site#window_3_3', azimuth=Value(value=7.0, unit='http://qudt.org/vocab/unit/Degree'), tilt=Value(value=7.0, unit='http://qudt.org/vocab/unit/Degree'), area=Value(value=7.0, unit='http://qudt.org/vocab/unit/FT2'), )],\n",
       " [window(name='urn:hpflex/s223-test_site#window_2_2', azimuth=Value(value=4.0, unit='http://qudt.org/vocab/unit/Degree'), tilt=Value(value=4.0, unit='http://qudt.org/vocab/unit/Degree'), area=Value(value=4.0, unit='http://qudt.org/vocab/unit/FT2'), )],\n",
       " [window(name='urn:hpflex/s223-test_site#window_1_2', azimuth=Value(value=2.0, unit='http://qudt.org/vocab/unit/Degree'), tilt=Value(value=2.0, unit='http://qudt.org/vocab/unit/Degree'), area=Value(value=2.0, unit='http://qudt.org/vocab/unit/FT2'), ),\n",
       "  window(name='urn:hpflex/s223-test_site#window_1_1', azimuth=Value(value=1.0, unit='http://qudt.org/vocab/unit/Degree'), tilt=Value(value=1.0, unit='http://qudt.org/vocab/unit/Degree'), area=Value(value=1.0, unit='http://qudt.org/vocab/unit/FT2'), )]]"
      ]
     },
     "execution_count": 17,
     "metadata": {},
     "output_type": "execute_result"
    }
   ],
   "source": [
    "[ zone.windows for zone in site_info['zones'] ]# [0]# .area.name"
   ]
  },
  {
   "cell_type": "code",
   "execution_count": 18,
   "metadata": {},
   "outputs": [
    {
     "data": {
      "text/plain": [
       "tstat(name='urn:hpflex/s223-test_site#tstat_zone_3', tstat_deadband=Value(value=3.0, unit='http://qudt.org/vocab/unit/DEG_F'), tstat_resolution=Value(value=3.0, unit='http://qudt.org/vocab/unit/DEG_F'), tstat_tolerance=Value(value=3.0, unit='http://qudt.org/vocab/unit/DEG_F'), tstat_active=Value(value=3.0, unit='http://qudt.org/vocab/unit/NUM'), tstat_stage_count=Value(value=3.0, unit='http://qudt.org/vocab/unit/NUM'), )"
      ]
     },
     "execution_count": 18,
     "metadata": {},
     "output_type": "execute_result"
    }
   ],
   "source": [
    "zone.tstats[0]"
   ]
  },
  {
   "cell_type": "code",
   "execution_count": 19,
   "metadata": {},
   "outputs": [
    {
     "name": "stdout",
     "output_type": "stream",
     "text": [
      "Value(value=3.0, unit='http://qudt.org/vocab/unit/DEG_F')\n",
      "Value(value=1.6666666666666667, unit='http://qudt.org/vocab/unit/DEG_C')\n",
      "True\n"
     ]
    }
   ],
   "source": [
    "print(zone.tstats[0].tstat_resolution)\n",
    "zone.tstats[0].tstat_resolution.convert_to_si()\n",
    "print(zone.tstats[0].tstat_resolution)\n",
    "print(zone.tstats[0].tstat_resolution.is_delta)"
   ]
  },
  {
   "cell_type": "code",
   "execution_count": 20,
   "metadata": {},
   "outputs": [
    {
     "name": "stdout",
     "output_type": "stream",
     "text": [
      "Warning: Could not retrieve objects for template 'site': 'name'\n",
      "Warning: Could not retrieve objects for template 'hvac-zone': 'name'\n",
      "Value(value=1.6666666666666667, unit='http://qudt.org/vocab/unit/DEG_C')\n"
     ]
    }
   ],
   "source": [
    "# optionally just load everything as si \n",
    "si_loader = LoadModel(f\"{ontology}-test_site/test_build/test_build.ttl\", ontology = 's223', as_si_units=True)\n",
    "site_info = si_loader.get_all_building_objects()\n",
    "print(zone.tstats[0].tstat_resolution)"
   ]
  },
  {
   "cell_type": "code",
   "execution_count": 21,
   "metadata": {},
   "outputs": [
    {
     "name": "stdout",
     "output_type": "stream",
     "text": [
      "Warning: Could not retrieve objects for template 'site': 'name'\n",
      "Warning: Could not retrieve objects for template 'hvac-zone': 'name'\n"
     ]
    },
    {
     "data": {
      "text/plain": [
       "{'heat_availability': [],\n",
       " 'cool_availability': [],\n",
       " 'heat_tolerance': [],\n",
       " 'cool_tolerance': [],\n",
       " 'setpoint_deadband': [],\n",
       " 'active': [],\n",
       " 'control_group': [],\n",
       " 'control_type_list': [],\n",
       " 'floor_area_list': [],\n",
       " 'floor_area_unit': [],\n",
       " 'window_area_list': [],\n",
       " 'window_area_unit': [],\n",
       " 'azimuth_list': [],\n",
       " 'azimuth_unit': [],\n",
       " 'tilt_list': [],\n",
       " 'tilt_unit': [],\n",
       " 'zone_ids': [],\n",
       " 'hvacs': [],\n",
       " 'setpoint_type': [],\n",
       " 'fuel_heat_list': [],\n",
       " 'fuel_cool_list': [],\n",
       " 'cooling_capacity': [],\n",
       " 'cooling_capacity_unit': [],\n",
       " 'heating_capacity': [],\n",
       " 'heating_capacity_unit': [],\n",
       " 'cooling_cop': [],\n",
       " 'heating_cop': [],\n",
       " 'cooling_electricity': [],\n",
       " 'heating_electricity': [],\n",
       " 'resolution': [],\n",
       " 'temperature_unit': []}"
      ]
     },
     "execution_count": 21,
     "metadata": {},
     "output_type": "execute_result"
    }
   ],
   "source": [
    "# Getting the thermostat metadata\n",
    "get_thermostat_data(si_loader)"
   ]
  },
  {
   "cell_type": "code",
   "execution_count": 22,
   "metadata": {},
   "outputs": [
    {
     "name": "stdout",
     "output_type": "stream",
     "text": [
      "Warning: Could not retrieve objects for template 'site': 'name'\n",
      "Warning: Could not retrieve objects for template 'hvac-zone': 'name'\n"
     ]
    },
    {
     "data": {
      "text/plain": [
       "{'heat_availability': [],\n",
       " 'cool_availability': [],\n",
       " 'heat_tolerance': [],\n",
       " 'cool_tolerance': [],\n",
       " 'setpoint_deadband': [],\n",
       " 'active': [],\n",
       " 'control_group': [],\n",
       " 'control_type_list': [],\n",
       " 'floor_area_list': [],\n",
       " 'floor_area_unit': [],\n",
       " 'window_area_list': [],\n",
       " 'window_area_unit': [],\n",
       " 'azimuth_list': [],\n",
       " 'azimuth_unit': [],\n",
       " 'tilt_list': [],\n",
       " 'tilt_unit': [],\n",
       " 'zone_ids': [],\n",
       " 'hvacs': [],\n",
       " 'setpoint_type': [],\n",
       " 'fuel_heat_list': [],\n",
       " 'fuel_cool_list': [],\n",
       " 'cooling_capacity': [],\n",
       " 'cooling_capacity_unit': [],\n",
       " 'heating_capacity': [],\n",
       " 'heating_capacity_unit': [],\n",
       " 'cooling_cop': [],\n",
       " 'heating_cop': [],\n",
       " 'cooling_electricity': [],\n",
       " 'heating_electricity': [],\n",
       " 'resolution': [],\n",
       " 'temperature_unit': []}"
      ]
     },
     "execution_count": 22,
     "metadata": {},
     "output_type": "execute_result"
    }
   ],
   "source": [
    "# Getting the thermostat metadata for 1 zone \n",
    "get_thermostat_data(si_loader, ['zone_1','zone_2'])"
   ]
  },
  {
   "cell_type": "markdown",
   "metadata": {},
   "source": [
    "# Testing Unit Conversion"
   ]
  },
  {
   "cell_type": "code",
   "execution_count": 23,
   "metadata": {},
   "outputs": [
    {
     "data": {
      "text/plain": [
       "3.048"
      ]
     },
     "execution_count": 23,
     "metadata": {},
     "output_type": "execute_result"
    }
   ],
   "source": [
    "convert_units(10, 'FT', 'M')"
   ]
  },
  {
   "cell_type": "code",
   "execution_count": 24,
   "metadata": {},
   "outputs": [
    {
     "data": {
      "text/plain": [
       "31.999999999999886"
      ]
     },
     "execution_count": 24,
     "metadata": {},
     "output_type": "execute_result"
    }
   ],
   "source": [
    "convert_units(0, 'DEG_C', 'DEG_F')"
   ]
  },
  {
   "cell_type": "code",
   "execution_count": 25,
   "metadata": {},
   "outputs": [
    {
     "data": {
      "text/plain": [
       "273.15"
      ]
     },
     "execution_count": 25,
     "metadata": {},
     "output_type": "execute_result"
    }
   ],
   "source": [
    "convert_units(0, 'DEG_C', 'K')"
   ]
  },
  {
   "cell_type": "code",
   "execution_count": 26,
   "metadata": {},
   "outputs": [],
   "source": [
    "# Planning to implement converting everything to si in loader\n",
    "# loader.get_all_building_objects"
   ]
  },
  {
   "cell_type": "markdown",
   "metadata": {},
   "source": [
    "# Testing Grafana Dashboarding \n",
    "Needs updates"
   ]
  },
  {
   "cell_type": "code",
   "execution_count": 27,
   "metadata": {},
   "outputs": [],
   "source": [
    "# import yaml \n",
    "# with open('../development_files/creds.yml') as f:\n",
    "#     config = yaml.safe_load(f)\n",
    "\n",
    "# bg = BrickToGrafana(grafana_server=config['grafana_server'], grafana_api_key = config['grafana_api_key'], datasource=config['datasource'], ttl_path = 'test-brick-model.ttl')"
   ]
  },
  {
   "cell_type": "code",
   "execution_count": 28,
   "metadata": {},
   "outputs": [],
   "source": [
    "# bg.create_dashboard('AQL from brick')"
   ]
  },
  {
   "cell_type": "code",
   "execution_count": 29,
   "metadata": {},
   "outputs": [],
   "source": [
    "# Grafana not set up, upload won't work\n",
    "# bg.upload_dashboard(message = 'testing upload')"
   ]
  },
  {
   "cell_type": "code",
   "execution_count": null,
   "metadata": {},
   "outputs": [],
   "source": []
  }
 ],
 "metadata": {
  "kernelspec": {
   "display_name": "semantic-mpc-interface (3.10.0)",
   "language": "python",
   "name": "python3"
  },
  "language_info": {
   "codemirror_mode": {
    "name": "ipython",
    "version": 3
   },
   "file_extension": ".py",
   "mimetype": "text/x-python",
   "name": "python",
   "nbconvert_exporter": "python",
   "pygments_lexer": "ipython3",
   "version": "3.10.0"
  }
 },
 "nbformat": 4,
 "nbformat_minor": 2
}
