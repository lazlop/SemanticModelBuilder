{
 "cells": [
  {
   "cell_type": "code",
   "execution_count": 1,
   "metadata": {},
   "outputs": [
    {
     "name": "stderr",
     "output_type": "stream",
     "text": [
      "CRITICAL:root:Install the 'bacnet-ingress' module, e.g. 'pip install buildingmotif[bacnet-ingress]'\n"
     ]
    }
   ],
   "source": [
    "# import sys\n",
    "# sys.path.insert(0, '..')\n",
    "from semantic_mpc_interface import (\n",
    "    LoadModel,\n",
    "    HPFlexSurvey,\n",
    "    convert_units,\n",
    "    SHACLHandler\n",
    ")\n",
    "from buildingmotif.namespaces import BRICK, RDF\n",
    "from buildingmotif import BuildingMOTIF\n",
    "from buildingmotif.dataclasses import Library\n",
    "import csv\n",
    "from pyshacl.rdfutil import clone"
   ]
  },
  {
   "cell_type": "markdown",
   "metadata": {},
   "source": [
    "# Testing the Model Builder\n",
    "\n",
    "ModelBuilder has been deprecated (and will be replaced in the future)"
   ]
  },
  {
   "cell_type": "markdown",
   "metadata": {},
   "source": [
    "# Testing the Survey Workflow"
   ]
  },
  {
   "cell_type": "code",
   "execution_count": 2,
   "metadata": {},
   "outputs": [
    {
     "name": "stderr",
     "output_type": "stream",
     "text": [
      "DEBUG:buildingmotif.database.graph_connection:Creating tables for graph storage\n"
     ]
    },
    {
     "name": "stderr",
     "output_type": "stream",
     "text": [
      "DEBUG:buildingmotif.database.table_connection:Creating shape collection in model: 'urn:hpflex/test_site#'\n",
      "DEBUG:buildingmotif.database.table_connection:Creating model: 'urn:hpflex/test_site#', with graph: '921de1c2-97a1-4cdd-ba31-031cf60d53d3'\n",
      "DEBUG:buildingmotif.database.graph_connection:Creating graph: '921de1c2-97a1-4cdd-ba31-031cf60d53d3' in database with: 1 triples\n",
      "DEBUG:buildingmotif.database.table_connection:Creating shape collection in library: 'brick-templates'\n",
      "DEBUG:buildingmotif.database.table_connection:Creating database library: 'brick-templates'\n",
      "DEBUG:buildingmotif.database.table_connection:Creating database template: 'hvac-zone'\n",
      "DEBUG:buildingmotif.database.graph_connection:Creating graph: '744ee63f-e7e5-4de1-8a48-7137aa60c62f' in database with: 1 triples\n",
      "DEBUG:buildingmotif.database.table_connection:Creating database template: 'space'\n",
      "DEBUG:buildingmotif.database.graph_connection:Creating graph: '05eb6d56-7628-4a25-b289-1bc3c2abfa23' in database with: 2 triples\n",
      "DEBUG:buildingmotif.database.table_connection:Creating database template: 'window'\n",
      "DEBUG:buildingmotif.database.graph_connection:Creating graph: '1c4cf8ec-c8ed-48c7-9f36-d286c4a137d1' in database with: 4 triples\n",
      "DEBUG:buildingmotif.database.table_connection:Creating database template: 'hp-rtu'\n",
      "DEBUG:buildingmotif.database.graph_connection:Creating graph: 'df5852c3-5244-4ded-baff-c65ebbcc6b86' in database with: 6 triples\n",
      "DEBUG:buildingmotif.database.table_connection:Creating database template: 'tstat'\n",
      "DEBUG:buildingmotif.database.graph_connection:Creating graph: '744e2327-90bb-4ae0-9641-fcc6a5ae9bdc' in database with: 6 triples\n",
      "DEBUG:buildingmotif.database.table_connection:Creating database template: 'tstat-heating-cooling-occupancy'\n",
      "DEBUG:buildingmotif.database.graph_connection:Creating graph: 'bd92ab29-04da-4757-9f60-a50d83d5cfcb' in database with: 8 triples\n",
      "DEBUG:buildingmotif.database.table_connection:Creating database template: 'site'\n",
      "DEBUG:buildingmotif.database.graph_connection:Creating graph: '80a1b083-9d57-40ea-be87-1b8523f60046' in database with: 5 triples\n",
      "DEBUG:buildingmotif.database.table_connection:Creating database template: 'has-point'\n",
      "DEBUG:buildingmotif.database.graph_connection:Creating graph: 'a191cfef-35d3-455a-b0b6-72dc67e18651' in database with: 1 triples\n",
      "DEBUG:buildingmotif.database.table_connection:Creating database template: 'has-reference'\n",
      "DEBUG:buildingmotif.database.graph_connection:Creating graph: 'c683ca45-ce21-47ef-a0fb-f08f1dcc611e' in database with: 1 triples\n",
      "DEBUG:buildingmotif.database.table_connection:Creating database template: 'has-space'\n",
      "DEBUG:buildingmotif.database.graph_connection:Creating graph: '49778ca9-927a-4253-8d9e-4d3271b7dab3' in database with: 1 triples\n",
      "DEBUG:buildingmotif.database.table_connection:Creating database template: 'has-location'\n",
      "DEBUG:buildingmotif.database.graph_connection:Creating graph: 'fd701946-b0c8-462b-b772-8cbe64058e92' in database with: 1 triples\n",
      "DEBUG:buildingmotif.database.table_connection:Creating database template: 'has-window'\n",
      "DEBUG:buildingmotif.database.graph_connection:Creating graph: '8ece5d63-585f-4ce7-a590-9bb2c002aed4' in database with: 1 triples\n",
      "DEBUG:buildingmotif.database.table_connection:Creating database template: 'air-connects-to'\n",
      "DEBUG:buildingmotif.database.graph_connection:Creating graph: 'a99ec492-e79c-4924-b07d-0c5bb4232312' in database with: 1 triples\n",
      "DEBUG:buildingmotif.database.table_connection:Creating database template: 'air-bidirectional-connects-to'\n",
      "DEBUG:buildingmotif.database.graph_connection:Creating graph: '72f60bab-2984-46cf-8635-8a284df04565' in database with: 2 triples\n",
      "DEBUG:buildingmotif.database.table_connection:Creating database template: 'area'\n",
      "DEBUG:buildingmotif.database.graph_connection:Creating graph: 'e8e7c0cf-7fee-4b72-8ad8-08246e54c23c' in database with: 3 triples\n",
      "DEBUG:buildingmotif.database.table_connection:Creating database template: 'tilt'\n",
      "DEBUG:buildingmotif.database.graph_connection:Creating graph: 'd9f0b97d-ee1e-4236-a659-7c7a9531ab61' in database with: 3 triples\n",
      "DEBUG:buildingmotif.database.table_connection:Creating database template: 'azimuth'\n",
      "DEBUG:buildingmotif.database.graph_connection:Creating graph: '4d0dc4a7-9803-4764-9e2d-90073ddb16f6' in database with: 3 triples\n",
      "DEBUG:buildingmotif.database.table_connection:Creating database template: 'cooling-COP'\n",
      "DEBUG:buildingmotif.database.graph_connection:Creating graph: 'b650054f-0bdb-46ab-a0c4-cdefc8a13954' in database with: 3 triples\n",
      "DEBUG:buildingmotif.database.table_connection:Creating database template: 'heating-COP'\n",
      "DEBUG:buildingmotif.database.graph_connection:Creating graph: '8dad2705-35ad-4115-87bd-1c8d87535331' in database with: 3 triples\n",
      "DEBUG:buildingmotif.database.table_connection:Creating database template: 'cooling-capacity'\n",
      "DEBUG:buildingmotif.database.graph_connection:Creating graph: '7b0f6d89-aee6-4cdd-9ee0-eb2a8942a439' in database with: 3 triples\n",
      "DEBUG:buildingmotif.database.table_connection:Creating database template: 'heating-capacity'\n",
      "DEBUG:buildingmotif.database.graph_connection:Creating graph: '1e53ae30-cdb6-400a-bac7-99daacc4d3da' in database with: 3 triples\n",
      "DEBUG:buildingmotif.database.table_connection:Creating database template: 'temperature'\n",
      "DEBUG:buildingmotif.database.graph_connection:Creating graph: 'a8acece1-8047-47cd-8666-4fa2bea82f53' in database with: 3 triples\n",
      "DEBUG:buildingmotif.database.table_connection:Creating database template: 'active-heating-stages'\n",
      "DEBUG:buildingmotif.database.graph_connection:Creating graph: '2c48cf02-ffce-449b-9276-ef37f29d5bfa' in database with: 3 triples\n",
      "DEBUG:buildingmotif.database.table_connection:Creating database template: 'active-cooling-stages'\n",
      "DEBUG:buildingmotif.database.graph_connection:Creating graph: '3d8c281a-e318-4670-8342-0a7901ff54ac' in database with: 3 triples\n",
      "DEBUG:buildingmotif.database.table_connection:Creating database template: 'occ-heating-setpoint'\n",
      "DEBUG:buildingmotif.database.graph_connection:Creating graph: 'eaae9327-3c81-45b9-881b-3754056fa852' in database with: 3 triples\n",
      "DEBUG:buildingmotif.database.table_connection:Creating database template: 'occ-cooling-setpoint'\n",
      "DEBUG:buildingmotif.database.graph_connection:Creating graph: 'b545570d-0d55-48e5-8fcb-9250178c9ab3' in database with: 3 triples\n",
      "DEBUG:buildingmotif.database.table_connection:Creating database template: 'unocc-heating-setpoint'\n",
      "DEBUG:buildingmotif.database.graph_connection:Creating graph: '099c1ed3-bdeb-4ff5-a987-7d9c6a82ec17' in database with: 3 triples\n",
      "DEBUG:buildingmotif.database.table_connection:Creating database template: 'unocc-cooling-setpoint'\n",
      "DEBUG:buildingmotif.database.graph_connection:Creating graph: '45f04e40-4df4-4e3c-9220-29354a4fe99d' in database with: 3 triples\n",
      "DEBUG:buildingmotif.database.table_connection:Creating database template: 'effective-temperature-setpoint'\n",
      "DEBUG:buildingmotif.database.graph_connection:Creating graph: 'afaec4dc-5c63-48be-b514-afbe3ecb2ccd' in database with: 3 triples\n",
      "DEBUG:buildingmotif.database.table_connection:Creating database template: 'effective-heating-setpoint'\n",
      "DEBUG:buildingmotif.database.graph_connection:Creating graph: 'c4f8c68c-80f8-462a-86c4-3555abc7d2e6' in database with: 3 triples\n",
      "DEBUG:buildingmotif.database.table_connection:Creating database template: 'effective-cooling-setpoint'\n",
      "DEBUG:buildingmotif.database.graph_connection:Creating graph: 'e5bb047a-d795-4b81-819d-86850dcb38d7' in database with: 3 triples\n",
      "DEBUG:buildingmotif.database.table_connection:Creating database template: 'tstat-stage_count'\n",
      "DEBUG:buildingmotif.database.graph_connection:Creating graph: '964f9f95-c391-439b-b7bd-033a4db3db93' in database with: 3 triples\n",
      "DEBUG:buildingmotif.database.table_connection:Creating database template: 'tstat-deadband'\n",
      "DEBUG:buildingmotif.database.graph_connection:Creating graph: '106017e3-2d19-46bf-a1a5-805a7dfe8b92' in database with: 5 triples\n",
      "DEBUG:buildingmotif.database.table_connection:Creating database template: 'tstat-tolerance'\n",
      "DEBUG:buildingmotif.database.graph_connection:Creating graph: '6df61b0c-73bb-4223-b26d-a046ce70935b' in database with: 5 triples\n",
      "DEBUG:buildingmotif.database.table_connection:Creating database template: 'tstat-resolution'\n",
      "DEBUG:buildingmotif.database.graph_connection:Creating graph: '35d54cc2-b929-4489-86fb-de40723a5c73' in database with: 3 triples\n",
      "DEBUG:buildingmotif.database.table_connection:Creating database template: 'tstat-active'\n",
      "DEBUG:buildingmotif.database.graph_connection:Creating graph: '9b317d1b-e722-4906-81e1-685c9f122c35' in database with: 2 triples\n",
      "DEBUG:buildingmotif.database.table_connection:Creating database template: 'timezone'\n",
      "DEBUG:buildingmotif.database.graph_connection:Creating graph: '2fe8f988-8c62-4657-9344-9f97e1951a35' in database with: 2 triples\n",
      "DEBUG:buildingmotif.database.table_connection:Creating database template: 'latitude'\n",
      "DEBUG:buildingmotif.database.graph_connection:Creating graph: '97702ee3-fca6-456e-9648-4545d919f8ab' in database with: 3 triples\n",
      "DEBUG:buildingmotif.database.table_connection:Creating database template: 'longitude'\n",
      "DEBUG:buildingmotif.database.graph_connection:Creating graph: 'a3c1a0ab-c5ee-4931-838c-4d542bc2462c' in database with: 3 triples\n",
      "DEBUG:buildingmotif.database.table_connection:Creating database template: 'noaastation'\n",
      "DEBUG:buildingmotif.database.graph_connection:Creating graph: '85d461be-488d-416e-88bc-b58e47e08fd5' in database with: 1 triples\n",
      "DEBUG:buildingmotif.database.table_connection:Creating database template: 'volttron-external-reference'\n",
      "DEBUG:buildingmotif.database.graph_connection:Creating graph: '294bb174-83bb-4c85-a084-6655e437227f' in database with: 2 triples\n",
      "DEBUG:buildingmotif.database.table_connection:Creating database template: 'point'\n",
      "DEBUG:buildingmotif.database.graph_connection:Creating graph: '8261d943-4a81-45cf-a02e-a20c26443b8e' in database with: 2 triples\n",
      "DEBUG:buildingmotif.database.table_connection:Creating depencency from templates with ids: '1' and: '10'\n",
      "DEBUG:buildingmotif.database.table_connection:Creating depencency from templates with ids: '1' and: '2'\n",
      "DEBUG:buildingmotif.database.table_connection:Creating depencency from templates with ids: '1' and: '12'\n",
      "DEBUG:buildingmotif.database.table_connection:Creating depencency from templates with ids: '1' and: '3'\n",
      "DEBUG:buildingmotif.database.table_connection:Creating depencency from templates with ids: '1' and: '11'\n",
      "DEBUG:buildingmotif.database.table_connection:Creating depencency from templates with ids: '1' and: '5'\n",
      "DEBUG:buildingmotif.database.table_connection:Creating depencency from templates with ids: '1' and: '13'\n",
      "DEBUG:buildingmotif.database.table_connection:Creating depencency from templates with ids: '1' and: '4'\n",
      "DEBUG:buildingmotif.database.table_connection:Creating depencency from templates with ids: '2' and: '15'\n",
      "DEBUG:buildingmotif.database.table_connection:Creating depencency from templates with ids: '3' and: '15'\n",
      "DEBUG:buildingmotif.database.table_connection:Creating depencency from templates with ids: '3' and: '17'\n",
      "DEBUG:buildingmotif.database.table_connection:Creating depencency from templates with ids: '3' and: '16'\n",
      "DEBUG:buildingmotif.database.table_connection:Creating depencency from templates with ids: '4' and: '20'\n",
      "DEBUG:buildingmotif.database.table_connection:Creating depencency from templates with ids: '4' and: '21'\n",
      "DEBUG:buildingmotif.database.table_connection:Creating depencency from templates with ids: '4' and: '18'\n",
      "DEBUG:buildingmotif.database.table_connection:Creating depencency from templates with ids: '4' and: '19'\n",
      "DEBUG:buildingmotif.database.table_connection:Creating depencency from templates with ids: '5' and: '32'\n",
      "DEBUG:buildingmotif.database.table_connection:Creating depencency from templates with ids: '5' and: '33'\n",
      "DEBUG:buildingmotif.database.table_connection:Creating depencency from templates with ids: '5' and: '34'\n",
      "DEBUG:buildingmotif.database.table_connection:Creating depencency from templates with ids: '5' and: '36'\n",
      "DEBUG:buildingmotif.database.table_connection:Creating depencency from templates with ids: '5' and: '35'\n",
      "DEBUG:buildingmotif.database.table_connection:Creating depencency from templates with ids: '6' and: '25'\n",
      "DEBUG:buildingmotif.database.table_connection:Creating depencency from templates with ids: '6' and: '26'\n",
      "DEBUG:buildingmotif.database.table_connection:Creating depencency from templates with ids: '6' and: '27'\n",
      "DEBUG:buildingmotif.database.table_connection:Creating depencency from templates with ids: '6' and: '28'\n",
      "DEBUG:buildingmotif.database.table_connection:Creating depencency from templates with ids: '6' and: '5'\n",
      "DEBUG:buildingmotif.database.table_connection:Creating depencency from templates with ids: '6' and: '22'\n",
      "DEBUG:buildingmotif.database.table_connection:Creating depencency from templates with ids: '6' and: '23'\n",
      "DEBUG:buildingmotif.database.table_connection:Creating depencency from templates with ids: '6' and: '24'\n",
      "DEBUG:buildingmotif.database.table_connection:Creating depencency from templates with ids: '7' and: '37'\n",
      "DEBUG:buildingmotif.database.table_connection:Creating depencency from templates with ids: '7' and: '38'\n",
      "DEBUG:buildingmotif.database.table_connection:Creating depencency from templates with ids: '7' and: '39'\n",
      "DEBUG:buildingmotif.database.table_connection:Creating depencency from templates with ids: '7' and: '40'\n",
      "DEBUG:buildingmotif.database.table_connection:Creating depencency from templates with ids: '1' and: '2'\n",
      "DEBUG:buildingmotif.database.table_connection:Creating depencency from templates with ids: '1' and: '3'\n",
      "DEBUG:buildingmotif.database.table_connection:Creating depencency from templates with ids: '1' and: '4'\n",
      "DEBUG:buildingmotif.database.table_connection:Creating depencency from templates with ids: '1' and: '5'\n",
      "DEBUG:buildingmotif.database.table_connection:Creating depencency from templates with ids: '1' and: '10'\n",
      "DEBUG:buildingmotif.database.table_connection:Creating depencency from templates with ids: '1' and: '11'\n",
      "DEBUG:buildingmotif.database.table_connection:Creating depencency from templates with ids: '1' and: '12'\n",
      "DEBUG:buildingmotif.database.table_connection:Creating depencency from templates with ids: '1' and: '13'\n",
      "DEBUG:buildingmotif.database.table_connection:Creating depencency from templates with ids: '2' and: '15'\n",
      "DEBUG:buildingmotif.database.table_connection:Creating depencency from templates with ids: '3' and: '15'\n",
      "DEBUG:buildingmotif.database.table_connection:Creating depencency from templates with ids: '3' and: '16'\n",
      "DEBUG:buildingmotif.database.table_connection:Creating depencency from templates with ids: '3' and: '17'\n",
      "DEBUG:buildingmotif.database.table_connection:Creating depencency from templates with ids: '4' and: '18'\n",
      "DEBUG:buildingmotif.database.table_connection:Creating depencency from templates with ids: '4' and: '19'\n",
      "DEBUG:buildingmotif.database.table_connection:Creating depencency from templates with ids: '4' and: '20'\n",
      "DEBUG:buildingmotif.database.table_connection:Creating depencency from templates with ids: '4' and: '21'\n",
      "DEBUG:buildingmotif.database.table_connection:Creating depencency from templates with ids: '5' and: '32'\n",
      "DEBUG:buildingmotif.database.table_connection:Creating depencency from templates with ids: '5' and: '33'\n",
      "DEBUG:buildingmotif.database.table_connection:Creating depencency from templates with ids: '5' and: '34'\n",
      "DEBUG:buildingmotif.database.table_connection:Creating depencency from templates with ids: '5' and: '35'\n",
      "DEBUG:buildingmotif.database.table_connection:Creating depencency from templates with ids: '5' and: '36'\n",
      "DEBUG:buildingmotif.database.table_connection:Creating depencency from templates with ids: '6' and: '5'\n",
      "DEBUG:buildingmotif.database.table_connection:Creating depencency from templates with ids: '6' and: '22'\n",
      "DEBUG:buildingmotif.database.table_connection:Creating depencency from templates with ids: '6' and: '23'\n",
      "DEBUG:buildingmotif.database.table_connection:Creating depencency from templates with ids: '6' and: '24'\n",
      "DEBUG:buildingmotif.database.table_connection:Creating depencency from templates with ids: '6' and: '25'\n",
      "DEBUG:buildingmotif.database.table_connection:Creating depencency from templates with ids: '6' and: '26'\n",
      "DEBUG:buildingmotif.database.table_connection:Creating depencency from templates with ids: '6' and: '27'\n",
      "DEBUG:buildingmotif.database.table_connection:Creating depencency from templates with ids: '6' and: '28'\n",
      "DEBUG:buildingmotif.database.table_connection:Creating depencency from templates with ids: '7' and: '37'\n",
      "DEBUG:buildingmotif.database.table_connection:Creating depencency from templates with ids: '7' and: '38'\n",
      "DEBUG:buildingmotif.database.table_connection:Creating depencency from templates with ids: '7' and: '39'\n",
      "DEBUG:buildingmotif.database.table_connection:Creating depencency from templates with ids: '7' and: '40'\n",
      "/Users/lazlopaul/Desktop/HPflex/Semantic_MPC_Interface/.venv/lib/python3.10/site-packages/pyshacl/extras/__init__.py:46: Warning: Extra \"js\" is not satisfied because requirement pyduktape2 is not installed.\n",
      "  warn(Warning(f\"Extra \\\"{extra_name}\\\" is not satisfied because requirement {req} is not installed.\"))\n",
      "DEBUG:buildingmotif.database.table_connection:Deleting depencency from templates with ids: '1' and: '2'\n",
      "DEBUG:buildingmotif.database.table_connection:Deleting depencency from templates with ids: '1' and: '3'\n",
      "DEBUG:buildingmotif.database.table_connection:Deleting depencency from templates with ids: '1' and: '4'\n",
      "DEBUG:buildingmotif.database.table_connection:Deleting depencency from templates with ids: '1' and: '5'\n"
     ]
    },
    {
     "name": "stdout",
     "output_type": "stream",
     "text": [
      "removing dependency:  space\n",
      "removing dependency:  window\n",
      "removing dependency:  hp-rtu\n",
      "removing dependency:  tstat\n",
      "values: dict_values([])\n",
      "values names: {}\n",
      "values: dict_values(['area-name-value'])\n",
      "values names: {'area-name': '<name>-area-name'}\n",
      "values: dict_values(['cooling_capacity-name-value', 'cooling_COP-name-value', 'heating_COP-name-value', 'heating_capacity-name-value'])\n",
      "values names: {'heating_COP-name': '<name>-heating_COP-name', 'cooling_COP-name': '<name>-cooling_COP-name', 'cooling_capacity-name': '<name>-cooling_capacity-name', 'heating_capacity-name': '<name>-heating_capacity-name'}\n",
      "values: dict_values(['tolerance-name-value', 'stage_count-name-value', 'setpoint_deadband-name-value', 'active-name-value', 'resolution-name-value'])\n",
      "values names: {'tolerance-name': '<name>-tolerance-name', 'stage_count-name': '<name>-stage_count-name', 'active-name': '<name>-active-name', 'resolution-name': '<name>-resolution-name', 'setpoint_deadband-name': '<name>-setpoint_deadband-name'}\n",
      "values: dict_values(['tilt-name-value', 'azimuth-name-value', 'area-name-value'])\n",
      "values names: {'area-name': '<name>-area-name', 'azimuth-name': '<name>-azimuth-name', 'tilt-name': '<name>-tilt-name'}\n",
      "values: dict_values(['timezone-name-value', 'noaastation-name-value', 'longitude-name-value', 'latitude-name-value'])\n",
      "values names: {'timezone-name': '<name>-timezone-name', 'longitude-name': '<name>-longitude-name', 'noaastation-name': '<name>-noaastation-name', 'latitude-name': '<name>-latitude-name'}\n",
      "{'site_id': 'test_site', 'hvac_type': 'hp-rtu', 'variatic_params': {'hvac-zone': {}, 'space': {'area-name': '<name>-area-name'}, 'hp-rtu': {'heating_COP-name': '<name>-heating_COP-name', 'cooling_COP-name': '<name>-cooling_COP-name', 'cooling_capacity-name': '<name>-cooling_capacity-name', 'heating_capacity-name': '<name>-heating_capacity-name'}, 'tstat': {'tolerance-name': '<name>-tolerance-name', 'stage_count-name': '<name>-stage_count-name', 'active-name': '<name>-active-name', 'resolution-name': '<name>-resolution-name', 'setpoint_deadband-name': '<name>-setpoint_deadband-name'}, 'window': {'area-name': '<name>-area-name', 'azimuth-name': '<name>-azimuth-name', 'tilt-name': '<name>-tilt-name'}, 'site': {'timezone-name': '<name>-timezone-name', 'longitude-name': '<name>-longitude-name', 'noaastation-name': '<name>-noaastation-name', 'latitude-name': '<name>-latitude-name'}}, 'param_mapping': {'hvac-zone': {}, 'space': {'area': 'area-name-value'}, 'hp-rtu': {'cooling_capacity': 'cooling_capacity-name-value', 'cooling_COP': 'cooling_COP-name-value', 'heating_COP': 'heating_COP-name-value', 'heating_capacity': 'heating_capacity-name-value'}, 'tstat': {'tolerance': 'tolerance-name-value', 'stage_count': 'stage_count-name-value', 'setpoint_deadband': 'setpoint_deadband-name-value', 'active': 'active-name-value', 'resolution': 'resolution-name-value'}, 'window': {'tilt': 'tilt-name-value', 'azimuth': 'azimuth-name-value', 'area': 'area-name-value'}, 'site': {'timezone': 'timezone-name-value', 'noaastation': 'noaastation-name-value', 'longitude': 'longitude-name-value', 'latitude': 'latitude-name-value'}}, 'hvacs_feed_hvacs': {}, 'hvacs_feed_zones': {'hvac_1': ['zone_1'], 'hvac_2': ['zone_2'], 'hvac_3': ['zone_3']}, 'zones_contain_spaces': {'zone_1': ['space_1_1', 'space_1_2'], 'zone_2': ['space_2_1'], 'zone_3': ['space_3_1']}, 'zones_contain_windows': {'zone_1': ['window_1_1', 'window_1_2'], 'zone_2': ['window_2_1', 'window_2_2'], 'zone_3': ['window_3_1', 'window_3_2', 'window_3_3']}}\n"
     ]
    }
   ],
   "source": [
    "# Please disregad excessive logs for now \n",
    "\n",
    "# Creating survey, allow overwrite if there is something already there\n",
    "s = HPFlexSurvey('test_site','test_build','.', overwrite=True)\n",
    "\n",
    "# Generating a simple building structure that prefills csv files. \n",
    "s.easy_config(zone_space_window_list=[(2,2),(1,2),(1,3)])\n",
    "# Now check test_site/test_build to look at survey files\n"
   ]
  },
  {
   "cell_type": "code",
   "execution_count": 3,
   "metadata": {},
   "outputs": [],
   "source": [
    "# Will just fill the columns programmatically for testing, csv should be filled out otherwise\n",
    "import sys\n",
    "sys.path.insert(0,'../examples')\n",
    "from example_prefill_usage import prefill_csv_survey"
   ]
  },
  {
   "cell_type": "code",
   "execution_count": 4,
   "metadata": {},
   "outputs": [
    {
     "name": "stdout",
     "output_type": "stream",
     "text": [
      "Loading config from: test_site/test_build/config.json\n",
      "Found CSV files: ['zone', 'site', 'window', 'hvac', 'point_list', 'tstat', 'space']\n",
      "Filled 4 empty cells across 4 columns in site.csv\n",
      "Filled 21 empty cells across 3 columns in window.csv\n",
      "Filled 12 empty cells across 4 columns in hvac.csv\n",
      "No empty cells found in point_list.csv\n",
      "Filled 15 empty cells across 5 columns in tstat.csv\n",
      "Filled 8 empty cells across 2 columns in space.csv\n"
     ]
    }
   ],
   "source": [
    "prefill_csv_survey('test_site/test_build')"
   ]
  },
  {
   "cell_type": "code",
   "execution_count": 5,
   "metadata": {},
   "outputs": [
    {
     "name": "stdout",
     "output_type": "stream",
     "text": [
      "Expanded CSV shape: (6, 5)\n",
      "New columns added: []\n",
      "Expanded CSV shape: (4, 4)\n",
      "New columns added: ['area-name']\n",
      "Expanded CSV shape: (3, 9)\n",
      "New columns added: ['heating_COP-name', 'cooling_COP-name', 'cooling_capacity-name', 'heating_capacity-name']\n",
      "Expanded CSV shape: (3, 14)\n",
      "New columns added: ['tolerance-name', 'stage_count-name', 'active-name', 'resolution-name', 'setpoint_deadband-name']\n",
      "Expanded CSV shape: (7, 8)\n",
      "New columns added: ['area-name', 'azimuth-name', 'tilt-name']\n",
      "Expanded CSV shape: (1, 9)\n",
      "New columns added: ['timezone-name', 'longitude-name', 'noaastation-name', 'latitude-name']\n"
     ]
    }
   ],
   "source": [
    "# Reading csv\n",
    "s.read_csv()"
   ]
  },
  {
   "cell_type": "markdown",
   "metadata": {},
   "source": [
    "# Testing SHACL Generation and Validation"
   ]
  },
  {
   "cell_type": "code",
   "execution_count": 6,
   "metadata": {},
   "outputs": [],
   "source": [
    "og = clone.clone_graph(s.graph)"
   ]
  },
  {
   "cell_type": "code",
   "execution_count": 7,
   "metadata": {},
   "outputs": [],
   "source": [
    "# Create handler\n",
    "handler = SHACLHandler(ontology='brick')\n",
    "\n",
    "# Generate shapes\n",
    "handler.generate_shapes()\n",
    "\n",
    "# Save shapes\n",
    "handler.save_shapes('shapes.ttl')\n",
    "\n",
    "# Validate a model\n",
    "conforms, results_graph, results_text = handler.validate_model(s.graph)\n",
    "\n",
    "s.graph.serialize('test-brick-model-reasoned.ttl', format = 'ttl')\n",
    "if not conforms:\n",
    "    print(\"Validation failed:\")\n",
    "    print(results_text)"
   ]
  },
  {
   "cell_type": "code",
   "execution_count": 8,
   "metadata": {},
   "outputs": [
    {
     "name": "stdout",
     "output_type": "stream",
     "text": [
      "@prefix ns1: <urn:hpflex/shapes#> .\n",
      "\n",
      "<urn:hpflex/test_site#hvac_1> a ns1:hp-rtu ;\n",
      "    ns1:air-connects-to <urn:hpflex/test_site#zone_1> .\n",
      "\n",
      "<urn:hpflex/test_site#hvac_2> a ns1:hp-rtu ;\n",
      "    ns1:air-connects-to <urn:hpflex/test_site#zone_2> .\n",
      "\n",
      "<urn:hpflex/test_site#hvac_3> a ns1:hp-rtu ;\n",
      "    ns1:air-connects-to <urn:hpflex/test_site#zone_3> .\n",
      "\n",
      "<urn:hpflex/test_site#test_site> a ns1:site .\n",
      "\n",
      "<urn:hpflex/test_site#tstat_zone_1> a ns1:tstat ;\n",
      "    ns1:has-location <urn:hpflex/test_site#zone_1> ;\n",
      "    ns1:has-point <urn:hpflex/test_site#tstat_zone_1-active-name>,\n",
      "        <urn:hpflex/test_site#tstat_zone_1-setpoint_deadband-name>,\n",
      "        <urn:hpflex/test_site#tstat_zone_1-tolerance-name> .\n",
      "\n",
      "<urn:hpflex/test_site#tstat_zone_2> a ns1:tstat ;\n",
      "    ns1:has-location <urn:hpflex/test_site#zone_2> ;\n",
      "    ns1:has-point <urn:hpflex/test_site#tstat_zone_2-active-name>,\n",
      "        <urn:hpflex/test_site#tstat_zone_2-setpoint_deadband-name>,\n",
      "        <urn:hpflex/test_site#tstat_zone_2-tolerance-name> .\n",
      "\n",
      "<urn:hpflex/test_site#tstat_zone_3> a ns1:tstat ;\n",
      "    ns1:has-location <urn:hpflex/test_site#zone_3> ;\n",
      "    ns1:has-point <urn:hpflex/test_site#tstat_zone_3-active-name>,\n",
      "        <urn:hpflex/test_site#tstat_zone_3-setpoint_deadband-name>,\n",
      "        <urn:hpflex/test_site#tstat_zone_3-tolerance-name> .\n",
      "\n",
      "<urn:hpflex/test_site#window_2_1> a ns1:window .\n",
      "\n",
      "<urn:hpflex/test_site#window_3_1> a ns1:window .\n",
      "\n",
      "<urn:hpflex/test_site#window_3_2> a ns1:window .\n",
      "\n",
      "<urn:hpflex/test_site#> ns1:air-connects-to <urn:hpflex/test_site#zone_1> ;\n",
      "    ns1:has-location <urn:hpflex/test_site#zone_1> .\n",
      "\n",
      "<urn:hpflex/test_site#space_1_1> a ns1:space .\n",
      "\n",
      "<urn:hpflex/test_site#space_1_2> a ns1:space .\n",
      "\n",
      "<urn:hpflex/test_site#space_2_1> a ns1:space .\n",
      "\n",
      "<urn:hpflex/test_site#space_3_1> a ns1:space .\n",
      "\n",
      "<urn:hpflex/test_site#window_1_1> a ns1:window .\n",
      "\n",
      "<urn:hpflex/test_site#window_1_2> a ns1:window .\n",
      "\n",
      "<urn:hpflex/test_site#window_2_2> a ns1:window .\n",
      "\n",
      "<urn:hpflex/test_site#window_3_3> a ns1:window .\n",
      "\n",
      "<urn:hpflex/test_site#zone_2> a ns1:hvac-zone ;\n",
      "    ns1:has-space <urn:hpflex/test_site#space_2_1>,\n",
      "        <urn:hpflex/test_site#window_2_2> ;\n",
      "    ns1:has-window <urn:hpflex/test_site#space_2_1>,\n",
      "        <urn:hpflex/test_site#window_2_2> .\n",
      "\n",
      "<urn:hpflex/test_site#zone_3> a ns1:hvac-zone ;\n",
      "    ns1:has-space <urn:hpflex/test_site#space_3_1>,\n",
      "        <urn:hpflex/test_site#window_3_3> ;\n",
      "    ns1:has-window <urn:hpflex/test_site#space_3_1>,\n",
      "        <urn:hpflex/test_site#window_3_3> .\n",
      "\n",
      "<urn:hpflex/test_site#zone_1> a ns1:hvac-zone ;\n",
      "    ns1:has-space <urn:hpflex/test_site#>,\n",
      "        <urn:hpflex/test_site#space_1_1>,\n",
      "        <urn:hpflex/test_site#space_1_2>,\n",
      "        <urn:hpflex/test_site#window_1_1>,\n",
      "        <urn:hpflex/test_site#window_1_2> ;\n",
      "    ns1:has-window <urn:hpflex/test_site#>,\n",
      "        <urn:hpflex/test_site#space_1_1>,\n",
      "        <urn:hpflex/test_site#space_1_2>,\n",
      "        <urn:hpflex/test_site#window_1_1>,\n",
      "        <urn:hpflex/test_site#window_1_2> .\n",
      "\n",
      "\n"
     ]
    }
   ],
   "source": [
    "# lots of new inferred information\n",
    "(s.graph-og).print()"
   ]
  },
  {
   "cell_type": "markdown",
   "metadata": {},
   "source": [
    "# Testing get Metadata"
   ]
  },
  {
   "cell_type": "code",
   "execution_count": 9,
   "metadata": {},
   "outputs": [
    {
     "ename": "TypeError",
     "evalue": "can't multiply sequence by non-int of type 'float'",
     "output_type": "error",
     "traceback": [
      "\u001b[0;31m---------------------------------------------------------------------------\u001b[0m",
      "\u001b[0;31mTypeError\u001b[0m                                 Traceback (most recent call last)",
      "Cell \u001b[0;32mIn[9], line 3\u001b[0m\n\u001b[1;32m      1\u001b[0m site_metadata \u001b[38;5;241m=\u001b[39m LoadModel(\u001b[38;5;124m\"\u001b[39m\u001b[38;5;124mtest_site/test_build/test_build.ttl\u001b[39m\u001b[38;5;124m\"\u001b[39m, ontology \u001b[38;5;241m=\u001b[39m \u001b[38;5;124m'\u001b[39m\u001b[38;5;124mbrick\u001b[39m\u001b[38;5;124m'\u001b[39m)\n\u001b[1;32m      2\u001b[0m site_info \u001b[38;5;241m=\u001b[39m site_metadata\u001b[38;5;241m.\u001b[39mget_site_info()\n\u001b[0;32m----> 3\u001b[0m thermostat_data \u001b[38;5;241m=\u001b[39m \u001b[43msite_metadata\u001b[49m\u001b[38;5;241;43m.\u001b[39;49m\u001b[43mget_thermostat_data\u001b[49m\u001b[43m(\u001b[49m\u001b[43m)\u001b[49m\n",
      "File \u001b[0;32m~/Desktop/HPflex/Semantic_MPC_Interface/src/semantic_mpc_interface/get_metadata.py:351\u001b[0m, in \u001b[0;36mLoadModel.get_thermostat_data\u001b[0;34m(self, for_zone)\u001b[0m\n\u001b[1;32m    345\u001b[0m     \u001b[38;5;28;01mraise\u001b[39;00m \u001b[38;5;167;01mException\u001b[39;00m(\n\u001b[1;32m    346\u001b[0m         \u001b[38;5;124mf\u001b[39m\u001b[38;5;124m\"\u001b[39m\u001b[38;5;124mExpected 1 result for each variable, got \u001b[39m\u001b[38;5;132;01m{\u001b[39;00m\u001b[38;5;28mlen\u001b[39m(results)\u001b[38;5;132;01m}\u001b[39;00m\u001b[38;5;124m\"\u001b[39m\n\u001b[1;32m    347\u001b[0m     )\n\u001b[1;32m    349\u001b[0m result \u001b[38;5;241m=\u001b[39m results\u001b[38;5;241m.\u001b[39mbindings[\u001b[38;5;241m0\u001b[39m]\n\u001b[1;32m    350\u001b[0m thermostat_data[\u001b[38;5;124m\"\u001b[39m\u001b[38;5;124mheat_tolerance\u001b[39m\u001b[38;5;124m\"\u001b[39m]\u001b[38;5;241m.\u001b[39mappend(\n\u001b[0;32m--> 351\u001b[0m     \u001b[38;5;241;43m-\u001b[39;49m\u001b[38;5;241;43m1.0\u001b[39;49m\u001b[43m \u001b[49m\u001b[38;5;241;43m*\u001b[39;49m\u001b[43m \u001b[49m\u001b[43mresult\u001b[49m\u001b[43m[\u001b[49m\u001b[38;5;124;43m\"\u001b[39;49m\u001b[38;5;124;43mtolerance_value\u001b[39;49m\u001b[38;5;124;43m\"\u001b[39;49m\u001b[43m]\u001b[49m\u001b[38;5;241;43m.\u001b[39;49m\u001b[43mtoPython\u001b[49m\u001b[43m(\u001b[49m\u001b[43m)\u001b[49m\n\u001b[1;32m    352\u001b[0m )\n\u001b[1;32m    353\u001b[0m thermostat_data[\u001b[38;5;124m\"\u001b[39m\u001b[38;5;124mcool_tolerance\u001b[39m\u001b[38;5;124m\"\u001b[39m]\u001b[38;5;241m.\u001b[39mappend(\n\u001b[1;32m    354\u001b[0m     \u001b[38;5;241m1.0\u001b[39m \u001b[38;5;241m*\u001b[39m result[\u001b[38;5;124m\"\u001b[39m\u001b[38;5;124mtolerance_value\u001b[39m\u001b[38;5;124m\"\u001b[39m]\u001b[38;5;241m.\u001b[39mtoPython()\n\u001b[1;32m    355\u001b[0m )\n\u001b[1;32m    356\u001b[0m thermostat_data[\u001b[38;5;124m\"\u001b[39m\u001b[38;5;124msetpoint_deadband\u001b[39m\u001b[38;5;124m\"\u001b[39m]\u001b[38;5;241m.\u001b[39mappend(\n\u001b[1;32m    357\u001b[0m     result[\u001b[38;5;124m\"\u001b[39m\u001b[38;5;124mdeadband_value\u001b[39m\u001b[38;5;124m\"\u001b[39m]\u001b[38;5;241m.\u001b[39mtoPython()\n\u001b[1;32m    358\u001b[0m )\n",
      "\u001b[0;31mTypeError\u001b[0m: can't multiply sequence by non-int of type 'float'"
     ]
    }
   ],
   "source": [
    "site_metadata = LoadModel(\"test_site/test_build/test_build.ttl\", ontology = 'brick')\n",
    "site_info = site_metadata.get_site_info()\n",
    "thermostat_data = site_metadata.get_thermostat_data()"
   ]
  },
  {
   "cell_type": "code",
   "execution_count": null,
   "metadata": {},
   "outputs": [
    {
     "data": {
      "text/plain": [
       "{'heat_availability': [False, False],\n",
       " 'cool_availability': [True, True],\n",
       " 'heat_tolerance': [-2.0, -2.0],\n",
       " 'cool_tolerance': [2.0, 2.0],\n",
       " 'setpoint_deadband': [1, 1],\n",
       " 'active': [True, True],\n",
       " 'control_group': ['DEPRECATED', 'DEPRECATED'],\n",
       " 'control_type_list': ['stage', 'stage'],\n",
       " 'floor_area_list': [50.0, 50.0],\n",
       " 'window_area_list': [10.5, 10.5],\n",
       " 'azimuth_list': [180, 180],\n",
       " 'tilt_list': [30, 30],\n",
       " 'zone_ids': ['zone1', 'zone2'],\n",
       " 'hvacs': ['hvac1', 'hvac2'],\n",
       " 'setpoint_type': ['double', 'double'],\n",
       " 'fuel_heat_list': ['gas', 'gas'],\n",
       " 'fuel_cool_list': ['electricity', 'electricity'],\n",
       " 'cooling_capacity': [5.0, 5.0],\n",
       " 'heating_capacity': [4.0, 4.0],\n",
       " 'cooling_cop': [3.5, 3.5],\n",
       " 'heating_cop': [3.0, 3.0],\n",
       " 'cooling_electricity': [],\n",
       " 'heating_electricity': [],\n",
       " 'resolution': [1, 1],\n",
       " 'temperature_unit': [rdflib.term.URIRef('http://qudt.org/vocab/unit/DEG_F'),\n",
       "  rdflib.term.URIRef('http://qudt.org/vocab/unit/DEG_F')]}"
      ]
     },
     "execution_count": 10,
     "metadata": {},
     "output_type": "execute_result"
    }
   ],
   "source": [
    "thermostat_data"
   ]
  },
  {
   "cell_type": "code",
   "execution_count": null,
   "metadata": {},
   "outputs": [
    {
     "data": {
      "text/plain": [
       "{'heat_availability': [False],\n",
       " 'cool_availability': [True],\n",
       " 'heat_tolerance': [-2.0],\n",
       " 'cool_tolerance': [2.0],\n",
       " 'setpoint_deadband': [1],\n",
       " 'active': [True],\n",
       " 'control_group': ['DEPRECATED'],\n",
       " 'control_type_list': ['stage'],\n",
       " 'floor_area_list': [50.0],\n",
       " 'window_area_list': [10.5],\n",
       " 'azimuth_list': [180],\n",
       " 'tilt_list': [30],\n",
       " 'zone_ids': ['zone1'],\n",
       " 'hvacs': ['hvac1'],\n",
       " 'setpoint_type': ['double'],\n",
       " 'fuel_heat_list': ['gas'],\n",
       " 'fuel_cool_list': ['electricity'],\n",
       " 'cooling_capacity': [5.0],\n",
       " 'heating_capacity': [4.0],\n",
       " 'cooling_cop': [3.5],\n",
       " 'heating_cop': [3.0],\n",
       " 'cooling_electricity': [],\n",
       " 'heating_electricity': [],\n",
       " 'resolution': [1],\n",
       " 'temperature_unit': [rdflib.term.URIRef('http://qudt.org/vocab/unit/DEG_F')]}"
      ]
     },
     "execution_count": 11,
     "metadata": {},
     "output_type": "execute_result"
    }
   ],
   "source": [
    "site_metadata.get_thermostat_data(for_zone='zone1')"
   ]
  },
  {
   "cell_type": "code",
   "execution_count": null,
   "metadata": {},
   "outputs": [
    {
     "data": {
      "text/plain": [
       "{'tz': 'urn:hpflex/test-site#test-site.timezone',\n",
       " 'latitude': 'urn:hpflex/test-site#test-site.latitude',\n",
       " 'longitude': 'urn:hpflex/test-site#test-site.longitude',\n",
       " 'NOAAstation': 'urn:hpflex/test-site#test-site.noaastation',\n",
       " 'project_id': rdflib.term.URIRef('urn:hpflex/test-site#test-site'),\n",
       " 'site_id': rdflib.term.URIRef('urn:hpflex/test-site#test-site'),\n",
       " 'heat_availability': [False, False],\n",
       " 'cool_availability': [True, True],\n",
       " 'heat_tolerance': [-2.0, -2.0],\n",
       " 'cool_tolerance': [2.0, 2.0],\n",
       " 'setpoint_deadband': [1, 1],\n",
       " 'active': [True, True],\n",
       " 'control_group': ['DEPRECATED', 'DEPRECATED'],\n",
       " 'control_type_list': ['stage', 'stage'],\n",
       " 'floor_area_list': [50.0, 50.0],\n",
       " 'window_area_list': [10.5, 10.5],\n",
       " 'azimuth_list': [180, 180],\n",
       " 'tilt_list': [30, 30],\n",
       " 'zone_ids': ['zone1', 'zone2'],\n",
       " 'hvacs': ['hvac1', 'hvac2'],\n",
       " 'setpoint_type': ['double', 'double'],\n",
       " 'fuel_heat_list': ['gas', 'gas'],\n",
       " 'fuel_cool_list': ['electricity', 'electricity'],\n",
       " 'cooling_capacity': [5.0, 5.0],\n",
       " 'heating_capacity': [4.0, 4.0],\n",
       " 'cooling_cop': [3.5, 3.5],\n",
       " 'heating_cop': [3.0, 3.0],\n",
       " 'cooling_electricity': [],\n",
       " 'heating_electricity': [],\n",
       " 'resolution': [1, 1],\n",
       " 'temperature_unit': [rdflib.term.URIRef('http://qudt.org/vocab/unit/DEG_F'),\n",
       "  rdflib.term.URIRef('http://qudt.org/vocab/unit/DEG_F')]}"
      ]
     },
     "execution_count": 12,
     "metadata": {},
     "output_type": "execute_result"
    }
   ],
   "source": [
    "site_metadata.get_complete_output()"
   ]
  },
  {
   "cell_type": "markdown",
   "metadata": {},
   "source": [
    "# Testing Unit Conversion"
   ]
  },
  {
   "cell_type": "code",
   "execution_count": null,
   "metadata": {},
   "outputs": [
    {
     "data": {
      "text/plain": [
       "3.048"
      ]
     },
     "execution_count": 20,
     "metadata": {},
     "output_type": "execute_result"
    }
   ],
   "source": [
    "convert_units(10, 'FT', 'M')"
   ]
  },
  {
   "cell_type": "code",
   "execution_count": null,
   "metadata": {},
   "outputs": [
    {
     "data": {
      "text/plain": [
       "31.999999999999886"
      ]
     },
     "execution_count": 21,
     "metadata": {},
     "output_type": "execute_result"
    }
   ],
   "source": [
    "convert_units(0, 'DEG_C', 'DEG_F')"
   ]
  },
  {
   "cell_type": "code",
   "execution_count": null,
   "metadata": {},
   "outputs": [
    {
     "data": {
      "text/plain": [
       "273.15"
      ]
     },
     "execution_count": 22,
     "metadata": {},
     "output_type": "execute_result"
    }
   ],
   "source": [
    "convert_units(0, 'DEG_C', 'K')"
   ]
  },
  {
   "cell_type": "code",
   "execution_count": null,
   "metadata": {},
   "outputs": [
    {
     "name": "stdout",
     "output_type": "stream",
     "text": [
      "changing value of  urn:hpflex/test-site#window1_area from http://qudt.org/vocab/unit/FT2 to http://qudt.org/vocab/unit/M2\n",
      "changing value of  urn:hpflex/test-site#window2_area from http://qudt.org/vocab/unit/FT2 to http://qudt.org/vocab/unit/M2\n"
     ]
    },
    {
     "data": {
      "text/plain": [
       "{'heat_availability': [False],\n",
       " 'cool_availability': [True],\n",
       " 'heat_tolerance': [-2.0],\n",
       " 'cool_tolerance': [2.0],\n",
       " 'setpoint_deadband': [1],\n",
       " 'active': [True],\n",
       " 'control_group': ['DEPRECATED'],\n",
       " 'control_type_list': ['stage'],\n",
       " 'floor_area_list': [50.0],\n",
       " 'window_area_list': [0.9754819200000001],\n",
       " 'azimuth_list': [180],\n",
       " 'tilt_list': [30],\n",
       " 'zone_ids': ['zone1'],\n",
       " 'hvacs': ['hvac1'],\n",
       " 'setpoint_type': ['double'],\n",
       " 'fuel_heat_list': ['gas'],\n",
       " 'fuel_cool_list': ['electricity'],\n",
       " 'cooling_capacity': [5.0],\n",
       " 'heating_capacity': [4.0],\n",
       " 'cooling_cop': [3.5],\n",
       " 'heating_cop': [3.0],\n",
       " 'cooling_electricity': [],\n",
       " 'heating_electricity': [],\n",
       " 'resolution': [1],\n",
       " 'temperature_unit': [rdflib.term.URIRef('http://qudt.org/vocab/unit/DEG_F')]}"
      ]
     },
     "execution_count": 23,
     "metadata": {},
     "output_type": "execute_result"
    }
   ],
   "source": [
    "site_metadata.convert_model_to_si()\n",
    "site_metadata.get_thermostat_data(for_zone='zone1')"
   ]
  },
  {
   "cell_type": "code",
   "execution_count": null,
   "metadata": {},
   "outputs": [
    {
     "data": {
      "text/plain": [
       "\"\\nThe temperature unit still shows up as DEG_F, because it is at the units for the zone temperature, \\nwhich does not have a value to convert in the model, it's values are in the DB.\\nit is a reminder to also convert that to C also. We can use the unit_conversion script for any conversions in the db.\\n\""
      ]
     },
     "execution_count": 24,
     "metadata": {},
     "output_type": "execute_result"
    }
   ],
   "source": [
    "\"\"\"\n",
    "The temperature unit still shows up as DEG_F, because it is at the units for the zone temperature, \n",
    "which does not have a value to convert in the model, it's values are in the DB.\n",
    "it is a reminder to also convert that to C also. We can use the unit_conversion script for any conversions in the db.\n",
    "\"\"\""
   ]
  },
  {
   "cell_type": "markdown",
   "metadata": {},
   "source": [
    "# Testing Grafana Dashboarding "
   ]
  },
  {
   "cell_type": "code",
   "execution_count": null,
   "metadata": {},
   "outputs": [],
   "source": [
    "# import yaml \n",
    "# with open('../development_files/creds.yml') as f:\n",
    "#     config = yaml.safe_load(f)\n",
    "\n",
    "# bg = BrickToGrafana(grafana_server=config['grafana_server'], grafana_api_key = config['grafana_api_key'], datasource=config['datasource'], ttl_path = 'test-brick-model.ttl')"
   ]
  },
  {
   "cell_type": "code",
   "execution_count": null,
   "metadata": {},
   "outputs": [
    {
     "data": {
      "text/plain": [
       "Dashboard(title='AQL from brick', annotations=Annotations(list=[]), description='Zone-based dashboard generated from Brick model', editable=True, gnetId=None, graphTooltip=0, hideControls=False, id=None, inputs=[], links=[], panels=[], refresh='10s', rows=[], schemaVersion=12, sharedCrosshair=False, style='dark', tags=['brick'], templating=Templating(list=[]), time=Time(start='now-1h', end='now'), timePicker=TimePicker(refreshIntervals=['5s', '10s', '30s', '1m', '5m', '15m', '30m', '1h', '2h', '1d'], timeOptions=['5m', '15m', '1h', '6h', '12h', '24h', '2d', '7d', '30d'], nowDelay=None, hidden=False), timezone='browser', version=0, uid=None)"
      ]
     },
     "execution_count": 23,
     "metadata": {},
     "output_type": "execute_result"
    }
   ],
   "source": [
    "# bg.create_dashboard('AQL from brick')"
   ]
  },
  {
   "cell_type": "code",
   "execution_count": null,
   "metadata": {},
   "outputs": [],
   "source": [
    "# Grafana not set up, upload won't work\n",
    "# bg.upload_dashboard(message = 'testing upload')"
   ]
  }
 ],
 "metadata": {
  "kernelspec": {
   "display_name": "creating-brick-model",
   "language": "python",
   "name": "python3"
  },
  "language_info": {
   "codemirror_mode": {
    "name": "ipython",
    "version": 3
   },
   "file_extension": ".py",
   "mimetype": "text/x-python",
   "name": "python",
   "nbconvert_exporter": "python",
   "pygments_lexer": "ipython3",
   "version": "3.10.0"
  }
 },
 "nbformat": 4,
 "nbformat_minor": 2
}
