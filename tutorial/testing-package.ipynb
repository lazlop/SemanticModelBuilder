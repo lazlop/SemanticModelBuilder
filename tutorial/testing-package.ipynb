{
 "cells": [
  {
   "cell_type": "code",
   "execution_count": 27,
   "metadata": {},
   "outputs": [],
   "source": [
    "# import sys\n",
    "# sys.path.insert(0, '..')\n",
    "from semantic_mpc_interface import (\n",
    "    LoadModel,\n",
    "    get_thermostat_data,\n",
    "    HPFlexSurvey,\n",
    "    convert_units,\n",
    "    SHACLHandler\n",
    ")\n",
    "from buildingmotif.namespaces import BRICK, RDF\n",
    "from buildingmotif import BuildingMOTIF\n",
    "from buildingmotif.dataclasses import Library\n",
    "import csv\n",
    "from pyshacl.rdfutil import clone"
   ]
  },
  {
   "cell_type": "markdown",
   "metadata": {},
   "source": [
    "# Testing the Model Builder\n",
    "\n",
    "ModelBuilder has been deprecated in favor of just survey based workflow. May be readded in the future"
   ]
  },
  {
   "cell_type": "markdown",
   "metadata": {},
   "source": [
    "# Testing the Survey Workflow"
   ]
  },
  {
   "cell_type": "code",
   "execution_count": 28,
   "metadata": {},
   "outputs": [],
   "source": [
    "# Please disregard excessive outputs (logging and warnings)\n",
    "# TODO: Figure out how to configure these in building motif \n",
    "import logging\n",
    "logging.disable(logging.CRITICAL)\n",
    "import warnings\n",
    "warnings.filterwarnings(\"ignore\")"
   ]
  },
  {
   "cell_type": "code",
   "execution_count": 29,
   "metadata": {},
   "outputs": [
    {
     "name": "stdout",
     "output_type": "stream",
     "text": [
      "removing dependency:  space\n",
      "removing dependency:  window\n",
      "removing dependency:  hp-rtu\n",
      "removing dependency:  tstat\n",
      "values: dict_values([])\n",
      "values names: {}\n",
      "values: dict_values(['area-name-value'])\n",
      "values names: {'area-name': '<name>-area-name'}\n",
      "values: dict_values(['cooling_COP-name-value', 'heating_capacity-name-value', 'heating_COP-name-value', 'cooling_capacity-name-value'])\n",
      "values names: {'heating_capacity-name': '<name>-heating_capacity-name', 'heating_COP-name': '<name>-heating_COP-name', 'cooling_COP-name': '<name>-cooling_COP-name', 'cooling_capacity-name': '<name>-cooling_capacity-name'}\n",
      "values: dict_values(['setpoint_deadband-name-value', 'stage_count-name-value', 'resolution-name-value', 'tolerance-name-value', 'active-name-value'])\n",
      "values names: {'setpoint_deadband-name': '<name>-setpoint_deadband-name', 'resolution-name': '<name>-resolution-name', 'active-name': '<name>-active-name', 'stage_count-name': '<name>-stage_count-name', 'tolerance-name': '<name>-tolerance-name'}\n",
      "values: dict_values(['area-name-value', 'azimuth-name-value', 'tilt-name-value'])\n",
      "values names: {'area-name': '<name>-area-name', 'tilt-name': '<name>-tilt-name', 'azimuth-name': '<name>-azimuth-name'}\n",
      "values: dict_values(['latitude-name-value', 'timezone-name-value', 'longitude-name-value', 'noaastation-name-value'])\n",
      "values names: {'timezone-name': '<name>-timezone-name', 'longitude-name': '<name>-longitude-name', 'latitude-name': '<name>-latitude-name', 'noaastation-name': '<name>-noaastation-name'}\n",
      "{'site_id': 'test_site', 'hvac_type': 'hp-rtu', 'variatic_params': {'hvac-zone': {}, 'space': {'area-name': '<name>-area-name'}, 'hp-rtu': {'heating_capacity-name': '<name>-heating_capacity-name', 'heating_COP-name': '<name>-heating_COP-name', 'cooling_COP-name': '<name>-cooling_COP-name', 'cooling_capacity-name': '<name>-cooling_capacity-name'}, 'tstat': {'setpoint_deadband-name': '<name>-setpoint_deadband-name', 'resolution-name': '<name>-resolution-name', 'active-name': '<name>-active-name', 'stage_count-name': '<name>-stage_count-name', 'tolerance-name': '<name>-tolerance-name'}, 'window': {'area-name': '<name>-area-name', 'tilt-name': '<name>-tilt-name', 'azimuth-name': '<name>-azimuth-name'}, 'site': {'timezone-name': '<name>-timezone-name', 'longitude-name': '<name>-longitude-name', 'latitude-name': '<name>-latitude-name', 'noaastation-name': '<name>-noaastation-name'}}, 'param_mapping': {'hvac-zone': {}, 'space': {'area': 'area-name-value'}, 'hp-rtu': {'cooling_COP': 'cooling_COP-name-value', 'heating_capacity': 'heating_capacity-name-value', 'heating_COP': 'heating_COP-name-value', 'cooling_capacity': 'cooling_capacity-name-value'}, 'tstat': {'setpoint_deadband': 'setpoint_deadband-name-value', 'stage_count': 'stage_count-name-value', 'resolution': 'resolution-name-value', 'tolerance': 'tolerance-name-value', 'active': 'active-name-value'}, 'window': {'area': 'area-name-value', 'azimuth': 'azimuth-name-value', 'tilt': 'tilt-name-value'}, 'site': {'latitude': 'latitude-name-value', 'timezone': 'timezone-name-value', 'longitude': 'longitude-name-value', 'noaastation': 'noaastation-name-value'}}, 'hvacs_feed_hvacs': {}, 'hvacs_feed_zones': {'hvac_1': ['zone_1'], 'hvac_2': ['zone_2'], 'hvac_3': ['zone_3']}, 'zones_contain_spaces': {'zone_1': ['space_1_1', 'space_1_2'], 'zone_2': ['space_2_1'], 'zone_3': ['space_3_1']}, 'zones_contain_windows': {'zone_1': ['window_1_1', 'window_1_2'], 'zone_2': ['window_2_1', 'window_2_2'], 'zone_3': ['window_3_1', 'window_3_2', 'window_3_3']}}\n"
     ]
    }
   ],
   "source": [
    "# Creating survey, allow overwrite if there is something already there\n",
    "s = HPFlexSurvey('test_site','test_build','.', overwrite=True)\n",
    "\n",
    "# Generating a simple building structure that prefills csv files. \n",
    "s.easy_config(zone_space_window_list=[(2,2),(1,2),(1,3)])\n",
    "# Now check test_site/test_build to look at survey files\n"
   ]
  },
  {
   "cell_type": "code",
   "execution_count": 30,
   "metadata": {},
   "outputs": [],
   "source": [
    "# Will just fill the columns programmatically for testing, csv should be filled out otherwise\n",
    "import sys\n",
    "sys.path.insert(0,'../examples')\n",
    "from example_prefill_usage import prefill_csv_survey"
   ]
  },
  {
   "cell_type": "code",
   "execution_count": 31,
   "metadata": {},
   "outputs": [
    {
     "name": "stdout",
     "output_type": "stream",
     "text": [
      "Loading config from: test_site/test_build/config.json\n",
      "Found CSV files: ['zone', 'site', 'window', 'hvac', 'point_list', 'tstat', 'space']\n",
      "Filled 4 empty cells across 4 columns in site.csv\n",
      "Filled 21 empty cells across 3 columns in window.csv\n",
      "Filled 12 empty cells across 4 columns in hvac.csv\n",
      "No empty cells found in point_list.csv\n",
      "Filled 15 empty cells across 5 columns in tstat.csv\n",
      "Filled 4 empty cells across 1 columns in space.csv\n"
     ]
    }
   ],
   "source": [
    "prefill_csv_survey('test_site/test_build')"
   ]
  },
  {
   "cell_type": "code",
   "execution_count": 6,
   "metadata": {},
   "outputs": [
    {
     "name": "stdout",
     "output_type": "stream",
     "text": [
      "Expanded CSV shape: (6, 5)\n",
      "New columns added: []\n",
      "Expanded CSV shape: (4, 4)\n",
      "New columns added: ['area-name']\n",
      "Expanded CSV shape: (3, 13)\n",
      "New columns added: ['heating_capacity-name', 'heating_COP-name', 'cooling_COP-name', 'cooling_capacity-name']\n",
      "Expanded CSV shape: (3, 14)\n",
      "New columns added: ['setpoint_deadband-name', 'resolution-name', 'active-name', 'stage_count-name', 'tolerance-name']\n",
      "Expanded CSV shape: (7, 10)\n",
      "New columns added: ['area-name', 'tilt-name', 'azimuth-name']\n",
      "Expanded CSV shape: (1, 9)\n",
      "New columns added: ['timezone-name', 'longitude-name', 'latitude-name', 'noaastation-name']\n"
     ]
    }
   ],
   "source": [
    "# Reading csv\n",
    "s.read_csv()"
   ]
  },
  {
   "cell_type": "markdown",
   "metadata": {},
   "source": [
    "# Testing SHACL Generation and Validation"
   ]
  },
  {
   "cell_type": "code",
   "execution_count": 7,
   "metadata": {},
   "outputs": [],
   "source": [
    "og = clone.clone_graph(s.graph)"
   ]
  },
  {
   "cell_type": "code",
   "execution_count": 8,
   "metadata": {},
   "outputs": [],
   "source": [
    "# Create handler\n",
    "handler = SHACLHandler(ontology='brick')\n",
    "\n",
    "# Generate shapes\n",
    "handler.generate_shapes()\n",
    "\n",
    "# Save shapes\n",
    "handler.save_shapes('shapes.ttl')\n",
    "\n",
    "# Validate a model\n",
    "conforms, results_graph, results_text = handler.validate_model(s.graph)\n",
    "\n",
    "s.graph.serialize('test-brick-model-reasoned.ttl', format = 'ttl')\n",
    "if not conforms:\n",
    "    print(\"Validation failed:\")\n",
    "    print(results_text)"
   ]
  },
  {
   "cell_type": "code",
   "execution_count": 9,
   "metadata": {},
   "outputs": [
    {
     "name": "stdout",
     "output_type": "stream",
     "text": [
      "@prefix ns1: <urn:hpflex/shapes#> .\n",
      "\n",
      "<urn:hpflex/test_site#hvac_1> a ns1:hp-rtu ;\n",
      "    ns1:air-connects-to <urn:hpflex/test_site#zone_1> .\n",
      "\n",
      "<urn:hpflex/test_site#hvac_2> a ns1:hp-rtu ;\n",
      "    ns1:air-connects-to <urn:hpflex/test_site#zone_2> .\n",
      "\n",
      "<urn:hpflex/test_site#hvac_3> a ns1:hp-rtu ;\n",
      "    ns1:air-connects-to <urn:hpflex/test_site#zone_3> .\n",
      "\n",
      "<urn:hpflex/test_site#test_site> a ns1:site .\n",
      "\n",
      "<urn:hpflex/test_site#tstat_zone_1> a ns1:tstat ;\n",
      "    ns1:has-location <urn:hpflex/test_site#zone_1> ;\n",
      "    ns1:has-point <urn:hpflex/test_site#tstat_zone_1-active-name>,\n",
      "        <urn:hpflex/test_site#tstat_zone_1-setpoint_deadband-name>,\n",
      "        <urn:hpflex/test_site#tstat_zone_1-tolerance-name> .\n",
      "\n",
      "<urn:hpflex/test_site#tstat_zone_2> a ns1:tstat ;\n",
      "    ns1:has-location <urn:hpflex/test_site#zone_2> ;\n",
      "    ns1:has-point <urn:hpflex/test_site#tstat_zone_2-active-name>,\n",
      "        <urn:hpflex/test_site#tstat_zone_2-setpoint_deadband-name>,\n",
      "        <urn:hpflex/test_site#tstat_zone_2-tolerance-name> .\n",
      "\n",
      "<urn:hpflex/test_site#tstat_zone_3> a ns1:tstat ;\n",
      "    ns1:has-location <urn:hpflex/test_site#zone_3> ;\n",
      "    ns1:has-point <urn:hpflex/test_site#tstat_zone_3-active-name>,\n",
      "        <urn:hpflex/test_site#tstat_zone_3-setpoint_deadband-name>,\n",
      "        <urn:hpflex/test_site#tstat_zone_3-tolerance-name> .\n",
      "\n",
      "<urn:hpflex/test_site#window_2_1> a ns1:window .\n",
      "\n",
      "<urn:hpflex/test_site#window_3_1> a ns1:window .\n",
      "\n",
      "<urn:hpflex/test_site#window_3_2> a ns1:window .\n",
      "\n",
      "<urn:hpflex/test_site#> ns1:air-connects-to <urn:hpflex/test_site#zone_1> ;\n",
      "    ns1:has-location <urn:hpflex/test_site#zone_1> .\n",
      "\n",
      "<urn:hpflex/test_site#space_1_1> a ns1:space .\n",
      "\n",
      "<urn:hpflex/test_site#space_1_2> a ns1:space .\n",
      "\n",
      "<urn:hpflex/test_site#space_2_1> a ns1:space .\n",
      "\n",
      "<urn:hpflex/test_site#space_3_1> a ns1:space .\n",
      "\n",
      "<urn:hpflex/test_site#window_1_1> a ns1:window .\n",
      "\n",
      "<urn:hpflex/test_site#window_1_2> a ns1:window .\n",
      "\n",
      "<urn:hpflex/test_site#window_2_2> a ns1:window .\n",
      "\n",
      "<urn:hpflex/test_site#window_3_3> a ns1:window .\n",
      "\n",
      "<urn:hpflex/test_site#zone_2> a ns1:hvac-zone ;\n",
      "    ns1:has-space <urn:hpflex/test_site#space_2_1>,\n",
      "        <urn:hpflex/test_site#window_2_2> ;\n",
      "    ns1:has-window <urn:hpflex/test_site#space_2_1>,\n",
      "        <urn:hpflex/test_site#window_2_2> .\n",
      "\n",
      "<urn:hpflex/test_site#zone_3> a ns1:hvac-zone ;\n",
      "    ns1:has-space <urn:hpflex/test_site#space_3_1>,\n",
      "        <urn:hpflex/test_site#window_3_3> ;\n",
      "    ns1:has-window <urn:hpflex/test_site#space_3_1>,\n",
      "        <urn:hpflex/test_site#window_3_3> .\n",
      "\n",
      "<urn:hpflex/test_site#zone_1> a ns1:hvac-zone ;\n",
      "    ns1:has-space <urn:hpflex/test_site#>,\n",
      "        <urn:hpflex/test_site#space_1_1>,\n",
      "        <urn:hpflex/test_site#space_1_2>,\n",
      "        <urn:hpflex/test_site#window_1_1>,\n",
      "        <urn:hpflex/test_site#window_1_2> ;\n",
      "    ns1:has-window <urn:hpflex/test_site#>,\n",
      "        <urn:hpflex/test_site#space_1_1>,\n",
      "        <urn:hpflex/test_site#space_1_2>,\n",
      "        <urn:hpflex/test_site#window_1_1>,\n",
      "        <urn:hpflex/test_site#window_1_2> .\n",
      "\n",
      "\n"
     ]
    }
   ],
   "source": [
    "# lots of new inferred information\n",
    "(s.graph-og).print()"
   ]
  },
  {
   "cell_type": "markdown",
   "metadata": {},
   "source": [
    "# Testing get Metadata"
   ]
  },
  {
   "cell_type": "code",
   "execution_count": 10,
   "metadata": {},
   "outputs": [],
   "source": [
    "# still working on loader, will clean up class, but functionality about right\n",
    "loader = LoadModel(\"test_site/test_build/test_build.ttl\", ontology = 'brick')\n",
    "site_info = loader.get_all_building_objects()"
   ]
  },
  {
   "cell_type": "code",
   "execution_count": 11,
   "metadata": {},
   "outputs": [
    {
     "name": "stdout",
     "output_type": "stream",
     "text": [
      "{'sites': [Site(name='urn:hpflex/test_site#test_site', timezones=1, noaastations=1, latitudes=1, longitudes=1)], 'zones': [Hvaczone(name='urn:hpflex/test_site#zone_3', spaces=1, tstats=1, windows=1, hvacs=1), Hvaczone(name='urn:hpflex/test_site#zone_2', spaces=1, tstats=1, windows=1, hvacs=1), Hvaczone(name='urn:hpflex/test_site#zone_1', spaces=2, tstats=1, windows=2, hvacs=1)]}\n"
     ]
    }
   ],
   "source": [
    "print(site_info)"
   ]
  },
  {
   "cell_type": "code",
   "execution_count": 12,
   "metadata": {},
   "outputs": [
    {
     "name": "stdout",
     "output_type": "stream",
     "text": [
      "Hvaczone(name='urn:hpflex/test_site#zone_3', spaces=1, tstats=1, windows=1, hvacs=1)\n"
     ]
    }
   ],
   "source": [
    "zone = site_info['zones'][0]\n",
    "print(zone)"
   ]
  },
  {
   "cell_type": "code",
   "execution_count": 13,
   "metadata": {},
   "outputs": [
    {
     "data": {
      "text/plain": [
       "[Window(name='urn:hpflex/test_site#window_3_3', area=Value(value=7.0, unit='http://qudt.org/vocab/unit/FT2'), azimuth=Value(value=7.0, unit='http://qudt.org/vocab/unit/Degree'), tilt=Value(value=7.0, unit='http://qudt.org/vocab/unit/Degree'))]"
      ]
     },
     "execution_count": 13,
     "metadata": {},
     "output_type": "execute_result"
    }
   ],
   "source": [
    "zone.windows"
   ]
  },
  {
   "cell_type": "code",
   "execution_count": 14,
   "metadata": {},
   "outputs": [
    {
     "data": {
      "text/plain": [
       "rdflib.term.URIRef('urn:hpflex/test_site#window_3_3-area-name')"
      ]
     },
     "execution_count": 14,
     "metadata": {},
     "output_type": "execute_result"
    }
   ],
   "source": [
    "zone.windows[0].area.name"
   ]
  },
  {
   "cell_type": "code",
   "execution_count": 15,
   "metadata": {},
   "outputs": [
    {
     "data": {
      "text/plain": [
       "Tstat(name='urn:hpflex/test_site#tstat_zone_3', active=Value(value=3.0, unit='None'), setpoint_deadband=Value(value=3.0, unit='http://qudt.org/vocab/unit/DEG_F'), stage_count=Value(value=3.0, unit='None'), resolution=Value(value=3.0, unit='http://qudt.org/vocab/unit/DEG_F'), tolerance=Value(value=3.0, unit='http://qudt.org/vocab/unit/DEG_F'))"
      ]
     },
     "execution_count": 15,
     "metadata": {},
     "output_type": "execute_result"
    }
   ],
   "source": [
    "zone.tstats[0]"
   ]
  },
  {
   "cell_type": "code",
   "execution_count": 16,
   "metadata": {},
   "outputs": [
    {
     "name": "stdout",
     "output_type": "stream",
     "text": [
      "Value(value=3.0, unit='http://qudt.org/vocab/unit/DEG_F')\n",
      "Value(value=1.6666666666666667, unit='http://qudt.org/vocab/unit/DEG_C')\n",
      "True\n"
     ]
    }
   ],
   "source": [
    "print(zone.tstats[0].resolution)\n",
    "zone.tstats[0].resolution.convert_to_si()\n",
    "print(zone.tstats[0].resolution)\n",
    "print(zone.tstats[0].resolution.is_delta)"
   ]
  },
  {
   "cell_type": "code",
   "execution_count": 17,
   "metadata": {},
   "outputs": [
    {
     "name": "stdout",
     "output_type": "stream",
     "text": [
      "Value(value=1.6666666666666667, unit='http://qudt.org/vocab/unit/DEG_C')\n"
     ]
    }
   ],
   "source": [
    "# optionally just load everything as si \n",
    "si_loader = LoadModel(\"test_site/test_build/test_build.ttl\", ontology = 'brick', as_si_units=True)\n",
    "site_info = si_loader.get_all_building_objects()\n",
    "print(zone.tstats[0].resolution)"
   ]
  },
  {
   "cell_type": "code",
   "execution_count": 18,
   "metadata": {},
   "outputs": [
    {
     "data": {
      "text/plain": [
       "{'heat_availability': [True, True, True],\n",
       " 'cool_availability': [True, True, True],\n",
       " 'heat_tolerance': [-1.6666666666666667,\n",
       "  -1.1111111111111112,\n",
       "  -0.5555555555555556],\n",
       " 'cool_tolerance': [1.6666666666666667,\n",
       "  1.1111111111111112,\n",
       "  0.5555555555555556],\n",
       " 'setpoint_deadband': [1.6666666666666667,\n",
       "  1.1111111111111112,\n",
       "  0.5555555555555556],\n",
       " 'active': [],\n",
       " 'control_group': ['DEPRECATED', 'DEPRECATED', 'DEPRECATED'],\n",
       " 'control_type_list': [],\n",
       " 'floor_area_list': [0.37161216, 0.27870912000000003, 0.27870912000000003],\n",
       " 'floor_area_unit': ['http://qudt.org/vocab/unit/M2',\n",
       "  'http://qudt.org/vocab/unit/M2',\n",
       "  'http://qudt.org/vocab/unit/M2'],\n",
       " 'window_area_list': [0.65032128, 0.37161216, 0.18580608],\n",
       " 'window_area_unit': ['http://qudt.org/vocab/unit/M2',\n",
       "  'http://qudt.org/vocab/unit/M2',\n",
       "  'http://qudt.org/vocab/unit/M2'],\n",
       " 'azimuth_list': [7.0, 4.0, 2.0],\n",
       " 'azimuth_unit': ['http://qudt.org/vocab/unit/Degree',\n",
       "  'http://qudt.org/vocab/unit/Degree',\n",
       "  'http://qudt.org/vocab/unit/Degree'],\n",
       " 'tilt_list': [7.0, 4.0, 2.0],\n",
       " 'tilt_unit': ['http://qudt.org/vocab/unit/Degree',\n",
       "  'http://qudt.org/vocab/unit/Degree',\n",
       "  'http://qudt.org/vocab/unit/Degree'],\n",
       " 'zone_ids': ['zone_3', 'zone_2', 'zone_1'],\n",
       " 'hvacs': [rdflib.term.URIRef('urn:hpflex/test_site#hvac_3'),\n",
       "  rdflib.term.URIRef('urn:hpflex/test_site#hvac_2'),\n",
       "  rdflib.term.URIRef('urn:hpflex/test_site#hvac_1')],\n",
       " 'setpoint_type': ['double', 'double', 'double'],\n",
       " 'fuel_heat_list': ['electricity', 'electricity', 'electricity'],\n",
       " 'fuel_cool_list': ['electricity', 'electricity', 'electricity'],\n",
       " 'cooling_capacity': [0.00087921321, 0.00058614214, 0.00029307107],\n",
       " 'cooling_capacity_unit': ['http://qudt.org/vocab/unit/KiloW',\n",
       "  'http://qudt.org/vocab/unit/KiloW',\n",
       "  'http://qudt.org/vocab/unit/KiloW'],\n",
       " 'heating_capacity': [0.00087921321, 0.00058614214, 0.00029307107],\n",
       " 'heating_capacity_unit': ['http://qudt.org/vocab/unit/KiloW',\n",
       "  'http://qudt.org/vocab/unit/KiloW',\n",
       "  'http://qudt.org/vocab/unit/KiloW'],\n",
       " 'cooling_cop': [3.0, 2.0, 1.0],\n",
       " 'heating_cop': [3.0, 2.0, 1.0],\n",
       " 'cooling_electricity': [True, True, True],\n",
       " 'heating_electricity': [True, True, True],\n",
       " 'resolution': [1.6666666666666667, 1.1111111111111112, 0.5555555555555556],\n",
       " 'temperature_unit': ['unit_str', 'unit_str', 'unit_str']}"
      ]
     },
     "execution_count": 18,
     "metadata": {},
     "output_type": "execute_result"
    }
   ],
   "source": [
    "# Getting the thermostat metadata\n",
    "get_thermostat_data(si_loader)"
   ]
  },
  {
   "cell_type": "code",
   "execution_count": 19,
   "metadata": {},
   "outputs": [
    {
     "data": {
      "text/plain": [
       "{'heat_availability': [True, True],\n",
       " 'cool_availability': [True, True],\n",
       " 'heat_tolerance': [-1.1111111111111112, -0.5555555555555556],\n",
       " 'cool_tolerance': [1.1111111111111112, 0.5555555555555556],\n",
       " 'setpoint_deadband': [1.1111111111111112, 0.5555555555555556],\n",
       " 'active': [],\n",
       " 'control_group': ['DEPRECATED', 'DEPRECATED'],\n",
       " 'control_type_list': [],\n",
       " 'floor_area_list': [0.27870912000000003, 0.27870912000000003],\n",
       " 'floor_area_unit': ['http://qudt.org/vocab/unit/M2',\n",
       "  'http://qudt.org/vocab/unit/M2'],\n",
       " 'window_area_list': [0.37161216, 0.18580608],\n",
       " 'window_area_unit': ['http://qudt.org/vocab/unit/M2',\n",
       "  'http://qudt.org/vocab/unit/M2'],\n",
       " 'azimuth_list': [4.0, 2.0],\n",
       " 'azimuth_unit': ['http://qudt.org/vocab/unit/Degree',\n",
       "  'http://qudt.org/vocab/unit/Degree'],\n",
       " 'tilt_list': [4.0, 2.0],\n",
       " 'tilt_unit': ['http://qudt.org/vocab/unit/Degree',\n",
       "  'http://qudt.org/vocab/unit/Degree'],\n",
       " 'zone_ids': ['zone_2', 'zone_1'],\n",
       " 'hvacs': [rdflib.term.URIRef('urn:hpflex/test_site#hvac_2'),\n",
       "  rdflib.term.URIRef('urn:hpflex/test_site#hvac_1')],\n",
       " 'setpoint_type': ['double', 'double'],\n",
       " 'fuel_heat_list': ['electricity', 'electricity'],\n",
       " 'fuel_cool_list': ['electricity', 'electricity'],\n",
       " 'cooling_capacity': [0.00058614214, 0.00029307107],\n",
       " 'cooling_capacity_unit': ['http://qudt.org/vocab/unit/KiloW',\n",
       "  'http://qudt.org/vocab/unit/KiloW'],\n",
       " 'heating_capacity': [0.00058614214, 0.00029307107],\n",
       " 'heating_capacity_unit': ['http://qudt.org/vocab/unit/KiloW',\n",
       "  'http://qudt.org/vocab/unit/KiloW'],\n",
       " 'cooling_cop': [2.0, 1.0],\n",
       " 'heating_cop': [2.0, 1.0],\n",
       " 'cooling_electricity': [True, True],\n",
       " 'heating_electricity': [True, True],\n",
       " 'resolution': [1.1111111111111112, 0.5555555555555556],\n",
       " 'temperature_unit': ['unit_str', 'unit_str']}"
      ]
     },
     "execution_count": 19,
     "metadata": {},
     "output_type": "execute_result"
    }
   ],
   "source": [
    "# Getting the thermostat metadata for 1 zone \n",
    "get_thermostat_data(si_loader, ['zone_1','zone_2'])"
   ]
  },
  {
   "cell_type": "markdown",
   "metadata": {},
   "source": [
    "# Testing Unit Conversion"
   ]
  },
  {
   "cell_type": "code",
   "execution_count": 20,
   "metadata": {},
   "outputs": [
    {
     "data": {
      "text/plain": [
       "3.048"
      ]
     },
     "execution_count": 20,
     "metadata": {},
     "output_type": "execute_result"
    }
   ],
   "source": [
    "convert_units(10, 'FT', 'M')"
   ]
  },
  {
   "cell_type": "code",
   "execution_count": 21,
   "metadata": {},
   "outputs": [
    {
     "data": {
      "text/plain": [
       "31.999999999999886"
      ]
     },
     "execution_count": 21,
     "metadata": {},
     "output_type": "execute_result"
    }
   ],
   "source": [
    "convert_units(0, 'DEG_C', 'DEG_F')"
   ]
  },
  {
   "cell_type": "code",
   "execution_count": 22,
   "metadata": {},
   "outputs": [
    {
     "data": {
      "text/plain": [
       "273.15"
      ]
     },
     "execution_count": 22,
     "metadata": {},
     "output_type": "execute_result"
    }
   ],
   "source": [
    "convert_units(0, 'DEG_C', 'K')"
   ]
  },
  {
   "cell_type": "code",
   "execution_count": 23,
   "metadata": {},
   "outputs": [],
   "source": [
    "# Planning to implement converting everything to si in loader\n",
    "# loader.get_all_building_objects"
   ]
  },
  {
   "cell_type": "markdown",
   "metadata": {},
   "source": [
    "# Testing Grafana Dashboarding \n",
    "Needs updates"
   ]
  },
  {
   "cell_type": "code",
   "execution_count": 24,
   "metadata": {},
   "outputs": [],
   "source": [
    "# import yaml \n",
    "# with open('../development_files/creds.yml') as f:\n",
    "#     config = yaml.safe_load(f)\n",
    "\n",
    "# bg = BrickToGrafana(grafana_server=config['grafana_server'], grafana_api_key = config['grafana_api_key'], datasource=config['datasource'], ttl_path = 'test-brick-model.ttl')"
   ]
  },
  {
   "cell_type": "code",
   "execution_count": 25,
   "metadata": {},
   "outputs": [],
   "source": [
    "# bg.create_dashboard('AQL from brick')"
   ]
  },
  {
   "cell_type": "code",
   "execution_count": 26,
   "metadata": {},
   "outputs": [],
   "source": [
    "# Grafana not set up, upload won't work\n",
    "# bg.upload_dashboard(message = 'testing upload')"
   ]
  },
  {
   "cell_type": "code",
   "execution_count": null,
   "metadata": {},
   "outputs": [],
   "source": []
  }
 ],
 "metadata": {
  "kernelspec": {
   "display_name": "semantic-mpc-interface (3.10.0)",
   "language": "python",
   "name": "python3"
  },
  "language_info": {
   "codemirror_mode": {
    "name": "ipython",
    "version": 3
   },
   "file_extension": ".py",
   "mimetype": "text/x-python",
   "name": "python",
   "nbconvert_exporter": "python",
   "pygments_lexer": "ipython3",
   "version": "3.10.0"
  }
 },
 "nbformat": 4,
 "nbformat_minor": 2
}
