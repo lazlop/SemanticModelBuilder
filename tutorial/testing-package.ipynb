{
 "cells": [
  {
   "cell_type": "code",
   "execution_count": 1,
   "metadata": {},
   "outputs": [
    {
     "name": "stderr",
     "output_type": "stream",
     "text": [
      "CRITICAL:root:Install the 'bacnet-ingress' module, e.g. 'pip install buildingmotif[bacnet-ingress]'\n"
     ]
    }
   ],
   "source": [
    "# import sys\n",
    "# sys.path.insert(0, '..')\n",
    "from semantic_mpc_interface import (\n",
    "    LoadModel,\n",
    "    get_thermostat_data,\n",
    "    HPFlexSurvey,\n",
    "    convert_units,\n",
    "    SHACLHandler,\n",
    "    # add_connection\n",
    ")\n",
    "from buildingmotif.namespaces import BRICK, RDF, S223\n",
    "from rdflib import URIRef\n",
    "from buildingmotif import BuildingMOTIF\n",
    "from buildingmotif.dataclasses import Library\n",
    "import csv\n",
    "from pyshacl.rdfutil import clone\n",
    "\n",
    "# SELECT ONTOLOGY \n",
    "ontology = 's223'"
   ]
  },
  {
   "cell_type": "markdown",
   "metadata": {},
   "source": [
    "# Testing the Model Builder\n",
    "\n",
    "ModelBuilder has been deprecated in favor of just survey based workflow. May be readded in the future"
   ]
  },
  {
   "cell_type": "markdown",
   "metadata": {},
   "source": [
    "# Testing the Survey Workflow"
   ]
  },
  {
   "cell_type": "code",
   "execution_count": 2,
   "metadata": {},
   "outputs": [],
   "source": [
    "# Please disregard excessive outputs (logging and warnings)\n",
    "# TODO: Figure out how to configure these in building motif \n",
    "import logging\n",
    "logging.disable(logging.CRITICAL)\n",
    "import warnings\n",
    "warnings.filterwarnings(\"ignore\")"
   ]
  },
  {
   "cell_type": "code",
   "execution_count": 3,
   "metadata": {},
   "outputs": [
    {
     "name": "stdout",
     "output_type": "stream",
     "text": [
      "removing dependency:  space\n",
      "removing dependency:  window\n",
      "removing dependency:  hp-rtu\n",
      "removing dependency:  tstat\n",
      "values: dict_values([])\n",
      "values names: {}\n",
      "values: dict_values(['area-value'])\n",
      "values names: {'area': '<name>-area'}\n",
      "values: dict_values(['cooling_capacity-value', 'heating_capacity-value', 'cooling_COP-value', 'heating_COP-value'])\n",
      "values names: {'cooling_capacity': '<name>-cooling_capacity', 'cooling_COP': '<name>-cooling_COP', 'heating_COP': '<name>-heating_COP', 'heating_capacity': '<name>-heating_capacity'}\n",
      "values: dict_values(['setpoint_deadband-value', 'active-value', 'resolution-value', 'tolerance-value', 'stage_count-value'])\n",
      "values names: {'active': '<name>-active', 'resolution': '<name>-resolution', 'setpoint_deadband': '<name>-setpoint_deadband', 'tolerance': '<name>-tolerance', 'stage_count': '<name>-stage_count'}\n",
      "values: dict_values(['tilt-value', 'azimuth-value', 'area-value'])\n",
      "values names: {'area': '<name>-area', 'tilt': '<name>-tilt', 'azimuth': '<name>-azimuth'}\n",
      "values: dict_values(['latitude-value', 'timezone-value', 'longitude-value', 'noaastation-value'])\n",
      "values names: {'timezone': '<name>-timezone', 'latitude': '<name>-latitude', 'longitude': '<name>-longitude', 'noaastation': '<name>-noaastation'}\n",
      "{'site_id': 's223-test_site', 'hvac_type': 'hp-rtu', 'variable_params': {'hvac-zone': {}, 'space': {'area': '<name>-area'}, 'hp-rtu': {'cooling_capacity': '<name>-cooling_capacity', 'cooling_COP': '<name>-cooling_COP', 'heating_COP': '<name>-heating_COP', 'heating_capacity': '<name>-heating_capacity'}, 'tstat': {'active': '<name>-active', 'resolution': '<name>-resolution', 'setpoint_deadband': '<name>-setpoint_deadband', 'tolerance': '<name>-tolerance', 'stage_count': '<name>-stage_count'}, 'window': {'area': '<name>-area', 'tilt': '<name>-tilt', 'azimuth': '<name>-azimuth'}, 'site': {'timezone': '<name>-timezone', 'latitude': '<name>-latitude', 'longitude': '<name>-longitude', 'noaastation': '<name>-noaastation'}}, 'param_mapping': {'hvac-zone': {}, 'space': {'area': 'area-value'}, 'hp-rtu': {'cooling_capacity': 'cooling_capacity-value', 'heating_capacity': 'heating_capacity-value', 'cooling_COP': 'cooling_COP-value', 'heating_COP': 'heating_COP-value'}, 'tstat': {'setpoint_deadband': 'setpoint_deadband-value', 'active': 'active-value', 'resolution': 'resolution-value', 'tolerance': 'tolerance-value', 'stage_count': 'stage_count-value'}, 'window': {'tilt': 'tilt-value', 'azimuth': 'azimuth-value', 'area': 'area-value'}, 'site': {'latitude': 'latitude-value', 'timezone': 'timezone-value', 'longitude': 'longitude-value', 'noaastation': 'noaastation-value'}}, 'hvacs_feed_hvacs': {}, 'hvacs_feed_zones': {'hvac_1': ['zone_1'], 'hvac_2': ['zone_2'], 'hvac_3': ['zone_3']}, 'zones_contain_spaces': {'zone_1': ['space_1_1', 'space_1_2'], 'zone_2': ['space_2_1'], 'zone_3': ['space_3_1']}, 'zones_contain_windows': {'zone_1': ['window_1_1', 'window_1_2'], 'zone_2': ['window_2_1', 'window_2_2'], 'zone_3': ['window_3_1', 'window_3_2', 'window_3_3']}}\n"
     ]
    }
   ],
   "source": [
    "# Creating survey, allow overwrite if there is something already there\n",
    "s = HPFlexSurvey(f'{ontology}-test_site','test_build','.', overwrite=True, ontology=ontology,\n",
    "                 template_dict = {'zone': 'hvac-zone',\n",
    "                                  \"space\": \"space\",\n",
    "                                  \"hvac\": \"hp-rtu\",\n",
    "                                  \"tstat\": \"tstat\",\n",
    "                                  \"window\": \"window\",\n",
    "                                  \"site\": \"site\" })\n",
    "\n",
    "# Generating a simple building structure that prefills csv files. \n",
    "s.easy_config(zone_space_window_list=[(2,2),(1,2),(1,3)])\n",
    "# Now check test_site/test_build to look at survey files\n"
   ]
  },
  {
   "cell_type": "code",
   "execution_count": 4,
   "metadata": {},
   "outputs": [],
   "source": [
    "# Will just fill the columns programmatically for testing, csv should be filled out otherwise\n",
    "import sys\n",
    "sys.path.insert(0,'../examples')\n",
    "from example_prefill_usage import prefill_csv_survey"
   ]
  },
  {
   "cell_type": "code",
   "execution_count": 5,
   "metadata": {},
   "outputs": [
    {
     "name": "stdout",
     "output_type": "stream",
     "text": [
      "Loading config from: s223-test_site/test_build/config.json\n",
      "Found CSV files: ['zone', 'site', 'window', 'hvac', 'point_list', 'tstat', 'space']\n",
      "Filled 10 empty cells in zone.csv\n",
      "No empty cells found in site.csv\n",
      "No empty cells found in window.csv\n",
      "No empty cells found in hvac.csv\n",
      "No empty cells found in point_list.csv\n",
      "No empty cells found in tstat.csv\n",
      "No empty cells found in space.csv\n"
     ]
    }
   ],
   "source": [
    "prefill_csv_survey(f'{ontology}-test_site/test_build')"
   ]
  },
  {
   "cell_type": "code",
   "execution_count": 6,
   "metadata": {},
   "outputs": [
    {
     "name": "stdout",
     "output_type": "stream",
     "text": [
      "Expanded CSV shape: (6, 5)\n",
      "New columns added: []\n",
      "Expanded CSV shape: (4, 3)\n",
      "New columns added: ['area']\n"
     ]
    },
    {
     "ename": "Exception",
     "evalue": "Paramaters {'area'} are still unused!",
     "output_type": "error",
     "traceback": [
      "\u001b[0;31m---------------------------------------------------------------------------\u001b[0m",
      "\u001b[0;31mException\u001b[0m                                 Traceback (most recent call last)",
      "Cell \u001b[0;32mIn[6], line 2\u001b[0m\n\u001b[1;32m      1\u001b[0m \u001b[38;5;66;03m# Reading csv\u001b[39;00m\n\u001b[0;32m----> 2\u001b[0m \u001b[43ms\u001b[49m\u001b[38;5;241;43m.\u001b[39;49m\u001b[43mread_csv\u001b[49m\u001b[43m(\u001b[49m\u001b[43m)\u001b[49m\n",
      "File \u001b[0;32m~/Desktop/HPflex/Semantic_MPC_Interface/src/semantic_mpc_interface/survey.py:240\u001b[0m, in \u001b[0;36mSurvey.read_csv\u001b[0;34m(self, serialize)\u001b[0m\n\u001b[1;32m    238\u001b[0m ingress \u001b[38;5;241m=\u001b[39m TemplateIngress(template, mapper, csv_in)\n\u001b[1;32m    239\u001b[0m \u001b[38;5;66;03m#NOTE: Ingress puts everything into the given namespace, will have to change unit namespaces manually \u001b[39;00m\n\u001b[0;32m--> 240\u001b[0m graph \u001b[38;5;241m=\u001b[39m \u001b[43mingress\u001b[49m\u001b[38;5;241;43m.\u001b[39;49m\u001b[43mgraph\u001b[49m\u001b[43m(\u001b[49m\u001b[38;5;28;43mself\u001b[39;49m\u001b[38;5;241;43m.\u001b[39;49m\u001b[43mbuilding_ns\u001b[49m\u001b[43m)\u001b[49m\n\u001b[1;32m    241\u001b[0m change_ns(graph)\n\u001b[1;32m    242\u001b[0m \u001b[38;5;28mself\u001b[39m\u001b[38;5;241m.\u001b[39mgraph \u001b[38;5;241m+\u001b[39m\u001b[38;5;241m=\u001b[39m graph\n",
      "File \u001b[0;32m~/Desktop/HPflex/Semantic_MPC_Interface/.venv/lib/python3.10/site-packages/buildingmotif/ingresses/template.py:89\u001b[0m, in \u001b[0;36mTemplateIngress.graph\u001b[0;34m(self, ns)\u001b[0m\n\u001b[1;32m     87\u001b[0m         g \u001b[38;5;241m+\u001b[39m\u001b[38;5;241m=\u001b[39m graph\n\u001b[1;32m     88\u001b[0m         \u001b[38;5;28;01mcontinue\u001b[39;00m\n\u001b[0;32m---> 89\u001b[0m     \u001b[38;5;28;01mraise\u001b[39;00m \u001b[38;5;167;01mException\u001b[39;00m(\u001b[38;5;124mf\u001b[39m\u001b[38;5;124m\"\u001b[39m\u001b[38;5;124mParamaters \u001b[39m\u001b[38;5;132;01m{\u001b[39;00mgraph\u001b[38;5;241m.\u001b[39mparameters\u001b[38;5;132;01m}\u001b[39;00m\u001b[38;5;124m are still unused!\u001b[39m\u001b[38;5;124m\"\u001b[39m)\n\u001b[1;32m     90\u001b[0m \u001b[38;5;28;01mreturn\u001b[39;00m g\n",
      "\u001b[0;31mException\u001b[0m: Paramaters {'area'} are still unused!"
     ]
    }
   ],
   "source": [
    "# Reading csv\n",
    "s.read_csv()"
   ]
  },
  {
   "cell_type": "markdown",
   "metadata": {},
   "source": [
    "# Testing SHACL Generation and Validation"
   ]
  },
  {
   "cell_type": "code",
   "execution_count": null,
   "metadata": {},
   "outputs": [],
   "source": [
    "og = clone.clone_graph(s.graph)"
   ]
  },
  {
   "cell_type": "code",
   "execution_count": null,
   "metadata": {},
   "outputs": [],
   "source": [
    "# Create handler\n",
    "handler = SHACLHandler(ontology=ontology)\n",
    "\n",
    "# Generate shapes\n",
    "handler.generate_shapes()\n",
    "\n",
    "# Save shapes\n",
    "handler.save_shapes('shapes.ttl')\n",
    "\n",
    "# Validate a model\n",
    "conforms, results_graph, results_text = handler.validate_model(s.graph)\n",
    "\n",
    "s.graph.serialize(f'{ontology}-test-model-reasoned.ttl', format = 'ttl')\n",
    "if not conforms:\n",
    "    print(\"Validation failed:\")\n",
    "    print(results_text)"
   ]
  },
  {
   "cell_type": "code",
   "execution_count": null,
   "metadata": {},
   "outputs": [
    {
     "name": "stdout",
     "output_type": "stream",
     "text": [
      "@prefix ns1: <urn:hpflex/shapes#> .\n",
      "\n",
      "<urn:hpflex/s223-test_site#hvac_1> ns1:air-connected-to <urn:hpflex/s223-test_site#zone_1> ;\n",
      "    ns1:has-point <urn:hpflex/s223-test_site#1.0> .\n",
      "\n",
      "<urn:hpflex/s223-test_site#hvac_2> ns1:air-connected-to <urn:hpflex/s223-test_site#zone_2> ;\n",
      "    ns1:has-point <urn:hpflex/s223-test_site#2.0> .\n",
      "\n",
      "<urn:hpflex/s223-test_site#hvac_3> ns1:air-connected-to <urn:hpflex/s223-test_site#zone_3> ;\n",
      "    ns1:has-point <urn:hpflex/s223-test_site#3.0> .\n",
      "\n",
      "<urn:hpflex/s223-test_site#s223-test_site> a ns1:space ;\n",
      "    ns1:has-point <urn:hpflex/s223-test_site#1.0> .\n",
      "\n",
      "<urn:hpflex/s223-test_site#tstat_zone_1> ns1:has-location <urn:hpflex/s223-test_site#zone_1> ;\n",
      "    ns1:has-point <urn:hpflex/s223-test_site#1.0> .\n",
      "\n",
      "<urn:hpflex/s223-test_site#tstat_zone_2> ns1:has-location <urn:hpflex/s223-test_site#zone_2> ;\n",
      "    ns1:has-point <urn:hpflex/s223-test_site#2.0> .\n",
      "\n",
      "<urn:hpflex/s223-test_site#tstat_zone_3> ns1:has-location <urn:hpflex/s223-test_site#zone_3> ;\n",
      "    ns1:has-point <urn:hpflex/s223-test_site#3.0> .\n",
      "\n",
      "<urn:hpflex/s223-test_site#window_2_1> ns1:has-point <urn:hpflex/s223-test_site#3.0> .\n",
      "\n",
      "<urn:hpflex/s223-test_site#window_3_1> ns1:has-point <urn:hpflex/s223-test_site#5.0> .\n",
      "\n",
      "<urn:hpflex/s223-test_site#window_3_2> ns1:has-point <urn:hpflex/s223-test_site#6.0> .\n",
      "\n",
      "<urn:hpflex/s223-test_site#space_1_1> a ns1:space ;\n",
      "    ns1:has-point <urn:hpflex/s223-test_site#1.0> .\n",
      "\n",
      "<urn:hpflex/s223-test_site#space_1_2> a ns1:space ;\n",
      "    ns1:has-point <urn:hpflex/s223-test_site#2.0> .\n",
      "\n",
      "<urn:hpflex/s223-test_site#space_2_1> a ns1:space ;\n",
      "    ns1:has-point <urn:hpflex/s223-test_site#3.0> .\n",
      "\n",
      "<urn:hpflex/s223-test_site#space_3_1> a ns1:space ;\n",
      "    ns1:has-point <urn:hpflex/s223-test_site#4.0> .\n",
      "\n",
      "<urn:hpflex/s223-test_site#window_1_1> ns1:has-point <urn:hpflex/s223-test_site#1.0> .\n",
      "\n",
      "<urn:hpflex/s223-test_site#window_1_2> ns1:has-point <urn:hpflex/s223-test_site#2.0> .\n",
      "\n",
      "<urn:hpflex/s223-test_site#window_2_2> ns1:has-point <urn:hpflex/s223-test_site#4.0> .\n",
      "\n",
      "<urn:hpflex/s223-test_site#window_3_3> ns1:has-point <urn:hpflex/s223-test_site#7.0> .\n",
      "\n",
      "<urn:hpflex/s223-test_site#zone_1> a ns1:hvac-zone ;\n",
      "    ns1:air-connected-to <urn:hpflex/s223-test_site#window_1_1>,\n",
      "        <urn:hpflex/s223-test_site#window_1_2> ;\n",
      "    ns1:has-space <urn:hpflex/s223-test_site#space_1_1>,\n",
      "        <urn:hpflex/s223-test_site#space_1_2> ;\n",
      "    ns1:has-window <urn:hpflex/s223-test_site#window_1_1>,\n",
      "        <urn:hpflex/s223-test_site#window_1_2> .\n",
      "\n",
      "<urn:hpflex/s223-test_site#zone_2> a ns1:hvac-zone ;\n",
      "    ns1:air-connected-to <urn:hpflex/s223-test_site#window_2_2> ;\n",
      "    ns1:has-space <urn:hpflex/s223-test_site#space_2_1> ;\n",
      "    ns1:has-window <urn:hpflex/s223-test_site#window_2_2> .\n",
      "\n",
      "<urn:hpflex/s223-test_site#zone_3> a ns1:hvac-zone ;\n",
      "    ns1:air-connected-to <urn:hpflex/s223-test_site#window_3_3> ;\n",
      "    ns1:has-space <urn:hpflex/s223-test_site#space_3_1> ;\n",
      "    ns1:has-window <urn:hpflex/s223-test_site#window_3_3> .\n",
      "\n",
      "\n"
     ]
    }
   ],
   "source": [
    "# lots of new inferred information\n",
    "(s.graph-og).print()"
   ]
  },
  {
   "cell_type": "markdown",
   "metadata": {},
   "source": [
    "# Testing get Metadata"
   ]
  },
  {
   "cell_type": "code",
   "execution_count": null,
   "metadata": {},
   "outputs": [],
   "source": [
    "# still working on loader, will clean up class, but functionality about right\n",
    "loader = LoadModel(f\"{ontology}-test_site/test_build/test_build.ttl\", \n",
    "                   template_dict={'sites':'site', 'zones': 'hvac-zone'}, \n",
    "                   ontology = ontology)\n",
    "site_info = loader.get_all_building_objects()"
   ]
  },
  {
   "cell_type": "code",
   "execution_count": null,
   "metadata": {},
   "outputs": [
    {
     "name": "stdout",
     "output_type": "stream",
     "text": [
      "{'sites': [Site(name='urn:hpflex/s223-test_site#s223-test_site', noaastations=1, latitudes=1, longitudes=1, timezones=1)], 'zones': [Hvac-zone(name='urn:hpflex/s223-test_site#zone_3', hvacs=1, tstats=1, windows=1, spaces=1), Hvac-zone(name='urn:hpflex/s223-test_site#zone_2', hvacs=1, tstats=1, windows=1, spaces=1), Hvac-zone(name='urn:hpflex/s223-test_site#zone_1', hvacs=1, tstats=1, windows=2, spaces=2)]}\n"
     ]
    }
   ],
   "source": [
    "print(site_info)"
   ]
  },
  {
   "cell_type": "code",
   "execution_count": null,
   "metadata": {},
   "outputs": [
    {
     "name": "stdout",
     "output_type": "stream",
     "text": [
      "Hvac-zone(name='urn:hpflex/s223-test_site#zone_3', hvacs=1, tstats=1, windows=1, spaces=1)\n"
     ]
    }
   ],
   "source": [
    "zone = site_info['zones'][0]\n",
    "print(zone)"
   ]
  },
  {
   "cell_type": "code",
   "execution_count": null,
   "metadata": {},
   "outputs": [
    {
     "data": {
      "text/plain": [
       "[Space(name='urn:hpflex/s223-test_site#space_3_1', area=Value(value=4.0, unit='http://qudt.org/vocab/unit/FT2'))]"
      ]
     },
     "execution_count": 14,
     "metadata": {},
     "output_type": "execute_result"
    }
   ],
   "source": [
    "zone.spaces"
   ]
  },
  {
   "cell_type": "code",
   "execution_count": null,
   "metadata": {},
   "outputs": [
    {
     "data": {
      "text/plain": [
       "rdflib.term.URIRef('urn:hpflex/s223-test_site#window_3_3-area-name')"
      ]
     },
     "execution_count": 15,
     "metadata": {},
     "output_type": "execute_result"
    }
   ],
   "source": [
    "zone.windows[0].area.name"
   ]
  },
  {
   "cell_type": "code",
   "execution_count": null,
   "metadata": {},
   "outputs": [
    {
     "data": {
      "text/plain": [
       "Tstat(name='urn:hpflex/s223-test_site#tstat_zone_3', stage_count=Value(value=3.0, unit='None'), resolution=Value(value=3.0, unit='http://qudt.org/vocab/unit/DEG_F'), setpoint_deadband=Value(value=3.0, unit='http://qudt.org/vocab/unit/DEG_F'), tolerance=Value(value=3.0, unit='http://qudt.org/vocab/unit/DEG_F'), active=Value(value=3.0, unit='None'))"
      ]
     },
     "execution_count": 16,
     "metadata": {},
     "output_type": "execute_result"
    }
   ],
   "source": [
    "zone.tstats[0]"
   ]
  },
  {
   "cell_type": "code",
   "execution_count": null,
   "metadata": {},
   "outputs": [
    {
     "name": "stdout",
     "output_type": "stream",
     "text": [
      "Value(value=3.0, unit='http://qudt.org/vocab/unit/DEG_F')\n",
      "Value(value=1.6666666666666667, unit='http://qudt.org/vocab/unit/DEG_C')\n",
      "True\n"
     ]
    }
   ],
   "source": [
    "print(zone.tstats[0].resolution)\n",
    "zone.tstats[0].resolution.convert_to_si()\n",
    "print(zone.tstats[0].resolution)\n",
    "print(zone.tstats[0].resolution.is_delta)"
   ]
  },
  {
   "cell_type": "code",
   "execution_count": null,
   "metadata": {},
   "outputs": [
    {
     "name": "stdout",
     "output_type": "stream",
     "text": [
      "Warning: Could not retrieve objects for template 'site': Multiple rows were found when exactly one was required\n",
      "Warning: Could not retrieve objects for template 'hvac-zone': Multiple rows were found when exactly one was required\n",
      "Value(value=1.6666666666666667, unit='http://qudt.org/vocab/unit/DEG_C')\n"
     ]
    }
   ],
   "source": [
    "# optionally just load everything as si \n",
    "si_loader = LoadModel(f\"{ontology}-test_site/test_build/test_build.ttl\", ontology = 'brick', as_si_units=True)\n",
    "site_info = si_loader.get_all_building_objects()\n",
    "print(zone.tstats[0].resolution)"
   ]
  },
  {
   "cell_type": "code",
   "execution_count": null,
   "metadata": {},
   "outputs": [
    {
     "name": "stdout",
     "output_type": "stream",
     "text": [
      "Warning: Could not retrieve objects for template 'site': Multiple rows were found when exactly one was required\n",
      "Warning: Could not retrieve objects for template 'hvac-zone': Multiple rows were found when exactly one was required\n"
     ]
    },
    {
     "data": {
      "text/plain": [
       "{'heat_availability': [],\n",
       " 'cool_availability': [],\n",
       " 'heat_tolerance': [],\n",
       " 'cool_tolerance': [],\n",
       " 'setpoint_deadband': [],\n",
       " 'active': [],\n",
       " 'control_group': [],\n",
       " 'control_type_list': [],\n",
       " 'floor_area_list': [],\n",
       " 'floor_area_unit': [],\n",
       " 'window_area_list': [],\n",
       " 'window_area_unit': [],\n",
       " 'azimuth_list': [],\n",
       " 'azimuth_unit': [],\n",
       " 'tilt_list': [],\n",
       " 'tilt_unit': [],\n",
       " 'zone_ids': [],\n",
       " 'hvacs': [],\n",
       " 'setpoint_type': [],\n",
       " 'fuel_heat_list': [],\n",
       " 'fuel_cool_list': [],\n",
       " 'cooling_capacity': [],\n",
       " 'cooling_capacity_unit': [],\n",
       " 'heating_capacity': [],\n",
       " 'heating_capacity_unit': [],\n",
       " 'cooling_cop': [],\n",
       " 'heating_cop': [],\n",
       " 'cooling_electricity': [],\n",
       " 'heating_electricity': [],\n",
       " 'resolution': [],\n",
       " 'temperature_unit': []}"
      ]
     },
     "execution_count": 19,
     "metadata": {},
     "output_type": "execute_result"
    }
   ],
   "source": [
    "# Getting the thermostat metadata\n",
    "get_thermostat_data(si_loader)"
   ]
  },
  {
   "cell_type": "code",
   "execution_count": null,
   "metadata": {},
   "outputs": [
    {
     "name": "stdout",
     "output_type": "stream",
     "text": [
      "Warning: Could not retrieve objects for template 'site': Multiple rows were found when exactly one was required\n",
      "Warning: Could not retrieve objects for template 'hvac-zone': Multiple rows were found when exactly one was required\n"
     ]
    },
    {
     "data": {
      "text/plain": [
       "{'heat_availability': [],\n",
       " 'cool_availability': [],\n",
       " 'heat_tolerance': [],\n",
       " 'cool_tolerance': [],\n",
       " 'setpoint_deadband': [],\n",
       " 'active': [],\n",
       " 'control_group': [],\n",
       " 'control_type_list': [],\n",
       " 'floor_area_list': [],\n",
       " 'floor_area_unit': [],\n",
       " 'window_area_list': [],\n",
       " 'window_area_unit': [],\n",
       " 'azimuth_list': [],\n",
       " 'azimuth_unit': [],\n",
       " 'tilt_list': [],\n",
       " 'tilt_unit': [],\n",
       " 'zone_ids': [],\n",
       " 'hvacs': [],\n",
       " 'setpoint_type': [],\n",
       " 'fuel_heat_list': [],\n",
       " 'fuel_cool_list': [],\n",
       " 'cooling_capacity': [],\n",
       " 'cooling_capacity_unit': [],\n",
       " 'heating_capacity': [],\n",
       " 'heating_capacity_unit': [],\n",
       " 'cooling_cop': [],\n",
       " 'heating_cop': [],\n",
       " 'cooling_electricity': [],\n",
       " 'heating_electricity': [],\n",
       " 'resolution': [],\n",
       " 'temperature_unit': []}"
      ]
     },
     "execution_count": 20,
     "metadata": {},
     "output_type": "execute_result"
    }
   ],
   "source": [
    "# Getting the thermostat metadata for 1 zone \n",
    "get_thermostat_data(si_loader, ['zone_1','zone_2'])"
   ]
  },
  {
   "cell_type": "markdown",
   "metadata": {},
   "source": [
    "# Testing Unit Conversion"
   ]
  },
  {
   "cell_type": "code",
   "execution_count": null,
   "metadata": {},
   "outputs": [
    {
     "data": {
      "text/plain": [
       "3.048"
      ]
     },
     "execution_count": 21,
     "metadata": {},
     "output_type": "execute_result"
    }
   ],
   "source": [
    "convert_units(10, 'FT', 'M')"
   ]
  },
  {
   "cell_type": "code",
   "execution_count": null,
   "metadata": {},
   "outputs": [
    {
     "data": {
      "text/plain": [
       "31.999999999999886"
      ]
     },
     "execution_count": 22,
     "metadata": {},
     "output_type": "execute_result"
    }
   ],
   "source": [
    "convert_units(0, 'DEG_C', 'DEG_F')"
   ]
  },
  {
   "cell_type": "code",
   "execution_count": null,
   "metadata": {},
   "outputs": [
    {
     "data": {
      "text/plain": [
       "273.15"
      ]
     },
     "execution_count": 23,
     "metadata": {},
     "output_type": "execute_result"
    }
   ],
   "source": [
    "convert_units(0, 'DEG_C', 'K')"
   ]
  },
  {
   "cell_type": "code",
   "execution_count": null,
   "metadata": {},
   "outputs": [],
   "source": [
    "# Planning to implement converting everything to si in loader\n",
    "# loader.get_all_building_objects"
   ]
  },
  {
   "cell_type": "markdown",
   "metadata": {},
   "source": [
    "# Testing Grafana Dashboarding \n",
    "Needs updates"
   ]
  },
  {
   "cell_type": "code",
   "execution_count": null,
   "metadata": {},
   "outputs": [],
   "source": [
    "# import yaml \n",
    "# with open('../development_files/creds.yml') as f:\n",
    "#     config = yaml.safe_load(f)\n",
    "\n",
    "# bg = BrickToGrafana(grafana_server=config['grafana_server'], grafana_api_key = config['grafana_api_key'], datasource=config['datasource'], ttl_path = 'test-brick-model.ttl')"
   ]
  },
  {
   "cell_type": "code",
   "execution_count": null,
   "metadata": {},
   "outputs": [],
   "source": [
    "# bg.create_dashboard('AQL from brick')"
   ]
  },
  {
   "cell_type": "code",
   "execution_count": null,
   "metadata": {},
   "outputs": [],
   "source": [
    "# Grafana not set up, upload won't work\n",
    "# bg.upload_dashboard(message = 'testing upload')"
   ]
  },
  {
   "cell_type": "code",
   "execution_count": null,
   "metadata": {},
   "outputs": [],
   "source": []
  }
 ],
 "metadata": {
  "kernelspec": {
   "display_name": "semantic-mpc-interface (3.10.0)",
   "language": "python",
   "name": "python3"
  },
  "language_info": {
   "codemirror_mode": {
    "name": "ipython",
    "version": 3
   },
   "file_extension": ".py",
   "mimetype": "text/x-python",
   "name": "python",
   "nbconvert_exporter": "python",
   "pygments_lexer": "ipython3",
   "version": "3.10.0"
  }
 },
 "nbformat": 4,
 "nbformat_minor": 2
}
