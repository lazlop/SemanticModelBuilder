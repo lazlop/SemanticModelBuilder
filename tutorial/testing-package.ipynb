{
 "cells": [
  {
   "cell_type": "code",
   "execution_count": 1,
   "metadata": {},
   "outputs": [
    {
     "name": "stderr",
     "output_type": "stream",
     "text": [
      "CRITICAL:root:Install the 'bacnet-ingress' module, e.g. 'pip install buildingmotif[bacnet-ingress]'\n"
     ]
    }
   ],
   "source": [
    "# import sys\n",
    "# sys.path.insert(0, '..')\n",
    "from semantic_mpc_interface import (\n",
    "    LoadModel,\n",
    "    get_thermostat_data,\n",
    "    HPFlexSurvey,\n",
    "    convert_units,\n",
    "    SHACLHandler,\n",
    "    # add_connection\n",
    ")\n",
    "from buildingmotif.namespaces import BRICK, RDF, S223\n",
    "from rdflib import URIRef\n",
    "from buildingmotif import BuildingMOTIF\n",
    "from buildingmotif.dataclasses import Library\n",
    "import csv\n",
    "from pyshacl.rdfutil import clone\n",
    "\n",
    "# SELECT ONTOLOGY \n",
    "ontology = 's223'"
   ]
  },
  {
   "cell_type": "markdown",
   "metadata": {},
   "source": [
    "# Testing the Model Builder\n",
    "\n",
    "ModelBuilder has been deprecated in favor of just survey based workflow. May be readded in the future"
   ]
  },
  {
   "cell_type": "markdown",
   "metadata": {},
   "source": [
    "# Testing the Survey Workflow"
   ]
  },
  {
   "cell_type": "code",
   "execution_count": 2,
   "metadata": {},
   "outputs": [],
   "source": [
    "# Please disregard excessive outputs (logging and warnings)\n",
    "# TODO: Figure out how to configure these in building motif \n",
    "import logging\n",
    "logging.disable(logging.CRITICAL)\n",
    "import warnings\n",
    "warnings.filterwarnings(\"ignore\")"
   ]
  },
  {
   "cell_type": "code",
   "execution_count": 3,
   "metadata": {},
   "outputs": [
    {
     "name": "stdout",
     "output_type": "stream",
     "text": [
      "removing dependency:  space\n",
      "removing dependency:  window\n",
      "removing dependency:  hp-rtu\n",
      "removing dependency:  tstat\n",
      "values: dict_values([])\n",
      "values: dict_values(['area-value'])\n",
      "values: dict_values(['cooling_COP-value', 'cooling_capacity-value', 'heating_COP-value', 'heating_capacity-value'])\n",
      "values: dict_values(['active-value', 'setpoint_deadband-value', 'resolution-value', 'stage_count-value', 'tolerance-value'])\n",
      "values: dict_values(['tilt-value', 'area-value', 'azimuth-value'])\n",
      "values: dict_values(['noaastation-value', 'timezone-value', 'longitude-value', 'latitude-value'])\n",
      "{'site_id': 's223-test_site', 'hvac_type': 'hp-rtu', 'variable_params': {'hvac-zone': {}, 'space': {'area': '<name>-area'}, 'hp-rtu': {'cooling_capacity': '<name>-cooling_capacity', 'heating_COP': '<name>-heating_COP', 'cooling_COP': '<name>-cooling_COP', 'heating_capacity': '<name>-heating_capacity'}, 'tstat': {'tolerance': '<name>-tolerance', 'active': '<name>-active', 'resolution': '<name>-resolution', 'stage_count': '<name>-stage_count', 'setpoint_deadband': '<name>-setpoint_deadband'}, 'window': {'azimuth': '<name>-azimuth', 'tilt': '<name>-tilt', 'area': '<name>-area'}, 'site': {'noaastation': '<name>-noaastation', 'longitude': '<name>-longitude', 'latitude': '<name>-latitude', 'timezone': '<name>-timezone'}}, 'param_mapping': {'hvac-zone': {}, 'space': {'area': 'area-value', 'area-name': 'area'}, 'hp-rtu': {'cooling_COP': 'cooling_COP-value', 'cooling_capacity': 'cooling_capacity-value', 'heating_COP': 'heating_COP-value', 'heating_capacity': 'heating_capacity-value', 'cooling_capacity-name': 'cooling_capacity', 'heating_COP-name': 'heating_COP', 'cooling_COP-name': 'cooling_COP', 'heating_capacity-name': 'heating_capacity'}, 'tstat': {'active': 'active-value', 'setpoint_deadband': 'setpoint_deadband-value', 'resolution': 'resolution-value', 'stage_count': 'stage_count-value', 'tolerance': 'tolerance-value', 'tolerance-name': 'tolerance', 'active-name': 'active', 'resolution-name': 'resolution', 'stage_count-name': 'stage_count', 'setpoint_deadband-name': 'setpoint_deadband'}, 'window': {'tilt': 'tilt-value', 'area': 'area-value', 'azimuth': 'azimuth-value', 'azimuth-name': 'azimuth', 'tilt-name': 'tilt', 'area-name': 'area'}, 'site': {'noaastation': 'noaastation-value', 'timezone': 'timezone-value', 'longitude': 'longitude-value', 'latitude': 'latitude-value', 'noaastation-name': 'noaastation', 'longitude-name': 'longitude', 'latitude-name': 'latitude', 'timezone-name': 'timezone'}}, 'hvacs_feed_hvacs': {}, 'hvacs_feed_zones': {'hvac_1': ['zone_1'], 'hvac_2': ['zone_2'], 'hvac_3': ['zone_3']}, 'zones_contain_spaces': {'zone_1': ['space_1_1', 'space_1_2'], 'zone_2': ['space_2_1'], 'zone_3': ['space_3_1']}, 'zones_contain_windows': {'zone_1': ['window_1_1', 'window_1_2'], 'zone_2': ['window_2_1', 'window_2_2'], 'zone_3': ['window_3_1', 'window_3_2', 'window_3_3']}}\n"
     ]
    }
   ],
   "source": [
    "# Creating survey, allow overwrite if there is something already there\n",
    "s = HPFlexSurvey(f'{ontology}-test_site','test_build','.', overwrite=True, ontology=ontology,\n",
    "                 template_dict = {'zone': 'hvac-zone',\n",
    "                                  \"space\": \"space\",\n",
    "                                  \"hvac\": \"hp-rtu\",\n",
    "                                  \"tstat\": \"tstat\",\n",
    "                                  \"window\": \"window\",\n",
    "                                  \"site\": \"site\" })\n",
    "\n",
    "# Generating a simple building structure that prefills csv files. \n",
    "s.easy_config(zone_space_window_list=[(2,2),(1,2),(1,3)])\n",
    "# Now check test_site/test_build to look at survey files\n"
   ]
  },
  {
   "cell_type": "code",
   "execution_count": 4,
   "metadata": {},
   "outputs": [],
   "source": [
    "# Will just fill the columns programmatically for testing, csv should be filled out otherwise\n",
    "import sys\n",
    "sys.path.insert(0,'../examples')\n",
    "from example_prefill_usage import prefill_csv_survey"
   ]
  },
  {
   "cell_type": "code",
   "execution_count": 5,
   "metadata": {},
   "outputs": [
    {
     "name": "stdout",
     "output_type": "stream",
     "text": [
      "Loading config from: s223-test_site/test_build/config.json\n",
      "Found CSV files: ['zone', 'site', 'window', 'hvac', 'point_list', 'tstat', 'space']\n",
      "Filled 10 empty cells in zone.csv\n",
      "Filled 4 empty cells across 4 columns in site.csv\n",
      "Filled 21 empty cells across 3 columns in window.csv\n",
      "Filled 12 empty cells across 4 columns in hvac.csv\n",
      "No empty cells found in point_list.csv\n",
      "Filled 15 empty cells across 5 columns in tstat.csv\n",
      "Filled 4 empty cells across 1 columns in space.csv\n"
     ]
    }
   ],
   "source": [
    "prefill_csv_survey(f'{ontology}-test_site/test_build')"
   ]
  },
  {
   "cell_type": "code",
   "execution_count": 6,
   "metadata": {},
   "outputs": [
    {
     "name": "stdout",
     "output_type": "stream",
     "text": [
      "Expanded CSV shape: (6, 5)\n",
      "New columns added: []\n",
      "Expanded CSV shape: (4, 4)\n",
      "New columns added: ['area']\n",
      "Expanded CSV shape: (3, 13)\n",
      "New columns added: ['cooling_capacity', 'heating_COP', 'cooling_COP', 'heating_capacity']\n",
      "Expanded CSV shape: (3, 14)\n",
      "New columns added: ['tolerance', 'active', 'resolution', 'stage_count', 'setpoint_deadband']\n",
      "Expanded CSV shape: (7, 10)\n",
      "New columns added: ['azimuth', 'tilt', 'area']\n",
      "Expanded CSV shape: (1, 9)\n",
      "New columns added: ['noaastation', 'longitude', 'latitude', 'timezone']\n"
     ]
    }
   ],
   "source": [
    "# Reading csv\n",
    "s.read_csv()"
   ]
  },
  {
   "cell_type": "markdown",
   "metadata": {},
   "source": [
    "# Testing SHACL Generation and Validation"
   ]
  },
  {
   "cell_type": "code",
   "execution_count": 7,
   "metadata": {},
   "outputs": [
    {
     "data": {
      "text/plain": [
       "<Graph identifier=b0a238d1-9e67-4183-879d-04ae8ae1f1bb (<class 'rdflib.graph.Graph'>)>"
      ]
     },
     "execution_count": 7,
     "metadata": {},
     "output_type": "execute_result"
    }
   ],
   "source": [
    "og = clone.clone_graph(s.graph)\n",
    "# Create handler\n",
    "handler = SHACLHandler(ontology=ontology)\n",
    "\n",
    "# Generate shapes\n",
    "handler.generate_shapes()\n",
    "\n",
    "# Save shapes\n",
    "handler.save_shapes('shapes.ttl')\n",
    "\n",
    "# Run inference on model\n",
    "inferred_graph = handler.infer(s.graph)\n",
    "\n",
    "inferred_graph.serialize(f'{ontology}-test_site/test_build/reasoned.ttl', format = 'ttl')\n",
    "# if not validation_result.valid:\n",
    "#     print(\"Validation failed:\")\n",
    "#     print(validation_result.report_string)"
   ]
  },
  {
   "cell_type": "code",
   "execution_count": 8,
   "metadata": {},
   "outputs": [
    {
     "name": "stdout",
     "output_type": "stream",
     "text": [
      "@prefix ns1: <urn:hpflex/shapes#> .\n",
      "\n",
      "<urn:hpflex/s223-test_site#hvac_1> a ns1:hp-rtu ;\n",
      "    ns1:air-connected-to <urn:hpflex/s223-test_site#zone_1> ;\n",
      "    ns1:has-point <urn:hpflex/s223-test_site#hvac_1-cooling_COP>,\n",
      "        <urn:hpflex/s223-test_site#hvac_1-cooling_capacity>,\n",
      "        <urn:hpflex/s223-test_site#hvac_1-heating_COP>,\n",
      "        <urn:hpflex/s223-test_site#hvac_1-heating_capacity> .\n",
      "\n",
      "<urn:hpflex/s223-test_site#hvac_2> a ns1:hp-rtu ;\n",
      "    ns1:air-connected-to <urn:hpflex/s223-test_site#zone_2> ;\n",
      "    ns1:has-point <urn:hpflex/s223-test_site#hvac_2-cooling_COP>,\n",
      "        <urn:hpflex/s223-test_site#hvac_2-cooling_capacity>,\n",
      "        <urn:hpflex/s223-test_site#hvac_2-heating_COP>,\n",
      "        <urn:hpflex/s223-test_site#hvac_2-heating_capacity> .\n",
      "\n",
      "<urn:hpflex/s223-test_site#hvac_3> a ns1:hp-rtu ;\n",
      "    ns1:air-connected-to <urn:hpflex/s223-test_site#zone_3> ;\n",
      "    ns1:has-point <urn:hpflex/s223-test_site#hvac_3-cooling_COP>,\n",
      "        <urn:hpflex/s223-test_site#hvac_3-cooling_capacity>,\n",
      "        <urn:hpflex/s223-test_site#hvac_3-heating_COP>,\n",
      "        <urn:hpflex/s223-test_site#hvac_3-heating_capacity> .\n",
      "\n",
      "<urn:hpflex/s223-test_site#s223-test_site> a ns1:site ;\n",
      "    ns1:has-point <urn:hpflex/s223-test_site#s223-test_site-latitude>,\n",
      "        <urn:hpflex/s223-test_site#s223-test_site-longitude>,\n",
      "        <urn:hpflex/s223-test_site#s223-test_site-noaastation>,\n",
      "        <urn:hpflex/s223-test_site#s223-test_site-timezone> .\n",
      "\n",
      "<urn:hpflex/s223-test_site#tstat_zone_1> a ns1:tstat ;\n",
      "    ns1:has-location <urn:hpflex/s223-test_site#zone_1> ;\n",
      "    ns1:has-point <urn:hpflex/s223-test_site#tstat_zone_1-active>,\n",
      "        <urn:hpflex/s223-test_site#tstat_zone_1-resolution>,\n",
      "        <urn:hpflex/s223-test_site#tstat_zone_1-setpoint_deadband>,\n",
      "        <urn:hpflex/s223-test_site#tstat_zone_1-stage_count>,\n",
      "        <urn:hpflex/s223-test_site#tstat_zone_1-tolerance> .\n",
      "\n",
      "<urn:hpflex/s223-test_site#tstat_zone_2> a ns1:tstat ;\n",
      "    ns1:has-location <urn:hpflex/s223-test_site#zone_2> ;\n",
      "    ns1:has-point <urn:hpflex/s223-test_site#tstat_zone_2-active>,\n",
      "        <urn:hpflex/s223-test_site#tstat_zone_2-resolution>,\n",
      "        <urn:hpflex/s223-test_site#tstat_zone_2-setpoint_deadband>,\n",
      "        <urn:hpflex/s223-test_site#tstat_zone_2-stage_count>,\n",
      "        <urn:hpflex/s223-test_site#tstat_zone_2-tolerance> .\n",
      "\n",
      "<urn:hpflex/s223-test_site#tstat_zone_3> a ns1:tstat ;\n",
      "    ns1:has-location <urn:hpflex/s223-test_site#zone_3> ;\n",
      "    ns1:has-point <urn:hpflex/s223-test_site#tstat_zone_3-active>,\n",
      "        <urn:hpflex/s223-test_site#tstat_zone_3-resolution>,\n",
      "        <urn:hpflex/s223-test_site#tstat_zone_3-setpoint_deadband>,\n",
      "        <urn:hpflex/s223-test_site#tstat_zone_3-stage_count>,\n",
      "        <urn:hpflex/s223-test_site#tstat_zone_3-tolerance> .\n",
      "\n",
      "<urn:hpflex/s223-test_site#window_2_1> a ns1:window ;\n",
      "    ns1:has-point <urn:hpflex/s223-test_site#window_2_1-area>,\n",
      "        <urn:hpflex/s223-test_site#window_2_1-azimuth>,\n",
      "        <urn:hpflex/s223-test_site#window_2_1-tilt> .\n",
      "\n",
      "<urn:hpflex/s223-test_site#window_3_1> a ns1:window ;\n",
      "    ns1:has-point <urn:hpflex/s223-test_site#window_3_1-area>,\n",
      "        <urn:hpflex/s223-test_site#window_3_1-azimuth>,\n",
      "        <urn:hpflex/s223-test_site#window_3_1-tilt> .\n",
      "\n",
      "<urn:hpflex/s223-test_site#window_3_2> a ns1:window ;\n",
      "    ns1:has-point <urn:hpflex/s223-test_site#window_3_2-area>,\n",
      "        <urn:hpflex/s223-test_site#window_3_2-azimuth>,\n",
      "        <urn:hpflex/s223-test_site#window_3_2-tilt> .\n",
      "\n",
      "<urn:hpflex/s223-test_site#hvac_1-cooling_COP> a ns1:cooling-COP .\n",
      "\n",
      "<urn:hpflex/s223-test_site#hvac_1-cooling_capacity> a ns1:cooling-capacity .\n",
      "\n",
      "<urn:hpflex/s223-test_site#hvac_1-heating_COP> a ns1:heating-COP .\n",
      "\n",
      "<urn:hpflex/s223-test_site#hvac_1-heating_capacity> a ns1:heating-capacity .\n",
      "\n",
      "<urn:hpflex/s223-test_site#hvac_2-cooling_COP> a ns1:cooling-COP .\n",
      "\n",
      "<urn:hpflex/s223-test_site#hvac_2-cooling_capacity> a ns1:cooling-capacity .\n",
      "\n",
      "<urn:hpflex/s223-test_site#hvac_2-heating_COP> a ns1:heating-COP .\n",
      "\n",
      "<urn:hpflex/s223-test_site#hvac_2-heating_capacity> a ns1:heating-capacity .\n",
      "\n",
      "<urn:hpflex/s223-test_site#hvac_3-cooling_COP> a ns1:cooling-COP .\n",
      "\n",
      "<urn:hpflex/s223-test_site#hvac_3-cooling_capacity> a ns1:cooling-capacity .\n",
      "\n",
      "<urn:hpflex/s223-test_site#hvac_3-heating_COP> a ns1:heating-COP .\n",
      "\n",
      "<urn:hpflex/s223-test_site#hvac_3-heating_capacity> a ns1:heating-capacity .\n",
      "\n",
      "<urn:hpflex/s223-test_site#s223-test_site-latitude> a ns1:latitude .\n",
      "\n",
      "<urn:hpflex/s223-test_site#s223-test_site-longitude> a ns1:longitude .\n",
      "\n",
      "<urn:hpflex/s223-test_site#s223-test_site-noaastation> a ns1:noaastation .\n",
      "\n",
      "<urn:hpflex/s223-test_site#s223-test_site-timezone> a ns1:timezone .\n",
      "\n",
      "<urn:hpflex/s223-test_site#space_1_1> a ns1:space ;\n",
      "    ns1:has-point <urn:hpflex/s223-test_site#space_1_1-area> .\n",
      "\n",
      "<urn:hpflex/s223-test_site#space_1_1-area> a ns1:area .\n",
      "\n",
      "<urn:hpflex/s223-test_site#space_1_2> a ns1:space ;\n",
      "    ns1:has-point <urn:hpflex/s223-test_site#space_1_2-area> .\n",
      "\n",
      "<urn:hpflex/s223-test_site#space_1_2-area> a ns1:area .\n",
      "\n",
      "<urn:hpflex/s223-test_site#space_2_1> a ns1:space ;\n",
      "    ns1:has-point <urn:hpflex/s223-test_site#space_2_1-area> .\n",
      "\n",
      "<urn:hpflex/s223-test_site#space_2_1-area> a ns1:area .\n",
      "\n",
      "<urn:hpflex/s223-test_site#space_3_1> a ns1:space ;\n",
      "    ns1:has-point <urn:hpflex/s223-test_site#space_3_1-area> .\n",
      "\n",
      "<urn:hpflex/s223-test_site#space_3_1-area> a ns1:area .\n",
      "\n",
      "<urn:hpflex/s223-test_site#tstat_zone_1-active> a ns1:tstat-active .\n",
      "\n",
      "<urn:hpflex/s223-test_site#tstat_zone_1-resolution> a ns1:tstat-resolution .\n",
      "\n",
      "<urn:hpflex/s223-test_site#tstat_zone_1-setpoint_deadband> a ns1:tstat-deadband .\n",
      "\n",
      "<urn:hpflex/s223-test_site#tstat_zone_1-stage_count> a ns1:tstat-stage_count .\n",
      "\n",
      "<urn:hpflex/s223-test_site#tstat_zone_1-tolerance> a ns1:tstat-tolerance .\n",
      "\n",
      "<urn:hpflex/s223-test_site#tstat_zone_2-active> a ns1:tstat-active .\n",
      "\n",
      "<urn:hpflex/s223-test_site#tstat_zone_2-resolution> a ns1:tstat-resolution .\n",
      "\n",
      "<urn:hpflex/s223-test_site#tstat_zone_2-setpoint_deadband> a ns1:tstat-deadband .\n",
      "\n",
      "<urn:hpflex/s223-test_site#tstat_zone_2-stage_count> a ns1:tstat-stage_count .\n",
      "\n",
      "<urn:hpflex/s223-test_site#tstat_zone_2-tolerance> a ns1:tstat-tolerance .\n",
      "\n",
      "<urn:hpflex/s223-test_site#tstat_zone_3-active> a ns1:tstat-active .\n",
      "\n",
      "<urn:hpflex/s223-test_site#tstat_zone_3-resolution> a ns1:tstat-resolution .\n",
      "\n",
      "<urn:hpflex/s223-test_site#tstat_zone_3-setpoint_deadband> a ns1:tstat-deadband .\n",
      "\n",
      "<urn:hpflex/s223-test_site#tstat_zone_3-stage_count> a ns1:tstat-stage_count .\n",
      "\n",
      "<urn:hpflex/s223-test_site#tstat_zone_3-tolerance> a ns1:tstat-tolerance .\n",
      "\n",
      "<urn:hpflex/s223-test_site#window_1_1-area> a ns1:area .\n",
      "\n",
      "<urn:hpflex/s223-test_site#window_1_1-azimuth> a ns1:azimuth .\n",
      "\n",
      "<urn:hpflex/s223-test_site#window_1_1-tilt> a ns1:tilt .\n",
      "\n",
      "<urn:hpflex/s223-test_site#window_1_2-area> a ns1:area .\n",
      "\n",
      "<urn:hpflex/s223-test_site#window_1_2-azimuth> a ns1:azimuth .\n",
      "\n",
      "<urn:hpflex/s223-test_site#window_1_2-tilt> a ns1:tilt .\n",
      "\n",
      "<urn:hpflex/s223-test_site#window_2_1-area> a ns1:area .\n",
      "\n",
      "<urn:hpflex/s223-test_site#window_2_1-azimuth> a ns1:azimuth .\n",
      "\n",
      "<urn:hpflex/s223-test_site#window_2_1-tilt> a ns1:tilt .\n",
      "\n",
      "<urn:hpflex/s223-test_site#window_2_2-area> a ns1:area .\n",
      "\n",
      "<urn:hpflex/s223-test_site#window_2_2-azimuth> a ns1:azimuth .\n",
      "\n",
      "<urn:hpflex/s223-test_site#window_2_2-tilt> a ns1:tilt .\n",
      "\n",
      "<urn:hpflex/s223-test_site#window_3_1-area> a ns1:area .\n",
      "\n",
      "<urn:hpflex/s223-test_site#window_3_1-azimuth> a ns1:azimuth .\n",
      "\n",
      "<urn:hpflex/s223-test_site#window_3_1-tilt> a ns1:tilt .\n",
      "\n",
      "<urn:hpflex/s223-test_site#window_3_2-area> a ns1:area .\n",
      "\n",
      "<urn:hpflex/s223-test_site#window_3_2-azimuth> a ns1:azimuth .\n",
      "\n",
      "<urn:hpflex/s223-test_site#window_3_2-tilt> a ns1:tilt .\n",
      "\n",
      "<urn:hpflex/s223-test_site#window_3_3-area> a ns1:area .\n",
      "\n",
      "<urn:hpflex/s223-test_site#window_3_3-azimuth> a ns1:azimuth .\n",
      "\n",
      "<urn:hpflex/s223-test_site#window_3_3-tilt> a ns1:tilt .\n",
      "\n",
      "<urn:hpflex/s223-test_site#window_1_1> a ns1:window ;\n",
      "    ns1:has-point <urn:hpflex/s223-test_site#window_1_1-area>,\n",
      "        <urn:hpflex/s223-test_site#window_1_1-azimuth>,\n",
      "        <urn:hpflex/s223-test_site#window_1_1-tilt> .\n",
      "\n",
      "<urn:hpflex/s223-test_site#window_1_2> a ns1:window ;\n",
      "    ns1:has-point <urn:hpflex/s223-test_site#window_1_2-area>,\n",
      "        <urn:hpflex/s223-test_site#window_1_2-azimuth>,\n",
      "        <urn:hpflex/s223-test_site#window_1_2-tilt> .\n",
      "\n",
      "<urn:hpflex/s223-test_site#window_2_2> a ns1:window ;\n",
      "    ns1:has-point <urn:hpflex/s223-test_site#window_2_2-area>,\n",
      "        <urn:hpflex/s223-test_site#window_2_2-azimuth>,\n",
      "        <urn:hpflex/s223-test_site#window_2_2-tilt> .\n",
      "\n",
      "<urn:hpflex/s223-test_site#window_3_3> a ns1:window ;\n",
      "    ns1:has-point <urn:hpflex/s223-test_site#window_3_3-area>,\n",
      "        <urn:hpflex/s223-test_site#window_3_3-azimuth>,\n",
      "        <urn:hpflex/s223-test_site#window_3_3-tilt> .\n",
      "\n",
      "<urn:hpflex/s223-test_site#zone_1> a ns1:hvac-zone ;\n",
      "    ns1:air-connected-to <urn:hpflex/s223-test_site#window_1_1>,\n",
      "        <urn:hpflex/s223-test_site#window_1_2> ;\n",
      "    ns1:has-space <urn:hpflex/s223-test_site#space_1_1>,\n",
      "        <urn:hpflex/s223-test_site#space_1_2> ;\n",
      "    ns1:has-window <urn:hpflex/s223-test_site#window_1_1>,\n",
      "        <urn:hpflex/s223-test_site#window_1_2> .\n",
      "\n",
      "<urn:hpflex/s223-test_site#zone_2> a ns1:hvac-zone ;\n",
      "    ns1:air-connected-to <urn:hpflex/s223-test_site#window_2_2> ;\n",
      "    ns1:has-space <urn:hpflex/s223-test_site#space_2_1> ;\n",
      "    ns1:has-window <urn:hpflex/s223-test_site#window_2_2> .\n",
      "\n",
      "<urn:hpflex/s223-test_site#zone_3> a ns1:hvac-zone ;\n",
      "    ns1:air-connected-to <urn:hpflex/s223-test_site#window_3_3> ;\n",
      "    ns1:has-space <urn:hpflex/s223-test_site#space_3_1> ;\n",
      "    ns1:has-window <urn:hpflex/s223-test_site#window_3_3> .\n",
      "\n",
      "\n"
     ]
    }
   ],
   "source": [
    "# lots of new inferred information\n",
    "(inferred_graph-og).print()"
   ]
  },
  {
   "cell_type": "markdown",
   "metadata": {},
   "source": [
    "# Testing get Metadata"
   ]
  },
  {
   "cell_type": "code",
   "execution_count": 9,
   "metadata": {},
   "outputs": [
    {
     "name": "stdout",
     "output_type": "stream",
     "text": [
      "latitude\n",
      "longitude\n",
      "http://data.ashrae.org/standard223#hasValue 1.0\n",
      "http://www.w3.org/1999/02/22-rdf-syntax-ns#type urn:hpflex/shapes#timezone\n",
      "timezone\n",
      "http://www.w3.org/1999/02/22-rdf-syntax-ns#type urn:hpflex#Timezone\n",
      "http://www.w3.org/1999/02/22-rdf-syntax-ns#type http://data.ashrae.org/standard223#EnumeratedProperty\n",
      "http://data.ashrae.org/standard223#hasValue 1.0\n",
      "http://www.w3.org/1999/02/22-rdf-syntax-ns#type urn:hpflex/shapes#noaastation\n",
      "noaastation\n",
      "http://www.w3.org/1999/02/22-rdf-syntax-ns#type urn:hpflex#NOAAStation\n",
      "http://www.w3.org/1999/02/22-rdf-syntax-ns#type http://data.ashrae.org/standard223#EnumeratedProperty\n",
      "http://qudt.org/schema/qudt/hasUnit http://qudt.org/vocab/unit/Degree\n",
      "http://qudt.org/schema/qudt/hasQuantityKind http://qudt.org/vocab/quantitykind/GeneralizedCoordinate\n",
      "http://data.ashrae.org/standard223#hasValue 1.0\n",
      "http://www.w3.org/1999/02/22-rdf-syntax-ns#type urn:hpflex/shapes#longitude\n",
      "longitude\n",
      "http://www.w3.org/1999/02/22-rdf-syntax-ns#type urn:hpflex#Longitude\n",
      "http://www.w3.org/1999/02/22-rdf-syntax-ns#type http://data.ashrae.org/standard223#QuantifiableProperty\n",
      "http://qudt.org/schema/qudt/hasUnit http://qudt.org/vocab/unit/Degree\n",
      "http://qudt.org/schema/qudt/hasQuantityKind http://qudt.org/vocab/quantitykind/GeneralizedCoordinate\n",
      "http://data.ashrae.org/standard223#hasValue 1.0\n",
      "http://www.w3.org/1999/02/22-rdf-syntax-ns#type urn:hpflex/shapes#latitude\n",
      "latitude\n",
      "http://www.w3.org/1999/02/22-rdf-syntax-ns#type urn:hpflex#Latitude\n",
      "http://www.w3.org/1999/02/22-rdf-syntax-ns#type http://data.ashrae.org/standard223#QuantifiableProperty\n",
      "site\n",
      "noaastation\n",
      "timezone\n",
      "Warning: Could not retrieve objects for template 'site': 'latitude'\n",
      "http://qudt.org/schema/qudt/hasUnit http://qudt.org/vocab/unit/BTU_IT-PER-HR\n",
      "http://qudt.org/schema/qudt/hasQuantityKind http://qudt.org/vocab/quantitykind/Power\n",
      "http://data.ashrae.org/standard223#hasValue 3.0\n",
      "http://data.ashrae.org/standard223#hasAspect http://data.ashrae.org/standard223#Role-Heating\n",
      "http://www.w3.org/1999/02/22-rdf-syntax-ns#type urn:hpflex/shapes#heating-capacity\n",
      "heating-capacity\n",
      "http://www.w3.org/1999/02/22-rdf-syntax-ns#type http://data.ashrae.org/standard223#QuantifiableObservableProperty\n",
      "http://qudt.org/schema/qudt/hasUnit http://qudt.org/vocab/unit/UNITLESS\n",
      "http://qudt.org/schema/qudt/hasQuantityKind http://qudt.org/vocab/quantitykind/CoefficientOfPerformance\n",
      "http://data.ashrae.org/standard223#hasValue 3.0\n",
      "http://data.ashrae.org/standard223#hasAspect http://data.ashrae.org/standard223#Role-Heating\n",
      "http://www.w3.org/1999/02/22-rdf-syntax-ns#type urn:hpflex/shapes#heating-COP\n",
      "heating-COP\n",
      "http://www.w3.org/1999/02/22-rdf-syntax-ns#type http://data.ashrae.org/standard223#QuantifiableObservableProperty\n",
      "http://qudt.org/schema/qudt/hasUnit http://qudt.org/vocab/unit/BTU_IT-PER-HR\n",
      "http://qudt.org/schema/qudt/hasQuantityKind http://qudt.org/vocab/quantitykind/Power\n",
      "http://data.ashrae.org/standard223#hasValue 3.0\n",
      "http://data.ashrae.org/standard223#hasAspect http://data.ashrae.org/standard223#Role-Cooling\n",
      "http://www.w3.org/1999/02/22-rdf-syntax-ns#type urn:hpflex/shapes#cooling-capacity\n",
      "cooling-capacity\n",
      "http://www.w3.org/1999/02/22-rdf-syntax-ns#type http://data.ashrae.org/standard223#QuantifiableObservableProperty\n",
      "http://qudt.org/schema/qudt/hasUnit http://qudt.org/vocab/unit/UNITLESS\n",
      "http://qudt.org/schema/qudt/hasQuantityKind http://qudt.org/vocab/quantitykind/CoefficientOfPerformance\n",
      "http://data.ashrae.org/standard223#hasValue 3.0\n",
      "http://data.ashrae.org/standard223#hasAspect http://data.ashrae.org/standard223#Role-Cooling\n",
      "http://www.w3.org/1999/02/22-rdf-syntax-ns#type urn:hpflex/shapes#cooling-COP\n",
      "cooling-COP\n",
      "http://www.w3.org/1999/02/22-rdf-syntax-ns#type http://data.ashrae.org/standard223#QuantifiableObservableProperty\n",
      "hp-rtu\n",
      "cooling-COP\n",
      "cooling-capacity\n",
      "heating-COP\n",
      "heating-capacity\n",
      "hvac-zone\n",
      "http://qudt.org/schema/qudt/hasUnit http://qudt.org/vocab/unit/FT2\n",
      "http://qudt.org/schema/qudt/hasQuantityKind http://qudt.org/vocab/quantitykind/Area\n",
      "http://data.ashrae.org/standard223#hasValue 4.0\n",
      "http://www.w3.org/1999/02/22-rdf-syntax-ns#type urn:hpflex/shapes#area\n",
      "area\n",
      "http://www.w3.org/1999/02/22-rdf-syntax-ns#type http://data.ashrae.org/standard223#QuantifiableObservableProperty\n",
      "space\n",
      "area\n",
      "http://qudt.org/schema/qudt/isDeltaQuantity true\n",
      "http://qudt.org/schema/qudt/hasUnit http://qudt.org/vocab/unit/DEG_F\n",
      "http://qudt.org/schema/qudt/hasQuantityKind http://qudt.org/vocab/quantitykind/Temperature\n",
      "http://data.ashrae.org/standard223#hasValue 3.0\n",
      "http://data.ashrae.org/standard223#hasAspect http://data.ashrae.org/standard223#Aspect-Threshold\n",
      "http://data.ashrae.org/standard223#hasAspect http://data.ashrae.org/standard223#Aspect-Heating\n",
      "http://data.ashrae.org/standard223#hasAspect http://data.ashrae.org/standard223#Aspect-Cooling\n",
      "http://www.w3.org/1999/02/22-rdf-syntax-ns#type urn:hpflex/shapes#tstat-tolerance\n",
      "tstat-tolerance\n",
      "http://www.w3.org/1999/02/22-rdf-syntax-ns#type http://data.ashrae.org/standard223#QuantifiableObservableProperty\n",
      "http://qudt.org/schema/qudt/hasUnit http://qudt.org/vocab/unit/NUM\n",
      "http://qudt.org/schema/qudt/hasQuantityKind http://qudt.org/vocab/quantitykind/Count\n",
      "http://data.ashrae.org/standard223#hasValue 3.0\n",
      "http://data.ashrae.org/standard223#hasAspect http://data.ashrae.org/standard223#Role-Cooling\n",
      "http://data.ashrae.org/standard223#hasAspect http://data.ashrae.org/standard223#Aspect-OperatingMode\n",
      "http://www.w3.org/1999/02/22-rdf-syntax-ns#type urn:hpflex/shapes#tstat-stage_count\n",
      "tstat-stage_count\n",
      "http://www.w3.org/1999/02/22-rdf-syntax-ns#type http://data.ashrae.org/standard223#EnumeratedObservableProperty\n",
      "http://qudt.org/schema/qudt/isDeltaQuantity true\n",
      "http://qudt.org/schema/qudt/hasUnit http://qudt.org/vocab/unit/DEG_F\n",
      "http://qudt.org/schema/qudt/hasQuantityKind http://qudt.org/vocab/quantitykind/Temperature\n",
      "http://data.ashrae.org/standard223#hasValue 3.0\n",
      "http://data.ashrae.org/standard223#hasAspect http://data.ashrae.org/standard223#Aspect-Deadband\n",
      "http://www.w3.org/1999/02/22-rdf-syntax-ns#type urn:hpflex/shapes#tstat-deadband\n",
      "tstat-deadband\n",
      "http://www.w3.org/1999/02/22-rdf-syntax-ns#type http://data.ashrae.org/standard223#QuantifiableObservableProperty\n",
      "http://qudt.org/schema/qudt/isDeltaQuantity true\n",
      "http://qudt.org/schema/qudt/hasUnit http://qudt.org/vocab/unit/DEG_F\n",
      "http://data.ashrae.org/standard223#hasValue 3.0\n",
      "http://www.w3.org/1999/02/22-rdf-syntax-ns#type urn:hpflex/shapes#tstat-resolution\n",
      "tstat-resolution\n",
      "http://www.w3.org/1999/02/22-rdf-syntax-ns#type http://data.ashrae.org/standard223#QuantifiableObservableProperty\n",
      "http://qudt.org/schema/qudt/hasUnit http://qudt.org/vocab/unit/NUM\n",
      "http://data.ashrae.org/standard223#hasValue 3.0\n",
      "http://data.ashrae.org/standard223#hasAspect http://data.ashrae.org/standard223#Effectiveness-Active\n",
      "http://data.ashrae.org/standard223#hasAspect http://data.ashrae.org/standard223#Binary-Logical\n",
      "http://data.ashrae.org/standard223#hasAspect http://data.ashrae.org/standard223#Aspect-Heating\n",
      "http://data.ashrae.org/standard223#hasAspect http://data.ashrae.org/standard223#Aspect-Cooling\n",
      "http://www.w3.org/1999/02/22-rdf-syntax-ns#type urn:hpflex/shapes#tstat-active\n",
      "tstat-active\n",
      "http://www.w3.org/1999/02/22-rdf-syntax-ns#type http://data.ashrae.org/standard223#EnumeratedObservableProperty\n",
      "tstat\n",
      "tstat-active\n",
      "tstat-tolerance\n",
      "tstat-deadband\n",
      "tstat-stage_count\n",
      "tstat-tolerance\n",
      "http://qudt.org/schema/qudt/hasUnit http://qudt.org/vocab/unit/Degree\n",
      "http://qudt.org/schema/qudt/hasQuantityKind http://qudt.org/vocab/quantitykind/Tilt\n",
      "http://data.ashrae.org/standard223#hasValue 7.0\n",
      "http://www.w3.org/1999/02/22-rdf-syntax-ns#type urn:hpflex/shapes#tilt\n",
      "tilt\n",
      "http://www.w3.org/1999/02/22-rdf-syntax-ns#type http://data.ashrae.org/standard223#QuantifiableObservableProperty\n",
      "http://qudt.org/schema/qudt/hasUnit http://qudt.org/vocab/unit/Degree\n",
      "http://qudt.org/schema/qudt/hasQuantityKind http://qudt.org/vocab/quantitykind/Azimuth\n",
      "http://data.ashrae.org/standard223#hasValue 7.0\n",
      "http://www.w3.org/1999/02/22-rdf-syntax-ns#type urn:hpflex/shapes#azimuth\n",
      "azimuth\n",
      "http://www.w3.org/1999/02/22-rdf-syntax-ns#type http://data.ashrae.org/standard223#QuantifiableObservableProperty\n",
      "http://qudt.org/schema/qudt/hasUnit http://qudt.org/vocab/unit/FT2\n",
      "http://qudt.org/schema/qudt/hasQuantityKind http://qudt.org/vocab/quantitykind/Area\n",
      "http://data.ashrae.org/standard223#hasValue 7.0\n",
      "http://www.w3.org/1999/02/22-rdf-syntax-ns#type urn:hpflex/shapes#area\n",
      "area\n",
      "http://www.w3.org/1999/02/22-rdf-syntax-ns#type http://data.ashrae.org/standard223#QuantifiableObservableProperty\n",
      "window\n",
      "area\n",
      "azimuth\n",
      "tilt\n",
      "Warning: Could not retrieve objects for template 'hvac-zone': 'hvac_cooling_COP'\n"
     ]
    }
   ],
   "source": [
    "# still working on loader, will clean up class, but functionality about right\n",
    "loader = LoadModel(f\"{ontology}-test_site/test_build/reasoned.ttl\", \n",
    "                   template_dict={'sites':'site', 'zones': 'hvac-zone'}, \n",
    "                   ontology = ontology)\n",
    "site_info = loader.get_all_building_objects()"
   ]
  },
  {
   "cell_type": "code",
   "execution_count": 10,
   "metadata": {},
   "outputs": [
    {
     "name": "stdout",
     "output_type": "stream",
     "text": [
      "{}\n"
     ]
    }
   ],
   "source": [
    "print(site_info)"
   ]
  },
  {
   "cell_type": "code",
   "execution_count": 11,
   "metadata": {},
   "outputs": [
    {
     "ename": "KeyError",
     "evalue": "'zones'",
     "output_type": "error",
     "traceback": [
      "\u001b[0;31m---------------------------------------------------------------------------\u001b[0m",
      "\u001b[0;31mKeyError\u001b[0m                                  Traceback (most recent call last)",
      "Cell \u001b[0;32mIn[11], line 1\u001b[0m\n\u001b[0;32m----> 1\u001b[0m zone \u001b[38;5;241m=\u001b[39m \u001b[43msite_info\u001b[49m\u001b[43m[\u001b[49m\u001b[38;5;124;43m'\u001b[39;49m\u001b[38;5;124;43mzones\u001b[39;49m\u001b[38;5;124;43m'\u001b[39;49m\u001b[43m]\u001b[49m[\u001b[38;5;241m0\u001b[39m]\n\u001b[1;32m      2\u001b[0m \u001b[38;5;28mprint\u001b[39m(zone)\n",
      "\u001b[0;31mKeyError\u001b[0m: 'zones'"
     ]
    }
   ],
   "source": [
    "zone = site_info['zones'][0]\n",
    "print(zone)"
   ]
  },
  {
   "cell_type": "code",
   "execution_count": null,
   "metadata": {},
   "outputs": [
    {
     "data": {
      "text/plain": [
       "[Space(name='urn:hpflex/s223-test_site#space_3_1', area=Value(value=4.0, unit='http://qudt.org/vocab/unit/FT2'), space=urn:hpflex/s223-test_site#space_3_1)]"
      ]
     },
     "execution_count": 12,
     "metadata": {},
     "output_type": "execute_result"
    }
   ],
   "source": [
    "zone.spaces"
   ]
  },
  {
   "cell_type": "code",
   "execution_count": null,
   "metadata": {},
   "outputs": [
    {
     "data": {
      "text/plain": [
       "rdflib.term.URIRef('urn:hpflex/s223-test_site#window_3_3-area')"
      ]
     },
     "execution_count": 13,
     "metadata": {},
     "output_type": "execute_result"
    }
   ],
   "source": [
    "zone.windows[0].area.name"
   ]
  },
  {
   "cell_type": "code",
   "execution_count": null,
   "metadata": {},
   "outputs": [
    {
     "data": {
      "text/plain": [
       "Tstat(name='urn:hpflex/s223-test_site#tstat_zone_3', resolution=Value(value=3.0, unit='http://qudt.org/vocab/unit/DEG_F'), active=Value(value=3.0, unit='None'), setpoint_deadband=Value(value=3.0, unit='http://qudt.org/vocab/unit/DEG_F'), tolerance=Value(value=3.0, unit='http://qudt.org/vocab/unit/DEG_F'), stage_count=Value(value=3.0, unit='None'), tstat=urn:hpflex/s223-test_site#tstat_zone_3)"
      ]
     },
     "execution_count": 14,
     "metadata": {},
     "output_type": "execute_result"
    }
   ],
   "source": [
    "zone.tstats[0]"
   ]
  },
  {
   "cell_type": "code",
   "execution_count": null,
   "metadata": {},
   "outputs": [
    {
     "name": "stdout",
     "output_type": "stream",
     "text": [
      "Value(value=3.0, unit='http://qudt.org/vocab/unit/DEG_F')\n",
      "Value(value=1.6666666666666667, unit='http://qudt.org/vocab/unit/DEG_C')\n",
      "True\n"
     ]
    }
   ],
   "source": [
    "print(zone.tstats[0].resolution)\n",
    "zone.tstats[0].resolution.convert_to_si()\n",
    "print(zone.tstats[0].resolution)\n",
    "print(zone.tstats[0].resolution.is_delta)"
   ]
  },
  {
   "cell_type": "code",
   "execution_count": null,
   "metadata": {},
   "outputs": [
    {
     "name": "stdout",
     "output_type": "stream",
     "text": [
      "Warning: Could not retrieve objects for template 'site': Multiple rows were found when exactly one was required\n",
      "Warning: Could not retrieve objects for template 'hvac-zone': Multiple rows were found when exactly one was required\n",
      "Value(value=1.6666666666666667, unit='http://qudt.org/vocab/unit/DEG_C')\n"
     ]
    }
   ],
   "source": [
    "# optionally just load everything as si \n",
    "si_loader = LoadModel(f\"{ontology}-test_site/test_build/test_build.ttl\", ontology = 'brick', as_si_units=True)\n",
    "site_info = si_loader.get_all_building_objects()\n",
    "print(zone.tstats[0].resolution)"
   ]
  },
  {
   "cell_type": "code",
   "execution_count": null,
   "metadata": {},
   "outputs": [
    {
     "name": "stdout",
     "output_type": "stream",
     "text": [
      "Warning: Could not retrieve objects for template 'site': Multiple rows were found when exactly one was required\n",
      "Warning: Could not retrieve objects for template 'hvac-zone': Multiple rows were found when exactly one was required\n"
     ]
    },
    {
     "data": {
      "text/plain": [
       "{'heat_availability': [],\n",
       " 'cool_availability': [],\n",
       " 'heat_tolerance': [],\n",
       " 'cool_tolerance': [],\n",
       " 'setpoint_deadband': [],\n",
       " 'active': [],\n",
       " 'control_group': [],\n",
       " 'control_type_list': [],\n",
       " 'floor_area_list': [],\n",
       " 'floor_area_unit': [],\n",
       " 'window_area_list': [],\n",
       " 'window_area_unit': [],\n",
       " 'azimuth_list': [],\n",
       " 'azimuth_unit': [],\n",
       " 'tilt_list': [],\n",
       " 'tilt_unit': [],\n",
       " 'zone_ids': [],\n",
       " 'hvacs': [],\n",
       " 'setpoint_type': [],\n",
       " 'fuel_heat_list': [],\n",
       " 'fuel_cool_list': [],\n",
       " 'cooling_capacity': [],\n",
       " 'cooling_capacity_unit': [],\n",
       " 'heating_capacity': [],\n",
       " 'heating_capacity_unit': [],\n",
       " 'cooling_cop': [],\n",
       " 'heating_cop': [],\n",
       " 'cooling_electricity': [],\n",
       " 'heating_electricity': [],\n",
       " 'resolution': [],\n",
       " 'temperature_unit': []}"
      ]
     },
     "execution_count": 17,
     "metadata": {},
     "output_type": "execute_result"
    }
   ],
   "source": [
    "# Getting the thermostat metadata\n",
    "get_thermostat_data(si_loader)"
   ]
  },
  {
   "cell_type": "code",
   "execution_count": null,
   "metadata": {},
   "outputs": [
    {
     "name": "stdout",
     "output_type": "stream",
     "text": [
      "Warning: Could not retrieve objects for template 'site': Multiple rows were found when exactly one was required\n",
      "Warning: Could not retrieve objects for template 'hvac-zone': Multiple rows were found when exactly one was required\n"
     ]
    },
    {
     "data": {
      "text/plain": [
       "{'heat_availability': [],\n",
       " 'cool_availability': [],\n",
       " 'heat_tolerance': [],\n",
       " 'cool_tolerance': [],\n",
       " 'setpoint_deadband': [],\n",
       " 'active': [],\n",
       " 'control_group': [],\n",
       " 'control_type_list': [],\n",
       " 'floor_area_list': [],\n",
       " 'floor_area_unit': [],\n",
       " 'window_area_list': [],\n",
       " 'window_area_unit': [],\n",
       " 'azimuth_list': [],\n",
       " 'azimuth_unit': [],\n",
       " 'tilt_list': [],\n",
       " 'tilt_unit': [],\n",
       " 'zone_ids': [],\n",
       " 'hvacs': [],\n",
       " 'setpoint_type': [],\n",
       " 'fuel_heat_list': [],\n",
       " 'fuel_cool_list': [],\n",
       " 'cooling_capacity': [],\n",
       " 'cooling_capacity_unit': [],\n",
       " 'heating_capacity': [],\n",
       " 'heating_capacity_unit': [],\n",
       " 'cooling_cop': [],\n",
       " 'heating_cop': [],\n",
       " 'cooling_electricity': [],\n",
       " 'heating_electricity': [],\n",
       " 'resolution': [],\n",
       " 'temperature_unit': []}"
      ]
     },
     "execution_count": 18,
     "metadata": {},
     "output_type": "execute_result"
    }
   ],
   "source": [
    "# Getting the thermostat metadata for 1 zone \n",
    "get_thermostat_data(si_loader, ['zone_1','zone_2'])"
   ]
  },
  {
   "cell_type": "markdown",
   "metadata": {},
   "source": [
    "# Testing Unit Conversion"
   ]
  },
  {
   "cell_type": "code",
   "execution_count": null,
   "metadata": {},
   "outputs": [
    {
     "data": {
      "text/plain": [
       "3.048"
      ]
     },
     "execution_count": 19,
     "metadata": {},
     "output_type": "execute_result"
    }
   ],
   "source": [
    "convert_units(10, 'FT', 'M')"
   ]
  },
  {
   "cell_type": "code",
   "execution_count": null,
   "metadata": {},
   "outputs": [
    {
     "data": {
      "text/plain": [
       "31.999999999999886"
      ]
     },
     "execution_count": 20,
     "metadata": {},
     "output_type": "execute_result"
    }
   ],
   "source": [
    "convert_units(0, 'DEG_C', 'DEG_F')"
   ]
  },
  {
   "cell_type": "code",
   "execution_count": null,
   "metadata": {},
   "outputs": [
    {
     "data": {
      "text/plain": [
       "273.15"
      ]
     },
     "execution_count": 21,
     "metadata": {},
     "output_type": "execute_result"
    }
   ],
   "source": [
    "convert_units(0, 'DEG_C', 'K')"
   ]
  },
  {
   "cell_type": "code",
   "execution_count": null,
   "metadata": {},
   "outputs": [],
   "source": [
    "# Planning to implement converting everything to si in loader\n",
    "# loader.get_all_building_objects"
   ]
  },
  {
   "cell_type": "markdown",
   "metadata": {},
   "source": [
    "# Testing Grafana Dashboarding \n",
    "Needs updates"
   ]
  },
  {
   "cell_type": "code",
   "execution_count": null,
   "metadata": {},
   "outputs": [],
   "source": [
    "# import yaml \n",
    "# with open('../development_files/creds.yml') as f:\n",
    "#     config = yaml.safe_load(f)\n",
    "\n",
    "# bg = BrickToGrafana(grafana_server=config['grafana_server'], grafana_api_key = config['grafana_api_key'], datasource=config['datasource'], ttl_path = 'test-brick-model.ttl')"
   ]
  },
  {
   "cell_type": "code",
   "execution_count": null,
   "metadata": {},
   "outputs": [],
   "source": [
    "# bg.create_dashboard('AQL from brick')"
   ]
  },
  {
   "cell_type": "code",
   "execution_count": null,
   "metadata": {},
   "outputs": [],
   "source": [
    "# Grafana not set up, upload won't work\n",
    "# bg.upload_dashboard(message = 'testing upload')"
   ]
  },
  {
   "cell_type": "code",
   "execution_count": null,
   "metadata": {},
   "outputs": [],
   "source": []
  }
 ],
 "metadata": {
  "kernelspec": {
   "display_name": "semantic-mpc-interface (3.10.0)",
   "language": "python",
   "name": "python3"
  },
  "language_info": {
   "codemirror_mode": {
    "name": "ipython",
    "version": 3
   },
   "file_extension": ".py",
   "mimetype": "text/x-python",
   "name": "python",
   "nbconvert_exporter": "python",
   "pygments_lexer": "ipython3",
   "version": "3.10.0"
  }
 },
 "nbformat": 4,
 "nbformat_minor": 2
}
