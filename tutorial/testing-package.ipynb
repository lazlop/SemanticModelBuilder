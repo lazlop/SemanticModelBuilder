{
 "cells": [
  {
   "cell_type": "code",
   "execution_count": 1,
   "metadata": {},
   "outputs": [
    {
     "name": "stderr",
     "output_type": "stream",
     "text": [
      "CRITICAL:root:Install the 'bacnet-ingress' module, e.g. 'pip install buildingmotif[bacnet-ingress]'\n"
     ]
    }
   ],
   "source": [
    "# import sys\n",
    "# sys.path.insert(0, '..')\n",
    "from semantic_mpc_interface import (\n",
    "    LoadModel,\n",
    "    HPFlexSurvey,\n",
    "    convert_units,\n",
    "    SHACLHandler\n",
    ")\n",
    "from buildingmotif.namespaces import BRICK, RDF\n",
    "from buildingmotif import BuildingMOTIF\n",
    "from buildingmotif.dataclasses import Library\n",
    "import csv\n",
    "from pyshacl.rdfutil import clone"
   ]
  },
  {
   "cell_type": "markdown",
   "metadata": {},
   "source": [
    "# Testing the Model Builder\n",
    "\n",
    "ModelBuilder has been deprecated in favor of just survey based workflow. May be readded in the future"
   ]
  },
  {
   "cell_type": "markdown",
   "metadata": {},
   "source": [
    "# Testing the Survey Workflow"
   ]
  },
  {
   "cell_type": "code",
   "execution_count": 2,
   "metadata": {},
   "outputs": [],
   "source": [
    "# Please disregard excessive outputs (logging and warnings)\n",
    "# TODO: Figure out how to configure these in building motif \n",
    "import logging\n",
    "logging.disable(logging.CRITICAL)\n",
    "import warnings\n",
    "warnings.filterwarnings(\"ignore\")"
   ]
  },
  {
   "cell_type": "code",
   "execution_count": 3,
   "metadata": {},
   "outputs": [
    {
     "name": "stdout",
     "output_type": "stream",
     "text": [
      "removing dependency:  space\n",
      "removing dependency:  window\n",
      "removing dependency:  hp-rtu\n",
      "removing dependency:  tstat\n",
      "values: dict_values([])\n",
      "values names: {}\n",
      "values: dict_values(['area-name-value'])\n",
      "values names: {'area-name': '<name>-area-name'}\n",
      "values: dict_values(['heating_COP-name-value', 'cooling_capacity-name-value', 'cooling_COP-name-value', 'heating_capacity-name-value'])\n",
      "values names: {'cooling_COP-name': '<name>-cooling_COP-name', 'heating_COP-name': '<name>-heating_COP-name', 'cooling_capacity-name': '<name>-cooling_capacity-name', 'heating_capacity-name': '<name>-heating_capacity-name'}\n",
      "values: dict_values(['tolerance-name-value', 'active-name-value', 'resolution-name-value', 'setpoint_deadband-name-value', 'stage_count-name-value'])\n",
      "values names: {'tolerance-name': '<name>-tolerance-name', 'resolution-name': '<name>-resolution-name', 'setpoint_deadband-name': '<name>-setpoint_deadband-name', 'active-name': '<name>-active-name', 'stage_count-name': '<name>-stage_count-name'}\n",
      "values: dict_values(['tilt-name-value', 'azimuth-name-value', 'area-name-value'])\n",
      "values names: {'tilt-name': '<name>-tilt-name', 'azimuth-name': '<name>-azimuth-name', 'area-name': '<name>-area-name'}\n",
      "values: dict_values(['longitude-name-value', 'latitude-name-value', 'noaastation-name-value', 'timezone-name-value'])\n",
      "values names: {'noaastation-name': '<name>-noaastation-name', 'timezone-name': '<name>-timezone-name', 'longitude-name': '<name>-longitude-name', 'latitude-name': '<name>-latitude-name'}\n",
      "{'site_id': 'test_site', 'hvac_type': 'hp-rtu', 'variatic_params': {'hvac-zone': {}, 'space': {'area-name': '<name>-area-name'}, 'hp-rtu': {'cooling_COP-name': '<name>-cooling_COP-name', 'heating_COP-name': '<name>-heating_COP-name', 'cooling_capacity-name': '<name>-cooling_capacity-name', 'heating_capacity-name': '<name>-heating_capacity-name'}, 'tstat': {'tolerance-name': '<name>-tolerance-name', 'resolution-name': '<name>-resolution-name', 'setpoint_deadband-name': '<name>-setpoint_deadband-name', 'active-name': '<name>-active-name', 'stage_count-name': '<name>-stage_count-name'}, 'window': {'tilt-name': '<name>-tilt-name', 'azimuth-name': '<name>-azimuth-name', 'area-name': '<name>-area-name'}, 'site': {'noaastation-name': '<name>-noaastation-name', 'timezone-name': '<name>-timezone-name', 'longitude-name': '<name>-longitude-name', 'latitude-name': '<name>-latitude-name'}}, 'param_mapping': {'hvac-zone': {}, 'space': {'area': 'area-name-value'}, 'hp-rtu': {'heating_COP': 'heating_COP-name-value', 'cooling_capacity': 'cooling_capacity-name-value', 'cooling_COP': 'cooling_COP-name-value', 'heating_capacity': 'heating_capacity-name-value'}, 'tstat': {'tolerance': 'tolerance-name-value', 'active': 'active-name-value', 'resolution': 'resolution-name-value', 'setpoint_deadband': 'setpoint_deadband-name-value', 'stage_count': 'stage_count-name-value'}, 'window': {'tilt': 'tilt-name-value', 'azimuth': 'azimuth-name-value', 'area': 'area-name-value'}, 'site': {'longitude': 'longitude-name-value', 'latitude': 'latitude-name-value', 'noaastation': 'noaastation-name-value', 'timezone': 'timezone-name-value'}}, 'hvacs_feed_hvacs': {}, 'hvacs_feed_zones': {'hvac_1': ['zone_1'], 'hvac_2': ['zone_2'], 'hvac_3': ['zone_3']}, 'zones_contain_spaces': {'zone_1': ['space_1_1', 'space_1_2'], 'zone_2': ['space_2_1'], 'zone_3': ['space_3_1']}, 'zones_contain_windows': {'zone_1': ['window_1_1', 'window_1_2'], 'zone_2': ['window_2_1', 'window_2_2'], 'zone_3': ['window_3_1', 'window_3_2', 'window_3_3']}}\n"
     ]
    }
   ],
   "source": [
    "# Creating survey, allow overwrite if there is something already there\n",
    "s = HPFlexSurvey('test_site','test_build','.', overwrite=True)\n",
    "\n",
    "# Generating a simple building structure that prefills csv files. \n",
    "s.easy_config(zone_space_window_list=[(2,2),(1,2),(1,3)])\n",
    "# Now check test_site/test_build to look at survey files\n"
   ]
  },
  {
   "cell_type": "code",
   "execution_count": 4,
   "metadata": {},
   "outputs": [],
   "source": [
    "# Will just fill the columns programmatically for testing, csv should be filled out otherwise\n",
    "import sys\n",
    "sys.path.insert(0,'../examples')\n",
    "from example_prefill_usage import prefill_csv_survey"
   ]
  },
  {
   "cell_type": "code",
   "execution_count": 5,
   "metadata": {},
   "outputs": [
    {
     "name": "stdout",
     "output_type": "stream",
     "text": [
      "Loading config from: test_site/test_build/config.json\n",
      "Found CSV files: ['zone', 'site', 'window', 'hvac', 'point_list', 'tstat', 'space']\n",
      "Filled 4 empty cells across 4 columns in site.csv\n",
      "Filled 21 empty cells across 3 columns in window.csv\n",
      "Filled 12 empty cells across 4 columns in hvac.csv\n",
      "No empty cells found in point_list.csv\n",
      "Filled 15 empty cells across 5 columns in tstat.csv\n",
      "Filled 8 empty cells across 2 columns in space.csv\n"
     ]
    }
   ],
   "source": [
    "prefill_csv_survey('test_site/test_build')"
   ]
  },
  {
   "cell_type": "code",
   "execution_count": 6,
   "metadata": {},
   "outputs": [
    {
     "name": "stdout",
     "output_type": "stream",
     "text": [
      "Expanded CSV shape: (6, 5)\n",
      "New columns added: []\n",
      "Expanded CSV shape: (4, 4)\n",
      "New columns added: ['area-name']\n",
      "Expanded CSV shape: (3, 9)\n",
      "New columns added: ['cooling_COP-name', 'heating_COP-name', 'cooling_capacity-name', 'heating_capacity-name']\n",
      "Expanded CSV shape: (3, 14)\n",
      "New columns added: ['tolerance-name', 'resolution-name', 'setpoint_deadband-name', 'active-name', 'stage_count-name']\n",
      "Expanded CSV shape: (7, 8)\n",
      "New columns added: ['tilt-name', 'azimuth-name', 'area-name']\n",
      "Expanded CSV shape: (1, 9)\n",
      "New columns added: ['noaastation-name', 'timezone-name', 'longitude-name', 'latitude-name']\n"
     ]
    }
   ],
   "source": [
    "# Reading csv\n",
    "s.read_csv()"
   ]
  },
  {
   "cell_type": "markdown",
   "metadata": {},
   "source": [
    "# Testing SHACL Generation and Validation"
   ]
  },
  {
   "cell_type": "code",
   "execution_count": 7,
   "metadata": {},
   "outputs": [],
   "source": [
    "og = clone.clone_graph(s.graph)"
   ]
  },
  {
   "cell_type": "code",
   "execution_count": 8,
   "metadata": {},
   "outputs": [],
   "source": [
    "# Create handler\n",
    "handler = SHACLHandler(ontology='brick')\n",
    "\n",
    "# Generate shapes\n",
    "handler.generate_shapes()\n",
    "\n",
    "# Save shapes\n",
    "handler.save_shapes('shapes.ttl')\n",
    "\n",
    "# Validate a model\n",
    "conforms, results_graph, results_text = handler.validate_model(s.graph)\n",
    "\n",
    "s.graph.serialize('test-brick-model-reasoned.ttl', format = 'ttl')\n",
    "if not conforms:\n",
    "    print(\"Validation failed:\")\n",
    "    print(results_text)"
   ]
  },
  {
   "cell_type": "code",
   "execution_count": 9,
   "metadata": {},
   "outputs": [
    {
     "name": "stdout",
     "output_type": "stream",
     "text": [
      "@prefix ns1: <urn:hpflex/shapes#> .\n",
      "\n",
      "<urn:hpflex/test_site#hvac_1> a ns1:hp-rtu ;\n",
      "    ns1:air-connects-to <urn:hpflex/test_site#zone_1> .\n",
      "\n",
      "<urn:hpflex/test_site#hvac_2> a ns1:hp-rtu ;\n",
      "    ns1:air-connects-to <urn:hpflex/test_site#zone_2> .\n",
      "\n",
      "<urn:hpflex/test_site#hvac_3> a ns1:hp-rtu ;\n",
      "    ns1:air-connects-to <urn:hpflex/test_site#zone_3> .\n",
      "\n",
      "<urn:hpflex/test_site#test_site> a ns1:site .\n",
      "\n",
      "<urn:hpflex/test_site#tstat_zone_1> a ns1:tstat ;\n",
      "    ns1:has-location <urn:hpflex/test_site#zone_1> ;\n",
      "    ns1:has-point <urn:hpflex/test_site#tstat_zone_1-active-name>,\n",
      "        <urn:hpflex/test_site#tstat_zone_1-setpoint_deadband-name>,\n",
      "        <urn:hpflex/test_site#tstat_zone_1-tolerance-name> .\n",
      "\n",
      "<urn:hpflex/test_site#tstat_zone_2> a ns1:tstat ;\n",
      "    ns1:has-location <urn:hpflex/test_site#zone_2> ;\n",
      "    ns1:has-point <urn:hpflex/test_site#tstat_zone_2-active-name>,\n",
      "        <urn:hpflex/test_site#tstat_zone_2-setpoint_deadband-name>,\n",
      "        <urn:hpflex/test_site#tstat_zone_2-tolerance-name> .\n",
      "\n",
      "<urn:hpflex/test_site#tstat_zone_3> a ns1:tstat ;\n",
      "    ns1:has-location <urn:hpflex/test_site#zone_3> ;\n",
      "    ns1:has-point <urn:hpflex/test_site#tstat_zone_3-active-name>,\n",
      "        <urn:hpflex/test_site#tstat_zone_3-setpoint_deadband-name>,\n",
      "        <urn:hpflex/test_site#tstat_zone_3-tolerance-name> .\n",
      "\n",
      "<urn:hpflex/test_site#window_2_1> a ns1:window .\n",
      "\n",
      "<urn:hpflex/test_site#window_3_1> a ns1:window .\n",
      "\n",
      "<urn:hpflex/test_site#window_3_2> a ns1:window .\n",
      "\n",
      "<urn:hpflex/test_site#> ns1:air-connects-to <urn:hpflex/test_site#zone_1> ;\n",
      "    ns1:has-location <urn:hpflex/test_site#zone_1> .\n",
      "\n",
      "<urn:hpflex/test_site#space_1_1> a ns1:space .\n",
      "\n",
      "<urn:hpflex/test_site#space_1_2> a ns1:space .\n",
      "\n",
      "<urn:hpflex/test_site#space_2_1> a ns1:space .\n",
      "\n",
      "<urn:hpflex/test_site#space_3_1> a ns1:space .\n",
      "\n",
      "<urn:hpflex/test_site#window_1_1> a ns1:window .\n",
      "\n",
      "<urn:hpflex/test_site#window_1_2> a ns1:window .\n",
      "\n",
      "<urn:hpflex/test_site#window_2_2> a ns1:window .\n",
      "\n",
      "<urn:hpflex/test_site#window_3_3> a ns1:window .\n",
      "\n",
      "<urn:hpflex/test_site#zone_2> a ns1:hvac-zone ;\n",
      "    ns1:has-space <urn:hpflex/test_site#space_2_1>,\n",
      "        <urn:hpflex/test_site#window_2_2> ;\n",
      "    ns1:has-window <urn:hpflex/test_site#space_2_1>,\n",
      "        <urn:hpflex/test_site#window_2_2> .\n",
      "\n",
      "<urn:hpflex/test_site#zone_3> a ns1:hvac-zone ;\n",
      "    ns1:has-space <urn:hpflex/test_site#space_3_1>,\n",
      "        <urn:hpflex/test_site#window_3_3> ;\n",
      "    ns1:has-window <urn:hpflex/test_site#space_3_1>,\n",
      "        <urn:hpflex/test_site#window_3_3> .\n",
      "\n",
      "<urn:hpflex/test_site#zone_1> a ns1:hvac-zone ;\n",
      "    ns1:has-space <urn:hpflex/test_site#>,\n",
      "        <urn:hpflex/test_site#space_1_1>,\n",
      "        <urn:hpflex/test_site#space_1_2>,\n",
      "        <urn:hpflex/test_site#window_1_1>,\n",
      "        <urn:hpflex/test_site#window_1_2> ;\n",
      "    ns1:has-window <urn:hpflex/test_site#>,\n",
      "        <urn:hpflex/test_site#space_1_1>,\n",
      "        <urn:hpflex/test_site#space_1_2>,\n",
      "        <urn:hpflex/test_site#window_1_1>,\n",
      "        <urn:hpflex/test_site#window_1_2> .\n",
      "\n",
      "\n"
     ]
    }
   ],
   "source": [
    "# lots of new inferred information\n",
    "(s.graph-og).print()"
   ]
  },
  {
   "cell_type": "markdown",
   "metadata": {},
   "source": [
    "# Testing get Metadata"
   ]
  },
  {
   "cell_type": "code",
   "execution_count": 10,
   "metadata": {},
   "outputs": [],
   "source": [
    "# still working on loader, will clean up class, but functionality about right\n",
    "loader = LoadModel(\"test_site/test_build/test_build.ttl\", ontology = 'brick')\n",
    "site_info = loader.get_all_building_objects()"
   ]
  },
  {
   "cell_type": "code",
   "execution_count": 11,
   "metadata": {},
   "outputs": [
    {
     "name": "stdout",
     "output_type": "stream",
     "text": [
      "{'sites': [Site(name='urn:hpflex/test_site#test_site', longitudes=1, latitudes=1, noaastations=1, timezones=1)], 'zones': [Hvaczone(name='urn:hpflex/test_site#zone_3', tstats=1, hvacs=1, windows=1, spaces=1), Hvaczone(name='urn:hpflex/test_site#zone_2', tstats=1, hvacs=1, windows=1, spaces=1), Hvaczone(name='urn:hpflex/test_site#zone_1', tstats=1, hvacs=1, windows=2, spaces=2)]}\n"
     ]
    }
   ],
   "source": [
    "print(site_info)"
   ]
  },
  {
   "cell_type": "code",
   "execution_count": 12,
   "metadata": {},
   "outputs": [
    {
     "name": "stdout",
     "output_type": "stream",
     "text": [
      "Hvaczone(name='urn:hpflex/test_site#zone_3', tstats=1, hvacs=1, windows=1, spaces=1)\n"
     ]
    }
   ],
   "source": [
    "zone = site_info['zones'][0]\n",
    "print(zone)"
   ]
  },
  {
   "cell_type": "code",
   "execution_count": 13,
   "metadata": {},
   "outputs": [
    {
     "data": {
      "text/plain": [
       "[Window(name='urn:hpflex/test_site#window_3_3', azimuth=Value(value=7.0, unit='None'), area=Value(value=7.0, unit='http://qudt.org/vocab/unit/FT2'), tilt=Value(value=7.0, unit='None'))]"
      ]
     },
     "execution_count": 13,
     "metadata": {},
     "output_type": "execute_result"
    }
   ],
   "source": [
    "zone.windows"
   ]
  },
  {
   "cell_type": "code",
   "execution_count": 14,
   "metadata": {},
   "outputs": [
    {
     "data": {
      "text/plain": [
       "Value(value=7.0, unit='http://qudt.org/vocab/unit/FT2')"
      ]
     },
     "execution_count": 14,
     "metadata": {},
     "output_type": "execute_result"
    }
   ],
   "source": [
    "zone.windows[0].area"
   ]
  },
  {
   "cell_type": "code",
   "execution_count": 15,
   "metadata": {},
   "outputs": [
    {
     "data": {
      "text/plain": [
       "Tstat(name='urn:hpflex/test_site#tstat_zone_3', tolerance=Value(value=3.0, unit='http://qudt.org/vocab/unit/DEG_F'), active=Value(value=3.0, unit='None'), stage_count=Value(value=3.0, unit='None'), setpoint_deadband=Value(value=3.0, unit='http://qudt.org/vocab/unit/DEG_F'), resolution=Value(value=3.0, unit='http://qudt.org/vocab/unit/DEG_F'))"
      ]
     },
     "execution_count": 15,
     "metadata": {},
     "output_type": "execute_result"
    }
   ],
   "source": [
    "zone.tstats[0]"
   ]
  },
  {
   "cell_type": "code",
   "execution_count": 16,
   "metadata": {},
   "outputs": [
    {
     "name": "stdout",
     "output_type": "stream",
     "text": [
      "Value(value=3.0, unit='http://qudt.org/vocab/unit/DEG_F')\n",
      "CONVERT http://qudt.org/vocab/unit/DEG_F to http://qudt.org/vocab/unit/DEG_C\n",
      "Value(value=-16.111111111111086, unit='http://qudt.org/vocab/unit/DEG_C')\n"
     ]
    }
   ],
   "source": [
    "print(zone.tstats[0].resolution)\n",
    "zone.tstats[0].resolution.convert_to_si()\n",
    "print(zone.tstats[0].resolution)"
   ]
  },
  {
   "cell_type": "markdown",
   "metadata": {},
   "source": [
    "# Testing Unit Conversion"
   ]
  },
  {
   "cell_type": "code",
   "execution_count": 17,
   "metadata": {},
   "outputs": [
    {
     "data": {
      "text/plain": [
       "3.048"
      ]
     },
     "execution_count": 17,
     "metadata": {},
     "output_type": "execute_result"
    }
   ],
   "source": [
    "convert_units(10, 'FT', 'M')"
   ]
  },
  {
   "cell_type": "code",
   "execution_count": 18,
   "metadata": {},
   "outputs": [
    {
     "data": {
      "text/plain": [
       "31.999999999999886"
      ]
     },
     "execution_count": 18,
     "metadata": {},
     "output_type": "execute_result"
    }
   ],
   "source": [
    "convert_units(0, 'DEG_C', 'DEG_F')"
   ]
  },
  {
   "cell_type": "code",
   "execution_count": 19,
   "metadata": {},
   "outputs": [
    {
     "data": {
      "text/plain": [
       "273.15"
      ]
     },
     "execution_count": 19,
     "metadata": {},
     "output_type": "execute_result"
    }
   ],
   "source": [
    "convert_units(0, 'DEG_C', 'K')"
   ]
  },
  {
   "cell_type": "code",
   "execution_count": 20,
   "metadata": {},
   "outputs": [],
   "source": [
    "# Planning to implement converting everything to si in loader\n",
    "# loader.get_all_building_objects"
   ]
  },
  {
   "cell_type": "markdown",
   "metadata": {},
   "source": [
    "# Testing Grafana Dashboarding \n",
    "Needs updates"
   ]
  },
  {
   "cell_type": "code",
   "execution_count": 21,
   "metadata": {},
   "outputs": [],
   "source": [
    "# import yaml \n",
    "# with open('../development_files/creds.yml') as f:\n",
    "#     config = yaml.safe_load(f)\n",
    "\n",
    "# bg = BrickToGrafana(grafana_server=config['grafana_server'], grafana_api_key = config['grafana_api_key'], datasource=config['datasource'], ttl_path = 'test-brick-model.ttl')"
   ]
  },
  {
   "cell_type": "code",
   "execution_count": 22,
   "metadata": {},
   "outputs": [],
   "source": [
    "# bg.create_dashboard('AQL from brick')"
   ]
  },
  {
   "cell_type": "code",
   "execution_count": 23,
   "metadata": {},
   "outputs": [],
   "source": [
    "# Grafana not set up, upload won't work\n",
    "# bg.upload_dashboard(message = 'testing upload')"
   ]
  },
  {
   "cell_type": "code",
   "execution_count": null,
   "metadata": {},
   "outputs": [],
   "source": []
  }
 ],
 "metadata": {
  "kernelspec": {
   "display_name": "semantic-mpc-interface (3.10.0)",
   "language": "python",
   "name": "python3"
  },
  "language_info": {
   "codemirror_mode": {
    "name": "ipython",
    "version": 3
   },
   "file_extension": ".py",
   "mimetype": "text/x-python",
   "name": "python",
   "nbconvert_exporter": "python",
   "pygments_lexer": "ipython3",
   "version": "3.10.0"
  }
 },
 "nbformat": 4,
 "nbformat_minor": 2
}
