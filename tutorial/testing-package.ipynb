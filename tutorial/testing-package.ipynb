{
 "cells": [
  {
   "cell_type": "code",
   "execution_count": 24,
   "metadata": {},
   "outputs": [],
   "source": [
    "# import sys\n",
    "# sys.path.insert(0, '..')\n",
    "from semantic_mpc_interface import (\n",
    "    LoadModel,\n",
    "    get_thermostat_data,\n",
    "    HPFlexSurvey,\n",
    "    convert_units,\n",
    "    SHACLHandler,\n",
    "    inline_shapes\n",
    "    # add_connection\n",
    ")\n",
    "from buildingmotif.namespaces import BRICK, RDF, S223\n",
    "from rdflib import URIRef\n",
    "from buildingmotif import BuildingMOTIF\n",
    "from buildingmotif.dataclasses import Library\n",
    "import csv\n",
    "from pyshacl.rdfutil import clone\n",
    "\n",
    "# SELECT ONTOLOGY \n",
    "ontology = 's223'\n",
    "\n",
    "# base path\n",
    "base_path = f'{ontology}-example/bldg1'"
   ]
  },
  {
   "cell_type": "markdown",
   "metadata": {},
   "source": [
    "# Testing the Model Builder\n",
    "\n",
    "ModelBuilder has been deprecated in favor of just survey based workflow. May be readded in the future"
   ]
  },
  {
   "cell_type": "markdown",
   "metadata": {},
   "source": [
    "# Testing the Survey Workflow"
   ]
  },
  {
   "cell_type": "code",
   "execution_count": 25,
   "metadata": {},
   "outputs": [],
   "source": [
    "# Please disregard excessive outputs (logging and warnings)\n",
    "# TODO: Figure out how to configure these in building motif \n",
    "import logging\n",
    "logging.disable(logging.CRITICAL)\n",
    "import warnings\n",
    "warnings.filterwarnings(\"ignore\")"
   ]
  },
  {
   "cell_type": "code",
   "execution_count": 28,
   "metadata": {},
   "outputs": [
    {
     "name": "stdout",
     "output_type": "stream",
     "text": [
      "removing dependency:  space\n",
      "removing dependency:  window\n",
      "removing dependency:  hp-rtu\n",
      "removing dependency:  tstat\n",
      "values: dict_values([])\n",
      "values: dict_values(['area-value'])\n",
      "values: dict_values(['heating_COP-value', 'cooling_capacity-value', 'cooling_COP-value', 'heating_capacity-value'])\n",
      "values: dict_values(['resolution-value', 'tolerance-value', 'stage_count-value', 'active-value', 'setpoint_deadband-value'])\n",
      "values: dict_values(['tilt-value', 'area-value', 'azimuth-value'])\n",
      "values: dict_values(['timezone-value', 'latitude-value', 'noaastation-value', 'longitude-value'])\n",
      "{'site_id': 's223-example', 'hvac_type': 'hp-rtu', 'variable_params': {'hvac-zone': {}, 'space': {'area': '<name>-area'}, 'hp-rtu': {'heating_COP': '<name>-heating_COP', 'cooling_capacity': '<name>-cooling_capacity', 'cooling_COP': '<name>-cooling_COP', 'heating_capacity': '<name>-heating_capacity'}, 'tstat': {'setpoint_deadband': '<name>-setpoint_deadband', 'resolution': '<name>-resolution', 'tolerance': '<name>-tolerance', 'stage_count': '<name>-stage_count', 'active': '<name>-active'}, 'window': {'tilt': '<name>-tilt', 'azimuth': '<name>-azimuth', 'area': '<name>-area'}, 'site': {'noaastation': '<name>-noaastation', 'timezone': '<name>-timezone', 'longitude': '<name>-longitude', 'latitude': '<name>-latitude'}}, 'param_mapping': {'hvac-zone': {}, 'space': {'area': 'area-value', 'area-name': 'area'}, 'hp-rtu': {'heating_COP': 'heating_COP-value', 'cooling_capacity': 'cooling_capacity-value', 'cooling_COP': 'cooling_COP-value', 'heating_capacity': 'heating_capacity-value', 'heating_COP-name': 'heating_COP', 'cooling_capacity-name': 'cooling_capacity', 'cooling_COP-name': 'cooling_COP', 'heating_capacity-name': 'heating_capacity'}, 'tstat': {'resolution': 'resolution-value', 'tolerance': 'tolerance-value', 'stage_count': 'stage_count-value', 'active': 'active-value', 'setpoint_deadband': 'setpoint_deadband-value', 'setpoint_deadband-name': 'setpoint_deadband', 'resolution-name': 'resolution', 'tolerance-name': 'tolerance', 'stage_count-name': 'stage_count', 'active-name': 'active'}, 'window': {'tilt': 'tilt-value', 'area': 'area-value', 'azimuth': 'azimuth-value', 'tilt-name': 'tilt', 'azimuth-name': 'azimuth', 'area-name': 'area'}, 'site': {'timezone': 'timezone-value', 'latitude': 'latitude-value', 'noaastation': 'noaastation-value', 'longitude': 'longitude-value', 'noaastation-name': 'noaastation', 'timezone-name': 'timezone', 'longitude-name': 'longitude', 'latitude-name': 'latitude'}}, 'hvacs_feed_hvacs': {}, 'hvacs_feed_zones': {'hvac_1': ['zone_1'], 'hvac_2': ['zone_2'], 'hvac_3': ['zone_3']}, 'zones_contain_spaces': {'zone_1': ['space_1_1', 'space_1_2'], 'zone_2': ['space_2_1'], 'zone_3': ['space_3_1']}, 'zones_contain_windows': {'zone_1': ['window_1_1', 'window_1_2'], 'zone_2': ['window_2_1', 'window_2_2'], 'zone_3': ['window_3_1', 'window_3_2', 'window_3_3']}}\n"
     ]
    }
   ],
   "source": [
    "# Creating survey, allow overwrite if there is something already there\n",
    "s = HPFlexSurvey(base_path.split('/')[0],base_path.split('/')[1],'.', overwrite=True, ontology=ontology,\n",
    "                 template_dict = {'zone': 'hvac-zone',\n",
    "                                  \"space\": \"space\",\n",
    "                                  \"hvac\": \"hp-rtu\",\n",
    "                                  \"tstat\": \"tstat\",\n",
    "                                  \"window\": \"window\",\n",
    "                                  \"site\": \"site\" })\n",
    "\n",
    "# Generating a simple building structure that prefills csv files. \n",
    "s.easy_config(zone_space_window_list=[(2,2),(1,2),(1,3)])\n",
    "# Now check test_site/test_build to look at survey files\n"
   ]
  },
  {
   "cell_type": "code",
   "execution_count": 27,
   "metadata": {},
   "outputs": [],
   "source": [
    "# Will just fill the columns programmatically for testing, csv should be filled out otherwise\n",
    "import sys\n",
    "sys.path.insert(0,'../examples')\n",
    "from example_prefill_usage import prefill_csv_survey"
   ]
  },
  {
   "cell_type": "code",
   "execution_count": null,
   "metadata": {},
   "outputs": [
    {
     "name": "stdout",
     "output_type": "stream",
     "text": [
      "Loading config from: s223-test_site/test_build/config.json\n",
      "Found CSV files: ['zone', 'site', 'window', 'hvac', 'point_list', 'tstat', 'space']\n",
      "Filled 10 empty cells in zone.csv\n",
      "Filled 4 empty cells across 4 columns in site.csv\n",
      "Filled 21 empty cells across 3 columns in window.csv\n",
      "Filled 12 empty cells across 4 columns in hvac.csv\n",
      "No empty cells found in point_list.csv\n",
      "Filled 15 empty cells across 5 columns in tstat.csv\n",
      "Filled 4 empty cells across 1 columns in space.csv\n"
     ]
    }
   ],
   "source": [
    "# prefill_csv_survey(base_path)"
   ]
  },
  {
   "cell_type": "code",
   "execution_count": 29,
   "metadata": {},
   "outputs": [
    {
     "name": "stdout",
     "output_type": "stream",
     "text": [
      "Expanded CSV shape: (6, 5)\n",
      "New columns added: []\n",
      "Expanded CSV shape: (4, 4)\n",
      "New columns added: ['area']\n",
      "Expanded CSV shape: (3, 13)\n",
      "New columns added: ['heating_COP', 'cooling_capacity', 'cooling_COP', 'heating_capacity']\n",
      "Expanded CSV shape: (3, 14)\n",
      "New columns added: ['setpoint_deadband', 'resolution', 'tolerance', 'stage_count', 'active']\n",
      "Expanded CSV shape: (7, 10)\n",
      "New columns added: ['tilt', 'azimuth', 'area']\n",
      "Expanded CSV shape: (1, 9)\n",
      "New columns added: ['noaastation', 'timezone', 'longitude', 'latitude']\n"
     ]
    }
   ],
   "source": [
    "# Reading csv\n",
    "s.read_csv()"
   ]
  },
  {
   "cell_type": "markdown",
   "metadata": {},
   "source": [
    "# Testing SHACL Generation and Validation"
   ]
  },
  {
   "cell_type": "code",
   "execution_count": 30,
   "metadata": {},
   "outputs": [
    {
     "data": {
      "text/plain": [
       "<Graph identifier=14cfff1e-cee0-47a5-b4c7-5efb96339316 (<class 'rdflib.graph.Graph'>)>"
      ]
     },
     "execution_count": 30,
     "metadata": {},
     "output_type": "execute_result"
    }
   ],
   "source": [
    "og = clone.clone_graph(s.graph)\n",
    "# Create handler\n",
    "handler = SHACLHandler(ontology=ontology)\n",
    "\n",
    "# Generate shapes\n",
    "handler.generate_shapes()\n",
    "\n",
    "# Save shapes\n",
    "handler.save_shapes(f'{base_path}/shapes.ttl')\n",
    "# also save more human readable shapes\n",
    "inline_shapes(handler.shapes_graph).serialize(f\"{base_path}/inlined_shapes.ttl\")\n",
    "\n",
    "# Run inference on model\n",
    "inferred_graph = handler.infer(s.graph)\n",
    "\n",
    "inferred_graph.serialize(f'{base_path}/reasoned.ttl', format = 'ttl')\n",
    "# if not validation_result.valid:\n",
    "#     print(\"Validation failed:\")\n",
    "#     print(validation_result.report_string)"
   ]
  },
  {
   "cell_type": "code",
   "execution_count": 31,
   "metadata": {},
   "outputs": [
    {
     "name": "stdout",
     "output_type": "stream",
     "text": [
      "@prefix ns1: <urn:hpflex/shapes#> .\n",
      "\n",
      "<urn:hpflex/s223-example#hvac_1> a ns1:hp-rtu ;\n",
      "    ns1:air-connected-to <urn:hpflex/s223-example#zone_1> ;\n",
      "    ns1:has-point <urn:hpflex/s223-example#hvac_1-cooling_COP>,\n",
      "        <urn:hpflex/s223-example#hvac_1-cooling_capacity>,\n",
      "        <urn:hpflex/s223-example#hvac_1-heating_COP>,\n",
      "        <urn:hpflex/s223-example#hvac_1-heating_capacity> .\n",
      "\n",
      "<urn:hpflex/s223-example#hvac_2> a ns1:hp-rtu ;\n",
      "    ns1:air-connected-to <urn:hpflex/s223-example#zone_2> ;\n",
      "    ns1:has-point <urn:hpflex/s223-example#hvac_2-cooling_COP>,\n",
      "        <urn:hpflex/s223-example#hvac_2-cooling_capacity>,\n",
      "        <urn:hpflex/s223-example#hvac_2-heating_COP>,\n",
      "        <urn:hpflex/s223-example#hvac_2-heating_capacity> .\n",
      "\n",
      "<urn:hpflex/s223-example#hvac_3> a ns1:hp-rtu ;\n",
      "    ns1:air-connected-to <urn:hpflex/s223-example#zone_3> ;\n",
      "    ns1:has-point <urn:hpflex/s223-example#hvac_3-cooling_COP>,\n",
      "        <urn:hpflex/s223-example#hvac_3-cooling_capacity>,\n",
      "        <urn:hpflex/s223-example#hvac_3-heating_COP>,\n",
      "        <urn:hpflex/s223-example#hvac_3-heating_capacity> .\n",
      "\n",
      "<urn:hpflex/s223-example#s223-example> a ns1:site ;\n",
      "    ns1:has-point <urn:hpflex/s223-example#s223-example-latitude>,\n",
      "        <urn:hpflex/s223-example#s223-example-longitude>,\n",
      "        <urn:hpflex/s223-example#s223-example-noaastation>,\n",
      "        <urn:hpflex/s223-example#s223-example-timezone> .\n",
      "\n",
      "<urn:hpflex/s223-example#tstat_zone_1> a ns1:tstat ;\n",
      "    ns1:has-location <urn:hpflex/s223-example#zone_1> ;\n",
      "    ns1:has-point <urn:hpflex/s223-example#tstat_zone_1-active>,\n",
      "        <urn:hpflex/s223-example#tstat_zone_1-resolution>,\n",
      "        <urn:hpflex/s223-example#tstat_zone_1-setpoint_deadband>,\n",
      "        <urn:hpflex/s223-example#tstat_zone_1-stage_count>,\n",
      "        <urn:hpflex/s223-example#tstat_zone_1-tolerance> .\n",
      "\n",
      "<urn:hpflex/s223-example#tstat_zone_2> a ns1:tstat ;\n",
      "    ns1:has-location <urn:hpflex/s223-example#zone_2> ;\n",
      "    ns1:has-point <urn:hpflex/s223-example#tstat_zone_2-active>,\n",
      "        <urn:hpflex/s223-example#tstat_zone_2-resolution>,\n",
      "        <urn:hpflex/s223-example#tstat_zone_2-setpoint_deadband>,\n",
      "        <urn:hpflex/s223-example#tstat_zone_2-stage_count>,\n",
      "        <urn:hpflex/s223-example#tstat_zone_2-tolerance> .\n",
      "\n",
      "<urn:hpflex/s223-example#tstat_zone_3> a ns1:tstat ;\n",
      "    ns1:has-location <urn:hpflex/s223-example#zone_3> ;\n",
      "    ns1:has-point <urn:hpflex/s223-example#tstat_zone_3-active>,\n",
      "        <urn:hpflex/s223-example#tstat_zone_3-resolution>,\n",
      "        <urn:hpflex/s223-example#tstat_zone_3-setpoint_deadband>,\n",
      "        <urn:hpflex/s223-example#tstat_zone_3-stage_count>,\n",
      "        <urn:hpflex/s223-example#tstat_zone_3-tolerance> .\n",
      "\n",
      "<urn:hpflex/s223-example#window_2_1> a ns1:window ;\n",
      "    ns1:has-point <urn:hpflex/s223-example#window_2_1-area>,\n",
      "        <urn:hpflex/s223-example#window_2_1-azimuth>,\n",
      "        <urn:hpflex/s223-example#window_2_1-tilt> .\n",
      "\n",
      "<urn:hpflex/s223-example#window_3_1> a ns1:window ;\n",
      "    ns1:has-point <urn:hpflex/s223-example#window_3_1-area>,\n",
      "        <urn:hpflex/s223-example#window_3_1-azimuth>,\n",
      "        <urn:hpflex/s223-example#window_3_1-tilt> .\n",
      "\n",
      "<urn:hpflex/s223-example#window_3_2> a ns1:window ;\n",
      "    ns1:has-point <urn:hpflex/s223-example#window_3_2-area>,\n",
      "        <urn:hpflex/s223-example#window_3_2-azimuth>,\n",
      "        <urn:hpflex/s223-example#window_3_2-tilt> .\n",
      "\n",
      "<urn:hpflex/s223-example#hvac_1-cooling_COP> a ns1:cooling-COP ;\n",
      "    ns1:has-value \"10\" .\n",
      "\n",
      "<urn:hpflex/s223-example#hvac_1-cooling_capacity> a ns1:cooling-capacity ;\n",
      "    ns1:has-value \"2.5\" .\n",
      "\n",
      "<urn:hpflex/s223-example#hvac_1-heating_COP> a ns1:heating-COP ;\n",
      "    ns1:has-value \"2.94\" .\n",
      "\n",
      "<urn:hpflex/s223-example#hvac_1-heating_capacity> a ns1:heating-capacity ;\n",
      "    ns1:has-value \"-7.5\" .\n",
      "\n",
      "<urn:hpflex/s223-example#hvac_2-cooling_COP> a ns1:cooling-COP ;\n",
      "    ns1:has-value \"10\" .\n",
      "\n",
      "<urn:hpflex/s223-example#hvac_2-cooling_capacity> a ns1:cooling-capacity ;\n",
      "    ns1:has-value \"2.5\" .\n",
      "\n",
      "<urn:hpflex/s223-example#hvac_2-heating_COP> a ns1:heating-COP ;\n",
      "    ns1:has-value \"2.94\" .\n",
      "\n",
      "<urn:hpflex/s223-example#hvac_2-heating_capacity> a ns1:heating-capacity ;\n",
      "    ns1:has-value \"-7.5\" .\n",
      "\n",
      "<urn:hpflex/s223-example#hvac_3-cooling_COP> a ns1:cooling-COP ;\n",
      "    ns1:has-value \"10\" .\n",
      "\n",
      "<urn:hpflex/s223-example#hvac_3-cooling_capacity> a ns1:cooling-capacity ;\n",
      "    ns1:has-value \"2.5\" .\n",
      "\n",
      "<urn:hpflex/s223-example#hvac_3-heating_COP> a ns1:heating-COP ;\n",
      "    ns1:has-value \"2.94\" .\n",
      "\n",
      "<urn:hpflex/s223-example#hvac_3-heating_capacity> a ns1:heating-capacity ;\n",
      "    ns1:has-value \"-7.5\" .\n",
      "\n",
      "<urn:hpflex/s223-example#s223-example-latitude> a ns1:latitude ;\n",
      "    ns1:has-value \"37.879134\" .\n",
      "\n",
      "<urn:hpflex/s223-example#s223-example-longitude> a ns1:longitude ;\n",
      "    ns1:has-value \"-122.254433\" .\n",
      "\n",
      "<urn:hpflex/s223-example#s223-example-noaastation> a ns1:noaastation ;\n",
      "    ns1:has-value \"\" .\n",
      "\n",
      "<urn:hpflex/s223-example#s223-example-timezone> a ns1:timezone ;\n",
      "    ns1:has-value \"US/Pacific\" .\n",
      "\n",
      "<urn:hpflex/s223-example#space_1_1> a ns1:space ;\n",
      "    ns1:has-point <urn:hpflex/s223-example#space_1_1-area> .\n",
      "\n",
      "<urn:hpflex/s223-example#space_1_1-area> a ns1:area ;\n",
      "    ns1:has-value \"1300\" .\n",
      "\n",
      "<urn:hpflex/s223-example#space_1_2> a ns1:space ;\n",
      "    ns1:has-point <urn:hpflex/s223-example#space_1_2-area> .\n",
      "\n",
      "<urn:hpflex/s223-example#space_1_2-area> a ns1:area ;\n",
      "    ns1:has-value \"1000\" .\n",
      "\n",
      "<urn:hpflex/s223-example#space_2_1> a ns1:space ;\n",
      "    ns1:has-point <urn:hpflex/s223-example#space_2_1-area> .\n",
      "\n",
      "<urn:hpflex/s223-example#space_2_1-area> a ns1:area ;\n",
      "    ns1:has-value \"900\" .\n",
      "\n",
      "<urn:hpflex/s223-example#space_3_1> a ns1:space ;\n",
      "    ns1:has-point <urn:hpflex/s223-example#space_3_1-area> .\n",
      "\n",
      "<urn:hpflex/s223-example#space_3_1-area> a ns1:area ;\n",
      "    ns1:has-value \"1450\" .\n",
      "\n",
      "<urn:hpflex/s223-example#tstat_zone_1-active> a ns1:tstat-active ;\n",
      "    ns1:has-value \"True\" .\n",
      "\n",
      "<urn:hpflex/s223-example#tstat_zone_1-resolution> a ns1:tstat-resolution ;\n",
      "    ns1:has-value \"0.1\" .\n",
      "\n",
      "<urn:hpflex/s223-example#tstat_zone_1-setpoint_deadband> a ns1:tstat-deadband ;\n",
      "    ns1:has-value \"0.5\" .\n",
      "\n",
      "<urn:hpflex/s223-example#tstat_zone_1-stage_count> a ns1:tstat-stage_count ;\n",
      "    ns1:has-value \"4\" .\n",
      "\n",
      "<urn:hpflex/s223-example#tstat_zone_1-tolerance> a ns1:tstat-tolerance ;\n",
      "    ns1:has-value \"0.5\" .\n",
      "\n",
      "<urn:hpflex/s223-example#tstat_zone_2-active> a ns1:tstat-active ;\n",
      "    ns1:has-value \"True\" .\n",
      "\n",
      "<urn:hpflex/s223-example#tstat_zone_2-resolution> a ns1:tstat-resolution ;\n",
      "    ns1:has-value \"0.1\" .\n",
      "\n",
      "<urn:hpflex/s223-example#tstat_zone_2-setpoint_deadband> a ns1:tstat-deadband ;\n",
      "    ns1:has-value \"0.5\" .\n",
      "\n",
      "<urn:hpflex/s223-example#tstat_zone_2-stage_count> a ns1:tstat-stage_count ;\n",
      "    ns1:has-value \"4\" .\n",
      "\n",
      "<urn:hpflex/s223-example#tstat_zone_2-tolerance> a ns1:tstat-tolerance ;\n",
      "    ns1:has-value \"0.5\" .\n",
      "\n",
      "<urn:hpflex/s223-example#tstat_zone_3-active> a ns1:tstat-active ;\n",
      "    ns1:has-value \"True\" .\n",
      "\n",
      "<urn:hpflex/s223-example#tstat_zone_3-resolution> a ns1:tstat-resolution ;\n",
      "    ns1:has-value \"0.1\" .\n",
      "\n",
      "<urn:hpflex/s223-example#tstat_zone_3-setpoint_deadband> a ns1:tstat-deadband ;\n",
      "    ns1:has-value \"0.5\" .\n",
      "\n",
      "<urn:hpflex/s223-example#tstat_zone_3-stage_count> a ns1:tstat-stage_count ;\n",
      "    ns1:has-value \"4\" .\n",
      "\n",
      "<urn:hpflex/s223-example#tstat_zone_3-tolerance> a ns1:tstat-tolerance ;\n",
      "    ns1:has-value \"0.5\" .\n",
      "\n",
      "<urn:hpflex/s223-example#window_1_1-area> a ns1:area ;\n",
      "    ns1:has-value \"180\" .\n",
      "\n",
      "<urn:hpflex/s223-example#window_1_1-azimuth> a ns1:azimuth ;\n",
      "    ns1:has-value \"150\" .\n",
      "\n",
      "<urn:hpflex/s223-example#window_1_1-tilt> a ns1:tilt ;\n",
      "    ns1:has-value \"90\" .\n",
      "\n",
      "<urn:hpflex/s223-example#window_1_2-area> a ns1:area ;\n",
      "    ns1:has-value \"180\" .\n",
      "\n",
      "<urn:hpflex/s223-example#window_1_2-azimuth> a ns1:azimuth ;\n",
      "    ns1:has-value \"150\" .\n",
      "\n",
      "<urn:hpflex/s223-example#window_1_2-tilt> a ns1:tilt ;\n",
      "    ns1:has-value \"90\" .\n",
      "\n",
      "<urn:hpflex/s223-example#window_2_1-area> a ns1:area ;\n",
      "    ns1:has-value \"180\" .\n",
      "\n",
      "<urn:hpflex/s223-example#window_2_1-azimuth> a ns1:azimuth ;\n",
      "    ns1:has-value \"150\" .\n",
      "\n",
      "<urn:hpflex/s223-example#window_2_1-tilt> a ns1:tilt ;\n",
      "    ns1:has-value \"90\" .\n",
      "\n",
      "<urn:hpflex/s223-example#window_2_2-area> a ns1:area ;\n",
      "    ns1:has-value \"180\" .\n",
      "\n",
      "<urn:hpflex/s223-example#window_2_2-azimuth> a ns1:azimuth ;\n",
      "    ns1:has-value \"150\" .\n",
      "\n",
      "<urn:hpflex/s223-example#window_2_2-tilt> a ns1:tilt ;\n",
      "    ns1:has-value \"90\" .\n",
      "\n",
      "<urn:hpflex/s223-example#window_3_1-area> a ns1:area ;\n",
      "    ns1:has-value \"180\" .\n",
      "\n",
      "<urn:hpflex/s223-example#window_3_1-azimuth> a ns1:azimuth ;\n",
      "    ns1:has-value \"150\" .\n",
      "\n",
      "<urn:hpflex/s223-example#window_3_1-tilt> a ns1:tilt ;\n",
      "    ns1:has-value \"90\" .\n",
      "\n",
      "<urn:hpflex/s223-example#window_3_2-area> a ns1:area ;\n",
      "    ns1:has-value \"180\" .\n",
      "\n",
      "<urn:hpflex/s223-example#window_3_2-azimuth> a ns1:azimuth ;\n",
      "    ns1:has-value \"150\" .\n",
      "\n",
      "<urn:hpflex/s223-example#window_3_2-tilt> a ns1:tilt ;\n",
      "    ns1:has-value \"90\" .\n",
      "\n",
      "<urn:hpflex/s223-example#window_3_3-area> a ns1:area ;\n",
      "    ns1:has-value \"180\" .\n",
      "\n",
      "<urn:hpflex/s223-example#window_3_3-azimuth> a ns1:azimuth ;\n",
      "    ns1:has-value \"150\" .\n",
      "\n",
      "<urn:hpflex/s223-example#window_3_3-tilt> a ns1:tilt ;\n",
      "    ns1:has-value \"90\" .\n",
      "\n",
      "<urn:hpflex/s223-example#window_1_1> a ns1:window ;\n",
      "    ns1:has-point <urn:hpflex/s223-example#window_1_1-area>,\n",
      "        <urn:hpflex/s223-example#window_1_1-azimuth>,\n",
      "        <urn:hpflex/s223-example#window_1_1-tilt> .\n",
      "\n",
      "<urn:hpflex/s223-example#window_1_2> a ns1:window ;\n",
      "    ns1:has-point <urn:hpflex/s223-example#window_1_2-area>,\n",
      "        <urn:hpflex/s223-example#window_1_2-azimuth>,\n",
      "        <urn:hpflex/s223-example#window_1_2-tilt> .\n",
      "\n",
      "<urn:hpflex/s223-example#window_2_2> a ns1:window ;\n",
      "    ns1:has-point <urn:hpflex/s223-example#window_2_2-area>,\n",
      "        <urn:hpflex/s223-example#window_2_2-azimuth>,\n",
      "        <urn:hpflex/s223-example#window_2_2-tilt> .\n",
      "\n",
      "<urn:hpflex/s223-example#window_3_3> a ns1:window ;\n",
      "    ns1:has-point <urn:hpflex/s223-example#window_3_3-area>,\n",
      "        <urn:hpflex/s223-example#window_3_3-azimuth>,\n",
      "        <urn:hpflex/s223-example#window_3_3-tilt> .\n",
      "\n",
      "<urn:hpflex/s223-example#zone_2> a ns1:hvac-zone ;\n",
      "    ns1:air-connected-to <urn:hpflex/s223-example#window_2_2> ;\n",
      "    ns1:has-space <urn:hpflex/s223-example#space_2_1> ;\n",
      "    ns1:has-window <urn:hpflex/s223-example#window_2_2> .\n",
      "\n",
      "<urn:hpflex/s223-example#zone_3> a ns1:hvac-zone ;\n",
      "    ns1:air-connected-to <urn:hpflex/s223-example#window_3_3> ;\n",
      "    ns1:has-space <urn:hpflex/s223-example#space_3_1> ;\n",
      "    ns1:has-window <urn:hpflex/s223-example#window_3_3> .\n",
      "\n",
      "<urn:hpflex/s223-example#> ns1:air-connected-to <urn:hpflex/s223-example#zone_1> ;\n",
      "    ns1:has-location <urn:hpflex/s223-example#zone_1> .\n",
      "\n",
      "<urn:hpflex/s223-example#zone_1> a ns1:hvac-zone ;\n",
      "    ns1:air-connected-to <urn:hpflex/s223-example#>,\n",
      "        <urn:hpflex/s223-example#window_1_1>,\n",
      "        <urn:hpflex/s223-example#window_1_2> ;\n",
      "    ns1:has-space <urn:hpflex/s223-example#>,\n",
      "        <urn:hpflex/s223-example#space_1_1>,\n",
      "        <urn:hpflex/s223-example#space_1_2> ;\n",
      "    ns1:has-window <urn:hpflex/s223-example#>,\n",
      "        <urn:hpflex/s223-example#window_1_1>,\n",
      "        <urn:hpflex/s223-example#window_1_2> .\n",
      "\n",
      "\n"
     ]
    }
   ],
   "source": [
    "# lots of new inferred information\n",
    "(inferred_graph-og).print()"
   ]
  },
  {
   "cell_type": "code",
   "execution_count": 32,
   "metadata": {},
   "outputs": [],
   "source": [
    "sg = handler.shapes_graph"
   ]
  },
  {
   "cell_type": "code",
   "execution_count": 33,
   "metadata": {},
   "outputs": [],
   "source": [
    "from collections import Counter\n",
    "import pandas as pd\n",
    "import yaml\n",
    "from rdflib import Graph, Literal, URIRef, BNode\n",
    "def inline_shapes(g: Graph):\n",
    "    # 1. Get all entities defined in this graph (subject of rdf:type)\n",
    "    defined_entities = set(s for s, p, o in g.triples((None, RDF.type, None)) if isinstance(s, URIRef))\n",
    "\n",
    "    # 2. Count object references (excluding literals)\n",
    "    object_counter = Counter()\n",
    "    for s, p, o in g:\n",
    "        if isinstance(o, URIRef):\n",
    "            object_counter[o] += 1\n",
    "\n",
    "    # 3. Find single-use, defined entities\n",
    "    candidates = {uri for uri in defined_entities if object_counter[uri] == 1}\n",
    "\n",
    "    # 4. Map for URIRef -> BNode replacement\n",
    "    uri_to_bnode = {}\n",
    "    new_g = Graph()\n",
    "    for prefix, ns in g.namespaces():\n",
    "        new_g.bind(prefix, ns)\n",
    "\n",
    "    # 5. Build the mapping for nodes to be replaced\n",
    "    for s, p, o in g:\n",
    "        if isinstance(o, URIRef) and o in candidates:\n",
    "            if o not in uri_to_bnode:\n",
    "                uri_to_bnode[o] = BNode()\n",
    "\n",
    "    # 6. Rewrite the graph with substitutions\n",
    "    for s, p, o in g:\n",
    "        # Replace object if needed\n",
    "        if isinstance(o, URIRef) and o in uri_to_bnode:\n",
    "            o = uri_to_bnode[o]\n",
    "        # Replace subject if needed (very rare, but possible)\n",
    "        if isinstance(s, URIRef) and s in uri_to_bnode:\n",
    "            s = uri_to_bnode[s]\n",
    "        new_g.add((s, p, o))\n",
    "    return new_g, candidates\n"
   ]
  },
  {
   "cell_type": "code",
   "execution_count": 34,
   "metadata": {},
   "outputs": [],
   "source": [
    "sgi, candidates = inline_shapes(sg)"
   ]
  },
  {
   "cell_type": "code",
   "execution_count": 35,
   "metadata": {},
   "outputs": [
    {
     "data": {
      "text/plain": [
       "{rdflib.term.URIRef('urn:hpflex/shapes#active-cooling-stagesAnnotationRule'),\n",
       " rdflib.term.URIRef('urn:hpflex/shapes#active-cooling-stages_Aspect-OperatingStatus'),\n",
       " rdflib.term.URIRef('urn:hpflex/shapes#active-cooling-stages_Aspect-OperatingStatus-1'),\n",
       " rdflib.term.URIRef('urn:hpflex/shapes#active-cooling-stages_Count'),\n",
       " rdflib.term.URIRef('urn:hpflex/shapes#active-cooling-stages_Count-1'),\n",
       " rdflib.term.URIRef('urn:hpflex/shapes#active-cooling-stages_NUM'),\n",
       " rdflib.term.URIRef('urn:hpflex/shapes#active-cooling-stages_NUM-1'),\n",
       " rdflib.term.URIRef('urn:hpflex/shapes#active-cooling-stages_Role-Cooling'),\n",
       " rdflib.term.URIRef('urn:hpflex/shapes#active-cooling-stages_Role-Cooling-1'),\n",
       " rdflib.term.URIRef('urn:hpflex/shapes#active-cooling-stages_hasAspect'),\n",
       " rdflib.term.URIRef('urn:hpflex/shapes#active-cooling-stages_hasQuantityKind'),\n",
       " rdflib.term.URIRef('urn:hpflex/shapes#active-cooling-stages_hasUnit'),\n",
       " rdflib.term.URIRef('urn:hpflex/shapes#active-heating-stagesAnnotationRule'),\n",
       " rdflib.term.URIRef('urn:hpflex/shapes#active-heating-stages_Aspect-OperatingStatus'),\n",
       " rdflib.term.URIRef('urn:hpflex/shapes#active-heating-stages_Aspect-OperatingStatus-1'),\n",
       " rdflib.term.URIRef('urn:hpflex/shapes#active-heating-stages_Count'),\n",
       " rdflib.term.URIRef('urn:hpflex/shapes#active-heating-stages_Count-1'),\n",
       " rdflib.term.URIRef('urn:hpflex/shapes#active-heating-stages_NUM'),\n",
       " rdflib.term.URIRef('urn:hpflex/shapes#active-heating-stages_NUM-1'),\n",
       " rdflib.term.URIRef('urn:hpflex/shapes#active-heating-stages_Role-Heating'),\n",
       " rdflib.term.URIRef('urn:hpflex/shapes#active-heating-stages_Role-Heating-1'),\n",
       " rdflib.term.URIRef('urn:hpflex/shapes#active-heating-stages_hasAspect'),\n",
       " rdflib.term.URIRef('urn:hpflex/shapes#active-heating-stages_hasQuantityKind'),\n",
       " rdflib.term.URIRef('urn:hpflex/shapes#active-heating-stages_hasUnit'),\n",
       " rdflib.term.URIRef('urn:hpflex/shapes#air-bidirectional-cpAnnotationRule'),\n",
       " rdflib.term.URIRef('urn:hpflex/shapes#air-bidirectional-cp_Medium-Air'),\n",
       " rdflib.term.URIRef('urn:hpflex/shapes#air-bidirectional-cp_Medium-Air-1'),\n",
       " rdflib.term.URIRef('urn:hpflex/shapes#air-bidirectional-cp_hasMedium'),\n",
       " rdflib.term.URIRef('urn:hpflex/shapes#air-bidirectional-cp_noAspects'),\n",
       " rdflib.term.URIRef('urn:hpflex/shapes#air-connected-toAnnotationRule'),\n",
       " rdflib.term.URIRef('urn:hpflex/shapes#air-inlet-cpAnnotationRule'),\n",
       " rdflib.term.URIRef('urn:hpflex/shapes#air-inlet-cp_Medium-Air'),\n",
       " rdflib.term.URIRef('urn:hpflex/shapes#air-inlet-cp_Medium-Air-1'),\n",
       " rdflib.term.URIRef('urn:hpflex/shapes#air-inlet-cp_hasMedium'),\n",
       " rdflib.term.URIRef('urn:hpflex/shapes#air-inlet-cp_noAspects'),\n",
       " rdflib.term.URIRef('urn:hpflex/shapes#air-outlet-cpAnnotationRule'),\n",
       " rdflib.term.URIRef('urn:hpflex/shapes#air-outlet-cp_Medium-Air'),\n",
       " rdflib.term.URIRef('urn:hpflex/shapes#air-outlet-cp_Medium-Air-1'),\n",
       " rdflib.term.URIRef('urn:hpflex/shapes#air-outlet-cp_hasMedium'),\n",
       " rdflib.term.URIRef('urn:hpflex/shapes#air-outlet-cp_noAspects'),\n",
       " rdflib.term.URIRef('urn:hpflex/shapes#areaAnnotationRule'),\n",
       " rdflib.term.URIRef('urn:hpflex/shapes#area_Area'),\n",
       " rdflib.term.URIRef('urn:hpflex/shapes#area_Area-1'),\n",
       " rdflib.term.URIRef('urn:hpflex/shapes#area_hasQuantityKind'),\n",
       " rdflib.term.URIRef('urn:hpflex/shapes#area_hasUnit'),\n",
       " rdflib.term.URIRef('urn:hpflex/shapes#area_hasValue'),\n",
       " rdflib.term.URIRef('urn:hpflex/shapes#area_noAspects'),\n",
       " rdflib.term.URIRef('urn:hpflex/shapes#azimuthAnnotationRule'),\n",
       " rdflib.term.URIRef('urn:hpflex/shapes#azimuth_Azimuth'),\n",
       " rdflib.term.URIRef('urn:hpflex/shapes#azimuth_Azimuth-1'),\n",
       " rdflib.term.URIRef('urn:hpflex/shapes#azimuth_hasQuantityKind'),\n",
       " rdflib.term.URIRef('urn:hpflex/shapes#azimuth_hasUnit'),\n",
       " rdflib.term.URIRef('urn:hpflex/shapes#azimuth_hasValue'),\n",
       " rdflib.term.URIRef('urn:hpflex/shapes#azimuth_noAspects'),\n",
       " rdflib.term.URIRef('urn:hpflex/shapes#connectionAnnotationRule'),\n",
       " rdflib.term.URIRef('urn:hpflex/shapes#connection_noAspects'),\n",
       " rdflib.term.URIRef('urn:hpflex/shapes#cooling-COPAnnotationRule'),\n",
       " rdflib.term.URIRef('urn:hpflex/shapes#cooling-COP_CoefficientOfPerformance'),\n",
       " rdflib.term.URIRef('urn:hpflex/shapes#cooling-COP_CoefficientOfPerformance-1'),\n",
       " rdflib.term.URIRef('urn:hpflex/shapes#cooling-COP_Role-Cooling'),\n",
       " rdflib.term.URIRef('urn:hpflex/shapes#cooling-COP_Role-Cooling-1'),\n",
       " rdflib.term.URIRef('urn:hpflex/shapes#cooling-COP_hasAspect'),\n",
       " rdflib.term.URIRef('urn:hpflex/shapes#cooling-COP_hasQuantityKind'),\n",
       " rdflib.term.URIRef('urn:hpflex/shapes#cooling-COP_hasUnit'),\n",
       " rdflib.term.URIRef('urn:hpflex/shapes#cooling-COP_hasValue'),\n",
       " rdflib.term.URIRef('urn:hpflex/shapes#cooling-capacityAnnotationRule'),\n",
       " rdflib.term.URIRef('urn:hpflex/shapes#cooling-capacity_Power'),\n",
       " rdflib.term.URIRef('urn:hpflex/shapes#cooling-capacity_Power-1'),\n",
       " rdflib.term.URIRef('urn:hpflex/shapes#cooling-capacity_Role-Cooling'),\n",
       " rdflib.term.URIRef('urn:hpflex/shapes#cooling-capacity_Role-Cooling-1'),\n",
       " rdflib.term.URIRef('urn:hpflex/shapes#cooling-capacity_hasAspect'),\n",
       " rdflib.term.URIRef('urn:hpflex/shapes#cooling-capacity_hasQuantityKind'),\n",
       " rdflib.term.URIRef('urn:hpflex/shapes#cooling-capacity_hasUnit'),\n",
       " rdflib.term.URIRef('urn:hpflex/shapes#cooling-capacity_hasValue'),\n",
       " rdflib.term.URIRef('urn:hpflex/shapes#effective-cooling-setpointAnnotationRule'),\n",
       " rdflib.term.URIRef('urn:hpflex/shapes#effective-cooling-setpoint_Aspect-Setpoint'),\n",
       " rdflib.term.URIRef('urn:hpflex/shapes#effective-cooling-setpoint_Aspect-Setpoint-1'),\n",
       " rdflib.term.URIRef('urn:hpflex/shapes#effective-cooling-setpoint_Effectiveness-Active'),\n",
       " rdflib.term.URIRef('urn:hpflex/shapes#effective-cooling-setpoint_Effectiveness-Active-1'),\n",
       " rdflib.term.URIRef('urn:hpflex/shapes#effective-cooling-setpoint_Role-Cooling'),\n",
       " rdflib.term.URIRef('urn:hpflex/shapes#effective-cooling-setpoint_Role-Cooling-1'),\n",
       " rdflib.term.URIRef('urn:hpflex/shapes#effective-cooling-setpoint_Temperature'),\n",
       " rdflib.term.URIRef('urn:hpflex/shapes#effective-cooling-setpoint_Temperature-1'),\n",
       " rdflib.term.URIRef('urn:hpflex/shapes#effective-cooling-setpoint_hasAspect'),\n",
       " rdflib.term.URIRef('urn:hpflex/shapes#effective-cooling-setpoint_hasQuantityKind'),\n",
       " rdflib.term.URIRef('urn:hpflex/shapes#effective-cooling-setpoint_hasUnit'),\n",
       " rdflib.term.URIRef('urn:hpflex/shapes#effective-heating-setpointAnnotationRule'),\n",
       " rdflib.term.URIRef('urn:hpflex/shapes#effective-heating-setpoint_Aspect-Setpoint'),\n",
       " rdflib.term.URIRef('urn:hpflex/shapes#effective-heating-setpoint_Aspect-Setpoint-1'),\n",
       " rdflib.term.URIRef('urn:hpflex/shapes#effective-heating-setpoint_Effectiveness-Active'),\n",
       " rdflib.term.URIRef('urn:hpflex/shapes#effective-heating-setpoint_Effectiveness-Active-1'),\n",
       " rdflib.term.URIRef('urn:hpflex/shapes#effective-heating-setpoint_Role-Heating'),\n",
       " rdflib.term.URIRef('urn:hpflex/shapes#effective-heating-setpoint_Role-Heating-1'),\n",
       " rdflib.term.URIRef('urn:hpflex/shapes#effective-heating-setpoint_Temperature'),\n",
       " rdflib.term.URIRef('urn:hpflex/shapes#effective-heating-setpoint_Temperature-1'),\n",
       " rdflib.term.URIRef('urn:hpflex/shapes#effective-heating-setpoint_hasAspect'),\n",
       " rdflib.term.URIRef('urn:hpflex/shapes#effective-heating-setpoint_hasQuantityKind'),\n",
       " rdflib.term.URIRef('urn:hpflex/shapes#effective-heating-setpoint_hasUnit'),\n",
       " rdflib.term.URIRef('urn:hpflex/shapes#effective-temperature-setpointAnnotationRule'),\n",
       " rdflib.term.URIRef('urn:hpflex/shapes#effective-temperature-setpoint_Aspect-Setpoint'),\n",
       " rdflib.term.URIRef('urn:hpflex/shapes#effective-temperature-setpoint_Aspect-Setpoint-1'),\n",
       " rdflib.term.URIRef('urn:hpflex/shapes#effective-temperature-setpoint_Effectiveness-Active'),\n",
       " rdflib.term.URIRef('urn:hpflex/shapes#effective-temperature-setpoint_Effectiveness-Active-1'),\n",
       " rdflib.term.URIRef('urn:hpflex/shapes#effective-temperature-setpoint_Temperature'),\n",
       " rdflib.term.URIRef('urn:hpflex/shapes#effective-temperature-setpoint_Temperature-1'),\n",
       " rdflib.term.URIRef('urn:hpflex/shapes#effective-temperature-setpoint_hasAspect'),\n",
       " rdflib.term.URIRef('urn:hpflex/shapes#effective-temperature-setpoint_hasQuantityKind'),\n",
       " rdflib.term.URIRef('urn:hpflex/shapes#effective-temperature-setpoint_hasUnit'),\n",
       " rdflib.term.URIRef('urn:hpflex/shapes#has-locationAnnotationRule'),\n",
       " rdflib.term.URIRef('urn:hpflex/shapes#has-pointAnnotationRule'),\n",
       " rdflib.term.URIRef('urn:hpflex/shapes#has-referenceAnnotationRule'),\n",
       " rdflib.term.URIRef('urn:hpflex/shapes#has-spaceAnnotationRule'),\n",
       " rdflib.term.URIRef('urn:hpflex/shapes#has-valueAnnotationRule'),\n",
       " rdflib.term.URIRef('urn:hpflex/shapes#has-windowAnnotationRule'),\n",
       " rdflib.term.URIRef('urn:hpflex/shapes#heating-COPAnnotationRule'),\n",
       " rdflib.term.URIRef('urn:hpflex/shapes#heating-COP_CoefficientOfPerformance'),\n",
       " rdflib.term.URIRef('urn:hpflex/shapes#heating-COP_CoefficientOfPerformance-1'),\n",
       " rdflib.term.URIRef('urn:hpflex/shapes#heating-COP_Role-Heating'),\n",
       " rdflib.term.URIRef('urn:hpflex/shapes#heating-COP_Role-Heating-1'),\n",
       " rdflib.term.URIRef('urn:hpflex/shapes#heating-COP_hasAspect'),\n",
       " rdflib.term.URIRef('urn:hpflex/shapes#heating-COP_hasQuantityKind'),\n",
       " rdflib.term.URIRef('urn:hpflex/shapes#heating-COP_hasUnit'),\n",
       " rdflib.term.URIRef('urn:hpflex/shapes#heating-COP_hasValue'),\n",
       " rdflib.term.URIRef('urn:hpflex/shapes#heating-capacityAnnotationRule'),\n",
       " rdflib.term.URIRef('urn:hpflex/shapes#heating-capacity_Power'),\n",
       " rdflib.term.URIRef('urn:hpflex/shapes#heating-capacity_Power-1'),\n",
       " rdflib.term.URIRef('urn:hpflex/shapes#heating-capacity_Role-Heating'),\n",
       " rdflib.term.URIRef('urn:hpflex/shapes#heating-capacity_Role-Heating-1'),\n",
       " rdflib.term.URIRef('urn:hpflex/shapes#heating-capacity_hasAspect'),\n",
       " rdflib.term.URIRef('urn:hpflex/shapes#heating-capacity_hasQuantityKind'),\n",
       " rdflib.term.URIRef('urn:hpflex/shapes#heating-capacity_hasUnit'),\n",
       " rdflib.term.URIRef('urn:hpflex/shapes#heating-capacity_hasValue'),\n",
       " rdflib.term.URIRef('urn:hpflex/shapes#hp-rtuAnnotationRule'),\n",
       " rdflib.term.URIRef('urn:hpflex/shapes#hp-rtu_hasProperty'),\n",
       " rdflib.term.URIRef('urn:hpflex/shapes#hp-rtu_noAspects'),\n",
       " rdflib.term.URIRef('urn:hpflex/shapes#hvac-zoneAnnotationRule'),\n",
       " rdflib.term.URIRef('urn:hpflex/shapes#hvac-zone_Domain-HVAC'),\n",
       " rdflib.term.URIRef('urn:hpflex/shapes#hvac-zone_Domain-HVAC-1'),\n",
       " rdflib.term.URIRef('urn:hpflex/shapes#hvac-zone_encloses'),\n",
       " rdflib.term.URIRef('urn:hpflex/shapes#hvac-zone_hasDomain'),\n",
       " rdflib.term.URIRef('urn:hpflex/shapes#hvac-zone_noAspects'),\n",
       " rdflib.term.URIRef('urn:hpflex/shapes#latitudeAnnotationRule'),\n",
       " rdflib.term.URIRef('urn:hpflex/shapes#latitude_Degree'),\n",
       " rdflib.term.URIRef('urn:hpflex/shapes#latitude_Degree-1'),\n",
       " rdflib.term.URIRef('urn:hpflex/shapes#latitude_GeneralizedCoordinate'),\n",
       " rdflib.term.URIRef('urn:hpflex/shapes#latitude_GeneralizedCoordinate-1'),\n",
       " rdflib.term.URIRef('urn:hpflex/shapes#latitude_hasQuantityKind'),\n",
       " rdflib.term.URIRef('urn:hpflex/shapes#latitude_hasUnit'),\n",
       " rdflib.term.URIRef('urn:hpflex/shapes#latitude_hasValue'),\n",
       " rdflib.term.URIRef('urn:hpflex/shapes#latitude_noAspects'),\n",
       " rdflib.term.URIRef('urn:hpflex/shapes#longitudeAnnotationRule'),\n",
       " rdflib.term.URIRef('urn:hpflex/shapes#longitude_Degree'),\n",
       " rdflib.term.URIRef('urn:hpflex/shapes#longitude_Degree-1'),\n",
       " rdflib.term.URIRef('urn:hpflex/shapes#longitude_GeneralizedCoordinate'),\n",
       " rdflib.term.URIRef('urn:hpflex/shapes#longitude_GeneralizedCoordinate-1'),\n",
       " rdflib.term.URIRef('urn:hpflex/shapes#longitude_hasQuantityKind'),\n",
       " rdflib.term.URIRef('urn:hpflex/shapes#longitude_hasUnit'),\n",
       " rdflib.term.URIRef('urn:hpflex/shapes#longitude_hasValue'),\n",
       " rdflib.term.URIRef('urn:hpflex/shapes#longitude_noAspects'),\n",
       " rdflib.term.URIRef('urn:hpflex/shapes#noaastationAnnotationRule'),\n",
       " rdflib.term.URIRef('urn:hpflex/shapes#noaastation_hasValue'),\n",
       " rdflib.term.URIRef('urn:hpflex/shapes#noaastation_noAspects'),\n",
       " rdflib.term.URIRef('urn:hpflex/shapes#occ-cooling-setpointAnnotationRule'),\n",
       " rdflib.term.URIRef('urn:hpflex/shapes#occ-cooling-setpoint_Aspect-Setpoint'),\n",
       " rdflib.term.URIRef('urn:hpflex/shapes#occ-cooling-setpoint_Aspect-Setpoint-1'),\n",
       " rdflib.term.URIRef('urn:hpflex/shapes#occ-cooling-setpoint_Occupancy-Occupied'),\n",
       " rdflib.term.URIRef('urn:hpflex/shapes#occ-cooling-setpoint_Occupancy-Occupied-1'),\n",
       " rdflib.term.URIRef('urn:hpflex/shapes#occ-cooling-setpoint_Role-Cooling'),\n",
       " rdflib.term.URIRef('urn:hpflex/shapes#occ-cooling-setpoint_Role-Cooling-1'),\n",
       " rdflib.term.URIRef('urn:hpflex/shapes#occ-cooling-setpoint_Temperature'),\n",
       " rdflib.term.URIRef('urn:hpflex/shapes#occ-cooling-setpoint_Temperature-1'),\n",
       " rdflib.term.URIRef('urn:hpflex/shapes#occ-cooling-setpoint_hasAspect'),\n",
       " rdflib.term.URIRef('urn:hpflex/shapes#occ-cooling-setpoint_hasQuantityKind'),\n",
       " rdflib.term.URIRef('urn:hpflex/shapes#occ-cooling-setpoint_hasUnit'),\n",
       " rdflib.term.URIRef('urn:hpflex/shapes#occ-heating-setpointAnnotationRule'),\n",
       " rdflib.term.URIRef('urn:hpflex/shapes#occ-heating-setpoint_Aspect-Setpoint'),\n",
       " rdflib.term.URIRef('urn:hpflex/shapes#occ-heating-setpoint_Aspect-Setpoint-1'),\n",
       " rdflib.term.URIRef('urn:hpflex/shapes#occ-heating-setpoint_Occupancy-Occupied'),\n",
       " rdflib.term.URIRef('urn:hpflex/shapes#occ-heating-setpoint_Occupancy-Occupied-1'),\n",
       " rdflib.term.URIRef('urn:hpflex/shapes#occ-heating-setpoint_Role-Heating'),\n",
       " rdflib.term.URIRef('urn:hpflex/shapes#occ-heating-setpoint_Role-Heating-1'),\n",
       " rdflib.term.URIRef('urn:hpflex/shapes#occ-heating-setpoint_Temperature'),\n",
       " rdflib.term.URIRef('urn:hpflex/shapes#occ-heating-setpoint_Temperature-1'),\n",
       " rdflib.term.URIRef('urn:hpflex/shapes#occ-heating-setpoint_hasAspect'),\n",
       " rdflib.term.URIRef('urn:hpflex/shapes#occ-heating-setpoint_hasQuantityKind'),\n",
       " rdflib.term.URIRef('urn:hpflex/shapes#occ-heating-setpoint_hasUnit'),\n",
       " rdflib.term.URIRef('urn:hpflex/shapes#pointAnnotationRule'),\n",
       " rdflib.term.URIRef('urn:hpflex/shapes#point_hasUnit'),\n",
       " rdflib.term.URIRef('urn:hpflex/shapes#point_noAspects'),\n",
       " rdflib.term.URIRef('urn:hpflex/shapes#siteAnnotationRule'),\n",
       " rdflib.term.URIRef('urn:hpflex/shapes#site_hasProperty'),\n",
       " rdflib.term.URIRef('urn:hpflex/shapes#site_noAspects'),\n",
       " rdflib.term.URIRef('urn:hpflex/shapes#spaceAnnotationRule'),\n",
       " rdflib.term.URIRef('urn:hpflex/shapes#space_hasProperty'),\n",
       " rdflib.term.URIRef('urn:hpflex/shapes#space_noAspects'),\n",
       " rdflib.term.URIRef('urn:hpflex/shapes#temperatureAnnotationRule'),\n",
       " rdflib.term.URIRef('urn:hpflex/shapes#temperature_Temperature'),\n",
       " rdflib.term.URIRef('urn:hpflex/shapes#temperature_Temperature-1'),\n",
       " rdflib.term.URIRef('urn:hpflex/shapes#temperature_hasQuantityKind'),\n",
       " rdflib.term.URIRef('urn:hpflex/shapes#temperature_hasUnit'),\n",
       " rdflib.term.URIRef('urn:hpflex/shapes#temperature_noAspects'),\n",
       " rdflib.term.URIRef('urn:hpflex/shapes#tiltAnnotationRule'),\n",
       " rdflib.term.URIRef('urn:hpflex/shapes#tilt_Tilt'),\n",
       " rdflib.term.URIRef('urn:hpflex/shapes#tilt_Tilt-1'),\n",
       " rdflib.term.URIRef('urn:hpflex/shapes#tilt_hasQuantityKind'),\n",
       " rdflib.term.URIRef('urn:hpflex/shapes#tilt_hasUnit'),\n",
       " rdflib.term.URIRef('urn:hpflex/shapes#tilt_hasValue'),\n",
       " rdflib.term.URIRef('urn:hpflex/shapes#tilt_noAspects'),\n",
       " rdflib.term.URIRef('urn:hpflex/shapes#timezoneAnnotationRule'),\n",
       " rdflib.term.URIRef('urn:hpflex/shapes#timezone_hasValue'),\n",
       " rdflib.term.URIRef('urn:hpflex/shapes#timezone_noAspects'),\n",
       " rdflib.term.URIRef('urn:hpflex/shapes#tstat-activeAnnotationRule'),\n",
       " rdflib.term.URIRef('urn:hpflex/shapes#tstat-active_Aspect-Cooling'),\n",
       " rdflib.term.URIRef('urn:hpflex/shapes#tstat-active_Aspect-Cooling-1'),\n",
       " rdflib.term.URIRef('urn:hpflex/shapes#tstat-active_Aspect-Heating'),\n",
       " rdflib.term.URIRef('urn:hpflex/shapes#tstat-active_Aspect-Heating-1'),\n",
       " rdflib.term.URIRef('urn:hpflex/shapes#tstat-active_Binary-Logical'),\n",
       " rdflib.term.URIRef('urn:hpflex/shapes#tstat-active_Binary-Logical-1'),\n",
       " rdflib.term.URIRef('urn:hpflex/shapes#tstat-active_Effectiveness-Active'),\n",
       " rdflib.term.URIRef('urn:hpflex/shapes#tstat-active_Effectiveness-Active-1'),\n",
       " rdflib.term.URIRef('urn:hpflex/shapes#tstat-active_NUM'),\n",
       " rdflib.term.URIRef('urn:hpflex/shapes#tstat-active_NUM-1'),\n",
       " rdflib.term.URIRef('urn:hpflex/shapes#tstat-active_hasAspect'),\n",
       " rdflib.term.URIRef('urn:hpflex/shapes#tstat-active_hasUnit'),\n",
       " rdflib.term.URIRef('urn:hpflex/shapes#tstat-active_hasValue'),\n",
       " rdflib.term.URIRef('urn:hpflex/shapes#tstat-deadbandAnnotationRule'),\n",
       " rdflib.term.URIRef('urn:hpflex/shapes#tstat-deadband_Aspect-Deadband'),\n",
       " rdflib.term.URIRef('urn:hpflex/shapes#tstat-deadband_Aspect-Deadband-1'),\n",
       " rdflib.term.URIRef('urn:hpflex/shapes#tstat-deadband_Temperature'),\n",
       " rdflib.term.URIRef('urn:hpflex/shapes#tstat-deadband_Temperature-1'),\n",
       " rdflib.term.URIRef('urn:hpflex/shapes#tstat-deadband_hasAspect'),\n",
       " rdflib.term.URIRef('urn:hpflex/shapes#tstat-deadband_hasQuantityKind'),\n",
       " rdflib.term.URIRef('urn:hpflex/shapes#tstat-deadband_hasUnit'),\n",
       " rdflib.term.URIRef('urn:hpflex/shapes#tstat-deadband_hasValue'),\n",
       " rdflib.term.URIRef('urn:hpflex/shapes#tstat-deadband_isDeltaQuantity'),\n",
       " rdflib.term.URIRef('urn:hpflex/shapes#tstat-deadband_true'),\n",
       " rdflib.term.URIRef('urn:hpflex/shapes#tstat-deadband_true-1'),\n",
       " rdflib.term.URIRef('urn:hpflex/shapes#tstat-heating-cooling-occupancyAnnotationRule'),\n",
       " rdflib.term.URIRef('urn:hpflex/shapes#tstat-heating-cooling-occupancy_hasProperty'),\n",
       " rdflib.term.URIRef('urn:hpflex/shapes#tstat-heating-cooling-occupancy_noAspects'),\n",
       " rdflib.term.URIRef('urn:hpflex/shapes#tstat-resolutionAnnotationRule'),\n",
       " rdflib.term.URIRef('urn:hpflex/shapes#tstat-resolution_hasUnit'),\n",
       " rdflib.term.URIRef('urn:hpflex/shapes#tstat-resolution_hasValue'),\n",
       " rdflib.term.URIRef('urn:hpflex/shapes#tstat-resolution_isDeltaQuantity'),\n",
       " rdflib.term.URIRef('urn:hpflex/shapes#tstat-resolution_noAspects'),\n",
       " rdflib.term.URIRef('urn:hpflex/shapes#tstat-resolution_true'),\n",
       " rdflib.term.URIRef('urn:hpflex/shapes#tstat-resolution_true-1'),\n",
       " rdflib.term.URIRef('urn:hpflex/shapes#tstat-stage_countAnnotationRule'),\n",
       " rdflib.term.URIRef('urn:hpflex/shapes#tstat-stage_count_Aspect-OperatingMode'),\n",
       " rdflib.term.URIRef('urn:hpflex/shapes#tstat-stage_count_Aspect-OperatingMode-1'),\n",
       " rdflib.term.URIRef('urn:hpflex/shapes#tstat-stage_count_Count'),\n",
       " rdflib.term.URIRef('urn:hpflex/shapes#tstat-stage_count_Count-1'),\n",
       " rdflib.term.URIRef('urn:hpflex/shapes#tstat-stage_count_NUM'),\n",
       " rdflib.term.URIRef('urn:hpflex/shapes#tstat-stage_count_NUM-1'),\n",
       " rdflib.term.URIRef('urn:hpflex/shapes#tstat-stage_count_Role-Cooling'),\n",
       " rdflib.term.URIRef('urn:hpflex/shapes#tstat-stage_count_Role-Cooling-1'),\n",
       " rdflib.term.URIRef('urn:hpflex/shapes#tstat-stage_count_hasAspect'),\n",
       " rdflib.term.URIRef('urn:hpflex/shapes#tstat-stage_count_hasQuantityKind'),\n",
       " rdflib.term.URIRef('urn:hpflex/shapes#tstat-stage_count_hasUnit'),\n",
       " rdflib.term.URIRef('urn:hpflex/shapes#tstat-stage_count_hasValue'),\n",
       " rdflib.term.URIRef('urn:hpflex/shapes#tstat-toleranceAnnotationRule'),\n",
       " rdflib.term.URIRef('urn:hpflex/shapes#tstat-tolerance_Aspect-Cooling'),\n",
       " rdflib.term.URIRef('urn:hpflex/shapes#tstat-tolerance_Aspect-Cooling-1'),\n",
       " rdflib.term.URIRef('urn:hpflex/shapes#tstat-tolerance_Aspect-Heating'),\n",
       " rdflib.term.URIRef('urn:hpflex/shapes#tstat-tolerance_Aspect-Heating-1'),\n",
       " rdflib.term.URIRef('urn:hpflex/shapes#tstat-tolerance_Aspect-Threshold'),\n",
       " rdflib.term.URIRef('urn:hpflex/shapes#tstat-tolerance_Aspect-Threshold-1'),\n",
       " rdflib.term.URIRef('urn:hpflex/shapes#tstat-tolerance_Temperature'),\n",
       " rdflib.term.URIRef('urn:hpflex/shapes#tstat-tolerance_Temperature-1'),\n",
       " rdflib.term.URIRef('urn:hpflex/shapes#tstat-tolerance_hasAspect'),\n",
       " rdflib.term.URIRef('urn:hpflex/shapes#tstat-tolerance_hasQuantityKind'),\n",
       " rdflib.term.URIRef('urn:hpflex/shapes#tstat-tolerance_hasUnit'),\n",
       " rdflib.term.URIRef('urn:hpflex/shapes#tstat-tolerance_hasValue'),\n",
       " rdflib.term.URIRef('urn:hpflex/shapes#tstat-tolerance_isDeltaQuantity'),\n",
       " rdflib.term.URIRef('urn:hpflex/shapes#tstat-tolerance_true'),\n",
       " rdflib.term.URIRef('urn:hpflex/shapes#tstat-tolerance_true-1'),\n",
       " rdflib.term.URIRef('urn:hpflex/shapes#tstatAnnotationRule'),\n",
       " rdflib.term.URIRef('urn:hpflex/shapes#tstat_hasProperty'),\n",
       " rdflib.term.URIRef('urn:hpflex/shapes#tstat_noAspects'),\n",
       " rdflib.term.URIRef('urn:hpflex/shapes#unocc-cooling-setpointAnnotationRule'),\n",
       " rdflib.term.URIRef('urn:hpflex/shapes#unocc-cooling-setpoint_Aspect-Setpoint'),\n",
       " rdflib.term.URIRef('urn:hpflex/shapes#unocc-cooling-setpoint_Aspect-Setpoint-1'),\n",
       " rdflib.term.URIRef('urn:hpflex/shapes#unocc-cooling-setpoint_Occupancy-Unoccupied'),\n",
       " rdflib.term.URIRef('urn:hpflex/shapes#unocc-cooling-setpoint_Occupancy-Unoccupied-1'),\n",
       " rdflib.term.URIRef('urn:hpflex/shapes#unocc-cooling-setpoint_Role-Cooling'),\n",
       " rdflib.term.URIRef('urn:hpflex/shapes#unocc-cooling-setpoint_Role-Cooling-1'),\n",
       " rdflib.term.URIRef('urn:hpflex/shapes#unocc-cooling-setpoint_Temperature'),\n",
       " rdflib.term.URIRef('urn:hpflex/shapes#unocc-cooling-setpoint_Temperature-1'),\n",
       " rdflib.term.URIRef('urn:hpflex/shapes#unocc-cooling-setpoint_hasAspect'),\n",
       " rdflib.term.URIRef('urn:hpflex/shapes#unocc-cooling-setpoint_hasQuantityKind'),\n",
       " rdflib.term.URIRef('urn:hpflex/shapes#unocc-cooling-setpoint_hasUnit'),\n",
       " rdflib.term.URIRef('urn:hpflex/shapes#unocc-heating-setpointAnnotationRule'),\n",
       " rdflib.term.URIRef('urn:hpflex/shapes#unocc-heating-setpoint_Aspect-Setpoint'),\n",
       " rdflib.term.URIRef('urn:hpflex/shapes#unocc-heating-setpoint_Aspect-Setpoint-1'),\n",
       " rdflib.term.URIRef('urn:hpflex/shapes#unocc-heating-setpoint_Occupancy-Unoccupied'),\n",
       " rdflib.term.URIRef('urn:hpflex/shapes#unocc-heating-setpoint_Occupancy-Unoccupied-1'),\n",
       " rdflib.term.URIRef('urn:hpflex/shapes#unocc-heating-setpoint_Role-Heating'),\n",
       " rdflib.term.URIRef('urn:hpflex/shapes#unocc-heating-setpoint_Role-Heating-1'),\n",
       " rdflib.term.URIRef('urn:hpflex/shapes#unocc-heating-setpoint_Temperature'),\n",
       " rdflib.term.URIRef('urn:hpflex/shapes#unocc-heating-setpoint_Temperature-1'),\n",
       " rdflib.term.URIRef('urn:hpflex/shapes#unocc-heating-setpoint_hasAspect'),\n",
       " rdflib.term.URIRef('urn:hpflex/shapes#unocc-heating-setpoint_hasQuantityKind'),\n",
       " rdflib.term.URIRef('urn:hpflex/shapes#unocc-heating-setpoint_hasUnit'),\n",
       " rdflib.term.URIRef('urn:hpflex/shapes#volttron-external-referenceAnnotationRule'),\n",
       " rdflib.term.URIRef('urn:hpflex/shapes#volttron-external-reference_hasTopicName'),\n",
       " rdflib.term.URIRef('urn:hpflex/shapes#volttron-external-reference_noAspects'),\n",
       " rdflib.term.URIRef('urn:hpflex/shapes#windowAnnotationRule'),\n",
       " rdflib.term.URIRef('urn:hpflex/shapes#window_hasProperty'),\n",
       " rdflib.term.URIRef('urn:hpflex/shapes#window_noAspects')}"
      ]
     },
     "execution_count": 35,
     "metadata": {},
     "output_type": "execute_result"
    }
   ],
   "source": [
    "candidates"
   ]
  },
  {
   "cell_type": "markdown",
   "metadata": {},
   "source": [
    "# Testing get Metadata"
   ]
  },
  {
   "cell_type": "code",
   "execution_count": 36,
   "metadata": {},
   "outputs": [],
   "source": [
    "# still working on loader, will clean up class, but functionality about right\n",
    "loader = LoadModel(f\"{base_path}/reasoned.ttl\", \n",
    "                   template_dict={'sites':'site', 'zones': 'hvac-zone'}, \n",
    "                   ontology = ontology)\n",
    "site_info = loader.get_all_building_objects()"
   ]
  },
  {
   "cell_type": "code",
   "execution_count": 37,
   "metadata": {},
   "outputs": [
    {
     "name": "stdout",
     "output_type": "stream",
     "text": [
      "{'sites': [site(name='urn:hpflex/s223-example#s223-example', timezone=Value(value=US/Pacific, unit='None'), noaastation=Value(value=, unit='None'), longitude=Value(value=-122.254433, unit='http://qudt.org/vocab/unit/Degree'), latitude=Value(value=37.879134, unit='http://qudt.org/vocab/unit/Degree'), )], 'zones': [hvac_zone(name='urn:hpflex/s223-example#zone_3', , windows=1, spaces=1, hp_rtus=1, tstats=1), hvac_zone(name='urn:hpflex/s223-example#zone_2', , windows=1, spaces=1, hp_rtus=1, tstats=1), hvac_zone(name='urn:hpflex/s223-example#zone_1', , windows=2, spaces=2, hp_rtus=1, tstats=1)]}\n"
     ]
    }
   ],
   "source": [
    "print(site_info)"
   ]
  },
  {
   "cell_type": "code",
   "execution_count": 38,
   "metadata": {},
   "outputs": [
    {
     "name": "stdout",
     "output_type": "stream",
     "text": [
      "hvac_zone(name='urn:hpflex/s223-example#zone_3', , windows=1, spaces=1, hp_rtus=1, tstats=1)\n"
     ]
    }
   ],
   "source": [
    "zone = site_info['zones'][0]\n",
    "print(zone)"
   ]
  },
  {
   "cell_type": "code",
   "execution_count": 39,
   "metadata": {},
   "outputs": [
    {
     "data": {
      "text/plain": [
       "[space(name='urn:hpflex/s223-example#space_3_1', area=Value(value=180.0, unit='http://qudt.org/vocab/unit/FT2'), )]"
      ]
     },
     "execution_count": 39,
     "metadata": {},
     "output_type": "execute_result"
    }
   ],
   "source": [
    "zone.spaces"
   ]
  },
  {
   "cell_type": "code",
   "execution_count": 40,
   "metadata": {},
   "outputs": [
    {
     "data": {
      "text/plain": [
       "rdflib.term.URIRef('urn:hpflex/s223-example#window_3_3-area')"
      ]
     },
     "execution_count": 40,
     "metadata": {},
     "output_type": "execute_result"
    }
   ],
   "source": [
    "zone.windows[0].area.name"
   ]
  },
  {
   "cell_type": "code",
   "execution_count": 41,
   "metadata": {},
   "outputs": [
    {
     "data": {
      "text/plain": [
       "tstat(name='urn:hpflex/s223-example#tstat_zone_3', tstat_tolerance=Value(value=0.5, unit='http://qudt.org/vocab/unit/DEG_F'), tstat_stage_count=Value(value=4.0, unit='http://qudt.org/vocab/unit/NUM'), tstat_deadband=Value(value=0.5, unit='http://qudt.org/vocab/unit/DEG_F'), tstat_resolution=None, tstat_active=Value(value=True, unit='http://qudt.org/vocab/unit/NUM'), )"
      ]
     },
     "execution_count": 41,
     "metadata": {},
     "output_type": "execute_result"
    }
   ],
   "source": [
    "zone.tstats[0]"
   ]
  },
  {
   "cell_type": "code",
   "execution_count": 42,
   "metadata": {},
   "outputs": [
    {
     "ename": "AttributeError",
     "evalue": "'tstat' object has no attribute 'resolution'",
     "output_type": "error",
     "traceback": [
      "\u001b[0;31m---------------------------------------------------------------------------\u001b[0m",
      "\u001b[0;31mAttributeError\u001b[0m                            Traceback (most recent call last)",
      "Cell \u001b[0;32mIn[42], line 1\u001b[0m\n\u001b[0;32m----> 1\u001b[0m \u001b[38;5;28mprint\u001b[39m(\u001b[43mzone\u001b[49m\u001b[38;5;241;43m.\u001b[39;49m\u001b[43mtstats\u001b[49m\u001b[43m[\u001b[49m\u001b[38;5;241;43m0\u001b[39;49m\u001b[43m]\u001b[49m\u001b[38;5;241;43m.\u001b[39;49m\u001b[43mresolution\u001b[49m)\n\u001b[1;32m      2\u001b[0m zone\u001b[38;5;241m.\u001b[39mtstats[\u001b[38;5;241m0\u001b[39m]\u001b[38;5;241m.\u001b[39mresolution\u001b[38;5;241m.\u001b[39mconvert_to_si()\n\u001b[1;32m      3\u001b[0m \u001b[38;5;28mprint\u001b[39m(zone\u001b[38;5;241m.\u001b[39mtstats[\u001b[38;5;241m0\u001b[39m]\u001b[38;5;241m.\u001b[39mresolution)\n",
      "\u001b[0;31mAttributeError\u001b[0m: 'tstat' object has no attribute 'resolution'"
     ]
    }
   ],
   "source": [
    "print(zone.tstats[0].resolution)\n",
    "zone.tstats[0].resolution.convert_to_si()\n",
    "print(zone.tstats[0].resolution)\n",
    "print(zone.tstats[0].resolution.is_delta)"
   ]
  },
  {
   "cell_type": "code",
   "execution_count": null,
   "metadata": {},
   "outputs": [
    {
     "name": "stdout",
     "output_type": "stream",
     "text": [
      "Warning: Could not retrieve objects for template 'site': Multiple rows were found when exactly one was required\n",
      "Warning: Could not retrieve objects for template 'hvac-zone': Multiple rows were found when exactly one was required\n",
      "Value(value=1.6666666666666667, unit='http://qudt.org/vocab/unit/DEG_C')\n"
     ]
    }
   ],
   "source": [
    "# optionally just load everything as si \n",
    "si_loader = LoadModel(f\"{ontology}-test_site/test_build/test_build.ttl\", ontology = 'brick', as_si_units=True)\n",
    "site_info = si_loader.get_all_building_objects()\n",
    "print(zone.tstats[0].resolution)"
   ]
  },
  {
   "cell_type": "code",
   "execution_count": null,
   "metadata": {},
   "outputs": [
    {
     "name": "stdout",
     "output_type": "stream",
     "text": [
      "Warning: Could not retrieve objects for template 'site': Multiple rows were found when exactly one was required\n",
      "Warning: Could not retrieve objects for template 'hvac-zone': Multiple rows were found when exactly one was required\n"
     ]
    },
    {
     "data": {
      "text/plain": [
       "{'heat_availability': [],\n",
       " 'cool_availability': [],\n",
       " 'heat_tolerance': [],\n",
       " 'cool_tolerance': [],\n",
       " 'setpoint_deadband': [],\n",
       " 'active': [],\n",
       " 'control_group': [],\n",
       " 'control_type_list': [],\n",
       " 'floor_area_list': [],\n",
       " 'floor_area_unit': [],\n",
       " 'window_area_list': [],\n",
       " 'window_area_unit': [],\n",
       " 'azimuth_list': [],\n",
       " 'azimuth_unit': [],\n",
       " 'tilt_list': [],\n",
       " 'tilt_unit': [],\n",
       " 'zone_ids': [],\n",
       " 'hvacs': [],\n",
       " 'setpoint_type': [],\n",
       " 'fuel_heat_list': [],\n",
       " 'fuel_cool_list': [],\n",
       " 'cooling_capacity': [],\n",
       " 'cooling_capacity_unit': [],\n",
       " 'heating_capacity': [],\n",
       " 'heating_capacity_unit': [],\n",
       " 'cooling_cop': [],\n",
       " 'heating_cop': [],\n",
       " 'cooling_electricity': [],\n",
       " 'heating_electricity': [],\n",
       " 'resolution': [],\n",
       " 'temperature_unit': []}"
      ]
     },
     "execution_count": 17,
     "metadata": {},
     "output_type": "execute_result"
    }
   ],
   "source": [
    "# Getting the thermostat metadata\n",
    "get_thermostat_data(si_loader)"
   ]
  },
  {
   "cell_type": "code",
   "execution_count": null,
   "metadata": {},
   "outputs": [
    {
     "name": "stdout",
     "output_type": "stream",
     "text": [
      "Warning: Could not retrieve objects for template 'site': Multiple rows were found when exactly one was required\n",
      "Warning: Could not retrieve objects for template 'hvac-zone': Multiple rows were found when exactly one was required\n"
     ]
    },
    {
     "data": {
      "text/plain": [
       "{'heat_availability': [],\n",
       " 'cool_availability': [],\n",
       " 'heat_tolerance': [],\n",
       " 'cool_tolerance': [],\n",
       " 'setpoint_deadband': [],\n",
       " 'active': [],\n",
       " 'control_group': [],\n",
       " 'control_type_list': [],\n",
       " 'floor_area_list': [],\n",
       " 'floor_area_unit': [],\n",
       " 'window_area_list': [],\n",
       " 'window_area_unit': [],\n",
       " 'azimuth_list': [],\n",
       " 'azimuth_unit': [],\n",
       " 'tilt_list': [],\n",
       " 'tilt_unit': [],\n",
       " 'zone_ids': [],\n",
       " 'hvacs': [],\n",
       " 'setpoint_type': [],\n",
       " 'fuel_heat_list': [],\n",
       " 'fuel_cool_list': [],\n",
       " 'cooling_capacity': [],\n",
       " 'cooling_capacity_unit': [],\n",
       " 'heating_capacity': [],\n",
       " 'heating_capacity_unit': [],\n",
       " 'cooling_cop': [],\n",
       " 'heating_cop': [],\n",
       " 'cooling_electricity': [],\n",
       " 'heating_electricity': [],\n",
       " 'resolution': [],\n",
       " 'temperature_unit': []}"
      ]
     },
     "execution_count": 18,
     "metadata": {},
     "output_type": "execute_result"
    }
   ],
   "source": [
    "# Getting the thermostat metadata for 1 zone \n",
    "get_thermostat_data(si_loader, ['zone_1','zone_2'])"
   ]
  },
  {
   "cell_type": "markdown",
   "metadata": {},
   "source": [
    "# Testing Unit Conversion"
   ]
  },
  {
   "cell_type": "code",
   "execution_count": null,
   "metadata": {},
   "outputs": [
    {
     "data": {
      "text/plain": [
       "3.048"
      ]
     },
     "execution_count": 19,
     "metadata": {},
     "output_type": "execute_result"
    }
   ],
   "source": [
    "convert_units(10, 'FT', 'M')"
   ]
  },
  {
   "cell_type": "code",
   "execution_count": null,
   "metadata": {},
   "outputs": [
    {
     "data": {
      "text/plain": [
       "31.999999999999886"
      ]
     },
     "execution_count": 20,
     "metadata": {},
     "output_type": "execute_result"
    }
   ],
   "source": [
    "convert_units(0, 'DEG_C', 'DEG_F')"
   ]
  },
  {
   "cell_type": "code",
   "execution_count": null,
   "metadata": {},
   "outputs": [
    {
     "data": {
      "text/plain": [
       "273.15"
      ]
     },
     "execution_count": 21,
     "metadata": {},
     "output_type": "execute_result"
    }
   ],
   "source": [
    "convert_units(0, 'DEG_C', 'K')"
   ]
  },
  {
   "cell_type": "code",
   "execution_count": null,
   "metadata": {},
   "outputs": [],
   "source": [
    "# Planning to implement converting everything to si in loader\n",
    "# loader.get_all_building_objects"
   ]
  },
  {
   "cell_type": "markdown",
   "metadata": {},
   "source": [
    "# Testing Grafana Dashboarding \n",
    "Needs updates"
   ]
  },
  {
   "cell_type": "code",
   "execution_count": null,
   "metadata": {},
   "outputs": [],
   "source": [
    "# import yaml \n",
    "# with open('../development_files/creds.yml') as f:\n",
    "#     config = yaml.safe_load(f)\n",
    "\n",
    "# bg = BrickToGrafana(grafana_server=config['grafana_server'], grafana_api_key = config['grafana_api_key'], datasource=config['datasource'], ttl_path = 'test-brick-model.ttl')"
   ]
  },
  {
   "cell_type": "code",
   "execution_count": null,
   "metadata": {},
   "outputs": [],
   "source": [
    "# bg.create_dashboard('AQL from brick')"
   ]
  },
  {
   "cell_type": "code",
   "execution_count": null,
   "metadata": {},
   "outputs": [],
   "source": [
    "# Grafana not set up, upload won't work\n",
    "# bg.upload_dashboard(message = 'testing upload')"
   ]
  },
  {
   "cell_type": "code",
   "execution_count": null,
   "metadata": {},
   "outputs": [],
   "source": []
  }
 ],
 "metadata": {
  "kernelspec": {
   "display_name": "semantic-mpc-interface (3.10.0)",
   "language": "python",
   "name": "python3"
  },
  "language_info": {
   "codemirror_mode": {
    "name": "ipython",
    "version": 3
   },
   "file_extension": ".py",
   "mimetype": "text/x-python",
   "name": "python",
   "nbconvert_exporter": "python",
   "pygments_lexer": "ipython3",
   "version": "3.10.0"
  }
 },
 "nbformat": 4,
 "nbformat_minor": 2
}
