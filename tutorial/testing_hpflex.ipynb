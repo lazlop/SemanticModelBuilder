{
 "cells": [
  {
   "cell_type": "code",
   "execution_count": 1,
   "metadata": {},
   "outputs": [],
   "source": [
    "import sys\n",
    "# sys.path.insert(0, '..')\n",
    "from semantic_mpc_interface import ModelBuilder, BuildingMetadataLoader, add_points, SurveyGenerator, SurveyReader\n"
   ]
  },
  {
   "cell_type": "code",
   "execution_count": 2,
   "metadata": {},
   "outputs": [
    {
     "ename": "FileExistsError",
     "evalue": "Directory 'metadata-survey-hpflex/hpflex_demo/bldg1' already exists and is not empty. Please use a different path or clear the directory.",
     "output_type": "error",
     "traceback": [
      "\u001b[0;31m---------------------------------------------------------------------------\u001b[0m",
      "\u001b[0;31mFileExistsError\u001b[0m                           Traceback (most recent call last)",
      "Cell \u001b[0;32mIn[2], line 8\u001b[0m\n\u001b[1;32m      1\u001b[0m survey_gen \u001b[38;5;241m=\u001b[39m SurveyGenerator(site_id \u001b[38;5;241m=\u001b[39m \u001b[38;5;124m'\u001b[39m\u001b[38;5;124mhpflex_demo\u001b[39m\u001b[38;5;124m'\u001b[39m,\n\u001b[1;32m      2\u001b[0m                              building_id \u001b[38;5;241m=\u001b[39m \u001b[38;5;124m'\u001b[39m\u001b[38;5;124mbldg1\u001b[39m\u001b[38;5;124m'\u001b[39m,\n\u001b[1;32m      3\u001b[0m                              hvac_type \u001b[38;5;241m=\u001b[39m \u001b[38;5;124m'\u001b[39m\u001b[38;5;124mhp-rtu\u001b[39m\u001b[38;5;124m'\u001b[39m)\n\u001b[1;32m      4\u001b[0m \u001b[38;5;66;03m# zone_space_window list for configuration: 3 zones, with 2 spaces and 2 windows, 1 space and 2 windows, 1 space 3 windows, one hvac unit per zone\u001b[39;00m\n\u001b[1;32m      5\u001b[0m \u001b[38;5;66;03m#survey_gen.easy_config(zone_space_window_list=[(2,2),(1,2),(1,3)], output_path='./metadata-survey-hpflex')\u001b[39;00m\n\u001b[1;32m      6\u001b[0m \n\u001b[1;32m      7\u001b[0m \u001b[38;5;66;03m# bldg 1\u001b[39;00m\n\u001b[0;32m----> 8\u001b[0m \u001b[43msurvey_gen\u001b[49m\u001b[38;5;241;43m.\u001b[39;49m\u001b[43measy_config\u001b[49m\u001b[43m(\u001b[49m\u001b[43mzone_space_window_list\u001b[49m\u001b[38;5;241;43m=\u001b[39;49m\u001b[43m[\u001b[49m\u001b[43m(\u001b[49m\u001b[38;5;241;43m1\u001b[39;49m\u001b[43m,\u001b[49m\u001b[38;5;241;43m1\u001b[39;49m\u001b[43m)\u001b[49m\u001b[43m,\u001b[49m\u001b[43m(\u001b[49m\u001b[38;5;241;43m1\u001b[39;49m\u001b[43m,\u001b[49m\u001b[38;5;241;43m2\u001b[39;49m\u001b[43m)\u001b[49m\u001b[43m,\u001b[49m\u001b[43m(\u001b[49m\u001b[38;5;241;43m1\u001b[39;49m\u001b[43m,\u001b[49m\u001b[38;5;241;43m3\u001b[39;49m\u001b[43m)\u001b[49m\u001b[43m]\u001b[49m\u001b[43m,\u001b[49m\u001b[43m \u001b[49m\u001b[43moutput_path\u001b[49m\u001b[38;5;241;43m=\u001b[39;49m\u001b[38;5;124;43m'\u001b[39;49m\u001b[38;5;124;43m./metadata-survey-hpflex\u001b[39;49m\u001b[38;5;124;43m'\u001b[39;49m\u001b[43m)\u001b[49m\n\u001b[1;32m     10\u001b[0m survey_gen \u001b[38;5;241m=\u001b[39m SurveyGenerator(site_id \u001b[38;5;241m=\u001b[39m \u001b[38;5;124m'\u001b[39m\u001b[38;5;124mhpflex_demo\u001b[39m\u001b[38;5;124m'\u001b[39m,\n\u001b[1;32m     11\u001b[0m                              building_id \u001b[38;5;241m=\u001b[39m \u001b[38;5;124m'\u001b[39m\u001b[38;5;124mbldg2\u001b[39m\u001b[38;5;124m'\u001b[39m,\n\u001b[1;32m     12\u001b[0m                              hvac_type \u001b[38;5;241m=\u001b[39m \u001b[38;5;124m'\u001b[39m\u001b[38;5;124mhp-rtu\u001b[39m\u001b[38;5;124m'\u001b[39m)\n\u001b[1;32m     13\u001b[0m \u001b[38;5;66;03m# bldg 2\u001b[39;00m\n",
      "File \u001b[0;32m~/Desktop/HPflex/Semantic_MPC_Interface/src/semantic_mpc_interface/create_metadata_survey.py:71\u001b[0m, in \u001b[0;36mSurveyGenerator.easy_config\u001b[0;34m(self, zone_space_window_list, output_path)\u001b[0m\n\u001b[1;32m     68\u001b[0m         \u001b[38;5;28mself\u001b[39m\u001b[38;5;241m.\u001b[39mzones_contain_windows[zone_name]\u001b[38;5;241m.\u001b[39mappend(window_name)\n\u001b[1;32m     70\u001b[0m \u001b[38;5;66;03m# TODO: fill in the topology of the building and output file\u001b[39;00m\n\u001b[0;32m---> 71\u001b[0m \u001b[38;5;28;43mself\u001b[39;49m\u001b[38;5;241;43m.\u001b[39;49m\u001b[43mgenerate_template\u001b[49m\u001b[43m(\u001b[49m\u001b[38;5;28;43mself\u001b[39;49m\u001b[38;5;241;43m.\u001b[39;49m\u001b[43mhvacs_feed_hvacs\u001b[49m\u001b[43m,\u001b[49m\u001b[43m \u001b[49m\u001b[38;5;28;43mself\u001b[39;49m\u001b[38;5;241;43m.\u001b[39;49m\u001b[43mhvacs_feed_zones\u001b[49m\u001b[43m,\u001b[49m\u001b[43m \u001b[49m\u001b[38;5;28;43mself\u001b[39;49m\u001b[38;5;241;43m.\u001b[39;49m\u001b[43mzones_contain_spaces\u001b[49m\u001b[43m,\u001b[49m\u001b[43m \u001b[49m\u001b[38;5;28;43mself\u001b[39;49m\u001b[38;5;241;43m.\u001b[39;49m\u001b[43mzones_contain_windows\u001b[49m\u001b[43m,\u001b[49m\n\u001b[1;32m     72\u001b[0m \u001b[43m                       \u001b[49m\u001b[43moutput_path\u001b[49m\u001b[43m)\u001b[49m\n",
      "File \u001b[0;32m~/Desktop/HPflex/Semantic_MPC_Interface/src/semantic_mpc_interface/create_metadata_survey.py:226\u001b[0m, in \u001b[0;36mSurveyGenerator.generate_template\u001b[0;34m(self, hvacs_feed_hvacs, hvacs_feed_zones, zones_contain_spaces, zones_contain_windows, output_path)\u001b[0m\n\u001b[1;32m    222\u001b[0m validate_dict(zones_contain_spaces)\n\u001b[1;32m    223\u001b[0m validate_dict(zones_contain_windows)\n\u001b[0;32m--> 226\u001b[0m \u001b[38;5;28;43mself\u001b[39;49m\u001b[38;5;241;43m.\u001b[39;49m\u001b[43m_create_directory_structure\u001b[49m\u001b[43m(\u001b[49m\u001b[43moutput_path\u001b[49m\u001b[43m)\u001b[49m\n\u001b[1;32m    227\u001b[0m \u001b[38;5;28mself\u001b[39m\u001b[38;5;241m.\u001b[39m_create_site_info_file()\n\u001b[1;32m    228\u001b[0m \u001b[38;5;28mself\u001b[39m\u001b[38;5;241m.\u001b[39m_create_space_files(zones_contain_spaces)\n",
      "File \u001b[0;32m~/Desktop/HPflex/Semantic_MPC_Interface/src/semantic_mpc_interface/create_metadata_survey.py:80\u001b[0m, in \u001b[0;36mSurveyGenerator._create_directory_structure\u001b[0;34m(self, base_path)\u001b[0m\n\u001b[1;32m     78\u001b[0m \u001b[38;5;66;03m# Check if main directory exists and is not empty\u001b[39;00m\n\u001b[1;32m     79\u001b[0m \u001b[38;5;28;01mif\u001b[39;00m \u001b[38;5;28mself\u001b[39m\u001b[38;5;241m.\u001b[39mbase_dir\u001b[38;5;241m.\u001b[39mexists() \u001b[38;5;129;01mand\u001b[39;00m \u001b[38;5;28many\u001b[39m(\u001b[38;5;28mself\u001b[39m\u001b[38;5;241m.\u001b[39mbase_dir\u001b[38;5;241m.\u001b[39miterdir()):\n\u001b[0;32m---> 80\u001b[0m     \u001b[38;5;28;01mraise\u001b[39;00m \u001b[38;5;167;01mFileExistsError\u001b[39;00m(\u001b[38;5;124mf\u001b[39m\u001b[38;5;124m\"\u001b[39m\u001b[38;5;124mDirectory \u001b[39m\u001b[38;5;124m'\u001b[39m\u001b[38;5;132;01m{\u001b[39;00m\u001b[38;5;28mself\u001b[39m\u001b[38;5;241m.\u001b[39mbase_dir\u001b[38;5;132;01m}\u001b[39;00m\u001b[38;5;124m'\u001b[39m\u001b[38;5;124m already exists and is not empty. Please use a different path or clear the directory.\u001b[39m\u001b[38;5;124m\"\u001b[39m)\n\u001b[1;32m     82\u001b[0m \u001b[38;5;66;03m# Create main directory and parent directories if they don't exist\u001b[39;00m\n\u001b[1;32m     83\u001b[0m \u001b[38;5;28mself\u001b[39m\u001b[38;5;241m.\u001b[39mbase_dir\u001b[38;5;241m.\u001b[39mmkdir(parents\u001b[38;5;241m=\u001b[39m\u001b[38;5;28;01mTrue\u001b[39;00m, exist_ok\u001b[38;5;241m=\u001b[39m\u001b[38;5;28;01mTrue\u001b[39;00m)\n",
      "\u001b[0;31mFileExistsError\u001b[0m: Directory 'metadata-survey-hpflex/hpflex_demo/bldg1' already exists and is not empty. Please use a different path or clear the directory."
     ]
    }
   ],
   "source": [
    "survey_gen = SurveyGenerator(site_id = 'hpflex_demo',\n",
    "                             building_id = 'bldg1',\n",
    "                             hvac_type = 'hp-rtu')\n",
    "# zone_space_window list for configuration: 3 zones, with 2 spaces and 2 windows, 1 space and 2 windows, 1 space 3 windows, one hvac unit per zone\n",
    "#survey_gen.easy_config(zone_space_window_list=[(2,2),(1,2),(1,3)], output_path='./metadata-survey-hpflex')\n",
    "\n",
    "# bldg 1\n",
    "survey_gen.easy_config(zone_space_window_list=[(1,1),(1,2),(1,3)], output_path='./metadata-survey-hpflex')\n",
    "\n",
    "survey_gen = SurveyGenerator(site_id = 'hpflex_demo',\n",
    "                             building_id = 'bldg2',\n",
    "                             hvac_type = 'hp-rtu')\n",
    "# bldg 2\n",
    "survey_gen.easy_config(zone_space_window_list=[(1,1),(1,1),(1,1),(1,1)], output_path='./metadata-survey-hpflex')\n"
   ]
  },
  {
   "cell_type": "code",
   "execution_count": null,
   "metadata": {},
   "outputs": [],
   "source": []
  },
  {
   "cell_type": "code",
   "execution_count": null,
   "metadata": {},
   "outputs": [
    {
     "name": "stdout",
     "output_type": "stream",
     "text": [
      "Failed to load templates from /Users/lazlopaul/Desktop/HPflex/Semantic_MPC_Interface/src/semantic_mpc_interface/templates/brick-templates: Directory /Users/lazlopaul/Desktop/HPflex/Semantic_MPC_Interface/src/semantic_mpc_interface/templates/brick-templates does not exist\n"
     ]
    },
    {
     "ename": "Exception",
     "evalue": "Directory /Users/lazlopaul/Desktop/HPflex/Semantic_MPC_Interface/src/semantic_mpc_interface/templates/brick-templates does not exist",
     "output_type": "error",
     "traceback": [
      "\u001b[0;31m---------------------------------------------------------------------------\u001b[0m",
      "\u001b[0;31mException\u001b[0m                                 Traceback (most recent call last)",
      "Cell \u001b[0;32mIn[3], line 2\u001b[0m\n\u001b[1;32m      1\u001b[0m generator \u001b[38;5;241m=\u001b[39m SurveyReader(\u001b[38;5;124m\"\u001b[39m\u001b[38;5;124m./metadata-survey-hpflex/hpflex_demo/bldg1\u001b[39m\u001b[38;5;124m\"\u001b[39m)\n\u001b[0;32m----> 2\u001b[0m \u001b[43mgenerator\u001b[49m\u001b[38;5;241;43m.\u001b[39;49m\u001b[43mcreate_model\u001b[49m\u001b[43m(\u001b[49m\u001b[38;5;124;43m\"\u001b[39;49m\u001b[38;5;124;43mbldg1.ttl\u001b[39;49m\u001b[38;5;124;43m\"\u001b[39;49m\u001b[43m)\u001b[49m\n\u001b[1;32m      4\u001b[0m generator \u001b[38;5;241m=\u001b[39m SurveyReader(\u001b[38;5;124m\"\u001b[39m\u001b[38;5;124m./metadata-survey-hpflex/hpflex_demo/bldg2\u001b[39m\u001b[38;5;124m\"\u001b[39m)\n\u001b[1;32m      5\u001b[0m generator\u001b[38;5;241m.\u001b[39mcreate_model(\u001b[38;5;124m\"\u001b[39m\u001b[38;5;124mbldg2.ttl\u001b[39m\u001b[38;5;124m\"\u001b[39m)\n",
      "File \u001b[0;32m~/Desktop/HPflex/Semantic_MPC_Interface/src/semantic_mpc_interface/read_metadata_survey.py:122\u001b[0m, in \u001b[0;36mSurveyReader.create_model\u001b[0;34m(self, output_file)\u001b[0m\n\u001b[1;32m    120\u001b[0m \u001b[38;5;250m\u001b[39m\u001b[38;5;124;03m\"\"\"Generate the Brick model from the survey data\"\"\"\u001b[39;00m\n\u001b[1;32m    121\u001b[0m \u001b[38;5;66;03m# Initialize the model builder with site information\u001b[39;00m\n\u001b[0;32m--> 122\u001b[0m builder \u001b[38;5;241m=\u001b[39m \u001b[43mModelBuilder\u001b[49m\u001b[43m(\u001b[49m\n\u001b[1;32m    123\u001b[0m \u001b[43m    \u001b[49m\u001b[43msite_id\u001b[49m\u001b[38;5;241;43m=\u001b[39;49m\u001b[38;5;28;43mself\u001b[39;49m\u001b[38;5;241;43m.\u001b[39;49m\u001b[43msite_info\u001b[49m\u001b[43m[\u001b[49m\u001b[38;5;124;43m'\u001b[39;49m\u001b[38;5;124;43msite_id\u001b[39;49m\u001b[38;5;124;43m'\u001b[39;49m\u001b[43m]\u001b[49m\u001b[43m,\u001b[49m\n\u001b[1;32m    124\u001b[0m \u001b[43m    \u001b[49m\u001b[43montology\u001b[49m\u001b[43m \u001b[49m\u001b[38;5;241;43m=\u001b[39;49m\u001b[43m \u001b[49m\u001b[38;5;28;43mself\u001b[39;49m\u001b[38;5;241;43m.\u001b[39;49m\u001b[43montology\u001b[49m\n\u001b[1;32m    125\u001b[0m \u001b[43m\u001b[49m\u001b[43m)\u001b[49m\n\u001b[1;32m    126\u001b[0m builder\u001b[38;5;241m.\u001b[39madd_site(\n\u001b[1;32m    127\u001b[0m     timezone\u001b[38;5;241m=\u001b[39m\u001b[38;5;28mself\u001b[39m\u001b[38;5;241m.\u001b[39msite_info[\u001b[38;5;124m'\u001b[39m\u001b[38;5;124mtimezone\u001b[39m\u001b[38;5;124m'\u001b[39m],\n\u001b[1;32m    128\u001b[0m     latitude\u001b[38;5;241m=\u001b[39m\u001b[38;5;28mfloat\u001b[39m(\u001b[38;5;28mself\u001b[39m\u001b[38;5;241m.\u001b[39msite_info[\u001b[38;5;124m'\u001b[39m\u001b[38;5;124mlatitude\u001b[39m\u001b[38;5;124m'\u001b[39m]),\n\u001b[1;32m    129\u001b[0m     longitude\u001b[38;5;241m=\u001b[39m\u001b[38;5;28mfloat\u001b[39m(\u001b[38;5;28mself\u001b[39m\u001b[38;5;241m.\u001b[39msite_info[\u001b[38;5;124m'\u001b[39m\u001b[38;5;124mlongitude\u001b[39m\u001b[38;5;124m'\u001b[39m]),\n\u001b[1;32m    130\u001b[0m     noaa_station\u001b[38;5;241m=\u001b[39m\u001b[38;5;28mself\u001b[39m\u001b[38;5;241m.\u001b[39msite_info[\u001b[38;5;124m'\u001b[39m\u001b[38;5;124mnoaa_station\u001b[39m\u001b[38;5;124m'\u001b[39m]\n\u001b[1;32m    131\u001b[0m )\n\u001b[1;32m    132\u001b[0m \u001b[38;5;66;03m# Process zones and their associated equipment\u001b[39;00m\n",
      "File \u001b[0;32m~/Desktop/HPflex/Semantic_MPC_Interface/src/semantic_mpc_interface/model_builder.py:49\u001b[0m, in \u001b[0;36mModelBuilder.__init__\u001b[0;34m(self, site_id, ontology, system_of_units, hvac_type, tstat_type)\u001b[0m\n\u001b[1;32m     47\u001b[0m \u001b[38;5;28mself\u001b[39m\u001b[38;5;241m.\u001b[39mtstat_type \u001b[38;5;241m=\u001b[39m tstat_type\n\u001b[1;32m     48\u001b[0m \u001b[38;5;28mself\u001b[39m\u001b[38;5;241m.\u001b[39montology \u001b[38;5;241m=\u001b[39m ontology\n\u001b[0;32m---> 49\u001b[0m \u001b[38;5;28;43mself\u001b[39;49m\u001b[38;5;241;43m.\u001b[39;49m\u001b[43m_load_templates\u001b[49m\u001b[43m(\u001b[49m\u001b[43m)\u001b[49m\n",
      "File \u001b[0;32m~/Desktop/HPflex/Semantic_MPC_Interface/src/semantic_mpc_interface/model_builder.py:62\u001b[0m, in \u001b[0;36mModelBuilder._load_templates\u001b[0;34m(self)\u001b[0m\n\u001b[1;32m     56\u001b[0m template_dir \u001b[38;5;241m=\u001b[39m \u001b[38;5;28mstr\u001b[39m(\n\u001b[1;32m     57\u001b[0m     files(\u001b[38;5;124m\"\u001b[39m\u001b[38;5;124msemantic_mpc_interface\u001b[39m\u001b[38;5;124m\"\u001b[39m)\u001b[38;5;241m.\u001b[39mjoinpath(\n\u001b[1;32m     58\u001b[0m         \u001b[38;5;124mf\u001b[39m\u001b[38;5;124m\"\u001b[39m\u001b[38;5;124mtemplates/\u001b[39m\u001b[38;5;132;01m{\u001b[39;00m\u001b[38;5;28mself\u001b[39m\u001b[38;5;241m.\u001b[39montology\u001b[38;5;132;01m}\u001b[39;00m\u001b[38;5;124m-templates\u001b[39m\u001b[38;5;124m\"\u001b[39m\n\u001b[1;32m     59\u001b[0m     )\n\u001b[1;32m     60\u001b[0m )\n\u001b[1;32m     61\u001b[0m \u001b[38;5;28;01mtry\u001b[39;00m:\n\u001b[0;32m---> 62\u001b[0m     \u001b[38;5;28mself\u001b[39m\u001b[38;5;241m.\u001b[39mtemplates \u001b[38;5;241m=\u001b[39m \u001b[43mLibrary\u001b[49m\u001b[38;5;241;43m.\u001b[39;49m\u001b[43mload\u001b[49m\u001b[43m(\u001b[49m\u001b[43mdirectory\u001b[49m\u001b[38;5;241;43m=\u001b[39;49m\u001b[43mtemplate_dir\u001b[49m\u001b[43m)\u001b[49m\n\u001b[1;32m     63\u001b[0m     \u001b[38;5;28;01mif\u001b[39;00m \u001b[38;5;28mself\u001b[39m\u001b[38;5;241m.\u001b[39montology \u001b[38;5;241m==\u001b[39m \u001b[38;5;124m\"\u001b[39m\u001b[38;5;124mbrick\u001b[39m\u001b[38;5;124m\"\u001b[39m:\n\u001b[1;32m     64\u001b[0m         \u001b[38;5;28mself\u001b[39m\u001b[38;5;241m.\u001b[39montology_ns \u001b[38;5;241m=\u001b[39m BRICK\n",
      "File \u001b[0;32m~/Desktop/HPflex/Semantic_MPC_Interface/.venv/lib/python3.10/site-packages/buildingmotif/dataclasses/library.py:207\u001b[0m, in \u001b[0;36mLibrary.load\u001b[0;34m(cls, db_id, ontology_graph, directory, name, overwrite, infer_templates, run_shacl_inference)\u001b[0m\n\u001b[1;32m    205\u001b[0m         src \u001b[38;5;241m=\u001b[39m pathlib\u001b[38;5;241m.\u001b[39mPath(directory)\n\u001b[1;32m    206\u001b[0m     \u001b[38;5;28;01mif\u001b[39;00m \u001b[38;5;129;01mnot\u001b[39;00m src\u001b[38;5;241m.\u001b[39mexists():\n\u001b[0;32m--> 207\u001b[0m         \u001b[38;5;28;01mraise\u001b[39;00m \u001b[38;5;167;01mException\u001b[39;00m(\u001b[38;5;124mf\u001b[39m\u001b[38;5;124m\"\u001b[39m\u001b[38;5;124mDirectory \u001b[39m\u001b[38;5;132;01m{\u001b[39;00msrc\u001b[38;5;132;01m}\u001b[39;00m\u001b[38;5;124m does not exist\u001b[39m\u001b[38;5;124m\"\u001b[39m)\n\u001b[1;32m    208\u001b[0m     \u001b[38;5;28;01mreturn\u001b[39;00m \u001b[38;5;28mcls\u001b[39m\u001b[38;5;241m.\u001b[39m_load_from_directory(\n\u001b[1;32m    209\u001b[0m         src,\n\u001b[1;32m    210\u001b[0m         overwrite\u001b[38;5;241m=\u001b[39moverwrite,\n\u001b[1;32m    211\u001b[0m         infer_templates\u001b[38;5;241m=\u001b[39minfer_templates,\n\u001b[1;32m    212\u001b[0m         run_shacl_inference\u001b[38;5;241m=\u001b[39mrun_shacl_inference,\n\u001b[1;32m    213\u001b[0m     )\n\u001b[1;32m    214\u001b[0m \u001b[38;5;28;01melif\u001b[39;00m name \u001b[38;5;129;01mis\u001b[39;00m \u001b[38;5;129;01mnot\u001b[39;00m \u001b[38;5;28;01mNone\u001b[39;00m:\n",
      "\u001b[0;31mException\u001b[0m: Directory /Users/lazlopaul/Desktop/HPflex/Semantic_MPC_Interface/src/semantic_mpc_interface/templates/brick-templates does not exist"
     ]
    }
   ],
   "source": [
    "generator = SurveyReader(\"./metadata-survey-hpflex/hpflex_demo/bldg1\")\n",
    "generator.create_model(\"bldg1.ttl\")\n",
    "\n",
    "generator = SurveyReader(\"./metadata-survey-hpflex/hpflex_demo/bldg2\")\n",
    "generator.create_model(\"bldg2.ttl\")\n"
   ]
  },
  {
   "cell_type": "code",
   "execution_count": null,
   "metadata": {},
   "outputs": [],
   "source": [
    "site_metadata = BuildingMetadataLoader(\"test-brick-model.ttl\",ontology='brick')\n",
    "site_info = site_metadata.get_site_info()\n",
    "thermostat_data = site_metadata.get_thermostat_data()"
   ]
  },
  {
   "cell_type": "code",
   "execution_count": null,
   "metadata": {},
   "outputs": [
    {
     "data": {
      "text/plain": [
       "{'tz': 'urn:hpflex/test-site#test-site.timezone',\n",
       " 'latitude': 'urn:hpflex/test-site#test-site.latitude',\n",
       " 'longitude': 'urn:hpflex/test-site#test-site.longitude',\n",
       " 'NOAAstation': 'urn:hpflex/test-site#test-site.noaastation',\n",
       " 'project_id': rdflib.term.URIRef('urn:hpflex/test-site#test-site'),\n",
       " 'site_id': rdflib.term.URIRef('urn:hpflex/test-site#test-site')}"
      ]
     },
     "execution_count": 4,
     "metadata": {},
     "output_type": "execute_result"
    }
   ],
   "source": [
    "site_info"
   ]
  },
  {
   "cell_type": "code",
   "execution_count": null,
   "metadata": {},
   "outputs": [
    {
     "data": {
      "text/plain": [
       "{'heat_availability': [False, False],\n",
       " 'cool_availability': [True, True],\n",
       " 'heat_tolerance': [-2.0, -2.0],\n",
       " 'cool_tolerance': [2.0, 2.0],\n",
       " 'setpoint_deadband': [1, 1],\n",
       " 'active': [True, True],\n",
       " 'control_group': ['DEPRECATED', 'DEPRECATED'],\n",
       " 'control_type_list': ['stage', 'stage'],\n",
       " 'floor_area_list': [50.0, 50.0],\n",
       " 'window_area_list': [10.5, 10.5],\n",
       " 'azimuth_list': [180, 180],\n",
       " 'tilt_list': [30, 30],\n",
       " 'zone_ids': ['zone1', 'zone2'],\n",
       " 'hvacs': ['hvac1', 'hvac2'],\n",
       " 'setpoint_type': ['double', 'double'],\n",
       " 'fuel_heat_list': ['gas', 'gas'],\n",
       " 'fuel_cool_list': ['electricity', 'electricity'],\n",
       " 'cooling_capacity': [5.0, 5.0],\n",
       " 'heating_capacity': [4.0, 4.0],\n",
       " 'cooling_cop': [3.5, 3.5],\n",
       " 'heating_cop': [3.0, 3.0],\n",
       " 'cooling_electricity': [],\n",
       " 'heating_electricity': [],\n",
       " 'resolution': [1, 1],\n",
       " 'temperature_unit': [rdflib.term.URIRef('http://qudt.org/vocab/unit/DEG_F'),\n",
       "  rdflib.term.URIRef('http://qudt.org/vocab/unit/DEG_F')]}"
      ]
     },
     "execution_count": 5,
     "metadata": {},
     "output_type": "execute_result"
    }
   ],
   "source": [
    "thermostat_data"
   ]
  },
  {
   "cell_type": "code",
   "execution_count": null,
   "metadata": {},
   "outputs": [],
   "source": []
  },
  {
   "cell_type": "code",
   "execution_count": null,
   "metadata": {},
   "outputs": [],
   "source": []
  },
  {
   "cell_type": "code",
   "execution_count": null,
   "metadata": {},
   "outputs": [],
   "source": []
  },
  {
   "cell_type": "code",
   "execution_count": null,
   "metadata": {},
   "outputs": [],
   "source": []
  },
  {
   "cell_type": "markdown",
   "metadata": {},
   "source": [
    "# Testing the Model Builder"
   ]
  },
  {
   "cell_type": "code",
   "execution_count": null,
   "metadata": {},
   "outputs": [
    {
     "name": "stderr",
     "output_type": "stream",
     "text": [
      "/opt/anaconda3/envs/hpflex_mpc/lib/python3.11/site-packages/pyshacl/extras/__init__.py:46: Warning: Extra \"js\" is not satisfied because requirement pyduktape2 is not installed.\n",
      "  warn(Warning(f\"Extra \\\"{extra_name}\\\" is not satisfied because requirement {req} is not installed.\"))\n"
     ]
    }
   ],
   "source": [
    "builder = ModelBuilder(\n",
    "    site_id=\"test-site\",\n",
    "    timezone=\"America/New_York\",\n",
    "    latitude=40.7128,\n",
    "    longitude=-74.0060,\n",
    "    noaa_station=\"KJFK\"\n",
    ")"
   ]
  },
  {
   "cell_type": "code",
   "execution_count": null,
   "metadata": {},
   "outputs": [
    {
     "name": "stdout",
     "output_type": "stream",
     "text": [
      "zone1\n",
      "zone2\n"
     ]
    }
   ],
   "source": [
    "builder.add_zone(\"zone1\")\n",
    "builder.add_window(\"window1\", \"zone1\", area_value=10.5, azimuth_value=180, tilt_value=30)\n",
    "builder.add_thermostat(\"tstat1\", \"zone1\", stage_count=2, setpoint_deadband=1, tolerance=2, active=True, resolution = \"float\",unit=\"IP\")\n",
    "builder.add_hvac(\"hvac1\", \"zone1\", cooling_capacity=5.0, heating_capacity=4.0, cooling_cop=3.5, heating_cop=3.0)\n",
    "builder.add_space(\"space1\", \"zone1\", area_value=50.0)\n",
    "\n",
    "builder.add_zone(\"zone2\")\n",
    "builder.add_window(\"window2\", \"zone2\", area_value=10.5, azimuth_value=180, tilt_value=30)\n",
    "builder.add_thermostat(\"tstat2\", \"zone2\", stage_count=2, setpoint_deadband=1, tolerance=2, active=True, resolution =  \"float\",unit=\"IP\")\n",
    "builder.add_hvac(\"hvac2\", \"zone2\", cooling_capacity=5.0, heating_capacity=4.0, cooling_cop=3.5, heating_cop=3.0)\n",
    "builder.add_space(\"space2\", \"zone2\", area_value=50.0)"
   ]
  },
  {
   "cell_type": "code",
   "execution_count": null,
   "metadata": {},
   "outputs": [],
   "source": [
    "# Using AQL for proof of concept, this part is incomplete\n",
    "add_points(builder, \"../development_files/metadata-survey-variable-map.csv\")"
   ]
  },
  {
   "cell_type": "code",
   "execution_count": null,
   "metadata": {},
   "outputs": [],
   "source": [
    "builder.save_model(\"test-brick-model.ttl\")"
   ]
  },
  {
   "cell_type": "markdown",
   "metadata": {},
   "source": [
    "# Testing get Metadata"
   ]
  },
  {
   "cell_type": "code",
   "execution_count": null,
   "metadata": {},
   "outputs": [
    {
     "ename": "AttributeError",
     "evalue": "'BuildingMetadataLoader' object has no attribute 'BRICK'",
     "output_type": "error",
     "traceback": [
      "\u001b[0;31m---------------------------------------------------------------------------\u001b[0m",
      "\u001b[0;31mAttributeError\u001b[0m                            Traceback (most recent call last)",
      "Cell \u001b[0;32mIn[6], line 2\u001b[0m\n\u001b[1;32m      1\u001b[0m site_metadata \u001b[38;5;241m=\u001b[39m BuildingMetadataLoader(source\u001b[38;5;241m=\u001b[39m\u001b[38;5;124m\"\u001b[39m\u001b[38;5;124m/Users/srgmac/SemanticModelBuilder/tutorial/bldg1.ttl\u001b[39m\u001b[38;5;124m\"\u001b[39m,ontology\u001b[38;5;241m=\u001b[39m\u001b[38;5;124m'\u001b[39m\u001b[38;5;124mbrick\u001b[39m\u001b[38;5;124m'\u001b[39m)\n\u001b[0;32m----> 2\u001b[0m site_info \u001b[38;5;241m=\u001b[39m \u001b[43msite_metadata\u001b[49m\u001b[38;5;241;43m.\u001b[39;49m\u001b[43mget_site_info\u001b[49m\u001b[43m(\u001b[49m\u001b[43m)\u001b[49m\n\u001b[1;32m      3\u001b[0m thermostat_data \u001b[38;5;241m=\u001b[39m site_metadata\u001b[38;5;241m.\u001b[39mget_thermostat_data()\n",
      "File \u001b[0;32m~/SemanticModelBuilder/tutorial/../BrickModelInterface/get_metadata.py:262\u001b[0m, in \u001b[0;36mBuildingMetadataLoader.get_site_info\u001b[0;34m(self)\u001b[0m\n\u001b[1;32m    259\u001b[0m \u001b[38;5;250m\u001b[39m\u001b[38;5;124;03m\"\"\"Fetch site-level metadata.\"\"\"\u001b[39;00m\n\u001b[1;32m    260\u001b[0m \u001b[38;5;28;01mif\u001b[39;00m \u001b[38;5;28mself\u001b[39m\u001b[38;5;241m.\u001b[39montology \u001b[38;5;241m==\u001b[39m \u001b[38;5;124m'\u001b[39m\u001b[38;5;124mbrick\u001b[39m\u001b[38;5;124m'\u001b[39m:\n\u001b[1;32m    261\u001b[0m     \u001b[38;5;28;01mreturn\u001b[39;00m{\n\u001b[0;32m--> 262\u001b[0m     \u001b[38;5;124m\"\u001b[39m\u001b[38;5;124mtz\u001b[39m\u001b[38;5;124m\"\u001b[39m: \u001b[38;5;28mself\u001b[39m\u001b[38;5;241m.\u001b[39m_get_value(\u001b[38;5;28mself\u001b[39m\u001b[38;5;241m.\u001b[39msite, \u001b[38;5;28;43mself\u001b[39;49m\u001b[38;5;241;43m.\u001b[39;49m\u001b[43mBRICK\u001b[49m\u001b[38;5;241m.\u001b[39mtimezone),\n\u001b[1;32m    263\u001b[0m     \u001b[38;5;124m\"\u001b[39m\u001b[38;5;124mlatitude\u001b[39m\u001b[38;5;124m\"\u001b[39m: \u001b[38;5;28mself\u001b[39m\u001b[38;5;241m.\u001b[39m_get_value(\u001b[38;5;28mself\u001b[39m\u001b[38;5;241m.\u001b[39msite, \u001b[38;5;28mself\u001b[39m\u001b[38;5;241m.\u001b[39mBRICK\u001b[38;5;241m.\u001b[39mlatitude),\n\u001b[1;32m    264\u001b[0m     \u001b[38;5;124m\"\u001b[39m\u001b[38;5;124mlongitude\u001b[39m\u001b[38;5;124m\"\u001b[39m: \u001b[38;5;28mself\u001b[39m\u001b[38;5;241m.\u001b[39m_get_value(\u001b[38;5;28mself\u001b[39m\u001b[38;5;241m.\u001b[39msite, \u001b[38;5;28mself\u001b[39m\u001b[38;5;241m.\u001b[39mBRICK\u001b[38;5;241m.\u001b[39mlongitude),\n\u001b[1;32m    265\u001b[0m     \u001b[38;5;124m\"\u001b[39m\u001b[38;5;124mNOAAstation\u001b[39m\u001b[38;5;124m\"\u001b[39m: \u001b[38;5;28mself\u001b[39m\u001b[38;5;241m.\u001b[39m_get_value(\u001b[38;5;28mself\u001b[39m\u001b[38;5;241m.\u001b[39msite, \u001b[38;5;28mself\u001b[39m\u001b[38;5;241m.\u001b[39mBRICK\u001b[38;5;241m.\u001b[39mhasNOAAStation),\n\u001b[1;32m    266\u001b[0m     \u001b[38;5;66;03m# project_id and site_id are currently the same\u001b[39;00m\n\u001b[1;32m    267\u001b[0m     \u001b[38;5;124m\"\u001b[39m\u001b[38;5;124mproject_id\u001b[39m\u001b[38;5;124m\"\u001b[39m: \u001b[38;5;28mnext\u001b[39m(\u001b[38;5;28mself\u001b[39m\u001b[38;5;241m.\u001b[39mg\u001b[38;5;241m.\u001b[39mtriples((\u001b[38;5;28;01mNone\u001b[39;00m,RDF\u001b[38;5;241m.\u001b[39mtype, \u001b[38;5;28mself\u001b[39m\u001b[38;5;241m.\u001b[39mBRICK\u001b[38;5;241m.\u001b[39mSite)))[\u001b[38;5;241m0\u001b[39m],\n\u001b[1;32m    268\u001b[0m     \u001b[38;5;124m\"\u001b[39m\u001b[38;5;124msite_id\u001b[39m\u001b[38;5;124m\"\u001b[39m: \u001b[38;5;28mnext\u001b[39m(\u001b[38;5;28mself\u001b[39m\u001b[38;5;241m.\u001b[39mg\u001b[38;5;241m.\u001b[39mtriples((\u001b[38;5;28;01mNone\u001b[39;00m,RDF\u001b[38;5;241m.\u001b[39mtype, \u001b[38;5;28mself\u001b[39m\u001b[38;5;241m.\u001b[39mBRICK\u001b[38;5;241m.\u001b[39mSite)))[\u001b[38;5;241m0\u001b[39m],\n\u001b[1;32m    269\u001b[0m }\n\u001b[1;32m    270\u001b[0m \u001b[38;5;28;01melse\u001b[39;00m:\n\u001b[1;32m    271\u001b[0m     results \u001b[38;5;241m=\u001b[39m \u001b[38;5;28mself\u001b[39m\u001b[38;5;241m.\u001b[39mg\u001b[38;5;241m.\u001b[39mquery(sparql_queries[\u001b[38;5;124m\"\u001b[39m\u001b[38;5;124msite_info\u001b[39m\u001b[38;5;124m\"\u001b[39m][\u001b[38;5;28mself\u001b[39m\u001b[38;5;241m.\u001b[39montology])\n",
      "\u001b[0;31mAttributeError\u001b[0m: 'BuildingMetadataLoader' object has no attribute 'BRICK'"
     ]
    }
   ],
   "source": [
    "site_metadata = BuildingMetadataLoader(source=\"/Users/srgmac/SemanticModelBuilder/tutorial/bldg1.ttl\",ontology='brick')\n",
    "site_info = site_metadata.get_site_info()\n",
    "thermostat_data = site_metadata.get_thermostat_data()"
   ]
  },
  {
   "cell_type": "code",
   "execution_count": null,
   "metadata": {},
   "outputs": [],
   "source": []
  },
  {
   "cell_type": "code",
   "execution_count": null,
   "metadata": {},
   "outputs": [
    {
     "data": {
      "text/plain": [
       "{'heat_availability': [False, False],\n",
       " 'cool_availability': [True, True],\n",
       " 'heat_tolerance': [-1.111111, -1.111111],\n",
       " 'cool_tolerance': [1.111111, 1.111111],\n",
       " 'setpoint_deadband': [0.5555556, 0.5555556],\n",
       " 'active': [True, True],\n",
       " 'control_group': ['urn:hpflex/test-site#tstat1_control_group',\n",
       "  'urn:hpflex/test-site#tstat2_control_group'],\n",
       " 'control_type_list': ['stage', 'stage'],\n",
       " 'floor_area_list': [50.0, 50.0],\n",
       " 'window_area_list': [10.5, 10.5],\n",
       " 'azimuth_list': [180, 180],\n",
       " 'tilt_list': [30, 30],\n",
       " 'zone_ids': ['zone1', 'zone2'],\n",
       " 'hvacs': ['hvac1', 'hvac2'],\n",
       " 'setpoint_type': ['double', 'double'],\n",
       " 'fuel_heat_list': ['gas', 'gas'],\n",
       " 'fuel_cool_list': ['electricity', 'electricity'],\n",
       " 'cooling_capacity': [5.0, 5.0],\n",
       " 'heating_capacity': [4.0, 4.0],\n",
       " 'cooling_cop': [3.5, 3.5],\n",
       " 'heating_cop': [3.0, 3.0],\n",
       " 'cooling_electricity': [],\n",
       " 'heating_electricity': [],\n",
       " 'resolution': ['float', 'float'],\n",
       " 'temperature_unit': [rdflib.term.URIRef('http://qudt.org/vocab/unit/DEG_F'),\n",
       "  rdflib.term.URIRef('http://qudt.org/vocab/unit/DEG_F')]}"
      ]
     },
     "execution_count": 7,
     "metadata": {},
     "output_type": "execute_result"
    }
   ],
   "source": [
    "thermostat_data"
   ]
  },
  {
   "cell_type": "code",
   "execution_count": null,
   "metadata": {},
   "outputs": [
    {
     "data": {
      "text/plain": [
       "{'heat_availability': [False],\n",
       " 'cool_availability': [True],\n",
       " 'heat_tolerance': [-1.111111],\n",
       " 'cool_tolerance': [1.111111],\n",
       " 'setpoint_deadband': [0.5555556],\n",
       " 'active': [True],\n",
       " 'control_group': ['urn:hpflex/test-site#tstat1_control_group'],\n",
       " 'control_type_list': ['stage'],\n",
       " 'floor_area_list': [50.0],\n",
       " 'window_area_list': [10.5],\n",
       " 'azimuth_list': [180],\n",
       " 'tilt_list': [30],\n",
       " 'zone_ids': ['zone1'],\n",
       " 'hvacs': ['hvac1'],\n",
       " 'setpoint_type': ['double'],\n",
       " 'fuel_heat_list': ['gas'],\n",
       " 'fuel_cool_list': ['electricity'],\n",
       " 'cooling_capacity': [5.0],\n",
       " 'heating_capacity': [4.0],\n",
       " 'cooling_cop': [3.5],\n",
       " 'heating_cop': [3.0],\n",
       " 'cooling_electricity': [],\n",
       " 'heating_electricity': [],\n",
       " 'resolution': ['float'],\n",
       " 'temperature_unit': [rdflib.term.URIRef('http://qudt.org/vocab/unit/DEG_F')]}"
      ]
     },
     "execution_count": 8,
     "metadata": {},
     "output_type": "execute_result"
    }
   ],
   "source": [
    "site_metadata.get_thermostat_data(for_zone='zone1')"
   ]
  },
  {
   "cell_type": "code",
   "execution_count": null,
   "metadata": {},
   "outputs": [
    {
     "data": {
      "text/plain": [
       "{'tz': 'America/New_York',\n",
       " 'latitude': 40.7128,\n",
       " 'longitude': -74.006,\n",
       " 'NOAAstation': None,\n",
       " 'project_id': rdflib.term.URIRef('urn:hpflex/test-site#test-site'),\n",
       " 'site_id': rdflib.term.URIRef('urn:hpflex/test-site#test-site'),\n",
       " 'heat_availability': [False, False],\n",
       " 'cool_availability': [True, True],\n",
       " 'heat_tolerance': [-1.111111, -1.111111],\n",
       " 'cool_tolerance': [1.111111, 1.111111],\n",
       " 'setpoint_deadband': [0.5555556, 0.5555556],\n",
       " 'active': [True, True],\n",
       " 'control_group': ['urn:hpflex/test-site#tstat1_control_group',\n",
       "  'urn:hpflex/test-site#tstat2_control_group'],\n",
       " 'control_type_list': ['stage', 'stage'],\n",
       " 'floor_area_list': [50.0, 50.0],\n",
       " 'window_area_list': [10.5, 10.5],\n",
       " 'azimuth_list': [180, 180],\n",
       " 'tilt_list': [30, 30],\n",
       " 'zone_ids': ['zone1', 'zone2'],\n",
       " 'hvacs': ['hvac1', 'hvac2'],\n",
       " 'setpoint_type': ['double', 'double'],\n",
       " 'fuel_heat_list': ['gas', 'gas'],\n",
       " 'fuel_cool_list': ['electricity', 'electricity'],\n",
       " 'cooling_capacity': [5.0, 5.0],\n",
       " 'heating_capacity': [4.0, 4.0],\n",
       " 'cooling_cop': [3.5, 3.5],\n",
       " 'heating_cop': [3.0, 3.0],\n",
       " 'cooling_electricity': [],\n",
       " 'heating_electricity': [],\n",
       " 'resolution': ['float', 'float'],\n",
       " 'temperature_unit': [rdflib.term.URIRef('http://qudt.org/vocab/unit/DEG_F'),\n",
       "  rdflib.term.URIRef('http://qudt.org/vocab/unit/DEG_F')]}"
      ]
     },
     "execution_count": 9,
     "metadata": {},
     "output_type": "execute_result"
    }
   ],
   "source": [
    "site_metadata.get_complete_output()"
   ]
  },
  {
   "cell_type": "markdown",
   "metadata": {},
   "source": [
    "# Generating Metadata Survey"
   ]
  },
  {
   "cell_type": "code",
   "execution_count": null,
   "metadata": {},
   "outputs": [],
   "source": [
    "#Old version\n",
    "# interface = SurveyGenerator(\n",
    "#     site_name=\"empty-test-site\",\n",
    "#     num_zones=3,\n",
    "#     spaces_per_zone=2,\n",
    "#     num_hvac_units=2,\n",
    "#     one_hvac_per_zone=True,\n",
    "#     hvac_type=\"hp-rtu\"\n",
    "# )\n",
    "#interface.generate_template(\"./metadata-survey\")"
   ]
  },
  {
   "cell_type": "code",
   "execution_count": null,
   "metadata": {},
   "outputs": [],
   "source": [
    "survey_gen = SurveyGenerator(site_name = 'easy-config-test',\n",
    "                             hvac_type = 'hp-rtu')\n",
    "# zone_space_window list for configuration: 3 zones, with 2 spaces and 2 windows, 1 space and 2 windows, 1 space 3 windows, one hvac unit per zone\n",
    "survey_gen.easy_config(zone_space_window_list=[(2,2),(1,2),(1,3)], output_path='./metadata-survey')\n",
    "# survey_gen.easy_config(zone_space_window_list=[(1,1)], output_path='./metadata-survey')\n"
   ]
  },
  {
   "cell_type": "code",
   "execution_count": null,
   "metadata": {},
   "outputs": [],
   "source": [
    "# Custom config \n",
    "# TODO: add underscores to begining of all methods but generate template and easy config\n",
    "survey_gen = SurveyGenerator(site_name= 'custom-config-test',\n",
    "                             hvac_type = 'vrf')\n",
    "survey_gen.generate_template(\n",
    "    hvacs_feed_hvacs = {'HP1': ['FCU1','FCU2','FCU3'],\n",
    "                        'HP2': ['FCU1', 'FCU2', 'FCU3']},\n",
    "    hvacs_feed_zones= {'FCU1': ['Zone1'],\n",
    "                       'FCU2': ['Zone2'],\n",
    "                       'FCU3': ['Zone3']},\n",
    "    zones_contain_spaces= {'Zone1': ['Z1S1', 'Z1S2'],\n",
    "                           'Zone2': ['Z1S2','Z2S3'],\n",
    "                           'Zone3': ['Z3S1']},\n",
    "    zones_contain_windows= {'Zone1': ['W1'],\n",
    "                           'Zone2': ['W2'],\n",
    "                           'Zone3': ['W3','W4','W5','W6']},\n",
    "                           output_path='./metadata-survey'\n",
    ")"
   ]
  },
  {
   "cell_type": "code",
   "execution_count": null,
   "metadata": {},
   "outputs": [],
   "source": []
  },
  {
   "cell_type": "markdown",
   "metadata": {},
   "source": [
    "# Reading Metadata Survey"
   ]
  },
  {
   "cell_type": "code",
   "execution_count": null,
   "metadata": {},
   "outputs": [
    {
     "name": "stderr",
     "output_type": "stream",
     "text": [
      "/opt/anaconda3/envs/bmotif/lib/python3.11/site-packages/buildingmotif/database/table_connection.py:423: SAWarning: Identity map already had an identity for (<class 'buildingmotif.database.tables.DepsAssociation'>, (1,), None), replacing it with newly flushed object.   Are there load operations occurring inside of an event handler within the flush?\n",
      "  self.bm.session.flush()\n",
      "/opt/anaconda3/envs/bmotif/lib/python3.11/site-packages/buildingmotif/database/table_connection.py:423: SAWarning: Identity map already had an identity for (<class 'buildingmotif.database.tables.DepsAssociation'>, (2,), None), replacing it with newly flushed object.   Are there load operations occurring inside of an event handler within the flush?\n",
      "  self.bm.session.flush()\n",
      "/opt/anaconda3/envs/bmotif/lib/python3.11/site-packages/buildingmotif/database/table_connection.py:423: SAWarning: Identity map already had an identity for (<class 'buildingmotif.database.tables.DepsAssociation'>, (3,), None), replacing it with newly flushed object.   Are there load operations occurring inside of an event handler within the flush?\n",
      "  self.bm.session.flush()\n",
      "/opt/anaconda3/envs/bmotif/lib/python3.11/site-packages/buildingmotif/database/table_connection.py:423: SAWarning: Identity map already had an identity for (<class 'buildingmotif.database.tables.DepsAssociation'>, (4,), None), replacing it with newly flushed object.   Are there load operations occurring inside of an event handler within the flush?\n",
      "  self.bm.session.flush()\n",
      "/opt/anaconda3/envs/bmotif/lib/python3.11/site-packages/buildingmotif/database/table_connection.py:423: SAWarning: Identity map already had an identity for (<class 'buildingmotif.database.tables.DepsAssociation'>, (5,), None), replacing it with newly flushed object.   Are there load operations occurring inside of an event handler within the flush?\n",
      "  self.bm.session.flush()\n",
      "/opt/anaconda3/envs/bmotif/lib/python3.11/site-packages/buildingmotif/database/table_connection.py:423: SAWarning: Identity map already had an identity for (<class 'buildingmotif.database.tables.DepsAssociation'>, (6,), None), replacing it with newly flushed object.   Are there load operations occurring inside of an event handler within the flush?\n",
      "  self.bm.session.flush()\n",
      "/opt/anaconda3/envs/bmotif/lib/python3.11/site-packages/buildingmotif/database/table_connection.py:423: SAWarning: Identity map already had an identity for (<class 'buildingmotif.database.tables.DepsAssociation'>, (7,), None), replacing it with newly flushed object.   Are there load operations occurring inside of an event handler within the flush?\n",
      "  self.bm.session.flush()\n",
      "/opt/anaconda3/envs/bmotif/lib/python3.11/site-packages/buildingmotif/database/table_connection.py:423: SAWarning: Identity map already had an identity for (<class 'buildingmotif.database.tables.DepsAssociation'>, (8,), None), replacing it with newly flushed object.   Are there load operations occurring inside of an event handler within the flush?\n",
      "  self.bm.session.flush()\n",
      "/opt/anaconda3/envs/bmotif/lib/python3.11/site-packages/buildingmotif/database/table_connection.py:423: SAWarning: Identity map already had an identity for (<class 'buildingmotif.database.tables.DepsAssociation'>, (9,), None), replacing it with newly flushed object.   Are there load operations occurring inside of an event handler within the flush?\n",
      "  self.bm.session.flush()\n",
      "/opt/anaconda3/envs/bmotif/lib/python3.11/site-packages/buildingmotif/database/table_connection.py:423: SAWarning: Identity map already had an identity for (<class 'buildingmotif.database.tables.DepsAssociation'>, (10,), None), replacing it with newly flushed object.   Are there load operations occurring inside of an event handler within the flush?\n",
      "  self.bm.session.flush()\n",
      "/opt/anaconda3/envs/bmotif/lib/python3.11/site-packages/buildingmotif/database/table_connection.py:423: SAWarning: Identity map already had an identity for (<class 'buildingmotif.database.tables.DepsAssociation'>, (11,), None), replacing it with newly flushed object.   Are there load operations occurring inside of an event handler within the flush?\n",
      "  self.bm.session.flush()\n",
      "/opt/anaconda3/envs/bmotif/lib/python3.11/site-packages/buildingmotif/database/table_connection.py:423: SAWarning: Identity map already had an identity for (<class 'buildingmotif.database.tables.DepsAssociation'>, (12,), None), replacing it with newly flushed object.   Are there load operations occurring inside of an event handler within the flush?\n",
      "  self.bm.session.flush()\n",
      "/opt/anaconda3/envs/bmotif/lib/python3.11/site-packages/buildingmotif/database/table_connection.py:423: SAWarning: Identity map already had an identity for (<class 'buildingmotif.database.tables.DepsAssociation'>, (13,), None), replacing it with newly flushed object.   Are there load operations occurring inside of an event handler within the flush?\n",
      "  self.bm.session.flush()\n",
      "/opt/anaconda3/envs/bmotif/lib/python3.11/site-packages/buildingmotif/database/table_connection.py:423: SAWarning: Identity map already had an identity for (<class 'buildingmotif.database.tables.DepsAssociation'>, (14,), None), replacing it with newly flushed object.   Are there load operations occurring inside of an event handler within the flush?\n",
      "  self.bm.session.flush()\n"
     ]
    }
   ],
   "source": [
    "generator = SurveyReader(\"./metadata-survey/filled-out-easy-config-test\")\n",
    "generator.create_model(\"survey-brick-model.ttl\")"
   ]
  },
  {
   "cell_type": "code",
   "execution_count": null,
   "metadata": {},
   "outputs": [
    {
     "data": {
      "text/plain": [
       "{'hvac_1': ['zone_1']}"
      ]
     },
     "execution_count": 14,
     "metadata": {},
     "output_type": "execute_result"
    }
   ],
   "source": [
    "generator.config['hvacs_feed_zones']"
   ]
  },
  {
   "cell_type": "code",
   "execution_count": null,
   "metadata": {},
   "outputs": [],
   "source": [
    "import csv"
   ]
  },
  {
   "cell_type": "code",
   "execution_count": null,
   "metadata": {},
   "outputs": [],
   "source": [
    "zones=[]\n",
    "with open(\"/Users/srgmac/SemanticModelBuilder/tutorial/metadata-survey-hpflex/filled-easy-config-test/zones/zones.csv\", 'r') as f:\n",
    "    reader = csv.DictReader(f)\n",
    "    for row in reader:\n",
    "        zones.append(row)"
   ]
  },
  {
   "cell_type": "code",
   "execution_count": null,
   "metadata": {},
   "outputs": [
    {
     "data": {
      "text/plain": [
       "{'tstat_id': 'tstat_zone_1',\n",
       " 'zone_id': 'zone_1',\n",
       " 'stage_count': '',\n",
       " 'setpoint_deadband': '',\n",
       " 'tolerance': '',\n",
       " 'active': 'DEG_F',\n",
       " 'resolution': '',\n",
       " 'temperature_unit': ''}"
      ]
     },
     "execution_count": 8,
     "metadata": {},
     "output_type": "execute_result"
    }
   ],
   "source": [
    "zones[0]"
   ]
  },
  {
   "cell_type": "code",
   "execution_count": null,
   "metadata": {},
   "outputs": [
    {
     "data": {
      "text/plain": [
       "''"
      ]
     },
     "execution_count": 16,
     "metadata": {},
     "output_type": "execute_result"
    }
   ],
   "source": [
    "zones[3]['tstat_id']"
   ]
  },
  {
   "cell_type": "code",
   "execution_count": null,
   "metadata": {},
   "outputs": [
    {
     "data": {
      "text/plain": [
       "{'tstat_id': '',\n",
       " 'zone_id': '',\n",
       " 'stage_count': '',\n",
       " 'setpoint_deadband': '',\n",
       " 'tolerance': '',\n",
       " 'active': '',\n",
       " 'resolution': '',\n",
       " 'temperature_unit': ''}"
      ]
     },
     "execution_count": 11,
     "metadata": {},
     "output_type": "execute_result"
    }
   ],
   "source": [
    "zones[3]"
   ]
  },
  {
   "cell_type": "code",
   "execution_count": null,
   "metadata": {},
   "outputs": [],
   "source": [
    "\n"
   ]
  }
 ],
 "metadata": {
  "kernelspec": {
   "display_name": "creating-brick-model",
   "language": "python",
   "name": "python3"
  },
  "language_info": {
   "codemirror_mode": {
    "name": "ipython",
    "version": 3
   },
   "file_extension": ".py",
   "mimetype": "text/x-python",
   "name": "python",
   "nbconvert_exporter": "python",
   "pygments_lexer": "ipython3",
   "version": "3.10.0"
  }
 },
 "nbformat": 4,
 "nbformat_minor": 2
}
