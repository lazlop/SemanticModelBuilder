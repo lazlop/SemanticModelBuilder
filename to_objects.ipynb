{
 "cells": [
  {
   "cell_type": "code",
   "execution_count": 3,
   "id": "3c360307",
   "metadata": {},
   "outputs": [
    {
     "name": "stderr",
     "output_type": "stream",
     "text": [
      "DEBUG:buildingmotif.database.table_connection:Creating shape collection in model: 'urn:hpflex#'\n",
      "DEBUG:buildingmotif.database.table_connection:Creating model: 'urn:hpflex#', with graph: '1560c763-630c-4b74-9051-17033ad5811f'\n",
      "DEBUG:buildingmotif.database.graph_connection:Creating graph: '1560c763-630c-4b74-9051-17033ad5811f' in database with: 1 triples\n"
     ]
    },
    {
     "name": "stderr",
     "output_type": "stream",
     "text": [
      "DEBUG:buildingmotif.database.table_connection:Creating database template: 'hvac-zone'\n",
      "DEBUG:buildingmotif.database.graph_connection:Creating graph: 'f7489c65-6668-4c3d-95b6-b168a9f68dbc' in database with: 1 triples\n",
      "DEBUG:buildingmotif.database.table_connection:Creating database template: 'has-space'\n",
      "DEBUG:buildingmotif.database.graph_connection:Creating graph: 'd39da919-e5d3-460a-8950-12265bc48553' in database with: 1 triples\n",
      "DEBUG:buildingmotif.database.table_connection:Creating database template: 'has-window'\n",
      "DEBUG:buildingmotif.database.graph_connection:Creating graph: '0c39166c-9c4a-4ef3-a02e-f655585cf471' in database with: 1 triples\n",
      "DEBUG:buildingmotif.database.table_connection:Creating database template: 'space'\n",
      "DEBUG:buildingmotif.database.graph_connection:Creating graph: 'db4ad1cd-d433-4567-811b-b61aa778c63a' in database with: 2 triples\n",
      "DEBUG:buildingmotif.database.table_connection:Creating database template: 'window'\n",
      "DEBUG:buildingmotif.database.graph_connection:Creating graph: 'b19ab683-9ea2-4277-afa8-acde732fccd6' in database with: 4 triples\n",
      "DEBUG:buildingmotif.database.table_connection:Creating database template: 'area'\n",
      "DEBUG:buildingmotif.database.graph_connection:Creating graph: '7247034f-56af-4f96-bc72-1b36bb7527ac' in database with: 3 triples\n",
      "DEBUG:buildingmotif.database.table_connection:Creating database template: 'tilt'\n",
      "DEBUG:buildingmotif.database.graph_connection:Creating graph: '8310e5df-e911-4ad0-bd99-4e74045f1f26' in database with: 3 triples\n",
      "DEBUG:buildingmotif.database.table_connection:Creating database template: 'azimuth'\n",
      "DEBUG:buildingmotif.database.graph_connection:Creating graph: '0c87659c-b0bc-47c0-a45d-6daeb91a6679' in database with: 3 triples\n",
      "DEBUG:buildingmotif.database.table_connection:Creating depencency from templates with ids: '1' and: '2'\n",
      "/Users/lazlopaul/Desktop/HPflex/Semantic_MPC_Interface/.venv/lib/python3.10/site-packages/buildingmotif/database/table_connection.py:423: SAWarning: Identity map already had an identity for (<class 'buildingmotif.database.tables.DepsAssociation'>, (1,), None), replacing it with newly flushed object.   Are there load operations occurring inside of an event handler within the flush?\n",
      "  self.bm.session.flush()\n",
      "DEBUG:buildingmotif.database.table_connection:Creating depencency from templates with ids: '1' and: '4'\n",
      "DEBUG:buildingmotif.database.table_connection:Creating depencency from templates with ids: '1' and: '3'\n",
      "/Users/lazlopaul/Desktop/HPflex/Semantic_MPC_Interface/.venv/lib/python3.10/site-packages/buildingmotif/database/table_connection.py:423: SAWarning: Identity map already had an identity for (<class 'buildingmotif.database.tables.DepsAssociation'>, (3,), None), replacing it with newly flushed object.   Are there load operations occurring inside of an event handler within the flush?\n",
      "  self.bm.session.flush()\n",
      "DEBUG:buildingmotif.database.table_connection:Creating depencency from templates with ids: '1' and: '5'\n",
      "DEBUG:buildingmotif.database.table_connection:Creating depencency from templates with ids: '4' and: '6'\n",
      "/Users/lazlopaul/Desktop/HPflex/Semantic_MPC_Interface/.venv/lib/python3.10/site-packages/buildingmotif/database/table_connection.py:423: SAWarning: Identity map already had an identity for (<class 'buildingmotif.database.tables.DepsAssociation'>, (5,), None), replacing it with newly flushed object.   Are there load operations occurring inside of an event handler within the flush?\n",
      "  self.bm.session.flush()\n",
      "DEBUG:buildingmotif.database.table_connection:Creating depencency from templates with ids: '5' and: '6'\n",
      "DEBUG:buildingmotif.database.table_connection:Creating depencency from templates with ids: '5' and: '8'\n",
      "/Users/lazlopaul/Desktop/HPflex/Semantic_MPC_Interface/.venv/lib/python3.10/site-packages/buildingmotif/database/table_connection.py:423: SAWarning: Identity map already had an identity for (<class 'buildingmotif.database.tables.DepsAssociation'>, (7,), None), replacing it with newly flushed object.   Are there load operations occurring inside of an event handler within the flush?\n",
      "  self.bm.session.flush()\n",
      "DEBUG:buildingmotif.database.table_connection:Creating depencency from templates with ids: '5' and: '7'\n",
      "/Users/lazlopaul/Desktop/HPflex/Semantic_MPC_Interface/.venv/lib/python3.10/site-packages/buildingmotif/database/table_connection.py:423: SAWarning: Identity map already had an identity for (<class 'buildingmotif.database.tables.DepsAssociation'>, (8,), None), replacing it with newly flushed object.   Are there load operations occurring inside of an event handler within the flush?\n",
      "  self.bm.session.flush()\n",
      "DEBUG:buildingmotif.database.table_connection:Creating depencency from templates with ids: '1' and: '2'\n",
      "DEBUG:buildingmotif.database.table_connection:Creating depencency from templates with ids: '1' and: '3'\n",
      "DEBUG:buildingmotif.database.table_connection:Creating depencency from templates with ids: '1' and: '4'\n",
      "DEBUG:buildingmotif.database.table_connection:Creating depencency from templates with ids: '1' and: '5'\n",
      "DEBUG:buildingmotif.database.table_connection:Creating depencency from templates with ids: '4' and: '6'\n",
      "DEBUG:buildingmotif.database.table_connection:Creating depencency from templates with ids: '5' and: '6'\n",
      "DEBUG:buildingmotif.database.table_connection:Creating depencency from templates with ids: '5' and: '7'\n",
      "DEBUG:buildingmotif.database.table_connection:Creating depencency from templates with ids: '5' and: '8'\n"
     ]
    }
   ],
   "source": [
    "from to_objects import get_objects\n",
    "from rdflib import Graph"
   ]
  },
  {
   "cell_type": "code",
   "execution_count": 4,
   "id": "4a97d05f",
   "metadata": {},
   "outputs": [
    {
     "data": {
      "text/plain": [
       "<Graph identifier=N65e1ce0795d043a5896ed731608f8524 (<class 'rdflib.graph.Graph'>)>"
      ]
     },
     "execution_count": 4,
     "metadata": {},
     "output_type": "execute_result"
    }
   ],
   "source": [
    "g = Graph()\n",
    "g.parse('tutorial/bldg2.ttl')"
   ]
  },
  {
   "cell_type": "code",
   "execution_count": 5,
   "id": "ea21fb7a",
   "metadata": {},
   "outputs": [],
   "source": [
    "zones = get_objects(g)"
   ]
  },
  {
   "cell_type": "code",
   "execution_count": 6,
   "id": "8bade8f6",
   "metadata": {},
   "outputs": [
    {
     "data": {
      "text/plain": [
       "Value(value=1500.0, unit='FT2')"
      ]
     },
     "execution_count": 6,
     "metadata": {},
     "output_type": "execute_result"
    }
   ],
   "source": [
    "zone1 = zones[0]\n",
    "zone1.spaces[0].area"
   ]
  },
  {
   "cell_type": "code",
   "execution_count": 7,
   "id": "fdd126aa",
   "metadata": {},
   "outputs": [
    {
     "data": {
      "text/plain": [
       "[Space(name='urn:hpflex/hpflex_demo#space_1_1', area=Value(value=1500.0, unit='FT2'))]"
      ]
     },
     "execution_count": 7,
     "metadata": {},
     "output_type": "execute_result"
    }
   ],
   "source": [
    "zones[0].spaces"
   ]
  },
  {
   "cell_type": "markdown",
   "id": "2c175664",
   "metadata": {},
   "source": [
    "# Drafting"
   ]
  },
  {
   "cell_type": "code",
   "execution_count": 25,
   "id": "a605f094",
   "metadata": {},
   "outputs": [],
   "source": [
    "from buildingmotif import BuildingMOTIF\n",
    "from buildingmotif.dataclasses import Library, Model\n",
    "from rdflib import Graph, Literal, Namespace, URIRef\n",
    "from semantic_mpc_interface.namespaces import * \n",
    "from semantic_mpc_interface.utils import * \n",
    "from buildingmotif.ingresses import CSVIngress, TemplateIngress, Record"
   ]
  },
  {
   "cell_type": "code",
   "execution_count": 26,
   "id": "82d7fd88",
   "metadata": {},
   "outputs": [
    {
     "name": "stderr",
     "output_type": "stream",
     "text": [
      "DEBUG:buildingmotif.database.table_connection:Creating shape collection in model: 'urn:hpflex#'\n",
      "DEBUG:buildingmotif.database.table_connection:Creating model: 'urn:hpflex#', with graph: 'a16daa9d-0724-4ba0-9fcb-f550e582ffee'\n",
      "DEBUG:buildingmotif.database.graph_connection:Creating graph: 'a16daa9d-0724-4ba0-9fcb-f550e582ffee' in database with: 1 triples\n"
     ]
    }
   ],
   "source": [
    "bm = BuildingMOTIF(\"sqlite://\")\n",
    "model = Model.create(HPF)\n"
   ]
  },
  {
   "cell_type": "code",
   "execution_count": 27,
   "id": "2312109f",
   "metadata": {},
   "outputs": [
    {
     "name": "stderr",
     "output_type": "stream",
     "text": [
      "DEBUG:buildingmotif.database.table_connection:Creating database template: 'hvac-zone'\n"
     ]
    },
    {
     "name": "stderr",
     "output_type": "stream",
     "text": [
      "DEBUG:buildingmotif.database.graph_connection:Creating graph: '7cd71f2e-a0d5-4ab5-8e38-d5f89339f6e7' in database with: 1 triples\n",
      "DEBUG:buildingmotif.database.table_connection:Creating database template: 'space'\n",
      "DEBUG:buildingmotif.database.graph_connection:Creating graph: '47b774ff-89db-4acc-9769-a16554bad690' in database with: 2 triples\n",
      "DEBUG:buildingmotif.database.table_connection:Creating database template: 'window'\n",
      "DEBUG:buildingmotif.database.graph_connection:Creating graph: '2846200b-8c83-4225-8902-12ba03605306' in database with: 4 triples\n",
      "DEBUG:buildingmotif.database.table_connection:Creating database template: 'hp-rtu'\n",
      "DEBUG:buildingmotif.database.graph_connection:Creating graph: 'b3e2c3e7-ddc4-4690-8f6c-7fa1283ab9a5' in database with: 6 triples\n",
      "DEBUG:buildingmotif.database.table_connection:Creating database template: 'tstat'\n",
      "DEBUG:buildingmotif.database.graph_connection:Creating graph: '85861de5-c58c-4171-b92b-5cd5ea536298' in database with: 6 triples\n",
      "DEBUG:buildingmotif.database.table_connection:Creating database template: 'tstat-heating-cooling-occupancy'\n",
      "DEBUG:buildingmotif.database.graph_connection:Creating graph: 'f49f19fe-06f8-4e30-9c09-3a051e59e76a' in database with: 8 triples\n",
      "DEBUG:buildingmotif.database.table_connection:Creating database template: 'site'\n",
      "DEBUG:buildingmotif.database.graph_connection:Creating graph: '97e2edc8-a04c-4387-933e-86b4ec1691b5' in database with: 5 triples\n",
      "DEBUG:buildingmotif.database.table_connection:Creating database template: 'air-bidirectional-connectionpoint'\n",
      "DEBUG:buildingmotif.database.graph_connection:Creating graph: 'd581af79-a0e2-49e7-8801-12543e50259d' in database with: 2 triples\n",
      "DEBUG:buildingmotif.database.table_connection:Creating database template: 'air-outlet-connectionpoint'\n",
      "DEBUG:buildingmotif.database.graph_connection:Creating graph: '02c9d774-e569-43b4-89ef-c177f9970880' in database with: 3 triples\n",
      "DEBUG:buildingmotif.database.table_connection:Creating database template: 'air-inlet-connectionpoint'\n",
      "DEBUG:buildingmotif.database.graph_connection:Creating graph: 'b9c47c81-c7d6-44aa-a6e8-1c23e866f447' in database with: 3 triples\n",
      "DEBUG:buildingmotif.database.table_connection:Creating database template: 'connection'\n",
      "DEBUG:buildingmotif.database.graph_connection:Creating graph: '12df05a5-34cb-4912-ba8d-be717abb62ef' in database with: 1 triples\n",
      "DEBUG:buildingmotif.database.table_connection:Creating database template: 'has-point'\n",
      "DEBUG:buildingmotif.database.graph_connection:Creating graph: 'c4545625-833d-4dd7-8cdc-d1eb59b57d9c' in database with: 1 triples\n",
      "DEBUG:buildingmotif.database.table_connection:Creating database template: 'has-reference'\n",
      "DEBUG:buildingmotif.database.graph_connection:Creating graph: '5d7b2684-e727-4fd5-a4a4-c2050783ec46' in database with: 1 triples\n",
      "DEBUG:buildingmotif.database.table_connection:Creating database template: 'has-space'\n",
      "DEBUG:buildingmotif.database.graph_connection:Creating graph: 'b189b41e-a3b4-4653-acb5-19b4b21d25e4' in database with: 1 triples\n",
      "DEBUG:buildingmotif.database.table_connection:Creating database template: 'has-location'\n",
      "DEBUG:buildingmotif.database.graph_connection:Creating graph: '6d587b1b-9adf-4cf9-9092-0352b0bc8007' in database with: 1 triples\n",
      "DEBUG:buildingmotif.database.table_connection:Creating database template: 'has-window'\n",
      "DEBUG:buildingmotif.database.graph_connection:Creating graph: '1fd4d016-717c-4451-b091-b14f256095dc' in database with: 1 triples\n",
      "DEBUG:buildingmotif.database.table_connection:Creating database template: 'air-connects-to'\n",
      "DEBUG:buildingmotif.database.graph_connection:Creating graph: '69233f2d-962f-48ac-a445-1412f59b0290' in database with: 1 triples\n",
      "DEBUG:buildingmotif.database.table_connection:Creating database template: 'air-bidirectional-connects-to'\n",
      "DEBUG:buildingmotif.database.graph_connection:Creating graph: '0d617307-4c34-4b3b-a1e8-15c40d35ec95' in database with: 2 triples\n",
      "DEBUG:buildingmotif.database.table_connection:Creating database template: 'area'\n",
      "DEBUG:buildingmotif.database.graph_connection:Creating graph: '253dbedb-d0c7-4a81-8d8a-19e520d3e03d' in database with: 3 triples\n",
      "DEBUG:buildingmotif.database.table_connection:Creating database template: 'tilt'\n",
      "DEBUG:buildingmotif.database.graph_connection:Creating graph: 'c888038f-42b7-4d73-9689-f61f7416312f' in database with: 3 triples\n",
      "DEBUG:buildingmotif.database.table_connection:Creating database template: 'azimuth'\n",
      "DEBUG:buildingmotif.database.graph_connection:Creating graph: '3023ad55-9bef-424f-8ea3-0c7efe5e6995' in database with: 3 triples\n",
      "DEBUG:buildingmotif.database.table_connection:Creating database template: 'cooling-COP'\n",
      "DEBUG:buildingmotif.database.graph_connection:Creating graph: '28e7e820-5d93-48d9-a8fe-b0ea3bb135f4' in database with: 3 triples\n",
      "DEBUG:buildingmotif.database.table_connection:Creating database template: 'heating-COP'\n",
      "DEBUG:buildingmotif.database.graph_connection:Creating graph: 'b4c582a9-1635-42da-996e-311467a19ed1' in database with: 3 triples\n",
      "DEBUG:buildingmotif.database.table_connection:Creating database template: 'cooling-capacity'\n",
      "DEBUG:buildingmotif.database.graph_connection:Creating graph: '0287b183-3fff-4cd5-9c77-cfb42b0021bb' in database with: 3 triples\n",
      "DEBUG:buildingmotif.database.table_connection:Creating database template: 'heating-capacity'\n",
      "DEBUG:buildingmotif.database.graph_connection:Creating graph: '36e84928-710c-46d6-a0cc-f382a89a8fe1' in database with: 3 triples\n",
      "DEBUG:buildingmotif.database.table_connection:Creating database template: 'temperature'\n",
      "DEBUG:buildingmotif.database.graph_connection:Creating graph: 'fcc5423a-60c1-4fd4-b6a7-269b666cbf7b' in database with: 3 triples\n",
      "DEBUG:buildingmotif.database.table_connection:Creating database template: 'active-heating-stages'\n",
      "DEBUG:buildingmotif.database.graph_connection:Creating graph: '78a772ad-5f4c-4532-9a24-0644e4d1539f' in database with: 3 triples\n",
      "DEBUG:buildingmotif.database.table_connection:Creating database template: 'active-cooling-stages'\n",
      "DEBUG:buildingmotif.database.graph_connection:Creating graph: 'df54386a-0d80-4baa-a2d3-c3f37ed5a861' in database with: 3 triples\n",
      "DEBUG:buildingmotif.database.table_connection:Creating database template: 'occ-heating-setpoint'\n",
      "DEBUG:buildingmotif.database.graph_connection:Creating graph: '90b9ebbd-d55f-4072-ada5-2b19289999ce' in database with: 3 triples\n",
      "DEBUG:buildingmotif.database.table_connection:Creating database template: 'occ-cooling-setpoint'\n",
      "DEBUG:buildingmotif.database.graph_connection:Creating graph: '933fa157-1f8a-43f3-bd84-408b28057176' in database with: 3 triples\n",
      "DEBUG:buildingmotif.database.table_connection:Creating database template: 'unocc-heating-setpoint'\n",
      "DEBUG:buildingmotif.database.graph_connection:Creating graph: 'af2ba119-6f19-4e59-93cf-acd122c9bcb6' in database with: 3 triples\n",
      "DEBUG:buildingmotif.database.table_connection:Creating database template: 'unocc-cooling-setpoint'\n",
      "DEBUG:buildingmotif.database.graph_connection:Creating graph: 'be7b3814-bc85-4ca8-bb32-ec4e5d0af6fc' in database with: 3 triples\n",
      "DEBUG:buildingmotif.database.table_connection:Creating database template: 'effective-temperature-setpoint'\n",
      "DEBUG:buildingmotif.database.graph_connection:Creating graph: 'b3cb33bd-f99a-4d17-9518-7dc58c5469c9' in database with: 3 triples\n",
      "DEBUG:buildingmotif.database.table_connection:Creating database template: 'effective-heating-setpoint'\n",
      "DEBUG:buildingmotif.database.graph_connection:Creating graph: '1ee68f13-73dc-4424-a0fc-83a06bb8569f' in database with: 3 triples\n",
      "DEBUG:buildingmotif.database.table_connection:Creating database template: 'effective-cooling-setpoint'\n",
      "DEBUG:buildingmotif.database.graph_connection:Creating graph: '6676f267-7480-4b3c-92bc-e2188341759f' in database with: 3 triples\n",
      "DEBUG:buildingmotif.database.table_connection:Creating database template: 'tstat-stage_count'\n",
      "DEBUG:buildingmotif.database.graph_connection:Creating graph: '936beeb5-7043-4e4f-b351-eef656d38619' in database with: 3 triples\n",
      "DEBUG:buildingmotif.database.table_connection:Creating database template: 'tstat-deadband'\n",
      "DEBUG:buildingmotif.database.graph_connection:Creating graph: '72b04a24-ef33-49b5-baa0-f67271a5087e' in database with: 5 triples\n",
      "DEBUG:buildingmotif.database.table_connection:Creating database template: 'tstat-tolerance'\n",
      "DEBUG:buildingmotif.database.graph_connection:Creating graph: '0c0406ce-037e-4007-ad8e-97046ca9ad06' in database with: 5 triples\n",
      "DEBUG:buildingmotif.database.table_connection:Creating database template: 'tstat-resolution'\n",
      "DEBUG:buildingmotif.database.graph_connection:Creating graph: '8e4ea212-82ba-4c83-8b1c-bce117bb557b' in database with: 3 triples\n",
      "DEBUG:buildingmotif.database.table_connection:Creating database template: 'tstat-active'\n",
      "DEBUG:buildingmotif.database.graph_connection:Creating graph: '7cbbafa2-79e0-47d0-9cee-a5649663ebdf' in database with: 2 triples\n",
      "DEBUG:buildingmotif.database.table_connection:Creating database template: 'timezone'\n",
      "DEBUG:buildingmotif.database.graph_connection:Creating graph: 'c97021d2-6e94-4024-87ce-631c2ff959c3' in database with: 2 triples\n",
      "DEBUG:buildingmotif.database.table_connection:Creating database template: 'latitude'\n",
      "DEBUG:buildingmotif.database.graph_connection:Creating graph: '0b60b1a6-e2a1-49c9-87f1-41a0c0b4858a' in database with: 3 triples\n",
      "DEBUG:buildingmotif.database.table_connection:Creating database template: 'longitude'\n",
      "DEBUG:buildingmotif.database.graph_connection:Creating graph: '067d20f6-1b1e-421e-b290-7444c0364291' in database with: 3 triples\n",
      "DEBUG:buildingmotif.database.table_connection:Creating database template: 'noaastation'\n",
      "DEBUG:buildingmotif.database.graph_connection:Creating graph: '247b0da6-382a-4f43-9e5f-6d97f1555c91' in database with: 1 triples\n",
      "DEBUG:buildingmotif.database.table_connection:Creating database template: 'volttron-external-reference'\n",
      "DEBUG:buildingmotif.database.graph_connection:Creating graph: '032d5258-7fd4-4784-b2cb-44adac0ff476' in database with: 2 triples\n",
      "DEBUG:buildingmotif.database.table_connection:Creating database template: 'point'\n",
      "DEBUG:buildingmotif.database.graph_connection:Creating graph: '597230dc-cac7-4d79-ad6c-468a5088eed3' in database with: 2 triples\n",
      "DEBUG:buildingmotif.database.table_connection:Creating depencency from templates with ids: '1' and: '14'\n",
      "DEBUG:buildingmotif.database.table_connection:Creating depencency from templates with ids: '1' and: '2'\n",
      "DEBUG:buildingmotif.database.table_connection:Creating depencency from templates with ids: '1' and: '16'\n",
      "/Users/lazlopaul/Desktop/HPflex/Semantic_MPC_Interface/.venv/lib/python3.10/site-packages/buildingmotif/database/table_connection.py:423: SAWarning: Identity map already had an identity for (<class 'buildingmotif.database.tables.DepsAssociation'>, (3,), None), replacing it with newly flushed object.   Are there load operations occurring inside of an event handler within the flush?\n",
      "  self.bm.session.flush()\n",
      "DEBUG:buildingmotif.database.table_connection:Creating depencency from templates with ids: '1' and: '3'\n",
      "DEBUG:buildingmotif.database.table_connection:Creating depencency from templates with ids: '1' and: '15'\n",
      "/Users/lazlopaul/Desktop/HPflex/Semantic_MPC_Interface/.venv/lib/python3.10/site-packages/buildingmotif/database/table_connection.py:423: SAWarning: Identity map already had an identity for (<class 'buildingmotif.database.tables.DepsAssociation'>, (5,), None), replacing it with newly flushed object.   Are there load operations occurring inside of an event handler within the flush?\n",
      "  self.bm.session.flush()\n",
      "DEBUG:buildingmotif.database.table_connection:Creating depencency from templates with ids: '1' and: '5'\n",
      "DEBUG:buildingmotif.database.table_connection:Creating depencency from templates with ids: '2' and: '19'\n",
      "/Users/lazlopaul/Desktop/HPflex/Semantic_MPC_Interface/.venv/lib/python3.10/site-packages/buildingmotif/database/table_connection.py:423: SAWarning: Identity map already had an identity for (<class 'buildingmotif.database.tables.DepsAssociation'>, (7,), None), replacing it with newly flushed object.   Are there load operations occurring inside of an event handler within the flush?\n",
      "  self.bm.session.flush()\n",
      "DEBUG:buildingmotif.database.table_connection:Creating depencency from templates with ids: '3' and: '19'\n",
      "/Users/lazlopaul/Desktop/HPflex/Semantic_MPC_Interface/.venv/lib/python3.10/site-packages/buildingmotif/database/table_connection.py:423: SAWarning: Identity map already had an identity for (<class 'buildingmotif.database.tables.DepsAssociation'>, (8,), None), replacing it with newly flushed object.   Are there load operations occurring inside of an event handler within the flush?\n",
      "  self.bm.session.flush()\n",
      "DEBUG:buildingmotif.database.table_connection:Creating depencency from templates with ids: '3' and: '21'\n",
      "/Users/lazlopaul/Desktop/HPflex/Semantic_MPC_Interface/.venv/lib/python3.10/site-packages/buildingmotif/database/table_connection.py:423: SAWarning: Identity map already had an identity for (<class 'buildingmotif.database.tables.DepsAssociation'>, (9,), None), replacing it with newly flushed object.   Are there load operations occurring inside of an event handler within the flush?\n",
      "  self.bm.session.flush()\n",
      "DEBUG:buildingmotif.database.table_connection:Creating depencency from templates with ids: '3' and: '20'\n",
      "/Users/lazlopaul/Desktop/HPflex/Semantic_MPC_Interface/.venv/lib/python3.10/site-packages/buildingmotif/database/table_connection.py:423: SAWarning: Identity map already had an identity for (<class 'buildingmotif.database.tables.DepsAssociation'>, (10,), None), replacing it with newly flushed object.   Are there load operations occurring inside of an event handler within the flush?\n",
      "  self.bm.session.flush()\n",
      "DEBUG:buildingmotif.database.table_connection:Creating depencency from templates with ids: '4' and: '24'\n",
      "/Users/lazlopaul/Desktop/HPflex/Semantic_MPC_Interface/.venv/lib/python3.10/site-packages/buildingmotif/database/table_connection.py:423: SAWarning: Identity map already had an identity for (<class 'buildingmotif.database.tables.DepsAssociation'>, (11,), None), replacing it with newly flushed object.   Are there load operations occurring inside of an event handler within the flush?\n",
      "  self.bm.session.flush()\n",
      "DEBUG:buildingmotif.database.table_connection:Creating depencency from templates with ids: '4' and: '25'\n",
      "/Users/lazlopaul/Desktop/HPflex/Semantic_MPC_Interface/.venv/lib/python3.10/site-packages/buildingmotif/database/table_connection.py:423: SAWarning: Identity map already had an identity for (<class 'buildingmotif.database.tables.DepsAssociation'>, (12,), None), replacing it with newly flushed object.   Are there load operations occurring inside of an event handler within the flush?\n",
      "  self.bm.session.flush()\n",
      "DEBUG:buildingmotif.database.table_connection:Creating depencency from templates with ids: '4' and: '22'\n",
      "/Users/lazlopaul/Desktop/HPflex/Semantic_MPC_Interface/.venv/lib/python3.10/site-packages/buildingmotif/database/table_connection.py:423: SAWarning: Identity map already had an identity for (<class 'buildingmotif.database.tables.DepsAssociation'>, (13,), None), replacing it with newly flushed object.   Are there load operations occurring inside of an event handler within the flush?\n",
      "  self.bm.session.flush()\n",
      "DEBUG:buildingmotif.database.table_connection:Creating depencency from templates with ids: '4' and: '23'\n",
      "/Users/lazlopaul/Desktop/HPflex/Semantic_MPC_Interface/.venv/lib/python3.10/site-packages/buildingmotif/database/table_connection.py:423: SAWarning: Identity map already had an identity for (<class 'buildingmotif.database.tables.DepsAssociation'>, (14,), None), replacing it with newly flushed object.   Are there load operations occurring inside of an event handler within the flush?\n",
      "  self.bm.session.flush()\n",
      "DEBUG:buildingmotif.database.table_connection:Creating depencency from templates with ids: '5' and: '36'\n",
      "/Users/lazlopaul/Desktop/HPflex/Semantic_MPC_Interface/.venv/lib/python3.10/site-packages/buildingmotif/database/table_connection.py:423: SAWarning: Identity map already had an identity for (<class 'buildingmotif.database.tables.DepsAssociation'>, (15,), None), replacing it with newly flushed object.   Are there load operations occurring inside of an event handler within the flush?\n",
      "  self.bm.session.flush()\n",
      "DEBUG:buildingmotif.database.table_connection:Creating depencency from templates with ids: '5' and: '37'\n",
      "/Users/lazlopaul/Desktop/HPflex/Semantic_MPC_Interface/.venv/lib/python3.10/site-packages/buildingmotif/database/table_connection.py:423: SAWarning: Identity map already had an identity for (<class 'buildingmotif.database.tables.DepsAssociation'>, (16,), None), replacing it with newly flushed object.   Are there load operations occurring inside of an event handler within the flush?\n",
      "  self.bm.session.flush()\n",
      "DEBUG:buildingmotif.database.table_connection:Creating depencency from templates with ids: '5' and: '38'\n",
      "/Users/lazlopaul/Desktop/HPflex/Semantic_MPC_Interface/.venv/lib/python3.10/site-packages/buildingmotif/database/table_connection.py:423: SAWarning: Identity map already had an identity for (<class 'buildingmotif.database.tables.DepsAssociation'>, (17,), None), replacing it with newly flushed object.   Are there load operations occurring inside of an event handler within the flush?\n",
      "  self.bm.session.flush()\n",
      "DEBUG:buildingmotif.database.table_connection:Creating depencency from templates with ids: '5' and: '40'\n",
      "/Users/lazlopaul/Desktop/HPflex/Semantic_MPC_Interface/.venv/lib/python3.10/site-packages/buildingmotif/database/table_connection.py:423: SAWarning: Identity map already had an identity for (<class 'buildingmotif.database.tables.DepsAssociation'>, (18,), None), replacing it with newly flushed object.   Are there load operations occurring inside of an event handler within the flush?\n",
      "  self.bm.session.flush()\n",
      "DEBUG:buildingmotif.database.table_connection:Creating depencency from templates with ids: '5' and: '39'\n",
      "/Users/lazlopaul/Desktop/HPflex/Semantic_MPC_Interface/.venv/lib/python3.10/site-packages/buildingmotif/database/table_connection.py:423: SAWarning: Identity map already had an identity for (<class 'buildingmotif.database.tables.DepsAssociation'>, (19,), None), replacing it with newly flushed object.   Are there load operations occurring inside of an event handler within the flush?\n",
      "  self.bm.session.flush()\n",
      "DEBUG:buildingmotif.database.table_connection:Creating depencency from templates with ids: '6' and: '29'\n",
      "/Users/lazlopaul/Desktop/HPflex/Semantic_MPC_Interface/.venv/lib/python3.10/site-packages/buildingmotif/database/table_connection.py:423: SAWarning: Identity map already had an identity for (<class 'buildingmotif.database.tables.DepsAssociation'>, (20,), None), replacing it with newly flushed object.   Are there load operations occurring inside of an event handler within the flush?\n",
      "  self.bm.session.flush()\n",
      "DEBUG:buildingmotif.database.table_connection:Creating depencency from templates with ids: '6' and: '30'\n",
      "/Users/lazlopaul/Desktop/HPflex/Semantic_MPC_Interface/.venv/lib/python3.10/site-packages/buildingmotif/database/table_connection.py:423: SAWarning: Identity map already had an identity for (<class 'buildingmotif.database.tables.DepsAssociation'>, (21,), None), replacing it with newly flushed object.   Are there load operations occurring inside of an event handler within the flush?\n",
      "  self.bm.session.flush()\n",
      "DEBUG:buildingmotif.database.table_connection:Creating depencency from templates with ids: '6' and: '31'\n",
      "/Users/lazlopaul/Desktop/HPflex/Semantic_MPC_Interface/.venv/lib/python3.10/site-packages/buildingmotif/database/table_connection.py:423: SAWarning: Identity map already had an identity for (<class 'buildingmotif.database.tables.DepsAssociation'>, (22,), None), replacing it with newly flushed object.   Are there load operations occurring inside of an event handler within the flush?\n",
      "  self.bm.session.flush()\n",
      "DEBUG:buildingmotif.database.table_connection:Creating depencency from templates with ids: '6' and: '32'\n",
      "/Users/lazlopaul/Desktop/HPflex/Semantic_MPC_Interface/.venv/lib/python3.10/site-packages/buildingmotif/database/table_connection.py:423: SAWarning: Identity map already had an identity for (<class 'buildingmotif.database.tables.DepsAssociation'>, (23,), None), replacing it with newly flushed object.   Are there load operations occurring inside of an event handler within the flush?\n",
      "  self.bm.session.flush()\n",
      "DEBUG:buildingmotif.database.table_connection:Creating depencency from templates with ids: '6' and: '5'\n",
      "/Users/lazlopaul/Desktop/HPflex/Semantic_MPC_Interface/.venv/lib/python3.10/site-packages/buildingmotif/database/table_connection.py:423: SAWarning: Identity map already had an identity for (<class 'buildingmotif.database.tables.DepsAssociation'>, (24,), None), replacing it with newly flushed object.   Are there load operations occurring inside of an event handler within the flush?\n",
      "  self.bm.session.flush()\n",
      "DEBUG:buildingmotif.database.table_connection:Creating depencency from templates with ids: '6' and: '26'\n",
      "/Users/lazlopaul/Desktop/HPflex/Semantic_MPC_Interface/.venv/lib/python3.10/site-packages/buildingmotif/database/table_connection.py:423: SAWarning: Identity map already had an identity for (<class 'buildingmotif.database.tables.DepsAssociation'>, (25,), None), replacing it with newly flushed object.   Are there load operations occurring inside of an event handler within the flush?\n",
      "  self.bm.session.flush()\n",
      "DEBUG:buildingmotif.database.table_connection:Creating depencency from templates with ids: '6' and: '27'\n",
      "/Users/lazlopaul/Desktop/HPflex/Semantic_MPC_Interface/.venv/lib/python3.10/site-packages/buildingmotif/database/table_connection.py:423: SAWarning: Identity map already had an identity for (<class 'buildingmotif.database.tables.DepsAssociation'>, (26,), None), replacing it with newly flushed object.   Are there load operations occurring inside of an event handler within the flush?\n",
      "  self.bm.session.flush()\n",
      "DEBUG:buildingmotif.database.table_connection:Creating depencency from templates with ids: '6' and: '28'\n",
      "/Users/lazlopaul/Desktop/HPflex/Semantic_MPC_Interface/.venv/lib/python3.10/site-packages/buildingmotif/database/table_connection.py:423: SAWarning: Identity map already had an identity for (<class 'buildingmotif.database.tables.DepsAssociation'>, (27,), None), replacing it with newly flushed object.   Are there load operations occurring inside of an event handler within the flush?\n",
      "  self.bm.session.flush()\n",
      "DEBUG:buildingmotif.database.table_connection:Creating depencency from templates with ids: '7' and: '41'\n",
      "/Users/lazlopaul/Desktop/HPflex/Semantic_MPC_Interface/.venv/lib/python3.10/site-packages/buildingmotif/database/table_connection.py:423: SAWarning: Identity map already had an identity for (<class 'buildingmotif.database.tables.DepsAssociation'>, (28,), None), replacing it with newly flushed object.   Are there load operations occurring inside of an event handler within the flush?\n",
      "  self.bm.session.flush()\n",
      "DEBUG:buildingmotif.database.table_connection:Creating depencency from templates with ids: '7' and: '42'\n",
      "/Users/lazlopaul/Desktop/HPflex/Semantic_MPC_Interface/.venv/lib/python3.10/site-packages/buildingmotif/database/table_connection.py:423: SAWarning: Identity map already had an identity for (<class 'buildingmotif.database.tables.DepsAssociation'>, (29,), None), replacing it with newly flushed object.   Are there load operations occurring inside of an event handler within the flush?\n",
      "  self.bm.session.flush()\n",
      "DEBUG:buildingmotif.database.table_connection:Creating depencency from templates with ids: '7' and: '43'\n",
      "/Users/lazlopaul/Desktop/HPflex/Semantic_MPC_Interface/.venv/lib/python3.10/site-packages/buildingmotif/database/table_connection.py:423: SAWarning: Identity map already had an identity for (<class 'buildingmotif.database.tables.DepsAssociation'>, (30,), None), replacing it with newly flushed object.   Are there load operations occurring inside of an event handler within the flush?\n",
      "  self.bm.session.flush()\n",
      "DEBUG:buildingmotif.database.table_connection:Creating depencency from templates with ids: '7' and: '44'\n",
      "/Users/lazlopaul/Desktop/HPflex/Semantic_MPC_Interface/.venv/lib/python3.10/site-packages/buildingmotif/database/table_connection.py:423: SAWarning: Identity map already had an identity for (<class 'buildingmotif.database.tables.DepsAssociation'>, (31,), None), replacing it with newly flushed object.   Are there load operations occurring inside of an event handler within the flush?\n",
      "  self.bm.session.flush()\n",
      "DEBUG:buildingmotif.database.table_connection:Creating depencency from templates with ids: '1' and: '2'\n",
      "DEBUG:buildingmotif.database.table_connection:Creating depencency from templates with ids: '1' and: '3'\n",
      "DEBUG:buildingmotif.database.table_connection:Creating depencency from templates with ids: '1' and: '5'\n",
      "DEBUG:buildingmotif.database.table_connection:Creating depencency from templates with ids: '1' and: '14'\n",
      "DEBUG:buildingmotif.database.table_connection:Creating depencency from templates with ids: '1' and: '15'\n",
      "DEBUG:buildingmotif.database.table_connection:Creating depencency from templates with ids: '1' and: '16'\n",
      "DEBUG:buildingmotif.database.table_connection:Creating depencency from templates with ids: '2' and: '19'\n",
      "DEBUG:buildingmotif.database.table_connection:Creating depencency from templates with ids: '3' and: '19'\n",
      "DEBUG:buildingmotif.database.table_connection:Creating depencency from templates with ids: '3' and: '20'\n",
      "DEBUG:buildingmotif.database.table_connection:Creating depencency from templates with ids: '3' and: '21'\n",
      "DEBUG:buildingmotif.database.table_connection:Creating depencency from templates with ids: '4' and: '22'\n",
      "DEBUG:buildingmotif.database.table_connection:Creating depencency from templates with ids: '4' and: '23'\n",
      "DEBUG:buildingmotif.database.table_connection:Creating depencency from templates with ids: '4' and: '24'\n",
      "DEBUG:buildingmotif.database.table_connection:Creating depencency from templates with ids: '4' and: '25'\n",
      "DEBUG:buildingmotif.database.table_connection:Creating depencency from templates with ids: '5' and: '36'\n",
      "DEBUG:buildingmotif.database.table_connection:Creating depencency from templates with ids: '5' and: '37'\n",
      "DEBUG:buildingmotif.database.table_connection:Creating depencency from templates with ids: '5' and: '38'\n",
      "DEBUG:buildingmotif.database.table_connection:Creating depencency from templates with ids: '5' and: '39'\n",
      "DEBUG:buildingmotif.database.table_connection:Creating depencency from templates with ids: '5' and: '40'\n",
      "DEBUG:buildingmotif.database.table_connection:Creating depencency from templates with ids: '6' and: '5'\n",
      "DEBUG:buildingmotif.database.table_connection:Creating depencency from templates with ids: '6' and: '26'\n",
      "DEBUG:buildingmotif.database.table_connection:Creating depencency from templates with ids: '6' and: '27'\n",
      "DEBUG:buildingmotif.database.table_connection:Creating depencency from templates with ids: '6' and: '28'\n",
      "DEBUG:buildingmotif.database.table_connection:Creating depencency from templates with ids: '6' and: '29'\n",
      "DEBUG:buildingmotif.database.table_connection:Creating depencency from templates with ids: '6' and: '30'\n",
      "DEBUG:buildingmotif.database.table_connection:Creating depencency from templates with ids: '6' and: '31'\n",
      "DEBUG:buildingmotif.database.table_connection:Creating depencency from templates with ids: '6' and: '32'\n",
      "DEBUG:buildingmotif.database.table_connection:Creating depencency from templates with ids: '7' and: '41'\n",
      "DEBUG:buildingmotif.database.table_connection:Creating depencency from templates with ids: '7' and: '42'\n",
      "DEBUG:buildingmotif.database.table_connection:Creating depencency from templates with ids: '7' and: '43'\n",
      "DEBUG:buildingmotif.database.table_connection:Creating depencency from templates with ids: '7' and: '44'\n"
     ]
    }
   ],
   "source": [
    "tmp = Library.load(directory='src/semantic_mpc_interface/templates/brick-templates')"
   ]
  },
  {
   "cell_type": "code",
   "execution_count": 28,
   "id": "4a00915c",
   "metadata": {},
   "outputs": [],
   "source": [
    "zone = tmp.get_template_by_name('hvac-zone')"
   ]
  },
  {
   "cell_type": "code",
   "execution_count": 31,
   "id": "9f9ea5e4",
   "metadata": {},
   "outputs": [
    {
     "data": {
      "text/plain": [
       "(Dependency(_template_id=3, args={'name': 'window_name'}),\n",
       " Dependency(_template_id=5, args={'name': 'tstat_name'}),\n",
       " Dependency(_template_id=14, args={'name': 'name', 'target': 'space_name'}),\n",
       " Dependency(_template_id=15, args={'name': 'tstat_name', 'target': 'name'}),\n",
       " Dependency(_template_id=16, args={'name': 'name', 'target': 'window_name'}))"
      ]
     },
     "execution_count": 31,
     "metadata": {},
     "output_type": "execute_result"
    }
   ],
   "source": [
    "zone.get_dependencies()"
   ]
  },
  {
   "cell_type": "code",
   "execution_count": 32,
   "id": "ecadb964",
   "metadata": {},
   "outputs": [
    {
     "name": "stderr",
     "output_type": "stream",
     "text": [
      "DEBUG:buildingmotif.database.table_connection:Deleting depencency from templates with ids: '1' and: '3'\n",
      "DEBUG:buildingmotif.database.table_connection:Deleting depencency from templates with ids: '1' and: '5'\n",
      "DEBUG:buildingmotif.database.table_connection:Deleting depencency from templates with ids: '1' and: '14'\n",
      "DEBUG:buildingmotif.database.table_connection:Deleting depencency from templates with ids: '1' and: '15'\n",
      "DEBUG:buildingmotif.database.table_connection:Deleting depencency from templates with ids: '1' and: '16'\n"
     ]
    },
    {
     "name": "stdout",
     "output_type": "stream",
     "text": [
      "@prefix brick: <https://brickschema.org/schema/Brick#> .\n",
      "@prefix ns1: <http://qudt.org/schema/qudt/> .\n",
      "@prefix xsd: <http://www.w3.org/2001/XMLSchema#> .\n",
      "\n",
      "<urn:___param___#tstat_name> a brick:Thermostat ;\n",
      "    brick:hasLocation <urn:___param___#name> ;\n",
      "    brick:hasPoint <urn:___param___#tstat_name-active>,\n",
      "        <urn:___param___#tstat_name-setpoint_deadband>,\n",
      "        <urn:___param___#tstat_name-tolerance> ;\n",
      "    brick:operationalStageCount <urn:___param___#tstat_name-stage_count> ;\n",
      "    brick:resolution <urn:___param___#tstat_name-resolution> .\n",
      "\n",
      "<urn:___param___#name> a brick:HVAC_Zone ;\n",
      "    brick:hasPart <urn:___param___#space_name>,\n",
      "        <urn:___param___#window_name> .\n",
      "\n",
      "<urn:___param___#tstat_name-active> a brick:Availability_Status ;\n",
      "    brick:value <urn:___param___#tstat_name-active-value> .\n",
      "\n",
      "<urn:___param___#tstat_name-resolution> ns1:hasUnit <urn:___param___#tstat_name-resolution-unit> ;\n",
      "    ns1:isDeltaQuantity true ;\n",
      "    brick:value <urn:___param___#tstat_name-resolution-value> .\n",
      "\n",
      "<urn:___param___#tstat_name-setpoint_deadband> a brick:Temperature_Deadband_Setpoint ;\n",
      "    ns1:hasQuantityKind <http://qudt.org/vocab/quantitykind/Temperature> ;\n",
      "    ns1:hasUnit <urn:___param___#tstat_name-setpoint_deadband-unit> ;\n",
      "    ns1:isDeltaQuantity true ;\n",
      "    brick:value <urn:___param___#tstat_name-setpoint_deadband-value> .\n",
      "\n",
      "<urn:___param___#tstat_name-stage_count> ns1:hasQuantityKind <http://qudt.org/vocab/quantitykind/Count> ;\n",
      "    ns1:hasUnit <http://qudt.org/vocab/unit/NUM> ;\n",
      "    brick:value <urn:___param___#tstat_name-stage_count-value> .\n",
      "\n",
      "<urn:___param___#tstat_name-tolerance> a brick:Temperature_Tolerance_Parameter ;\n",
      "    ns1:hasQuantityKind <http://qudt.org/vocab/quantitykind/Temperature> ;\n",
      "    ns1:hasUnit <urn:___param___#tstat_name-tolerance-unit> ;\n",
      "    ns1:isDeltaQuantity true ;\n",
      "    brick:value <urn:___param___#tstat_name-tolerance-value> .\n",
      "\n",
      "\n",
      "@prefix brick: <https://brickschema.org/schema/Brick#> .\n",
      "\n",
      "<urn:___param___#tstat_name> brick:hasLocation <urn:___param___#name> .\n",
      "\n",
      "<urn:___param___#name> a brick:HVAC_Zone ;\n",
      "    brick:hasPart <urn:___param___#space_name>,\n",
      "        <urn:___param___#window_name> .\n",
      "\n",
      "\n",
      "@prefix brick: <https://brickschema.org/schema/Brick#> .\n",
      "\n",
      "<urn:___param___#tstat_name> brick:hasLocation <urn:___param___#name> .\n",
      "\n",
      "<urn:___param___#name> a brick:HVAC_Zone ;\n",
      "    brick:hasPart <urn:___param___#window_name> .\n",
      "\n",
      "\n",
      "@prefix brick: <https://brickschema.org/schema/Brick#> .\n",
      "\n",
      "<urn:___param___#name> a brick:HVAC_Zone ;\n",
      "    brick:hasPart <urn:___param___#window_name> .\n",
      "\n",
      "\n",
      "@prefix brick: <https://brickschema.org/schema/Brick#> .\n",
      "\n",
      "<urn:___param___#name> a brick:HVAC_Zone .\n",
      "\n",
      "\n"
     ]
    }
   ],
   "source": [
    "for dependency in zone.get_dependencies():\n",
    "    zone.remove_dependency(dependency.template)\n",
    "    print(zone.inline_dependencies().body.serialize(format = 'ttl'))"
   ]
  },
  {
   "cell_type": "code",
   "execution_count": 35,
   "id": "7a0afa2f",
   "metadata": {},
   "outputs": [
    {
     "name": "stderr",
     "output_type": "stream",
     "text": [
      "DEBUG:buildingmotif.database.table_connection:Deleting depencency from templates with ids: '5' and: '36'\n",
      "DEBUG:buildingmotif.database.table_connection:Deleting depencency from templates with ids: '5' and: '37'\n",
      "DEBUG:buildingmotif.database.table_connection:Deleting depencency from templates with ids: '5' and: '38'\n",
      "DEBUG:buildingmotif.database.table_connection:Deleting depencency from templates with ids: '5' and: '39'\n",
      "DEBUG:buildingmotif.database.table_connection:Deleting depencency from templates with ids: '5' and: '40'\n"
     ]
    },
    {
     "name": "stdout",
     "output_type": "stream",
     "text": [
      "@prefix brick: <https://brickschema.org/schema/Brick#> .\n",
      "@prefix ns1: <http://qudt.org/schema/qudt/> .\n",
      "@prefix xsd: <http://www.w3.org/2001/XMLSchema#> .\n",
      "\n",
      "<urn:___param___#name> a brick:Thermostat ;\n",
      "    brick:hasPoint <urn:___param___#active>,\n",
      "        <urn:___param___#setpoint_deadband>,\n",
      "        <urn:___param___#tolerance> ;\n",
      "    brick:operationalStageCount <urn:___param___#stage_count> ;\n",
      "    brick:resolution <urn:___param___#resolution> .\n",
      "\n",
      "<urn:___param___#active> a brick:Availability_Status ;\n",
      "    brick:value <urn:___param___#active-value> .\n",
      "\n",
      "<urn:___param___#resolution> ns1:hasUnit <urn:___param___#resolution-unit> ;\n",
      "    ns1:isDeltaQuantity true ;\n",
      "    brick:value <urn:___param___#resolution-value> .\n",
      "\n",
      "<urn:___param___#setpoint_deadband> a brick:Temperature_Deadband_Setpoint ;\n",
      "    ns1:hasQuantityKind <http://qudt.org/vocab/quantitykind/Temperature> ;\n",
      "    ns1:hasUnit <urn:___param___#setpoint_deadband-unit> ;\n",
      "    ns1:isDeltaQuantity true ;\n",
      "    brick:value <urn:___param___#setpoint_deadband-value> .\n",
      "\n",
      "<urn:___param___#tolerance> a brick:Temperature_Tolerance_Parameter ;\n",
      "    ns1:hasQuantityKind <http://qudt.org/vocab/quantitykind/Temperature> ;\n",
      "    ns1:hasUnit <urn:___param___#tolerance-unit> ;\n",
      "    ns1:isDeltaQuantity true ;\n",
      "    brick:value <urn:___param___#tolerance-value> .\n",
      "\n",
      "\n",
      "@prefix brick: <https://brickschema.org/schema/Brick#> .\n",
      "@prefix ns1: <http://qudt.org/schema/qudt/> .\n",
      "@prefix xsd: <http://www.w3.org/2001/XMLSchema#> .\n",
      "\n",
      "<urn:___param___#name> a brick:Thermostat ;\n",
      "    brick:hasPoint <urn:___param___#active>,\n",
      "        <urn:___param___#setpoint_deadband>,\n",
      "        <urn:___param___#tolerance> ;\n",
      "    brick:operationalStageCount <urn:___param___#stage_count> ;\n",
      "    brick:resolution <urn:___param___#resolution> .\n",
      "\n",
      "<urn:___param___#active> a brick:Availability_Status ;\n",
      "    brick:value <urn:___param___#active-value> .\n",
      "\n",
      "<urn:___param___#resolution> ns1:hasUnit <urn:___param___#resolution-unit> ;\n",
      "    ns1:isDeltaQuantity true ;\n",
      "    brick:value <urn:___param___#resolution-value> .\n",
      "\n",
      "<urn:___param___#tolerance> a brick:Temperature_Tolerance_Parameter ;\n",
      "    ns1:hasQuantityKind <http://qudt.org/vocab/quantitykind/Temperature> ;\n",
      "    ns1:hasUnit <urn:___param___#tolerance-unit> ;\n",
      "    ns1:isDeltaQuantity true ;\n",
      "    brick:value <urn:___param___#tolerance-value> .\n",
      "\n",
      "\n",
      "@prefix brick: <https://brickschema.org/schema/Brick#> .\n",
      "@prefix ns1: <http://qudt.org/schema/qudt/> .\n",
      "@prefix xsd: <http://www.w3.org/2001/XMLSchema#> .\n",
      "\n",
      "<urn:___param___#name> a brick:Thermostat ;\n",
      "    brick:hasPoint <urn:___param___#active>,\n",
      "        <urn:___param___#setpoint_deadband>,\n",
      "        <urn:___param___#tolerance> ;\n",
      "    brick:operationalStageCount <urn:___param___#stage_count> ;\n",
      "    brick:resolution <urn:___param___#resolution> .\n",
      "\n",
      "<urn:___param___#active> a brick:Availability_Status ;\n",
      "    brick:value <urn:___param___#active-value> .\n",
      "\n",
      "<urn:___param___#resolution> ns1:hasUnit <urn:___param___#resolution-unit> ;\n",
      "    ns1:isDeltaQuantity true ;\n",
      "    brick:value <urn:___param___#resolution-value> .\n",
      "\n",
      "\n",
      "@prefix brick: <https://brickschema.org/schema/Brick#> .\n",
      "\n",
      "<urn:___param___#name> a brick:Thermostat ;\n",
      "    brick:hasPoint <urn:___param___#active>,\n",
      "        <urn:___param___#setpoint_deadband>,\n",
      "        <urn:___param___#tolerance> ;\n",
      "    brick:operationalStageCount <urn:___param___#stage_count> ;\n",
      "    brick:resolution <urn:___param___#resolution> .\n",
      "\n",
      "<urn:___param___#active> a brick:Availability_Status ;\n",
      "    brick:value <urn:___param___#active-value> .\n",
      "\n",
      "\n",
      "@prefix brick: <https://brickschema.org/schema/Brick#> .\n",
      "\n",
      "<urn:___param___#name> a brick:Thermostat ;\n",
      "    brick:hasPoint <urn:___param___#active>,\n",
      "        <urn:___param___#setpoint_deadband>,\n",
      "        <urn:___param___#tolerance> ;\n",
      "    brick:operationalStageCount <urn:___param___#stage_count> ;\n",
      "    brick:resolution <urn:___param___#resolution> .\n",
      "\n",
      "\n"
     ]
    }
   ],
   "source": [
    "tstat = tmp.get_template_by_name('tstat')\n",
    "for dependency in tstat.get_dependencies():\n",
    "    tstat.remove_dependency(dependency.template)\n",
    "    print(tstat.inline_dependencies().body.serialize(format = 'ttl'))"
   ]
  },
  {
   "cell_type": "code",
   "execution_count": 13,
   "id": "09177e4b",
   "metadata": {},
   "outputs": [],
   "source": [
    "zone_in = zone.inline_dependencies()"
   ]
  },
  {
   "cell_type": "code",
   "execution_count": 14,
   "id": "f766fdaa",
   "metadata": {},
   "outputs": [
    {
     "data": {
      "text/plain": [
       "{'name',\n",
       " 'space_name',\n",
       " 'tstat_name',\n",
       " 'tstat_name-active',\n",
       " 'tstat_name-active-value',\n",
       " 'tstat_name-resolution',\n",
       " 'tstat_name-resolution-unit',\n",
       " 'tstat_name-resolution-value',\n",
       " 'tstat_name-setpoint_deadband',\n",
       " 'tstat_name-setpoint_deadband-unit',\n",
       " 'tstat_name-setpoint_deadband-value',\n",
       " 'tstat_name-stage_count',\n",
       " 'tstat_name-stage_count-value',\n",
       " 'tstat_name-tolerance',\n",
       " 'tstat_name-tolerance-unit',\n",
       " 'tstat_name-tolerance-value',\n",
       " 'window_name',\n",
       " 'window_name-area_name',\n",
       " 'window_name-area_unit',\n",
       " 'window_name-area_value',\n",
       " 'window_name-azimuth_name',\n",
       " 'window_name-azimuth_value',\n",
       " 'window_name-tilt_name',\n",
       " 'window_name-tilt_value'}"
      ]
     },
     "metadata": {},
     "output_type": "display_data"
    }
   ],
   "source": [
    "display(zone_in.all_parameters)"
   ]
  },
  {
   "cell_type": "code",
   "execution_count": 15,
   "id": "b6fb4353",
   "metadata": {},
   "outputs": [
    {
     "name": "stdout",
     "output_type": "stream",
     "text": [
      "@prefix brick: <https://brickschema.org/schema/Brick#> .\n",
      "@prefix ns1: <http://qudt.org/schema/qudt/> .\n",
      "@prefix xsd: <http://www.w3.org/2001/XMLSchema#> .\n",
      "\n",
      "<urn:___param___#tstat_name> a brick:Thermostat ;\n",
      "    brick:hasLocation <urn:___param___#name> ;\n",
      "    brick:hasPoint <urn:___param___#tstat_name-active>,\n",
      "        <urn:___param___#tstat_name-setpoint_deadband>,\n",
      "        <urn:___param___#tstat_name-tolerance> ;\n",
      "    brick:operationalStageCount <urn:___param___#tstat_name-stage_count> ;\n",
      "    brick:resolution <urn:___param___#tstat_name-resolution> .\n",
      "\n",
      "<urn:___param___#name> a brick:HVAC_Zone ;\n",
      "    brick:hasPart <urn:___param___#space_name>,\n",
      "        <urn:___param___#window_name> .\n",
      "\n",
      "<urn:___param___#tstat_name-active> a brick:Availability_Status ;\n",
      "    brick:value <urn:___param___#tstat_name-active-value> .\n",
      "\n",
      "<urn:___param___#tstat_name-resolution> ns1:hasUnit <urn:___param___#tstat_name-resolution-unit> ;\n",
      "    ns1:isDeltaQuantity true ;\n",
      "    brick:value <urn:___param___#tstat_name-resolution-value> .\n",
      "\n",
      "<urn:___param___#tstat_name-setpoint_deadband> a brick:Temperature_Deadband_Setpoint ;\n",
      "    ns1:hasQuantityKind <http://qudt.org/vocab/quantitykind/Temperature> ;\n",
      "    ns1:hasUnit <urn:___param___#tstat_name-setpoint_deadband-unit> ;\n",
      "    ns1:isDeltaQuantity true ;\n",
      "    brick:value <urn:___param___#tstat_name-setpoint_deadband-value> .\n",
      "\n",
      "<urn:___param___#tstat_name-stage_count> ns1:hasQuantityKind <http://qudt.org/vocab/quantitykind/Count> ;\n",
      "    ns1:hasUnit <http://qudt.org/vocab/unit/NUM> ;\n",
      "    brick:value <urn:___param___#tstat_name-stage_count-value> .\n",
      "\n",
      "<urn:___param___#tstat_name-tolerance> a brick:Temperature_Tolerance_Parameter ;\n",
      "    ns1:hasQuantityKind <http://qudt.org/vocab/quantitykind/Temperature> ;\n",
      "    ns1:hasUnit <urn:___param___#tstat_name-tolerance-unit> ;\n",
      "    ns1:isDeltaQuantity true ;\n",
      "    brick:value <urn:___param___#tstat_name-tolerance-value> .\n",
      "\n",
      "<urn:___param___#window_name> a brick:Window ;\n",
      "    brick:area <urn:___param___#window_name-area_name> ;\n",
      "    brick:azimuth <urn:___param___#window_name-azimuth_name> ;\n",
      "    brick:tilt <urn:___param___#window_name-tilt_name> .\n",
      "\n",
      "<urn:___param___#window_name-area_name> ns1:hasQuantityKind <http://qudt.org/vocab/quantitykind/Area> ;\n",
      "    ns1:hasUnit <urn:___param___#window_name-area_unit> ;\n",
      "    brick:value <urn:___param___#window_name-area_value> .\n",
      "\n",
      "<urn:___param___#window_name-azimuth_name> ns1:hasQuantityKind <http://qudt.org/vocab/quantitykind/Azimuth> ;\n",
      "    ns1:hasUnit <http://qudt.org/vocab/unit/Degree> ;\n",
      "    brick:value <urn:___param___#window_name-azimuth_value> .\n",
      "\n",
      "<urn:___param___#window_name-tilt_name> ns1:hasQuantityKind <http://qudt.org/vocab/quantitykind/Tilt> ;\n",
      "    ns1:hasUnit <http://qudt.org/vocab/unit/Degree> ;\n",
      "    brick:value <urn:___param___#window_name-tilt_value> .\n",
      "\n",
      "\n"
     ]
    }
   ],
   "source": [
    "print(zone_in.body.serialize(format = 'ttl'))"
   ]
  },
  {
   "cell_type": "code",
   "execution_count": 16,
   "id": "6e025839",
   "metadata": {},
   "outputs": [],
   "source": [
    "def get_var_name(graph, node):\n",
    "    pre, ns, local = graph.compute_qname(node)\n",
    "    if PARAM == ns:\n",
    "        q_n = f\"?{local}\".replace('-','_')\n",
    "    else:\n",
    "        q_n = convert_to_prefixed(node, graph).replace('-','_')\n",
    "    return q_n"
   ]
  },
  {
   "cell_type": "code",
   "execution_count": 17,
   "id": "66697be5",
   "metadata": {},
   "outputs": [],
   "source": [
    "def make_where(graph):\n",
    "    where = []\n",
    "    for s,p,o in graph.triples((None,None,None)):\n",
    "        # print(s,p,o)\n",
    "        qs = get_var_name(graph, s)\n",
    "        qo = get_var_name(graph, o)\n",
    "        qp = convert_to_prefixed(p, graph).replace('-','_')\n",
    "        where.append(f\"{qs} {qp} {qo} .\")\n",
    "    return \"\\n\".join(where)"
   ]
  },
  {
   "cell_type": "code",
   "execution_count": 18,
   "id": "c5fded6c",
   "metadata": {},
   "outputs": [],
   "source": [
    "def get_query(graph):\n",
    "     where = make_where(graph)\n",
    "     prefixes = get_prefixes(graph)\n",
    "     query = f\"\"\"{prefixes}\\nSELECT DISTINCT * WHERE {{ {where} }}\"\"\"\n",
    "     return query"
   ]
  },
  {
   "cell_type": "code",
   "execution_count": 19,
   "id": "cf27f333",
   "metadata": {},
   "outputs": [
    {
     "ename": "ValueError",
     "evalue": "Can't split 'true'",
     "output_type": "error",
     "traceback": [
      "\u001b[0;31m---------------------------------------------------------------------------\u001b[0m",
      "\u001b[0;31mValueError\u001b[0m                                Traceback (most recent call last)",
      "Cell \u001b[0;32mIn[19], line 1\u001b[0m\n\u001b[0;32m----> 1\u001b[0m query \u001b[38;5;241m=\u001b[39m \u001b[43mget_query\u001b[49m\u001b[43m(\u001b[49m\u001b[43mzone_in\u001b[49m\u001b[38;5;241;43m.\u001b[39;49m\u001b[43mbody\u001b[49m\u001b[43m)\u001b[49m\n",
      "Cell \u001b[0;32mIn[18], line 2\u001b[0m, in \u001b[0;36mget_query\u001b[0;34m(graph)\u001b[0m\n\u001b[1;32m      1\u001b[0m \u001b[38;5;28;01mdef\u001b[39;00m\u001b[38;5;250m \u001b[39m\u001b[38;5;21mget_query\u001b[39m(graph):\n\u001b[0;32m----> 2\u001b[0m      where \u001b[38;5;241m=\u001b[39m \u001b[43mmake_where\u001b[49m\u001b[43m(\u001b[49m\u001b[43mgraph\u001b[49m\u001b[43m)\u001b[49m\n\u001b[1;32m      3\u001b[0m      prefixes \u001b[38;5;241m=\u001b[39m get_prefixes(graph)\n\u001b[1;32m      4\u001b[0m      query \u001b[38;5;241m=\u001b[39m \u001b[38;5;124mf\u001b[39m\u001b[38;5;124m\"\"\"\u001b[39m\u001b[38;5;132;01m{\u001b[39;00mprefixes\u001b[38;5;132;01m}\u001b[39;00m\u001b[38;5;130;01m\\n\u001b[39;00m\u001b[38;5;124mSELECT DISTINCT * WHERE \u001b[39m\u001b[38;5;130;01m{{\u001b[39;00m\u001b[38;5;124m \u001b[39m\u001b[38;5;132;01m{\u001b[39;00mwhere\u001b[38;5;132;01m}\u001b[39;00m\u001b[38;5;124m \u001b[39m\u001b[38;5;130;01m}}\u001b[39;00m\u001b[38;5;124m\"\"\"\u001b[39m\n",
      "Cell \u001b[0;32mIn[17], line 6\u001b[0m, in \u001b[0;36mmake_where\u001b[0;34m(graph)\u001b[0m\n\u001b[1;32m      3\u001b[0m \u001b[38;5;28;01mfor\u001b[39;00m s,p,o \u001b[38;5;129;01min\u001b[39;00m graph\u001b[38;5;241m.\u001b[39mtriples((\u001b[38;5;28;01mNone\u001b[39;00m,\u001b[38;5;28;01mNone\u001b[39;00m,\u001b[38;5;28;01mNone\u001b[39;00m)):\n\u001b[1;32m      4\u001b[0m     \u001b[38;5;66;03m# print(s,p,o)\u001b[39;00m\n\u001b[1;32m      5\u001b[0m     qs \u001b[38;5;241m=\u001b[39m get_var_name(graph, s)\n\u001b[0;32m----> 6\u001b[0m     qo \u001b[38;5;241m=\u001b[39m \u001b[43mget_var_name\u001b[49m\u001b[43m(\u001b[49m\u001b[43mgraph\u001b[49m\u001b[43m,\u001b[49m\u001b[43m \u001b[49m\u001b[43mo\u001b[49m\u001b[43m)\u001b[49m\n\u001b[1;32m      7\u001b[0m     qp \u001b[38;5;241m=\u001b[39m convert_to_prefixed(p, graph)\u001b[38;5;241m.\u001b[39mreplace(\u001b[38;5;124m'\u001b[39m\u001b[38;5;124m-\u001b[39m\u001b[38;5;124m'\u001b[39m,\u001b[38;5;124m'\u001b[39m\u001b[38;5;124m_\u001b[39m\u001b[38;5;124m'\u001b[39m)\n\u001b[1;32m      8\u001b[0m     where\u001b[38;5;241m.\u001b[39mappend(\u001b[38;5;124mf\u001b[39m\u001b[38;5;124m\"\u001b[39m\u001b[38;5;132;01m{\u001b[39;00mqs\u001b[38;5;132;01m}\u001b[39;00m\u001b[38;5;124m \u001b[39m\u001b[38;5;132;01m{\u001b[39;00mqp\u001b[38;5;132;01m}\u001b[39;00m\u001b[38;5;124m \u001b[39m\u001b[38;5;132;01m{\u001b[39;00mqo\u001b[38;5;132;01m}\u001b[39;00m\u001b[38;5;124m .\u001b[39m\u001b[38;5;124m\"\u001b[39m)\n",
      "Cell \u001b[0;32mIn[16], line 2\u001b[0m, in \u001b[0;36mget_var_name\u001b[0;34m(graph, node)\u001b[0m\n\u001b[1;32m      1\u001b[0m \u001b[38;5;28;01mdef\u001b[39;00m\u001b[38;5;250m \u001b[39m\u001b[38;5;21mget_var_name\u001b[39m(graph, node):\n\u001b[0;32m----> 2\u001b[0m     pre, ns, local \u001b[38;5;241m=\u001b[39m \u001b[43mgraph\u001b[49m\u001b[38;5;241;43m.\u001b[39;49m\u001b[43mcompute_qname\u001b[49m\u001b[43m(\u001b[49m\u001b[43mnode\u001b[49m\u001b[43m)\u001b[49m\n\u001b[1;32m      3\u001b[0m     \u001b[38;5;28;01mif\u001b[39;00m PARAM \u001b[38;5;241m==\u001b[39m ns:\n\u001b[1;32m      4\u001b[0m         q_n \u001b[38;5;241m=\u001b[39m \u001b[38;5;124mf\u001b[39m\u001b[38;5;124m\"\u001b[39m\u001b[38;5;124m?\u001b[39m\u001b[38;5;132;01m{\u001b[39;00mlocal\u001b[38;5;132;01m}\u001b[39;00m\u001b[38;5;124m\"\u001b[39m\u001b[38;5;241m.\u001b[39mreplace(\u001b[38;5;124m'\u001b[39m\u001b[38;5;124m-\u001b[39m\u001b[38;5;124m'\u001b[39m,\u001b[38;5;124m'\u001b[39m\u001b[38;5;124m_\u001b[39m\u001b[38;5;124m'\u001b[39m)\n",
      "File \u001b[0;32m~/Desktop/HPflex/Semantic_MPC_Interface/.venv/lib/python3.10/site-packages/rdflib/graph.py:1241\u001b[0m, in \u001b[0;36mGraph.compute_qname\u001b[0;34m(self, uri, generate)\u001b[0m\n\u001b[1;32m   1240\u001b[0m \u001b[38;5;28;01mdef\u001b[39;00m\u001b[38;5;250m \u001b[39m\u001b[38;5;21mcompute_qname\u001b[39m(\u001b[38;5;28mself\u001b[39m, uri: \u001b[38;5;28mstr\u001b[39m, generate: \u001b[38;5;28mbool\u001b[39m \u001b[38;5;241m=\u001b[39m \u001b[38;5;28;01mTrue\u001b[39;00m) \u001b[38;5;241m-\u001b[39m\u001b[38;5;241m>\u001b[39m Tuple[\u001b[38;5;28mstr\u001b[39m, URIRef, \u001b[38;5;28mstr\u001b[39m]:\n\u001b[0;32m-> 1241\u001b[0m     \u001b[38;5;28;01mreturn\u001b[39;00m \u001b[38;5;28;43mself\u001b[39;49m\u001b[38;5;241;43m.\u001b[39;49m\u001b[43mnamespace_manager\u001b[49m\u001b[38;5;241;43m.\u001b[39;49m\u001b[43mcompute_qname\u001b[49m\u001b[43m(\u001b[49m\u001b[43muri\u001b[49m\u001b[43m,\u001b[49m\u001b[43m \u001b[49m\u001b[43mgenerate\u001b[49m\u001b[43m)\u001b[49m\n",
      "File \u001b[0;32m~/Desktop/HPflex/Semantic_MPC_Interface/.venv/lib/python3.10/site-packages/rdflib/namespace/__init__.py:614\u001b[0m, in \u001b[0;36mNamespaceManager.compute_qname\u001b[0;34m(self, uri, generate)\u001b[0m\n\u001b[1;32m    612\u001b[0m     name \u001b[38;5;241m=\u001b[39m \u001b[38;5;124m\"\u001b[39m\u001b[38;5;124m\"\u001b[39m  \u001b[38;5;66;03m# empty prefix case, safe since not prefix is error\u001b[39;00m\n\u001b[1;32m    613\u001b[0m     \u001b[38;5;28;01mif\u001b[39;00m \u001b[38;5;129;01mnot\u001b[39;00m prefix:\n\u001b[0;32m--> 614\u001b[0m         \u001b[38;5;28;01mraise\u001b[39;00m e\n\u001b[1;32m    615\u001b[0m \u001b[38;5;28;01mif\u001b[39;00m namespace \u001b[38;5;129;01mnot\u001b[39;00m \u001b[38;5;129;01min\u001b[39;00m \u001b[38;5;28mself\u001b[39m\u001b[38;5;241m.\u001b[39m__strie:\n\u001b[1;32m    616\u001b[0m     insert_strie(\u001b[38;5;28mself\u001b[39m\u001b[38;5;241m.\u001b[39m__strie, \u001b[38;5;28mself\u001b[39m\u001b[38;5;241m.\u001b[39m__trie, namespace)\n",
      "File \u001b[0;32m~/Desktop/HPflex/Semantic_MPC_Interface/.venv/lib/python3.10/site-packages/rdflib/namespace/__init__.py:608\u001b[0m, in \u001b[0;36mNamespaceManager.compute_qname\u001b[0;34m(self, uri, generate)\u001b[0m\n\u001b[1;32m    601\u001b[0m     \u001b[38;5;28;01mraise\u001b[39;00m \u001b[38;5;167;01mValueError\u001b[39;00m(\n\u001b[1;32m    602\u001b[0m         \u001b[38;5;124m'\u001b[39m\u001b[38;5;124m\"\u001b[39m\u001b[38;5;132;01m{}\u001b[39;00m\u001b[38;5;124m\"\u001b[39m\u001b[38;5;124m does not look like a valid URI, cannot serialize this. Did you want to urlencode it?\u001b[39m\u001b[38;5;124m'\u001b[39m\u001b[38;5;241m.\u001b[39mformat(\n\u001b[1;32m    603\u001b[0m             uri\n\u001b[1;32m    604\u001b[0m         )\n\u001b[1;32m    605\u001b[0m     )\n\u001b[1;32m    607\u001b[0m \u001b[38;5;28;01mtry\u001b[39;00m:\n\u001b[0;32m--> 608\u001b[0m     namespace, name \u001b[38;5;241m=\u001b[39m \u001b[43msplit_uri\u001b[49m\u001b[43m(\u001b[49m\u001b[43muri\u001b[49m\u001b[43m)\u001b[49m\n\u001b[1;32m    609\u001b[0m \u001b[38;5;28;01mexcept\u001b[39;00m \u001b[38;5;167;01mValueError\u001b[39;00m \u001b[38;5;28;01mas\u001b[39;00m e:\n\u001b[1;32m    610\u001b[0m     namespace \u001b[38;5;241m=\u001b[39m URIRef(uri)\n",
      "File \u001b[0;32m~/Desktop/HPflex/Semantic_MPC_Interface/.venv/lib/python3.10/site-packages/rdflib/namespace/__init__.py:915\u001b[0m, in \u001b[0;36msplit_uri\u001b[0;34m(uri, split_start)\u001b[0m\n\u001b[1;32m    913\u001b[0m                 \u001b[38;5;28;01mreturn\u001b[39;00m (ns, ln)\n\u001b[1;32m    914\u001b[0m         \u001b[38;5;28;01mbreak\u001b[39;00m\n\u001b[0;32m--> 915\u001b[0m \u001b[38;5;28;01mraise\u001b[39;00m \u001b[38;5;167;01mValueError\u001b[39;00m(\u001b[38;5;124m\"\u001b[39m\u001b[38;5;124mCan\u001b[39m\u001b[38;5;124m'\u001b[39m\u001b[38;5;124mt split \u001b[39m\u001b[38;5;124m'\u001b[39m\u001b[38;5;132;01m{}\u001b[39;00m\u001b[38;5;124m'\u001b[39m\u001b[38;5;124m\"\u001b[39m\u001b[38;5;241m.\u001b[39mformat(uri))\n",
      "\u001b[0;31mValueError\u001b[0m: Can't split 'true'"
     ]
    }
   ],
   "source": [
    "query = get_query(zone_in.body)"
   ]
  },
  {
   "cell_type": "code",
   "execution_count": null,
   "id": "c4845dca",
   "metadata": {},
   "outputs": [
    {
     "name": "stdout",
     "output_type": "stream",
     "text": [
      "PREFIX brick: <https://brickschema.org/schema/Brick#>\n",
      "PREFIX csvw: <http://www.w3.org/ns/csvw#>\n",
      "PREFIX dc: <http://purl.org/dc/elements/1.1/>\n",
      "PREFIX dcat: <http://www.w3.org/ns/dcat#>\n",
      "PREFIX dcmitype: <http://purl.org/dc/dcmitype/>\n",
      "PREFIX dcterms: <http://purl.org/dc/terms/>\n",
      "PREFIX dcam: <http://purl.org/dc/dcam/>\n",
      "PREFIX doap: <http://usefulinc.com/ns/doap#>\n",
      "PREFIX foaf: <http://xmlns.com/foaf/0.1/>\n",
      "PREFIX geo: <http://www.opengis.net/ont/geosparql#>\n",
      "PREFIX odrl: <http://www.w3.org/ns/odrl/2/>\n",
      "PREFIX org: <http://www.w3.org/ns/org#>\n",
      "PREFIX prof: <http://www.w3.org/ns/dx/prof/>\n",
      "PREFIX prov: <http://www.w3.org/ns/prov#>\n",
      "PREFIX qb: <http://purl.org/linked-data/cube#>\n",
      "PREFIX schema: <https://schema.org/>\n",
      "PREFIX sh: <http://www.w3.org/ns/shacl#>\n",
      "PREFIX skos: <http://www.w3.org/2004/02/skos/core#>\n",
      "PREFIX sosa: <http://www.w3.org/ns/sosa/>\n",
      "PREFIX ssn: <http://www.w3.org/ns/ssn/>\n",
      "PREFIX time: <http://www.w3.org/2006/time#>\n",
      "PREFIX vann: <http://purl.org/vocab/vann/>\n",
      "PREFIX void: <http://rdfs.org/ns/void#>\n",
      "PREFIX wgs: <https://www.w3.org/2003/01/geo/wgs84_pos#>\n",
      "PREFIX owl: <http://www.w3.org/2002/07/owl#>\n",
      "PREFIX rdf: <http://www.w3.org/1999/02/22-rdf-syntax-ns#>\n",
      "PREFIX rdfs: <http://www.w3.org/2000/01/rdf-schema#>\n",
      "PREFIX xsd: <http://www.w3.org/2001/XMLSchema#>\n",
      "PREFIX xml: <http://www.w3.org/XML/1998/namespace>\n",
      "PREFIX ns1: <http://qudt.org/schema/qudt/>\n",
      "PREFIX ns2: <urn:___param___#>\n",
      "PREFIX ns3: <http://qudt.org/vocab/unit/>\n",
      "PREFIX ns4: <http://qudt.org/vocab/quantitykind/>\n",
      "SELECT DISTINCT * WHERE { ?space_name_area_name brick:value ?space_name_area_value .\n",
      "?window_name_azimuth_name ns1:hasUnit ns3:Degree .\n",
      "?space_name rdf:type brick:Space .\n",
      "?window_name rdf:type brick:Window .\n",
      "?space_name_area_name ns1:hasQuantityKind ns4:Area .\n",
      "?space_name brick:area ?space_name_area_name .\n",
      "?window_name_azimuth_name brick:value ?window_name_azimuth_value .\n",
      "?window_name_area_name ns1:hasUnit ?window_name_area_unit .\n",
      "?name brick:hasPart ?window_name .\n",
      "?name rdf:type brick:HVAC_Zone .\n",
      "?window_name brick:area ?window_name_area_name .\n",
      "?name brick:hasPart ?space_name .\n",
      "?window_name_area_name ns1:hasQuantityKind ns4:Area .\n",
      "?space_name_area_name ns1:hasUnit ?space_name_area_unit .\n",
      "?window_name brick:tilt ?window_name_tilt_name .\n",
      "?window_name_azimuth_name ns1:hasQuantityKind ns4:Azimuth .\n",
      "?window_name_tilt_name ns1:hasUnit ns3:Degree .\n",
      "?window_name brick:azimuth ?window_name_azimuth_name .\n",
      "?window_name_area_name brick:value ?window_name_area_value .\n",
      "?window_name_tilt_name ns1:hasQuantityKind ns4:Tilt .\n",
      "?window_name_tilt_name brick:value ?window_name_tilt_value . }\n"
     ]
    }
   ],
   "source": [
    "print(query)"
   ]
  },
  {
   "cell_type": "code",
   "execution_count": null,
   "id": "e5ab2c33",
   "metadata": {},
   "outputs": [
    {
     "data": {
      "text/plain": [
       "<Graph identifier=N9df3c768776b45eeabf4508bc48554b3 (<class 'rdflib.graph.Graph'>)>"
      ]
     },
     "execution_count": 18,
     "metadata": {},
     "output_type": "execute_result"
    }
   ],
   "source": [
    "g = Graph()\n",
    "g.parse('tutorial/bldg2.ttl')"
   ]
  },
  {
   "cell_type": "code",
   "execution_count": null,
   "id": "1341337d",
   "metadata": {},
   "outputs": [],
   "source": [
    "df = query_to_df(query, g)"
   ]
  },
  {
   "cell_type": "code",
   "execution_count": null,
   "id": "58116d40",
   "metadata": {},
   "outputs": [],
   "source": [
    "class Value:\n",
    "    unit: str\n",
    "    value: float"
   ]
  },
  {
   "cell_type": "code",
   "execution_count": null,
   "id": "a094a4f1",
   "metadata": {},
   "outputs": [
    {
     "data": {
      "application/vnd.microsoft.datawrangler.viewer.v0+json": {
       "columns": [
        {
         "name": "index",
         "rawType": "int64",
         "type": "integer"
        },
        {
         "name": "space_name_area_value",
         "rawType": "object",
         "type": "string"
        },
        {
         "name": "window_name_azimuth_value",
         "rawType": "object",
         "type": "string"
        },
        {
         "name": "space_name_area_name",
         "rawType": "object",
         "type": "string"
        },
        {
         "name": "window_name_tilt_value",
         "rawType": "object",
         "type": "string"
        },
        {
         "name": "space_name_area_unit",
         "rawType": "object",
         "type": "string"
        },
        {
         "name": "window_name_azimuth_name",
         "rawType": "object",
         "type": "string"
        },
        {
         "name": "window_name_area_name",
         "rawType": "object",
         "type": "string"
        },
        {
         "name": "window_name_area_unit",
         "rawType": "object",
         "type": "string"
        },
        {
         "name": "space_name",
         "rawType": "object",
         "type": "string"
        },
        {
         "name": "name",
         "rawType": "object",
         "type": "string"
        },
        {
         "name": "window_name_tilt_name",
         "rawType": "object",
         "type": "string"
        },
        {
         "name": "window_name_area_value",
         "rawType": "object",
         "type": "string"
        },
        {
         "name": "window_name",
         "rawType": "object",
         "type": "string"
        }
       ],
       "ref": "f284720f-607d-4843-a7b5-622f8d3d9092",
       "rows": [
        [
         "0",
         "1500.0",
         "180.0",
         "urn:hpflex/hpflex_demo#space_1_1_area",
         "90.0",
         "unit:FT2",
         "urn:hpflex/hpflex_demo#window_1_1_azimuth",
         "urn:hpflex/hpflex_demo#window_1_1_area",
         "unit:FT2",
         "urn:hpflex/hpflex_demo#space_1_1",
         "urn:hpflex/hpflex_demo#zone_1",
         "urn:hpflex/hpflex_demo#window_1_1_tilt",
         "150.0",
         "urn:hpflex/hpflex_demo#window_1_1"
        ],
        [
         "1",
         "1500.0",
         "180.0",
         "urn:hpflex/hpflex_demo#space_2_1_area",
         "90.0",
         "unit:FT2",
         "urn:hpflex/hpflex_demo#window_2_1_azimuth",
         "urn:hpflex/hpflex_demo#window_2_1_area",
         "unit:FT2",
         "urn:hpflex/hpflex_demo#space_2_1",
         "urn:hpflex/hpflex_demo#zone_2",
         "urn:hpflex/hpflex_demo#window_2_1_tilt",
         "150.0",
         "urn:hpflex/hpflex_demo#window_2_1"
        ],
        [
         "2",
         "1500.0",
         "180.0",
         "urn:hpflex/hpflex_demo#space_3_1_area",
         "90.0",
         "unit:FT2",
         "urn:hpflex/hpflex_demo#window_3_1_azimuth",
         "urn:hpflex/hpflex_demo#window_3_1_area",
         "unit:FT2",
         "urn:hpflex/hpflex_demo#space_3_1",
         "urn:hpflex/hpflex_demo#zone_3",
         "urn:hpflex/hpflex_demo#window_3_1_tilt",
         "150.0",
         "urn:hpflex/hpflex_demo#window_3_1"
        ],
        [
         "3",
         "1500.0",
         "180.0",
         "urn:hpflex/hpflex_demo#space_4_1_area",
         "90.0",
         "unit:FT2",
         "urn:hpflex/hpflex_demo#window_4_1_azimuth",
         "urn:hpflex/hpflex_demo#window_4_1_area",
         "unit:FT2",
         "urn:hpflex/hpflex_demo#space_4_1",
         "urn:hpflex/hpflex_demo#zone_4",
         "urn:hpflex/hpflex_demo#window_4_1_tilt",
         "150.0",
         "urn:hpflex/hpflex_demo#window_4_1"
        ]
       ],
       "shape": {
        "columns": 13,
        "rows": 4
       }
      },
      "text/html": [
       "<div>\n",
       "<style scoped>\n",
       "    .dataframe tbody tr th:only-of-type {\n",
       "        vertical-align: middle;\n",
       "    }\n",
       "\n",
       "    .dataframe tbody tr th {\n",
       "        vertical-align: top;\n",
       "    }\n",
       "\n",
       "    .dataframe thead th {\n",
       "        text-align: right;\n",
       "    }\n",
       "</style>\n",
       "<table border=\"1\" class=\"dataframe\">\n",
       "  <thead>\n",
       "    <tr style=\"text-align: right;\">\n",
       "      <th></th>\n",
       "      <th>space_name_area_value</th>\n",
       "      <th>window_name_azimuth_value</th>\n",
       "      <th>space_name_area_name</th>\n",
       "      <th>window_name_tilt_value</th>\n",
       "      <th>space_name_area_unit</th>\n",
       "      <th>window_name_azimuth_name</th>\n",
       "      <th>window_name_area_name</th>\n",
       "      <th>window_name_area_unit</th>\n",
       "      <th>space_name</th>\n",
       "      <th>name</th>\n",
       "      <th>window_name_tilt_name</th>\n",
       "      <th>window_name_area_value</th>\n",
       "      <th>window_name</th>\n",
       "    </tr>\n",
       "  </thead>\n",
       "  <tbody>\n",
       "    <tr>\n",
       "      <th>0</th>\n",
       "      <td>1500.0</td>\n",
       "      <td>180.0</td>\n",
       "      <td>urn:hpflex/hpflex_demo#space_1_1_area</td>\n",
       "      <td>90.0</td>\n",
       "      <td>unit:FT2</td>\n",
       "      <td>urn:hpflex/hpflex_demo#window_1_1_azimuth</td>\n",
       "      <td>urn:hpflex/hpflex_demo#window_1_1_area</td>\n",
       "      <td>unit:FT2</td>\n",
       "      <td>urn:hpflex/hpflex_demo#space_1_1</td>\n",
       "      <td>urn:hpflex/hpflex_demo#zone_1</td>\n",
       "      <td>urn:hpflex/hpflex_demo#window_1_1_tilt</td>\n",
       "      <td>150.0</td>\n",
       "      <td>urn:hpflex/hpflex_demo#window_1_1</td>\n",
       "    </tr>\n",
       "    <tr>\n",
       "      <th>1</th>\n",
       "      <td>1500.0</td>\n",
       "      <td>180.0</td>\n",
       "      <td>urn:hpflex/hpflex_demo#space_2_1_area</td>\n",
       "      <td>90.0</td>\n",
       "      <td>unit:FT2</td>\n",
       "      <td>urn:hpflex/hpflex_demo#window_2_1_azimuth</td>\n",
       "      <td>urn:hpflex/hpflex_demo#window_2_1_area</td>\n",
       "      <td>unit:FT2</td>\n",
       "      <td>urn:hpflex/hpflex_demo#space_2_1</td>\n",
       "      <td>urn:hpflex/hpflex_demo#zone_2</td>\n",
       "      <td>urn:hpflex/hpflex_demo#window_2_1_tilt</td>\n",
       "      <td>150.0</td>\n",
       "      <td>urn:hpflex/hpflex_demo#window_2_1</td>\n",
       "    </tr>\n",
       "    <tr>\n",
       "      <th>2</th>\n",
       "      <td>1500.0</td>\n",
       "      <td>180.0</td>\n",
       "      <td>urn:hpflex/hpflex_demo#space_3_1_area</td>\n",
       "      <td>90.0</td>\n",
       "      <td>unit:FT2</td>\n",
       "      <td>urn:hpflex/hpflex_demo#window_3_1_azimuth</td>\n",
       "      <td>urn:hpflex/hpflex_demo#window_3_1_area</td>\n",
       "      <td>unit:FT2</td>\n",
       "      <td>urn:hpflex/hpflex_demo#space_3_1</td>\n",
       "      <td>urn:hpflex/hpflex_demo#zone_3</td>\n",
       "      <td>urn:hpflex/hpflex_demo#window_3_1_tilt</td>\n",
       "      <td>150.0</td>\n",
       "      <td>urn:hpflex/hpflex_demo#window_3_1</td>\n",
       "    </tr>\n",
       "    <tr>\n",
       "      <th>3</th>\n",
       "      <td>1500.0</td>\n",
       "      <td>180.0</td>\n",
       "      <td>urn:hpflex/hpflex_demo#space_4_1_area</td>\n",
       "      <td>90.0</td>\n",
       "      <td>unit:FT2</td>\n",
       "      <td>urn:hpflex/hpflex_demo#window_4_1_azimuth</td>\n",
       "      <td>urn:hpflex/hpflex_demo#window_4_1_area</td>\n",
       "      <td>unit:FT2</td>\n",
       "      <td>urn:hpflex/hpflex_demo#space_4_1</td>\n",
       "      <td>urn:hpflex/hpflex_demo#zone_4</td>\n",
       "      <td>urn:hpflex/hpflex_demo#window_4_1_tilt</td>\n",
       "      <td>150.0</td>\n",
       "      <td>urn:hpflex/hpflex_demo#window_4_1</td>\n",
       "    </tr>\n",
       "  </tbody>\n",
       "</table>\n",
       "</div>"
      ],
      "text/plain": [
       "  space_name_area_value window_name_azimuth_value  \\\n",
       "0                1500.0                     180.0   \n",
       "1                1500.0                     180.0   \n",
       "2                1500.0                     180.0   \n",
       "3                1500.0                     180.0   \n",
       "\n",
       "                    space_name_area_name window_name_tilt_value  \\\n",
       "0  urn:hpflex/hpflex_demo#space_1_1_area                   90.0   \n",
       "1  urn:hpflex/hpflex_demo#space_2_1_area                   90.0   \n",
       "2  urn:hpflex/hpflex_demo#space_3_1_area                   90.0   \n",
       "3  urn:hpflex/hpflex_demo#space_4_1_area                   90.0   \n",
       "\n",
       "  space_name_area_unit                   window_name_azimuth_name  \\\n",
       "0             unit:FT2  urn:hpflex/hpflex_demo#window_1_1_azimuth   \n",
       "1             unit:FT2  urn:hpflex/hpflex_demo#window_2_1_azimuth   \n",
       "2             unit:FT2  urn:hpflex/hpflex_demo#window_3_1_azimuth   \n",
       "3             unit:FT2  urn:hpflex/hpflex_demo#window_4_1_azimuth   \n",
       "\n",
       "                    window_name_area_name window_name_area_unit  \\\n",
       "0  urn:hpflex/hpflex_demo#window_1_1_area              unit:FT2   \n",
       "1  urn:hpflex/hpflex_demo#window_2_1_area              unit:FT2   \n",
       "2  urn:hpflex/hpflex_demo#window_3_1_area              unit:FT2   \n",
       "3  urn:hpflex/hpflex_demo#window_4_1_area              unit:FT2   \n",
       "\n",
       "                         space_name                           name  \\\n",
       "0  urn:hpflex/hpflex_demo#space_1_1  urn:hpflex/hpflex_demo#zone_1   \n",
       "1  urn:hpflex/hpflex_demo#space_2_1  urn:hpflex/hpflex_demo#zone_2   \n",
       "2  urn:hpflex/hpflex_demo#space_3_1  urn:hpflex/hpflex_demo#zone_3   \n",
       "3  urn:hpflex/hpflex_demo#space_4_1  urn:hpflex/hpflex_demo#zone_4   \n",
       "\n",
       "                    window_name_tilt_name window_name_area_value  \\\n",
       "0  urn:hpflex/hpflex_demo#window_1_1_tilt                  150.0   \n",
       "1  urn:hpflex/hpflex_demo#window_2_1_tilt                  150.0   \n",
       "2  urn:hpflex/hpflex_demo#window_3_1_tilt                  150.0   \n",
       "3  urn:hpflex/hpflex_demo#window_4_1_tilt                  150.0   \n",
       "\n",
       "                         window_name  \n",
       "0  urn:hpflex/hpflex_demo#window_1_1  \n",
       "1  urn:hpflex/hpflex_demo#window_2_1  \n",
       "2  urn:hpflex/hpflex_demo#window_3_1  \n",
       "3  urn:hpflex/hpflex_demo#window_4_1  "
      ]
     },
     "execution_count": 21,
     "metadata": {},
     "output_type": "execute_result"
    }
   ],
   "source": [
    "df"
   ]
  },
  {
   "cell_type": "code",
   "execution_count": null,
   "id": "0601ae0f",
   "metadata": {},
   "outputs": [],
   "source": [
    "zone_in.generate_csv('test.csv')"
   ]
  },
  {
   "cell_type": "code",
   "execution_count": null,
   "id": "57e94045",
   "metadata": {},
   "outputs": [],
   "source": [
    "zone"
   ]
  },
  {
   "cell_type": "code",
   "execution_count": null,
   "id": "b15c8535",
   "metadata": {},
   "outputs": [
    {
     "name": "stderr",
     "output_type": "stream",
     "text": [
      "/Users/lazlopaul/Desktop/HPflex/Semantic_MPC_Interface/.venv/lib/python3.10/site-packages/buildingmotif/dataclasses/template.py:420: UserWarning: Parameters \"window_name-area_unit, window_name-tilt_value, space_name-area_value, window_name-azimuth_value, space_name-area_unit, window_name-area_value\" were not provided during evaluation\n",
      "  warnings.warn(\n"
     ]
    }
   ],
   "source": [
    "zone_part = zone_in.evaluate({p:HPF[p] for p in zone_in.all_parameters if p.split('_')[-1] == 'name'})"
   ]
  },
  {
   "cell_type": "code",
   "execution_count": null,
   "id": "d14de850",
   "metadata": {},
   "outputs": [],
   "source": [
    "zone_part.generate_csv('test.csv')\n",
    "# dependencies are showing up in headers for some reason - can just remove these. \n",
    "# dependencies = zone_part.get_dependencies()\n",
    "\n",
    "# df = pd.read_csv('test.csv')\n",
    "\n",
    "# remove_cols = [dependency.template.name for dependency in zone.get_dependencies()]\n",
    "# df = df.drop(columns=remove_cols)\n",
    "\n",
    "# # Save the new CSV\n",
    "# df.to_csv('test.csv', index=False)\n"
   ]
  },
  {
   "cell_type": "code",
   "execution_count": null,
   "id": "18464261",
   "metadata": {},
   "outputs": [],
   "source": [
    "site = tmp.get_template_by_name('site')\n",
    "site.inline_dependencies().generate_csv('test.csv')"
   ]
  },
  {
   "cell_type": "code",
   "execution_count": null,
   "id": "dc4f666b",
   "metadata": {},
   "outputs": [],
   "source": []
  },
  {
   "cell_type": "code",
   "execution_count": 3,
   "id": "16ed15e8",
   "metadata": {},
   "outputs": [
    {
     "name": "stderr",
     "output_type": "stream",
     "text": [
      "CRITICAL:root:Install the 'bacnet-ingress' module, e.g. 'pip install buildingmotif[bacnet-ingress]'\n"
     ]
    }
   ],
   "source": [
    "from semantic_mpc_interface import HPFlexSurvey"
   ]
  },
  {
   "cell_type": "code",
   "execution_count": 4,
   "id": "1325e94a",
   "metadata": {},
   "outputs": [
    {
     "name": "stderr",
     "output_type": "stream",
     "text": [
      "DEBUG:buildingmotif.database.graph_connection:Creating tables for graph storage\n",
      "DEBUG:buildingmotif.database.table_connection:Creating shape collection in library: 'brick-templates'\n",
      "DEBUG:buildingmotif.database.table_connection:Creating database library: 'brick-templates'\n",
      "DEBUG:buildingmotif.database.table_connection:Creating database template: 'hvac-zone'\n",
      "DEBUG:buildingmotif.database.graph_connection:Creating graph: '079949bb-ab9e-4f52-926d-9fc8f7ad6cee' in database with: 1 triples\n",
      "DEBUG:buildingmotif.database.table_connection:Creating database template: 'space'\n",
      "DEBUG:buildingmotif.database.graph_connection:Creating graph: '211aed60-3e34-42c5-ae80-48377a3e5f32' in database with: 2 triples\n",
      "DEBUG:buildingmotif.database.table_connection:Creating database template: 'window'\n",
      "DEBUG:buildingmotif.database.graph_connection:Creating graph: 'd50a26c2-2693-4023-b16e-82713fae4615' in database with: 4 triples\n",
      "DEBUG:buildingmotif.database.table_connection:Creating database template: 'hp-rtu'\n",
      "DEBUG:buildingmotif.database.graph_connection:Creating graph: 'bbac9b61-1947-4b87-957a-beb745ab763e' in database with: 6 triples\n",
      "DEBUG:buildingmotif.database.table_connection:Creating database template: 'tstat'\n",
      "DEBUG:buildingmotif.database.graph_connection:Creating graph: 'cc56f01e-2da3-41f5-bb58-ec4a6ca3c0e3' in database with: 6 triples\n",
      "DEBUG:buildingmotif.database.table_connection:Creating database template: 'tstat-heating-cooling-occupancy'\n",
      "DEBUG:buildingmotif.database.graph_connection:Creating graph: '5167e742-fba3-4c26-8fc0-366a00aa8e63' in database with: 8 triples\n",
      "DEBUG:buildingmotif.database.table_connection:Creating database template: 'site'\n",
      "DEBUG:buildingmotif.database.graph_connection:Creating graph: '02407e8f-d5e5-4789-bdf0-c97277d8e10a' in database with: 5 triples\n",
      "DEBUG:buildingmotif.database.table_connection:Creating database template: 'air-bidirectional-connectionpoint'\n",
      "DEBUG:buildingmotif.database.graph_connection:Creating graph: '66e3ff18-5220-471d-9885-e835fd6eef4b' in database with: 2 triples\n",
      "DEBUG:buildingmotif.database.table_connection:Creating database template: 'air-outlet-connectionpoint'\n",
      "DEBUG:buildingmotif.database.graph_connection:Creating graph: '0d4a252d-2c79-475b-af78-23b02d75c6cf' in database with: 3 triples\n",
      "DEBUG:buildingmotif.database.table_connection:Creating database template: 'air-inlet-connectionpoint'\n",
      "DEBUG:buildingmotif.database.graph_connection:Creating graph: 'c4dec842-052d-4ebe-97ac-d3e264f4cb44' in database with: 3 triples\n",
      "DEBUG:buildingmotif.database.table_connection:Creating database template: 'connection'\n",
      "DEBUG:buildingmotif.database.graph_connection:Creating graph: '687c021c-3202-4e73-8f0b-753a7bd9eab8' in database with: 1 triples\n",
      "DEBUG:buildingmotif.database.table_connection:Creating database template: 'has-point'\n",
      "DEBUG:buildingmotif.database.graph_connection:Creating graph: 'ae6d19e8-1b88-4e27-b2ae-9f8e7eddfaec' in database with: 1 triples\n",
      "DEBUG:buildingmotif.database.table_connection:Creating database template: 'has-reference'\n",
      "DEBUG:buildingmotif.database.graph_connection:Creating graph: '8eefd621-82da-4bfa-82d3-8306ad9da90a' in database with: 1 triples\n",
      "DEBUG:buildingmotif.database.table_connection:Creating database template: 'has-space'\n",
      "DEBUG:buildingmotif.database.graph_connection:Creating graph: 'd8c29caf-bbe2-43ec-855c-41a32a31e627' in database with: 1 triples\n",
      "DEBUG:buildingmotif.database.table_connection:Creating database template: 'has-location'\n",
      "DEBUG:buildingmotif.database.graph_connection:Creating graph: '7ed1d616-f5fb-4925-a734-63227a030af8' in database with: 1 triples\n",
      "DEBUG:buildingmotif.database.table_connection:Creating database template: 'has-window'\n",
      "DEBUG:buildingmotif.database.graph_connection:Creating graph: 'f203b600-c169-4be2-9cdd-b02405ea5558' in database with: 1 triples\n",
      "DEBUG:buildingmotif.database.table_connection:Creating database template: 'air-connects-to'\n",
      "DEBUG:buildingmotif.database.graph_connection:Creating graph: '4a44dd88-9b3b-4180-b979-4fef0350c993' in database with: 1 triples\n",
      "DEBUG:buildingmotif.database.table_connection:Creating database template: 'air-bidirectional-connects-to'\n",
      "DEBUG:buildingmotif.database.graph_connection:Creating graph: '80961aa5-4be7-4604-b4ae-f6802b5481eb' in database with: 2 triples\n",
      "DEBUG:buildingmotif.database.table_connection:Creating database template: 'area'\n",
      "DEBUG:buildingmotif.database.graph_connection:Creating graph: '5e022e18-f6d5-4261-b212-567259a53acb' in database with: 3 triples\n",
      "DEBUG:buildingmotif.database.table_connection:Creating database template: 'tilt'\n",
      "DEBUG:buildingmotif.database.graph_connection:Creating graph: 'fd8209cc-12dd-4e65-bf49-9b548cc42500' in database with: 3 triples\n",
      "DEBUG:buildingmotif.database.table_connection:Creating database template: 'azimuth'\n",
      "DEBUG:buildingmotif.database.graph_connection:Creating graph: '963a0175-11f9-4ddc-bd6d-75cb9db41bc8' in database with: 3 triples\n",
      "DEBUG:buildingmotif.database.table_connection:Creating database template: 'cooling-COP'\n",
      "DEBUG:buildingmotif.database.graph_connection:Creating graph: 'f76550fa-03fc-44f7-9bb5-ba28b866050b' in database with: 3 triples\n",
      "DEBUG:buildingmotif.database.table_connection:Creating database template: 'heating-COP'\n",
      "DEBUG:buildingmotif.database.graph_connection:Creating graph: '505bf08d-7897-4024-a37d-cb98171f5b09' in database with: 3 triples\n",
      "DEBUG:buildingmotif.database.table_connection:Creating database template: 'cooling-capacity'\n",
      "DEBUG:buildingmotif.database.graph_connection:Creating graph: '395765a0-a6f0-4b0c-9bfb-b86f01b8d7b3' in database with: 3 triples\n",
      "DEBUG:buildingmotif.database.table_connection:Creating database template: 'heating-capacity'\n",
      "DEBUG:buildingmotif.database.graph_connection:Creating graph: '56f074c1-2bf8-4e4c-993c-dd69ac39ba38' in database with: 3 triples\n",
      "DEBUG:buildingmotif.database.table_connection:Creating database template: 'temperature'\n",
      "DEBUG:buildingmotif.database.graph_connection:Creating graph: '9892e945-b9e8-4b02-8111-b8e31d4db82f' in database with: 3 triples\n",
      "DEBUG:buildingmotif.database.table_connection:Creating database template: 'active-heating-stages'\n",
      "DEBUG:buildingmotif.database.graph_connection:Creating graph: 'f86e064b-54a1-430f-9d34-a479796491b6' in database with: 3 triples\n",
      "DEBUG:buildingmotif.database.table_connection:Creating database template: 'active-cooling-stages'\n",
      "DEBUG:buildingmotif.database.graph_connection:Creating graph: '6ee2a555-79ba-4533-8fc2-055f9d2ba919' in database with: 3 triples\n",
      "DEBUG:buildingmotif.database.table_connection:Creating database template: 'occ-heating-setpoint'\n",
      "DEBUG:buildingmotif.database.graph_connection:Creating graph: '0aef0830-16de-4014-bfe6-35289eb6a334' in database with: 3 triples\n",
      "DEBUG:buildingmotif.database.table_connection:Creating database template: 'occ-cooling-setpoint'\n",
      "DEBUG:buildingmotif.database.graph_connection:Creating graph: '5273d017-8d55-47f0-92b3-a1941f148236' in database with: 3 triples\n",
      "DEBUG:buildingmotif.database.table_connection:Creating database template: 'unocc-heating-setpoint'\n",
      "DEBUG:buildingmotif.database.graph_connection:Creating graph: '9e06afc1-8576-43b7-b41f-e0ef04882853' in database with: 3 triples\n",
      "DEBUG:buildingmotif.database.table_connection:Creating database template: 'unocc-cooling-setpoint'\n",
      "DEBUG:buildingmotif.database.graph_connection:Creating graph: '6ee8fd6b-6b40-4edc-8501-59bb7ae71425' in database with: 3 triples\n",
      "DEBUG:buildingmotif.database.table_connection:Creating database template: 'effective-temperature-setpoint'\n",
      "DEBUG:buildingmotif.database.graph_connection:Creating graph: '338051f3-c53b-4a93-a7b2-88c586fa2aff' in database with: 3 triples\n",
      "DEBUG:buildingmotif.database.table_connection:Creating database template: 'effective-heating-setpoint'\n",
      "DEBUG:buildingmotif.database.graph_connection:Creating graph: '8a58f59c-b86d-48c2-b71a-4278b1b9b19b' in database with: 3 triples\n",
      "DEBUG:buildingmotif.database.table_connection:Creating database template: 'effective-cooling-setpoint'\n",
      "DEBUG:buildingmotif.database.graph_connection:Creating graph: '4d7051ca-1cb5-4aee-90f2-8e787fbe29b4' in database with: 3 triples\n",
      "DEBUG:buildingmotif.database.table_connection:Creating database template: 'tstat-stage_count'\n",
      "DEBUG:buildingmotif.database.graph_connection:Creating graph: '943045fb-1507-4812-801d-622fb1ab0a52' in database with: 3 triples\n",
      "DEBUG:buildingmotif.database.table_connection:Creating database template: 'tstat-deadband'\n",
      "DEBUG:buildingmotif.database.graph_connection:Creating graph: '522858c6-e093-478c-be13-ea09461cc323' in database with: 5 triples\n",
      "DEBUG:buildingmotif.database.table_connection:Creating database template: 'tstat-tolerance'\n",
      "DEBUG:buildingmotif.database.graph_connection:Creating graph: '7d9f2008-d5b2-49b6-9ee6-27d841d9bbe0' in database with: 5 triples\n",
      "DEBUG:buildingmotif.database.table_connection:Creating database template: 'tstat-resolution'\n",
      "DEBUG:buildingmotif.database.graph_connection:Creating graph: 'ffa11c8d-80c1-4af9-bf62-98c338eac361' in database with: 3 triples\n",
      "DEBUG:buildingmotif.database.table_connection:Creating database template: 'tstat-active'\n",
      "DEBUG:buildingmotif.database.graph_connection:Creating graph: '17d338de-674c-40c8-b036-5801458ca1ca' in database with: 2 triples\n",
      "DEBUG:buildingmotif.database.table_connection:Creating database template: 'timezone'\n",
      "DEBUG:buildingmotif.database.graph_connection:Creating graph: 'ec2cd3d4-3e41-4056-8456-9debb3be772b' in database with: 2 triples\n",
      "DEBUG:buildingmotif.database.table_connection:Creating database template: 'latitude'\n",
      "DEBUG:buildingmotif.database.graph_connection:Creating graph: '003d1215-0e6a-47e4-83c6-42b8e332bd1b' in database with: 3 triples\n",
      "DEBUG:buildingmotif.database.table_connection:Creating database template: 'longitude'\n",
      "DEBUG:buildingmotif.database.graph_connection:Creating graph: '6bada06f-e31e-4665-8ad8-3d1958cad86b' in database with: 3 triples\n",
      "DEBUG:buildingmotif.database.table_connection:Creating database template: 'noaastation'\n",
      "DEBUG:buildingmotif.database.graph_connection:Creating graph: '3fdcca0a-375c-42f0-94c9-234bc2f3e778' in database with: 1 triples\n",
      "DEBUG:buildingmotif.database.table_connection:Creating database template: 'volttron-external-reference'\n",
      "DEBUG:buildingmotif.database.graph_connection:Creating graph: '459026a9-8b14-4ce5-a904-1d91e8fa9cf3' in database with: 2 triples\n",
      "DEBUG:buildingmotif.database.table_connection:Creating database template: 'point'\n",
      "DEBUG:buildingmotif.database.graph_connection:Creating graph: '4bdaa85b-f0c1-4c76-b143-89f8ec2e9e1b' in database with: 2 triples\n",
      "DEBUG:buildingmotif.database.table_connection:Creating depencency from templates with ids: '1' and: '14'\n",
      "DEBUG:buildingmotif.database.table_connection:Creating depencency from templates with ids: '1' and: '2'\n",
      "DEBUG:buildingmotif.database.table_connection:Creating depencency from templates with ids: '1' and: '16'\n",
      "DEBUG:buildingmotif.database.table_connection:Creating depencency from templates with ids: '1' and: '3'\n",
      "DEBUG:buildingmotif.database.table_connection:Creating depencency from templates with ids: '1' and: '15'\n",
      "DEBUG:buildingmotif.database.table_connection:Creating depencency from templates with ids: '1' and: '5'\n",
      "DEBUG:buildingmotif.database.table_connection:Creating depencency from templates with ids: '2' and: '19'\n",
      "DEBUG:buildingmotif.database.table_connection:Creating depencency from templates with ids: '3' and: '19'\n",
      "DEBUG:buildingmotif.database.table_connection:Creating depencency from templates with ids: '3' and: '21'\n",
      "DEBUG:buildingmotif.database.table_connection:Creating depencency from templates with ids: '3' and: '20'\n",
      "DEBUG:buildingmotif.database.table_connection:Creating depencency from templates with ids: '4' and: '24'\n",
      "DEBUG:buildingmotif.database.table_connection:Creating depencency from templates with ids: '4' and: '25'\n",
      "DEBUG:buildingmotif.database.table_connection:Creating depencency from templates with ids: '4' and: '22'\n",
      "DEBUG:buildingmotif.database.table_connection:Creating depencency from templates with ids: '4' and: '23'\n",
      "DEBUG:buildingmotif.database.table_connection:Creating depencency from templates with ids: '5' and: '36'\n",
      "DEBUG:buildingmotif.database.table_connection:Creating depencency from templates with ids: '5' and: '37'\n",
      "DEBUG:buildingmotif.database.table_connection:Creating depencency from templates with ids: '5' and: '38'\n",
      "DEBUG:buildingmotif.database.table_connection:Creating depencency from templates with ids: '5' and: '40'\n",
      "DEBUG:buildingmotif.database.table_connection:Creating depencency from templates with ids: '5' and: '39'\n",
      "DEBUG:buildingmotif.database.table_connection:Creating depencency from templates with ids: '6' and: '29'\n",
      "DEBUG:buildingmotif.database.table_connection:Creating depencency from templates with ids: '6' and: '30'\n",
      "DEBUG:buildingmotif.database.table_connection:Creating depencency from templates with ids: '6' and: '31'\n",
      "DEBUG:buildingmotif.database.table_connection:Creating depencency from templates with ids: '6' and: '32'\n",
      "DEBUG:buildingmotif.database.table_connection:Creating depencency from templates with ids: '6' and: '5'\n",
      "DEBUG:buildingmotif.database.table_connection:Creating depencency from templates with ids: '6' and: '26'\n",
      "DEBUG:buildingmotif.database.table_connection:Creating depencency from templates with ids: '6' and: '27'\n",
      "DEBUG:buildingmotif.database.table_connection:Creating depencency from templates with ids: '6' and: '28'\n",
      "DEBUG:buildingmotif.database.table_connection:Creating depencency from templates with ids: '7' and: '41'\n",
      "DEBUG:buildingmotif.database.table_connection:Creating depencency from templates with ids: '7' and: '42'\n",
      "DEBUG:buildingmotif.database.table_connection:Creating depencency from templates with ids: '7' and: '43'\n",
      "DEBUG:buildingmotif.database.table_connection:Creating depencency from templates with ids: '7' and: '44'\n",
      "DEBUG:buildingmotif.database.table_connection:Creating depencency from templates with ids: '1' and: '2'\n",
      "DEBUG:buildingmotif.database.table_connection:Creating depencency from templates with ids: '1' and: '3'\n",
      "DEBUG:buildingmotif.database.table_connection:Creating depencency from templates with ids: '1' and: '5'\n",
      "DEBUG:buildingmotif.database.table_connection:Creating depencency from templates with ids: '1' and: '14'\n",
      "DEBUG:buildingmotif.database.table_connection:Creating depencency from templates with ids: '1' and: '15'\n",
      "DEBUG:buildingmotif.database.table_connection:Creating depencency from templates with ids: '1' and: '16'\n",
      "DEBUG:buildingmotif.database.table_connection:Creating depencency from templates with ids: '2' and: '19'\n",
      "DEBUG:buildingmotif.database.table_connection:Creating depencency from templates with ids: '3' and: '19'\n",
      "DEBUG:buildingmotif.database.table_connection:Creating depencency from templates with ids: '3' and: '20'\n",
      "DEBUG:buildingmotif.database.table_connection:Creating depencency from templates with ids: '3' and: '21'\n",
      "DEBUG:buildingmotif.database.table_connection:Creating depencency from templates with ids: '4' and: '22'\n",
      "DEBUG:buildingmotif.database.table_connection:Creating depencency from templates with ids: '4' and: '23'\n",
      "DEBUG:buildingmotif.database.table_connection:Creating depencency from templates with ids: '4' and: '24'\n",
      "DEBUG:buildingmotif.database.table_connection:Creating depencency from templates with ids: '4' and: '25'\n",
      "DEBUG:buildingmotif.database.table_connection:Creating depencency from templates with ids: '5' and: '36'\n",
      "DEBUG:buildingmotif.database.table_connection:Creating depencency from templates with ids: '5' and: '37'\n",
      "DEBUG:buildingmotif.database.table_connection:Creating depencency from templates with ids: '5' and: '38'\n",
      "DEBUG:buildingmotif.database.table_connection:Creating depencency from templates with ids: '5' and: '39'\n",
      "DEBUG:buildingmotif.database.table_connection:Creating depencency from templates with ids: '5' and: '40'\n",
      "DEBUG:buildingmotif.database.table_connection:Creating depencency from templates with ids: '6' and: '5'\n",
      "DEBUG:buildingmotif.database.table_connection:Creating depencency from templates with ids: '6' and: '26'\n",
      "DEBUG:buildingmotif.database.table_connection:Creating depencency from templates with ids: '6' and: '27'\n",
      "DEBUG:buildingmotif.database.table_connection:Creating depencency from templates with ids: '6' and: '28'\n",
      "DEBUG:buildingmotif.database.table_connection:Creating depencency from templates with ids: '6' and: '29'\n",
      "DEBUG:buildingmotif.database.table_connection:Creating depencency from templates with ids: '6' and: '30'\n",
      "DEBUG:buildingmotif.database.table_connection:Creating depencency from templates with ids: '6' and: '31'\n",
      "DEBUG:buildingmotif.database.table_connection:Creating depencency from templates with ids: '6' and: '32'\n",
      "DEBUG:buildingmotif.database.table_connection:Creating depencency from templates with ids: '7' and: '41'\n",
      "DEBUG:buildingmotif.database.table_connection:Creating depencency from templates with ids: '7' and: '42'\n",
      "DEBUG:buildingmotif.database.table_connection:Creating depencency from templates with ids: '7' and: '43'\n",
      "DEBUG:buildingmotif.database.table_connection:Creating depencency from templates with ids: '7' and: '44'\n",
      "/Users/lazlopaul/Desktop/HPflex/Semantic_MPC_Interface/.venv/lib/python3.10/site-packages/pyshacl/extras/__init__.py:46: Warning: Extra \"js\" is not satisfied because requirement pyduktape2 is not installed.\n",
      "  warn(Warning(f\"Extra \\\"{extra_name}\\\" is not satisfied because requirement {req} is not installed.\"))\n",
      "DEBUG:buildingmotif.database.table_connection:Deleting depencency from templates with ids: '1' and: '2'\n",
      "DEBUG:buildingmotif.database.table_connection:Deleting depencency from templates with ids: '1' and: '3'\n",
      "DEBUG:buildingmotif.database.table_connection:Deleting depencency from templates with ids: '1' and: '5'\n"
     ]
    },
    {
     "name": "stdout",
     "output_type": "stream",
     "text": [
      "removing dependency:  space\n",
      "removing dependency:  window\n",
      "removing dependency:  tstat\n"
     ]
    }
   ],
   "source": [
    "s = HPFlexSurvey('test_site','test_build','.', overwrite=True)"
   ]
  },
  {
   "cell_type": "code",
   "execution_count": 5,
   "id": "392ad0e5",
   "metadata": {},
   "outputs": [
    {
     "name": "stdout",
     "output_type": "stream",
     "text": [
      "{'site_id': 'test_site', 'hvac_type': 'hp-rtu', 'empty_params': {'hvac-zone': ['space_name', 'tstat_name', 'window_name'], 'space': ['area_name'], 'hp-rtu': ['cooling_COP_name', 'heating_capacity_name', 'heating_COP_name', 'cooling_capacity_name'], 'tstat': [], 'window': ['azimuth_name', 'tilt_name', 'area_name']}, 'param_mapping': {'hvac-zone': {}, 'space': {'area': 'area_value'}, 'hp-rtu': {'cooling_capacity': 'cooling_capacity_value', 'heating_COP': 'heating_COP_value', 'heating_capacity': 'heating_capacity_value', 'cooling_COP': 'cooling_COP_value'}, 'tstat': {}, 'window': {'tilt': 'tilt_value', 'azimuth': 'azimuth_value', 'area': 'area_value'}}, 'hvacs_feed_hvacs': {}, 'hvacs_feed_zones': {'hvac_1': ['zone_1'], 'hvac_2': ['zone_2'], 'hvac_3': ['zone_3']}, 'zones_contain_spaces': {'zone_1': ['space_1_1', 'space_1_2'], 'zone_2': ['space_2_1'], 'zone_3': ['space_3_1']}, 'zones_contain_windows': {'zone_1': ['window_1_1', 'window_1_2'], 'zone_2': ['window_2_1', 'window_2_2'], 'zone_3': ['window_3_1', 'window_3_2', 'window_3_3']}}\n"
     ]
    }
   ],
   "source": [
    "s.easy_config(zone_space_window_list=[(2,2),(1,2),(1,3)])"
   ]
  },
  {
   "cell_type": "code",
   "execution_count": null,
   "id": "44deb5c9",
   "metadata": {},
   "outputs": [],
   "source": []
  }
 ],
 "metadata": {
  "kernelspec": {
   "display_name": "creating-brick-model",
   "language": "python",
   "name": "python3"
  },
  "language_info": {
   "codemirror_mode": {
    "name": "ipython",
    "version": 3
   },
   "file_extension": ".py",
   "mimetype": "text/x-python",
   "name": "python",
   "nbconvert_exporter": "python",
   "pygments_lexer": "ipython3",
   "version": "3.10.0"
  }
 },
 "nbformat": 4,
 "nbformat_minor": 5
}
