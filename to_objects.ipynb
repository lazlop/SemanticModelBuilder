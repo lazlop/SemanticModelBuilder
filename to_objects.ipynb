{
 "cells": [
  {
   "cell_type": "code",
   "execution_count": 1,
   "id": "3c360307",
   "metadata": {},
   "outputs": [
    {
     "name": "stderr",
     "output_type": "stream",
     "text": [
      "CRITICAL:root:Install the 'bacnet-ingress' module, e.g. 'pip install buildingmotif[bacnet-ingress]'\n",
      "DEBUG:buildingmotif.database.graph_connection:Creating tables for graph storage\n",
      "DEBUG:buildingmotif.database.table_connection:Creating shape collection in model: 'urn:hpflex#'\n",
      "DEBUG:buildingmotif.database.table_connection:Creating model: 'urn:hpflex#', with graph: 'd9c357e9-9d52-4fc6-9fc7-5e8768a49ed6'\n",
      "DEBUG:buildingmotif.database.graph_connection:Creating graph: 'd9c357e9-9d52-4fc6-9fc7-5e8768a49ed6' in database with: 1 triples\n",
      "DEBUG:buildingmotif.database.table_connection:Creating shape collection in library: 'brick-templates'\n",
      "DEBUG:buildingmotif.database.table_connection:Creating database library: 'brick-templates'\n",
      "DEBUG:buildingmotif.database.table_connection:Creating database template: 'hvac-zone'\n",
      "DEBUG:buildingmotif.database.graph_connection:Creating graph: '087872e0-a5f4-4bd5-8b7c-7c7d54b331b2' in database with: 1 triples\n",
      "DEBUG:buildingmotif.database.table_connection:Creating database template: 'has-space'\n",
      "DEBUG:buildingmotif.database.graph_connection:Creating graph: 'f7134415-aec2-4004-afe5-bb30f7472a66' in database with: 1 triples\n",
      "DEBUG:buildingmotif.database.table_connection:Creating database template: 'has-window'\n",
      "DEBUG:buildingmotif.database.graph_connection:Creating graph: '2cc8e724-94f5-43db-9bbc-66055c787ceb' in database with: 1 triples\n",
      "DEBUG:buildingmotif.database.table_connection:Creating database template: 'space'\n",
      "DEBUG:buildingmotif.database.graph_connection:Creating graph: '5b30975a-597d-4f2f-bce5-a194be5ad454' in database with: 2 triples\n",
      "DEBUG:buildingmotif.database.table_connection:Creating database template: 'window'\n",
      "DEBUG:buildingmotif.database.graph_connection:Creating graph: 'c282a10a-9975-4443-b362-3a4e401540d8' in database with: 4 triples\n",
      "DEBUG:buildingmotif.database.table_connection:Creating database template: 'area'\n",
      "DEBUG:buildingmotif.database.graph_connection:Creating graph: '718ecbc3-2943-4b1b-830c-3aad37d5ed90' in database with: 3 triples\n",
      "DEBUG:buildingmotif.database.table_connection:Creating database template: 'tilt'\n",
      "DEBUG:buildingmotif.database.graph_connection:Creating graph: '149ffd4d-c1fc-4269-bf2d-22703f3ba5b3' in database with: 3 triples\n",
      "DEBUG:buildingmotif.database.table_connection:Creating database template: 'azimuth'\n",
      "DEBUG:buildingmotif.database.graph_connection:Creating graph: 'a388cf7a-7554-4092-be0b-52fda2d7116c' in database with: 3 triples\n",
      "DEBUG:buildingmotif.database.table_connection:Creating depencency from templates with ids: '1' and: '2'\n",
      "DEBUG:buildingmotif.database.table_connection:Creating depencency from templates with ids: '1' and: '4'\n",
      "DEBUG:buildingmotif.database.table_connection:Creating depencency from templates with ids: '1' and: '3'\n",
      "DEBUG:buildingmotif.database.table_connection:Creating depencency from templates with ids: '1' and: '5'\n",
      "DEBUG:buildingmotif.database.table_connection:Creating depencency from templates with ids: '4' and: '6'\n",
      "DEBUG:buildingmotif.database.table_connection:Creating depencency from templates with ids: '5' and: '6'\n",
      "DEBUG:buildingmotif.database.table_connection:Creating depencency from templates with ids: '5' and: '8'\n",
      "DEBUG:buildingmotif.database.table_connection:Creating depencency from templates with ids: '5' and: '7'\n",
      "DEBUG:buildingmotif.database.table_connection:Creating depencency from templates with ids: '1' and: '2'\n",
      "DEBUG:buildingmotif.database.table_connection:Creating depencency from templates with ids: '1' and: '3'\n",
      "DEBUG:buildingmotif.database.table_connection:Creating depencency from templates with ids: '1' and: '4'\n",
      "DEBUG:buildingmotif.database.table_connection:Creating depencency from templates with ids: '1' and: '5'\n",
      "DEBUG:buildingmotif.database.table_connection:Creating depencency from templates with ids: '4' and: '6'\n",
      "DEBUG:buildingmotif.database.table_connection:Creating depencency from templates with ids: '5' and: '6'\n",
      "DEBUG:buildingmotif.database.table_connection:Creating depencency from templates with ids: '5' and: '7'\n",
      "DEBUG:buildingmotif.database.table_connection:Creating depencency from templates with ids: '5' and: '8'\n",
      "/Users/lazlopaul/Desktop/HPflex/Semantic_MPC_Interface/.venv/lib/python3.10/site-packages/pyshacl/extras/__init__.py:46: Warning: Extra \"js\" is not satisfied because requirement pyduktape2 is not installed.\n",
      "  warn(Warning(f\"Extra \\\"{extra_name}\\\" is not satisfied because requirement {req} is not installed.\"))\n"
     ]
    }
   ],
   "source": [
    "from to_objects import get_objects\n",
    "from rdflib import Graph"
   ]
  },
  {
   "cell_type": "code",
   "execution_count": 2,
   "id": "4a97d05f",
   "metadata": {},
   "outputs": [
    {
     "data": {
      "text/plain": [
       "<Graph identifier=N53e48aec659347258d389293c84d9db4 (<class 'rdflib.graph.Graph'>)>"
      ]
     },
     "execution_count": 2,
     "metadata": {},
     "output_type": "execute_result"
    }
   ],
   "source": [
    "g = Graph()\n",
    "g.parse('tutorial/bldg2.ttl')"
   ]
  },
  {
   "cell_type": "code",
   "execution_count": 3,
   "id": "ea21fb7a",
   "metadata": {},
   "outputs": [],
   "source": [
    "zones = get_objects(g)"
   ]
  },
  {
   "cell_type": "code",
   "execution_count": 4,
   "id": "8bade8f6",
   "metadata": {},
   "outputs": [
    {
     "data": {
      "text/plain": [
       "Value(value=1500.0, unit='FT2')"
      ]
     },
     "execution_count": 4,
     "metadata": {},
     "output_type": "execute_result"
    }
   ],
   "source": [
    "zone1 = zones[0]\n",
    "zone1.spaces[0].area"
   ]
  },
  {
   "cell_type": "code",
   "execution_count": 5,
   "id": "fdd126aa",
   "metadata": {},
   "outputs": [
    {
     "data": {
      "text/plain": [
       "[Space(name='urn:hpflex/hpflex_demo#space_1_1', area=Value(value=1500.0, unit='FT2'))]"
      ]
     },
     "execution_count": 5,
     "metadata": {},
     "output_type": "execute_result"
    }
   ],
   "source": [
    "zones[0].spaces"
   ]
  },
  {
   "cell_type": "markdown",
   "id": "2c175664",
   "metadata": {},
   "source": [
    "# Drafting"
   ]
  },
  {
   "cell_type": "code",
   "execution_count": 6,
   "id": "a605f094",
   "metadata": {},
   "outputs": [],
   "source": [
    "from buildingmotif import BuildingMOTIF\n",
    "from buildingmotif.dataclasses import Library, Model\n",
    "from rdflib import Graph, Literal, Namespace, URIRef\n",
    "from semantic_mpc_interface.namespaces import * \n",
    "from semantic_mpc_interface.utils import * \n",
    "from buildingmotif.ingresses import CSVIngress, TemplateIngress, Record"
   ]
  },
  {
   "cell_type": "code",
   "execution_count": 7,
   "id": "82d7fd88",
   "metadata": {},
   "outputs": [
    {
     "name": "stderr",
     "output_type": "stream",
     "text": [
      "DEBUG:buildingmotif.database.table_connection:Creating shape collection in model: 'urn:hpflex#'\n",
      "DEBUG:buildingmotif.database.table_connection:Creating model: 'urn:hpflex#', with graph: 'ba691fdc-6b9f-4be7-ab1d-8cdeceacff2a'\n",
      "DEBUG:buildingmotif.database.graph_connection:Creating graph: 'ba691fdc-6b9f-4be7-ab1d-8cdeceacff2a' in database with: 1 triples\n"
     ]
    }
   ],
   "source": [
    "bm = BuildingMOTIF(\"sqlite://\")\n",
    "model = Model.create(HPF)\n"
   ]
  },
  {
   "cell_type": "code",
   "execution_count": 8,
   "id": "2312109f",
   "metadata": {},
   "outputs": [
    {
     "name": "stderr",
     "output_type": "stream",
     "text": [
      "DEBUG:buildingmotif.database.table_connection:Creating database template: 'hvac-zone'\n"
     ]
    },
    {
     "name": "stderr",
     "output_type": "stream",
     "text": [
      "DEBUG:buildingmotif.database.graph_connection:Creating graph: '3a2e1bf3-e5f5-420f-8ee1-9c9d10ca7a0c' in database with: 1 triples\n",
      "DEBUG:buildingmotif.database.table_connection:Creating database template: 'space'\n",
      "DEBUG:buildingmotif.database.graph_connection:Creating graph: '881f7b96-c895-4278-94da-9f63640f66a5' in database with: 2 triples\n",
      "DEBUG:buildingmotif.database.table_connection:Creating database template: 'window'\n",
      "DEBUG:buildingmotif.database.graph_connection:Creating graph: 'f7ca6f0c-a26f-4654-aca3-ac6b105db039' in database with: 4 triples\n",
      "DEBUG:buildingmotif.database.table_connection:Creating database template: 'hp-rtu'\n",
      "DEBUG:buildingmotif.database.graph_connection:Creating graph: 'daf1f9ac-317d-4148-9050-6d90cd6073cb' in database with: 6 triples\n",
      "DEBUG:buildingmotif.database.table_connection:Creating database template: 'tstat'\n",
      "DEBUG:buildingmotif.database.graph_connection:Creating graph: '597d57d3-b064-48ee-9732-f94bc3f1621a' in database with: 6 triples\n",
      "DEBUG:buildingmotif.database.table_connection:Creating database template: 'tstat-heating-cooling-occupancy'\n",
      "DEBUG:buildingmotif.database.graph_connection:Creating graph: 'd45616a8-291f-4154-a804-03b5339d4982' in database with: 8 triples\n",
      "DEBUG:buildingmotif.database.table_connection:Creating database template: 'site'\n",
      "DEBUG:buildingmotif.database.graph_connection:Creating graph: 'fe08c4a5-4364-4700-a824-974fc61247ce' in database with: 5 triples\n",
      "DEBUG:buildingmotif.database.table_connection:Creating database template: 'air-bidirectional-connectionpoint'\n",
      "DEBUG:buildingmotif.database.graph_connection:Creating graph: '87ae4178-2640-4a85-9230-453d77dbb6b4' in database with: 2 triples\n",
      "DEBUG:buildingmotif.database.table_connection:Creating database template: 'air-outlet-connectionpoint'\n",
      "DEBUG:buildingmotif.database.graph_connection:Creating graph: 'e05c95f9-72f1-4e63-92e1-36050fb1b44a' in database with: 3 triples\n",
      "DEBUG:buildingmotif.database.table_connection:Creating database template: 'air-inlet-connectionpoint'\n",
      "DEBUG:buildingmotif.database.graph_connection:Creating graph: 'dd40a9db-8f1c-40a8-90f8-2b1b9edf15fd' in database with: 3 triples\n",
      "DEBUG:buildingmotif.database.table_connection:Creating database template: 'connection'\n",
      "DEBUG:buildingmotif.database.graph_connection:Creating graph: 'd6b015b8-c441-4d85-b889-d45dcbc5894a' in database with: 1 triples\n",
      "DEBUG:buildingmotif.database.table_connection:Creating database template: 'has-point'\n",
      "DEBUG:buildingmotif.database.graph_connection:Creating graph: 'caebc60d-f100-408c-bea0-67d4789ec4b3' in database with: 1 triples\n",
      "DEBUG:buildingmotif.database.table_connection:Creating database template: 'has-reference'\n",
      "DEBUG:buildingmotif.database.graph_connection:Creating graph: '739b8c46-ba9d-413f-a5e2-15af7d8917ee' in database with: 1 triples\n",
      "DEBUG:buildingmotif.database.table_connection:Creating database template: 'has-space'\n",
      "DEBUG:buildingmotif.database.graph_connection:Creating graph: 'b619a75a-46fd-417c-a94b-4e7b3422a4e6' in database with: 1 triples\n",
      "DEBUG:buildingmotif.database.table_connection:Creating database template: 'has-location'\n",
      "DEBUG:buildingmotif.database.graph_connection:Creating graph: '82cb95ea-0839-4a38-8930-0f4e0ff8cf1b' in database with: 1 triples\n",
      "DEBUG:buildingmotif.database.table_connection:Creating database template: 'has-window'\n",
      "DEBUG:buildingmotif.database.graph_connection:Creating graph: '66b47fbf-a059-4f46-88da-168ac9441efa' in database with: 1 triples\n",
      "DEBUG:buildingmotif.database.table_connection:Creating database template: 'air-connects-to'\n",
      "DEBUG:buildingmotif.database.graph_connection:Creating graph: 'd48d4550-8a02-47ee-947d-bd11293f01a7' in database with: 1 triples\n",
      "DEBUG:buildingmotif.database.table_connection:Creating database template: 'air-bidirectional-connects-to'\n",
      "DEBUG:buildingmotif.database.graph_connection:Creating graph: '18591537-84c2-49e1-b2c1-fdcbad68b79e' in database with: 2 triples\n",
      "DEBUG:buildingmotif.database.table_connection:Creating database template: 'area'\n",
      "DEBUG:buildingmotif.database.graph_connection:Creating graph: 'dbf64b61-9786-4fcc-9f46-6abd74f705e7' in database with: 3 triples\n",
      "DEBUG:buildingmotif.database.table_connection:Creating database template: 'tilt'\n",
      "DEBUG:buildingmotif.database.graph_connection:Creating graph: '80019aed-229c-46df-b2f6-94a45ed9ec99' in database with: 3 triples\n",
      "DEBUG:buildingmotif.database.table_connection:Creating database template: 'azimuth'\n",
      "DEBUG:buildingmotif.database.graph_connection:Creating graph: '538151a6-2a93-4424-9aa2-95e18507e1b1' in database with: 3 triples\n",
      "DEBUG:buildingmotif.database.table_connection:Creating database template: 'cooling-COP'\n",
      "DEBUG:buildingmotif.database.graph_connection:Creating graph: '62cff813-9255-4ac2-9122-02be4e6c2b28' in database with: 3 triples\n",
      "DEBUG:buildingmotif.database.table_connection:Creating database template: 'heating-COP'\n",
      "DEBUG:buildingmotif.database.graph_connection:Creating graph: 'c5df1d79-de88-484a-b7d2-6af8ee319ee6' in database with: 3 triples\n",
      "DEBUG:buildingmotif.database.table_connection:Creating database template: 'cooling-capacity'\n",
      "DEBUG:buildingmotif.database.graph_connection:Creating graph: '7965c807-5270-406b-b2e7-35d9773467c1' in database with: 3 triples\n",
      "DEBUG:buildingmotif.database.table_connection:Creating database template: 'heating-capacity'\n",
      "DEBUG:buildingmotif.database.graph_connection:Creating graph: '40b20dd8-01e6-4231-b139-da93a5d560a9' in database with: 3 triples\n",
      "DEBUG:buildingmotif.database.table_connection:Creating database template: 'temperature'\n",
      "DEBUG:buildingmotif.database.graph_connection:Creating graph: '1163c7cd-a1a3-4521-9849-f137dcc996eb' in database with: 3 triples\n",
      "DEBUG:buildingmotif.database.table_connection:Creating database template: 'active-heating-stages'\n",
      "DEBUG:buildingmotif.database.graph_connection:Creating graph: '23bf0a0a-58fd-47b1-a077-9914a6ecf22e' in database with: 3 triples\n",
      "DEBUG:buildingmotif.database.table_connection:Creating database template: 'active-cooling-stages'\n",
      "DEBUG:buildingmotif.database.graph_connection:Creating graph: 'b1480406-c324-411a-83e1-036c412ec6ec' in database with: 3 triples\n",
      "DEBUG:buildingmotif.database.table_connection:Creating database template: 'occ-heating-setpoint'\n",
      "DEBUG:buildingmotif.database.graph_connection:Creating graph: 'dc2c0b40-7999-47e2-ab7d-24c7ee093286' in database with: 3 triples\n",
      "DEBUG:buildingmotif.database.table_connection:Creating database template: 'occ-cooling-setpoint'\n",
      "DEBUG:buildingmotif.database.graph_connection:Creating graph: 'ee950234-4fc3-4404-8ac5-13d721407f70' in database with: 3 triples\n",
      "DEBUG:buildingmotif.database.table_connection:Creating database template: 'unocc-heating-setpoint'\n",
      "DEBUG:buildingmotif.database.graph_connection:Creating graph: '3b01088e-0cf6-4415-bb6b-5854df227028' in database with: 3 triples\n",
      "DEBUG:buildingmotif.database.table_connection:Creating database template: 'unocc-cooling-setpoint'\n",
      "DEBUG:buildingmotif.database.graph_connection:Creating graph: 'c7e883e7-6656-4beb-b459-7fed30a60662' in database with: 3 triples\n",
      "DEBUG:buildingmotif.database.table_connection:Creating database template: 'effective-temperature-setpoint'\n",
      "DEBUG:buildingmotif.database.graph_connection:Creating graph: 'bdda0823-bb9a-441a-96ab-f1891fb1c1b1' in database with: 3 triples\n",
      "DEBUG:buildingmotif.database.table_connection:Creating database template: 'effective-heating-setpoint'\n",
      "DEBUG:buildingmotif.database.graph_connection:Creating graph: '1a0df31b-b494-4980-abb7-4ba341abf196' in database with: 3 triples\n",
      "DEBUG:buildingmotif.database.table_connection:Creating database template: 'effective-cooling-setpoint'\n",
      "DEBUG:buildingmotif.database.graph_connection:Creating graph: 'dcb3d153-4369-4c3c-a210-90d7d5027acf' in database with: 3 triples\n",
      "DEBUG:buildingmotif.database.table_connection:Creating database template: 'tstat-stage_count'\n",
      "DEBUG:buildingmotif.database.graph_connection:Creating graph: 'e21563c3-197b-433c-b992-bbe0056f3fdb' in database with: 3 triples\n",
      "DEBUG:buildingmotif.database.table_connection:Creating database template: 'tstat-deadband'\n",
      "DEBUG:buildingmotif.database.graph_connection:Creating graph: '29bb964a-33bf-4ba2-9d82-3a7da6dc11ac' in database with: 5 triples\n",
      "DEBUG:buildingmotif.database.table_connection:Creating database template: 'tstat-tolerance'\n",
      "DEBUG:buildingmotif.database.graph_connection:Creating graph: '840b9737-348c-4df2-9487-150557fc47db' in database with: 5 triples\n",
      "DEBUG:buildingmotif.database.table_connection:Creating database template: 'tstat-resolution'\n",
      "DEBUG:buildingmotif.database.graph_connection:Creating graph: 'e8fa3e73-1a1b-488b-962c-b72d5942ad9d' in database with: 3 triples\n",
      "DEBUG:buildingmotif.database.table_connection:Creating database template: 'tstat-active'\n",
      "DEBUG:buildingmotif.database.graph_connection:Creating graph: 'b6814b45-7e1c-43d9-be58-344ce7c76054' in database with: 2 triples\n",
      "DEBUG:buildingmotif.database.table_connection:Creating database template: 'timezone'\n",
      "DEBUG:buildingmotif.database.graph_connection:Creating graph: '2cf41ed8-3877-47dd-a3e0-70ecb10db4d7' in database with: 2 triples\n",
      "DEBUG:buildingmotif.database.table_connection:Creating database template: 'latitude'\n",
      "DEBUG:buildingmotif.database.graph_connection:Creating graph: '23e64080-31b4-4c17-8d7a-6972a59d691c' in database with: 3 triples\n",
      "DEBUG:buildingmotif.database.table_connection:Creating database template: 'longitude'\n",
      "DEBUG:buildingmotif.database.graph_connection:Creating graph: '5768581f-0c47-4aef-90b8-198bd17449f4' in database with: 3 triples\n",
      "DEBUG:buildingmotif.database.table_connection:Creating database template: 'noaastation'\n",
      "DEBUG:buildingmotif.database.graph_connection:Creating graph: '71fc1142-e1f4-4750-a732-99cca07a0b86' in database with: 1 triples\n",
      "DEBUG:buildingmotif.database.table_connection:Creating database template: 'volttron-external-reference'\n",
      "DEBUG:buildingmotif.database.graph_connection:Creating graph: '052e9372-f053-473f-89e7-cf39ef91c936' in database with: 2 triples\n",
      "DEBUG:buildingmotif.database.table_connection:Creating database template: 'point'\n",
      "DEBUG:buildingmotif.database.graph_connection:Creating graph: '0bb0c154-2120-46d2-810b-f078d92786dd' in database with: 2 triples\n",
      "DEBUG:buildingmotif.database.table_connection:Creating depencency from templates with ids: '1' and: '14'\n",
      "/Users/lazlopaul/Desktop/HPflex/Semantic_MPC_Interface/.venv/lib/python3.10/site-packages/buildingmotif/database/table_connection.py:423: SAWarning: Identity map already had an identity for (<class 'buildingmotif.database.tables.DepsAssociation'>, (1,), None), replacing it with newly flushed object.   Are there load operations occurring inside of an event handler within the flush?\n",
      "  self.bm.session.flush()\n",
      "DEBUG:buildingmotif.database.table_connection:Creating depencency from templates with ids: '1' and: '2'\n",
      "/Users/lazlopaul/Desktop/HPflex/Semantic_MPC_Interface/.venv/lib/python3.10/site-packages/buildingmotif/database/table_connection.py:423: SAWarning: Identity map already had an identity for (<class 'buildingmotif.database.tables.DepsAssociation'>, (2,), None), replacing it with newly flushed object.   Are there load operations occurring inside of an event handler within the flush?\n",
      "  self.bm.session.flush()\n",
      "DEBUG:buildingmotif.database.table_connection:Creating depencency from templates with ids: '1' and: '16'\n",
      "/Users/lazlopaul/Desktop/HPflex/Semantic_MPC_Interface/.venv/lib/python3.10/site-packages/buildingmotif/database/table_connection.py:423: SAWarning: Identity map already had an identity for (<class 'buildingmotif.database.tables.DepsAssociation'>, (3,), None), replacing it with newly flushed object.   Are there load operations occurring inside of an event handler within the flush?\n",
      "  self.bm.session.flush()\n",
      "DEBUG:buildingmotif.database.table_connection:Creating depencency from templates with ids: '1' and: '3'\n",
      "/Users/lazlopaul/Desktop/HPflex/Semantic_MPC_Interface/.venv/lib/python3.10/site-packages/buildingmotif/database/table_connection.py:423: SAWarning: Identity map already had an identity for (<class 'buildingmotif.database.tables.DepsAssociation'>, (4,), None), replacing it with newly flushed object.   Are there load operations occurring inside of an event handler within the flush?\n",
      "  self.bm.session.flush()\n",
      "DEBUG:buildingmotif.database.table_connection:Creating depencency from templates with ids: '1' and: '15'\n",
      "/Users/lazlopaul/Desktop/HPflex/Semantic_MPC_Interface/.venv/lib/python3.10/site-packages/buildingmotif/database/table_connection.py:423: SAWarning: Identity map already had an identity for (<class 'buildingmotif.database.tables.DepsAssociation'>, (5,), None), replacing it with newly flushed object.   Are there load operations occurring inside of an event handler within the flush?\n",
      "  self.bm.session.flush()\n",
      "DEBUG:buildingmotif.database.table_connection:Creating depencency from templates with ids: '1' and: '5'\n",
      "/Users/lazlopaul/Desktop/HPflex/Semantic_MPC_Interface/.venv/lib/python3.10/site-packages/buildingmotif/database/table_connection.py:423: SAWarning: Identity map already had an identity for (<class 'buildingmotif.database.tables.DepsAssociation'>, (6,), None), replacing it with newly flushed object.   Are there load operations occurring inside of an event handler within the flush?\n",
      "  self.bm.session.flush()\n",
      "DEBUG:buildingmotif.database.table_connection:Creating depencency from templates with ids: '2' and: '19'\n",
      "/Users/lazlopaul/Desktop/HPflex/Semantic_MPC_Interface/.venv/lib/python3.10/site-packages/buildingmotif/database/table_connection.py:423: SAWarning: Identity map already had an identity for (<class 'buildingmotif.database.tables.DepsAssociation'>, (7,), None), replacing it with newly flushed object.   Are there load operations occurring inside of an event handler within the flush?\n",
      "  self.bm.session.flush()\n",
      "DEBUG:buildingmotif.database.table_connection:Creating depencency from templates with ids: '3' and: '19'\n",
      "/Users/lazlopaul/Desktop/HPflex/Semantic_MPC_Interface/.venv/lib/python3.10/site-packages/buildingmotif/database/table_connection.py:423: SAWarning: Identity map already had an identity for (<class 'buildingmotif.database.tables.DepsAssociation'>, (8,), None), replacing it with newly flushed object.   Are there load operations occurring inside of an event handler within the flush?\n",
      "  self.bm.session.flush()\n",
      "DEBUG:buildingmotif.database.table_connection:Creating depencency from templates with ids: '3' and: '21'\n",
      "DEBUG:buildingmotif.database.table_connection:Creating depencency from templates with ids: '3' and: '20'\n",
      "DEBUG:buildingmotif.database.table_connection:Creating depencency from templates with ids: '4' and: '24'\n",
      "DEBUG:buildingmotif.database.table_connection:Creating depencency from templates with ids: '4' and: '25'\n",
      "DEBUG:buildingmotif.database.table_connection:Creating depencency from templates with ids: '4' and: '22'\n",
      "DEBUG:buildingmotif.database.table_connection:Creating depencency from templates with ids: '4' and: '23'\n",
      "DEBUG:buildingmotif.database.table_connection:Creating depencency from templates with ids: '5' and: '36'\n",
      "DEBUG:buildingmotif.database.table_connection:Creating depencency from templates with ids: '5' and: '37'\n",
      "DEBUG:buildingmotif.database.table_connection:Creating depencency from templates with ids: '5' and: '38'\n",
      "DEBUG:buildingmotif.database.table_connection:Creating depencency from templates with ids: '5' and: '40'\n",
      "DEBUG:buildingmotif.database.table_connection:Creating depencency from templates with ids: '5' and: '39'\n",
      "DEBUG:buildingmotif.database.table_connection:Creating depencency from templates with ids: '6' and: '29'\n",
      "DEBUG:buildingmotif.database.table_connection:Creating depencency from templates with ids: '6' and: '30'\n",
      "DEBUG:buildingmotif.database.table_connection:Creating depencency from templates with ids: '6' and: '31'\n",
      "DEBUG:buildingmotif.database.table_connection:Creating depencency from templates with ids: '6' and: '32'\n",
      "DEBUG:buildingmotif.database.table_connection:Creating depencency from templates with ids: '6' and: '5'\n",
      "DEBUG:buildingmotif.database.table_connection:Creating depencency from templates with ids: '6' and: '26'\n",
      "DEBUG:buildingmotif.database.table_connection:Creating depencency from templates with ids: '6' and: '27'\n",
      "DEBUG:buildingmotif.database.table_connection:Creating depencency from templates with ids: '6' and: '28'\n",
      "DEBUG:buildingmotif.database.table_connection:Creating depencency from templates with ids: '7' and: '41'\n",
      "DEBUG:buildingmotif.database.table_connection:Creating depencency from templates with ids: '7' and: '42'\n",
      "DEBUG:buildingmotif.database.table_connection:Creating depencency from templates with ids: '7' and: '43'\n",
      "DEBUG:buildingmotif.database.table_connection:Creating depencency from templates with ids: '7' and: '44'\n",
      "DEBUG:buildingmotif.database.table_connection:Creating depencency from templates with ids: '1' and: '2'\n",
      "DEBUG:buildingmotif.database.table_connection:Creating depencency from templates with ids: '1' and: '3'\n",
      "DEBUG:buildingmotif.database.table_connection:Creating depencency from templates with ids: '1' and: '5'\n",
      "DEBUG:buildingmotif.database.table_connection:Creating depencency from templates with ids: '1' and: '14'\n",
      "DEBUG:buildingmotif.database.table_connection:Creating depencency from templates with ids: '1' and: '15'\n",
      "DEBUG:buildingmotif.database.table_connection:Creating depencency from templates with ids: '1' and: '16'\n",
      "DEBUG:buildingmotif.database.table_connection:Creating depencency from templates with ids: '2' and: '19'\n",
      "DEBUG:buildingmotif.database.table_connection:Creating depencency from templates with ids: '3' and: '19'\n",
      "DEBUG:buildingmotif.database.table_connection:Creating depencency from templates with ids: '3' and: '20'\n",
      "DEBUG:buildingmotif.database.table_connection:Creating depencency from templates with ids: '3' and: '21'\n",
      "DEBUG:buildingmotif.database.table_connection:Creating depencency from templates with ids: '4' and: '22'\n",
      "DEBUG:buildingmotif.database.table_connection:Creating depencency from templates with ids: '4' and: '23'\n",
      "DEBUG:buildingmotif.database.table_connection:Creating depencency from templates with ids: '4' and: '24'\n",
      "DEBUG:buildingmotif.database.table_connection:Creating depencency from templates with ids: '4' and: '25'\n",
      "DEBUG:buildingmotif.database.table_connection:Creating depencency from templates with ids: '5' and: '36'\n",
      "DEBUG:buildingmotif.database.table_connection:Creating depencency from templates with ids: '5' and: '37'\n",
      "DEBUG:buildingmotif.database.table_connection:Creating depencency from templates with ids: '5' and: '38'\n",
      "DEBUG:buildingmotif.database.table_connection:Creating depencency from templates with ids: '5' and: '39'\n",
      "DEBUG:buildingmotif.database.table_connection:Creating depencency from templates with ids: '5' and: '40'\n",
      "DEBUG:buildingmotif.database.table_connection:Creating depencency from templates with ids: '6' and: '5'\n",
      "DEBUG:buildingmotif.database.table_connection:Creating depencency from templates with ids: '6' and: '26'\n",
      "DEBUG:buildingmotif.database.table_connection:Creating depencency from templates with ids: '6' and: '27'\n",
      "DEBUG:buildingmotif.database.table_connection:Creating depencency from templates with ids: '6' and: '28'\n",
      "DEBUG:buildingmotif.database.table_connection:Creating depencency from templates with ids: '6' and: '29'\n",
      "DEBUG:buildingmotif.database.table_connection:Creating depencency from templates with ids: '6' and: '30'\n",
      "DEBUG:buildingmotif.database.table_connection:Creating depencency from templates with ids: '6' and: '31'\n",
      "DEBUG:buildingmotif.database.table_connection:Creating depencency from templates with ids: '6' and: '32'\n",
      "DEBUG:buildingmotif.database.table_connection:Creating depencency from templates with ids: '7' and: '41'\n",
      "DEBUG:buildingmotif.database.table_connection:Creating depencency from templates with ids: '7' and: '42'\n",
      "DEBUG:buildingmotif.database.table_connection:Creating depencency from templates with ids: '7' and: '43'\n",
      "DEBUG:buildingmotif.database.table_connection:Creating depencency from templates with ids: '7' and: '44'\n"
     ]
    }
   ],
   "source": [
    "tmp = Library.load(directory='src/semantic_mpc_interface/templates/brick-templates')"
   ]
  },
  {
   "cell_type": "code",
   "execution_count": 9,
   "id": "4a00915c",
   "metadata": {},
   "outputs": [],
   "source": [
    "zone = tmp.get_template_by_name('hvac-zone')"
   ]
  },
  {
   "cell_type": "code",
   "execution_count": 10,
   "id": "9f9ea5e4",
   "metadata": {},
   "outputs": [
    {
     "data": {
      "text/plain": [
       "['space_name', 'window_name', 'tstat_name']"
      ]
     },
     "execution_count": 10,
     "metadata": {},
     "output_type": "execute_result"
    }
   ],
   "source": [
    "zone.optional_args"
   ]
  },
  {
   "cell_type": "code",
   "execution_count": 11,
   "id": "ecadb964",
   "metadata": {},
   "outputs": [
    {
     "name": "stderr",
     "output_type": "stream",
     "text": [
      "DEBUG:buildingmotif.database.table_connection:Deleting depencency from templates with ids: '1' and: '2'\n",
      "DEBUG:buildingmotif.database.table_connection:Deleting depencency from templates with ids: '1' and: '3'\n",
      "DEBUG:buildingmotif.database.table_connection:Deleting depencency from templates with ids: '1' and: '5'\n",
      "DEBUG:buildingmotif.database.table_connection:Deleting depencency from templates with ids: '1' and: '14'\n",
      "DEBUG:buildingmotif.database.table_connection:Deleting depencency from templates with ids: '1' and: '15'\n",
      "DEBUG:buildingmotif.database.table_connection:Deleting depencency from templates with ids: '1' and: '16'\n"
     ]
    },
    {
     "name": "stdout",
     "output_type": "stream",
     "text": [
      "@prefix brick: <https://brickschema.org/schema/Brick#> .\n",
      "@prefix ns1: <http://qudt.org/schema/qudt/> .\n",
      "@prefix xsd: <http://www.w3.org/2001/XMLSchema#> .\n",
      "\n",
      "<urn:___param___#tstat_name> a brick:Thermostat ;\n",
      "    brick:hasLocation <urn:___param___#name> ;\n",
      "    brick:hasPoint <urn:___param___#tstat_name-active>,\n",
      "        <urn:___param___#tstat_name-setpoint_deadband>,\n",
      "        <urn:___param___#tstat_name-tolerance> ;\n",
      "    brick:operationalStageCount <urn:___param___#tstat_name-stage_count> ;\n",
      "    brick:resolution <urn:___param___#tstat_name-resolution> .\n",
      "\n",
      "<urn:___param___#name> a brick:HVAC_Zone ;\n",
      "    brick:hasPart <urn:___param___#space_name>,\n",
      "        <urn:___param___#window_name> .\n",
      "\n",
      "<urn:___param___#tstat_name-active> a brick:Availability_Status ;\n",
      "    brick:value <urn:___param___#tstat_name-active-value> .\n",
      "\n",
      "<urn:___param___#tstat_name-resolution> ns1:hasUnit <urn:___param___#tstat_name-resolution-unit> ;\n",
      "    ns1:isDeltaQuantity true ;\n",
      "    brick:value <urn:___param___#tstat_name-resolution-value> .\n",
      "\n",
      "<urn:___param___#tstat_name-setpoint_deadband> a brick:Temperature_Deadband_Setpoint ;\n",
      "    ns1:hasQuantityKind <http://qudt.org/vocab/quantitykind/Temperature> ;\n",
      "    ns1:hasUnit <urn:___param___#tstat_name-setpoint_deadband-unit> ;\n",
      "    ns1:isDeltaQuantity true ;\n",
      "    brick:value <urn:___param___#tstat_name-setpoint_deadband-value> .\n",
      "\n",
      "<urn:___param___#tstat_name-stage_count> ns1:hasQuantityKind <http://qudt.org/vocab/quantitykind/Count> ;\n",
      "    ns1:hasUnit <http://qudt.org/vocab/unit/NUM> ;\n",
      "    brick:value <urn:___param___#tstat_name-stage_count-value> .\n",
      "\n",
      "<urn:___param___#tstat_name-tolerance> a brick:Temperature_Tolerance_Parameter ;\n",
      "    ns1:hasQuantityKind <http://qudt.org/vocab/quantitykind/Temperature> ;\n",
      "    ns1:hasUnit <urn:___param___#tstat_name-tolerance-unit> ;\n",
      "    ns1:isDeltaQuantity true ;\n",
      "    brick:value <urn:___param___#tstat_name-tolerance-value> .\n",
      "\n",
      "<urn:___param___#window_name> a brick:Window ;\n",
      "    brick:area <urn:___param___#window_name-area_name> ;\n",
      "    brick:azimuth <urn:___param___#window_name-azimuth_name> ;\n",
      "    brick:tilt <urn:___param___#window_name-tilt_name> .\n",
      "\n",
      "<urn:___param___#window_name-area_name> ns1:hasQuantityKind <http://qudt.org/vocab/quantitykind/Area> ;\n",
      "    ns1:hasUnit <urn:___param___#window_name-area_unit> ;\n",
      "    brick:value <urn:___param___#window_name-area_value> .\n",
      "\n",
      "<urn:___param___#window_name-azimuth_name> ns1:hasQuantityKind <http://qudt.org/vocab/quantitykind/Azimuth> ;\n",
      "    ns1:hasUnit <http://qudt.org/vocab/unit/Degree> ;\n",
      "    brick:value <urn:___param___#window_name-azimuth_value> .\n",
      "\n",
      "<urn:___param___#window_name-tilt_name> ns1:hasQuantityKind <http://qudt.org/vocab/quantitykind/Tilt> ;\n",
      "    ns1:hasUnit <http://qudt.org/vocab/unit/Degree> ;\n",
      "    brick:value <urn:___param___#window_name-tilt_value> .\n",
      "\n",
      "\n",
      "@prefix brick: <https://brickschema.org/schema/Brick#> .\n",
      "@prefix ns1: <http://qudt.org/schema/qudt/> .\n",
      "@prefix xsd: <http://www.w3.org/2001/XMLSchema#> .\n",
      "\n",
      "<urn:___param___#tstat_name> a brick:Thermostat ;\n",
      "    brick:hasLocation <urn:___param___#name> ;\n",
      "    brick:hasPoint <urn:___param___#tstat_name-active>,\n",
      "        <urn:___param___#tstat_name-setpoint_deadband>,\n",
      "        <urn:___param___#tstat_name-tolerance> ;\n",
      "    brick:operationalStageCount <urn:___param___#tstat_name-stage_count> ;\n",
      "    brick:resolution <urn:___param___#tstat_name-resolution> .\n",
      "\n",
      "<urn:___param___#name> a brick:HVAC_Zone ;\n",
      "    brick:hasPart <urn:___param___#space_name>,\n",
      "        <urn:___param___#window_name> .\n",
      "\n",
      "<urn:___param___#tstat_name-active> a brick:Availability_Status ;\n",
      "    brick:value <urn:___param___#tstat_name-active-value> .\n",
      "\n",
      "<urn:___param___#tstat_name-resolution> ns1:hasUnit <urn:___param___#tstat_name-resolution-unit> ;\n",
      "    ns1:isDeltaQuantity true ;\n",
      "    brick:value <urn:___param___#tstat_name-resolution-value> .\n",
      "\n",
      "<urn:___param___#tstat_name-setpoint_deadband> a brick:Temperature_Deadband_Setpoint ;\n",
      "    ns1:hasQuantityKind <http://qudt.org/vocab/quantitykind/Temperature> ;\n",
      "    ns1:hasUnit <urn:___param___#tstat_name-setpoint_deadband-unit> ;\n",
      "    ns1:isDeltaQuantity true ;\n",
      "    brick:value <urn:___param___#tstat_name-setpoint_deadband-value> .\n",
      "\n",
      "<urn:___param___#tstat_name-stage_count> ns1:hasQuantityKind <http://qudt.org/vocab/quantitykind/Count> ;\n",
      "    ns1:hasUnit <http://qudt.org/vocab/unit/NUM> ;\n",
      "    brick:value <urn:___param___#tstat_name-stage_count-value> .\n",
      "\n",
      "<urn:___param___#tstat_name-tolerance> a brick:Temperature_Tolerance_Parameter ;\n",
      "    ns1:hasQuantityKind <http://qudt.org/vocab/quantitykind/Temperature> ;\n",
      "    ns1:hasUnit <urn:___param___#tstat_name-tolerance-unit> ;\n",
      "    ns1:isDeltaQuantity true ;\n",
      "    brick:value <urn:___param___#tstat_name-tolerance-value> .\n",
      "\n",
      "\n",
      "@prefix brick: <https://brickschema.org/schema/Brick#> .\n",
      "\n",
      "<urn:___param___#tstat_name> brick:hasLocation <urn:___param___#name> .\n",
      "\n",
      "<urn:___param___#name> a brick:HVAC_Zone ;\n",
      "    brick:hasPart <urn:___param___#space_name>,\n",
      "        <urn:___param___#window_name> .\n",
      "\n",
      "\n",
      "@prefix brick: <https://brickschema.org/schema/Brick#> .\n",
      "\n",
      "<urn:___param___#tstat_name> brick:hasLocation <urn:___param___#name> .\n",
      "\n",
      "<urn:___param___#name> a brick:HVAC_Zone ;\n",
      "    brick:hasPart <urn:___param___#window_name> .\n",
      "\n",
      "\n",
      "@prefix brick: <https://brickschema.org/schema/Brick#> .\n",
      "\n",
      "<urn:___param___#name> a brick:HVAC_Zone ;\n",
      "    brick:hasPart <urn:___param___#window_name> .\n",
      "\n",
      "\n",
      "@prefix brick: <https://brickschema.org/schema/Brick#> .\n",
      "\n",
      "<urn:___param___#name> a brick:HVAC_Zone .\n",
      "\n",
      "\n"
     ]
    }
   ],
   "source": [
    "for dependency in zone.get_dependencies():\n",
    "    zone.remove_dependency(dependency.template)\n",
    "    print(zone.inline_dependencies().body.serialize(format = 'ttl'))"
   ]
  },
  {
   "cell_type": "code",
   "execution_count": 12,
   "id": "7a0afa2f",
   "metadata": {},
   "outputs": [
    {
     "name": "stderr",
     "output_type": "stream",
     "text": [
      "DEBUG:buildingmotif.database.table_connection:Deleting depencency from templates with ids: '5' and: '36'\n",
      "DEBUG:buildingmotif.database.table_connection:Deleting depencency from templates with ids: '5' and: '37'\n",
      "DEBUG:buildingmotif.database.table_connection:Deleting depencency from templates with ids: '5' and: '38'\n",
      "DEBUG:buildingmotif.database.table_connection:Deleting depencency from templates with ids: '5' and: '39'\n",
      "DEBUG:buildingmotif.database.table_connection:Deleting depencency from templates with ids: '5' and: '40'\n"
     ]
    },
    {
     "name": "stdout",
     "output_type": "stream",
     "text": [
      "@prefix brick: <https://brickschema.org/schema/Brick#> .\n",
      "@prefix ns1: <http://qudt.org/schema/qudt/> .\n",
      "@prefix xsd: <http://www.w3.org/2001/XMLSchema#> .\n",
      "\n",
      "<urn:___param___#name> a brick:Thermostat ;\n",
      "    brick:hasPoint <urn:___param___#active>,\n",
      "        <urn:___param___#setpoint_deadband>,\n",
      "        <urn:___param___#tolerance> ;\n",
      "    brick:operationalStageCount <urn:___param___#stage_count> ;\n",
      "    brick:resolution <urn:___param___#resolution> .\n",
      "\n",
      "<urn:___param___#active> a brick:Availability_Status ;\n",
      "    brick:value <urn:___param___#active-value> .\n",
      "\n",
      "<urn:___param___#resolution> ns1:hasUnit <urn:___param___#resolution-unit> ;\n",
      "    ns1:isDeltaQuantity true ;\n",
      "    brick:value <urn:___param___#resolution-value> .\n",
      "\n",
      "<urn:___param___#setpoint_deadband> a brick:Temperature_Deadband_Setpoint ;\n",
      "    ns1:hasQuantityKind <http://qudt.org/vocab/quantitykind/Temperature> ;\n",
      "    ns1:hasUnit <urn:___param___#setpoint_deadband-unit> ;\n",
      "    ns1:isDeltaQuantity true ;\n",
      "    brick:value <urn:___param___#setpoint_deadband-value> .\n",
      "\n",
      "<urn:___param___#tolerance> a brick:Temperature_Tolerance_Parameter ;\n",
      "    ns1:hasQuantityKind <http://qudt.org/vocab/quantitykind/Temperature> ;\n",
      "    ns1:hasUnit <urn:___param___#tolerance-unit> ;\n",
      "    ns1:isDeltaQuantity true ;\n",
      "    brick:value <urn:___param___#tolerance-value> .\n",
      "\n",
      "\n",
      "@prefix brick: <https://brickschema.org/schema/Brick#> .\n",
      "@prefix ns1: <http://qudt.org/schema/qudt/> .\n",
      "@prefix xsd: <http://www.w3.org/2001/XMLSchema#> .\n",
      "\n",
      "<urn:___param___#name> a brick:Thermostat ;\n",
      "    brick:hasPoint <urn:___param___#active>,\n",
      "        <urn:___param___#setpoint_deadband>,\n",
      "        <urn:___param___#tolerance> ;\n",
      "    brick:operationalStageCount <urn:___param___#stage_count> ;\n",
      "    brick:resolution <urn:___param___#resolution> .\n",
      "\n",
      "<urn:___param___#active> a brick:Availability_Status ;\n",
      "    brick:value <urn:___param___#active-value> .\n",
      "\n",
      "<urn:___param___#resolution> ns1:hasUnit <urn:___param___#resolution-unit> ;\n",
      "    ns1:isDeltaQuantity true ;\n",
      "    brick:value <urn:___param___#resolution-value> .\n",
      "\n",
      "<urn:___param___#tolerance> a brick:Temperature_Tolerance_Parameter ;\n",
      "    ns1:hasQuantityKind <http://qudt.org/vocab/quantitykind/Temperature> ;\n",
      "    ns1:hasUnit <urn:___param___#tolerance-unit> ;\n",
      "    ns1:isDeltaQuantity true ;\n",
      "    brick:value <urn:___param___#tolerance-value> .\n",
      "\n",
      "\n",
      "@prefix brick: <https://brickschema.org/schema/Brick#> .\n",
      "@prefix ns1: <http://qudt.org/schema/qudt/> .\n",
      "@prefix xsd: <http://www.w3.org/2001/XMLSchema#> .\n",
      "\n",
      "<urn:___param___#name> a brick:Thermostat ;\n",
      "    brick:hasPoint <urn:___param___#active>,\n",
      "        <urn:___param___#setpoint_deadband>,\n",
      "        <urn:___param___#tolerance> ;\n",
      "    brick:operationalStageCount <urn:___param___#stage_count> ;\n",
      "    brick:resolution <urn:___param___#resolution> .\n",
      "\n",
      "<urn:___param___#active> a brick:Availability_Status ;\n",
      "    brick:value <urn:___param___#active-value> .\n",
      "\n",
      "<urn:___param___#resolution> ns1:hasUnit <urn:___param___#resolution-unit> ;\n",
      "    ns1:isDeltaQuantity true ;\n",
      "    brick:value <urn:___param___#resolution-value> .\n",
      "\n",
      "\n",
      "@prefix brick: <https://brickschema.org/schema/Brick#> .\n",
      "\n",
      "<urn:___param___#name> a brick:Thermostat ;\n",
      "    brick:hasPoint <urn:___param___#active>,\n",
      "        <urn:___param___#setpoint_deadband>,\n",
      "        <urn:___param___#tolerance> ;\n",
      "    brick:operationalStageCount <urn:___param___#stage_count> ;\n",
      "    brick:resolution <urn:___param___#resolution> .\n",
      "\n",
      "<urn:___param___#active> a brick:Availability_Status ;\n",
      "    brick:value <urn:___param___#active-value> .\n",
      "\n",
      "\n",
      "@prefix brick: <https://brickschema.org/schema/Brick#> .\n",
      "\n",
      "<urn:___param___#name> a brick:Thermostat ;\n",
      "    brick:hasPoint <urn:___param___#active>,\n",
      "        <urn:___param___#setpoint_deadband>,\n",
      "        <urn:___param___#tolerance> ;\n",
      "    brick:operationalStageCount <urn:___param___#stage_count> ;\n",
      "    brick:resolution <urn:___param___#resolution> .\n",
      "\n",
      "\n"
     ]
    }
   ],
   "source": [
    "tstat = tmp.get_template_by_name('tstat')\n",
    "for dependency in tstat.get_dependencies():\n",
    "    tstat.remove_dependency(dependency.template)\n",
    "    print(tstat.inline_dependencies().body.serialize(format = 'ttl'))"
   ]
  },
  {
   "cell_type": "code",
   "execution_count": 13,
   "id": "09177e4b",
   "metadata": {},
   "outputs": [],
   "source": [
    "zone_in = zone.inline_dependencies()"
   ]
  },
  {
   "cell_type": "code",
   "execution_count": 14,
   "id": "f766fdaa",
   "metadata": {},
   "outputs": [
    {
     "data": {
      "text/plain": [
       "{'name'}"
      ]
     },
     "metadata": {},
     "output_type": "display_data"
    }
   ],
   "source": [
    "display(zone_in.all_parameters)"
   ]
  },
  {
   "cell_type": "code",
   "execution_count": 15,
   "id": "b6fb4353",
   "metadata": {},
   "outputs": [
    {
     "name": "stdout",
     "output_type": "stream",
     "text": [
      "@prefix brick: <https://brickschema.org/schema/Brick#> .\n",
      "\n",
      "<urn:___param___#name> a brick:HVAC_Zone .\n",
      "\n",
      "\n"
     ]
    }
   ],
   "source": [
    "print(zone_in.body.serialize(format = 'ttl'))"
   ]
  },
  {
   "cell_type": "code",
   "execution_count": 16,
   "id": "6e025839",
   "metadata": {},
   "outputs": [],
   "source": [
    "def get_var_name(graph, node):\n",
    "    pre, ns, local = graph.compute_qname(node)\n",
    "    if PARAM == ns:\n",
    "        q_n = f\"?{local}\".replace('-','_')\n",
    "    else:\n",
    "        q_n = convert_to_prefixed(node, graph).replace('-','_')\n",
    "    return q_n"
   ]
  },
  {
   "cell_type": "code",
   "execution_count": 17,
   "id": "66697be5",
   "metadata": {},
   "outputs": [],
   "source": [
    "def make_where(graph):\n",
    "    where = []\n",
    "    for s,p,o in graph.triples((None,None,None)):\n",
    "        # print(s,p,o)\n",
    "        qs = get_var_name(graph, s)\n",
    "        qo = get_var_name(graph, o)\n",
    "        qp = convert_to_prefixed(p, graph).replace('-','_')\n",
    "        where.append(f\"{qs} {qp} {qo} .\")\n",
    "    return \"\\n\".join(where)"
   ]
  },
  {
   "cell_type": "code",
   "execution_count": 18,
   "id": "c5fded6c",
   "metadata": {},
   "outputs": [],
   "source": [
    "def get_query(graph):\n",
    "     where = make_where(graph)\n",
    "     prefixes = get_prefixes(graph)\n",
    "     query = f\"\"\"{prefixes}\\nSELECT DISTINCT * WHERE {{ {where} }}\"\"\"\n",
    "     return query"
   ]
  },
  {
   "cell_type": "code",
   "execution_count": 19,
   "id": "cf27f333",
   "metadata": {},
   "outputs": [],
   "source": [
    "query = get_query(zone_in.body)"
   ]
  },
  {
   "cell_type": "code",
   "execution_count": 20,
   "id": "c4845dca",
   "metadata": {},
   "outputs": [
    {
     "name": "stdout",
     "output_type": "stream",
     "text": [
      "PREFIX brick: <https://brickschema.org/schema/Brick#>\n",
      "PREFIX csvw: <http://www.w3.org/ns/csvw#>\n",
      "PREFIX dc: <http://purl.org/dc/elements/1.1/>\n",
      "PREFIX dcat: <http://www.w3.org/ns/dcat#>\n",
      "PREFIX dcmitype: <http://purl.org/dc/dcmitype/>\n",
      "PREFIX dcterms: <http://purl.org/dc/terms/>\n",
      "PREFIX dcam: <http://purl.org/dc/dcam/>\n",
      "PREFIX doap: <http://usefulinc.com/ns/doap#>\n",
      "PREFIX foaf: <http://xmlns.com/foaf/0.1/>\n",
      "PREFIX geo: <http://www.opengis.net/ont/geosparql#>\n",
      "PREFIX odrl: <http://www.w3.org/ns/odrl/2/>\n",
      "PREFIX org: <http://www.w3.org/ns/org#>\n",
      "PREFIX prof: <http://www.w3.org/ns/dx/prof/>\n",
      "PREFIX prov: <http://www.w3.org/ns/prov#>\n",
      "PREFIX qb: <http://purl.org/linked-data/cube#>\n",
      "PREFIX schema: <https://schema.org/>\n",
      "PREFIX sh: <http://www.w3.org/ns/shacl#>\n",
      "PREFIX skos: <http://www.w3.org/2004/02/skos/core#>\n",
      "PREFIX sosa: <http://www.w3.org/ns/sosa/>\n",
      "PREFIX ssn: <http://www.w3.org/ns/ssn/>\n",
      "PREFIX time: <http://www.w3.org/2006/time#>\n",
      "PREFIX vann: <http://purl.org/vocab/vann/>\n",
      "PREFIX void: <http://rdfs.org/ns/void#>\n",
      "PREFIX wgs: <https://www.w3.org/2003/01/geo/wgs84_pos#>\n",
      "PREFIX owl: <http://www.w3.org/2002/07/owl#>\n",
      "PREFIX rdf: <http://www.w3.org/1999/02/22-rdf-syntax-ns#>\n",
      "PREFIX rdfs: <http://www.w3.org/2000/01/rdf-schema#>\n",
      "PREFIX xsd: <http://www.w3.org/2001/XMLSchema#>\n",
      "PREFIX xml: <http://www.w3.org/XML/1998/namespace>\n",
      "PREFIX ns1: <urn:___param___#>\n",
      "SELECT DISTINCT * WHERE { ?name rdf:type brick:HVAC_Zone . }\n"
     ]
    }
   ],
   "source": [
    "print(query)"
   ]
  },
  {
   "cell_type": "code",
   "execution_count": 21,
   "id": "e5ab2c33",
   "metadata": {},
   "outputs": [
    {
     "data": {
      "text/plain": [
       "<Graph identifier=Nceab15ba2291437395b7b978fc17e1bc (<class 'rdflib.graph.Graph'>)>"
      ]
     },
     "execution_count": 21,
     "metadata": {},
     "output_type": "execute_result"
    }
   ],
   "source": [
    "g = Graph()\n",
    "g.parse('tutorial/bldg2.ttl')"
   ]
  },
  {
   "cell_type": "code",
   "execution_count": 22,
   "id": "1341337d",
   "metadata": {},
   "outputs": [],
   "source": [
    "df = query_to_df(query, g)"
   ]
  },
  {
   "cell_type": "code",
   "execution_count": 23,
   "id": "58116d40",
   "metadata": {},
   "outputs": [],
   "source": [
    "class Value:\n",
    "    unit: str\n",
    "    value: float"
   ]
  },
  {
   "cell_type": "code",
   "execution_count": 24,
   "id": "a094a4f1",
   "metadata": {},
   "outputs": [
    {
     "data": {
      "application/vnd.microsoft.datawrangler.viewer.v0+json": {
       "columns": [
        {
         "name": "index",
         "rawType": "int64",
         "type": "integer"
        },
        {
         "name": "name",
         "rawType": "object",
         "type": "string"
        }
       ],
       "ref": "b23c2409-d9d9-4035-82d8-8b7bd86e3118",
       "rows": [
        [
         "0",
         "urn:hpflex/hpflex_demo#zone_1"
        ],
        [
         "1",
         "urn:hpflex/hpflex_demo#zone_2"
        ],
        [
         "2",
         "urn:hpflex/hpflex_demo#zone_3"
        ],
        [
         "3",
         "urn:hpflex/hpflex_demo#zone_4"
        ]
       ],
       "shape": {
        "columns": 1,
        "rows": 4
       }
      },
      "text/html": [
       "<div>\n",
       "<style scoped>\n",
       "    .dataframe tbody tr th:only-of-type {\n",
       "        vertical-align: middle;\n",
       "    }\n",
       "\n",
       "    .dataframe tbody tr th {\n",
       "        vertical-align: top;\n",
       "    }\n",
       "\n",
       "    .dataframe thead th {\n",
       "        text-align: right;\n",
       "    }\n",
       "</style>\n",
       "<table border=\"1\" class=\"dataframe\">\n",
       "  <thead>\n",
       "    <tr style=\"text-align: right;\">\n",
       "      <th></th>\n",
       "      <th>name</th>\n",
       "    </tr>\n",
       "  </thead>\n",
       "  <tbody>\n",
       "    <tr>\n",
       "      <th>0</th>\n",
       "      <td>urn:hpflex/hpflex_demo#zone_1</td>\n",
       "    </tr>\n",
       "    <tr>\n",
       "      <th>1</th>\n",
       "      <td>urn:hpflex/hpflex_demo#zone_2</td>\n",
       "    </tr>\n",
       "    <tr>\n",
       "      <th>2</th>\n",
       "      <td>urn:hpflex/hpflex_demo#zone_3</td>\n",
       "    </tr>\n",
       "    <tr>\n",
       "      <th>3</th>\n",
       "      <td>urn:hpflex/hpflex_demo#zone_4</td>\n",
       "    </tr>\n",
       "  </tbody>\n",
       "</table>\n",
       "</div>"
      ],
      "text/plain": [
       "                            name\n",
       "0  urn:hpflex/hpflex_demo#zone_1\n",
       "1  urn:hpflex/hpflex_demo#zone_2\n",
       "2  urn:hpflex/hpflex_demo#zone_3\n",
       "3  urn:hpflex/hpflex_demo#zone_4"
      ]
     },
     "execution_count": 24,
     "metadata": {},
     "output_type": "execute_result"
    }
   ],
   "source": [
    "df"
   ]
  },
  {
   "cell_type": "code",
   "execution_count": 25,
   "id": "0601ae0f",
   "metadata": {},
   "outputs": [],
   "source": [
    "zone_in.generate_csv('test.csv')"
   ]
  },
  {
   "cell_type": "code",
   "execution_count": 26,
   "id": "57e94045",
   "metadata": {},
   "outputs": [
    {
     "data": {
      "text/plain": [
       "Template(_id=1, _name='hvac-zone', body=<Graph identifier=3a2e1bf3-e5f5-420f-8ee1-9c9d10ca7a0c (<class 'rdflib.graph.Graph'>)>, optional_args=['space_name', 'window_name', 'tstat_name'], _bm=<buildingmotif.building_motif.building_motif.BuildingMOTIF object at 0x104fffc70>)"
      ]
     },
     "execution_count": 26,
     "metadata": {},
     "output_type": "execute_result"
    }
   ],
   "source": [
    "zone"
   ]
  },
  {
   "cell_type": "code",
   "execution_count": 27,
   "id": "b15c8535",
   "metadata": {},
   "outputs": [],
   "source": [
    "zone_part = zone_in.evaluate({p:HPF[p] for p in zone_in.all_parameters if p.split('_')[-1] == 'name'})"
   ]
  },
  {
   "cell_type": "code",
   "execution_count": 28,
   "id": "d14de850",
   "metadata": {},
   "outputs": [
    {
     "ename": "AttributeError",
     "evalue": "'Graph' object has no attribute 'generate_csv'",
     "output_type": "error",
     "traceback": [
      "\u001b[0;31m---------------------------------------------------------------------------\u001b[0m",
      "\u001b[0;31mAttributeError\u001b[0m                            Traceback (most recent call last)",
      "Cell \u001b[0;32mIn[28], line 1\u001b[0m\n\u001b[0;32m----> 1\u001b[0m \u001b[43mzone_part\u001b[49m\u001b[38;5;241;43m.\u001b[39;49m\u001b[43mgenerate_csv\u001b[49m(\u001b[38;5;124m'\u001b[39m\u001b[38;5;124mtest.csv\u001b[39m\u001b[38;5;124m'\u001b[39m)\n\u001b[1;32m      2\u001b[0m \u001b[38;5;66;03m# dependencies are showing up in headers for some reason - can just remove these. \u001b[39;00m\n\u001b[1;32m      3\u001b[0m \u001b[38;5;66;03m# dependencies = zone_part.get_dependencies()\u001b[39;00m\n\u001b[1;32m      4\u001b[0m \n\u001b[0;32m   (...)\u001b[0m\n\u001b[1;32m     10\u001b[0m \u001b[38;5;66;03m# # Save the new CSV\u001b[39;00m\n\u001b[1;32m     11\u001b[0m \u001b[38;5;66;03m# df.to_csv('test.csv', index=False)\u001b[39;00m\n",
      "\u001b[0;31mAttributeError\u001b[0m: 'Graph' object has no attribute 'generate_csv'"
     ]
    }
   ],
   "source": [
    "zone_part.generate_csv('test.csv')\n",
    "# dependencies are showing up in headers for some reason - can just remove these. \n",
    "# dependencies = zone_part.get_dependencies()\n",
    "\n",
    "# df = pd.read_csv('test.csv')\n",
    "\n",
    "# remove_cols = [dependency.template.name for dependency in zone.get_dependencies()]\n",
    "# df = df.drop(columns=remove_cols)\n",
    "\n",
    "# # Save the new CSV\n",
    "# df.to_csv('test.csv', index=False)\n"
   ]
  },
  {
   "cell_type": "code",
   "execution_count": null,
   "id": "18464261",
   "metadata": {},
   "outputs": [],
   "source": [
    "site = tmp.get_template_by_name('site')\n",
    "site.inline_dependencies().generate_csv('test.csv')"
   ]
  },
  {
   "cell_type": "code",
   "execution_count": null,
   "id": "dc4f666b",
   "metadata": {},
   "outputs": [],
   "source": []
  },
  {
   "cell_type": "code",
   "execution_count": 1,
   "id": "16ed15e8",
   "metadata": {},
   "outputs": [
    {
     "name": "stderr",
     "output_type": "stream",
     "text": [
      "CRITICAL:root:Install the 'bacnet-ingress' module, e.g. 'pip install buildingmotif[bacnet-ingress]'\n"
     ]
    }
   ],
   "source": [
    "from semantic_mpc_interface import HPFlexSurvey"
   ]
  },
  {
   "cell_type": "code",
   "execution_count": 2,
   "id": "1325e94a",
   "metadata": {},
   "outputs": [
    {
     "name": "stderr",
     "output_type": "stream",
     "text": [
      "DEBUG:buildingmotif.database.graph_connection:Creating tables for graph storage\n"
     ]
    },
    {
     "name": "stderr",
     "output_type": "stream",
     "text": [
      "DEBUG:buildingmotif.database.table_connection:Creating shape collection in library: 'brick-templates'\n",
      "DEBUG:buildingmotif.database.table_connection:Creating database library: 'brick-templates'\n",
      "DEBUG:buildingmotif.database.table_connection:Creating database template: 'hvac-zone'\n",
      "DEBUG:buildingmotif.database.graph_connection:Creating graph: '1a1f1946-ffdd-449a-920a-60b404dd593a' in database with: 1 triples\n",
      "DEBUG:buildingmotif.database.table_connection:Creating database template: 'space'\n",
      "DEBUG:buildingmotif.database.graph_connection:Creating graph: '517ba322-65de-44ce-bf08-663ec5da9295' in database with: 2 triples\n",
      "DEBUG:buildingmotif.database.table_connection:Creating database template: 'window'\n",
      "DEBUG:buildingmotif.database.graph_connection:Creating graph: '214bd203-450d-4783-920b-d0e3c03a5c43' in database with: 4 triples\n",
      "DEBUG:buildingmotif.database.table_connection:Creating database template: 'hp-rtu'\n",
      "DEBUG:buildingmotif.database.graph_connection:Creating graph: '2e113991-47e3-4223-8f05-7396fd16e287' in database with: 6 triples\n",
      "DEBUG:buildingmotif.database.table_connection:Creating database template: 'tstat'\n",
      "DEBUG:buildingmotif.database.graph_connection:Creating graph: 'd87da00f-8059-4195-844f-b5fae0d46c78' in database with: 6 triples\n",
      "DEBUG:buildingmotif.database.table_connection:Creating database template: 'tstat-heating-cooling-occupancy'\n",
      "DEBUG:buildingmotif.database.graph_connection:Creating graph: '4503e123-8daa-47c8-8f06-88cdbcab44cc' in database with: 8 triples\n",
      "DEBUG:buildingmotif.database.table_connection:Creating database template: 'site'\n",
      "DEBUG:buildingmotif.database.graph_connection:Creating graph: '68802f95-0188-48ad-8156-748ff77045f7' in database with: 5 triples\n",
      "DEBUG:buildingmotif.database.table_connection:Creating database template: 'air-bidirectional-connectionpoint'\n",
      "DEBUG:buildingmotif.database.graph_connection:Creating graph: 'b312cef7-0b94-4efb-b45d-0ac6bea11c54' in database with: 2 triples\n",
      "DEBUG:buildingmotif.database.table_connection:Creating database template: 'air-outlet-connectionpoint'\n",
      "DEBUG:buildingmotif.database.graph_connection:Creating graph: '899d37f6-678f-4f41-ada1-9ec8c67a6bb5' in database with: 3 triples\n",
      "DEBUG:buildingmotif.database.table_connection:Creating database template: 'air-inlet-connectionpoint'\n",
      "DEBUG:buildingmotif.database.graph_connection:Creating graph: '41f950cb-0c5b-4c10-bbdf-9dcd48eb94cf' in database with: 3 triples\n",
      "DEBUG:buildingmotif.database.table_connection:Creating database template: 'connection'\n",
      "DEBUG:buildingmotif.database.graph_connection:Creating graph: '71216600-bcd1-43e2-90ae-9554f750804a' in database with: 1 triples\n",
      "DEBUG:buildingmotif.database.table_connection:Creating database template: 'has-point'\n",
      "DEBUG:buildingmotif.database.graph_connection:Creating graph: '5e1fa964-ca1f-4240-9e39-1362afad8644' in database with: 1 triples\n",
      "DEBUG:buildingmotif.database.table_connection:Creating database template: 'has-reference'\n",
      "DEBUG:buildingmotif.database.graph_connection:Creating graph: 'a3862534-95b5-4eed-8388-bc8073a16ab1' in database with: 1 triples\n",
      "DEBUG:buildingmotif.database.table_connection:Creating database template: 'has-space'\n",
      "DEBUG:buildingmotif.database.graph_connection:Creating graph: 'fa4660ea-7052-4cbe-8bac-225fd5efd2ff' in database with: 1 triples\n",
      "DEBUG:buildingmotif.database.table_connection:Creating database template: 'has-location'\n",
      "DEBUG:buildingmotif.database.graph_connection:Creating graph: '59aaba6a-3ace-405a-80c9-3b588ed3a380' in database with: 1 triples\n",
      "DEBUG:buildingmotif.database.table_connection:Creating database template: 'has-window'\n",
      "DEBUG:buildingmotif.database.graph_connection:Creating graph: '99899092-2208-4e3b-afd1-3f01e11f4fe3' in database with: 1 triples\n",
      "DEBUG:buildingmotif.database.table_connection:Creating database template: 'air-connects-to'\n",
      "DEBUG:buildingmotif.database.graph_connection:Creating graph: '660d54a3-c54f-4907-88bc-b92d7bbb1884' in database with: 1 triples\n",
      "DEBUG:buildingmotif.database.table_connection:Creating database template: 'air-bidirectional-connects-to'\n",
      "DEBUG:buildingmotif.database.graph_connection:Creating graph: '64208f51-7349-4415-bc60-0e4ff076a82c' in database with: 2 triples\n",
      "DEBUG:buildingmotif.database.table_connection:Creating database template: 'area'\n",
      "DEBUG:buildingmotif.database.graph_connection:Creating graph: '32a2144c-5e02-4121-ad4a-b65c2cad0d4a' in database with: 3 triples\n",
      "DEBUG:buildingmotif.database.table_connection:Creating database template: 'tilt'\n",
      "DEBUG:buildingmotif.database.graph_connection:Creating graph: '7d8d0761-d266-4bd3-9239-f152c2058db5' in database with: 3 triples\n",
      "DEBUG:buildingmotif.database.table_connection:Creating database template: 'azimuth'\n",
      "DEBUG:buildingmotif.database.graph_connection:Creating graph: '5c261b0a-4b7a-45c8-8b1d-0bded781e025' in database with: 3 triples\n",
      "DEBUG:buildingmotif.database.table_connection:Creating database template: 'cooling-COP'\n",
      "DEBUG:buildingmotif.database.graph_connection:Creating graph: 'ad30462e-e9e0-4528-9e9e-3712b0f7f249' in database with: 3 triples\n",
      "DEBUG:buildingmotif.database.table_connection:Creating database template: 'heating-COP'\n",
      "DEBUG:buildingmotif.database.graph_connection:Creating graph: '5841b3f2-8dd7-4477-acf0-8cf698cb9fe0' in database with: 3 triples\n",
      "DEBUG:buildingmotif.database.table_connection:Creating database template: 'cooling-capacity'\n",
      "DEBUG:buildingmotif.database.graph_connection:Creating graph: '5c28b0a2-551d-46d4-bb28-9a87948b0635' in database with: 3 triples\n",
      "DEBUG:buildingmotif.database.table_connection:Creating database template: 'heating-capacity'\n",
      "DEBUG:buildingmotif.database.graph_connection:Creating graph: '30f4eea0-5934-43ed-b27f-a31dec9d7005' in database with: 3 triples\n",
      "DEBUG:buildingmotif.database.table_connection:Creating database template: 'temperature'\n",
      "DEBUG:buildingmotif.database.graph_connection:Creating graph: 'ffced267-4893-4e58-bed8-e0e4c3d82ed1' in database with: 3 triples\n",
      "DEBUG:buildingmotif.database.table_connection:Creating database template: 'active-heating-stages'\n",
      "DEBUG:buildingmotif.database.graph_connection:Creating graph: '9e89e6b5-6ebc-4c8f-a96e-0b6ef6de5cc9' in database with: 3 triples\n",
      "DEBUG:buildingmotif.database.table_connection:Creating database template: 'active-cooling-stages'\n",
      "DEBUG:buildingmotif.database.graph_connection:Creating graph: '5c2b5dbf-96d4-4202-b86e-fba1412b997d' in database with: 3 triples\n",
      "DEBUG:buildingmotif.database.table_connection:Creating database template: 'occ-heating-setpoint'\n",
      "DEBUG:buildingmotif.database.graph_connection:Creating graph: 'cc208bc9-c894-455f-962f-6dcefb518742' in database with: 3 triples\n",
      "DEBUG:buildingmotif.database.table_connection:Creating database template: 'occ-cooling-setpoint'\n",
      "DEBUG:buildingmotif.database.graph_connection:Creating graph: 'b17ce1be-b05d-40be-9af4-9b10ba769141' in database with: 3 triples\n",
      "DEBUG:buildingmotif.database.table_connection:Creating database template: 'unocc-heating-setpoint'\n",
      "DEBUG:buildingmotif.database.graph_connection:Creating graph: '906fa23b-18fe-483f-b288-368a83488672' in database with: 3 triples\n",
      "DEBUG:buildingmotif.database.table_connection:Creating database template: 'unocc-cooling-setpoint'\n",
      "DEBUG:buildingmotif.database.graph_connection:Creating graph: '7062ec72-049f-491d-bb46-b071e7a67281' in database with: 3 triples\n",
      "DEBUG:buildingmotif.database.table_connection:Creating database template: 'effective-temperature-setpoint'\n",
      "DEBUG:buildingmotif.database.graph_connection:Creating graph: 'bfa8b88d-cf73-4d36-baac-44fbc1ebf363' in database with: 3 triples\n",
      "DEBUG:buildingmotif.database.table_connection:Creating database template: 'effective-heating-setpoint'\n",
      "DEBUG:buildingmotif.database.graph_connection:Creating graph: 'b8b4e372-e47e-480c-9c3a-7fffb9b2405e' in database with: 3 triples\n",
      "DEBUG:buildingmotif.database.table_connection:Creating database template: 'effective-cooling-setpoint'\n",
      "DEBUG:buildingmotif.database.graph_connection:Creating graph: '0a680e66-b1eb-439b-95c6-263e2f58a6d4' in database with: 3 triples\n",
      "DEBUG:buildingmotif.database.table_connection:Creating database template: 'tstat-stage_count'\n",
      "DEBUG:buildingmotif.database.graph_connection:Creating graph: '661575e0-296e-4e13-9266-0e5a5d74efb9' in database with: 3 triples\n",
      "DEBUG:buildingmotif.database.table_connection:Creating database template: 'tstat-deadband'\n",
      "DEBUG:buildingmotif.database.graph_connection:Creating graph: '6e8bfdec-5ed4-4929-bb1e-12413068cba6' in database with: 5 triples\n",
      "DEBUG:buildingmotif.database.table_connection:Creating database template: 'tstat-tolerance'\n",
      "DEBUG:buildingmotif.database.graph_connection:Creating graph: '7ffab575-3386-47f1-883c-df907efa3594' in database with: 5 triples\n",
      "DEBUG:buildingmotif.database.table_connection:Creating database template: 'tstat-resolution'\n",
      "DEBUG:buildingmotif.database.graph_connection:Creating graph: '722676bb-dece-436c-9c7e-4a7f7f0a6a34' in database with: 3 triples\n",
      "DEBUG:buildingmotif.database.table_connection:Creating database template: 'tstat-active'\n",
      "DEBUG:buildingmotif.database.graph_connection:Creating graph: '4873f5e2-fd1f-45b3-b87a-75dbbd8de128' in database with: 2 triples\n",
      "DEBUG:buildingmotif.database.table_connection:Creating database template: 'timezone'\n",
      "DEBUG:buildingmotif.database.graph_connection:Creating graph: '22dcf6b3-8f05-49c9-9b7b-d22b60afcf90' in database with: 2 triples\n",
      "DEBUG:buildingmotif.database.table_connection:Creating database template: 'latitude'\n",
      "DEBUG:buildingmotif.database.graph_connection:Creating graph: '0cb1933e-535f-4f0a-857d-2e70fe49498b' in database with: 3 triples\n",
      "DEBUG:buildingmotif.database.table_connection:Creating database template: 'longitude'\n",
      "DEBUG:buildingmotif.database.graph_connection:Creating graph: '8ac2c2b6-dadd-4ad8-aed1-e8d02b922f98' in database with: 3 triples\n",
      "DEBUG:buildingmotif.database.table_connection:Creating database template: 'noaastation'\n",
      "DEBUG:buildingmotif.database.graph_connection:Creating graph: 'cf6fc2ec-7413-43bc-b68b-952365a8f3ef' in database with: 1 triples\n",
      "DEBUG:buildingmotif.database.table_connection:Creating database template: 'volttron-external-reference'\n",
      "DEBUG:buildingmotif.database.graph_connection:Creating graph: 'befb7a58-2929-46e5-b19a-836a010f5c65' in database with: 2 triples\n",
      "DEBUG:buildingmotif.database.table_connection:Creating database template: 'point'\n",
      "DEBUG:buildingmotif.database.graph_connection:Creating graph: 'dd7a1b15-1f1a-492a-84a4-bd2bf36d65a9' in database with: 2 triples\n",
      "DEBUG:buildingmotif.database.table_connection:Creating depencency from templates with ids: '1' and: '14'\n",
      "DEBUG:buildingmotif.database.table_connection:Creating depencency from templates with ids: '1' and: '2'\n",
      "DEBUG:buildingmotif.database.table_connection:Creating depencency from templates with ids: '1' and: '16'\n",
      "DEBUG:buildingmotif.database.table_connection:Creating depencency from templates with ids: '1' and: '3'\n",
      "DEBUG:buildingmotif.database.table_connection:Creating depencency from templates with ids: '1' and: '15'\n",
      "DEBUG:buildingmotif.database.table_connection:Creating depencency from templates with ids: '1' and: '5'\n",
      "DEBUG:buildingmotif.database.table_connection:Creating depencency from templates with ids: '2' and: '19'\n",
      "DEBUG:buildingmotif.database.table_connection:Creating depencency from templates with ids: '3' and: '19'\n",
      "DEBUG:buildingmotif.database.table_connection:Creating depencency from templates with ids: '3' and: '21'\n",
      "DEBUG:buildingmotif.database.table_connection:Creating depencency from templates with ids: '3' and: '20'\n",
      "DEBUG:buildingmotif.database.table_connection:Creating depencency from templates with ids: '4' and: '24'\n",
      "DEBUG:buildingmotif.database.table_connection:Creating depencency from templates with ids: '4' and: '25'\n",
      "DEBUG:buildingmotif.database.table_connection:Creating depencency from templates with ids: '4' and: '22'\n",
      "DEBUG:buildingmotif.database.table_connection:Creating depencency from templates with ids: '4' and: '23'\n",
      "DEBUG:buildingmotif.database.table_connection:Creating depencency from templates with ids: '5' and: '36'\n",
      "DEBUG:buildingmotif.database.table_connection:Creating depencency from templates with ids: '5' and: '37'\n",
      "DEBUG:buildingmotif.database.table_connection:Creating depencency from templates with ids: '5' and: '38'\n",
      "DEBUG:buildingmotif.database.table_connection:Creating depencency from templates with ids: '5' and: '40'\n",
      "DEBUG:buildingmotif.database.table_connection:Creating depencency from templates with ids: '5' and: '39'\n",
      "DEBUG:buildingmotif.database.table_connection:Creating depencency from templates with ids: '6' and: '29'\n",
      "DEBUG:buildingmotif.database.table_connection:Creating depencency from templates with ids: '6' and: '30'\n",
      "DEBUG:buildingmotif.database.table_connection:Creating depencency from templates with ids: '6' and: '31'\n",
      "DEBUG:buildingmotif.database.table_connection:Creating depencency from templates with ids: '6' and: '32'\n",
      "DEBUG:buildingmotif.database.table_connection:Creating depencency from templates with ids: '6' and: '5'\n",
      "DEBUG:buildingmotif.database.table_connection:Creating depencency from templates with ids: '6' and: '26'\n",
      "DEBUG:buildingmotif.database.table_connection:Creating depencency from templates with ids: '6' and: '27'\n",
      "DEBUG:buildingmotif.database.table_connection:Creating depencency from templates with ids: '6' and: '28'\n",
      "DEBUG:buildingmotif.database.table_connection:Creating depencency from templates with ids: '7' and: '41'\n",
      "DEBUG:buildingmotif.database.table_connection:Creating depencency from templates with ids: '7' and: '42'\n",
      "DEBUG:buildingmotif.database.table_connection:Creating depencency from templates with ids: '7' and: '43'\n",
      "DEBUG:buildingmotif.database.table_connection:Creating depencency from templates with ids: '7' and: '44'\n",
      "DEBUG:buildingmotif.database.table_connection:Creating depencency from templates with ids: '1' and: '2'\n",
      "DEBUG:buildingmotif.database.table_connection:Creating depencency from templates with ids: '1' and: '3'\n",
      "DEBUG:buildingmotif.database.table_connection:Creating depencency from templates with ids: '1' and: '5'\n",
      "DEBUG:buildingmotif.database.table_connection:Creating depencency from templates with ids: '1' and: '14'\n",
      "DEBUG:buildingmotif.database.table_connection:Creating depencency from templates with ids: '1' and: '15'\n",
      "DEBUG:buildingmotif.database.table_connection:Creating depencency from templates with ids: '1' and: '16'\n",
      "DEBUG:buildingmotif.database.table_connection:Creating depencency from templates with ids: '2' and: '19'\n",
      "DEBUG:buildingmotif.database.table_connection:Creating depencency from templates with ids: '3' and: '19'\n",
      "DEBUG:buildingmotif.database.table_connection:Creating depencency from templates with ids: '3' and: '20'\n",
      "DEBUG:buildingmotif.database.table_connection:Creating depencency from templates with ids: '3' and: '21'\n",
      "DEBUG:buildingmotif.database.table_connection:Creating depencency from templates with ids: '4' and: '22'\n",
      "DEBUG:buildingmotif.database.table_connection:Creating depencency from templates with ids: '4' and: '23'\n",
      "DEBUG:buildingmotif.database.table_connection:Creating depencency from templates with ids: '4' and: '24'\n",
      "DEBUG:buildingmotif.database.table_connection:Creating depencency from templates with ids: '4' and: '25'\n",
      "DEBUG:buildingmotif.database.table_connection:Creating depencency from templates with ids: '5' and: '36'\n",
      "DEBUG:buildingmotif.database.table_connection:Creating depencency from templates with ids: '5' and: '37'\n",
      "DEBUG:buildingmotif.database.table_connection:Creating depencency from templates with ids: '5' and: '38'\n",
      "DEBUG:buildingmotif.database.table_connection:Creating depencency from templates with ids: '5' and: '39'\n",
      "DEBUG:buildingmotif.database.table_connection:Creating depencency from templates with ids: '5' and: '40'\n",
      "DEBUG:buildingmotif.database.table_connection:Creating depencency from templates with ids: '6' and: '5'\n",
      "DEBUG:buildingmotif.database.table_connection:Creating depencency from templates with ids: '6' and: '26'\n",
      "DEBUG:buildingmotif.database.table_connection:Creating depencency from templates with ids: '6' and: '27'\n",
      "DEBUG:buildingmotif.database.table_connection:Creating depencency from templates with ids: '6' and: '28'\n",
      "DEBUG:buildingmotif.database.table_connection:Creating depencency from templates with ids: '6' and: '29'\n",
      "DEBUG:buildingmotif.database.table_connection:Creating depencency from templates with ids: '6' and: '30'\n",
      "DEBUG:buildingmotif.database.table_connection:Creating depencency from templates with ids: '6' and: '31'\n",
      "DEBUG:buildingmotif.database.table_connection:Creating depencency from templates with ids: '6' and: '32'\n",
      "DEBUG:buildingmotif.database.table_connection:Creating depencency from templates with ids: '7' and: '41'\n",
      "DEBUG:buildingmotif.database.table_connection:Creating depencency from templates with ids: '7' and: '42'\n",
      "DEBUG:buildingmotif.database.table_connection:Creating depencency from templates with ids: '7' and: '43'\n",
      "DEBUG:buildingmotif.database.table_connection:Creating depencency from templates with ids: '7' and: '44'\n",
      "/Users/lazlopaul/Desktop/HPflex/Semantic_MPC_Interface/.venv/lib/python3.10/site-packages/pyshacl/extras/__init__.py:46: Warning: Extra \"js\" is not satisfied because requirement pyduktape2 is not installed.\n",
      "  warn(Warning(f\"Extra \\\"{extra_name}\\\" is not satisfied because requirement {req} is not installed.\"))\n",
      "DEBUG:buildingmotif.database.table_connection:Deleting depencency from templates with ids: '1' and: '2'\n",
      "DEBUG:buildingmotif.database.table_connection:Deleting depencency from templates with ids: '1' and: '3'\n",
      "DEBUG:buildingmotif.database.table_connection:Deleting depencency from templates with ids: '1' and: '5'\n"
     ]
    },
    {
     "name": "stdout",
     "output_type": "stream",
     "text": [
      "removing dependency:  space\n",
      "removing dependency:  window\n",
      "removing dependency:  tstat\n",
      "values dict_values([])\n",
      "values dict_values(['area_value'])\n",
      "values dict_values(['heating_capacity_value', 'cooling_capacity_value', 'heating_COP_value', 'cooling_COP_value'])\n",
      "values dict_values([])\n",
      "values dict_values(['tilt_value', 'azimuth_value', 'area_value'])\n"
     ]
    }
   ],
   "source": [
    "s = HPFlexSurvey('test_site','test_build','.', overwrite=True)"
   ]
  },
  {
   "cell_type": "code",
   "execution_count": 3,
   "id": "392ad0e5",
   "metadata": {},
   "outputs": [
    {
     "name": "stdout",
     "output_type": "stream",
     "text": [
      "{'site_id': 'test_site', 'hvac_type': 'hp-rtu', 'empty_params': {'hvac-zone': [], 'space': ['area_name'], 'hp-rtu': ['cooling_COP_name', 'heating_capacity_name', 'cooling_capacity_name', 'heating_COP_name'], 'tstat': [], 'window': ['azimuth_name', 'area_name', 'tilt_name']}, 'param_mapping': {'hvac-zone': {}, 'space': {'area': 'area_value'}, 'hp-rtu': {'heating_capacity': 'heating_capacity_value', 'cooling_capacity': 'cooling_capacity_value', 'heating_COP': 'heating_COP_value', 'cooling_COP': 'cooling_COP_value'}, 'tstat': {}, 'window': {'tilt': 'tilt_value', 'azimuth': 'azimuth_value', 'area': 'area_value'}}, 'hvacs_feed_hvacs': {}, 'hvacs_feed_zones': {'hvac_1': ['zone_1'], 'hvac_2': ['zone_2'], 'hvac_3': ['zone_3']}, 'zones_contain_spaces': {'zone_1': ['space_1_1', 'space_1_2'], 'zone_2': ['space_2_1'], 'zone_3': ['space_3_1']}, 'zones_contain_windows': {'zone_1': ['window_1_1', 'window_1_2'], 'zone_2': ['window_2_1', 'window_2_2'], 'zone_3': ['window_3_1', 'window_3_2', 'window_3_3']}}\n"
     ]
    }
   ],
   "source": [
    "s.easy_config(zone_space_window_list=[(2,2),(1,2),(1,3)])"
   ]
  },
  {
   "cell_type": "code",
   "execution_count": null,
   "id": "d8887c6e",
   "metadata": {},
   "outputs": [],
   "source": []
  }
 ],
 "metadata": {
  "kernelspec": {
   "display_name": "creating-brick-model",
   "language": "python",
   "name": "python3"
  },
  "language_info": {
   "codemirror_mode": {
    "name": "ipython",
    "version": 3
   },
   "file_extension": ".py",
   "mimetype": "text/x-python",
   "name": "python",
   "nbconvert_exporter": "python",
   "pygments_lexer": "ipython3",
   "version": "3.10.0"
  }
 },
 "nbformat": 4,
 "nbformat_minor": 5
}
