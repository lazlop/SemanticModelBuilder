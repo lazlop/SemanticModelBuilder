{
 "cells": [
  {
   "cell_type": "code",
   "execution_count": 1,
   "id": "a605f094",
   "metadata": {},
   "outputs": [],
   "source": [
    "from buildingmotif import BuildingMOTIF\n",
    "from buildingmotif.dataclasses import Library, Model\n",
    "from rdflib import Graph, Literal, Namespace, URIRef\n",
    "from semantic_mpc_interface.namespaces import * \n",
    "from semantic_mpc_interface.utils import * "
   ]
  },
  {
   "cell_type": "code",
   "execution_count": 2,
   "id": "82d7fd88",
   "metadata": {},
   "outputs": [],
   "source": [
    "bm = BuildingMOTIF(\"sqlite://\")\n",
    "model = Model.create(HPF)\n"
   ]
  },
  {
   "cell_type": "code",
   "execution_count": 3,
   "id": "2312109f",
   "metadata": {},
   "outputs": [
    {
     "name": "stderr",
     "output_type": "stream",
     "text": [
      "/Users/lazlopaul/Desktop/HPflex/Semantic_MPC_Interface/.venv/lib/python3.10/site-packages/pyshacl/extras/__init__.py:46: Warning: Extra \"js\" is not satisfied because requirement pyduktape2 is not installed.\n",
      "  warn(Warning(f\"Extra \\\"{extra_name}\\\" is not satisfied because requirement {req} is not installed.\"))\n"
     ]
    }
   ],
   "source": [
    "tmp = Library.load(directory='dataclasses/templates/brick-templates')"
   ]
  },
  {
   "cell_type": "code",
   "execution_count": 4,
   "id": "4a00915c",
   "metadata": {},
   "outputs": [],
   "source": [
    "zone = tmp.get_template_by_name('hvac-zone')"
   ]
  },
  {
   "cell_type": "code",
   "execution_count": 5,
   "id": "09177e4b",
   "metadata": {},
   "outputs": [],
   "source": [
    "zone_in = zone.inline_dependencies()"
   ]
  },
  {
   "cell_type": "code",
   "execution_count": 6,
   "id": "f766fdaa",
   "metadata": {},
   "outputs": [
    {
     "data": {
      "text/plain": [
       "{'name',\n",
       " 'space_name',\n",
       " 'space_name-area_name',\n",
       " 'space_name-area_unit',\n",
       " 'space_name-area_value',\n",
       " 'window_name',\n",
       " 'window_name-area_name',\n",
       " 'window_name-area_unit',\n",
       " 'window_name-area_value',\n",
       " 'window_name-azimuth_name',\n",
       " 'window_name-azimuth_value',\n",
       " 'window_name-tilt_name',\n",
       " 'window_name-tilt_value'}"
      ]
     },
     "metadata": {},
     "output_type": "display_data"
    }
   ],
   "source": [
    "display(zone_in.all_parameters)"
   ]
  },
  {
   "cell_type": "code",
   "execution_count": 7,
   "id": "b6fb4353",
   "metadata": {},
   "outputs": [
    {
     "name": "stdout",
     "output_type": "stream",
     "text": [
      "@prefix brick: <https://brickschema.org/schema/Brick#> .\n",
      "@prefix ns1: <http://qudt.org/schema/qudt/> .\n",
      "\n",
      "<urn:___param___#name> a brick:HVAC_Zone ;\n",
      "    brick:hasPart <urn:___param___#space_name>,\n",
      "        <urn:___param___#window_name> .\n",
      "\n",
      "<urn:___param___#space_name> a brick:Space ;\n",
      "    brick:area <urn:___param___#space_name-area_name> .\n",
      "\n",
      "<urn:___param___#space_name-area_name> ns1:hasQuantityKind <http://qudt.org/vocab/quantitykind/Area> ;\n",
      "    ns1:hasUnit <urn:___param___#space_name-area_unit> ;\n",
      "    brick:value <urn:___param___#space_name-area_value> .\n",
      "\n",
      "<urn:___param___#window_name> a brick:Window ;\n",
      "    brick:area <urn:___param___#window_name-area_name> ;\n",
      "    brick:azimuth <urn:___param___#window_name-azimuth_name> ;\n",
      "    brick:tilt <urn:___param___#window_name-tilt_name> .\n",
      "\n",
      "<urn:___param___#window_name-area_name> ns1:hasQuantityKind <http://qudt.org/vocab/quantitykind/Area> ;\n",
      "    ns1:hasUnit <urn:___param___#window_name-area_unit> ;\n",
      "    brick:value <urn:___param___#window_name-area_value> .\n",
      "\n",
      "<urn:___param___#window_name-azimuth_name> ns1:hasQuantityKind <http://qudt.org/vocab/quantitykind/Azimuth> ;\n",
      "    ns1:hasUnit <http://qudt.org/vocab/unit/Degree> ;\n",
      "    brick:value <urn:___param___#window_name-azimuth_value> .\n",
      "\n",
      "<urn:___param___#window_name-tilt_name> ns1:hasQuantityKind <http://qudt.org/vocab/quantitykind/Tilt> ;\n",
      "    ns1:hasUnit <http://qudt.org/vocab/unit/Degree> ;\n",
      "    brick:value <urn:___param___#window_name-tilt_value> .\n",
      "\n",
      "\n"
     ]
    }
   ],
   "source": [
    "print(zone_in.body.serialize(format = 'ttl'))"
   ]
  },
  {
   "cell_type": "code",
   "execution_count": 8,
   "id": "6e025839",
   "metadata": {},
   "outputs": [],
   "source": [
    "def get_var_name(graph, node):\n",
    "    pre, ns, local = graph.compute_qname(node)\n",
    "    if PARAM == ns:\n",
    "        q_n = f\"?{local}\".replace('-','_')\n",
    "    else:\n",
    "        q_n = convert_to_prefixed(node, graph).replace('-','_')\n",
    "    return q_n"
   ]
  },
  {
   "cell_type": "code",
   "execution_count": 9,
   "id": "66697be5",
   "metadata": {},
   "outputs": [],
   "source": [
    "def make_where(graph):\n",
    "    where = []\n",
    "    for s,p,o in graph.triples((None,None,None)):\n",
    "        # print(s,p,o)\n",
    "        qs = get_var_name(graph, s)\n",
    "        qo = get_var_name(graph, o)\n",
    "        qp = convert_to_prefixed(p, graph).replace('-','_')\n",
    "        where.append(f\"{qs} {qp} {qo} .\")\n",
    "    return \"\\n\".join(where)"
   ]
  },
  {
   "cell_type": "code",
   "execution_count": 10,
   "id": "c5fded6c",
   "metadata": {},
   "outputs": [],
   "source": [
    "def get_query(graph):\n",
    "     where = make_where(graph)\n",
    "     prefixes = get_prefixes(graph)\n",
    "     query = f\"\"\"{prefixes}\\nSELECT DISTINCT * WHERE {{ {where} }}\"\"\"\n",
    "     return query"
   ]
  },
  {
   "cell_type": "code",
   "execution_count": 11,
   "id": "cf27f333",
   "metadata": {},
   "outputs": [],
   "source": [
    "query = get_query(zone_in.body)"
   ]
  },
  {
   "cell_type": "code",
   "execution_count": 12,
   "id": "c4845dca",
   "metadata": {},
   "outputs": [
    {
     "name": "stdout",
     "output_type": "stream",
     "text": [
      "PREFIX brick: <https://brickschema.org/schema/Brick#>\n",
      "PREFIX csvw: <http://www.w3.org/ns/csvw#>\n",
      "PREFIX dc: <http://purl.org/dc/elements/1.1/>\n",
      "PREFIX dcat: <http://www.w3.org/ns/dcat#>\n",
      "PREFIX dcmitype: <http://purl.org/dc/dcmitype/>\n",
      "PREFIX dcterms: <http://purl.org/dc/terms/>\n",
      "PREFIX dcam: <http://purl.org/dc/dcam/>\n",
      "PREFIX doap: <http://usefulinc.com/ns/doap#>\n",
      "PREFIX foaf: <http://xmlns.com/foaf/0.1/>\n",
      "PREFIX geo: <http://www.opengis.net/ont/geosparql#>\n",
      "PREFIX odrl: <http://www.w3.org/ns/odrl/2/>\n",
      "PREFIX org: <http://www.w3.org/ns/org#>\n",
      "PREFIX prof: <http://www.w3.org/ns/dx/prof/>\n",
      "PREFIX prov: <http://www.w3.org/ns/prov#>\n",
      "PREFIX qb: <http://purl.org/linked-data/cube#>\n",
      "PREFIX schema: <https://schema.org/>\n",
      "PREFIX sh: <http://www.w3.org/ns/shacl#>\n",
      "PREFIX skos: <http://www.w3.org/2004/02/skos/core#>\n",
      "PREFIX sosa: <http://www.w3.org/ns/sosa/>\n",
      "PREFIX ssn: <http://www.w3.org/ns/ssn/>\n",
      "PREFIX time: <http://www.w3.org/2006/time#>\n",
      "PREFIX vann: <http://purl.org/vocab/vann/>\n",
      "PREFIX void: <http://rdfs.org/ns/void#>\n",
      "PREFIX wgs: <https://www.w3.org/2003/01/geo/wgs84_pos#>\n",
      "PREFIX owl: <http://www.w3.org/2002/07/owl#>\n",
      "PREFIX rdf: <http://www.w3.org/1999/02/22-rdf-syntax-ns#>\n",
      "PREFIX rdfs: <http://www.w3.org/2000/01/rdf-schema#>\n",
      "PREFIX xsd: <http://www.w3.org/2001/XMLSchema#>\n",
      "PREFIX xml: <http://www.w3.org/XML/1998/namespace>\n",
      "PREFIX ns1: <http://qudt.org/schema/qudt/>\n",
      "PREFIX ns2: <urn:___param___#>\n",
      "PREFIX ns3: <http://qudt.org/vocab/unit/>\n",
      "PREFIX ns4: <http://qudt.org/vocab/quantitykind/>\n",
      "SELECT DISTINCT * WHERE { ?window_name rdf:type brick:Window .\n",
      "?space_name brick:area ?space_name_area_name .\n",
      "?window_name_area_name brick:value ?window_name_area_value .\n",
      "?name rdf:type brick:HVAC_Zone .\n",
      "?space_name rdf:type brick:Space .\n",
      "?window_name_azimuth_name ns1:hasUnit ns3:Degree .\n",
      "?space_name_area_name ns1:hasQuantityKind ns4:Area .\n",
      "?name brick:hasPart ?window_name .\n",
      "?space_name_area_name brick:value ?space_name_area_value .\n",
      "?window_name_area_name ns1:hasUnit ?window_name_area_unit .\n",
      "?window_name_azimuth_name ns1:hasQuantityKind ns4:Azimuth .\n",
      "?window_name_tilt_name brick:value ?window_name_tilt_value .\n",
      "?window_name brick:tilt ?window_name_tilt_name .\n",
      "?window_name_tilt_name ns1:hasUnit ns3:Degree .\n",
      "?window_name_tilt_name ns1:hasQuantityKind ns4:Tilt .\n",
      "?window_name brick:area ?window_name_area_name .\n",
      "?space_name_area_name ns1:hasUnit ?space_name_area_unit .\n",
      "?window_name brick:azimuth ?window_name_azimuth_name .\n",
      "?window_name_azimuth_name brick:value ?window_name_azimuth_value .\n",
      "?window_name_area_name ns1:hasQuantityKind ns4:Area .\n",
      "?name brick:hasPart ?space_name . }\n"
     ]
    }
   ],
   "source": [
    "print(query)"
   ]
  },
  {
   "cell_type": "code",
   "execution_count": 13,
   "id": "e5ab2c33",
   "metadata": {},
   "outputs": [
    {
     "data": {
      "text/plain": [
       "<Graph identifier=N91bdd47fe8484839b9b2d471520d68ae (<class 'rdflib.graph.Graph'>)>"
      ]
     },
     "execution_count": 13,
     "metadata": {},
     "output_type": "execute_result"
    }
   ],
   "source": [
    "g = Graph()\n",
    "g.parse('tutorial/bldg2.ttl')"
   ]
  },
  {
   "cell_type": "code",
   "execution_count": 14,
   "id": "1341337d",
   "metadata": {},
   "outputs": [],
   "source": [
    "df = query_to_df(query, g)"
   ]
  },
  {
   "cell_type": "code",
   "execution_count": 15,
   "id": "58116d40",
   "metadata": {},
   "outputs": [],
   "source": [
    "class Value:\n",
    "    unit: str\n",
    "    value: float"
   ]
  },
  {
   "cell_type": "code",
   "execution_count": 16,
   "id": "a094a4f1",
   "metadata": {},
   "outputs": [
    {
     "data": {
      "application/vnd.microsoft.datawrangler.viewer.v0+json": {
       "columns": [
        {
         "name": "index",
         "rawType": "int64",
         "type": "integer"
        },
        {
         "name": "window_name_tilt_value",
         "rawType": "object",
         "type": "string"
        },
        {
         "name": "window_name_azimuth_value",
         "rawType": "object",
         "type": "string"
        },
        {
         "name": "window_name_area_name",
         "rawType": "object",
         "type": "string"
        },
        {
         "name": "window_name_area_value",
         "rawType": "object",
         "type": "string"
        },
        {
         "name": "window_name",
         "rawType": "object",
         "type": "string"
        },
        {
         "name": "space_name",
         "rawType": "object",
         "type": "string"
        },
        {
         "name": "space_name_area_unit",
         "rawType": "object",
         "type": "string"
        },
        {
         "name": "window_name_azimuth_name",
         "rawType": "object",
         "type": "string"
        },
        {
         "name": "name",
         "rawType": "object",
         "type": "string"
        },
        {
         "name": "space_name_area_name",
         "rawType": "object",
         "type": "string"
        },
        {
         "name": "window_name_area_unit",
         "rawType": "object",
         "type": "string"
        },
        {
         "name": "window_name_tilt_name",
         "rawType": "object",
         "type": "string"
        },
        {
         "name": "space_name_area_value",
         "rawType": "object",
         "type": "string"
        }
       ],
       "ref": "51114400-0fca-4af7-bc86-232a54389dde",
       "rows": [
        [
         "0",
         "90.0",
         "180.0",
         "urn:hpflex/hpflex_demo#window_1_1_area",
         "150.0",
         "urn:hpflex/hpflex_demo#window_1_1",
         "urn:hpflex/hpflex_demo#space_1_1",
         "unit:FT2",
         "urn:hpflex/hpflex_demo#window_1_1_azimuth",
         "urn:hpflex/hpflex_demo#zone_1",
         "urn:hpflex/hpflex_demo#space_1_1_area",
         "unit:FT2",
         "urn:hpflex/hpflex_demo#window_1_1_tilt",
         "1500.0"
        ],
        [
         "1",
         "90.0",
         "180.0",
         "urn:hpflex/hpflex_demo#window_2_1_area",
         "150.0",
         "urn:hpflex/hpflex_demo#window_2_1",
         "urn:hpflex/hpflex_demo#space_2_1",
         "unit:FT2",
         "urn:hpflex/hpflex_demo#window_2_1_azimuth",
         "urn:hpflex/hpflex_demo#zone_2",
         "urn:hpflex/hpflex_demo#space_2_1_area",
         "unit:FT2",
         "urn:hpflex/hpflex_demo#window_2_1_tilt",
         "1500.0"
        ],
        [
         "2",
         "90.0",
         "180.0",
         "urn:hpflex/hpflex_demo#window_3_1_area",
         "150.0",
         "urn:hpflex/hpflex_demo#window_3_1",
         "urn:hpflex/hpflex_demo#space_3_1",
         "unit:FT2",
         "urn:hpflex/hpflex_demo#window_3_1_azimuth",
         "urn:hpflex/hpflex_demo#zone_3",
         "urn:hpflex/hpflex_demo#space_3_1_area",
         "unit:FT2",
         "urn:hpflex/hpflex_demo#window_3_1_tilt",
         "1500.0"
        ],
        [
         "3",
         "90.0",
         "180.0",
         "urn:hpflex/hpflex_demo#window_4_1_area",
         "150.0",
         "urn:hpflex/hpflex_demo#window_4_1",
         "urn:hpflex/hpflex_demo#space_4_1",
         "unit:FT2",
         "urn:hpflex/hpflex_demo#window_4_1_azimuth",
         "urn:hpflex/hpflex_demo#zone_4",
         "urn:hpflex/hpflex_demo#space_4_1_area",
         "unit:FT2",
         "urn:hpflex/hpflex_demo#window_4_1_tilt",
         "1500.0"
        ]
       ],
       "shape": {
        "columns": 13,
        "rows": 4
       }
      },
      "text/html": [
       "<div>\n",
       "<style scoped>\n",
       "    .dataframe tbody tr th:only-of-type {\n",
       "        vertical-align: middle;\n",
       "    }\n",
       "\n",
       "    .dataframe tbody tr th {\n",
       "        vertical-align: top;\n",
       "    }\n",
       "\n",
       "    .dataframe thead th {\n",
       "        text-align: right;\n",
       "    }\n",
       "</style>\n",
       "<table border=\"1\" class=\"dataframe\">\n",
       "  <thead>\n",
       "    <tr style=\"text-align: right;\">\n",
       "      <th></th>\n",
       "      <th>window_name_tilt_value</th>\n",
       "      <th>window_name_azimuth_value</th>\n",
       "      <th>window_name_area_name</th>\n",
       "      <th>window_name_area_value</th>\n",
       "      <th>window_name</th>\n",
       "      <th>space_name</th>\n",
       "      <th>space_name_area_unit</th>\n",
       "      <th>window_name_azimuth_name</th>\n",
       "      <th>name</th>\n",
       "      <th>space_name_area_name</th>\n",
       "      <th>window_name_area_unit</th>\n",
       "      <th>window_name_tilt_name</th>\n",
       "      <th>space_name_area_value</th>\n",
       "    </tr>\n",
       "  </thead>\n",
       "  <tbody>\n",
       "    <tr>\n",
       "      <th>0</th>\n",
       "      <td>90.0</td>\n",
       "      <td>180.0</td>\n",
       "      <td>urn:hpflex/hpflex_demo#window_1_1_area</td>\n",
       "      <td>150.0</td>\n",
       "      <td>urn:hpflex/hpflex_demo#window_1_1</td>\n",
       "      <td>urn:hpflex/hpflex_demo#space_1_1</td>\n",
       "      <td>unit:FT2</td>\n",
       "      <td>urn:hpflex/hpflex_demo#window_1_1_azimuth</td>\n",
       "      <td>urn:hpflex/hpflex_demo#zone_1</td>\n",
       "      <td>urn:hpflex/hpflex_demo#space_1_1_area</td>\n",
       "      <td>unit:FT2</td>\n",
       "      <td>urn:hpflex/hpflex_demo#window_1_1_tilt</td>\n",
       "      <td>1500.0</td>\n",
       "    </tr>\n",
       "    <tr>\n",
       "      <th>1</th>\n",
       "      <td>90.0</td>\n",
       "      <td>180.0</td>\n",
       "      <td>urn:hpflex/hpflex_demo#window_2_1_area</td>\n",
       "      <td>150.0</td>\n",
       "      <td>urn:hpflex/hpflex_demo#window_2_1</td>\n",
       "      <td>urn:hpflex/hpflex_demo#space_2_1</td>\n",
       "      <td>unit:FT2</td>\n",
       "      <td>urn:hpflex/hpflex_demo#window_2_1_azimuth</td>\n",
       "      <td>urn:hpflex/hpflex_demo#zone_2</td>\n",
       "      <td>urn:hpflex/hpflex_demo#space_2_1_area</td>\n",
       "      <td>unit:FT2</td>\n",
       "      <td>urn:hpflex/hpflex_demo#window_2_1_tilt</td>\n",
       "      <td>1500.0</td>\n",
       "    </tr>\n",
       "    <tr>\n",
       "      <th>2</th>\n",
       "      <td>90.0</td>\n",
       "      <td>180.0</td>\n",
       "      <td>urn:hpflex/hpflex_demo#window_3_1_area</td>\n",
       "      <td>150.0</td>\n",
       "      <td>urn:hpflex/hpflex_demo#window_3_1</td>\n",
       "      <td>urn:hpflex/hpflex_demo#space_3_1</td>\n",
       "      <td>unit:FT2</td>\n",
       "      <td>urn:hpflex/hpflex_demo#window_3_1_azimuth</td>\n",
       "      <td>urn:hpflex/hpflex_demo#zone_3</td>\n",
       "      <td>urn:hpflex/hpflex_demo#space_3_1_area</td>\n",
       "      <td>unit:FT2</td>\n",
       "      <td>urn:hpflex/hpflex_demo#window_3_1_tilt</td>\n",
       "      <td>1500.0</td>\n",
       "    </tr>\n",
       "    <tr>\n",
       "      <th>3</th>\n",
       "      <td>90.0</td>\n",
       "      <td>180.0</td>\n",
       "      <td>urn:hpflex/hpflex_demo#window_4_1_area</td>\n",
       "      <td>150.0</td>\n",
       "      <td>urn:hpflex/hpflex_demo#window_4_1</td>\n",
       "      <td>urn:hpflex/hpflex_demo#space_4_1</td>\n",
       "      <td>unit:FT2</td>\n",
       "      <td>urn:hpflex/hpflex_demo#window_4_1_azimuth</td>\n",
       "      <td>urn:hpflex/hpflex_demo#zone_4</td>\n",
       "      <td>urn:hpflex/hpflex_demo#space_4_1_area</td>\n",
       "      <td>unit:FT2</td>\n",
       "      <td>urn:hpflex/hpflex_demo#window_4_1_tilt</td>\n",
       "      <td>1500.0</td>\n",
       "    </tr>\n",
       "  </tbody>\n",
       "</table>\n",
       "</div>"
      ],
      "text/plain": [
       "  window_name_tilt_value window_name_azimuth_value  \\\n",
       "0                   90.0                     180.0   \n",
       "1                   90.0                     180.0   \n",
       "2                   90.0                     180.0   \n",
       "3                   90.0                     180.0   \n",
       "\n",
       "                    window_name_area_name window_name_area_value  \\\n",
       "0  urn:hpflex/hpflex_demo#window_1_1_area                  150.0   \n",
       "1  urn:hpflex/hpflex_demo#window_2_1_area                  150.0   \n",
       "2  urn:hpflex/hpflex_demo#window_3_1_area                  150.0   \n",
       "3  urn:hpflex/hpflex_demo#window_4_1_area                  150.0   \n",
       "\n",
       "                         window_name                        space_name  \\\n",
       "0  urn:hpflex/hpflex_demo#window_1_1  urn:hpflex/hpflex_demo#space_1_1   \n",
       "1  urn:hpflex/hpflex_demo#window_2_1  urn:hpflex/hpflex_demo#space_2_1   \n",
       "2  urn:hpflex/hpflex_demo#window_3_1  urn:hpflex/hpflex_demo#space_3_1   \n",
       "3  urn:hpflex/hpflex_demo#window_4_1  urn:hpflex/hpflex_demo#space_4_1   \n",
       "\n",
       "  space_name_area_unit                   window_name_azimuth_name  \\\n",
       "0             unit:FT2  urn:hpflex/hpflex_demo#window_1_1_azimuth   \n",
       "1             unit:FT2  urn:hpflex/hpflex_demo#window_2_1_azimuth   \n",
       "2             unit:FT2  urn:hpflex/hpflex_demo#window_3_1_azimuth   \n",
       "3             unit:FT2  urn:hpflex/hpflex_demo#window_4_1_azimuth   \n",
       "\n",
       "                            name                   space_name_area_name  \\\n",
       "0  urn:hpflex/hpflex_demo#zone_1  urn:hpflex/hpflex_demo#space_1_1_area   \n",
       "1  urn:hpflex/hpflex_demo#zone_2  urn:hpflex/hpflex_demo#space_2_1_area   \n",
       "2  urn:hpflex/hpflex_demo#zone_3  urn:hpflex/hpflex_demo#space_3_1_area   \n",
       "3  urn:hpflex/hpflex_demo#zone_4  urn:hpflex/hpflex_demo#space_4_1_area   \n",
       "\n",
       "  window_name_area_unit                   window_name_tilt_name  \\\n",
       "0              unit:FT2  urn:hpflex/hpflex_demo#window_1_1_tilt   \n",
       "1              unit:FT2  urn:hpflex/hpflex_demo#window_2_1_tilt   \n",
       "2              unit:FT2  urn:hpflex/hpflex_demo#window_3_1_tilt   \n",
       "3              unit:FT2  urn:hpflex/hpflex_demo#window_4_1_tilt   \n",
       "\n",
       "  space_name_area_value  \n",
       "0                1500.0  \n",
       "1                1500.0  \n",
       "2                1500.0  \n",
       "3                1500.0  "
      ]
     },
     "execution_count": 16,
     "metadata": {},
     "output_type": "execute_result"
    }
   ],
   "source": [
    "df"
   ]
  },
  {
   "cell_type": "code",
   "execution_count": null,
   "id": "0601ae0f",
   "metadata": {},
   "outputs": [],
   "source": []
  }
 ],
 "metadata": {
  "kernelspec": {
   "display_name": "creating-brick-model",
   "language": "python",
   "name": "python3"
  },
  "language_info": {
   "codemirror_mode": {
    "name": "ipython",
    "version": 3
   },
   "file_extension": ".py",
   "mimetype": "text/x-python",
   "name": "python",
   "nbconvert_exporter": "python",
   "pygments_lexer": "ipython3",
   "version": "3.10.0"
  }
 },
 "nbformat": 4,
 "nbformat_minor": 5
}
