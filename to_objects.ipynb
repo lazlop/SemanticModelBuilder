{
 "cells": [
  {
   "cell_type": "code",
   "execution_count": 1,
   "id": "3c360307",
   "metadata": {},
   "outputs": [
    {
     "name": "stderr",
     "output_type": "stream",
     "text": [
      "CRITICAL:root:Install the 'bacnet-ingress' module, e.g. 'pip install buildingmotif[bacnet-ingress]'\n",
      "DEBUG:buildingmotif.database.graph_connection:Creating tables for graph storage\n",
      "DEBUG:buildingmotif.database.table_connection:Creating shape collection in model: 'urn:hpflex#'\n",
      "DEBUG:buildingmotif.database.table_connection:Creating model: 'urn:hpflex#', with graph: 'ce3c5504-0361-40e0-85a0-f3e09685ee6a'\n",
      "DEBUG:buildingmotif.database.graph_connection:Creating graph: 'ce3c5504-0361-40e0-85a0-f3e09685ee6a' in database with: 1 triples\n",
      "DEBUG:buildingmotif.database.table_connection:Creating shape collection in library: 'brick-templates'\n",
      "DEBUG:buildingmotif.database.table_connection:Creating database library: 'brick-templates'\n",
      "DEBUG:buildingmotif.database.table_connection:Creating database template: 'hvac-zone'\n",
      "DEBUG:buildingmotif.database.graph_connection:Creating graph: '7ae1cccb-df60-4aae-952c-56a79f39ea42' in database with: 1 triples\n",
      "DEBUG:buildingmotif.database.table_connection:Creating database template: 'has-space'\n",
      "DEBUG:buildingmotif.database.graph_connection:Creating graph: '9f96c7b2-8ffd-4537-bb21-bbf819721464' in database with: 1 triples\n",
      "DEBUG:buildingmotif.database.table_connection:Creating database template: 'has-window'\n",
      "DEBUG:buildingmotif.database.graph_connection:Creating graph: '01118ec0-aa15-48a6-adc1-30dc5b4f5181' in database with: 1 triples\n",
      "DEBUG:buildingmotif.database.table_connection:Creating database template: 'space'\n",
      "DEBUG:buildingmotif.database.graph_connection:Creating graph: '8333a0d0-cd7c-4407-b92e-ffab0ffaee72' in database with: 2 triples\n",
      "DEBUG:buildingmotif.database.table_connection:Creating database template: 'window'\n",
      "DEBUG:buildingmotif.database.graph_connection:Creating graph: '5466fc46-c517-4d8b-aefb-6fa3b207e192' in database with: 4 triples\n",
      "DEBUG:buildingmotif.database.table_connection:Creating database template: 'area'\n",
      "DEBUG:buildingmotif.database.graph_connection:Creating graph: 'fe9f835d-d03f-424a-881b-727e18c943aa' in database with: 3 triples\n",
      "DEBUG:buildingmotif.database.table_connection:Creating database template: 'tilt'\n",
      "DEBUG:buildingmotif.database.graph_connection:Creating graph: '00d465fc-991e-47d2-9dc3-fec65d7d933c' in database with: 3 triples\n",
      "DEBUG:buildingmotif.database.table_connection:Creating database template: 'azimuth'\n",
      "DEBUG:buildingmotif.database.graph_connection:Creating graph: 'aed4846d-a543-4e68-bba1-4fe5345bf036' in database with: 3 triples\n",
      "DEBUG:buildingmotif.database.table_connection:Creating depencency from templates with ids: '1' and: '2'\n",
      "DEBUG:buildingmotif.database.table_connection:Creating depencency from templates with ids: '1' and: '4'\n",
      "DEBUG:buildingmotif.database.table_connection:Creating depencency from templates with ids: '1' and: '3'\n",
      "DEBUG:buildingmotif.database.table_connection:Creating depencency from templates with ids: '1' and: '5'\n",
      "DEBUG:buildingmotif.database.table_connection:Creating depencency from templates with ids: '4' and: '6'\n",
      "DEBUG:buildingmotif.database.table_connection:Creating depencency from templates with ids: '5' and: '6'\n",
      "DEBUG:buildingmotif.database.table_connection:Creating depencency from templates with ids: '5' and: '8'\n",
      "DEBUG:buildingmotif.database.table_connection:Creating depencency from templates with ids: '5' and: '7'\n",
      "DEBUG:buildingmotif.database.table_connection:Creating depencency from templates with ids: '1' and: '2'\n",
      "DEBUG:buildingmotif.database.table_connection:Creating depencency from templates with ids: '1' and: '3'\n",
      "DEBUG:buildingmotif.database.table_connection:Creating depencency from templates with ids: '1' and: '4'\n",
      "DEBUG:buildingmotif.database.table_connection:Creating depencency from templates with ids: '1' and: '5'\n",
      "DEBUG:buildingmotif.database.table_connection:Creating depencency from templates with ids: '4' and: '6'\n",
      "DEBUG:buildingmotif.database.table_connection:Creating depencency from templates with ids: '5' and: '6'\n",
      "DEBUG:buildingmotif.database.table_connection:Creating depencency from templates with ids: '5' and: '7'\n",
      "DEBUG:buildingmotif.database.table_connection:Creating depencency from templates with ids: '5' and: '8'\n",
      "/Users/lazlopaul/Desktop/HPflex/Semantic_MPC_Interface/.venv/lib/python3.10/site-packages/pyshacl/extras/__init__.py:46: Warning: Extra \"js\" is not satisfied because requirement pyduktape2 is not installed.\n",
      "  warn(Warning(f\"Extra \\\"{extra_name}\\\" is not satisfied because requirement {req} is not installed.\"))\n"
     ]
    }
   ],
   "source": [
    "from to_objects import get_objects\n",
    "from rdflib import Graph"
   ]
  },
  {
   "cell_type": "code",
   "execution_count": 2,
   "id": "4a97d05f",
   "metadata": {},
   "outputs": [
    {
     "data": {
      "text/plain": [
       "<Graph identifier=Nbd15bc9770924cbf84bc4f012cb9ef77 (<class 'rdflib.graph.Graph'>)>"
      ]
     },
     "execution_count": 2,
     "metadata": {},
     "output_type": "execute_result"
    }
   ],
   "source": [
    "g = Graph()\n",
    "g.parse('tutorial/bldg2.ttl')"
   ]
  },
  {
   "cell_type": "code",
   "execution_count": 3,
   "id": "ea21fb7a",
   "metadata": {},
   "outputs": [],
   "source": [
    "zones = get_objects(g)"
   ]
  },
  {
   "cell_type": "code",
   "execution_count": 4,
   "id": "8bade8f6",
   "metadata": {},
   "outputs": [
    {
     "data": {
      "text/plain": [
       "Value(value=1500.0, unit='FT2')"
      ]
     },
     "execution_count": 4,
     "metadata": {},
     "output_type": "execute_result"
    }
   ],
   "source": [
    "zone1 = zones[0]\n",
    "zone1.spaces[0].area"
   ]
  },
  {
   "cell_type": "code",
   "execution_count": 5,
   "id": "fdd126aa",
   "metadata": {},
   "outputs": [
    {
     "data": {
      "text/plain": [
       "[Space(name='urn:hpflex/hpflex_demo#space_1_1', area=Value(value=1500.0, unit='FT2'))]"
      ]
     },
     "execution_count": 5,
     "metadata": {},
     "output_type": "execute_result"
    }
   ],
   "source": [
    "zones[0].spaces"
   ]
  },
  {
   "cell_type": "markdown",
   "id": "2c175664",
   "metadata": {},
   "source": [
    "# Drafting"
   ]
  },
  {
   "cell_type": "code",
   "execution_count": 6,
   "id": "a605f094",
   "metadata": {},
   "outputs": [],
   "source": [
    "from buildingmotif import BuildingMOTIF\n",
    "from buildingmotif.dataclasses import Library, Model\n",
    "from rdflib import Graph, Literal, Namespace, URIRef\n",
    "from semantic_mpc_interface.namespaces import * \n",
    "from semantic_mpc_interface.utils import * \n",
    "from buildingmotif.ingresses import CSVIngress, TemplateIngress, Record"
   ]
  },
  {
   "cell_type": "code",
   "execution_count": 7,
   "id": "82d7fd88",
   "metadata": {},
   "outputs": [
    {
     "name": "stderr",
     "output_type": "stream",
     "text": [
      "DEBUG:buildingmotif.database.table_connection:Creating shape collection in model: 'urn:hpflex#'\n",
      "DEBUG:buildingmotif.database.table_connection:Creating model: 'urn:hpflex#', with graph: '55c2e81a-9132-47c8-9284-fc197f11a2cf'\n",
      "DEBUG:buildingmotif.database.graph_connection:Creating graph: '55c2e81a-9132-47c8-9284-fc197f11a2cf' in database with: 1 triples\n"
     ]
    }
   ],
   "source": [
    "bm = BuildingMOTIF(\"sqlite://\")\n",
    "model = Model.create(HPF)\n"
   ]
  },
  {
   "cell_type": "code",
   "execution_count": 8,
   "id": "2312109f",
   "metadata": {},
   "outputs": [
    {
     "name": "stderr",
     "output_type": "stream",
     "text": [
      "DEBUG:buildingmotif.database.table_connection:Creating database template: 'hvac-zone'\n",
      "DEBUG:buildingmotif.database.graph_connection:Creating graph: '3c40cd09-7602-4dde-9bc6-72da4487cab4' in database with: 1 triples\n",
      "DEBUG:buildingmotif.database.table_connection:Creating database template: 'space'\n",
      "DEBUG:buildingmotif.database.graph_connection:Creating graph: '54f67557-7351-452f-8ebd-47aa313854b1' in database with: 2 triples\n",
      "DEBUG:buildingmotif.database.table_connection:Creating database template: 'window'\n",
      "DEBUG:buildingmotif.database.graph_connection:Creating graph: '6a5216f4-d554-4fe4-9267-b82a46a9b827' in database with: 4 triples\n",
      "DEBUG:buildingmotif.database.table_connection:Creating database template: 'hp-rtu'\n",
      "DEBUG:buildingmotif.database.graph_connection:Creating graph: 'b43a8571-6dc4-4078-a3bf-c713065f9d75' in database with: 6 triples\n",
      "DEBUG:buildingmotif.database.table_connection:Creating database template: 'tstat'\n",
      "DEBUG:buildingmotif.database.graph_connection:Creating graph: '72bd546c-4bed-433a-b18e-ed0253c67682' in database with: 6 triples\n",
      "DEBUG:buildingmotif.database.table_connection:Creating database template: 'tstat-heating-cooling-occupancy'\n",
      "DEBUG:buildingmotif.database.graph_connection:Creating graph: 'c80b3df2-10b9-4b01-9b26-716d3c25c83f' in database with: 8 triples\n",
      "DEBUG:buildingmotif.database.table_connection:Creating database template: 'site'\n",
      "DEBUG:buildingmotif.database.graph_connection:Creating graph: 'a28248ac-adfd-4db7-91b6-625115e2328c' in database with: 5 triples\n",
      "DEBUG:buildingmotif.database.table_connection:Creating database template: 'air-bidirectional-connectionpoint'\n",
      "DEBUG:buildingmotif.database.graph_connection:Creating graph: 'ec7cebd0-4b91-4ae8-8c6c-3cff97bd3eb5' in database with: 2 triples\n",
      "DEBUG:buildingmotif.database.table_connection:Creating database template: 'air-outlet-connectionpoint'\n",
      "DEBUG:buildingmotif.database.graph_connection:Creating graph: 'c92f4d73-4a95-41b3-a3d8-3b7abdcc3774' in database with: 3 triples\n",
      "DEBUG:buildingmotif.database.table_connection:Creating database template: 'air-inlet-connectionpoint'\n",
      "DEBUG:buildingmotif.database.graph_connection:Creating graph: '821ee15a-4afd-4444-82f2-29598ce91868' in database with: 3 triples\n",
      "DEBUG:buildingmotif.database.table_connection:Creating database template: 'connection'\n",
      "DEBUG:buildingmotif.database.graph_connection:Creating graph: '2eb354b6-fd3d-4599-bd71-014dc6261ac1' in database with: 1 triples\n",
      "DEBUG:buildingmotif.database.table_connection:Creating database template: 'has-point'\n",
      "DEBUG:buildingmotif.database.graph_connection:Creating graph: '4eeb9534-6a27-4f81-9d01-a9e940c2d392' in database with: 1 triples\n",
      "DEBUG:buildingmotif.database.table_connection:Creating database template: 'has-reference'\n",
      "DEBUG:buildingmotif.database.graph_connection:Creating graph: '4c1e22cd-275e-490f-a6f7-d8099809aba3' in database with: 1 triples\n",
      "DEBUG:buildingmotif.database.table_connection:Creating database template: 'has-space'\n",
      "DEBUG:buildingmotif.database.graph_connection:Creating graph: 'd7f14686-5811-4afe-be90-bbdb1b58a674' in database with: 1 triples\n",
      "DEBUG:buildingmotif.database.table_connection:Creating database template: 'has-location'\n",
      "DEBUG:buildingmotif.database.graph_connection:Creating graph: 'd7a4a887-8e8c-4d10-a235-e8d695ecfe9a' in database with: 1 triples\n",
      "DEBUG:buildingmotif.database.table_connection:Creating database template: 'has-window'\n",
      "DEBUG:buildingmotif.database.graph_connection:Creating graph: '78b2f234-1d8c-4213-8e40-e002d2327354' in database with: 1 triples\n",
      "DEBUG:buildingmotif.database.table_connection:Creating database template: 'air-connects-to'\n",
      "DEBUG:buildingmotif.database.graph_connection:Creating graph: '51df22f9-0d2d-41b1-b7da-598ddf0ad454' in database with: 1 triples\n",
      "DEBUG:buildingmotif.database.table_connection:Creating database template: 'air-bidirectional-connects-to'\n",
      "DEBUG:buildingmotif.database.graph_connection:Creating graph: '8853c09e-48da-45f0-b9c3-7896daa2eba4' in database with: 2 triples\n",
      "DEBUG:buildingmotif.database.table_connection:Creating database template: 'area'\n",
      "DEBUG:buildingmotif.database.graph_connection:Creating graph: '5ff1325e-056c-47fd-adb3-ea8cf369f814' in database with: 3 triples\n",
      "DEBUG:buildingmotif.database.table_connection:Creating database template: 'tilt'\n",
      "DEBUG:buildingmotif.database.graph_connection:Creating graph: '9fbefde6-14ec-47c9-81c0-c86a2cba12e6' in database with: 3 triples\n",
      "DEBUG:buildingmotif.database.table_connection:Creating database template: 'azimuth'\n",
      "DEBUG:buildingmotif.database.graph_connection:Creating graph: '02d1930f-aaf8-46ff-9dc2-1fba34382ef6' in database with: 3 triples\n",
      "DEBUG:buildingmotif.database.table_connection:Creating database template: 'cooling-COP'\n",
      "DEBUG:buildingmotif.database.graph_connection:Creating graph: '07265e3c-cc9d-4344-af9b-b163f632d435' in database with: 3 triples\n",
      "DEBUG:buildingmotif.database.table_connection:Creating database template: 'heating-COP'\n",
      "DEBUG:buildingmotif.database.graph_connection:Creating graph: '6569704f-2421-4fda-a5b2-ad093823cf74' in database with: 3 triples\n",
      "DEBUG:buildingmotif.database.table_connection:Creating database template: 'cooling-capacity'\n",
      "DEBUG:buildingmotif.database.graph_connection:Creating graph: '87fc8dab-20c7-40b3-8f23-687a32c1458e' in database with: 3 triples\n",
      "DEBUG:buildingmotif.database.table_connection:Creating database template: 'heating-capacity'\n",
      "DEBUG:buildingmotif.database.graph_connection:Creating graph: 'e16ae018-5255-4c54-9a63-8b3f85fc08a7' in database with: 3 triples\n",
      "DEBUG:buildingmotif.database.table_connection:Creating database template: 'temperature'\n",
      "DEBUG:buildingmotif.database.graph_connection:Creating graph: '31031650-b5ae-4c25-835c-0c0be7f1f1f7' in database with: 3 triples\n",
      "DEBUG:buildingmotif.database.table_connection:Creating database template: 'active-heating-stages'\n",
      "DEBUG:buildingmotif.database.graph_connection:Creating graph: 'db0b49b9-be34-4031-82f0-3a8558672b7b' in database with: 3 triples\n",
      "DEBUG:buildingmotif.database.table_connection:Creating database template: 'active-cooling-stages'\n",
      "DEBUG:buildingmotif.database.graph_connection:Creating graph: 'efed4451-b6d5-47aa-a622-ede6247be0f1' in database with: 3 triples\n",
      "DEBUG:buildingmotif.database.table_connection:Creating database template: 'occ-heating-setpoint'\n",
      "DEBUG:buildingmotif.database.graph_connection:Creating graph: '1dfaaba5-dee8-4245-b666-ae4704c62c5b' in database with: 3 triples\n",
      "DEBUG:buildingmotif.database.table_connection:Creating database template: 'occ-cooling-setpoint'\n",
      "DEBUG:buildingmotif.database.graph_connection:Creating graph: 'beba22b0-e43f-4719-95d3-e2b3097bec87' in database with: 3 triples\n",
      "DEBUG:buildingmotif.database.table_connection:Creating database template: 'unocc-heating-setpoint'\n",
      "DEBUG:buildingmotif.database.graph_connection:Creating graph: '58bc69e3-5a36-4b77-b6c0-45c457cf95c3' in database with: 3 triples\n",
      "DEBUG:buildingmotif.database.table_connection:Creating database template: 'unocc-cooling-setpoint'\n",
      "DEBUG:buildingmotif.database.graph_connection:Creating graph: '3ee60409-be94-40da-af7a-8f615348f748' in database with: 3 triples\n",
      "DEBUG:buildingmotif.database.table_connection:Creating database template: 'effective-temperature-setpoint'\n",
      "DEBUG:buildingmotif.database.graph_connection:Creating graph: '51d230ed-daf4-41f4-a770-511c9f1168dd' in database with: 3 triples\n",
      "DEBUG:buildingmotif.database.table_connection:Creating database template: 'effective-heating-setpoint'\n",
      "DEBUG:buildingmotif.database.graph_connection:Creating graph: 'f8214a8f-b25c-499c-b37b-7ad4fecbd578' in database with: 3 triples\n",
      "DEBUG:buildingmotif.database.table_connection:Creating database template: 'effective-cooling-setpoint'\n",
      "DEBUG:buildingmotif.database.graph_connection:Creating graph: 'b505a8fe-d376-4412-961a-8da8f452e5ca' in database with: 3 triples\n",
      "DEBUG:buildingmotif.database.table_connection:Creating database template: 'tstat-stage_count'\n",
      "DEBUG:buildingmotif.database.graph_connection:Creating graph: '7c557878-9fbf-48a4-8dff-b4dbe6d2b068' in database with: 3 triples\n",
      "DEBUG:buildingmotif.database.table_connection:Creating database template: 'tstat-deadband'\n",
      "DEBUG:buildingmotif.database.graph_connection:Creating graph: '9ddeb512-7f8e-4623-acc5-255845e0e030' in database with: 5 triples\n",
      "DEBUG:buildingmotif.database.table_connection:Creating database template: 'tstat-tolerance'\n",
      "DEBUG:buildingmotif.database.graph_connection:Creating graph: '857369dd-984d-4429-9be0-c8f8c646f817' in database with: 5 triples\n",
      "DEBUG:buildingmotif.database.table_connection:Creating database template: 'tstat-resolution'\n",
      "DEBUG:buildingmotif.database.graph_connection:Creating graph: '1661395d-35d6-4ecb-92c3-90eecd2d7b8e' in database with: 3 triples\n",
      "DEBUG:buildingmotif.database.table_connection:Creating database template: 'tstat-active'\n",
      "DEBUG:buildingmotif.database.graph_connection:Creating graph: '07088369-9ff0-4f17-88a9-6d7d12830806' in database with: 2 triples\n",
      "DEBUG:buildingmotif.database.table_connection:Creating database template: 'timezone'\n",
      "DEBUG:buildingmotif.database.graph_connection:Creating graph: '2a3c7922-4ae7-4b94-8bef-46fa32c03145' in database with: 2 triples\n",
      "DEBUG:buildingmotif.database.table_connection:Creating database template: 'latitude'\n",
      "DEBUG:buildingmotif.database.graph_connection:Creating graph: '5e873809-d05e-4fe9-afe6-bec6030b21d3' in database with: 3 triples\n",
      "DEBUG:buildingmotif.database.table_connection:Creating database template: 'longitude'\n",
      "DEBUG:buildingmotif.database.graph_connection:Creating graph: '7aa22929-d39c-4079-a3d4-f7a2cf76af44' in database with: 3 triples\n",
      "DEBUG:buildingmotif.database.table_connection:Creating database template: 'noaastation'\n",
      "DEBUG:buildingmotif.database.graph_connection:Creating graph: '72edbd0b-af10-48bb-83b3-98d8a3b232b9' in database with: 1 triples\n",
      "DEBUG:buildingmotif.database.table_connection:Creating database template: 'volttron-external-reference'\n",
      "DEBUG:buildingmotif.database.graph_connection:Creating graph: 'd236bd73-a3aa-4827-bdbd-43d1697be692' in database with: 2 triples\n",
      "DEBUG:buildingmotif.database.table_connection:Creating database template: 'point'\n",
      "DEBUG:buildingmotif.database.graph_connection:Creating graph: '6cb813e0-afaa-4fa6-924e-4a58ca9d0967' in database with: 2 triples\n",
      "DEBUG:buildingmotif.database.table_connection:Creating depencency from templates with ids: '1' and: '14'\n",
      "/Users/lazlopaul/Desktop/HPflex/Semantic_MPC_Interface/.venv/lib/python3.10/site-packages/buildingmotif/database/table_connection.py:423: SAWarning: Identity map already had an identity for (<class 'buildingmotif.database.tables.DepsAssociation'>, (1,), None), replacing it with newly flushed object.   Are there load operations occurring inside of an event handler within the flush?\n",
      "  self.bm.session.flush()\n",
      "DEBUG:buildingmotif.database.table_connection:Creating depencency from templates with ids: '1' and: '2'\n",
      "/Users/lazlopaul/Desktop/HPflex/Semantic_MPC_Interface/.venv/lib/python3.10/site-packages/buildingmotif/database/table_connection.py:423: SAWarning: Identity map already had an identity for (<class 'buildingmotif.database.tables.DepsAssociation'>, (2,), None), replacing it with newly flushed object.   Are there load operations occurring inside of an event handler within the flush?\n",
      "  self.bm.session.flush()\n",
      "DEBUG:buildingmotif.database.table_connection:Creating depencency from templates with ids: '1' and: '16'\n",
      "/Users/lazlopaul/Desktop/HPflex/Semantic_MPC_Interface/.venv/lib/python3.10/site-packages/buildingmotif/database/table_connection.py:423: SAWarning: Identity map already had an identity for (<class 'buildingmotif.database.tables.DepsAssociation'>, (3,), None), replacing it with newly flushed object.   Are there load operations occurring inside of an event handler within the flush?\n",
      "  self.bm.session.flush()\n",
      "DEBUG:buildingmotif.database.table_connection:Creating depencency from templates with ids: '1' and: '3'\n",
      "/Users/lazlopaul/Desktop/HPflex/Semantic_MPC_Interface/.venv/lib/python3.10/site-packages/buildingmotif/database/table_connection.py:423: SAWarning: Identity map already had an identity for (<class 'buildingmotif.database.tables.DepsAssociation'>, (4,), None), replacing it with newly flushed object.   Are there load operations occurring inside of an event handler within the flush?\n",
      "  self.bm.session.flush()\n",
      "DEBUG:buildingmotif.database.table_connection:Creating depencency from templates with ids: '2' and: '19'\n",
      "/Users/lazlopaul/Desktop/HPflex/Semantic_MPC_Interface/.venv/lib/python3.10/site-packages/buildingmotif/database/table_connection.py:423: SAWarning: Identity map already had an identity for (<class 'buildingmotif.database.tables.DepsAssociation'>, (5,), None), replacing it with newly flushed object.   Are there load operations occurring inside of an event handler within the flush?\n",
      "  self.bm.session.flush()\n",
      "DEBUG:buildingmotif.database.table_connection:Creating depencency from templates with ids: '3' and: '19'\n",
      "/Users/lazlopaul/Desktop/HPflex/Semantic_MPC_Interface/.venv/lib/python3.10/site-packages/buildingmotif/database/table_connection.py:423: SAWarning: Identity map already had an identity for (<class 'buildingmotif.database.tables.DepsAssociation'>, (6,), None), replacing it with newly flushed object.   Are there load operations occurring inside of an event handler within the flush?\n",
      "  self.bm.session.flush()\n",
      "DEBUG:buildingmotif.database.table_connection:Creating depencency from templates with ids: '3' and: '21'\n",
      "/Users/lazlopaul/Desktop/HPflex/Semantic_MPC_Interface/.venv/lib/python3.10/site-packages/buildingmotif/database/table_connection.py:423: SAWarning: Identity map already had an identity for (<class 'buildingmotif.database.tables.DepsAssociation'>, (7,), None), replacing it with newly flushed object.   Are there load operations occurring inside of an event handler within the flush?\n",
      "  self.bm.session.flush()\n",
      "DEBUG:buildingmotif.database.table_connection:Creating depencency from templates with ids: '3' and: '20'\n",
      "/Users/lazlopaul/Desktop/HPflex/Semantic_MPC_Interface/.venv/lib/python3.10/site-packages/buildingmotif/database/table_connection.py:423: SAWarning: Identity map already had an identity for (<class 'buildingmotif.database.tables.DepsAssociation'>, (8,), None), replacing it with newly flushed object.   Are there load operations occurring inside of an event handler within the flush?\n",
      "  self.bm.session.flush()\n",
      "DEBUG:buildingmotif.database.table_connection:Creating depencency from templates with ids: '4' and: '24'\n",
      "DEBUG:buildingmotif.database.table_connection:Creating depencency from templates with ids: '4' and: '25'\n",
      "DEBUG:buildingmotif.database.table_connection:Creating depencency from templates with ids: '4' and: '22'\n",
      "DEBUG:buildingmotif.database.table_connection:Creating depencency from templates with ids: '4' and: '23'\n",
      "DEBUG:buildingmotif.database.table_connection:Creating depencency from templates with ids: '5' and: '36'\n",
      "DEBUG:buildingmotif.database.table_connection:Creating depencency from templates with ids: '5' and: '37'\n",
      "DEBUG:buildingmotif.database.table_connection:Creating depencency from templates with ids: '5' and: '38'\n",
      "DEBUG:buildingmotif.database.table_connection:Creating depencency from templates with ids: '5' and: '40'\n",
      "DEBUG:buildingmotif.database.table_connection:Creating depencency from templates with ids: '5' and: '39'\n",
      "DEBUG:buildingmotif.database.table_connection:Creating depencency from templates with ids: '6' and: '29'\n",
      "DEBUG:buildingmotif.database.table_connection:Creating depencency from templates with ids: '6' and: '30'\n",
      "DEBUG:buildingmotif.database.table_connection:Creating depencency from templates with ids: '6' and: '31'\n",
      "DEBUG:buildingmotif.database.table_connection:Creating depencency from templates with ids: '6' and: '32'\n",
      "DEBUG:buildingmotif.database.table_connection:Creating depencency from templates with ids: '6' and: '5'\n",
      "DEBUG:buildingmotif.database.table_connection:Creating depencency from templates with ids: '6' and: '26'\n",
      "DEBUG:buildingmotif.database.table_connection:Creating depencency from templates with ids: '6' and: '27'\n",
      "DEBUG:buildingmotif.database.table_connection:Creating depencency from templates with ids: '6' and: '28'\n",
      "DEBUG:buildingmotif.database.table_connection:Creating depencency from templates with ids: '7' and: '41'\n",
      "DEBUG:buildingmotif.database.table_connection:Creating depencency from templates with ids: '7' and: '42'\n",
      "DEBUG:buildingmotif.database.table_connection:Creating depencency from templates with ids: '7' and: '43'\n",
      "DEBUG:buildingmotif.database.table_connection:Creating depencency from templates with ids: '7' and: '44'\n",
      "DEBUG:buildingmotif.database.table_connection:Creating depencency from templates with ids: '1' and: '2'\n",
      "DEBUG:buildingmotif.database.table_connection:Creating depencency from templates with ids: '1' and: '3'\n",
      "DEBUG:buildingmotif.database.table_connection:Creating depencency from templates with ids: '1' and: '14'\n",
      "DEBUG:buildingmotif.database.table_connection:Creating depencency from templates with ids: '1' and: '16'\n",
      "DEBUG:buildingmotif.database.table_connection:Creating depencency from templates with ids: '2' and: '19'\n",
      "DEBUG:buildingmotif.database.table_connection:Creating depencency from templates with ids: '3' and: '19'\n",
      "DEBUG:buildingmotif.database.table_connection:Creating depencency from templates with ids: '3' and: '20'\n",
      "DEBUG:buildingmotif.database.table_connection:Creating depencency from templates with ids: '3' and: '21'\n",
      "DEBUG:buildingmotif.database.table_connection:Creating depencency from templates with ids: '4' and: '22'\n",
      "DEBUG:buildingmotif.database.table_connection:Creating depencency from templates with ids: '4' and: '23'\n",
      "DEBUG:buildingmotif.database.table_connection:Creating depencency from templates with ids: '4' and: '24'\n",
      "DEBUG:buildingmotif.database.table_connection:Creating depencency from templates with ids: '4' and: '25'\n",
      "DEBUG:buildingmotif.database.table_connection:Creating depencency from templates with ids: '5' and: '36'\n",
      "DEBUG:buildingmotif.database.table_connection:Creating depencency from templates with ids: '5' and: '37'\n",
      "DEBUG:buildingmotif.database.table_connection:Creating depencency from templates with ids: '5' and: '38'\n",
      "DEBUG:buildingmotif.database.table_connection:Creating depencency from templates with ids: '5' and: '39'\n",
      "DEBUG:buildingmotif.database.table_connection:Creating depencency from templates with ids: '5' and: '40'\n",
      "DEBUG:buildingmotif.database.table_connection:Creating depencency from templates with ids: '6' and: '5'\n",
      "DEBUG:buildingmotif.database.table_connection:Creating depencency from templates with ids: '6' and: '26'\n",
      "DEBUG:buildingmotif.database.table_connection:Creating depencency from templates with ids: '6' and: '27'\n",
      "DEBUG:buildingmotif.database.table_connection:Creating depencency from templates with ids: '6' and: '28'\n",
      "DEBUG:buildingmotif.database.table_connection:Creating depencency from templates with ids: '6' and: '29'\n",
      "DEBUG:buildingmotif.database.table_connection:Creating depencency from templates with ids: '6' and: '30'\n",
      "DEBUG:buildingmotif.database.table_connection:Creating depencency from templates with ids: '6' and: '31'\n",
      "DEBUG:buildingmotif.database.table_connection:Creating depencency from templates with ids: '6' and: '32'\n",
      "DEBUG:buildingmotif.database.table_connection:Creating depencency from templates with ids: '7' and: '41'\n",
      "DEBUG:buildingmotif.database.table_connection:Creating depencency from templates with ids: '7' and: '42'\n",
      "DEBUG:buildingmotif.database.table_connection:Creating depencency from templates with ids: '7' and: '43'\n",
      "DEBUG:buildingmotif.database.table_connection:Creating depencency from templates with ids: '7' and: '44'\n"
     ]
    }
   ],
   "source": [
    "tmp = Library.load(directory='src/semantic_mpc_interface/templates/brick-templates')"
   ]
  },
  {
   "cell_type": "code",
   "execution_count": 9,
   "id": "4a00915c",
   "metadata": {},
   "outputs": [],
   "source": [
    "zone = tmp.get_template_by_name('hvac-zone')"
   ]
  },
  {
   "cell_type": "code",
   "execution_count": 10,
   "id": "09177e4b",
   "metadata": {},
   "outputs": [],
   "source": [
    "zone_in = zone.inline_dependencies()"
   ]
  },
  {
   "cell_type": "code",
   "execution_count": 11,
   "id": "f766fdaa",
   "metadata": {},
   "outputs": [
    {
     "data": {
      "text/plain": [
       "{'name',\n",
       " 'space_name',\n",
       " 'space_name-area_name',\n",
       " 'space_name-area_unit',\n",
       " 'space_name-area_value',\n",
       " 'window_name',\n",
       " 'window_name-area_name',\n",
       " 'window_name-area_unit',\n",
       " 'window_name-area_value',\n",
       " 'window_name-azimuth_name',\n",
       " 'window_name-azimuth_value',\n",
       " 'window_name-tilt_name',\n",
       " 'window_name-tilt_value'}"
      ]
     },
     "metadata": {},
     "output_type": "display_data"
    }
   ],
   "source": [
    "display(zone_in.all_parameters)"
   ]
  },
  {
   "cell_type": "code",
   "execution_count": 12,
   "id": "b6fb4353",
   "metadata": {},
   "outputs": [
    {
     "name": "stdout",
     "output_type": "stream",
     "text": [
      "@prefix brick: <https://brickschema.org/schema/Brick#> .\n",
      "@prefix ns1: <http://qudt.org/schema/qudt/> .\n",
      "\n",
      "<urn:___param___#name> a brick:HVAC_Zone ;\n",
      "    brick:hasPart <urn:___param___#space_name>,\n",
      "        <urn:___param___#window_name> .\n",
      "\n",
      "<urn:___param___#space_name> a brick:Space ;\n",
      "    brick:area <urn:___param___#space_name-area_name> .\n",
      "\n",
      "<urn:___param___#space_name-area_name> ns1:hasQuantityKind <http://qudt.org/vocab/quantitykind/Area> ;\n",
      "    ns1:hasUnit <urn:___param___#space_name-area_unit> ;\n",
      "    brick:value <urn:___param___#space_name-area_value> .\n",
      "\n",
      "<urn:___param___#window_name> a brick:Window ;\n",
      "    brick:area <urn:___param___#window_name-area_name> ;\n",
      "    brick:azimuth <urn:___param___#window_name-azimuth_name> ;\n",
      "    brick:tilt <urn:___param___#window_name-tilt_name> .\n",
      "\n",
      "<urn:___param___#window_name-area_name> ns1:hasQuantityKind <http://qudt.org/vocab/quantitykind/Area> ;\n",
      "    ns1:hasUnit <urn:___param___#window_name-area_unit> ;\n",
      "    brick:value <urn:___param___#window_name-area_value> .\n",
      "\n",
      "<urn:___param___#window_name-azimuth_name> ns1:hasQuantityKind <http://qudt.org/vocab/quantitykind/Azimuth> ;\n",
      "    ns1:hasUnit <http://qudt.org/vocab/unit/Degree> ;\n",
      "    brick:value <urn:___param___#window_name-azimuth_value> .\n",
      "\n",
      "<urn:___param___#window_name-tilt_name> ns1:hasQuantityKind <http://qudt.org/vocab/quantitykind/Tilt> ;\n",
      "    ns1:hasUnit <http://qudt.org/vocab/unit/Degree> ;\n",
      "    brick:value <urn:___param___#window_name-tilt_value> .\n",
      "\n",
      "\n"
     ]
    }
   ],
   "source": [
    "print(zone_in.body.serialize(format = 'ttl'))"
   ]
  },
  {
   "cell_type": "code",
   "execution_count": 13,
   "id": "6e025839",
   "metadata": {},
   "outputs": [],
   "source": [
    "def get_var_name(graph, node):\n",
    "    pre, ns, local = graph.compute_qname(node)\n",
    "    if PARAM == ns:\n",
    "        q_n = f\"?{local}\".replace('-','_')\n",
    "    else:\n",
    "        q_n = convert_to_prefixed(node, graph).replace('-','_')\n",
    "    return q_n"
   ]
  },
  {
   "cell_type": "code",
   "execution_count": 14,
   "id": "66697be5",
   "metadata": {},
   "outputs": [],
   "source": [
    "def make_where(graph):\n",
    "    where = []\n",
    "    for s,p,o in graph.triples((None,None,None)):\n",
    "        # print(s,p,o)\n",
    "        qs = get_var_name(graph, s)\n",
    "        qo = get_var_name(graph, o)\n",
    "        qp = convert_to_prefixed(p, graph).replace('-','_')\n",
    "        where.append(f\"{qs} {qp} {qo} .\")\n",
    "    return \"\\n\".join(where)"
   ]
  },
  {
   "cell_type": "code",
   "execution_count": 15,
   "id": "c5fded6c",
   "metadata": {},
   "outputs": [],
   "source": [
    "def get_query(graph):\n",
    "     where = make_where(graph)\n",
    "     prefixes = get_prefixes(graph)\n",
    "     query = f\"\"\"{prefixes}\\nSELECT DISTINCT * WHERE {{ {where} }}\"\"\"\n",
    "     return query"
   ]
  },
  {
   "cell_type": "code",
   "execution_count": 16,
   "id": "cf27f333",
   "metadata": {},
   "outputs": [],
   "source": [
    "query = get_query(zone_in.body)"
   ]
  },
  {
   "cell_type": "code",
   "execution_count": 17,
   "id": "c4845dca",
   "metadata": {},
   "outputs": [
    {
     "name": "stdout",
     "output_type": "stream",
     "text": [
      "PREFIX brick: <https://brickschema.org/schema/Brick#>\n",
      "PREFIX csvw: <http://www.w3.org/ns/csvw#>\n",
      "PREFIX dc: <http://purl.org/dc/elements/1.1/>\n",
      "PREFIX dcat: <http://www.w3.org/ns/dcat#>\n",
      "PREFIX dcmitype: <http://purl.org/dc/dcmitype/>\n",
      "PREFIX dcterms: <http://purl.org/dc/terms/>\n",
      "PREFIX dcam: <http://purl.org/dc/dcam/>\n",
      "PREFIX doap: <http://usefulinc.com/ns/doap#>\n",
      "PREFIX foaf: <http://xmlns.com/foaf/0.1/>\n",
      "PREFIX geo: <http://www.opengis.net/ont/geosparql#>\n",
      "PREFIX odrl: <http://www.w3.org/ns/odrl/2/>\n",
      "PREFIX org: <http://www.w3.org/ns/org#>\n",
      "PREFIX prof: <http://www.w3.org/ns/dx/prof/>\n",
      "PREFIX prov: <http://www.w3.org/ns/prov#>\n",
      "PREFIX qb: <http://purl.org/linked-data/cube#>\n",
      "PREFIX schema: <https://schema.org/>\n",
      "PREFIX sh: <http://www.w3.org/ns/shacl#>\n",
      "PREFIX skos: <http://www.w3.org/2004/02/skos/core#>\n",
      "PREFIX sosa: <http://www.w3.org/ns/sosa/>\n",
      "PREFIX ssn: <http://www.w3.org/ns/ssn/>\n",
      "PREFIX time: <http://www.w3.org/2006/time#>\n",
      "PREFIX vann: <http://purl.org/vocab/vann/>\n",
      "PREFIX void: <http://rdfs.org/ns/void#>\n",
      "PREFIX wgs: <https://www.w3.org/2003/01/geo/wgs84_pos#>\n",
      "PREFIX owl: <http://www.w3.org/2002/07/owl#>\n",
      "PREFIX rdf: <http://www.w3.org/1999/02/22-rdf-syntax-ns#>\n",
      "PREFIX rdfs: <http://www.w3.org/2000/01/rdf-schema#>\n",
      "PREFIX xsd: <http://www.w3.org/2001/XMLSchema#>\n",
      "PREFIX xml: <http://www.w3.org/XML/1998/namespace>\n",
      "PREFIX ns1: <http://qudt.org/schema/qudt/>\n",
      "PREFIX ns2: <urn:___param___#>\n",
      "PREFIX ns3: <http://qudt.org/vocab/unit/>\n",
      "PREFIX ns4: <http://qudt.org/vocab/quantitykind/>\n",
      "SELECT DISTINCT * WHERE { ?space_name_area_name brick:value ?space_name_area_value .\n",
      "?window_name_azimuth_name ns1:hasUnit ns3:Degree .\n",
      "?space_name rdf:type brick:Space .\n",
      "?window_name rdf:type brick:Window .\n",
      "?space_name_area_name ns1:hasQuantityKind ns4:Area .\n",
      "?space_name brick:area ?space_name_area_name .\n",
      "?window_name_azimuth_name brick:value ?window_name_azimuth_value .\n",
      "?window_name_area_name ns1:hasUnit ?window_name_area_unit .\n",
      "?name brick:hasPart ?window_name .\n",
      "?name rdf:type brick:HVAC_Zone .\n",
      "?window_name brick:area ?window_name_area_name .\n",
      "?name brick:hasPart ?space_name .\n",
      "?window_name_area_name ns1:hasQuantityKind ns4:Area .\n",
      "?space_name_area_name ns1:hasUnit ?space_name_area_unit .\n",
      "?window_name brick:tilt ?window_name_tilt_name .\n",
      "?window_name_azimuth_name ns1:hasQuantityKind ns4:Azimuth .\n",
      "?window_name_tilt_name ns1:hasUnit ns3:Degree .\n",
      "?window_name brick:azimuth ?window_name_azimuth_name .\n",
      "?window_name_area_name brick:value ?window_name_area_value .\n",
      "?window_name_tilt_name ns1:hasQuantityKind ns4:Tilt .\n",
      "?window_name_tilt_name brick:value ?window_name_tilt_value . }\n"
     ]
    }
   ],
   "source": [
    "print(query)"
   ]
  },
  {
   "cell_type": "code",
   "execution_count": 18,
   "id": "e5ab2c33",
   "metadata": {},
   "outputs": [
    {
     "data": {
      "text/plain": [
       "<Graph identifier=N9df3c768776b45eeabf4508bc48554b3 (<class 'rdflib.graph.Graph'>)>"
      ]
     },
     "execution_count": 18,
     "metadata": {},
     "output_type": "execute_result"
    }
   ],
   "source": [
    "g = Graph()\n",
    "g.parse('tutorial/bldg2.ttl')"
   ]
  },
  {
   "cell_type": "code",
   "execution_count": 19,
   "id": "1341337d",
   "metadata": {},
   "outputs": [],
   "source": [
    "df = query_to_df(query, g)"
   ]
  },
  {
   "cell_type": "code",
   "execution_count": 20,
   "id": "58116d40",
   "metadata": {},
   "outputs": [],
   "source": [
    "class Value:\n",
    "    unit: str\n",
    "    value: float"
   ]
  },
  {
   "cell_type": "code",
   "execution_count": 21,
   "id": "a094a4f1",
   "metadata": {},
   "outputs": [
    {
     "data": {
      "application/vnd.microsoft.datawrangler.viewer.v0+json": {
       "columns": [
        {
         "name": "index",
         "rawType": "int64",
         "type": "integer"
        },
        {
         "name": "space_name_area_value",
         "rawType": "object",
         "type": "string"
        },
        {
         "name": "window_name_azimuth_value",
         "rawType": "object",
         "type": "string"
        },
        {
         "name": "space_name_area_name",
         "rawType": "object",
         "type": "string"
        },
        {
         "name": "window_name_tilt_value",
         "rawType": "object",
         "type": "string"
        },
        {
         "name": "space_name_area_unit",
         "rawType": "object",
         "type": "string"
        },
        {
         "name": "window_name_azimuth_name",
         "rawType": "object",
         "type": "string"
        },
        {
         "name": "window_name_area_name",
         "rawType": "object",
         "type": "string"
        },
        {
         "name": "window_name_area_unit",
         "rawType": "object",
         "type": "string"
        },
        {
         "name": "space_name",
         "rawType": "object",
         "type": "string"
        },
        {
         "name": "name",
         "rawType": "object",
         "type": "string"
        },
        {
         "name": "window_name_tilt_name",
         "rawType": "object",
         "type": "string"
        },
        {
         "name": "window_name_area_value",
         "rawType": "object",
         "type": "string"
        },
        {
         "name": "window_name",
         "rawType": "object",
         "type": "string"
        }
       ],
       "ref": "f284720f-607d-4843-a7b5-622f8d3d9092",
       "rows": [
        [
         "0",
         "1500.0",
         "180.0",
         "urn:hpflex/hpflex_demo#space_1_1_area",
         "90.0",
         "unit:FT2",
         "urn:hpflex/hpflex_demo#window_1_1_azimuth",
         "urn:hpflex/hpflex_demo#window_1_1_area",
         "unit:FT2",
         "urn:hpflex/hpflex_demo#space_1_1",
         "urn:hpflex/hpflex_demo#zone_1",
         "urn:hpflex/hpflex_demo#window_1_1_tilt",
         "150.0",
         "urn:hpflex/hpflex_demo#window_1_1"
        ],
        [
         "1",
         "1500.0",
         "180.0",
         "urn:hpflex/hpflex_demo#space_2_1_area",
         "90.0",
         "unit:FT2",
         "urn:hpflex/hpflex_demo#window_2_1_azimuth",
         "urn:hpflex/hpflex_demo#window_2_1_area",
         "unit:FT2",
         "urn:hpflex/hpflex_demo#space_2_1",
         "urn:hpflex/hpflex_demo#zone_2",
         "urn:hpflex/hpflex_demo#window_2_1_tilt",
         "150.0",
         "urn:hpflex/hpflex_demo#window_2_1"
        ],
        [
         "2",
         "1500.0",
         "180.0",
         "urn:hpflex/hpflex_demo#space_3_1_area",
         "90.0",
         "unit:FT2",
         "urn:hpflex/hpflex_demo#window_3_1_azimuth",
         "urn:hpflex/hpflex_demo#window_3_1_area",
         "unit:FT2",
         "urn:hpflex/hpflex_demo#space_3_1",
         "urn:hpflex/hpflex_demo#zone_3",
         "urn:hpflex/hpflex_demo#window_3_1_tilt",
         "150.0",
         "urn:hpflex/hpflex_demo#window_3_1"
        ],
        [
         "3",
         "1500.0",
         "180.0",
         "urn:hpflex/hpflex_demo#space_4_1_area",
         "90.0",
         "unit:FT2",
         "urn:hpflex/hpflex_demo#window_4_1_azimuth",
         "urn:hpflex/hpflex_demo#window_4_1_area",
         "unit:FT2",
         "urn:hpflex/hpflex_demo#space_4_1",
         "urn:hpflex/hpflex_demo#zone_4",
         "urn:hpflex/hpflex_demo#window_4_1_tilt",
         "150.0",
         "urn:hpflex/hpflex_demo#window_4_1"
        ]
       ],
       "shape": {
        "columns": 13,
        "rows": 4
       }
      },
      "text/html": [
       "<div>\n",
       "<style scoped>\n",
       "    .dataframe tbody tr th:only-of-type {\n",
       "        vertical-align: middle;\n",
       "    }\n",
       "\n",
       "    .dataframe tbody tr th {\n",
       "        vertical-align: top;\n",
       "    }\n",
       "\n",
       "    .dataframe thead th {\n",
       "        text-align: right;\n",
       "    }\n",
       "</style>\n",
       "<table border=\"1\" class=\"dataframe\">\n",
       "  <thead>\n",
       "    <tr style=\"text-align: right;\">\n",
       "      <th></th>\n",
       "      <th>space_name_area_value</th>\n",
       "      <th>window_name_azimuth_value</th>\n",
       "      <th>space_name_area_name</th>\n",
       "      <th>window_name_tilt_value</th>\n",
       "      <th>space_name_area_unit</th>\n",
       "      <th>window_name_azimuth_name</th>\n",
       "      <th>window_name_area_name</th>\n",
       "      <th>window_name_area_unit</th>\n",
       "      <th>space_name</th>\n",
       "      <th>name</th>\n",
       "      <th>window_name_tilt_name</th>\n",
       "      <th>window_name_area_value</th>\n",
       "      <th>window_name</th>\n",
       "    </tr>\n",
       "  </thead>\n",
       "  <tbody>\n",
       "    <tr>\n",
       "      <th>0</th>\n",
       "      <td>1500.0</td>\n",
       "      <td>180.0</td>\n",
       "      <td>urn:hpflex/hpflex_demo#space_1_1_area</td>\n",
       "      <td>90.0</td>\n",
       "      <td>unit:FT2</td>\n",
       "      <td>urn:hpflex/hpflex_demo#window_1_1_azimuth</td>\n",
       "      <td>urn:hpflex/hpflex_demo#window_1_1_area</td>\n",
       "      <td>unit:FT2</td>\n",
       "      <td>urn:hpflex/hpflex_demo#space_1_1</td>\n",
       "      <td>urn:hpflex/hpflex_demo#zone_1</td>\n",
       "      <td>urn:hpflex/hpflex_demo#window_1_1_tilt</td>\n",
       "      <td>150.0</td>\n",
       "      <td>urn:hpflex/hpflex_demo#window_1_1</td>\n",
       "    </tr>\n",
       "    <tr>\n",
       "      <th>1</th>\n",
       "      <td>1500.0</td>\n",
       "      <td>180.0</td>\n",
       "      <td>urn:hpflex/hpflex_demo#space_2_1_area</td>\n",
       "      <td>90.0</td>\n",
       "      <td>unit:FT2</td>\n",
       "      <td>urn:hpflex/hpflex_demo#window_2_1_azimuth</td>\n",
       "      <td>urn:hpflex/hpflex_demo#window_2_1_area</td>\n",
       "      <td>unit:FT2</td>\n",
       "      <td>urn:hpflex/hpflex_demo#space_2_1</td>\n",
       "      <td>urn:hpflex/hpflex_demo#zone_2</td>\n",
       "      <td>urn:hpflex/hpflex_demo#window_2_1_tilt</td>\n",
       "      <td>150.0</td>\n",
       "      <td>urn:hpflex/hpflex_demo#window_2_1</td>\n",
       "    </tr>\n",
       "    <tr>\n",
       "      <th>2</th>\n",
       "      <td>1500.0</td>\n",
       "      <td>180.0</td>\n",
       "      <td>urn:hpflex/hpflex_demo#space_3_1_area</td>\n",
       "      <td>90.0</td>\n",
       "      <td>unit:FT2</td>\n",
       "      <td>urn:hpflex/hpflex_demo#window_3_1_azimuth</td>\n",
       "      <td>urn:hpflex/hpflex_demo#window_3_1_area</td>\n",
       "      <td>unit:FT2</td>\n",
       "      <td>urn:hpflex/hpflex_demo#space_3_1</td>\n",
       "      <td>urn:hpflex/hpflex_demo#zone_3</td>\n",
       "      <td>urn:hpflex/hpflex_demo#window_3_1_tilt</td>\n",
       "      <td>150.0</td>\n",
       "      <td>urn:hpflex/hpflex_demo#window_3_1</td>\n",
       "    </tr>\n",
       "    <tr>\n",
       "      <th>3</th>\n",
       "      <td>1500.0</td>\n",
       "      <td>180.0</td>\n",
       "      <td>urn:hpflex/hpflex_demo#space_4_1_area</td>\n",
       "      <td>90.0</td>\n",
       "      <td>unit:FT2</td>\n",
       "      <td>urn:hpflex/hpflex_demo#window_4_1_azimuth</td>\n",
       "      <td>urn:hpflex/hpflex_demo#window_4_1_area</td>\n",
       "      <td>unit:FT2</td>\n",
       "      <td>urn:hpflex/hpflex_demo#space_4_1</td>\n",
       "      <td>urn:hpflex/hpflex_demo#zone_4</td>\n",
       "      <td>urn:hpflex/hpflex_demo#window_4_1_tilt</td>\n",
       "      <td>150.0</td>\n",
       "      <td>urn:hpflex/hpflex_demo#window_4_1</td>\n",
       "    </tr>\n",
       "  </tbody>\n",
       "</table>\n",
       "</div>"
      ],
      "text/plain": [
       "  space_name_area_value window_name_azimuth_value  \\\n",
       "0                1500.0                     180.0   \n",
       "1                1500.0                     180.0   \n",
       "2                1500.0                     180.0   \n",
       "3                1500.0                     180.0   \n",
       "\n",
       "                    space_name_area_name window_name_tilt_value  \\\n",
       "0  urn:hpflex/hpflex_demo#space_1_1_area                   90.0   \n",
       "1  urn:hpflex/hpflex_demo#space_2_1_area                   90.0   \n",
       "2  urn:hpflex/hpflex_demo#space_3_1_area                   90.0   \n",
       "3  urn:hpflex/hpflex_demo#space_4_1_area                   90.0   \n",
       "\n",
       "  space_name_area_unit                   window_name_azimuth_name  \\\n",
       "0             unit:FT2  urn:hpflex/hpflex_demo#window_1_1_azimuth   \n",
       "1             unit:FT2  urn:hpflex/hpflex_demo#window_2_1_azimuth   \n",
       "2             unit:FT2  urn:hpflex/hpflex_demo#window_3_1_azimuth   \n",
       "3             unit:FT2  urn:hpflex/hpflex_demo#window_4_1_azimuth   \n",
       "\n",
       "                    window_name_area_name window_name_area_unit  \\\n",
       "0  urn:hpflex/hpflex_demo#window_1_1_area              unit:FT2   \n",
       "1  urn:hpflex/hpflex_demo#window_2_1_area              unit:FT2   \n",
       "2  urn:hpflex/hpflex_demo#window_3_1_area              unit:FT2   \n",
       "3  urn:hpflex/hpflex_demo#window_4_1_area              unit:FT2   \n",
       "\n",
       "                         space_name                           name  \\\n",
       "0  urn:hpflex/hpflex_demo#space_1_1  urn:hpflex/hpflex_demo#zone_1   \n",
       "1  urn:hpflex/hpflex_demo#space_2_1  urn:hpflex/hpflex_demo#zone_2   \n",
       "2  urn:hpflex/hpflex_demo#space_3_1  urn:hpflex/hpflex_demo#zone_3   \n",
       "3  urn:hpflex/hpflex_demo#space_4_1  urn:hpflex/hpflex_demo#zone_4   \n",
       "\n",
       "                    window_name_tilt_name window_name_area_value  \\\n",
       "0  urn:hpflex/hpflex_demo#window_1_1_tilt                  150.0   \n",
       "1  urn:hpflex/hpflex_demo#window_2_1_tilt                  150.0   \n",
       "2  urn:hpflex/hpflex_demo#window_3_1_tilt                  150.0   \n",
       "3  urn:hpflex/hpflex_demo#window_4_1_tilt                  150.0   \n",
       "\n",
       "                         window_name  \n",
       "0  urn:hpflex/hpflex_demo#window_1_1  \n",
       "1  urn:hpflex/hpflex_demo#window_2_1  \n",
       "2  urn:hpflex/hpflex_demo#window_3_1  \n",
       "3  urn:hpflex/hpflex_demo#window_4_1  "
      ]
     },
     "execution_count": 21,
     "metadata": {},
     "output_type": "execute_result"
    }
   ],
   "source": [
    "df"
   ]
  },
  {
   "cell_type": "code",
   "execution_count": 22,
   "id": "0601ae0f",
   "metadata": {},
   "outputs": [],
   "source": [
    "zone_in.generate_csv('test.csv')"
   ]
  },
  {
   "cell_type": "code",
   "execution_count": null,
   "id": "57e94045",
   "metadata": {},
   "outputs": [],
   "source": []
  },
  {
   "cell_type": "code",
   "execution_count": 23,
   "id": "b15c8535",
   "metadata": {},
   "outputs": [
    {
     "name": "stderr",
     "output_type": "stream",
     "text": [
      "/Users/lazlopaul/Desktop/HPflex/Semantic_MPC_Interface/.venv/lib/python3.10/site-packages/buildingmotif/dataclasses/template.py:420: UserWarning: Parameters \"window_name-area_unit, window_name-tilt_value, space_name-area_value, window_name-azimuth_value, space_name-area_unit, window_name-area_value\" were not provided during evaluation\n",
      "  warnings.warn(\n"
     ]
    }
   ],
   "source": [
    "zone_part = zone_in.evaluate({p:HPF[p] for p in zone_in.all_parameters if p.split('_')[-1] == 'name'})"
   ]
  },
  {
   "cell_type": "code",
   "execution_count": 24,
   "id": "d14de850",
   "metadata": {},
   "outputs": [],
   "source": [
    "zone_part.generate_csv('test.csv')\n",
    "# dependencies are showing up in headers for some reason - can just remove these. \n",
    "# dependencies = zone_part.get_dependencies()\n",
    "\n",
    "# df = pd.read_csv('test.csv')\n",
    "\n",
    "# remove_cols = [dependency.template.name for dependency in zone.get_dependencies()]\n",
    "# df = df.drop(columns=remove_cols)\n",
    "\n",
    "# # Save the new CSV\n",
    "# df.to_csv('test.csv', index=False)\n"
   ]
  },
  {
   "cell_type": "code",
   "execution_count": 25,
   "id": "18464261",
   "metadata": {},
   "outputs": [],
   "source": [
    "site = tmp.get_template_by_name('site')\n",
    "site.inline_dependencies().generate_csv('test.csv')"
   ]
  },
  {
   "cell_type": "code",
   "execution_count": null,
   "id": "dc4f666b",
   "metadata": {},
   "outputs": [],
   "source": []
  },
  {
   "cell_type": "code",
   "execution_count": 1,
   "id": "16ed15e8",
   "metadata": {},
   "outputs": [
    {
     "name": "stderr",
     "output_type": "stream",
     "text": [
      "CRITICAL:root:Install the 'bacnet-ingress' module, e.g. 'pip install buildingmotif[bacnet-ingress]'\n"
     ]
    }
   ],
   "source": [
    "from semantic_mpc_interface import HPFlexSurvey"
   ]
  },
  {
   "cell_type": "code",
   "execution_count": 2,
   "id": "1325e94a",
   "metadata": {},
   "outputs": [
    {
     "name": "stderr",
     "output_type": "stream",
     "text": [
      "DEBUG:buildingmotif.database.graph_connection:Creating tables for graph storage\n",
      "DEBUG:buildingmotif.database.table_connection:Creating shape collection in library: 'brick-templates'\n",
      "DEBUG:buildingmotif.database.table_connection:Creating database library: 'brick-templates'\n",
      "DEBUG:buildingmotif.database.table_connection:Creating database template: 'hvac-zone'\n",
      "DEBUG:buildingmotif.database.graph_connection:Creating graph: '759b071e-19cb-4ccc-9709-89b23b1eb2af' in database with: 1 triples\n",
      "DEBUG:buildingmotif.database.table_connection:Creating database template: 'space'\n",
      "DEBUG:buildingmotif.database.graph_connection:Creating graph: '5cea8aec-856c-41ff-b28d-91d98b6476a1' in database with: 2 triples\n",
      "DEBUG:buildingmotif.database.table_connection:Creating database template: 'window'\n",
      "DEBUG:buildingmotif.database.graph_connection:Creating graph: '86670343-5f30-4bb3-a3e3-0635d1abf14a' in database with: 4 triples\n",
      "DEBUG:buildingmotif.database.table_connection:Creating database template: 'hp-rtu'\n",
      "DEBUG:buildingmotif.database.graph_connection:Creating graph: '78a2fd14-810e-407d-9368-792ca35a9111' in database with: 6 triples\n",
      "DEBUG:buildingmotif.database.table_connection:Creating database template: 'tstat'\n",
      "DEBUG:buildingmotif.database.graph_connection:Creating graph: 'cb8dc77a-f615-42e2-8a65-d5adfa3b7719' in database with: 6 triples\n",
      "DEBUG:buildingmotif.database.table_connection:Creating database template: 'tstat-heating-cooling-occupancy'\n",
      "DEBUG:buildingmotif.database.graph_connection:Creating graph: '83b52339-cf1e-4086-b241-6a7b89eca6c6' in database with: 8 triples\n",
      "DEBUG:buildingmotif.database.table_connection:Creating database template: 'site'\n",
      "DEBUG:buildingmotif.database.graph_connection:Creating graph: 'd4ed23d1-072f-4686-b1f2-097d8204d2ce' in database with: 5 triples\n",
      "DEBUG:buildingmotif.database.table_connection:Creating database template: 'air-bidirectional-connectionpoint'\n",
      "DEBUG:buildingmotif.database.graph_connection:Creating graph: '8c830632-2de8-4e20-87a0-0648d1120672' in database with: 2 triples\n",
      "DEBUG:buildingmotif.database.table_connection:Creating database template: 'air-outlet-connectionpoint'\n",
      "DEBUG:buildingmotif.database.graph_connection:Creating graph: '04a19eb2-5b3c-48fe-a9ac-ecaac8baebe3' in database with: 3 triples\n",
      "DEBUG:buildingmotif.database.table_connection:Creating database template: 'air-inlet-connectionpoint'\n",
      "DEBUG:buildingmotif.database.graph_connection:Creating graph: '5b60652d-2f35-4b09-b245-bdc17ba23b60' in database with: 3 triples\n",
      "DEBUG:buildingmotif.database.table_connection:Creating database template: 'connection'\n",
      "DEBUG:buildingmotif.database.graph_connection:Creating graph: 'e35422a5-ecff-4d34-8126-abb91242148e' in database with: 1 triples\n",
      "DEBUG:buildingmotif.database.table_connection:Creating database template: 'has-point'\n",
      "DEBUG:buildingmotif.database.graph_connection:Creating graph: '4e62dc2c-116e-45b6-bf62-b0ba5e68bd8d' in database with: 1 triples\n",
      "DEBUG:buildingmotif.database.table_connection:Creating database template: 'has-reference'\n",
      "DEBUG:buildingmotif.database.graph_connection:Creating graph: '3f5f0032-20b1-4d41-8080-b3ae3de99375' in database with: 1 triples\n",
      "DEBUG:buildingmotif.database.table_connection:Creating database template: 'has-space'\n",
      "DEBUG:buildingmotif.database.graph_connection:Creating graph: 'c380931a-756c-4b10-a622-26548c15e991' in database with: 1 triples\n",
      "DEBUG:buildingmotif.database.table_connection:Creating database template: 'has-location'\n",
      "DEBUG:buildingmotif.database.graph_connection:Creating graph: 'af5575b0-3d0d-4a8e-95f3-d1246d42f9d3' in database with: 1 triples\n",
      "DEBUG:buildingmotif.database.table_connection:Creating database template: 'has-window'\n",
      "DEBUG:buildingmotif.database.graph_connection:Creating graph: '79ad83a3-1874-4beb-a23b-bebd22a7aeef' in database with: 1 triples\n",
      "DEBUG:buildingmotif.database.table_connection:Creating database template: 'air-connects-to'\n",
      "DEBUG:buildingmotif.database.graph_connection:Creating graph: 'f232afb3-703c-48d2-9f8d-21e006671036' in database with: 1 triples\n",
      "DEBUG:buildingmotif.database.table_connection:Creating database template: 'air-bidirectional-connects-to'\n",
      "DEBUG:buildingmotif.database.graph_connection:Creating graph: '11e9eaaa-2189-47cc-86a7-6b0f91afdfe5' in database with: 2 triples\n",
      "DEBUG:buildingmotif.database.table_connection:Creating database template: 'area'\n",
      "DEBUG:buildingmotif.database.graph_connection:Creating graph: '9633188d-2284-496c-a1d3-d50740c822e2' in database with: 3 triples\n",
      "DEBUG:buildingmotif.database.table_connection:Creating database template: 'tilt'\n",
      "DEBUG:buildingmotif.database.graph_connection:Creating graph: '3e50f746-410e-4b39-966f-aa11226a062a' in database with: 3 triples\n",
      "DEBUG:buildingmotif.database.table_connection:Creating database template: 'azimuth'\n",
      "DEBUG:buildingmotif.database.graph_connection:Creating graph: '60135fd0-9f88-4395-9ed8-0588c17723e0' in database with: 3 triples\n",
      "DEBUG:buildingmotif.database.table_connection:Creating database template: 'cooling-COP'\n",
      "DEBUG:buildingmotif.database.graph_connection:Creating graph: '56148e94-6436-4a6e-86d9-5f714d3c84b4' in database with: 3 triples\n",
      "DEBUG:buildingmotif.database.table_connection:Creating database template: 'heating-COP'\n",
      "DEBUG:buildingmotif.database.graph_connection:Creating graph: '53b5fef7-69e3-48e6-8f33-779f85b2005a' in database with: 3 triples\n",
      "DEBUG:buildingmotif.database.table_connection:Creating database template: 'cooling-capacity'\n",
      "DEBUG:buildingmotif.database.graph_connection:Creating graph: '91c1f74b-5c7c-43ae-9459-bd84f3675cdd' in database with: 3 triples\n",
      "DEBUG:buildingmotif.database.table_connection:Creating database template: 'heating-capacity'\n",
      "DEBUG:buildingmotif.database.graph_connection:Creating graph: 'afead6d7-ab53-425c-ba46-92e680577ebc' in database with: 3 triples\n",
      "DEBUG:buildingmotif.database.table_connection:Creating database template: 'temperature'\n",
      "DEBUG:buildingmotif.database.graph_connection:Creating graph: '183fa8b3-cc1b-4255-84f6-14b77f1611ef' in database with: 3 triples\n",
      "DEBUG:buildingmotif.database.table_connection:Creating database template: 'active-heating-stages'\n",
      "DEBUG:buildingmotif.database.graph_connection:Creating graph: '60196367-794e-458c-9f04-1f2699585626' in database with: 3 triples\n",
      "DEBUG:buildingmotif.database.table_connection:Creating database template: 'active-cooling-stages'\n",
      "DEBUG:buildingmotif.database.graph_connection:Creating graph: '0f91fadd-ba01-402d-b1f0-86e9c955e892' in database with: 3 triples\n",
      "DEBUG:buildingmotif.database.table_connection:Creating database template: 'occ-heating-setpoint'\n",
      "DEBUG:buildingmotif.database.graph_connection:Creating graph: '035419b8-6f7d-49a8-bcda-6f3ea81d065c' in database with: 3 triples\n",
      "DEBUG:buildingmotif.database.table_connection:Creating database template: 'occ-cooling-setpoint'\n",
      "DEBUG:buildingmotif.database.graph_connection:Creating graph: 'bfdd703f-9f8d-409d-9670-6530762791cc' in database with: 3 triples\n",
      "DEBUG:buildingmotif.database.table_connection:Creating database template: 'unocc-heating-setpoint'\n",
      "DEBUG:buildingmotif.database.graph_connection:Creating graph: '8373737d-a002-42bf-9d73-0080c771a168' in database with: 3 triples\n",
      "DEBUG:buildingmotif.database.table_connection:Creating database template: 'unocc-cooling-setpoint'\n",
      "DEBUG:buildingmotif.database.graph_connection:Creating graph: 'c16739f5-b800-45a3-9c52-879ffde026fa' in database with: 3 triples\n",
      "DEBUG:buildingmotif.database.table_connection:Creating database template: 'effective-temperature-setpoint'\n",
      "DEBUG:buildingmotif.database.graph_connection:Creating graph: '73056942-d8b2-489a-b19d-3556627f1ad8' in database with: 3 triples\n",
      "DEBUG:buildingmotif.database.table_connection:Creating database template: 'effective-heating-setpoint'\n",
      "DEBUG:buildingmotif.database.graph_connection:Creating graph: '75ebccfd-53e3-458f-941a-3ca42a920976' in database with: 3 triples\n",
      "DEBUG:buildingmotif.database.table_connection:Creating database template: 'effective-cooling-setpoint'\n",
      "DEBUG:buildingmotif.database.graph_connection:Creating graph: '869c53c3-2685-4cbf-a6f1-8b961db56816' in database with: 3 triples\n",
      "DEBUG:buildingmotif.database.table_connection:Creating database template: 'tstat-stage_count'\n",
      "DEBUG:buildingmotif.database.graph_connection:Creating graph: '1af6aa04-de0d-483f-8369-af0aa6f5ad45' in database with: 3 triples\n",
      "DEBUG:buildingmotif.database.table_connection:Creating database template: 'tstat-deadband'\n",
      "DEBUG:buildingmotif.database.graph_connection:Creating graph: '62056810-a172-4f5c-8790-9c2a273ee47b' in database with: 5 triples\n",
      "DEBUG:buildingmotif.database.table_connection:Creating database template: 'tstat-tolerance'\n",
      "DEBUG:buildingmotif.database.graph_connection:Creating graph: 'c16043e5-8598-42ea-a4d7-f732765c3ad8' in database with: 5 triples\n",
      "DEBUG:buildingmotif.database.table_connection:Creating database template: 'tstat-resolution'\n",
      "DEBUG:buildingmotif.database.graph_connection:Creating graph: '66e1703c-2280-435d-92bf-8b9e1fe61633' in database with: 3 triples\n",
      "DEBUG:buildingmotif.database.table_connection:Creating database template: 'tstat-active'\n",
      "DEBUG:buildingmotif.database.graph_connection:Creating graph: 'bd77871b-0efb-4ba4-894b-d79da68fd21d' in database with: 2 triples\n",
      "DEBUG:buildingmotif.database.table_connection:Creating database template: 'timezone'\n",
      "DEBUG:buildingmotif.database.graph_connection:Creating graph: 'a12795f0-8010-44bf-b500-d32def3326a8' in database with: 2 triples\n",
      "DEBUG:buildingmotif.database.table_connection:Creating database template: 'latitude'\n",
      "DEBUG:buildingmotif.database.graph_connection:Creating graph: 'fc93b6ca-2598-4ba8-bd24-01df2bf91939' in database with: 3 triples\n",
      "DEBUG:buildingmotif.database.table_connection:Creating database template: 'longitude'\n",
      "DEBUG:buildingmotif.database.graph_connection:Creating graph: 'b5a5ba02-4607-476a-9368-151ff3790af9' in database with: 3 triples\n",
      "DEBUG:buildingmotif.database.table_connection:Creating database template: 'noaastation'\n",
      "DEBUG:buildingmotif.database.graph_connection:Creating graph: 'a8a1f412-1bab-49c8-97fe-1eb67e988644' in database with: 1 triples\n",
      "DEBUG:buildingmotif.database.table_connection:Creating database template: 'volttron-external-reference'\n",
      "DEBUG:buildingmotif.database.graph_connection:Creating graph: '29061ef1-920b-4834-a5bb-eea559b5752d' in database with: 2 triples\n",
      "DEBUG:buildingmotif.database.table_connection:Creating database template: 'point'\n",
      "DEBUG:buildingmotif.database.graph_connection:Creating graph: '546b35d3-782e-4b99-87a6-e105f9dbc925' in database with: 2 triples\n",
      "DEBUG:buildingmotif.database.table_connection:Creating depencency from templates with ids: '1' and: '14'\n",
      "DEBUG:buildingmotif.database.table_connection:Creating depencency from templates with ids: '1' and: '2'\n",
      "DEBUG:buildingmotif.database.table_connection:Creating depencency from templates with ids: '1' and: '16'\n",
      "DEBUG:buildingmotif.database.table_connection:Creating depencency from templates with ids: '1' and: '3'\n",
      "DEBUG:buildingmotif.database.table_connection:Creating depencency from templates with ids: '2' and: '19'\n",
      "DEBUG:buildingmotif.database.table_connection:Creating depencency from templates with ids: '3' and: '19'\n",
      "DEBUG:buildingmotif.database.table_connection:Creating depencency from templates with ids: '3' and: '21'\n",
      "DEBUG:buildingmotif.database.table_connection:Creating depencency from templates with ids: '3' and: '20'\n",
      "DEBUG:buildingmotif.database.table_connection:Creating depencency from templates with ids: '4' and: '24'\n",
      "DEBUG:buildingmotif.database.table_connection:Creating depencency from templates with ids: '4' and: '25'\n",
      "DEBUG:buildingmotif.database.table_connection:Creating depencency from templates with ids: '4' and: '22'\n",
      "DEBUG:buildingmotif.database.table_connection:Creating depencency from templates with ids: '4' and: '23'\n",
      "DEBUG:buildingmotif.database.table_connection:Creating depencency from templates with ids: '5' and: '36'\n",
      "DEBUG:buildingmotif.database.table_connection:Creating depencency from templates with ids: '5' and: '37'\n",
      "DEBUG:buildingmotif.database.table_connection:Creating depencency from templates with ids: '5' and: '38'\n",
      "DEBUG:buildingmotif.database.table_connection:Creating depencency from templates with ids: '5' and: '40'\n",
      "DEBUG:buildingmotif.database.table_connection:Creating depencency from templates with ids: '5' and: '39'\n",
      "DEBUG:buildingmotif.database.table_connection:Creating depencency from templates with ids: '6' and: '29'\n",
      "DEBUG:buildingmotif.database.table_connection:Creating depencency from templates with ids: '6' and: '30'\n",
      "DEBUG:buildingmotif.database.table_connection:Creating depencency from templates with ids: '6' and: '31'\n",
      "DEBUG:buildingmotif.database.table_connection:Creating depencency from templates with ids: '6' and: '32'\n",
      "DEBUG:buildingmotif.database.table_connection:Creating depencency from templates with ids: '6' and: '5'\n",
      "DEBUG:buildingmotif.database.table_connection:Creating depencency from templates with ids: '6' and: '26'\n",
      "DEBUG:buildingmotif.database.table_connection:Creating depencency from templates with ids: '6' and: '27'\n",
      "DEBUG:buildingmotif.database.table_connection:Creating depencency from templates with ids: '6' and: '28'\n",
      "DEBUG:buildingmotif.database.table_connection:Creating depencency from templates with ids: '7' and: '41'\n",
      "DEBUG:buildingmotif.database.table_connection:Creating depencency from templates with ids: '7' and: '42'\n",
      "DEBUG:buildingmotif.database.table_connection:Creating depencency from templates with ids: '7' and: '43'\n",
      "DEBUG:buildingmotif.database.table_connection:Creating depencency from templates with ids: '7' and: '44'\n",
      "DEBUG:buildingmotif.database.table_connection:Creating depencency from templates with ids: '1' and: '2'\n",
      "DEBUG:buildingmotif.database.table_connection:Creating depencency from templates with ids: '1' and: '3'\n",
      "DEBUG:buildingmotif.database.table_connection:Creating depencency from templates with ids: '1' and: '14'\n",
      "DEBUG:buildingmotif.database.table_connection:Creating depencency from templates with ids: '1' and: '16'\n",
      "DEBUG:buildingmotif.database.table_connection:Creating depencency from templates with ids: '2' and: '19'\n",
      "DEBUG:buildingmotif.database.table_connection:Creating depencency from templates with ids: '3' and: '19'\n",
      "DEBUG:buildingmotif.database.table_connection:Creating depencency from templates with ids: '3' and: '20'\n",
      "DEBUG:buildingmotif.database.table_connection:Creating depencency from templates with ids: '3' and: '21'\n",
      "DEBUG:buildingmotif.database.table_connection:Creating depencency from templates with ids: '4' and: '22'\n",
      "DEBUG:buildingmotif.database.table_connection:Creating depencency from templates with ids: '4' and: '23'\n",
      "DEBUG:buildingmotif.database.table_connection:Creating depencency from templates with ids: '4' and: '24'\n",
      "DEBUG:buildingmotif.database.table_connection:Creating depencency from templates with ids: '4' and: '25'\n",
      "DEBUG:buildingmotif.database.table_connection:Creating depencency from templates with ids: '5' and: '36'\n",
      "DEBUG:buildingmotif.database.table_connection:Creating depencency from templates with ids: '5' and: '37'\n",
      "DEBUG:buildingmotif.database.table_connection:Creating depencency from templates with ids: '5' and: '38'\n",
      "DEBUG:buildingmotif.database.table_connection:Creating depencency from templates with ids: '5' and: '39'\n",
      "DEBUG:buildingmotif.database.table_connection:Creating depencency from templates with ids: '5' and: '40'\n",
      "DEBUG:buildingmotif.database.table_connection:Creating depencency from templates with ids: '6' and: '5'\n",
      "DEBUG:buildingmotif.database.table_connection:Creating depencency from templates with ids: '6' and: '26'\n",
      "DEBUG:buildingmotif.database.table_connection:Creating depencency from templates with ids: '6' and: '27'\n",
      "DEBUG:buildingmotif.database.table_connection:Creating depencency from templates with ids: '6' and: '28'\n",
      "DEBUG:buildingmotif.database.table_connection:Creating depencency from templates with ids: '6' and: '29'\n",
      "DEBUG:buildingmotif.database.table_connection:Creating depencency from templates with ids: '6' and: '30'\n",
      "DEBUG:buildingmotif.database.table_connection:Creating depencency from templates with ids: '6' and: '31'\n",
      "DEBUG:buildingmotif.database.table_connection:Creating depencency from templates with ids: '6' and: '32'\n",
      "DEBUG:buildingmotif.database.table_connection:Creating depencency from templates with ids: '7' and: '41'\n",
      "DEBUG:buildingmotif.database.table_connection:Creating depencency from templates with ids: '7' and: '42'\n",
      "DEBUG:buildingmotif.database.table_connection:Creating depencency from templates with ids: '7' and: '43'\n",
      "DEBUG:buildingmotif.database.table_connection:Creating depencency from templates with ids: '7' and: '44'\n",
      "/Users/lazlopaul/Desktop/HPflex/Semantic_MPC_Interface/.venv/lib/python3.10/site-packages/pyshacl/extras/__init__.py:46: Warning: Extra \"js\" is not satisfied because requirement pyduktape2 is not installed.\n",
      "  warn(Warning(f\"Extra \\\"{extra_name}\\\" is not satisfied because requirement {req} is not installed.\"))\n"
     ]
    },
    {
     "name": "stdout",
     "output_type": "stream",
     "text": [
      "{'area_unit', 'name', 'area_name', 'area_value'}\n",
      "{'heating_COP_name', 'heating_capacity_name', 'cooling_COP_value', 'cooling_capacity_value', 'heating_COP_value', 'cooling_capacity_name', 'name', 'heating_capacity_value', 'cooling_COP_name'}\n",
      "{'setpoint_deadband-unit', 'tolerance-value', 'active-value', 'resolution-value', 'resolution', 'stage_count', 'stage_count-value', 'setpoint_deadband-value', 'setpoint_deadband', 'tolerance', 'active', 'name', 'tolerance-unit', 'resolution-unit'}\n",
      "{'azimuth_name', 'area_name', 'area_unit', 'area_value', 'tilt_name', 'name', 'azimuth_value', 'tilt_value'}\n"
     ]
    }
   ],
   "source": [
    "s = HPFlexSurvey('test_site','test_build','.', overwrite=True)"
   ]
  },
  {
   "cell_type": "code",
   "execution_count": 3,
   "id": "392ad0e5",
   "metadata": {},
   "outputs": [
    {
     "name": "stdout",
     "output_type": "stream",
     "text": [
      "{'site_id': 'test_site', 'hvac_type': 'hp-rtu', 'empty_params': {'space': ['area_name'], 'hp-rtu': ['heating_COP_name', 'heating_capacity_name', 'cooling_capacity_name', 'cooling_COP_name'], 'tstat': [], 'window': ['azimuth_name', 'area_name', 'tilt_name']}, 'param_mapping': {'space': {'area_value': 'area'}, 'hp-rtu': {'cooling_COP_value': 'cooling_COP', 'cooling_capacity_value': 'cooling_capacity', 'heating_COP_value': 'heating_COP', 'heating_capacity_value': 'heating_capacity'}, 'tstat': {}, 'window': {'area_value': 'area', 'azimuth_value': 'azimuth', 'tilt_value': 'tilt'}}, 'hvacs_feed_hvacs': {}, 'hvacs_feed_zones': {'hvac_1': ['zone_1'], 'hvac_2': ['zone_2'], 'hvac_3': ['zone_3']}, 'zones_contain_spaces': {'zone_1': ['space_1_1', 'space_1_2'], 'zone_2': ['space_2_1'], 'zone_3': ['space_3_1']}, 'zones_contain_windows': {'zone_1': ['window_1_1', 'window_1_2'], 'zone_2': ['window_2_1', 'window_2_2'], 'zone_3': ['window_3_1', 'window_3_2', 'window_3_3']}}\n"
     ]
    }
   ],
   "source": [
    "s.easy_config(zone_space_window_list=[(2,2),(1,2),(1,3)])"
   ]
  },
  {
   "cell_type": "code",
   "execution_count": null,
   "id": "44deb5c9",
   "metadata": {},
   "outputs": [],
   "source": []
  }
 ],
 "metadata": {
  "kernelspec": {
   "display_name": "creating-brick-model",
   "language": "python",
   "name": "python3"
  },
  "language_info": {
   "codemirror_mode": {
    "name": "ipython",
    "version": 3
   },
   "file_extension": ".py",
   "mimetype": "text/x-python",
   "name": "python",
   "nbconvert_exporter": "python",
   "pygments_lexer": "ipython3",
   "version": "3.10.0"
  }
 },
 "nbformat": 4,
 "nbformat_minor": 5
}
